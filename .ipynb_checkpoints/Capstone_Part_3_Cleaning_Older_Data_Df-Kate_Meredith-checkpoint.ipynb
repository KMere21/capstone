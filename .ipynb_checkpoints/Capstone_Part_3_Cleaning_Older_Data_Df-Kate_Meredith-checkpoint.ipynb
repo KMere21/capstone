{
 "cells": [
  {
   "cell_type": "code",
   "execution_count": 1332,
   "id": "cb48d9df",
   "metadata": {},
   "outputs": [],
   "source": [
    "### use this as template to clean second chunk of data\n",
    "## continue with lat and lon\n",
    "#add commentary - if redoing would sort out columns first, then combine and clean up datatypes"
   ]
  },
  {
   "cell_type": "markdown",
   "id": "e51f0097",
   "metadata": {},
   "source": [
    "# Capstone Project Part 3: Cleaning \"Older_Data_DF\"\n",
    "\n",
    "**Authur:** Kate Meredith  \n",
    "\n",
    "**Date:** September-November 2022\n",
    "\n",
    "**Notebook #:** 3 of\n",
    "\n",
    "## Background\n",
    "\n",
    "**Source:** Data was collected from [CoffeeReview.com](https://www.coffeereview.com/) and grouped into two DataFrames for cleaning. See \"Capstone Project Part 1\" for more information on scraping. See notebook on cleaning \"older_data_df\" for cleaning of that portion of data.\n",
    "\n",
    "**Initial Data Overview:** The following outlines the column headers for the data initially scraped and corresponding clean up plan:\n",
    "\n",
    "Independent Variables:\n",
    "- `coffee_name` \n",
    "    - def: name of coffee reviewed\n",
    "    - options: use text vectoring to tokenize or drop; one-hot encoding likely impractical given number of variations in names\n",
    "- `roaster_name` \n",
    "    - def: name of roaster that roasted the coffee\n",
    "    - options: one-hot encoding or drop\n",
    "- `roaster_location` \n",
    "    - def: location of coffee roaster\n",
    "    - turn into latitude and longitude\n",
    "- `x1`\n",
    "    - def: placedholder for header, expect to see `coffee_origin`\n",
    "    - these headers will become column headers in the DataFrame; webpage format was inconsistent, so pulled headers in one column, followed by score in next so that scores can be correctly attributed to the right header\n",
    "- `coffee_origin` \n",
    "    - def: location of coffee bean origination\n",
    "    - turn into latitude and longitude\n",
    "- `x2`\n",
    "    - def: placedholder for header, expect to see `roast_level`\n",
    "    - these headers will become column headers in the DataFrame; webpage format was inconsistent, so pulled headers in one column, followed by score in next so that scores can be correctly attributed to the right header- `roast_level` \n",
    "    - def: describes how long and thoroughly the beans are cooked, ranging from light to dark\n",
    "    - options: encode numerically (ordinal values) or drop; agtron scores measure roast level with number so may drop this\n",
    "- `x3`\n",
    "    - def: placedholder for header, expect to see `agtron`\n",
    "    - these headers will become column headers in the DataFrame; webpage format was inconsistent, so pulled headers in one column, followed by score in next so that scores can be correctly attributed to the right header\n",
    "- `agtron` \n",
    "    - def: numerical measure of how roasted the beans are; first number is taken from measuring the whole beans, second from the grounds\n",
    "    - options: split into two columns, one for `bean_agtron`, one for `ground_agtron`\n",
    "- `x4`\n",
    "    - def: placedholder for header, expect to see `est_price`\n",
    "    - these headers will become column headers in the DataFrame; webpage format was inconsistent, so pulled headers in one column, followed by score in next so that scores can be correctly attributed to the right header\n",
    "- `est_price`\n",
    "    - def: est cost of the coffee\n",
    "    - options: clean up and turn into measure that can be compared (such as USD cost per ounce) or drop; dropping may be necessary for sake of time given how complex clean up is (different measurement amounts and inflation affecting cost (data spans 1997 to 2022)\n",
    "- `h1`\n",
    "    - def: placedholder for first header\n",
    "    - these headers will become column headers in the DataFrame; webpage format was inconsistent, so pulled headers in one column, followed by score in next so that scores can be correctly attributed to the right header\n",
    "- `s1`\n",
    "    - def: first score listed on webpage\n",
    "    - webpage format was inconsistent; need to verify which header the score corresponds to and move to the appropriate new column\n",
    "- `h2`\n",
    "    - def: placedholder for second header\n",
    "    - see header above\n",
    "- `s2`\n",
    "    - def: second score listed on webpage\n",
    "    - see above\n",
    "- `h3`\n",
    "    - def: placedholder for third header\n",
    "    - see header above\n",
    "- `s3`\n",
    "    - def: third score listed on webpage\n",
    "    - see above\n",
    "- `p1`\n",
    "    - def: first paragraph scraped from webpage\n",
    "    - verify if paragraphs all report same type of information; then use text vecotrizing to tokenize\n",
    "- `p2`\n",
    "    - def: second paragraph scraped from webpage\n",
    "    - verify if paragraphs all report same type of information; then use text vecotrizing to tokenize\n",
    "- `p3`\n",
    "    - def: third paragraph scraped from webpage\n",
    "    - verify if paragraphs all report same type of information; then use text vecotrizing to tokenize; expect there to be some difference in type of content in paragraph 3 as format changed over the years\n",
    "\n",
    "Target Variable:\n",
    "- `overall_score`\n",
    "    - def: overall score awarded to coffee\n",
    "    - verify data type is numeric, should not need altering otherwise\n",
    "    \n",
    "Note: Unlike the first set, this set does not have results for `h4`, `s4`, `h5`, or `s5`."
   ]
  },
  {
   "cell_type": "markdown",
   "id": "1aa93202",
   "metadata": {},
   "source": [
    "## References\n",
    "\n",
    "- Referenced this [article](https://www.geeksforgeeks.org/split-a-text-column-into-two-columns-in-pandas-dataframe/) for splitting columns and keeping in dataframe \n",
    "- For [splitting columns with nans](https://stackoverflow.com/questions/69354795/how-to-skip-nan-values-when-splitting-up-a-column)\n",
    "- References for [cleaning up measurement columns](https://www.geeksforgeeks.org/how-to-replace-values-in-column-based-on-condition-in-pandas/)\n",
    "- Used [Regex 101](https://regex101.com/) to verify regex replacements\n",
    "- Used these articles to address turning datatypes to integers with nan present:\n",
    "    - [Changing to nans](https://stackoverflow.com/questions/34794067/how-to-set-a-cell-to-nan-in-a-pandas-dataframe)\n",
    "    - [Using numpy to allow nans in integers](https://stackoverflow.com/questions/21287624/convert-pandas-column-containing-nans-to-dtype-int)\n",
    "- Used this stack overflow [article](https://stackoverflow.com/questions/25888396/how-to-get-latitude-longitude-with-python) to acquire lat and long for locations\n",
    "- Used this [article](https://stackoverflow.com/questions/55078654/troubelshooting-raise-typeerrorquote-from-bytes-expected-bytes) to address \"quote from bytes\" error when adding lat and lon."
   ]
  },
  {
   "cell_type": "code",
   "execution_count": 1333,
   "id": "cb1d4ceb",
   "metadata": {},
   "outputs": [],
   "source": [
    "#Importing libraries.\n",
    "import numpy as np\n",
    "import pandas as pd\n",
    "import matplotlib.pyplot as plt\n",
    "import seaborn as sns"
   ]
  },
  {
   "cell_type": "code",
   "execution_count": 1334,
   "id": "2b004ec5",
   "metadata": {},
   "outputs": [],
   "source": [
    "#import first dataset\n",
    "older_df = pd.read_csv('older_data_df.csv')"
   ]
  },
  {
   "cell_type": "code",
   "execution_count": 1335,
   "id": "762f6839",
   "metadata": {},
   "outputs": [
    {
     "data": {
      "text/plain": [
       "(1788, 21)"
      ]
     },
     "execution_count": 1335,
     "metadata": {},
     "output_type": "execute_result"
    }
   ],
   "source": [
    "older_df.shape"
   ]
  },
  {
   "cell_type": "code",
   "execution_count": 1336,
   "id": "e93a0f6c",
   "metadata": {},
   "outputs": [
    {
     "name": "stdout",
     "output_type": "stream",
     "text": [
      "<class 'pandas.core.frame.DataFrame'>\n",
      "RangeIndex: 1788 entries, 0 to 1787\n",
      "Data columns (total 21 columns):\n",
      " #   Column            Non-Null Count  Dtype \n",
      "---  ------            --------------  ----- \n",
      " 0   coffee_name       1788 non-null   object\n",
      " 1   roaster_name      1788 non-null   object\n",
      " 2   overall_score     1788 non-null   object\n",
      " 3   roaster_location  1786 non-null   object\n",
      " 4   x1                1788 non-null   object\n",
      " 5   coffee_origin     1566 non-null   object\n",
      " 6   x2                1788 non-null   object\n",
      " 7   roast_level       1732 non-null   object\n",
      " 8   x3                1788 non-null   object\n",
      " 9   agtron            1788 non-null   object\n",
      " 10  x4                1788 non-null   object\n",
      " 11  est_price         1727 non-null   object\n",
      " 12  h1                1788 non-null   object\n",
      " 13  s1                1785 non-null   object\n",
      " 14  h2                1788 non-null   object\n",
      " 15  s2                1783 non-null   object\n",
      " 16  h3                1788 non-null   object\n",
      " 17  s3                1788 non-null   object\n",
      " 18  p1                1788 non-null   object\n",
      " 19  p2                1788 non-null   object\n",
      " 20  p3                1788 non-null   object\n",
      "dtypes: object(21)\n",
      "memory usage: 293.5+ KB\n"
     ]
    }
   ],
   "source": [
    "older_df.info()"
   ]
  },
  {
   "cell_type": "code",
   "execution_count": 1337,
   "id": "3ce6ff83",
   "metadata": {},
   "outputs": [
    {
     "data": {
      "text/html": [
       "<div>\n",
       "<style scoped>\n",
       "    .dataframe tbody tr th:only-of-type {\n",
       "        vertical-align: middle;\n",
       "    }\n",
       "\n",
       "    .dataframe tbody tr th {\n",
       "        vertical-align: top;\n",
       "    }\n",
       "\n",
       "    .dataframe thead th {\n",
       "        text-align: right;\n",
       "    }\n",
       "</style>\n",
       "<table border=\"1\" class=\"dataframe\">\n",
       "  <thead>\n",
       "    <tr style=\"text-align: right;\">\n",
       "      <th></th>\n",
       "      <th>coffee_name</th>\n",
       "      <th>roaster_name</th>\n",
       "      <th>overall_score</th>\n",
       "      <th>roaster_location</th>\n",
       "      <th>x1</th>\n",
       "      <th>coffee_origin</th>\n",
       "      <th>x2</th>\n",
       "      <th>roast_level</th>\n",
       "      <th>x3</th>\n",
       "      <th>agtron</th>\n",
       "      <th>...</th>\n",
       "      <th>est_price</th>\n",
       "      <th>h1</th>\n",
       "      <th>s1</th>\n",
       "      <th>h2</th>\n",
       "      <th>s2</th>\n",
       "      <th>h3</th>\n",
       "      <th>s3</th>\n",
       "      <th>p1</th>\n",
       "      <th>p2</th>\n",
       "      <th>p3</th>\n",
       "    </tr>\n",
       "  </thead>\n",
       "  <tbody>\n",
       "    <tr>\n",
       "      <th>0</th>\n",
       "      <td>Doi Chaang Wild Civet Coffee</td>\n",
       "      <td>Doi Chaang Coffee</td>\n",
       "      <td>90</td>\n",
       "      <td>Calgary, Alberta, Canada</td>\n",
       "      <td>Coffee Origin:</td>\n",
       "      <td>Northern Thailand.</td>\n",
       "      <td>Roast Level:</td>\n",
       "      <td>Medium-Light</td>\n",
       "      <td>Agtron:</td>\n",
       "      <td>49/80</td>\n",
       "      <td>...</td>\n",
       "      <td>June 2009</td>\n",
       "      <td>Aroma:</td>\n",
       "      <td>8</td>\n",
       "      <td>Acidity:</td>\n",
       "      <td>8</td>\n",
       "      <td>Body:</td>\n",
       "      <td>7\\t\\t\\t\\t\\t\\t\\t</td>\n",
       "      <td>Blind Assessment: Intriguing mid-tones through...</td>\n",
       "      <td>Notes: Doi Chaang is a single-estate coffee pr...</td>\n",
       "      <td>Who Should Drink It: Culinary adventurers who ...</td>\n",
       "    </tr>\n",
       "    <tr>\n",
       "      <th>1</th>\n",
       "      <td>Kenya AA Lenana</td>\n",
       "      <td>Après Coffee</td>\n",
       "      <td>92</td>\n",
       "      <td>Lancaster, Pennsylvania</td>\n",
       "      <td>Coffee Origin:</td>\n",
       "      <td>South-central Kenya</td>\n",
       "      <td>Roast Level:</td>\n",
       "      <td>Medium-Dark</td>\n",
       "      <td>Agtron:</td>\n",
       "      <td>42/53</td>\n",
       "      <td>...</td>\n",
       "      <td>June 2009</td>\n",
       "      <td>Aroma:</td>\n",
       "      <td>8</td>\n",
       "      <td>Acidity:</td>\n",
       "      <td>8</td>\n",
       "      <td>Body:</td>\n",
       "      <td>7\\t\\t\\t\\t\\t\\t\\t</td>\n",
       "      <td>Blind Assessment: Rich, very intense aroma: da...</td>\n",
       "      <td>Notes: Despite stresses brought on by social u...</td>\n",
       "      <td>Who Should Drink It: Those who prefer understa...</td>\n",
       "    </tr>\n",
       "    <tr>\n",
       "      <th>2</th>\n",
       "      <td>Mele 100% Kona Coffee</td>\n",
       "      <td>Hula Daddy</td>\n",
       "      <td>92</td>\n",
       "      <td>Holualoa, Hawaii</td>\n",
       "      <td>Coffee Origin:</td>\n",
       "      <td>Holualoa, North Kona growing district, Hawaii.</td>\n",
       "      <td>Roast Level:</td>\n",
       "      <td>Medium-Light</td>\n",
       "      <td>Agtron:</td>\n",
       "      <td>51/73</td>\n",
       "      <td>...</td>\n",
       "      <td>June 2009</td>\n",
       "      <td>Aroma:</td>\n",
       "      <td>8</td>\n",
       "      <td>Acidity:</td>\n",
       "      <td>8</td>\n",
       "      <td>Body:</td>\n",
       "      <td>7\\t\\t\\t\\t\\t\\t\\t</td>\n",
       "      <td>Blind Assessment: An exciting, rather unusual ...</td>\n",
       "      <td>Notes: A blend of coffees processed by a varie...</td>\n",
       "      <td>Who Should Drink It: An exhilarating sensory r...</td>\n",
       "    </tr>\n",
       "    <tr>\n",
       "      <th>3</th>\n",
       "      <td>Kenya Peaberry Thika Gethumbwini</td>\n",
       "      <td>JBC Coffee Roasters</td>\n",
       "      <td>96</td>\n",
       "      <td>Madison, Wisconsin</td>\n",
       "      <td>Coffee Origin:</td>\n",
       "      <td>South-central Kenya</td>\n",
       "      <td>Roast Level:</td>\n",
       "      <td>Light</td>\n",
       "      <td>Agtron:</td>\n",
       "      <td>57/90</td>\n",
       "      <td>...</td>\n",
       "      <td>June 2009</td>\n",
       "      <td>Aroma:</td>\n",
       "      <td>8</td>\n",
       "      <td>Acidity:</td>\n",
       "      <td>9</td>\n",
       "      <td>Body:</td>\n",
       "      <td>8\\t\\t\\t\\t\\t\\t\\t</td>\n",
       "      <td>Blind Assessment: Clean, complex, impeccable. ...</td>\n",
       "      <td>Notes: Despite national coffee leadership mark...</td>\n",
       "      <td>Who Should Drink It: Strikingly complete expre...</td>\n",
       "    </tr>\n",
       "    <tr>\n",
       "      <th>4</th>\n",
       "      <td>Kenya Gititu Peaberry</td>\n",
       "      <td>Atomic Cafe Coffee Roasters</td>\n",
       "      <td>92</td>\n",
       "      <td>Beverly, Massachusetts</td>\n",
       "      <td>Coffee Origin:</td>\n",
       "      <td>South-central Kenya</td>\n",
       "      <td>Roast Level:</td>\n",
       "      <td>Medium</td>\n",
       "      <td>Agtron:</td>\n",
       "      <td>44/63</td>\n",
       "      <td>...</td>\n",
       "      <td>June 2009</td>\n",
       "      <td>Aroma:</td>\n",
       "      <td>8</td>\n",
       "      <td>Acidity:</td>\n",
       "      <td>8</td>\n",
       "      <td>Body:</td>\n",
       "      <td>8\\t\\t\\t\\t\\t\\t\\t</td>\n",
       "      <td>Blind Assessment: Rich, complex fruit aroma, i...</td>\n",
       "      <td>Notes: Despite stresses brought on by social u...</td>\n",
       "      <td>Who Should Drink It: Lovers of sweet fruit fla...</td>\n",
       "    </tr>\n",
       "  </tbody>\n",
       "</table>\n",
       "<p>5 rows × 21 columns</p>\n",
       "</div>"
      ],
      "text/plain": [
       "                        coffee_name                 roaster_name  \\\n",
       "0      Doi Chaang Wild Civet Coffee            Doi Chaang Coffee   \n",
       "1                   Kenya AA Lenana                 Après Coffee   \n",
       "2             Mele 100% Kona Coffee                   Hula Daddy   \n",
       "3  Kenya Peaberry Thika Gethumbwini          JBC Coffee Roasters   \n",
       "4             Kenya Gititu Peaberry  Atomic Cafe Coffee Roasters   \n",
       "\n",
       "  overall_score          roaster_location              x1  \\\n",
       "0            90  Calgary, Alberta, Canada  Coffee Origin:   \n",
       "1            92   Lancaster, Pennsylvania  Coffee Origin:   \n",
       "2            92          Holualoa, Hawaii  Coffee Origin:   \n",
       "3            96        Madison, Wisconsin  Coffee Origin:   \n",
       "4            92    Beverly, Massachusetts  Coffee Origin:   \n",
       "\n",
       "                                    coffee_origin            x2   roast_level  \\\n",
       "0                              Northern Thailand.  Roast Level:  Medium-Light   \n",
       "1                             South-central Kenya  Roast Level:   Medium-Dark   \n",
       "2  Holualoa, North Kona growing district, Hawaii.  Roast Level:  Medium-Light   \n",
       "3                             South-central Kenya  Roast Level:         Light   \n",
       "4                             South-central Kenya  Roast Level:        Medium   \n",
       "\n",
       "        x3 agtron  ...  est_price      h1 s1        h2 s2     h3  \\\n",
       "0  Agtron:  49/80  ...  June 2009  Aroma:  8  Acidity:  8  Body:   \n",
       "1  Agtron:  42/53  ...  June 2009  Aroma:  8  Acidity:  8  Body:   \n",
       "2  Agtron:  51/73  ...  June 2009  Aroma:  8  Acidity:  8  Body:   \n",
       "3  Agtron:  57/90  ...  June 2009  Aroma:  8  Acidity:  9  Body:   \n",
       "4  Agtron:  44/63  ...  June 2009  Aroma:  8  Acidity:  8  Body:   \n",
       "\n",
       "                s3                                                 p1  \\\n",
       "0  7\\t\\t\\t\\t\\t\\t\\t  Blind Assessment: Intriguing mid-tones through...   \n",
       "1  7\\t\\t\\t\\t\\t\\t\\t  Blind Assessment: Rich, very intense aroma: da...   \n",
       "2  7\\t\\t\\t\\t\\t\\t\\t  Blind Assessment: An exciting, rather unusual ...   \n",
       "3  8\\t\\t\\t\\t\\t\\t\\t  Blind Assessment: Clean, complex, impeccable. ...   \n",
       "4  8\\t\\t\\t\\t\\t\\t\\t  Blind Assessment: Rich, complex fruit aroma, i...   \n",
       "\n",
       "                                                  p2  \\\n",
       "0  Notes: Doi Chaang is a single-estate coffee pr...   \n",
       "1  Notes: Despite stresses brought on by social u...   \n",
       "2  Notes: A blend of coffees processed by a varie...   \n",
       "3  Notes: Despite national coffee leadership mark...   \n",
       "4  Notes: Despite stresses brought on by social u...   \n",
       "\n",
       "                                                  p3  \n",
       "0  Who Should Drink It: Culinary adventurers who ...  \n",
       "1  Who Should Drink It: Those who prefer understa...  \n",
       "2  Who Should Drink It: An exhilarating sensory r...  \n",
       "3  Who Should Drink It: Strikingly complete expre...  \n",
       "4  Who Should Drink It: Lovers of sweet fruit fla...  \n",
       "\n",
       "[5 rows x 21 columns]"
      ]
     },
     "execution_count": 1337,
     "metadata": {},
     "output_type": "execute_result"
    }
   ],
   "source": [
    "older_df.head()"
   ]
  },
  {
   "cell_type": "markdown",
   "id": "265d00ad",
   "metadata": {},
   "source": [
    "### Checking Values in Each Column"
   ]
  },
  {
   "cell_type": "code",
   "execution_count": 1338,
   "id": "661d9cff",
   "metadata": {},
   "outputs": [
    {
     "data": {
      "text/plain": [
       "Sumatra Mandheling                        18\n",
       "Kenya AA                                  16\n",
       "Breakfast Blend                           15\n",
       "Ethiopia Yirgacheffe                      14\n",
       "Sumatra                                   12\n",
       "                                          ..\n",
       "Detroit St. Decaf                          1\n",
       "RayJen Roasters Reserve Decaf Espresso     1\n",
       "PT’s Decaf Espresso Blend                  1\n",
       "Dancing Goats Decaf                        1\n",
       "Colombian Blend                            1\n",
       "Name: coffee_name, Length: 1428, dtype: int64"
      ]
     },
     "execution_count": 1338,
     "metadata": {},
     "output_type": "execute_result"
    }
   ],
   "source": [
    "#coffee name value counts\n",
    "older_df['coffee_name'].value_counts()"
   ]
  },
  {
   "cell_type": "code",
   "execution_count": 1339,
   "id": "7cec4e49",
   "metadata": {},
   "outputs": [
    {
     "data": {
      "text/plain": [
       "Green Mountain Coffee         93\n",
       "Paradise Roasters             42\n",
       "The Roasterie                 42\n",
       "Terroir Coffee                40\n",
       "PT's Coffee Roasting Co.      40\n",
       "                              ..\n",
       "Santa Cruz Coffee Roasting     1\n",
       "Cafe Bello                     1\n",
       "Kona Premium Coffee            1\n",
       "North Pole Coffee Roasting     1\n",
       "Greenwich Mountain Estate      1\n",
       "Name: roaster_name, Length: 581, dtype: int64"
      ]
     },
     "execution_count": 1339,
     "metadata": {},
     "output_type": "execute_result"
    }
   ],
   "source": [
    "#roaster name value counts\n",
    "older_df['roaster_name'].value_counts()"
   ]
  },
  {
   "cell_type": "code",
   "execution_count": 1340,
   "id": "4122e6f6",
   "metadata": {},
   "outputs": [
    {
     "data": {
      "text/plain": [
       "Seattle, Washington         103\n",
       "Waterbury, Vermont          100\n",
       "Acton, Massachusetts         47\n",
       "Kansas City, Missouri        39\n",
       "Chicago, Illinois            38\n",
       "                           ... \n",
       "Sturgeon Bay, Wisconsin       1\n",
       "Monrovia, California          1\n",
       "Canton, Massachusetts         1\n",
       "New Salem, Massachusetts      1\n",
       "Duluth, Minnesota             1\n",
       "Name: roaster_location, Length: 430, dtype: int64"
      ]
     },
     "execution_count": 1340,
     "metadata": {},
     "output_type": "execute_result"
    }
   ],
   "source": [
    "#roast location value counts\n",
    "older_df['roaster_location'].value_counts()"
   ]
  },
  {
   "cell_type": "code",
   "execution_count": 1341,
   "id": "671ec49c",
   "metadata": {},
   "outputs": [
    {
     "data": {
      "text/plain": [
       "Coffee Origin:    1309\n",
       "Roast Level:       479\n",
       "Name: x1, dtype: int64"
      ]
     },
     "execution_count": 1341,
     "metadata": {},
     "output_type": "execute_result"
    }
   ],
   "source": [
    "#x1 value counts\n",
    "older_df['x1'].value_counts()"
   ]
  },
  {
   "cell_type": "code",
   "execution_count": 1342,
   "id": "bcb01fc0",
   "metadata": {},
   "outputs": [
    {
     "data": {
      "text/plain": [
       "Not disclosed.                                                       178\n",
       "Medium-Dark                                                           99\n",
       "Not disclosed                                                         78\n",
       "Dark                                                                  57\n",
       "Not Disclosed                                                         49\n",
       "                                                                    ... \n",
       "Bolivia                                                                1\n",
       "Central America and Africa                                             1\n",
       "Guatemala and the Yirgacheffe growing region of southern Ethiopia      1\n",
       "Latin America and Indonesia                                            1\n",
       "Indonesia, Central and South America                                   1\n",
       "Name: coffee_origin, Length: 454, dtype: int64"
      ]
     },
     "execution_count": 1342,
     "metadata": {},
     "output_type": "execute_result"
    }
   ],
   "source": [
    "#coffee origin value counts\n",
    "older_df['coffee_origin'].value_counts()"
   ]
  },
  {
   "cell_type": "code",
   "execution_count": 1343,
   "id": "61483d32",
   "metadata": {},
   "outputs": [
    {
     "data": {
      "text/plain": [
       "Roast Level:    1309\n",
       "Agtron:          479\n",
       "Name: x2, dtype: int64"
      ]
     },
     "execution_count": 1343,
     "metadata": {},
     "output_type": "execute_result"
    }
   ],
   "source": [
    "#x2 value counts\n",
    "older_df['x2'].value_counts()"
   ]
  },
  {
   "cell_type": "code",
   "execution_count": 1344,
   "id": "90259327",
   "metadata": {},
   "outputs": [
    {
     "data": {
      "text/plain": [
       "Medium          371\n",
       "Medium-Dark     331\n",
       "/               211\n",
       "Medium-Light    196\n",
       "Very Dark       192\n",
       "               ... \n",
       "41/45             1\n",
       "43/44             1\n",
       "35/42             1\n",
       "32/34             1\n",
       "56/65             1\n",
       "Name: roast_level, Length: 195, dtype: int64"
      ]
     },
     "execution_count": 1344,
     "metadata": {},
     "output_type": "execute_result"
    }
   ],
   "source": [
    "#roast level value counts\n",
    "#note some of these jump to agtron values\n",
    "older_df['roast_level'].value_counts()"
   ]
  },
  {
   "cell_type": "code",
   "execution_count": 1345,
   "id": "5a686531",
   "metadata": {},
   "outputs": [
    {
     "data": {
      "text/plain": [
       "Agtron:         1309\n",
       "Review Date:     479\n",
       "Name: x3, dtype: int64"
      ]
     },
     "execution_count": 1345,
     "metadata": {},
     "output_type": "execute_result"
    }
   ],
   "source": [
    "#x3 value counts\n",
    "older_df['x3'].value_counts()"
   ]
  },
  {
   "cell_type": "code",
   "execution_count": 1346,
   "id": "e3d854af",
   "metadata": {},
   "outputs": [
    {
     "data": {
      "text/plain": [
       "0/0           40\n",
       "March 2002    18\n",
       "/             16\n",
       "March 1999    15\n",
       "June 1998     14\n",
       "              ..\n",
       "19/37          1\n",
       "26/48          1\n",
       "33/44          1\n",
       "36/47          1\n",
       "41/48          1\n",
       "Name: agtron, Length: 708, dtype: int64"
      ]
     },
     "execution_count": 1346,
     "metadata": {},
     "output_type": "execute_result"
    }
   ],
   "source": [
    "#agtron value counts\n",
    "#note some of these jump to dates\n",
    "older_df['agtron'].value_counts()"
   ]
  },
  {
   "cell_type": "code",
   "execution_count": 1347,
   "id": "e35ebc24",
   "metadata": {},
   "outputs": [
    {
     "data": {
      "text/plain": [
       "Review Date:    1247\n",
       "Aroma:           479\n",
       "Est. Price:       62\n",
       "Name: x4, dtype: int64"
      ]
     },
     "execution_count": 1347,
     "metadata": {},
     "output_type": "execute_result"
    }
   ],
   "source": [
    "#x4 value counts\n",
    "older_df['x4'].value_counts()"
   ]
  },
  {
   "cell_type": "code",
   "execution_count": 1348,
   "id": "caefa04d",
   "metadata": {},
   "outputs": [
    {
     "data": {
      "text/plain": [
       "7                   155\n",
       "8                   109\n",
       "6                    87\n",
       "January 2009         37\n",
       "5                    30\n",
       "                   ... \n",
       "$11.95/16 ounces      1\n",
       "December 1999         1\n",
       "November 1999         1\n",
       "4.0                   1\n",
       "May 2002              1\n",
       "Name: est_price, Length: 137, dtype: int64"
      ]
     },
     "execution_count": 1348,
     "metadata": {},
     "output_type": "execute_result"
    }
   ],
   "source": [
    "#est_price value counts\n",
    "#mix of scores, dates, cost\n",
    "older_df['est_price'].value_counts()"
   ]
  },
  {
   "cell_type": "code",
   "execution_count": 1349,
   "id": "b7dd8982",
   "metadata": {},
   "outputs": [
    {
     "data": {
      "text/plain": [
       "Coffee Origin:    1309\n",
       "Roast Level:       479\n",
       "Name: x1, dtype: int64"
      ]
     },
     "execution_count": 1349,
     "metadata": {},
     "output_type": "execute_result"
    }
   ],
   "source": [
    "#review_date value counts\n",
    "#mix of scores, dates\n",
    "older_df['x1'].value_counts()"
   ]
  },
  {
   "cell_type": "code",
   "execution_count": 1350,
   "id": "f4f65024",
   "metadata": {},
   "outputs": [
    {
     "data": {
      "text/plain": [
       "90    207\n",
       "88    196\n",
       "87    174\n",
       "89    150\n",
       "91    124\n",
       "85    122\n",
       "86    118\n",
       "92    112\n",
       "93     82\n",
       "84     79\n",
       "81     48\n",
       "80     45\n",
       "83     44\n",
       "94     43\n",
       "82     42\n",
       "78     41\n",
       "79     37\n",
       "95     26\n",
       "77     16\n",
       "76     14\n",
       "96     13\n",
       "73     11\n",
       "75      7\n",
       "97      6\n",
       "72      6\n",
       "74      6\n",
       "71      6\n",
       "70      4\n",
       "NR      4\n",
       "65      2\n",
       "68      2\n",
       "60      1\n",
       "Name: overall_score, dtype: int64"
      ]
     },
     "execution_count": 1350,
     "metadata": {},
     "output_type": "execute_result"
    }
   ],
   "source": [
    "#overall_score value counts\n",
    "older_df['overall_score'].value_counts()"
   ]
  },
  {
   "cell_type": "code",
   "execution_count": 1351,
   "id": "46559288",
   "metadata": {},
   "outputs": [
    {
     "data": {
      "text/plain": [
       "Aroma:          1246\n",
       "Acidity:         469\n",
       "Review Date:      62\n",
       "Body:             11\n",
       "Name: h1, dtype: int64"
      ]
     },
     "execution_count": 1351,
     "metadata": {},
     "output_type": "execute_result"
    }
   ],
   "source": [
    "#h1 value counts\n",
    "older_df['h1'].value_counts()"
   ]
  },
  {
   "cell_type": "code",
   "execution_count": 1352,
   "id": "78f25bd1",
   "metadata": {},
   "outputs": [
    {
     "data": {
      "text/plain": [
       "8                738\n",
       "7                391\n",
       "9                182\n",
       "6                155\n",
       "5                106\n",
       "                ... \n",
       "8.7                1\n",
       "7.0                1\n",
       "4.0                1\n",
       "November 1998      1\n",
       "March 1997         1\n",
       "Name: s1, Length: 90, dtype: int64"
      ]
     },
     "execution_count": 1352,
     "metadata": {},
     "output_type": "execute_result"
    }
   ],
   "source": [
    "#s1 value counts\n",
    "#mix of dates and scores?\n",
    "older_df['s1'].value_counts()"
   ]
  },
  {
   "cell_type": "code",
   "execution_count": 1353,
   "id": "8f58a32e",
   "metadata": {},
   "outputs": [
    {
     "data": {
      "text/plain": [
       "Acidity:    958\n",
       "Body:       757\n",
       "Aroma:       62\n",
       "Flavor:      11\n",
       "Name: h2, dtype: int64"
      ]
     },
     "execution_count": 1353,
     "metadata": {},
     "output_type": "execute_result"
    }
   ],
   "source": [
    "#h2 value counts\n",
    "older_df['h2'].value_counts()"
   ]
  },
  {
   "cell_type": "code",
   "execution_count": 1354,
   "id": "2d91130b",
   "metadata": {},
   "outputs": [
    {
     "data": {
      "text/plain": [
       "7                    502\n",
       "8                    389\n",
       "7\\t\\t\\t\\t\\t\\t\\t      299\n",
       "8\\t\\t\\t\\t\\t\\t\\t      203\n",
       "6\\t\\t\\t\\t\\t\\t\\t      132\n",
       "6                     66\n",
       "5\\t\\t\\t\\t\\t\\t\\t       45\n",
       "9                     40\n",
       "9\\t\\t\\t\\t\\t\\t\\t       14\n",
       "5                     13\n",
       "na                     7\n",
       "4\\t\\t\\t\\t\\t\\t\\t        6\n",
       "5.3\\t\\t\\t\\t\\t\\t\\t      5\n",
       "4                      5\n",
       "5.7\\t\\t\\t\\t\\t\\t\\t      5\n",
       "5.8\\t\\t\\t\\t\\t\\t\\t      4\n",
       "6.4\\t\\t\\t\\t\\t\\t\\t      4\n",
       "7.0\\t\\t\\t\\t\\t\\t\\t      4\n",
       "5.2\\t\\t\\t\\t\\t\\t\\t      3\n",
       "5.1\\t\\t\\t\\t\\t\\t\\t      3\n",
       "5.6\\t\\t\\t\\t\\t\\t\\t      3\n",
       "5.5\\t\\t\\t\\t\\t\\t\\t      3\n",
       "6.0\\t\\t\\t\\t\\t\\t\\t      3\n",
       "5.9\\t\\t\\t\\t\\t\\t\\t      3\n",
       "10                     2\n",
       "6.1\\t\\t\\t\\t\\t\\t\\t      2\n",
       "7.1\\t\\t\\t\\t\\t\\t\\t      2\n",
       "6.2\\t\\t\\t\\t\\t\\t\\t      2\n",
       "6.3\\t\\t\\t\\t\\t\\t\\t      2\n",
       "6.6\\t\\t\\t\\t\\t\\t\\t      1\n",
       "10\\t\\t\\t\\t\\t\\t\\t       1\n",
       "5.0\\t\\t\\t\\t\\t\\t\\t      1\n",
       "4.8\\t\\t\\t\\t\\t\\t\\t      1\n",
       "5.4\\t\\t\\t\\t\\t\\t\\t      1\n",
       "NR\\t\\t\\t\\t\\t\\t\\t       1\n",
       "3                      1\n",
       "7.3\\t\\t\\t\\t\\t\\t\\t      1\n",
       "4.3\\t\\t\\t\\t\\t\\t\\t      1\n",
       "4.9\\t\\t\\t\\t\\t\\t\\t      1\n",
       "6.7\\t\\t\\t\\t\\t\\t\\t      1\n",
       "5.9                    1\n",
       "Name: s2, dtype: int64"
      ]
     },
     "execution_count": 1354,
     "metadata": {},
     "output_type": "execute_result"
    }
   ],
   "source": [
    "#s2 value counts\n",
    "older_df['s2'].value_counts()"
   ]
  },
  {
   "cell_type": "code",
   "execution_count": 1355,
   "id": "6e89a78a",
   "metadata": {},
   "outputs": [
    {
     "data": {
      "text/plain": [
       "Body:          967\n",
       "Flavor:        757\n",
       "Acidity:        53\n",
       "With Milk:       9\n",
       "Aftertaste:      2\n",
       "Name: h3, dtype: int64"
      ]
     },
     "execution_count": 1355,
     "metadata": {},
     "output_type": "execute_result"
    }
   ],
   "source": [
    "#h3 value counts\n",
    "older_df['h3'].value_counts()"
   ]
  },
  {
   "cell_type": "code",
   "execution_count": 1356,
   "id": "c6eaa0bc",
   "metadata": {
    "scrolled": true
   },
   "outputs": [
    {
     "data": {
      "text/plain": [
       "8\\t\\t\\t\\t\\t\\t\\t      466\n",
       "7\\t\\t\\t\\t\\t\\t\\t      404\n",
       "7                    275\n",
       "8                    260\n",
       "6                    102\n",
       "5                     70\n",
       "6\\t\\t\\t\\t\\t\\t\\t       62\n",
       "9                     27\n",
       "9\\t\\t\\t\\t\\t\\t\\t       26\n",
       "4                     17\n",
       "5\\t\\t\\t\\t\\t\\t\\t        7\n",
       "5.3                    6\n",
       "5.7                    5\n",
       "Flavor in milk: 5      4\n",
       "3                      4\n",
       "5.8                    3\n",
       "6.5                    3\n",
       "6.1                    3\n",
       "6.0                    3\n",
       "7.4                    3\n",
       "6.7                    3\n",
       "6.9                    3\n",
       "3.7                    2\n",
       "7.7                    2\n",
       "7.3                    2\n",
       "10                     2\n",
       "5.6                    2\n",
       "Flavor in milk: 6      2\n",
       "4.4                    1\n",
       "Flavor in milk: 7      1\n",
       "8.1                    1\n",
       "5.1                    1\n",
       "5.5                    1\n",
       "3.9                    1\n",
       "6.2                    1\n",
       "6.4                    1\n",
       "4.9                    1\n",
       "4.6                    1\n",
       "5.0                    1\n",
       "4.8                    1\n",
       "NA\\t\\t\\t\\t\\t\\t\\t       1\n",
       "6.8                    1\n",
       "NR                     1\n",
       "5.4                    1\n",
       "5.2                    1\n",
       "4.2                    1\n",
       "7.1                    1\n",
       "5.4\\t\\t\\t\\t\\t\\t\\t      1\n",
       "Name: s3, dtype: int64"
      ]
     },
     "execution_count": 1356,
     "metadata": {},
     "output_type": "execute_result"
    }
   ],
   "source": [
    "#s3 value counts\n",
    "older_df['s3'].value_counts()"
   ]
  },
  {
   "cell_type": "markdown",
   "id": "7bae1067",
   "metadata": {},
   "source": [
    "### Sorting out columns with conflicting information\n",
    "\n",
    "Goal: Sort overlapping column values into following colummns. Values found specifies in which scraped columns the data ended up and how they were paired (headers and values) to sort out the data.\n",
    " \n",
    "\n",
    "- coffee_origin --> origin\n",
    "    - values found in: 1) x1 and coffee_origin \n",
    "    - COMPLETE\n",
    "\n",
    "- roast_level --> roast\n",
    "    - values found in: 1) x1 and coffee_origin, 2) x2 and roast_level \n",
    "    - COMPLETE\n",
    "\n",
    "- agtron: \n",
    "    - values found in: 1) x2 and roast_level, 2) x3 and agtron \n",
    "    - COMPLETE\n",
    "\n",
    "- review data: \n",
    "    - values found in: 1) X3 and agtron, 2) x4 and est_price, 3) h1 and s1\n",
    "    - complete\n",
    "\n",
    "- est_price: \n",
    "    - 1)x4 and est_price\n",
    "    - complete\n",
    "\n",
    "- Aroma:\n",
    "    - 1) x4 and est_price, 2) h1 and s1, 3) h2 and s2\n",
    "    - complete\n",
    "\n",
    "- Acidity:\n",
    "    - 1) h1 and s1, 2) h2 and s2, 3) h3 and s3\n",
    "    - complete\n",
    "\n",
    "- Body:\n",
    "    - 1) h1 and s1, 2) h2 and s2, 3) h3 and s3\n",
    "    - complete\n",
    "- Flavor:\n",
    "    - 1) h2 and s2, 2) h3 and s3\n",
    "    - done\n",
    "- Aftertaste:\n",
    "    - 1) h3 and s3\n",
    "    - done\n",
    "- With Milk:\n",
    "    - 1) h3 and s3\n",
    "    - done"
   ]
  },
  {
   "cell_type": "markdown",
   "id": "25d21d6d",
   "metadata": {},
   "source": [
    "Extracting origin and roast values their own columns:"
   ]
  },
  {
   "cell_type": "code",
   "execution_count": 1357,
   "id": "b9ff793d",
   "metadata": {},
   "outputs": [],
   "source": [
    "#creating placeholder for origin scores\n",
    "older_df['origin_hold'] = older_df['x1'].map(str) + older_df['coffee_origin'].map(str)"
   ]
  },
  {
   "cell_type": "code",
   "execution_count": 1358,
   "id": "371b3201",
   "metadata": {},
   "outputs": [],
   "source": [
    "#creating placeholder for first roast_level scores\n",
    "older_df['roast_hold1'] = older_df['x1'].map(str) + older_df['coffee_origin'].map(str)"
   ]
  },
  {
   "cell_type": "code",
   "execution_count": 1359,
   "id": "e7c83ef6",
   "metadata": {},
   "outputs": [
    {
     "data": {
      "text/plain": [
       "Roast Level:nan                                                                    222\n",
       "Coffee Origin:Not disclosed.                                                       178\n",
       "Roast Level:Medium-Dark                                                             99\n",
       "Coffee Origin:Not disclosed                                                         78\n",
       "Roast Level:Dark                                                                    57\n",
       "                                                                                  ... \n",
       "Coffee Origin:Bolivia                                                                1\n",
       "Coffee Origin:Central America and Africa                                             1\n",
       "Coffee Origin:Guatemala and the Yirgacheffe growing region of southern Ethiopia      1\n",
       "Coffee Origin:Latin America and Indonesia                                            1\n",
       "Coffee Origin:Indonesia, Central and South America                                   1\n",
       "Name: roast_hold1, Length: 455, dtype: int64"
      ]
     },
     "execution_count": 1359,
     "metadata": {},
     "output_type": "execute_result"
    }
   ],
   "source": [
    "#roast value counts\n",
    "older_df['roast_hold1'].value_counts()"
   ]
  },
  {
   "cell_type": "code",
   "execution_count": 1360,
   "id": "78e41321",
   "metadata": {},
   "outputs": [],
   "source": [
    "#getting rid of roast data in origin column\n",
    "older_df['origin_hold'].replace(r'.*(oast).*', '', inplace = True, regex=True)"
   ]
  },
  {
   "cell_type": "code",
   "execution_count": 1361,
   "id": "83170f8b",
   "metadata": {},
   "outputs": [],
   "source": [
    "#split origin so that we can put origin under correct header and drop unneeded data\n",
    "older_df[['origin_hold','origin']] = older_df['origin_hold'].str.split(\":\", n=1, expand=True)"
   ]
  },
  {
   "cell_type": "code",
   "execution_count": 1362,
   "id": "2515cf0c",
   "metadata": {},
   "outputs": [],
   "source": [
    "#drop unneeded origin hold hold columns\n",
    "older_df.drop(['origin_hold'], axis=1, inplace=True)"
   ]
  },
  {
   "cell_type": "code",
   "execution_count": 1363,
   "id": "7eb050ff",
   "metadata": {},
   "outputs": [
    {
     "data": {
      "text/html": [
       "<div>\n",
       "<style scoped>\n",
       "    .dataframe tbody tr th:only-of-type {\n",
       "        vertical-align: middle;\n",
       "    }\n",
       "\n",
       "    .dataframe tbody tr th {\n",
       "        vertical-align: top;\n",
       "    }\n",
       "\n",
       "    .dataframe thead th {\n",
       "        text-align: right;\n",
       "    }\n",
       "</style>\n",
       "<table border=\"1\" class=\"dataframe\">\n",
       "  <thead>\n",
       "    <tr style=\"text-align: right;\">\n",
       "      <th></th>\n",
       "      <th>coffee_name</th>\n",
       "      <th>roaster_name</th>\n",
       "      <th>overall_score</th>\n",
       "      <th>roaster_location</th>\n",
       "      <th>x1</th>\n",
       "      <th>coffee_origin</th>\n",
       "      <th>x2</th>\n",
       "      <th>roast_level</th>\n",
       "      <th>x3</th>\n",
       "      <th>agtron</th>\n",
       "      <th>...</th>\n",
       "      <th>s1</th>\n",
       "      <th>h2</th>\n",
       "      <th>s2</th>\n",
       "      <th>h3</th>\n",
       "      <th>s3</th>\n",
       "      <th>p1</th>\n",
       "      <th>p2</th>\n",
       "      <th>p3</th>\n",
       "      <th>roast_hold1</th>\n",
       "      <th>origin</th>\n",
       "    </tr>\n",
       "  </thead>\n",
       "  <tbody>\n",
       "    <tr>\n",
       "      <th>0</th>\n",
       "      <td>Doi Chaang Wild Civet Coffee</td>\n",
       "      <td>Doi Chaang Coffee</td>\n",
       "      <td>90</td>\n",
       "      <td>Calgary, Alberta, Canada</td>\n",
       "      <td>Coffee Origin:</td>\n",
       "      <td>Northern Thailand.</td>\n",
       "      <td>Roast Level:</td>\n",
       "      <td>Medium-Light</td>\n",
       "      <td>Agtron:</td>\n",
       "      <td>49/80</td>\n",
       "      <td>...</td>\n",
       "      <td>8</td>\n",
       "      <td>Acidity:</td>\n",
       "      <td>8</td>\n",
       "      <td>Body:</td>\n",
       "      <td>7\\t\\t\\t\\t\\t\\t\\t</td>\n",
       "      <td>Blind Assessment: Intriguing mid-tones through...</td>\n",
       "      <td>Notes: Doi Chaang is a single-estate coffee pr...</td>\n",
       "      <td>Who Should Drink It: Culinary adventurers who ...</td>\n",
       "      <td>Coffee Origin:Northern Thailand.</td>\n",
       "      <td>Northern Thailand.</td>\n",
       "    </tr>\n",
       "    <tr>\n",
       "      <th>1</th>\n",
       "      <td>Kenya AA Lenana</td>\n",
       "      <td>Après Coffee</td>\n",
       "      <td>92</td>\n",
       "      <td>Lancaster, Pennsylvania</td>\n",
       "      <td>Coffee Origin:</td>\n",
       "      <td>South-central Kenya</td>\n",
       "      <td>Roast Level:</td>\n",
       "      <td>Medium-Dark</td>\n",
       "      <td>Agtron:</td>\n",
       "      <td>42/53</td>\n",
       "      <td>...</td>\n",
       "      <td>8</td>\n",
       "      <td>Acidity:</td>\n",
       "      <td>8</td>\n",
       "      <td>Body:</td>\n",
       "      <td>7\\t\\t\\t\\t\\t\\t\\t</td>\n",
       "      <td>Blind Assessment: Rich, very intense aroma: da...</td>\n",
       "      <td>Notes: Despite stresses brought on by social u...</td>\n",
       "      <td>Who Should Drink It: Those who prefer understa...</td>\n",
       "      <td>Coffee Origin:South-central Kenya</td>\n",
       "      <td>South-central Kenya</td>\n",
       "    </tr>\n",
       "    <tr>\n",
       "      <th>2</th>\n",
       "      <td>Mele 100% Kona Coffee</td>\n",
       "      <td>Hula Daddy</td>\n",
       "      <td>92</td>\n",
       "      <td>Holualoa, Hawaii</td>\n",
       "      <td>Coffee Origin:</td>\n",
       "      <td>Holualoa, North Kona growing district, Hawaii.</td>\n",
       "      <td>Roast Level:</td>\n",
       "      <td>Medium-Light</td>\n",
       "      <td>Agtron:</td>\n",
       "      <td>51/73</td>\n",
       "      <td>...</td>\n",
       "      <td>8</td>\n",
       "      <td>Acidity:</td>\n",
       "      <td>8</td>\n",
       "      <td>Body:</td>\n",
       "      <td>7\\t\\t\\t\\t\\t\\t\\t</td>\n",
       "      <td>Blind Assessment: An exciting, rather unusual ...</td>\n",
       "      <td>Notes: A blend of coffees processed by a varie...</td>\n",
       "      <td>Who Should Drink It: An exhilarating sensory r...</td>\n",
       "      <td>Coffee Origin:Holualoa, North Kona growing dis...</td>\n",
       "      <td>Holualoa, North Kona growing district, Hawaii.</td>\n",
       "    </tr>\n",
       "    <tr>\n",
       "      <th>3</th>\n",
       "      <td>Kenya Peaberry Thika Gethumbwini</td>\n",
       "      <td>JBC Coffee Roasters</td>\n",
       "      <td>96</td>\n",
       "      <td>Madison, Wisconsin</td>\n",
       "      <td>Coffee Origin:</td>\n",
       "      <td>South-central Kenya</td>\n",
       "      <td>Roast Level:</td>\n",
       "      <td>Light</td>\n",
       "      <td>Agtron:</td>\n",
       "      <td>57/90</td>\n",
       "      <td>...</td>\n",
       "      <td>8</td>\n",
       "      <td>Acidity:</td>\n",
       "      <td>9</td>\n",
       "      <td>Body:</td>\n",
       "      <td>8\\t\\t\\t\\t\\t\\t\\t</td>\n",
       "      <td>Blind Assessment: Clean, complex, impeccable. ...</td>\n",
       "      <td>Notes: Despite national coffee leadership mark...</td>\n",
       "      <td>Who Should Drink It: Strikingly complete expre...</td>\n",
       "      <td>Coffee Origin:South-central Kenya</td>\n",
       "      <td>South-central Kenya</td>\n",
       "    </tr>\n",
       "    <tr>\n",
       "      <th>4</th>\n",
       "      <td>Kenya Gititu Peaberry</td>\n",
       "      <td>Atomic Cafe Coffee Roasters</td>\n",
       "      <td>92</td>\n",
       "      <td>Beverly, Massachusetts</td>\n",
       "      <td>Coffee Origin:</td>\n",
       "      <td>South-central Kenya</td>\n",
       "      <td>Roast Level:</td>\n",
       "      <td>Medium</td>\n",
       "      <td>Agtron:</td>\n",
       "      <td>44/63</td>\n",
       "      <td>...</td>\n",
       "      <td>8</td>\n",
       "      <td>Acidity:</td>\n",
       "      <td>8</td>\n",
       "      <td>Body:</td>\n",
       "      <td>8\\t\\t\\t\\t\\t\\t\\t</td>\n",
       "      <td>Blind Assessment: Rich, complex fruit aroma, i...</td>\n",
       "      <td>Notes: Despite stresses brought on by social u...</td>\n",
       "      <td>Who Should Drink It: Lovers of sweet fruit fla...</td>\n",
       "      <td>Coffee Origin:South-central Kenya</td>\n",
       "      <td>South-central Kenya</td>\n",
       "    </tr>\n",
       "  </tbody>\n",
       "</table>\n",
       "<p>5 rows × 23 columns</p>\n",
       "</div>"
      ],
      "text/plain": [
       "                        coffee_name                 roaster_name  \\\n",
       "0      Doi Chaang Wild Civet Coffee            Doi Chaang Coffee   \n",
       "1                   Kenya AA Lenana                 Après Coffee   \n",
       "2             Mele 100% Kona Coffee                   Hula Daddy   \n",
       "3  Kenya Peaberry Thika Gethumbwini          JBC Coffee Roasters   \n",
       "4             Kenya Gititu Peaberry  Atomic Cafe Coffee Roasters   \n",
       "\n",
       "  overall_score          roaster_location              x1  \\\n",
       "0            90  Calgary, Alberta, Canada  Coffee Origin:   \n",
       "1            92   Lancaster, Pennsylvania  Coffee Origin:   \n",
       "2            92          Holualoa, Hawaii  Coffee Origin:   \n",
       "3            96        Madison, Wisconsin  Coffee Origin:   \n",
       "4            92    Beverly, Massachusetts  Coffee Origin:   \n",
       "\n",
       "                                    coffee_origin            x2   roast_level  \\\n",
       "0                              Northern Thailand.  Roast Level:  Medium-Light   \n",
       "1                             South-central Kenya  Roast Level:   Medium-Dark   \n",
       "2  Holualoa, North Kona growing district, Hawaii.  Roast Level:  Medium-Light   \n",
       "3                             South-central Kenya  Roast Level:         Light   \n",
       "4                             South-central Kenya  Roast Level:        Medium   \n",
       "\n",
       "        x3 agtron  ... s1        h2 s2     h3               s3  \\\n",
       "0  Agtron:  49/80  ...  8  Acidity:  8  Body:  7\\t\\t\\t\\t\\t\\t\\t   \n",
       "1  Agtron:  42/53  ...  8  Acidity:  8  Body:  7\\t\\t\\t\\t\\t\\t\\t   \n",
       "2  Agtron:  51/73  ...  8  Acidity:  8  Body:  7\\t\\t\\t\\t\\t\\t\\t   \n",
       "3  Agtron:  57/90  ...  8  Acidity:  9  Body:  8\\t\\t\\t\\t\\t\\t\\t   \n",
       "4  Agtron:  44/63  ...  8  Acidity:  8  Body:  8\\t\\t\\t\\t\\t\\t\\t   \n",
       "\n",
       "                                                  p1  \\\n",
       "0  Blind Assessment: Intriguing mid-tones through...   \n",
       "1  Blind Assessment: Rich, very intense aroma: da...   \n",
       "2  Blind Assessment: An exciting, rather unusual ...   \n",
       "3  Blind Assessment: Clean, complex, impeccable. ...   \n",
       "4  Blind Assessment: Rich, complex fruit aroma, i...   \n",
       "\n",
       "                                                  p2  \\\n",
       "0  Notes: Doi Chaang is a single-estate coffee pr...   \n",
       "1  Notes: Despite stresses brought on by social u...   \n",
       "2  Notes: A blend of coffees processed by a varie...   \n",
       "3  Notes: Despite national coffee leadership mark...   \n",
       "4  Notes: Despite stresses brought on by social u...   \n",
       "\n",
       "                                                  p3  \\\n",
       "0  Who Should Drink It: Culinary adventurers who ...   \n",
       "1  Who Should Drink It: Those who prefer understa...   \n",
       "2  Who Should Drink It: An exhilarating sensory r...   \n",
       "3  Who Should Drink It: Strikingly complete expre...   \n",
       "4  Who Should Drink It: Lovers of sweet fruit fla...   \n",
       "\n",
       "                                         roast_hold1  \\\n",
       "0                   Coffee Origin:Northern Thailand.   \n",
       "1                  Coffee Origin:South-central Kenya   \n",
       "2  Coffee Origin:Holualoa, North Kona growing dis...   \n",
       "3                  Coffee Origin:South-central Kenya   \n",
       "4                  Coffee Origin:South-central Kenya   \n",
       "\n",
       "                                           origin  \n",
       "0                              Northern Thailand.  \n",
       "1                             South-central Kenya  \n",
       "2  Holualoa, North Kona growing district, Hawaii.  \n",
       "3                             South-central Kenya  \n",
       "4                             South-central Kenya  \n",
       "\n",
       "[5 rows x 23 columns]"
      ]
     },
     "execution_count": 1363,
     "metadata": {},
     "output_type": "execute_result"
    }
   ],
   "source": [
    "older_df.head()"
   ]
  },
  {
   "cell_type": "code",
   "execution_count": 1364,
   "id": "95960049",
   "metadata": {},
   "outputs": [],
   "source": [
    "#creating placeholder for 2nd roast scores\n",
    "older_df['roast2_hold'] = older_df['x2'].map(str) + older_df['roast_level'].map(str)"
   ]
  },
  {
   "cell_type": "code",
   "execution_count": 1365,
   "id": "7fe163db",
   "metadata": {},
   "outputs": [],
   "source": [
    "#getting rid of non-roast data\n",
    "older_df['roast2_hold'].replace(r'.*(gtron).*', '', inplace = True, regex=True)"
   ]
  },
  {
   "cell_type": "code",
   "execution_count": 1366,
   "id": "12ebdd35",
   "metadata": {},
   "outputs": [],
   "source": [
    "#getting rid of non-roast data\n",
    "older_df['roast_hold1'].replace(r'.*(rigin).*', '', inplace = True, regex=True)"
   ]
  },
  {
   "cell_type": "code",
   "execution_count": 1367,
   "id": "8c548ba8",
   "metadata": {},
   "outputs": [],
   "source": [
    "#creating placeholder for roast scores\n",
    "older_df['roast_combo'] = older_df['roast2_hold'].map(str) + ' ' + older_df['roast_hold1'].map(str)"
   ]
  },
  {
   "cell_type": "code",
   "execution_count": 1368,
   "id": "bb543a1a",
   "metadata": {},
   "outputs": [],
   "source": [
    "#split roast values out from headers\n",
    "older_df[['roast_combo','roast']] = older_df['roast_combo'].str.split(\":\", n=1, expand=True)"
   ]
  },
  {
   "cell_type": "code",
   "execution_count": 1369,
   "id": "a1f17835",
   "metadata": {},
   "outputs": [],
   "source": [
    "#drop unneeded roast hold columns\n",
    "older_df.drop(['roast_combo', 'roast2_hold', 'roast_hold1'], axis=1, inplace=True)"
   ]
  },
  {
   "cell_type": "code",
   "execution_count": 1370,
   "id": "ed38b354",
   "metadata": {},
   "outputs": [],
   "source": [
    "#seeing some duplicate values, getting rid of spaces so they match up\n",
    "older_df['roast'] = older_df['roast'].str.strip()"
   ]
  },
  {
   "cell_type": "code",
   "execution_count": 1371,
   "id": "021216a4",
   "metadata": {
    "scrolled": true
   },
   "outputs": [
    {
     "data": {
      "text/html": [
       "<div>\n",
       "<style scoped>\n",
       "    .dataframe tbody tr th:only-of-type {\n",
       "        vertical-align: middle;\n",
       "    }\n",
       "\n",
       "    .dataframe tbody tr th {\n",
       "        vertical-align: top;\n",
       "    }\n",
       "\n",
       "    .dataframe thead th {\n",
       "        text-align: right;\n",
       "    }\n",
       "</style>\n",
       "<table border=\"1\" class=\"dataframe\">\n",
       "  <thead>\n",
       "    <tr style=\"text-align: right;\">\n",
       "      <th></th>\n",
       "      <th>coffee_name</th>\n",
       "      <th>roaster_name</th>\n",
       "      <th>overall_score</th>\n",
       "      <th>roaster_location</th>\n",
       "      <th>x1</th>\n",
       "      <th>coffee_origin</th>\n",
       "      <th>x2</th>\n",
       "      <th>roast_level</th>\n",
       "      <th>x3</th>\n",
       "      <th>agtron</th>\n",
       "      <th>...</th>\n",
       "      <th>s1</th>\n",
       "      <th>h2</th>\n",
       "      <th>s2</th>\n",
       "      <th>h3</th>\n",
       "      <th>s3</th>\n",
       "      <th>p1</th>\n",
       "      <th>p2</th>\n",
       "      <th>p3</th>\n",
       "      <th>origin</th>\n",
       "      <th>roast</th>\n",
       "    </tr>\n",
       "  </thead>\n",
       "  <tbody>\n",
       "    <tr>\n",
       "      <th>0</th>\n",
       "      <td>Doi Chaang Wild Civet Coffee</td>\n",
       "      <td>Doi Chaang Coffee</td>\n",
       "      <td>90</td>\n",
       "      <td>Calgary, Alberta, Canada</td>\n",
       "      <td>Coffee Origin:</td>\n",
       "      <td>Northern Thailand.</td>\n",
       "      <td>Roast Level:</td>\n",
       "      <td>Medium-Light</td>\n",
       "      <td>Agtron:</td>\n",
       "      <td>49/80</td>\n",
       "      <td>...</td>\n",
       "      <td>8</td>\n",
       "      <td>Acidity:</td>\n",
       "      <td>8</td>\n",
       "      <td>Body:</td>\n",
       "      <td>7\\t\\t\\t\\t\\t\\t\\t</td>\n",
       "      <td>Blind Assessment: Intriguing mid-tones through...</td>\n",
       "      <td>Notes: Doi Chaang is a single-estate coffee pr...</td>\n",
       "      <td>Who Should Drink It: Culinary adventurers who ...</td>\n",
       "      <td>Northern Thailand.</td>\n",
       "      <td>Medium-Light</td>\n",
       "    </tr>\n",
       "    <tr>\n",
       "      <th>1</th>\n",
       "      <td>Kenya AA Lenana</td>\n",
       "      <td>Après Coffee</td>\n",
       "      <td>92</td>\n",
       "      <td>Lancaster, Pennsylvania</td>\n",
       "      <td>Coffee Origin:</td>\n",
       "      <td>South-central Kenya</td>\n",
       "      <td>Roast Level:</td>\n",
       "      <td>Medium-Dark</td>\n",
       "      <td>Agtron:</td>\n",
       "      <td>42/53</td>\n",
       "      <td>...</td>\n",
       "      <td>8</td>\n",
       "      <td>Acidity:</td>\n",
       "      <td>8</td>\n",
       "      <td>Body:</td>\n",
       "      <td>7\\t\\t\\t\\t\\t\\t\\t</td>\n",
       "      <td>Blind Assessment: Rich, very intense aroma: da...</td>\n",
       "      <td>Notes: Despite stresses brought on by social u...</td>\n",
       "      <td>Who Should Drink It: Those who prefer understa...</td>\n",
       "      <td>South-central Kenya</td>\n",
       "      <td>Medium-Dark</td>\n",
       "    </tr>\n",
       "    <tr>\n",
       "      <th>2</th>\n",
       "      <td>Mele 100% Kona Coffee</td>\n",
       "      <td>Hula Daddy</td>\n",
       "      <td>92</td>\n",
       "      <td>Holualoa, Hawaii</td>\n",
       "      <td>Coffee Origin:</td>\n",
       "      <td>Holualoa, North Kona growing district, Hawaii.</td>\n",
       "      <td>Roast Level:</td>\n",
       "      <td>Medium-Light</td>\n",
       "      <td>Agtron:</td>\n",
       "      <td>51/73</td>\n",
       "      <td>...</td>\n",
       "      <td>8</td>\n",
       "      <td>Acidity:</td>\n",
       "      <td>8</td>\n",
       "      <td>Body:</td>\n",
       "      <td>7\\t\\t\\t\\t\\t\\t\\t</td>\n",
       "      <td>Blind Assessment: An exciting, rather unusual ...</td>\n",
       "      <td>Notes: A blend of coffees processed by a varie...</td>\n",
       "      <td>Who Should Drink It: An exhilarating sensory r...</td>\n",
       "      <td>Holualoa, North Kona growing district, Hawaii.</td>\n",
       "      <td>Medium-Light</td>\n",
       "    </tr>\n",
       "    <tr>\n",
       "      <th>3</th>\n",
       "      <td>Kenya Peaberry Thika Gethumbwini</td>\n",
       "      <td>JBC Coffee Roasters</td>\n",
       "      <td>96</td>\n",
       "      <td>Madison, Wisconsin</td>\n",
       "      <td>Coffee Origin:</td>\n",
       "      <td>South-central Kenya</td>\n",
       "      <td>Roast Level:</td>\n",
       "      <td>Light</td>\n",
       "      <td>Agtron:</td>\n",
       "      <td>57/90</td>\n",
       "      <td>...</td>\n",
       "      <td>8</td>\n",
       "      <td>Acidity:</td>\n",
       "      <td>9</td>\n",
       "      <td>Body:</td>\n",
       "      <td>8\\t\\t\\t\\t\\t\\t\\t</td>\n",
       "      <td>Blind Assessment: Clean, complex, impeccable. ...</td>\n",
       "      <td>Notes: Despite national coffee leadership mark...</td>\n",
       "      <td>Who Should Drink It: Strikingly complete expre...</td>\n",
       "      <td>South-central Kenya</td>\n",
       "      <td>Light</td>\n",
       "    </tr>\n",
       "    <tr>\n",
       "      <th>4</th>\n",
       "      <td>Kenya Gititu Peaberry</td>\n",
       "      <td>Atomic Cafe Coffee Roasters</td>\n",
       "      <td>92</td>\n",
       "      <td>Beverly, Massachusetts</td>\n",
       "      <td>Coffee Origin:</td>\n",
       "      <td>South-central Kenya</td>\n",
       "      <td>Roast Level:</td>\n",
       "      <td>Medium</td>\n",
       "      <td>Agtron:</td>\n",
       "      <td>44/63</td>\n",
       "      <td>...</td>\n",
       "      <td>8</td>\n",
       "      <td>Acidity:</td>\n",
       "      <td>8</td>\n",
       "      <td>Body:</td>\n",
       "      <td>8\\t\\t\\t\\t\\t\\t\\t</td>\n",
       "      <td>Blind Assessment: Rich, complex fruit aroma, i...</td>\n",
       "      <td>Notes: Despite stresses brought on by social u...</td>\n",
       "      <td>Who Should Drink It: Lovers of sweet fruit fla...</td>\n",
       "      <td>South-central Kenya</td>\n",
       "      <td>Medium</td>\n",
       "    </tr>\n",
       "  </tbody>\n",
       "</table>\n",
       "<p>5 rows × 23 columns</p>\n",
       "</div>"
      ],
      "text/plain": [
       "                        coffee_name                 roaster_name  \\\n",
       "0      Doi Chaang Wild Civet Coffee            Doi Chaang Coffee   \n",
       "1                   Kenya AA Lenana                 Après Coffee   \n",
       "2             Mele 100% Kona Coffee                   Hula Daddy   \n",
       "3  Kenya Peaberry Thika Gethumbwini          JBC Coffee Roasters   \n",
       "4             Kenya Gititu Peaberry  Atomic Cafe Coffee Roasters   \n",
       "\n",
       "  overall_score          roaster_location              x1  \\\n",
       "0            90  Calgary, Alberta, Canada  Coffee Origin:   \n",
       "1            92   Lancaster, Pennsylvania  Coffee Origin:   \n",
       "2            92          Holualoa, Hawaii  Coffee Origin:   \n",
       "3            96        Madison, Wisconsin  Coffee Origin:   \n",
       "4            92    Beverly, Massachusetts  Coffee Origin:   \n",
       "\n",
       "                                    coffee_origin            x2   roast_level  \\\n",
       "0                              Northern Thailand.  Roast Level:  Medium-Light   \n",
       "1                             South-central Kenya  Roast Level:   Medium-Dark   \n",
       "2  Holualoa, North Kona growing district, Hawaii.  Roast Level:  Medium-Light   \n",
       "3                             South-central Kenya  Roast Level:         Light   \n",
       "4                             South-central Kenya  Roast Level:        Medium   \n",
       "\n",
       "        x3 agtron  ... s1        h2 s2     h3               s3  \\\n",
       "0  Agtron:  49/80  ...  8  Acidity:  8  Body:  7\\t\\t\\t\\t\\t\\t\\t   \n",
       "1  Agtron:  42/53  ...  8  Acidity:  8  Body:  7\\t\\t\\t\\t\\t\\t\\t   \n",
       "2  Agtron:  51/73  ...  8  Acidity:  8  Body:  7\\t\\t\\t\\t\\t\\t\\t   \n",
       "3  Agtron:  57/90  ...  8  Acidity:  9  Body:  8\\t\\t\\t\\t\\t\\t\\t   \n",
       "4  Agtron:  44/63  ...  8  Acidity:  8  Body:  8\\t\\t\\t\\t\\t\\t\\t   \n",
       "\n",
       "                                                  p1  \\\n",
       "0  Blind Assessment: Intriguing mid-tones through...   \n",
       "1  Blind Assessment: Rich, very intense aroma: da...   \n",
       "2  Blind Assessment: An exciting, rather unusual ...   \n",
       "3  Blind Assessment: Clean, complex, impeccable. ...   \n",
       "4  Blind Assessment: Rich, complex fruit aroma, i...   \n",
       "\n",
       "                                                  p2  \\\n",
       "0  Notes: Doi Chaang is a single-estate coffee pr...   \n",
       "1  Notes: Despite stresses brought on by social u...   \n",
       "2  Notes: A blend of coffees processed by a varie...   \n",
       "3  Notes: Despite national coffee leadership mark...   \n",
       "4  Notes: Despite stresses brought on by social u...   \n",
       "\n",
       "                                                  p3  \\\n",
       "0  Who Should Drink It: Culinary adventurers who ...   \n",
       "1  Who Should Drink It: Those who prefer understa...   \n",
       "2  Who Should Drink It: An exhilarating sensory r...   \n",
       "3  Who Should Drink It: Strikingly complete expre...   \n",
       "4  Who Should Drink It: Lovers of sweet fruit fla...   \n",
       "\n",
       "                                           origin         roast  \n",
       "0                              Northern Thailand.  Medium-Light  \n",
       "1                             South-central Kenya   Medium-Dark  \n",
       "2  Holualoa, North Kona growing district, Hawaii.  Medium-Light  \n",
       "3                             South-central Kenya         Light  \n",
       "4                             South-central Kenya        Medium  \n",
       "\n",
       "[5 rows x 23 columns]"
      ]
     },
     "execution_count": 1371,
     "metadata": {},
     "output_type": "execute_result"
    }
   ],
   "source": [
    "older_df.head()"
   ]
  },
  {
   "cell_type": "markdown",
   "id": "773efdc9",
   "metadata": {},
   "source": [
    "Extracting agtron scores into its own column:"
   ]
  },
  {
   "cell_type": "code",
   "execution_count": 1372,
   "id": "cca388ab",
   "metadata": {},
   "outputs": [],
   "source": [
    "#creating placeholder for 1st agtron scores\n",
    "older_df['agtron1_hold'] = older_df['x2'].map(str) + older_df['roast_level'].map(str)"
   ]
  },
  {
   "cell_type": "code",
   "execution_count": 1373,
   "id": "5632fa89",
   "metadata": {},
   "outputs": [],
   "source": [
    "#creating placeholder for 2nd agtron scores\n",
    "older_df['agtron2_hold'] = older_df['x3'].map(str) + older_df['agtron'].map(str)"
   ]
  },
  {
   "cell_type": "code",
   "execution_count": 1374,
   "id": "352d1ff3",
   "metadata": {},
   "outputs": [],
   "source": [
    "#getting rid of roast data in agtron 1 column\n",
    "older_df['agtron1_hold'].replace(r'.*(oast).*', '', inplace = True, regex=True)"
   ]
  },
  {
   "cell_type": "code",
   "execution_count": 1375,
   "id": "c59ba7f8",
   "metadata": {},
   "outputs": [],
   "source": [
    "#getting rid of review data in agtron 2 column\n",
    "older_df['agtron2_hold'].replace(r'.*(view).*', '', inplace = True, regex=True)"
   ]
  },
  {
   "cell_type": "code",
   "execution_count": 1376,
   "id": "3435a93c",
   "metadata": {},
   "outputs": [],
   "source": [
    "#creating placeholder for agtron scores\n",
    "older_df['agtron_combo'] = older_df['agtron2_hold'].map(str) + ' ' + older_df['agtron1_hold'].map(str)"
   ]
  },
  {
   "cell_type": "code",
   "execution_count": 1377,
   "id": "e48be41e",
   "metadata": {},
   "outputs": [],
   "source": [
    "#splitting out agtron scores from headers\n",
    "older_df[['agtron_combo','agtron_new']] = older_df['agtron_combo'].str.split(\":\", n=1, expand=True)"
   ]
  },
  {
   "cell_type": "code",
   "execution_count": 1378,
   "id": "0cd8be9e",
   "metadata": {},
   "outputs": [],
   "source": [
    "#drop unneeded agtron hold columns\n",
    "older_df.drop(['agtron_combo', 'agtron2_hold', 'agtron1_hold'], axis=1, inplace=True)"
   ]
  },
  {
   "cell_type": "markdown",
   "id": "6019c047",
   "metadata": {},
   "source": [
    "Extracting review info into its own column:"
   ]
  },
  {
   "cell_type": "code",
   "execution_count": 1379,
   "id": "176751af",
   "metadata": {},
   "outputs": [],
   "source": [
    "#creating placeholder for 1st review scores\n",
    "older_df['review1_hold'] = older_df['x3'].map(str) + older_df['agtron'].map(str)"
   ]
  },
  {
   "cell_type": "code",
   "execution_count": 1380,
   "id": "a172506d",
   "metadata": {},
   "outputs": [],
   "source": [
    "#creating placeholder for 2nd review scores\n",
    "older_df['review2_hold'] = older_df['x4'].map(str) + older_df['est_price'].map(str)"
   ]
  },
  {
   "cell_type": "code",
   "execution_count": 1381,
   "id": "49e04a3e",
   "metadata": {},
   "outputs": [],
   "source": [
    "#creating placeholder for 3rd review scores\n",
    "older_df['review3_hold'] = older_df['h1'].map(str) + older_df['s1'].map(str)"
   ]
  },
  {
   "cell_type": "code",
   "execution_count": 1382,
   "id": "489dc417",
   "metadata": {},
   "outputs": [],
   "source": [
    "#getting rid of agtron in review scores\n",
    "older_df['review1_hold'].replace(r'.*(gtron).*', '', inplace = True, regex=True)"
   ]
  },
  {
   "cell_type": "code",
   "execution_count": 1383,
   "id": "0b5d9ea7",
   "metadata": {},
   "outputs": [],
   "source": [
    "#getting rid of price\n",
    "older_df['review2_hold'].replace(r'.*(Price).*', '', inplace = True, regex=True)"
   ]
  },
  {
   "cell_type": "code",
   "execution_count": 1384,
   "id": "5a849242",
   "metadata": {},
   "outputs": [],
   "source": [
    "#getting rid of aroma\n",
    "older_df['review2_hold'].replace(r'.*(roma).*', '', inplace = True, regex=True)"
   ]
  },
  {
   "cell_type": "code",
   "execution_count": 1385,
   "id": "dc2345ea",
   "metadata": {},
   "outputs": [],
   "source": [
    "#getting rid of aroma\n",
    "older_df['review3_hold'].replace(r'.*(roma).*', '', inplace = True, regex=True)"
   ]
  },
  {
   "cell_type": "code",
   "execution_count": 1386,
   "id": "90486a39",
   "metadata": {},
   "outputs": [],
   "source": [
    "#getting rid of acidity\n",
    "older_df['review3_hold'].replace(r'.*(cidity).*', '', inplace = True, regex=True)"
   ]
  },
  {
   "cell_type": "code",
   "execution_count": 1387,
   "id": "8fe69291",
   "metadata": {},
   "outputs": [],
   "source": [
    "#getting rid of body\n",
    "older_df['review3_hold'].replace(r'.*(ody).*', '', inplace = True, regex=True)"
   ]
  },
  {
   "cell_type": "code",
   "execution_count": 1388,
   "id": "ca1c4175",
   "metadata": {},
   "outputs": [],
   "source": [
    "#creating placeholder for review scores\n",
    "older_df['review_combo'] = older_df['review1_hold'].map(str) + ' ' + older_df['review2_hold'].map(str) + ' ' + older_df['review3_hold'].map(str)"
   ]
  },
  {
   "cell_type": "code",
   "execution_count": 1389,
   "id": "3e60aa8c",
   "metadata": {},
   "outputs": [],
   "source": [
    "#splitting out review scores\n",
    "older_df[['review_combo','review']] = older_df['review_combo'].str.split(\":\", n=1, expand=True)"
   ]
  },
  {
   "cell_type": "code",
   "execution_count": 1390,
   "id": "da32911b",
   "metadata": {},
   "outputs": [],
   "source": [
    "#drop unneeded review hold columns\n",
    "older_df.drop(['review_combo', 'review1_hold', 'review2_hold', 'review3_hold'], axis=1, inplace=True)"
   ]
  },
  {
   "cell_type": "markdown",
   "id": "3b4bfec4",
   "metadata": {},
   "source": [
    "Extracting est_price info into its own column:"
   ]
  },
  {
   "cell_type": "code",
   "execution_count": 1391,
   "id": "230b1058",
   "metadata": {},
   "outputs": [],
   "source": [
    "#creating placeholder for 1st price scores\n",
    "older_df['price1_hold'] = older_df['x4'].map(str) + older_df['est_price'].map(str)"
   ]
  },
  {
   "cell_type": "code",
   "execution_count": 1392,
   "id": "41ee14ee",
   "metadata": {},
   "outputs": [],
   "source": [
    "#getting rid of agtron in review scores\n",
    "older_df['price1_hold'].replace(r'.*(eview).*', '', inplace = True, regex=True)"
   ]
  },
  {
   "cell_type": "code",
   "execution_count": 1393,
   "id": "459ac2c3",
   "metadata": {},
   "outputs": [],
   "source": [
    "#getting rid of agtron in review scores\n",
    "older_df['price1_hold'].replace(r'.*(roma).*', '', inplace = True, regex=True)"
   ]
  },
  {
   "cell_type": "code",
   "execution_count": 1394,
   "id": "090ad9e1",
   "metadata": {},
   "outputs": [],
   "source": [
    "#splitting out price scores\n",
    "older_df[['price1_hold','price']] = older_df['price1_hold'].str.split(\":\", n=1, expand=True)"
   ]
  },
  {
   "cell_type": "code",
   "execution_count": 1395,
   "id": "d3f435b8",
   "metadata": {},
   "outputs": [],
   "source": [
    "#drop unneeded price hold columns\n",
    "older_df.drop(['price1_hold'], axis=1, inplace=True)"
   ]
  },
  {
   "cell_type": "markdown",
   "id": "92aa443a",
   "metadata": {},
   "source": [
    "Extracting aroma values:"
   ]
  },
  {
   "cell_type": "code",
   "execution_count": 1396,
   "id": "a9bfada3",
   "metadata": {},
   "outputs": [],
   "source": [
    "#creating placeholder for 2nd review scores\n",
    "older_df['aroma1_hold'] = older_df['x4'].map(str) + older_df['est_price'].map(str)"
   ]
  },
  {
   "cell_type": "code",
   "execution_count": 1397,
   "id": "6eff5086",
   "metadata": {},
   "outputs": [],
   "source": [
    "#creating placeholder for 2nd review scores\n",
    "older_df['aroma2_hold'] = older_df['h1'].map(str) + older_df['s1'].map(str)"
   ]
  },
  {
   "cell_type": "code",
   "execution_count": 1398,
   "id": "8576fc38",
   "metadata": {},
   "outputs": [],
   "source": [
    "#creating placeholder for 2nd review scores\n",
    "older_df['aroma3_hold'] = older_df['h2'].map(str) + older_df['s2'].map(str)"
   ]
  },
  {
   "cell_type": "code",
   "execution_count": 1399,
   "id": "3efa4b55",
   "metadata": {},
   "outputs": [],
   "source": [
    "#getting rid of review\n",
    "older_df['aroma1_hold'].replace(r'.*(eview).*', '', inplace = True, regex=True)"
   ]
  },
  {
   "cell_type": "code",
   "execution_count": 1400,
   "id": "cb20f853",
   "metadata": {},
   "outputs": [],
   "source": [
    "#getting rid of price\n",
    "older_df['aroma1_hold'].replace(r'.*(rice).*', '', inplace = True, regex=True)"
   ]
  },
  {
   "cell_type": "code",
   "execution_count": 1401,
   "id": "3c7e8420",
   "metadata": {},
   "outputs": [],
   "source": [
    "#getting rid of review\n",
    "older_df['aroma2_hold'].replace(r'.*(eview).*', '', inplace = True, regex=True)"
   ]
  },
  {
   "cell_type": "code",
   "execution_count": 1402,
   "id": "32da09d1",
   "metadata": {},
   "outputs": [],
   "source": [
    "#getting rid of acidity\n",
    "older_df['aroma2_hold'].replace(r'.*(cidity).*', '', inplace = True, regex=True)"
   ]
  },
  {
   "cell_type": "code",
   "execution_count": 1403,
   "id": "43a81c33",
   "metadata": {},
   "outputs": [],
   "source": [
    "#getting rid of body\n",
    "older_df['aroma2_hold'].replace(r'.*(ody).*', '', inplace = True, regex=True)"
   ]
  },
  {
   "cell_type": "code",
   "execution_count": 1404,
   "id": "5ef5e3ae",
   "metadata": {},
   "outputs": [],
   "source": [
    "#getting rid of acidity\n",
    "older_df['aroma3_hold'].replace(r'.*(cidity).*', '', inplace = True, regex=True)"
   ]
  },
  {
   "cell_type": "code",
   "execution_count": 1405,
   "id": "dea58d06",
   "metadata": {},
   "outputs": [],
   "source": [
    "#getting rid of body\n",
    "older_df['aroma3_hold'].replace(r'.*(ody).*', '', inplace = True, regex=True)"
   ]
  },
  {
   "cell_type": "code",
   "execution_count": 1406,
   "id": "4c8c51a2",
   "metadata": {},
   "outputs": [],
   "source": [
    "#getting rid of flavor\n",
    "older_df['aroma3_hold'].replace(r'.*(lavor).*', '', inplace = True, regex=True)"
   ]
  },
  {
   "cell_type": "code",
   "execution_count": 1407,
   "id": "23b84d1a",
   "metadata": {},
   "outputs": [],
   "source": [
    "#creating placeholder for review scores\n",
    "older_df['aroma_combo'] = older_df['aroma1_hold'].map(str) + older_df['aroma2_hold'].map(str) + older_df['aroma3_hold'].map(str)"
   ]
  },
  {
   "cell_type": "code",
   "execution_count": 1408,
   "id": "2cb8585d",
   "metadata": {},
   "outputs": [],
   "source": [
    "#extracting aroma ratings from combined column\n",
    "older_df['aroma'] = older_df['aroma_combo'].str.extract(r'([0-9]+)')"
   ]
  },
  {
   "cell_type": "code",
   "execution_count": 1409,
   "id": "562c6b23",
   "metadata": {},
   "outputs": [],
   "source": [
    "#drop unneeded aroma hold columns\n",
    "older_df.drop(['aroma1_hold', 'aroma2_hold', 'aroma3_hold', 'aroma_combo'], axis=1, inplace=True)"
   ]
  },
  {
   "cell_type": "code",
   "execution_count": 1410,
   "id": "00e901af",
   "metadata": {},
   "outputs": [],
   "source": [
    "#updating cleaned score value data types to integer\n",
    "older_df['aroma'] = older_df['aroma'].astype('Int8')"
   ]
  },
  {
   "cell_type": "markdown",
   "id": "3d71c670",
   "metadata": {},
   "source": [
    "Extracting acidity into its own column:"
   ]
  },
  {
   "cell_type": "code",
   "execution_count": 1411,
   "id": "2d8d950f",
   "metadata": {},
   "outputs": [],
   "source": [
    "#creating placeholder for acidity scores\n",
    "older_df['acidity1_hold'] = older_df['h1'].map(str) + older_df['s1'].map(str)"
   ]
  },
  {
   "cell_type": "code",
   "execution_count": 1412,
   "id": "e37ca7cb",
   "metadata": {},
   "outputs": [],
   "source": [
    "#creating placeholder for 2nd acidity scores\n",
    "older_df['acidity2_hold'] = older_df['h2'].map(str) + older_df['s2'].map(str)"
   ]
  },
  {
   "cell_type": "code",
   "execution_count": 1413,
   "id": "362ddac8",
   "metadata": {},
   "outputs": [],
   "source": [
    "#creating placeholder for 3rd acidity scores\n",
    "older_df['acidity3_hold'] = older_df['h3'].map(str) + older_df['s3'].map(str)"
   ]
  },
  {
   "cell_type": "code",
   "execution_count": 1414,
   "id": "762a91ea",
   "metadata": {},
   "outputs": [],
   "source": [
    "#getting rid of aroma\n",
    "older_df['acidity1_hold'].replace(r'.*(roma).*', '', inplace = True, regex=True)"
   ]
  },
  {
   "cell_type": "code",
   "execution_count": 1415,
   "id": "e0dfb767",
   "metadata": {},
   "outputs": [],
   "source": [
    "#getting rid of review\n",
    "older_df['acidity1_hold'].replace(r'.*(eview).*', '', inplace = True, regex=True)"
   ]
  },
  {
   "cell_type": "code",
   "execution_count": 1416,
   "id": "08db2533",
   "metadata": {},
   "outputs": [],
   "source": [
    "#getting rid of body\n",
    "older_df['acidity1_hold'].replace(r'.*(ody).*', '', inplace = True, regex=True)"
   ]
  },
  {
   "cell_type": "code",
   "execution_count": 1417,
   "id": "d926de6e",
   "metadata": {},
   "outputs": [],
   "source": [
    "#getting rid of body\n",
    "older_df['acidity2_hold'].replace(r'.*(ody).*', '', inplace = True, regex=True)"
   ]
  },
  {
   "cell_type": "code",
   "execution_count": 1418,
   "id": "81462eee",
   "metadata": {},
   "outputs": [],
   "source": [
    "#getting rid of aroma\n",
    "older_df['acidity2_hold'].replace(r'.*(roma).*', '', inplace = True, regex=True)"
   ]
  },
  {
   "cell_type": "code",
   "execution_count": 1419,
   "id": "643630a0",
   "metadata": {},
   "outputs": [],
   "source": [
    "#getting rid of flavor\n",
    "older_df['acidity2_hold'].replace(r'.*(lavor).*', '', inplace = True, regex=True)"
   ]
  },
  {
   "cell_type": "code",
   "execution_count": 1420,
   "id": "951bdc61",
   "metadata": {},
   "outputs": [],
   "source": [
    "#getting rid of flavor\n",
    "older_df['acidity3_hold'].replace(r'.*(lavor).*', '', inplace = True, regex=True)"
   ]
  },
  {
   "cell_type": "code",
   "execution_count": 1421,
   "id": "c8d6510e",
   "metadata": {},
   "outputs": [],
   "source": [
    "#getting rid of body\n",
    "older_df['acidity3_hold'].replace(r'.*(ody).*', '', inplace = True, regex=True)"
   ]
  },
  {
   "cell_type": "code",
   "execution_count": 1422,
   "id": "a42d6bc5",
   "metadata": {},
   "outputs": [],
   "source": [
    "#getting rid of with milk\n",
    "older_df['acidity3_hold'].replace(r'.*(ilk).*', '', inplace = True, regex=True)"
   ]
  },
  {
   "cell_type": "code",
   "execution_count": 1423,
   "id": "f12dc771",
   "metadata": {},
   "outputs": [],
   "source": [
    "#getting rid of aftertaste\n",
    "older_df['acidity3_hold'].replace(r'.*(tast).*', '', inplace = True, regex=True)"
   ]
  },
  {
   "cell_type": "code",
   "execution_count": 1424,
   "id": "2b2c4bf4",
   "metadata": {},
   "outputs": [],
   "source": [
    "#creating placeholder for review scores\n",
    "older_df['acidity_combo'] = older_df['acidity1_hold'].map(str) + older_df['acidity2_hold'].map(str) + older_df['acidity3_hold'].map(str)"
   ]
  },
  {
   "cell_type": "code",
   "execution_count": 1425,
   "id": "f3faad99",
   "metadata": {},
   "outputs": [],
   "source": [
    "#extracting aroma ratings from combined column\n",
    "older_df['acidity'] = older_df['acidity_combo'].str.extract(r'([0-9]+)')"
   ]
  },
  {
   "cell_type": "code",
   "execution_count": 1426,
   "id": "bfbbe235",
   "metadata": {},
   "outputs": [],
   "source": [
    "#drop unneeded price hold columns\n",
    "older_df.drop(['acidity1_hold', 'acidity2_hold', 'acidity3_hold', 'acidity_combo'], axis=1, inplace=True)"
   ]
  },
  {
   "cell_type": "code",
   "execution_count": 1427,
   "id": "da758009",
   "metadata": {},
   "outputs": [],
   "source": [
    "#updating cleaned score value data types to integer\n",
    "older_df['acidity'] = older_df['acidity'].astype('Int8')"
   ]
  },
  {
   "cell_type": "markdown",
   "id": "addc7958",
   "metadata": {},
   "source": [
    "Extracting body into its own column:"
   ]
  },
  {
   "cell_type": "code",
   "execution_count": 1428,
   "id": "cd45a20d",
   "metadata": {},
   "outputs": [],
   "source": [
    "#creating placeholder for acidity scores\n",
    "older_df['body1_hold'] = older_df['h1'].map(str) + older_df['s1'].map(str)"
   ]
  },
  {
   "cell_type": "code",
   "execution_count": 1429,
   "id": "0e0eeeb9",
   "metadata": {},
   "outputs": [],
   "source": [
    "#creating placeholder for acidity scores\n",
    "older_df['body2_hold'] = older_df['h2'].map(str) + older_df['s2'].map(str)"
   ]
  },
  {
   "cell_type": "code",
   "execution_count": 1430,
   "id": "1c93312a",
   "metadata": {},
   "outputs": [],
   "source": [
    "#creating placeholder for acidity scores\n",
    "older_df['body3_hold'] = older_df['h3'].map(str) + older_df['s3'].map(str)"
   ]
  },
  {
   "cell_type": "code",
   "execution_count": 1431,
   "id": "aaed1118",
   "metadata": {},
   "outputs": [],
   "source": [
    "#getting rid of aroma\n",
    "older_df['body1_hold'].replace(r'.*(roma).*', '', inplace = True, regex=True)"
   ]
  },
  {
   "cell_type": "code",
   "execution_count": 1432,
   "id": "9c182ef9",
   "metadata": {},
   "outputs": [],
   "source": [
    "#getting rid of review\n",
    "older_df['body1_hold'].replace(r'.*(eview).*', '', inplace = True, regex=True)"
   ]
  },
  {
   "cell_type": "code",
   "execution_count": 1433,
   "id": "d3a71d53",
   "metadata": {},
   "outputs": [],
   "source": [
    "#getting rid of acidity\n",
    "older_df['body1_hold'].replace(r'.*(cidity).*', '', inplace = True, regex=True)"
   ]
  },
  {
   "cell_type": "code",
   "execution_count": 1434,
   "id": "43beef4a",
   "metadata": {},
   "outputs": [],
   "source": [
    "#getting rid of acidity\n",
    "older_df['body2_hold'].replace(r'.*(cidity).*', '', inplace = True, regex=True)"
   ]
  },
  {
   "cell_type": "code",
   "execution_count": 1435,
   "id": "c115af1a",
   "metadata": {},
   "outputs": [],
   "source": [
    "#getting rid of acidity\n",
    "older_df['body2_hold'].replace(r'.*(roma).*', '', inplace = True, regex=True)"
   ]
  },
  {
   "cell_type": "code",
   "execution_count": 1436,
   "id": "e72975db",
   "metadata": {},
   "outputs": [],
   "source": [
    "#getting rid of acidity\n",
    "older_df['body2_hold'].replace(r'.*(lavor).*', '', inplace = True, regex=True)"
   ]
  },
  {
   "cell_type": "code",
   "execution_count": 1437,
   "id": "665d265b",
   "metadata": {},
   "outputs": [],
   "source": [
    "#getting rid of acidity\n",
    "older_df['body3_hold'].replace(r'.*(lavor).*', '', inplace = True, regex=True)"
   ]
  },
  {
   "cell_type": "code",
   "execution_count": 1438,
   "id": "ab1cea4d",
   "metadata": {},
   "outputs": [],
   "source": [
    "#getting rid of acidity\n",
    "older_df['body3_hold'].replace(r'.*(cidity).*', '', inplace = True, regex=True)"
   ]
  },
  {
   "cell_type": "code",
   "execution_count": 1439,
   "id": "5b18689f",
   "metadata": {},
   "outputs": [],
   "source": [
    "#getting rid of acidity\n",
    "older_df['body3_hold'].replace(r'.*(ilk).*', '', inplace = True, regex=True)"
   ]
  },
  {
   "cell_type": "code",
   "execution_count": 1440,
   "id": "3b16a8ee",
   "metadata": {},
   "outputs": [],
   "source": [
    "#creating placeholder for review scores\n",
    "older_df['body_combo'] = older_df['body1_hold'].map(str) + older_df['body2_hold'].map(str) + older_df['body3_hold'].map(str)"
   ]
  },
  {
   "cell_type": "code",
   "execution_count": 1441,
   "id": "c2429bc5",
   "metadata": {},
   "outputs": [],
   "source": [
    "#extracting body ratings from combined column\n",
    "\n",
    "older_df['body'] = older_df['body_combo'].str.extract(r'([0-9]+)')"
   ]
  },
  {
   "cell_type": "code",
   "execution_count": 1442,
   "id": "4843ae97",
   "metadata": {},
   "outputs": [],
   "source": [
    "#drop unneeded price hold columns\n",
    "older_df.drop(['body1_hold', 'body2_hold', 'body3_hold', 'body_combo'], axis=1, inplace=True)"
   ]
  },
  {
   "cell_type": "code",
   "execution_count": 1443,
   "id": "c839a538",
   "metadata": {},
   "outputs": [],
   "source": [
    "#updating cleaned score value data types to integer\n",
    "older_df['body'] = older_df['body'].astype('Int8')"
   ]
  },
  {
   "cell_type": "markdown",
   "id": "99151319",
   "metadata": {},
   "source": [
    "Extracting flavor into its own column:"
   ]
  },
  {
   "cell_type": "code",
   "execution_count": 1444,
   "id": "029e026b",
   "metadata": {},
   "outputs": [],
   "source": [
    "#creating placeholder for flavor scores\n",
    "older_df['flavor1_hold'] = older_df['h2'].map(str) + older_df['s2'].map(str)\n",
    "\n",
    "#creating placeholder for 2nd flavor scores\n",
    "older_df['flavor2_hold'] = older_df['h3'].map(str) + older_df['s3'].map(str)"
   ]
  },
  {
   "cell_type": "code",
   "execution_count": 1445,
   "id": "c40fb3ec",
   "metadata": {},
   "outputs": [],
   "source": [
    "#getting rid of aroma\n",
    "older_df['flavor1_hold'].replace(r'.*(roma).*', '', inplace = True, regex=True)"
   ]
  },
  {
   "cell_type": "code",
   "execution_count": 1446,
   "id": "fdc92469",
   "metadata": {},
   "outputs": [],
   "source": [
    "#getting rid of acidity\n",
    "older_df['flavor1_hold'].replace(r'.*(cidity).*', '', inplace = True, regex=True)"
   ]
  },
  {
   "cell_type": "code",
   "execution_count": 1447,
   "id": "decfaa04",
   "metadata": {},
   "outputs": [],
   "source": [
    "#getting rid of body\n",
    "older_df['flavor1_hold'].replace(r'.*(ody).*', '', inplace = True, regex=True)"
   ]
  },
  {
   "cell_type": "code",
   "execution_count": 1448,
   "id": "2a62912e",
   "metadata": {},
   "outputs": [],
   "source": [
    "#getting rid of aroma\n",
    "older_df['flavor2_hold'].replace(r'.*(ody).*', '', inplace = True, regex=True)"
   ]
  },
  {
   "cell_type": "code",
   "execution_count": 1449,
   "id": "50e49f43",
   "metadata": {},
   "outputs": [],
   "source": [
    "#getting rid of acidity\n",
    "older_df['flavor2_hold'].replace(r'.*(cidity).*', '', inplace = True, regex=True)"
   ]
  },
  {
   "cell_type": "code",
   "execution_count": 1450,
   "id": "cae3cc8f",
   "metadata": {},
   "outputs": [],
   "source": [
    "#getting rid of aroma\n",
    "older_df['flavor2_hold'].replace(r'.*(tast).*', '', inplace = True, regex=True)"
   ]
  },
  {
   "cell_type": "code",
   "execution_count": 1451,
   "id": "9fe9ddaf",
   "metadata": {},
   "outputs": [],
   "source": [
    "#getting rid of aroma\n",
    "older_df['flavor2_hold'].replace(r'.*(ilk).*', '', inplace = True, regex=True)"
   ]
  },
  {
   "cell_type": "code",
   "execution_count": 1452,
   "id": "fde9d93e",
   "metadata": {},
   "outputs": [],
   "source": [
    "#creating placeholder for agtron scores\n",
    "older_df['flavor_combo'] = older_df['flavor1_hold'].map(str) + older_df['flavor2_hold'].map(str)"
   ]
  },
  {
   "cell_type": "code",
   "execution_count": 1453,
   "id": "c1d7b5e1",
   "metadata": {},
   "outputs": [],
   "source": [
    "#extracting body ratings from combined column\n",
    "\n",
    "older_df['flavor'] = older_df['flavor_combo'].str.extract(r'([0-9]+)')"
   ]
  },
  {
   "cell_type": "code",
   "execution_count": 1454,
   "id": "a90448f7",
   "metadata": {},
   "outputs": [],
   "source": [
    "#drop unneeded price hold columns\n",
    "older_df.drop(['flavor1_hold', 'flavor2_hold', 'flavor_combo'], axis=1, inplace=True)"
   ]
  },
  {
   "cell_type": "code",
   "execution_count": 1455,
   "id": "5c57e3bf",
   "metadata": {},
   "outputs": [],
   "source": [
    "#updating cleaned score value data types to integer\n",
    "older_df['flavor'] = older_df['flavor'].astype('Int8')"
   ]
  },
  {
   "cell_type": "markdown",
   "id": "e73a201e",
   "metadata": {},
   "source": [
    "Extracting aftertaste into its own column:"
   ]
  },
  {
   "cell_type": "code",
   "execution_count": 1456,
   "id": "ec5226fe",
   "metadata": {},
   "outputs": [],
   "source": [
    "#creating placeholder for flavor scores\n",
    "older_df['after1_hold'] = older_df['h3'].map(str) + older_df['s3'].map(str)"
   ]
  },
  {
   "cell_type": "code",
   "execution_count": 1457,
   "id": "a758289a",
   "metadata": {},
   "outputs": [],
   "source": [
    "#getting rid of body\n",
    "older_df['after1_hold'].replace(r'.*(ody).*', '', inplace = True, regex=True)"
   ]
  },
  {
   "cell_type": "code",
   "execution_count": 1458,
   "id": "19dd69b5",
   "metadata": {},
   "outputs": [],
   "source": [
    "#getting rid of acidity\n",
    "older_df['after1_hold'].replace(r'.*(cidity).*', '', inplace = True, regex=True)"
   ]
  },
  {
   "cell_type": "code",
   "execution_count": 1459,
   "id": "d80e8fe5",
   "metadata": {},
   "outputs": [],
   "source": [
    "#getting rid of flavor\n",
    "older_df['after1_hold'].replace(r'.*(lavor).*', '', inplace = True, regex=True)"
   ]
  },
  {
   "cell_type": "code",
   "execution_count": 1460,
   "id": "11d7aa94",
   "metadata": {},
   "outputs": [],
   "source": [
    "#getting rid of with milk\n",
    "older_df['after1_hold'].replace(r'.*(ilk).*', '', inplace = True, regex=True)"
   ]
  },
  {
   "cell_type": "code",
   "execution_count": 1461,
   "id": "d8a35911",
   "metadata": {},
   "outputs": [],
   "source": [
    "#extracting body ratings from combined column\n",
    "\n",
    "older_df['aftertaste'] = older_df['after1_hold'].str.extract(r'([0-9]+)')"
   ]
  },
  {
   "cell_type": "code",
   "execution_count": 1462,
   "id": "a8e6754f",
   "metadata": {},
   "outputs": [],
   "source": [
    "#drop unneeded price hold columns\n",
    "older_df.drop(['after1_hold'], axis=1, inplace=True)"
   ]
  },
  {
   "cell_type": "code",
   "execution_count": 1463,
   "id": "1ecb00a5",
   "metadata": {},
   "outputs": [],
   "source": [
    "#updating cleaned score value data types to integer\n",
    "older_df['aftertaste'] = older_df['aftertaste'].astype('Int8')"
   ]
  },
  {
   "cell_type": "markdown",
   "id": "d20f0566",
   "metadata": {},
   "source": [
    "Extracting with milk into its own column:"
   ]
  },
  {
   "cell_type": "code",
   "execution_count": 1464,
   "id": "3444b50b",
   "metadata": {},
   "outputs": [],
   "source": [
    "#creating placeholder for flavor scores\n",
    "older_df['milk1_hold'] = older_df['h3'].map(str) + older_df['s3'].map(str)"
   ]
  },
  {
   "cell_type": "code",
   "execution_count": 1465,
   "id": "4ceb1ad7",
   "metadata": {},
   "outputs": [],
   "source": [
    "#getting rid of body\n",
    "older_df['milk1_hold'].replace(r'.*(ody).*', '', inplace = True, regex=True)"
   ]
  },
  {
   "cell_type": "code",
   "execution_count": 1466,
   "id": "23dec27d",
   "metadata": {},
   "outputs": [],
   "source": [
    "#getting rid of acidity\n",
    "older_df['milk1_hold'].replace(r'.*(cidity).*', '', inplace = True, regex=True)"
   ]
  },
  {
   "cell_type": "code",
   "execution_count": 1467,
   "id": "e39f9071",
   "metadata": {},
   "outputs": [],
   "source": [
    "#getting rid of body\n",
    "older_df['milk1_hold'].replace(r'.*(tast).*', '', inplace = True, regex=True)"
   ]
  },
  {
   "cell_type": "code",
   "execution_count": 1468,
   "id": "96319075",
   "metadata": {},
   "outputs": [],
   "source": [
    "#getting rid of body\n",
    "older_df['milk1_hold'].replace(r'(With Milk:Flavor in milk: 5).*', '5', inplace = True, regex=True)"
   ]
  },
  {
   "cell_type": "code",
   "execution_count": 1469,
   "id": "1d6f3dd2",
   "metadata": {},
   "outputs": [],
   "source": [
    "#getting rid of body\n",
    "older_df['milk1_hold'].replace(r'(With Milk:Flavor in milk: 6).*', '6', inplace = True, regex=True)"
   ]
  },
  {
   "cell_type": "code",
   "execution_count": 1470,
   "id": "cdd24692",
   "metadata": {},
   "outputs": [],
   "source": [
    "#getting rid of body\n",
    "older_df['milk1_hold'].replace(r'(With Milk:Flavor in milk: 7).*', '7', inplace = True, regex=True)"
   ]
  },
  {
   "cell_type": "code",
   "execution_count": 1471,
   "id": "6370c0cf",
   "metadata": {},
   "outputs": [],
   "source": [
    "#getting rid of body\n",
    "older_df['milk1_hold'].replace(r'.*(lavor).*', '', inplace = True, regex=True)"
   ]
  },
  {
   "cell_type": "code",
   "execution_count": 1472,
   "id": "35ce47f6",
   "metadata": {},
   "outputs": [],
   "source": [
    "#extracting body ratings from combined column\n",
    "\n",
    "older_df['with_milk'] = older_df['milk1_hold'].str.extract(r'([0-9]+)')"
   ]
  },
  {
   "cell_type": "code",
   "execution_count": 1473,
   "id": "17a62d34",
   "metadata": {},
   "outputs": [
    {
     "data": {
      "text/plain": [
       "array([nan, '7', '8', '6', '5'], dtype=object)"
      ]
     },
     "execution_count": 1473,
     "metadata": {},
     "output_type": "execute_result"
    }
   ],
   "source": [
    "older_df['with_milk'].unique()"
   ]
  },
  {
   "cell_type": "code",
   "execution_count": 1474,
   "id": "5f93fa91",
   "metadata": {},
   "outputs": [],
   "source": [
    "#drop unneeded price hold columns\n",
    "older_df.drop(['milk1_hold'], axis=1, inplace=True)"
   ]
  },
  {
   "cell_type": "code",
   "execution_count": 1475,
   "id": "7ff950ac",
   "metadata": {},
   "outputs": [],
   "source": [
    "#updating cleaned score value data types to integer\n",
    "older_df['with_milk'] = older_df['with_milk'].astype('Int8')"
   ]
  },
  {
   "cell_type": "markdown",
   "id": "0d9c8b6d",
   "metadata": {},
   "source": [
    "Dropping columns not needed now that data is extracted:"
   ]
  },
  {
   "cell_type": "code",
   "execution_count": 1476,
   "id": "e8145031",
   "metadata": {},
   "outputs": [],
   "source": [
    "#drop unneeded price hold columns\n",
    "older_df.drop(['x1', 'coffee_origin', 'x2', 'roast_level', 'x3', 'agtron', 'x4', 'est_price', 'h1', 's1', 'h2', 's2', 'h3', 's3'], axis=1, inplace=True)"
   ]
  },
  {
   "cell_type": "code",
   "execution_count": 1477,
   "id": "fc7ae158",
   "metadata": {},
   "outputs": [],
   "source": [
    "older_df.to_csv('clean_older_df.csv', index=False)"
   ]
  },
  {
   "cell_type": "markdown",
   "id": "805c4e8a",
   "metadata": {},
   "source": [
    "### Splitting agtron into two columns, one for whole bean score and one for ground score\n",
    "\n",
    "- The first number refers to the bean agtron score\n",
    "- The second number refers to the ground agtron score"
   ]
  },
  {
   "cell_type": "code",
   "execution_count": 1478,
   "id": "55500db8",
   "metadata": {},
   "outputs": [],
   "source": [
    "#split agtron into 2 columns\n",
    "older_df[['bean_agtron','ground_agtron']] = older_df['agtron_new'].str.split(\"/\",expand=True)"
   ]
  },
  {
   "cell_type": "code",
   "execution_count": 1479,
   "id": "93b15ddc",
   "metadata": {},
   "outputs": [
    {
     "data": {
      "text/html": [
       "<div>\n",
       "<style scoped>\n",
       "    .dataframe tbody tr th:only-of-type {\n",
       "        vertical-align: middle;\n",
       "    }\n",
       "\n",
       "    .dataframe tbody tr th {\n",
       "        vertical-align: top;\n",
       "    }\n",
       "\n",
       "    .dataframe thead th {\n",
       "        text-align: right;\n",
       "    }\n",
       "</style>\n",
       "<table border=\"1\" class=\"dataframe\">\n",
       "  <thead>\n",
       "    <tr style=\"text-align: right;\">\n",
       "      <th></th>\n",
       "      <th>coffee_name</th>\n",
       "      <th>roaster_name</th>\n",
       "      <th>overall_score</th>\n",
       "      <th>roaster_location</th>\n",
       "      <th>p1</th>\n",
       "      <th>p2</th>\n",
       "      <th>p3</th>\n",
       "      <th>origin</th>\n",
       "      <th>roast</th>\n",
       "      <th>agtron_new</th>\n",
       "      <th>review</th>\n",
       "      <th>price</th>\n",
       "      <th>aroma</th>\n",
       "      <th>acidity</th>\n",
       "      <th>body</th>\n",
       "      <th>flavor</th>\n",
       "      <th>aftertaste</th>\n",
       "      <th>with_milk</th>\n",
       "      <th>bean_agtron</th>\n",
       "      <th>ground_agtron</th>\n",
       "    </tr>\n",
       "  </thead>\n",
       "  <tbody>\n",
       "    <tr>\n",
       "      <th>0</th>\n",
       "      <td>Doi Chaang Wild Civet Coffee</td>\n",
       "      <td>Doi Chaang Coffee</td>\n",
       "      <td>90</td>\n",
       "      <td>Calgary, Alberta, Canada</td>\n",
       "      <td>Blind Assessment: Intriguing mid-tones through...</td>\n",
       "      <td>Notes: Doi Chaang is a single-estate coffee pr...</td>\n",
       "      <td>Who Should Drink It: Culinary adventurers who ...</td>\n",
       "      <td>Northern Thailand.</td>\n",
       "      <td>Medium-Light</td>\n",
       "      <td>49/80</td>\n",
       "      <td>June 2009</td>\n",
       "      <td>None</td>\n",
       "      <td>8</td>\n",
       "      <td>8</td>\n",
       "      <td>7</td>\n",
       "      <td>&lt;NA&gt;</td>\n",
       "      <td>&lt;NA&gt;</td>\n",
       "      <td>&lt;NA&gt;</td>\n",
       "      <td>49</td>\n",
       "      <td>80</td>\n",
       "    </tr>\n",
       "    <tr>\n",
       "      <th>1</th>\n",
       "      <td>Kenya AA Lenana</td>\n",
       "      <td>Après Coffee</td>\n",
       "      <td>92</td>\n",
       "      <td>Lancaster, Pennsylvania</td>\n",
       "      <td>Blind Assessment: Rich, very intense aroma: da...</td>\n",
       "      <td>Notes: Despite stresses brought on by social u...</td>\n",
       "      <td>Who Should Drink It: Those who prefer understa...</td>\n",
       "      <td>South-central Kenya</td>\n",
       "      <td>Medium-Dark</td>\n",
       "      <td>42/53</td>\n",
       "      <td>June 2009</td>\n",
       "      <td>None</td>\n",
       "      <td>8</td>\n",
       "      <td>8</td>\n",
       "      <td>7</td>\n",
       "      <td>&lt;NA&gt;</td>\n",
       "      <td>&lt;NA&gt;</td>\n",
       "      <td>&lt;NA&gt;</td>\n",
       "      <td>42</td>\n",
       "      <td>53</td>\n",
       "    </tr>\n",
       "    <tr>\n",
       "      <th>2</th>\n",
       "      <td>Mele 100% Kona Coffee</td>\n",
       "      <td>Hula Daddy</td>\n",
       "      <td>92</td>\n",
       "      <td>Holualoa, Hawaii</td>\n",
       "      <td>Blind Assessment: An exciting, rather unusual ...</td>\n",
       "      <td>Notes: A blend of coffees processed by a varie...</td>\n",
       "      <td>Who Should Drink It: An exhilarating sensory r...</td>\n",
       "      <td>Holualoa, North Kona growing district, Hawaii.</td>\n",
       "      <td>Medium-Light</td>\n",
       "      <td>51/73</td>\n",
       "      <td>June 2009</td>\n",
       "      <td>None</td>\n",
       "      <td>8</td>\n",
       "      <td>8</td>\n",
       "      <td>7</td>\n",
       "      <td>&lt;NA&gt;</td>\n",
       "      <td>&lt;NA&gt;</td>\n",
       "      <td>&lt;NA&gt;</td>\n",
       "      <td>51</td>\n",
       "      <td>73</td>\n",
       "    </tr>\n",
       "    <tr>\n",
       "      <th>3</th>\n",
       "      <td>Kenya Peaberry Thika Gethumbwini</td>\n",
       "      <td>JBC Coffee Roasters</td>\n",
       "      <td>96</td>\n",
       "      <td>Madison, Wisconsin</td>\n",
       "      <td>Blind Assessment: Clean, complex, impeccable. ...</td>\n",
       "      <td>Notes: Despite national coffee leadership mark...</td>\n",
       "      <td>Who Should Drink It: Strikingly complete expre...</td>\n",
       "      <td>South-central Kenya</td>\n",
       "      <td>Light</td>\n",
       "      <td>57/90</td>\n",
       "      <td>June 2009</td>\n",
       "      <td>None</td>\n",
       "      <td>8</td>\n",
       "      <td>9</td>\n",
       "      <td>8</td>\n",
       "      <td>&lt;NA&gt;</td>\n",
       "      <td>&lt;NA&gt;</td>\n",
       "      <td>&lt;NA&gt;</td>\n",
       "      <td>57</td>\n",
       "      <td>90</td>\n",
       "    </tr>\n",
       "    <tr>\n",
       "      <th>4</th>\n",
       "      <td>Kenya Gititu Peaberry</td>\n",
       "      <td>Atomic Cafe Coffee Roasters</td>\n",
       "      <td>92</td>\n",
       "      <td>Beverly, Massachusetts</td>\n",
       "      <td>Blind Assessment: Rich, complex fruit aroma, i...</td>\n",
       "      <td>Notes: Despite stresses brought on by social u...</td>\n",
       "      <td>Who Should Drink It: Lovers of sweet fruit fla...</td>\n",
       "      <td>South-central Kenya</td>\n",
       "      <td>Medium</td>\n",
       "      <td>44/63</td>\n",
       "      <td>June 2009</td>\n",
       "      <td>None</td>\n",
       "      <td>8</td>\n",
       "      <td>8</td>\n",
       "      <td>8</td>\n",
       "      <td>&lt;NA&gt;</td>\n",
       "      <td>&lt;NA&gt;</td>\n",
       "      <td>&lt;NA&gt;</td>\n",
       "      <td>44</td>\n",
       "      <td>63</td>\n",
       "    </tr>\n",
       "  </tbody>\n",
       "</table>\n",
       "</div>"
      ],
      "text/plain": [
       "                        coffee_name                 roaster_name  \\\n",
       "0      Doi Chaang Wild Civet Coffee            Doi Chaang Coffee   \n",
       "1                   Kenya AA Lenana                 Après Coffee   \n",
       "2             Mele 100% Kona Coffee                   Hula Daddy   \n",
       "3  Kenya Peaberry Thika Gethumbwini          JBC Coffee Roasters   \n",
       "4             Kenya Gititu Peaberry  Atomic Cafe Coffee Roasters   \n",
       "\n",
       "  overall_score          roaster_location  \\\n",
       "0            90  Calgary, Alberta, Canada   \n",
       "1            92   Lancaster, Pennsylvania   \n",
       "2            92          Holualoa, Hawaii   \n",
       "3            96        Madison, Wisconsin   \n",
       "4            92    Beverly, Massachusetts   \n",
       "\n",
       "                                                  p1  \\\n",
       "0  Blind Assessment: Intriguing mid-tones through...   \n",
       "1  Blind Assessment: Rich, very intense aroma: da...   \n",
       "2  Blind Assessment: An exciting, rather unusual ...   \n",
       "3  Blind Assessment: Clean, complex, impeccable. ...   \n",
       "4  Blind Assessment: Rich, complex fruit aroma, i...   \n",
       "\n",
       "                                                  p2  \\\n",
       "0  Notes: Doi Chaang is a single-estate coffee pr...   \n",
       "1  Notes: Despite stresses brought on by social u...   \n",
       "2  Notes: A blend of coffees processed by a varie...   \n",
       "3  Notes: Despite national coffee leadership mark...   \n",
       "4  Notes: Despite stresses brought on by social u...   \n",
       "\n",
       "                                                  p3  \\\n",
       "0  Who Should Drink It: Culinary adventurers who ...   \n",
       "1  Who Should Drink It: Those who prefer understa...   \n",
       "2  Who Should Drink It: An exhilarating sensory r...   \n",
       "3  Who Should Drink It: Strikingly complete expre...   \n",
       "4  Who Should Drink It: Lovers of sweet fruit fla...   \n",
       "\n",
       "                                           origin         roast agtron_new  \\\n",
       "0                              Northern Thailand.  Medium-Light     49/80    \n",
       "1                             South-central Kenya   Medium-Dark     42/53    \n",
       "2  Holualoa, North Kona growing district, Hawaii.  Medium-Light     51/73    \n",
       "3                             South-central Kenya         Light     57/90    \n",
       "4                             South-central Kenya        Medium     44/63    \n",
       "\n",
       "       review price  aroma  acidity  body  flavor  aftertaste  with_milk  \\\n",
       "0  June 2009   None      8        8     7    <NA>        <NA>       <NA>   \n",
       "1  June 2009   None      8        8     7    <NA>        <NA>       <NA>   \n",
       "2  June 2009   None      8        8     7    <NA>        <NA>       <NA>   \n",
       "3  June 2009   None      8        9     8    <NA>        <NA>       <NA>   \n",
       "4  June 2009   None      8        8     8    <NA>        <NA>       <NA>   \n",
       "\n",
       "  bean_agtron ground_agtron  \n",
       "0          49           80   \n",
       "1          42           53   \n",
       "2          51           73   \n",
       "3          57           90   \n",
       "4          44           63   "
      ]
     },
     "execution_count": 1479,
     "metadata": {},
     "output_type": "execute_result"
    }
   ],
   "source": [
    "#verify split\n",
    "older_df.head()"
   ]
  },
  {
   "cell_type": "code",
   "execution_count": 1480,
   "id": "c489de08",
   "metadata": {},
   "outputs": [],
   "source": [
    "#drop unneeded agtron column\n",
    "older_df.drop('agtron_new', axis=1, inplace=True)"
   ]
  },
  {
   "cell_type": "code",
   "execution_count": 1481,
   "id": "8404a3ff",
   "metadata": {
    "scrolled": false
   },
   "outputs": [
    {
     "data": {
      "text/html": [
       "<div>\n",
       "<style scoped>\n",
       "    .dataframe tbody tr th:only-of-type {\n",
       "        vertical-align: middle;\n",
       "    }\n",
       "\n",
       "    .dataframe tbody tr th {\n",
       "        vertical-align: top;\n",
       "    }\n",
       "\n",
       "    .dataframe thead th {\n",
       "        text-align: right;\n",
       "    }\n",
       "</style>\n",
       "<table border=\"1\" class=\"dataframe\">\n",
       "  <thead>\n",
       "    <tr style=\"text-align: right;\">\n",
       "      <th></th>\n",
       "      <th>coffee_name</th>\n",
       "      <th>roaster_name</th>\n",
       "      <th>overall_score</th>\n",
       "      <th>roaster_location</th>\n",
       "      <th>p1</th>\n",
       "      <th>p2</th>\n",
       "      <th>p3</th>\n",
       "      <th>origin</th>\n",
       "      <th>roast</th>\n",
       "      <th>review</th>\n",
       "      <th>price</th>\n",
       "      <th>aroma</th>\n",
       "      <th>acidity</th>\n",
       "      <th>body</th>\n",
       "      <th>flavor</th>\n",
       "      <th>aftertaste</th>\n",
       "      <th>with_milk</th>\n",
       "      <th>bean_agtron</th>\n",
       "      <th>ground_agtron</th>\n",
       "    </tr>\n",
       "  </thead>\n",
       "  <tbody>\n",
       "    <tr>\n",
       "      <th>0</th>\n",
       "      <td>Doi Chaang Wild Civet Coffee</td>\n",
       "      <td>Doi Chaang Coffee</td>\n",
       "      <td>90</td>\n",
       "      <td>Calgary, Alberta, Canada</td>\n",
       "      <td>Blind Assessment: Intriguing mid-tones through...</td>\n",
       "      <td>Notes: Doi Chaang is a single-estate coffee pr...</td>\n",
       "      <td>Who Should Drink It: Culinary adventurers who ...</td>\n",
       "      <td>Northern Thailand.</td>\n",
       "      <td>Medium-Light</td>\n",
       "      <td>June 2009</td>\n",
       "      <td>None</td>\n",
       "      <td>8</td>\n",
       "      <td>8</td>\n",
       "      <td>7</td>\n",
       "      <td>&lt;NA&gt;</td>\n",
       "      <td>&lt;NA&gt;</td>\n",
       "      <td>&lt;NA&gt;</td>\n",
       "      <td>49</td>\n",
       "      <td>80</td>\n",
       "    </tr>\n",
       "    <tr>\n",
       "      <th>1</th>\n",
       "      <td>Kenya AA Lenana</td>\n",
       "      <td>Après Coffee</td>\n",
       "      <td>92</td>\n",
       "      <td>Lancaster, Pennsylvania</td>\n",
       "      <td>Blind Assessment: Rich, very intense aroma: da...</td>\n",
       "      <td>Notes: Despite stresses brought on by social u...</td>\n",
       "      <td>Who Should Drink It: Those who prefer understa...</td>\n",
       "      <td>South-central Kenya</td>\n",
       "      <td>Medium-Dark</td>\n",
       "      <td>June 2009</td>\n",
       "      <td>None</td>\n",
       "      <td>8</td>\n",
       "      <td>8</td>\n",
       "      <td>7</td>\n",
       "      <td>&lt;NA&gt;</td>\n",
       "      <td>&lt;NA&gt;</td>\n",
       "      <td>&lt;NA&gt;</td>\n",
       "      <td>42</td>\n",
       "      <td>53</td>\n",
       "    </tr>\n",
       "    <tr>\n",
       "      <th>2</th>\n",
       "      <td>Mele 100% Kona Coffee</td>\n",
       "      <td>Hula Daddy</td>\n",
       "      <td>92</td>\n",
       "      <td>Holualoa, Hawaii</td>\n",
       "      <td>Blind Assessment: An exciting, rather unusual ...</td>\n",
       "      <td>Notes: A blend of coffees processed by a varie...</td>\n",
       "      <td>Who Should Drink It: An exhilarating sensory r...</td>\n",
       "      <td>Holualoa, North Kona growing district, Hawaii.</td>\n",
       "      <td>Medium-Light</td>\n",
       "      <td>June 2009</td>\n",
       "      <td>None</td>\n",
       "      <td>8</td>\n",
       "      <td>8</td>\n",
       "      <td>7</td>\n",
       "      <td>&lt;NA&gt;</td>\n",
       "      <td>&lt;NA&gt;</td>\n",
       "      <td>&lt;NA&gt;</td>\n",
       "      <td>51</td>\n",
       "      <td>73</td>\n",
       "    </tr>\n",
       "    <tr>\n",
       "      <th>3</th>\n",
       "      <td>Kenya Peaberry Thika Gethumbwini</td>\n",
       "      <td>JBC Coffee Roasters</td>\n",
       "      <td>96</td>\n",
       "      <td>Madison, Wisconsin</td>\n",
       "      <td>Blind Assessment: Clean, complex, impeccable. ...</td>\n",
       "      <td>Notes: Despite national coffee leadership mark...</td>\n",
       "      <td>Who Should Drink It: Strikingly complete expre...</td>\n",
       "      <td>South-central Kenya</td>\n",
       "      <td>Light</td>\n",
       "      <td>June 2009</td>\n",
       "      <td>None</td>\n",
       "      <td>8</td>\n",
       "      <td>9</td>\n",
       "      <td>8</td>\n",
       "      <td>&lt;NA&gt;</td>\n",
       "      <td>&lt;NA&gt;</td>\n",
       "      <td>&lt;NA&gt;</td>\n",
       "      <td>57</td>\n",
       "      <td>90</td>\n",
       "    </tr>\n",
       "    <tr>\n",
       "      <th>4</th>\n",
       "      <td>Kenya Gititu Peaberry</td>\n",
       "      <td>Atomic Cafe Coffee Roasters</td>\n",
       "      <td>92</td>\n",
       "      <td>Beverly, Massachusetts</td>\n",
       "      <td>Blind Assessment: Rich, complex fruit aroma, i...</td>\n",
       "      <td>Notes: Despite stresses brought on by social u...</td>\n",
       "      <td>Who Should Drink It: Lovers of sweet fruit fla...</td>\n",
       "      <td>South-central Kenya</td>\n",
       "      <td>Medium</td>\n",
       "      <td>June 2009</td>\n",
       "      <td>None</td>\n",
       "      <td>8</td>\n",
       "      <td>8</td>\n",
       "      <td>8</td>\n",
       "      <td>&lt;NA&gt;</td>\n",
       "      <td>&lt;NA&gt;</td>\n",
       "      <td>&lt;NA&gt;</td>\n",
       "      <td>44</td>\n",
       "      <td>63</td>\n",
       "    </tr>\n",
       "  </tbody>\n",
       "</table>\n",
       "</div>"
      ],
      "text/plain": [
       "                        coffee_name                 roaster_name  \\\n",
       "0      Doi Chaang Wild Civet Coffee            Doi Chaang Coffee   \n",
       "1                   Kenya AA Lenana                 Après Coffee   \n",
       "2             Mele 100% Kona Coffee                   Hula Daddy   \n",
       "3  Kenya Peaberry Thika Gethumbwini          JBC Coffee Roasters   \n",
       "4             Kenya Gititu Peaberry  Atomic Cafe Coffee Roasters   \n",
       "\n",
       "  overall_score          roaster_location  \\\n",
       "0            90  Calgary, Alberta, Canada   \n",
       "1            92   Lancaster, Pennsylvania   \n",
       "2            92          Holualoa, Hawaii   \n",
       "3            96        Madison, Wisconsin   \n",
       "4            92    Beverly, Massachusetts   \n",
       "\n",
       "                                                  p1  \\\n",
       "0  Blind Assessment: Intriguing mid-tones through...   \n",
       "1  Blind Assessment: Rich, very intense aroma: da...   \n",
       "2  Blind Assessment: An exciting, rather unusual ...   \n",
       "3  Blind Assessment: Clean, complex, impeccable. ...   \n",
       "4  Blind Assessment: Rich, complex fruit aroma, i...   \n",
       "\n",
       "                                                  p2  \\\n",
       "0  Notes: Doi Chaang is a single-estate coffee pr...   \n",
       "1  Notes: Despite stresses brought on by social u...   \n",
       "2  Notes: A blend of coffees processed by a varie...   \n",
       "3  Notes: Despite national coffee leadership mark...   \n",
       "4  Notes: Despite stresses brought on by social u...   \n",
       "\n",
       "                                                  p3  \\\n",
       "0  Who Should Drink It: Culinary adventurers who ...   \n",
       "1  Who Should Drink It: Those who prefer understa...   \n",
       "2  Who Should Drink It: An exhilarating sensory r...   \n",
       "3  Who Should Drink It: Strikingly complete expre...   \n",
       "4  Who Should Drink It: Lovers of sweet fruit fla...   \n",
       "\n",
       "                                           origin         roast      review  \\\n",
       "0                              Northern Thailand.  Medium-Light  June 2009    \n",
       "1                             South-central Kenya   Medium-Dark  June 2009    \n",
       "2  Holualoa, North Kona growing district, Hawaii.  Medium-Light  June 2009    \n",
       "3                             South-central Kenya         Light  June 2009    \n",
       "4                             South-central Kenya        Medium  June 2009    \n",
       "\n",
       "  price  aroma  acidity  body  flavor  aftertaste  with_milk bean_agtron  \\\n",
       "0  None      8        8     7    <NA>        <NA>       <NA>          49   \n",
       "1  None      8        8     7    <NA>        <NA>       <NA>          42   \n",
       "2  None      8        8     7    <NA>        <NA>       <NA>          51   \n",
       "3  None      8        9     8    <NA>        <NA>       <NA>          57   \n",
       "4  None      8        8     8    <NA>        <NA>       <NA>          44   \n",
       "\n",
       "  ground_agtron  \n",
       "0           80   \n",
       "1           53   \n",
       "2           73   \n",
       "3           90   \n",
       "4           63   "
      ]
     },
     "execution_count": 1481,
     "metadata": {},
     "output_type": "execute_result"
    }
   ],
   "source": [
    "#checking drop\n",
    "older_df.head()"
   ]
  },
  {
   "cell_type": "code",
   "execution_count": 1482,
   "id": "85e32461",
   "metadata": {},
   "outputs": [
    {
     "data": {
      "text/plain": [
       "8     831\n",
       "7     467\n",
       "9     226\n",
       "6     153\n",
       "5      68\n",
       "4      22\n",
       "10     15\n",
       "3       3\n",
       "Name: aroma, dtype: Int64"
      ]
     },
     "execution_count": 1482,
     "metadata": {},
     "output_type": "execute_result"
    }
   ],
   "source": [
    "#updating cleaned score value data types to integer\n",
    "older_df['aroma'].value_counts()"
   ]
  },
  {
   "cell_type": "markdown",
   "id": "0ca66331",
   "metadata": {},
   "source": [
    "### Turning new agtron columns into numerical values"
   ]
  },
  {
   "cell_type": "markdown",
   "id": "033d0b13",
   "metadata": {},
   "source": [
    "Cleaning up bean_agtron to integer type:"
   ]
  },
  {
   "cell_type": "code",
   "execution_count": 1483,
   "id": "cce28326",
   "metadata": {},
   "outputs": [
    {
     "data": {
      "text/plain": [
       "array(['49', '42', '51', '57', '44', '55', '53', '50', '41', '47', '46',\n",
       "       '43', '58', '23', '37', '26', '32', '39', '0', '65', '54', '31',\n",
       "       '52', '45', '48', '28', '59', '40', '63', '38', '27', '18', '36',\n",
       "       '60', '69', '29', '75', '56', '62', '71', '76', '66', '64', '61',\n",
       "       '20', '35', '21', '25', '34', '70', '33', '30', '22', '19', '24',\n",
       "       '15', '14', '', '68', '67', 'g', '77', '17', '11', '43.5'],\n",
       "      dtype=object)"
      ]
     },
     "execution_count": 1483,
     "metadata": {},
     "output_type": "execute_result"
    }
   ],
   "source": [
    "#checking values to see which need updated to allow switch to integer\n",
    "older_df['bean_agtron'].unique()"
   ]
  },
  {
   "cell_type": "code",
   "execution_count": 1484,
   "id": "b78e8b8c",
   "metadata": {},
   "outputs": [],
   "source": [
    "#turning blank into nans\n",
    "older_df['bean_agtron'].replace('', np.nan, inplace=True)"
   ]
  },
  {
   "cell_type": "code",
   "execution_count": 1485,
   "id": "9a612277",
   "metadata": {},
   "outputs": [],
   "source": [
    "#turning 'g' into nans\n",
    "older_df['bean_agtron'].replace('g', np.nan, inplace=True)"
   ]
  },
  {
   "cell_type": "code",
   "execution_count": 1486,
   "id": "da72b6dd",
   "metadata": {},
   "outputs": [],
   "source": [
    "#converting to float\n",
    "older_df['bean_agtron'] = older_df['bean_agtron'].astype('float')"
   ]
  },
  {
   "cell_type": "code",
   "execution_count": 1487,
   "id": "0e9cd32b",
   "metadata": {},
   "outputs": [],
   "source": [
    "#round numbers\n",
    "older_df['bean_agtron'] = older_df['bean_agtron'].round()"
   ]
  },
  {
   "cell_type": "code",
   "execution_count": 1488,
   "id": "4f461c46",
   "metadata": {},
   "outputs": [],
   "source": [
    "#converting to integer\n",
    "older_df['bean_agtron'] = older_df['bean_agtron'].astype('Int8')"
   ]
  },
  {
   "cell_type": "markdown",
   "id": "972210d1",
   "metadata": {},
   "source": [
    "Cleaning up ground_agtron to integer type:"
   ]
  },
  {
   "cell_type": "code",
   "execution_count": 1489,
   "id": "da70c176",
   "metadata": {},
   "outputs": [
    {
     "data": {
      "text/plain": [
       "       211\n",
       "66      45\n",
       "63      44\n",
       "0       41\n",
       "58      41\n",
       "      ... \n",
       "wb       1\n",
       "81       1\n",
       "25       1\n",
       "28       1\n",
       "68       1\n",
       "Name: ground_agtron, Length: 134, dtype: int64"
      ]
     },
     "execution_count": 1489,
     "metadata": {},
     "output_type": "execute_result"
    }
   ],
   "source": [
    "#checking values to see which need updated to allow switch to integer\n",
    "older_df['ground_agtron'].value_counts()"
   ]
  },
  {
   "cell_type": "code",
   "execution_count": 1490,
   "id": "584e8934",
   "metadata": {},
   "outputs": [],
   "source": [
    "#extracting body ratings from combined column\n",
    "\n",
    "older_df['ground_agtron'] = older_df['ground_agtron'].str.extract(r'([0-9]+)')"
   ]
  },
  {
   "cell_type": "code",
   "execution_count": 1491,
   "id": "2465a975",
   "metadata": {},
   "outputs": [],
   "source": [
    "#converting to integer\n",
    "older_df['ground_agtron'] = older_df['ground_agtron'].astype('Int8')"
   ]
  },
  {
   "cell_type": "code",
   "execution_count": 1492,
   "id": "eaeb9934",
   "metadata": {
    "scrolled": true
   },
   "outputs": [
    {
     "name": "stdout",
     "output_type": "stream",
     "text": [
      "<class 'pandas.core.frame.DataFrame'>\n",
      "RangeIndex: 1788 entries, 0 to 1787\n",
      "Data columns (total 19 columns):\n",
      " #   Column            Non-Null Count  Dtype \n",
      "---  ------            --------------  ----- \n",
      " 0   coffee_name       1788 non-null   object\n",
      " 1   roaster_name      1788 non-null   object\n",
      " 2   overall_score     1788 non-null   object\n",
      " 3   roaster_location  1786 non-null   object\n",
      " 4   p1                1788 non-null   object\n",
      " 5   p2                1788 non-null   object\n",
      " 6   p3                1788 non-null   object\n",
      " 7   origin            1309 non-null   object\n",
      " 8   roast             1788 non-null   object\n",
      " 9   review            1788 non-null   object\n",
      " 10  price             62 non-null     object\n",
      " 11  aroma             1785 non-null   Int8  \n",
      " 12  acidity           1452 non-null   Int8  \n",
      " 13  body              1733 non-null   Int8  \n",
      " 14  flavor            767 non-null    Int8  \n",
      " 15  aftertaste        2 non-null      Int8  \n",
      " 16  with_milk         9 non-null      Int8  \n",
      " 17  bean_agtron       1549 non-null   Int8  \n",
      " 18  ground_agtron     1554 non-null   Int8  \n",
      "dtypes: Int8(8), object(11)\n",
      "memory usage: 181.7+ KB\n"
     ]
    }
   ],
   "source": [
    "#verifying data type updates\n",
    "older_df.info()"
   ]
  },
  {
   "cell_type": "markdown",
   "id": "21cef4f8",
   "metadata": {},
   "source": [
    "### Turn overall score into integer"
   ]
  },
  {
   "cell_type": "code",
   "execution_count": 1493,
   "id": "5de4e137",
   "metadata": {},
   "outputs": [],
   "source": [
    "#getting rid of aroma\n",
    "older_df['overall_score'].replace(r'(NR)', '', inplace = True, regex=True)"
   ]
  },
  {
   "cell_type": "code",
   "execution_count": 1494,
   "id": "3e317f06",
   "metadata": {},
   "outputs": [],
   "source": [
    "#turning blank into nans\n",
    "older_df['overall_score'].replace('', np.nan, inplace=True)"
   ]
  },
  {
   "cell_type": "code",
   "execution_count": 1495,
   "id": "88affc1f",
   "metadata": {},
   "outputs": [],
   "source": [
    "#converting to integer\n",
    "older_df['overall_score'] = older_df['overall_score'].astype('Int8')"
   ]
  },
  {
   "cell_type": "markdown",
   "id": "09581b1e",
   "metadata": {},
   "source": [
    "### Turn Roast_Level to Ordinal Values\n",
    "\n",
    "Turning roast level to integers, ranging from 1-6, from Light to Very Dark."
   ]
  },
  {
   "cell_type": "code",
   "execution_count": 1496,
   "id": "93b41fef",
   "metadata": {},
   "outputs": [
    {
     "data": {
      "text/plain": [
       "Medium-Dark     430\n",
       "Medium          420\n",
       "nan             278\n",
       "Very Dark       234\n",
       "Medium-Light    205\n",
       "Dark            174\n",
       "Light            47\n",
       "Name: roast, dtype: int64"
      ]
     },
     "execution_count": 1496,
     "metadata": {},
     "output_type": "execute_result"
    }
   ],
   "source": [
    "#checking value options\n",
    "older_df['roast'].value_counts()"
   ]
  },
  {
   "cell_type": "code",
   "execution_count": 1497,
   "id": "4646d199",
   "metadata": {},
   "outputs": [],
   "source": [
    "#mapping values to numbers\n",
    "roast_mapper = {'Light':1, 'Medium-Light':2, 'Medium':3, 'Medium-Dark':4, 'Dark':5, 'Very Dark':6}"
   ]
  },
  {
   "cell_type": "code",
   "execution_count": 1498,
   "id": "f41e623b",
   "metadata": {},
   "outputs": [],
   "source": [
    "#updating values\n",
    "older_df['roast'] = older_df['roast'].replace(roast_mapper)"
   ]
  },
  {
   "cell_type": "code",
   "execution_count": 1499,
   "id": "b5bb26b6",
   "metadata": {},
   "outputs": [],
   "source": [
    "#turning blank into nans\n",
    "older_df['roast'].replace('', np.nan, inplace=True)"
   ]
  },
  {
   "cell_type": "code",
   "execution_count": 1500,
   "id": "28f83296",
   "metadata": {},
   "outputs": [],
   "source": [
    "#changing to integers\n",
    "older_df['roast'] = older_df['roast'].astype('float')"
   ]
  },
  {
   "cell_type": "code",
   "execution_count": 1501,
   "id": "2f1f284a",
   "metadata": {},
   "outputs": [],
   "source": [
    "#changing to integers\n",
    "older_df['roast'] = older_df['roast'].astype('Int8')"
   ]
  },
  {
   "cell_type": "code",
   "execution_count": 1502,
   "id": "f1d01d6a",
   "metadata": {},
   "outputs": [
    {
     "name": "stdout",
     "output_type": "stream",
     "text": [
      "<class 'pandas.core.frame.DataFrame'>\n",
      "RangeIndex: 1788 entries, 0 to 1787\n",
      "Data columns (total 19 columns):\n",
      " #   Column            Non-Null Count  Dtype \n",
      "---  ------            --------------  ----- \n",
      " 0   coffee_name       1788 non-null   object\n",
      " 1   roaster_name      1788 non-null   object\n",
      " 2   overall_score     1784 non-null   Int8  \n",
      " 3   roaster_location  1786 non-null   object\n",
      " 4   p1                1788 non-null   object\n",
      " 5   p2                1788 non-null   object\n",
      " 6   p3                1788 non-null   object\n",
      " 7   origin            1309 non-null   object\n",
      " 8   roast             1510 non-null   Int8  \n",
      " 9   review            1788 non-null   object\n",
      " 10  price             62 non-null     object\n",
      " 11  aroma             1785 non-null   Int8  \n",
      " 12  acidity           1452 non-null   Int8  \n",
      " 13  body              1733 non-null   Int8  \n",
      " 14  flavor            767 non-null    Int8  \n",
      " 15  aftertaste        2 non-null      Int8  \n",
      " 16  with_milk         9 non-null      Int8  \n",
      " 17  bean_agtron       1549 non-null   Int8  \n",
      " 18  ground_agtron     1554 non-null   Int8  \n",
      "dtypes: Int8(10), object(9)\n",
      "memory usage: 160.8+ KB\n"
     ]
    }
   ],
   "source": [
    "#checking update\n",
    "older_df.info()"
   ]
  },
  {
   "cell_type": "markdown",
   "id": "81596f4c",
   "metadata": {},
   "source": [
    "### Addressing the Estimated Price Column\n",
    "\n",
    "Background: Estimated price data uses a number of different measures (ounces, grams, bottles, etc). Original plan was to break it apart with goal of converting to same measure so that they can be compared in a meaningful way. This would involve modifying data to get a price per ounce. In addition, the reviews span from 1997 to 2022 and it is unclear if the pricing data gets updated.\n",
    "\n",
    "Given how complex it is to turn this column into usable data, the column is being dropped for now. "
   ]
  },
  {
   "cell_type": "code",
   "execution_count": 1503,
   "id": "adcd6ee8",
   "metadata": {},
   "outputs": [],
   "source": [
    "#drop est_price column \n",
    "older_df.drop('price', axis=1, inplace=True)"
   ]
  },
  {
   "cell_type": "code",
   "execution_count": 1504,
   "id": "3037587a",
   "metadata": {},
   "outputs": [
    {
     "data": {
      "text/html": [
       "<div>\n",
       "<style scoped>\n",
       "    .dataframe tbody tr th:only-of-type {\n",
       "        vertical-align: middle;\n",
       "    }\n",
       "\n",
       "    .dataframe tbody tr th {\n",
       "        vertical-align: top;\n",
       "    }\n",
       "\n",
       "    .dataframe thead th {\n",
       "        text-align: right;\n",
       "    }\n",
       "</style>\n",
       "<table border=\"1\" class=\"dataframe\">\n",
       "  <thead>\n",
       "    <tr style=\"text-align: right;\">\n",
       "      <th></th>\n",
       "      <th>coffee_name</th>\n",
       "      <th>roaster_name</th>\n",
       "      <th>overall_score</th>\n",
       "      <th>roaster_location</th>\n",
       "      <th>p1</th>\n",
       "      <th>p2</th>\n",
       "      <th>p3</th>\n",
       "      <th>origin</th>\n",
       "      <th>roast</th>\n",
       "      <th>review</th>\n",
       "      <th>aroma</th>\n",
       "      <th>acidity</th>\n",
       "      <th>body</th>\n",
       "      <th>flavor</th>\n",
       "      <th>aftertaste</th>\n",
       "      <th>with_milk</th>\n",
       "      <th>bean_agtron</th>\n",
       "      <th>ground_agtron</th>\n",
       "    </tr>\n",
       "  </thead>\n",
       "  <tbody>\n",
       "    <tr>\n",
       "      <th>0</th>\n",
       "      <td>Doi Chaang Wild Civet Coffee</td>\n",
       "      <td>Doi Chaang Coffee</td>\n",
       "      <td>90</td>\n",
       "      <td>Calgary, Alberta, Canada</td>\n",
       "      <td>Blind Assessment: Intriguing mid-tones through...</td>\n",
       "      <td>Notes: Doi Chaang is a single-estate coffee pr...</td>\n",
       "      <td>Who Should Drink It: Culinary adventurers who ...</td>\n",
       "      <td>Northern Thailand.</td>\n",
       "      <td>2</td>\n",
       "      <td>June 2009</td>\n",
       "      <td>8</td>\n",
       "      <td>8</td>\n",
       "      <td>7</td>\n",
       "      <td>&lt;NA&gt;</td>\n",
       "      <td>&lt;NA&gt;</td>\n",
       "      <td>&lt;NA&gt;</td>\n",
       "      <td>49</td>\n",
       "      <td>80</td>\n",
       "    </tr>\n",
       "    <tr>\n",
       "      <th>1</th>\n",
       "      <td>Kenya AA Lenana</td>\n",
       "      <td>Après Coffee</td>\n",
       "      <td>92</td>\n",
       "      <td>Lancaster, Pennsylvania</td>\n",
       "      <td>Blind Assessment: Rich, very intense aroma: da...</td>\n",
       "      <td>Notes: Despite stresses brought on by social u...</td>\n",
       "      <td>Who Should Drink It: Those who prefer understa...</td>\n",
       "      <td>South-central Kenya</td>\n",
       "      <td>4</td>\n",
       "      <td>June 2009</td>\n",
       "      <td>8</td>\n",
       "      <td>8</td>\n",
       "      <td>7</td>\n",
       "      <td>&lt;NA&gt;</td>\n",
       "      <td>&lt;NA&gt;</td>\n",
       "      <td>&lt;NA&gt;</td>\n",
       "      <td>42</td>\n",
       "      <td>53</td>\n",
       "    </tr>\n",
       "    <tr>\n",
       "      <th>2</th>\n",
       "      <td>Mele 100% Kona Coffee</td>\n",
       "      <td>Hula Daddy</td>\n",
       "      <td>92</td>\n",
       "      <td>Holualoa, Hawaii</td>\n",
       "      <td>Blind Assessment: An exciting, rather unusual ...</td>\n",
       "      <td>Notes: A blend of coffees processed by a varie...</td>\n",
       "      <td>Who Should Drink It: An exhilarating sensory r...</td>\n",
       "      <td>Holualoa, North Kona growing district, Hawaii.</td>\n",
       "      <td>2</td>\n",
       "      <td>June 2009</td>\n",
       "      <td>8</td>\n",
       "      <td>8</td>\n",
       "      <td>7</td>\n",
       "      <td>&lt;NA&gt;</td>\n",
       "      <td>&lt;NA&gt;</td>\n",
       "      <td>&lt;NA&gt;</td>\n",
       "      <td>51</td>\n",
       "      <td>73</td>\n",
       "    </tr>\n",
       "    <tr>\n",
       "      <th>3</th>\n",
       "      <td>Kenya Peaberry Thika Gethumbwini</td>\n",
       "      <td>JBC Coffee Roasters</td>\n",
       "      <td>96</td>\n",
       "      <td>Madison, Wisconsin</td>\n",
       "      <td>Blind Assessment: Clean, complex, impeccable. ...</td>\n",
       "      <td>Notes: Despite national coffee leadership mark...</td>\n",
       "      <td>Who Should Drink It: Strikingly complete expre...</td>\n",
       "      <td>South-central Kenya</td>\n",
       "      <td>1</td>\n",
       "      <td>June 2009</td>\n",
       "      <td>8</td>\n",
       "      <td>9</td>\n",
       "      <td>8</td>\n",
       "      <td>&lt;NA&gt;</td>\n",
       "      <td>&lt;NA&gt;</td>\n",
       "      <td>&lt;NA&gt;</td>\n",
       "      <td>57</td>\n",
       "      <td>90</td>\n",
       "    </tr>\n",
       "    <tr>\n",
       "      <th>4</th>\n",
       "      <td>Kenya Gititu Peaberry</td>\n",
       "      <td>Atomic Cafe Coffee Roasters</td>\n",
       "      <td>92</td>\n",
       "      <td>Beverly, Massachusetts</td>\n",
       "      <td>Blind Assessment: Rich, complex fruit aroma, i...</td>\n",
       "      <td>Notes: Despite stresses brought on by social u...</td>\n",
       "      <td>Who Should Drink It: Lovers of sweet fruit fla...</td>\n",
       "      <td>South-central Kenya</td>\n",
       "      <td>3</td>\n",
       "      <td>June 2009</td>\n",
       "      <td>8</td>\n",
       "      <td>8</td>\n",
       "      <td>8</td>\n",
       "      <td>&lt;NA&gt;</td>\n",
       "      <td>&lt;NA&gt;</td>\n",
       "      <td>&lt;NA&gt;</td>\n",
       "      <td>44</td>\n",
       "      <td>63</td>\n",
       "    </tr>\n",
       "  </tbody>\n",
       "</table>\n",
       "</div>"
      ],
      "text/plain": [
       "                        coffee_name                 roaster_name  \\\n",
       "0      Doi Chaang Wild Civet Coffee            Doi Chaang Coffee   \n",
       "1                   Kenya AA Lenana                 Après Coffee   \n",
       "2             Mele 100% Kona Coffee                   Hula Daddy   \n",
       "3  Kenya Peaberry Thika Gethumbwini          JBC Coffee Roasters   \n",
       "4             Kenya Gititu Peaberry  Atomic Cafe Coffee Roasters   \n",
       "\n",
       "   overall_score          roaster_location  \\\n",
       "0             90  Calgary, Alberta, Canada   \n",
       "1             92   Lancaster, Pennsylvania   \n",
       "2             92          Holualoa, Hawaii   \n",
       "3             96        Madison, Wisconsin   \n",
       "4             92    Beverly, Massachusetts   \n",
       "\n",
       "                                                  p1  \\\n",
       "0  Blind Assessment: Intriguing mid-tones through...   \n",
       "1  Blind Assessment: Rich, very intense aroma: da...   \n",
       "2  Blind Assessment: An exciting, rather unusual ...   \n",
       "3  Blind Assessment: Clean, complex, impeccable. ...   \n",
       "4  Blind Assessment: Rich, complex fruit aroma, i...   \n",
       "\n",
       "                                                  p2  \\\n",
       "0  Notes: Doi Chaang is a single-estate coffee pr...   \n",
       "1  Notes: Despite stresses brought on by social u...   \n",
       "2  Notes: A blend of coffees processed by a varie...   \n",
       "3  Notes: Despite national coffee leadership mark...   \n",
       "4  Notes: Despite stresses brought on by social u...   \n",
       "\n",
       "                                                  p3  \\\n",
       "0  Who Should Drink It: Culinary adventurers who ...   \n",
       "1  Who Should Drink It: Those who prefer understa...   \n",
       "2  Who Should Drink It: An exhilarating sensory r...   \n",
       "3  Who Should Drink It: Strikingly complete expre...   \n",
       "4  Who Should Drink It: Lovers of sweet fruit fla...   \n",
       "\n",
       "                                           origin  roast      review  aroma  \\\n",
       "0                              Northern Thailand.      2  June 2009       8   \n",
       "1                             South-central Kenya      4  June 2009       8   \n",
       "2  Holualoa, North Kona growing district, Hawaii.      2  June 2009       8   \n",
       "3                             South-central Kenya      1  June 2009       8   \n",
       "4                             South-central Kenya      3  June 2009       8   \n",
       "\n",
       "   acidity  body  flavor  aftertaste  with_milk  bean_agtron  ground_agtron  \n",
       "0        8     7    <NA>        <NA>       <NA>           49             80  \n",
       "1        8     7    <NA>        <NA>       <NA>           42             53  \n",
       "2        8     7    <NA>        <NA>       <NA>           51             73  \n",
       "3        9     8    <NA>        <NA>       <NA>           57             90  \n",
       "4        8     8    <NA>        <NA>       <NA>           44             63  "
      ]
     },
     "execution_count": 1504,
     "metadata": {},
     "output_type": "execute_result"
    }
   ],
   "source": [
    "older_df.head()"
   ]
  },
  {
   "cell_type": "markdown",
   "id": "30e19c54",
   "metadata": {},
   "source": [
    "### Turning `review_date` into datetime type and extracting month and year."
   ]
  },
  {
   "cell_type": "code",
   "execution_count": 1505,
   "id": "e149f35e",
   "metadata": {},
   "outputs": [],
   "source": [
    "#turning into data time format\n",
    "older_df['review'] = pd.to_datetime(older_df['review'])"
   ]
  },
  {
   "cell_type": "code",
   "execution_count": 1506,
   "id": "4bf740f7",
   "metadata": {},
   "outputs": [],
   "source": [
    "#extracting year\n",
    "older_df['year'] = pd.DatetimeIndex(older_df['review']).year"
   ]
  },
  {
   "cell_type": "code",
   "execution_count": 1507,
   "id": "bb89b0b9",
   "metadata": {},
   "outputs": [],
   "source": [
    "#extracting month\n",
    "older_df['month'] = pd.DatetimeIndex(older_df['review']).month"
   ]
  },
  {
   "cell_type": "code",
   "execution_count": 1508,
   "id": "808e2c3b",
   "metadata": {},
   "outputs": [],
   "source": [
    "#dropping unneeded original datetime column\n",
    "older_df.drop('review', axis=1, inplace=True)"
   ]
  },
  {
   "cell_type": "code",
   "execution_count": 1511,
   "id": "b40dd803",
   "metadata": {},
   "outputs": [
    {
     "name": "stdout",
     "output_type": "stream",
     "text": [
      "<class 'pandas.core.frame.DataFrame'>\n",
      "RangeIndex: 1788 entries, 0 to 1787\n",
      "Data columns (total 19 columns):\n",
      " #   Column            Non-Null Count  Dtype \n",
      "---  ------            --------------  ----- \n",
      " 0   coffee_name       1788 non-null   object\n",
      " 1   roaster_name      1788 non-null   object\n",
      " 2   overall_score     1784 non-null   Int8  \n",
      " 3   roaster_location  1786 non-null   object\n",
      " 4   p1                1788 non-null   object\n",
      " 5   p2                1788 non-null   object\n",
      " 6   p3                1788 non-null   object\n",
      " 7   origin            1309 non-null   object\n",
      " 8   roast             1510 non-null   Int8  \n",
      " 9   aroma             1785 non-null   Int8  \n",
      " 10  acidity           1452 non-null   Int8  \n",
      " 11  body              1733 non-null   Int8  \n",
      " 12  flavor            767 non-null    Int8  \n",
      " 13  aftertaste        2 non-null      Int8  \n",
      " 14  with_milk         9 non-null      Int8  \n",
      " 15  bean_agtron       1549 non-null   Int8  \n",
      " 16  ground_agtron     1554 non-null   Int8  \n",
      " 17  year              1788 non-null   int64 \n",
      " 18  month             1788 non-null   int64 \n",
      "dtypes: Int8(10), int64(2), object(7)\n",
      "memory usage: 160.8+ KB\n"
     ]
    }
   ],
   "source": [
    "older_df.info()"
   ]
  },
  {
   "cell_type": "markdown",
   "id": "66a97b80",
   "metadata": {},
   "source": [
    "### Turn locations into latitude and longitude"
   ]
  },
  {
   "cell_type": "code",
   "execution_count": 1518,
   "id": "fffc67c1",
   "metadata": {},
   "outputs": [
    {
     "name": "stdout",
     "output_type": "stream",
     "text": [
      "<class 'pandas.core.frame.DataFrame'>\n",
      "RangeIndex: 1788 entries, 0 to 1787\n",
      "Data columns (total 19 columns):\n",
      " #   Column            Non-Null Count  Dtype \n",
      "---  ------            --------------  ----- \n",
      " 0   coffee_name       1788 non-null   object\n",
      " 1   roaster_name      1788 non-null   object\n",
      " 2   overall_score     1784 non-null   Int8  \n",
      " 3   roaster_location  1786 non-null   object\n",
      " 4   p1                1788 non-null   object\n",
      " 5   p2                1788 non-null   object\n",
      " 6   p3                1788 non-null   object\n",
      " 7   origin            1309 non-null   object\n",
      " 8   roast             1510 non-null   Int8  \n",
      " 9   aroma             1785 non-null   Int8  \n",
      " 10  acidity           1452 non-null   Int8  \n",
      " 11  body              1733 non-null   Int8  \n",
      " 12  flavor            767 non-null    Int8  \n",
      " 13  aftertaste        2 non-null      Int8  \n",
      " 14  with_milk         9 non-null      Int8  \n",
      " 15  bean_agtron       1549 non-null   Int8  \n",
      " 16  ground_agtron     1554 non-null   Int8  \n",
      " 17  year              1788 non-null   int64 \n",
      " 18  month             1788 non-null   int64 \n",
      "dtypes: Int8(10), int64(2), object(7)\n",
      "memory usage: 160.8+ KB\n"
     ]
    }
   ],
   "source": [
    "older_df.info()"
   ]
  },
  {
   "cell_type": "code",
   "execution_count": 1519,
   "id": "243d1c81",
   "metadata": {
    "scrolled": false
   },
   "outputs": [
    {
     "name": "stdout",
     "output_type": "stream",
     "text": [
      "['51.0460954', '40.03813', '19.6238149', '43.074761', '42.5584284', '35.996653', '43.5569174', '33.6170092', '45.0165728', '39.100105', '49.2433804', '42.4850931', '44.9772995', '42.2681569', '35.996653', '49.2433804', '38.6319657', '22.6203348', '32.8401623', '43.074761', '37.7840208', '35.3187279', '44.337125349999994', '34.007135', '45.0165728', '48.202158', '47.0451022', '42.2681569', '42.2417669', '37.3893889', '37.2333253', '33.7489924', '38.6319657', '34.4458248', '47.6038321', '49.2373251', '13.7524938', '24.992517', '44.337125349999994', '42.3039199', '45.0165728', '34.1729044', '40.03813', '29.6519684', '48.1625483', '40.420418999999995', '45.5202471', '3.3254169', '35.996653', '42.5584284', '41.6214825', '44.337125349999994', '35.2272086', '39.049011', '39.049011', '37.3893889', '37.7790262', '37.8753497', '38.4404925', '', '37.2333253', '37.7790262', '37.7790262', '37.2333253', '37.8044557', '', '38.4404925', '45.0165728', '42.5584284', '44.337125349999994', '38.6319657', '43.074761', '44.8507957', '47.6038321', '39.4020593', '44.337125349999994', '45.5202471', '34.0536909', '42.3039199', '35.996653', '43.074761', '45.0165728', '42.4850931', '42.4850931', '43.8922563', '37.9735346', '45.5202471', '44.337125349999994', '60.6750132', '47.3744489', '', '45.509584', '45.0677551', '44.4429957', '46.5056892', '34.1729044', '44.4938203', '46.5056892', '45.6496485', '45.6496485', '45.6496485', '46.5056892', '24.5625566', '44.337125349999994', '47.6038321', '47.6038321', '47.6038321', '47.6038321', '44.337125349999994', '47.6038321', '47.6038321', '47.6038321', '47.6038321', '47.6038321', '47.6038321', '47.6038321', '47.6038321', '47.6038321', '47.6038321', '47.6038321', '39.7683331', '42.5584284', '39.049011', '45.5202471', '43.074761', '41.2795414', '41.2795414', '41.2795414', '39.049011', '44.9772995', '45.5202471', '44.337125349999994', '19.6238149', '38.9786401', '44.8993923', '39.7392364', '34.1066756', '35.996653', '37.8753497', '38.9786401', '14.5589875', '35.996653', '42.4850931', '19.6238149', '25.0375198', '42.4850931', '42.4850931', '42.4850931', '42.4850931', '42.5584284', '45.0165728', '34.1066756', '43.5569174', '42.4850931', '42.4850931', '39.049011', '33.6170092', '35.996653', '35.996653', '41.1239845', '39.049011', '34.1729044', '49.2433804', '40.7985464', '42.4850931', '34.1066756', '34.1066756', '47.0451022', '39.049011', '44.337125349999994', '33.6856969', '33.6856969', '45.0165728', '43.074761', '44.9772995', '44.9772995', '34.1476452', '34.1476452', '37.6624312', '30.2711286', '44.0581728', '45.5202471', '33.4255056', '45.2710195', '44.8507957', '41.0467635', '39.049011', '34.1066756', '44.337125349999994', '44.337125349999994', '42.5584284', '47.0451022', '44.337125349999994', '44.337125349999994', '44.337125349999994', '44.337125349999994', '44.337125349999994', '44.337125349999994', '44.337125349999994', '44.337125349999994', '44.337125349999994', '39.049011', '42.4850931', '47.0451022', '42.09975', '39.8695516', '39.100105', '40.5200187', '30.3321838', '', '47.0451022', '34.1066756', '39.049011', '39.7901134', '', '34.1066756', '42.4850931', '45.0165728', '33.6856969', '42.4850931', '45.0165728', '42.4850931', '44.648618', '43.5569174', '45.0165728', '35.996653', '42.4850931', '49.2433804', '34.1066756', '41.2795414', '43.074761', '43.074761', '43.074761', '34.007135', '34.007135', '34.007135', '47.6038321', '14.7360257', '47.9479601', '35.0457219', '47.0451022', '40.2645371', '35.996653', '47.6038321', '29.4246002', '43.074761', '39.100105', '35.824341', '40.8088861', '39.100105', '34.1066756', '42.5584284', '42.5584284', '39.049011', '39.049011', '39.049011', '43.074761', '37.2333253', '47.0451022', '39.049011', '37.2333253', '37.8753497', '38.4404925', '35.0457219', '47.6038321', '34.093042', '34.9676167', '43.074761', '42.5584284', '34.1066756', '47.6038321', '35.0457219', '37.8753497', '43.5488256', '42.5584284', '38.4404925', '38.4404925', '37.7790262', '37.7790262', '47.6038321', '34.1066756', '', '35.0457219', '44.337125349999994', '47.7110106', '35.7803977', '42.5584284', '47.6038321', '38.9786401', '47.6038321', '37.8753497', '34.1066756', '42.4850931', '45.0165728', '37.2333253', '39.049011', '41.2795414', '51.0460954', '42.4850931', '42.4850931', '42.4850931', '44.337125349999994', '44.337125349999994', '44.337125349999994', '44.337125349999994', '44.337125349999994', '44.337125349999994', '44.337125349999994', '44.337125349999994', '45.5202471', '45.5202471', '42.0482764', '39.100105', '47.0451022', '45.5311636', '39.049011', '35.996653', '23.6585116', '45.0165728', '', '', '45.0165728', '51.0460954', '47.6038321', '34.9676167', '47.0451022', '24.5625566', '45.5202471', '35.996653', '41.8755616', '39.049011', '41.2795414', '34.1066756', '41.8755616', '45.0165728', '43.5569174', '10.0682696', '10.0682696', '42.4850931', '45.2710195', '47.6038321', '36.3728538', '47.6038321', '34.1476452', '36.3728538', '34.1476452', '25.7741728', '37.7790262', '25.7741728', '39.0817985', '39.049011', '25.7741728', '42.4850931', '39.049011', '39.049011', '39.049011', '39.049011', '-27.4125045', '-27.4125045', '-27.4125045', '37.8753497', '40.3095516', '36.7014631', '-17.5587373', '34.093042', '33.7489924', '39.100105', '52.2060181', '52.2060181', '52.2060181', '42.4850931', '18.1625596', '40.03813', '40.03813', '40.03813', '40.03813', '40.03813', '41.2795414', '41.2795414', '44.8507957', '40.3095516', '47.0451022', '43.5569174', '', '47.6038321', '43.074761', '34.1066756', '39.049011', '43.074761', '39.7392364', '34.1066756', '39.7392364', '42.3039199', '43.074761', '42.4850931', '42.4850931', '44.337125349999994', '45.0165728', '45.0165728', '44.337125349999994', '44.337125349999994', '39.049011', '45.5202471', '48.450293', '34.1066756', '37.2333253', '38.9786401', '38.4404925', '43.5488256', '37.2333253', '42.4850931', '39.100105', '43.074761', '34.1066756', '45.0165728', '45.0165728', '44.337125349999994', '42.6063766', '43.074761', '48.7544012', '37.2333253', '39.049011', '47.0451022', '39.100105', '43.5569174', '41.2795414', '43.074761', '42.4850931', '39.8695516', '42.4850931', '52.2060181', '42.4850931', '43.074761', '45.0165728', '39.049011', '45.0165728', '42.5584284', '45.0165728', '42.5584284', '39.003809849999996', '27.3365805', '33.4942189', '', '47.6038321', '', '45.0677551', '37.5667573', '41.8755616', '44.4429957', '37.8753497', '45.6496485', '', '46.1273936', '44.4429957', '32.7174202', '45.0165728', '45.0165728', '45.0165728', '39.7392364', '40.8088861', '44.8507957', '33.7489924', '42.4436308', '33.7489924', '35.4094178', '18.0894833', '18.0724016', '39.049011', '42.5584284', '42.5584284', '39.049011', '32.7174202', '44.8507957', '32.7174202', '25.0375198', '24.5625566', '34.9676167', '47.0451022', '47.6038321', '34.1066756', '39.049011', '32.8923464', '34.9676167', '44.337125349999994', '35.7803977', '35.996653', '35.996653', '41.878711', '45.0165728', '45.0165728', '39.1014537', '42.098408', '38.6786109', '53.550341', '39.5261206', '47.6038321', '39.8695516', '44.337125349999994', '37.2333253', '41.2795414', '34.1066756', '34.1066756', '44.337125349999994', '33.4942189', '44.337125349999994', '33.4942189', '44.337125349999994', '33.4942189', '44.337125349999994', '32.8923464', '35.7972998', '41.931696', '64.837845', '39.100105', '40.3095516', '38.9786401', '34.4458248', '41.931696', '47.0451022', '42.5584284', '39.790371', '39.049011', '45.2710195', '24.5625566', '44.337125349999994', '26.271192', '23.9739374', '19.6238149', '51.0460954', '51.0460954', '39.049011', '39.049011', '42.5584284', '39.100105', '47.0451022', '34.007135', '47.0451022', '39.049011', '43.1195634', '42.2681569', '48.202158', '42.4850931', '45.5202471', '48.4738136', '34.1729044', '44.9772995', '45.0165728', '44.9772995', '', '35.996653', '47.6038321', '41.8755616', '', '39.9527237', '39.100105', '43.447436', '39.9527237', '42.4850931', '42.5584284', '43.0349931', '35.996653', '34.1066756', '45.0165728', '44.337125349999994', '44.337125349999994', '35.2272086', '39.1014537', '42.09975', '40.7127281', '41.0762077', '42.09975', '39.1014537', '36.3728538', '47.6038321', '39.1014537', '39.1014537', '47.6038321', '37.8314089', '30.4507936', '32.753177', '44.337125349999994', '44.337125349999994', '44.337125349999994', '45.0165728', '47.6038321', '35.0457219', '45.5202471', '33.4484367', '39.9527237', '45.5202471', '41.8755616', '39.9527237', '34.285558', '19.6238149', '34.285558', '44.337125349999994', '42.8507588', '29.9942265', '41.2795414', '39.0817985', '34.1066756', '42.4850931', '45.0165728', '37.2333253', '42.4850931', '53.550341', '44.337125349999994', '49.2433804', '49.2433804', '25.8195424', '25.8195424', '25.7741728', '47.0451022', '64.837845', '36.5277607', '34.1066756', '45.5202471', '39.100105', '40.2645371', '24.5625566', '49.2608724', '42.4850931', '34.1729044', '38.483830499999996', '45.2710195', '44.337125349999994', '44.337125349999994', '44.337125349999994', '44.337125349999994', '44.337125349999994', '44.337125349999994', '44.337125349999994', '', '34.0536909', '35.212870949999996', '34.4221319', '34.4221319', '34.0536909', '29.9759983', '37.7790262', '29.9942265', '34.0536909', '39.100105', '24.5625566', '47.6038321', '44.9772995', '44.337125349999994', '42.4436308', '39.100105', '42.4850931', '45.5202471', '44.337125349999994', '37.2333253', '39.7392364', '42.4850931', '47.0451022', '45.0165728', '38.9332411', '39.100105', '36.1623886', '37.7249296', '34.1729044', '44.9772995', '38.9786401', '43.0349931', '39.049011', '', '34.1066756', '43.074761', '41.9376051', '47.6038321', '35.3107214', '31.4481547', '47.6038321', '47.0451022', '47.0451022', '34.1066756', '35.996653', '40.2645371', '35.996653', '25.7741728', '25.7741728', '25.7741728', '25.7741728', '25.7741728', '35.0457219', '48.202158', '47.7110106', '37.2333253', '48.202158', '38.4404925', '36.1563122', '39.7392364', '45.2710195', '42.4850931', '38.9786401', '45.2710195', '34.1066756', '34.1476452', '36.993645', '34.1729044', '19.425801', '19.6238149', '34.007135', '44.337125349999994', '19.425801', '42.8642874', '36.993645', '19.425801', '44.337125349999994', '44.337125349999994', '44.337125349999994', '44.337125349999994', '42.5584284', '41.8755616', '37.7249296', '34.1729044', '30.2711286', '30.4507936', '36.993645', '45.2710195', '24.5625566', '49.2608724', '39.100105', '45.2710195', '31.549333', '25.9331488', '34.4221319', '47.6038321', '47.6038321', '37.6624312', '42.8642874', '30.3321838', '38.6298355', '45.5202471', '35.0457219', '42.8642874', '41.8755616', '42.4436308', '34.007135', '40.8088861', '42.4850931', '39.100105', '30.0798826', '48.450293', '42.3315509', '32.7762719', '47.6038321', '41.6978777', '38.2490349', '41.1034234', '45.5031824', '39.5261206', '41.8755616', '40.866517', '27.9658533', '', '41.4501021', '41.4501021', '39.9597213', '44.337125349999994', '', '41.4501021', '39.9597213', '33.6856969', '41.4501021', '43.6534817', '47.6038321', '40.8584328', '41.4501021', '39.1014537', '42.0841936', '44.337125349999994', '40.1745538', '42.4850931', '42.4850931', '44.337125349999994', '39.445723', '40.1745538', '44.337125349999994', '39.100105', '42.4850931', '39.445723', '41.8755616', '44.337125349999994', '39.7392364', '39.100105', '35.996653', '19.6238149', '45.0165728', '24.5625566', '42.4436308', '41.8755616', '35.996653', '41.8755616', '39.100105', '38.9786401', '42.4850931', '45.5202471', '38.9786401', '42.4850931', '45.5202471', '44.337125349999994', '38.4404925', '47.6038321', '47.6038321', '39.445723', '41.3259134', '43.987742', '41.5514283', '36.1672559', '37.8044557', '37.8044557', '48.202158', '34.1729044', '38.4404925', '9.6531934', '42.8642874', '47.0451022', '35.0457219', '38.6298355', '39.0817985', '45.5202471', '39.100105', '45.2710195', '39.100105', '41.9538384', '43.074761', '41.8500284', '41.9538384', '43.074761', '42.4436308', '43.074761', '42.4436308', '41.8755616', '41.8755616', '41.8500284', '43.074761', '43.074761', '29.9759983', '45.0228754', '41.7123218', '39.8695516', '29.9759983', '41.8755616', '35.996653', '38.6298355', '30.4507936', '39.100105', '34.007135', '38.6786109', '37.7790262', '15.3157045', '15.3157045', '44.0505054', '42.098408', '44.0505054', '34.7465071', '42.098408', '44.337125349999994', '-23.5506507', '34.2187005', '34.2978794', '36.1623886', '33.7489924', '46.8701049', '46.7729322', '46.8701049', '34.2187005', '39.8695516', '45.2710195', '40.4628177', '39.8695516', '43.074761', '38.3845125', '42.43717945', '43.074761', '46.9970635', '37.2333253', '38.3845125', '38.4404925', '34.1729044', '39.445723', '39.100105', '39.100105', '45.2710195', '40.7127281', '34.1729044', '41.3259134', '33.6856969', '33.7489924', '39.4020593', '44.337125349999994', '39.445723', '44.337125349999994', '45.5202471', '34.007135', '4.536307', '47.1952417', '47.6038321', '47.6038321', '46.434925', '37.8753497', '41.8317624', '43.074761', '39.7392364', '36.8968052', '45.5202471', '39.0817985', '42.4850931', '26.0112014', '44.337125349999994', '44.337125349999994', '42.0219112', '44.337125349999994', '45.300347', '42.0219112', '35.0457219', '40.1745538', '39.8695516', '41.8755616', '39.100105', '39.100105', '30.4507936', '26.6059432', '35.996653', '43.6534817', '26.6059432', '42.4436308', '41.8755616', '41.8755616', '45.5202471', '41.8755616', '42.4850931', '45.5202471', '41.8755616', '40.1745538', '34.4458248', '44.337125349999994', '40.8088861', '39.445723', '38.6298355', '32.0723862', '41.8755616', '36.992568000000006', '38.6298355', '41.8755616', '34.1729044', '17.9712148', '43.0349931', '35.996653', '39.100105', '37.8314089', '41.7313447', '38.6298355', '37.7790262', '44.337125349999994', '44.337125349999994', '42.4850931', '34.4458248', '42.4850931', '34.4458248', '41.8137116', '37.9577016', '38.6298355', '44.8452432', '39.7392364', '39.100105', '42.8642874', '39.4020593', '39.445723', '39.0817985', '34.285558', '34.4458248', '37.4519671', '39.4020593', '28.6138954', '39.4020593', '41.9994722', '41.9994722', '45.2710195', '38.6298355', '', '24.5625566', '47.6038321', '34.1729044', '34.4458248', '35.4729886', '34.1729044', '42.43717945', '47.7110106', '47.7110106', '43.074761', '45.2710195', '40.1745538', '40.1745538', '47.6038321', '42.1618005', '46.5927425', '47.6038321', '60.6750132', '30.4507936', '42.1618005', '33.4717732', '46.5927425', '38.6319657', '44.9772995', '39.8695516', '44.9772995', '40.7596198', '29.9759983', '19.425801', '39.8695516', '40.1745538', '44.337125349999994', '42.3959296', '42.3685658', '21.304547', '47.6038321', '29.9759983', '47.6038321', '41.8755616', '41.8755616', '41.8755616', '47.6038321', '45.6496485', '39.100105', '19.494428', '40.735657', '44.337125349999994', '34.4458248', '34.1729044', '34.4458248', '38.6298355', '34.1729044', '41.7313447', '47.6694141', '43.074761', '43.074761', '43.0349931', '34.4458248', '38.6298355', '47.6571934', '39.1014537', '47.6038321', '47.6038321', '47.6038321', '45.5202471', '47.6038321', '45.5202471', '47.6038321', '47.6038321', '47.6038321', '47.6038321', '47.6038321', '47.6038321', '47.6038321', '45.5228939', '47.6038321', '47.0451022', '45.5202471', '47.6038321', '47.6038321', '47.6038321', '45.5228939', '45.5202471', '45.5202471', '47.6038321', '45.5311636', '45.5202471', '45.5202471', '45.5202471', '47.6038321', '45.5311636', '39.9597213', '45.5031824', '33.6856969', '27.9658533', '27.9658533', '43.6534817', '39.9597213', '44.337125349999994', '27.9658533', '39.9597213', '44.337125349999994', '39.9597213', '45.5031824', '44.337125349999994', '33.6856969', '45.5031824', '44.337125349999994', '43.6534817', '41.8325487', '31.7606732', '38.9332411', '41.8453781', '39.4020593', '39.100105', '39.8695516', '34.1729044', '39.100105', '34.4458248', '34.285558', '37.8753497', '64.750997', '47.6038321', '19.6238149', '18.0894833', '44.337125349999994', '18.0894833', '44.337125349999994', '41.8755616', '39.4020593', '41.8755616', '40.7906871', '35.4729886', '34.285558', '43.3896628', '43.3896628', '44.337125349999994', '41.8755616', '35.4729886', '41.8453781', '39.4020593', '36.9092773', '39.049011', '34.1729044', '39.4020593', '39.9527237', '9.91651155', '39.003809849999996', '41.8137116', '39.0817985', '39.9527237', '47.0451022', '37.8753497', '37.8753497', '34.1729044', '38.6298355', '34.1729044', '37.8044557', '40.5583739', '13.6989939', '36.6409753', '40.7906871', '32.3512601', '30.0971621', '41.8755616', '13.6989939', '46.3144754', '35.0457219', '39.8695516', '41.8755616', '41.8755616', '41.0467635', '39.1014537', '47.6038321', '41.0762077', '40.7433066', '40.1745538', '41.0467635', '40.7127281', '40.7127281', '40.596106', '40.9689871', '33.7489924', '40.7127281', '40.7127281', '44.337125349999994', '39.8695516', '39.8695516', '40.1745538', '41.9994722', '33.7489924', '41.650927', '34.1729044', '48.2083537', '34.285558', '34.1014112', '33.7489924', '41.650927', '48.2083537', '41.9994722', '40.67677', '', '33.6856969', '18.0894833', '40.67677', '18.0894833', '40.67677', '45.8999177', '37.7790262', '9.91651155', '35.7803977', '39.9527237', '37.8753497', '38.6298355', '39.9527237', '41.8755616', '43.6534817', '43.6534817', '37.8753497', '41.8755616', '38.6298355', '35.4729886', '30.4507936', '47.6038321', '45.0677551', '37.7790262', '44.337125349999994', '39.1014537', '33.6856969', '34.1729044', '30.2711286', '37.7790262', '32.1159915', '44.337125349999994', '47.6038321', '30.4507936', '40.7127281', '47.6038321', '47.6038321', '41.4091897', '30.2711286', '30.2711286', '33.6856969', '39.8695516', '39.445723', '35.7803977', '47.6038321', '38.6298355', '38.4404925', '35.7803977', '44.8341639', '38.6298355', '37.7790262', '34.1483499', '42.1584324', '47.6038321', '34.1476452', '37.7790262', '39.100105', '39.9527237', '39.100105', '39.0817985', '37.7790262', '39.9597213', '42.5035591', '39.9215157', '32.7174202', '43.074761', '39.9527237', '32.0723862', '43.074761', '37.8753497', '30.4507936', '39.8695516', '42.3712', '39.9527237', '22.3511148', '12.9767936', '42.3712', '12.9767936', '12.9767936', '12.9767936', '12.9767936', '37.7790262', '47.6038321', '39.445723', '47.0451022', '47.0451022', '30.4507936', '47.6038321', '30.4507936', '51.299095', '37.7790262', '30.4507936', '39.049011', '41.9994722', '33.7690164', '38.9332411', '38.6298355', '10.376781300000001', '35.4729886', '38.6298355', '40.1745538', '10.376781300000001', '33.6856969', '37.8044557', '39.100105', '42.3685658', '39.049011', '40.4416941', '35.4729886', '41.8755616', '38.9332411', '39.100105', '37.8753497', '41.8755616', '47.6038321', '40.1745538', '41.8755616', '3.1516964', '39.9597213', '38.6298355', '37.4519671', '41.8755616', '', '47.6038321', '42.3685658', '', '42.1618005', '41.0467635', '45.6496485', '', '41.0192641', '39.1014537', '47.6038321', '', '39.1027974', '', '', '40.7127281', '33.7038145', '', '25.7741728', '39.1027974', '', '19.425801', '19.641941', '19.6238149', '19.517728', '41.9994722', '19.517728', '47.6038321', '21.90501145', '20.020452', '', '21.304547', '19.6238149', '41.9994722', '39.8695516', '35.4729886', '39.8695516', '41.7313447', '41.9994722', '35.996653', '35.0457219', '35.996653', '41.7313447', '39.445723', '39.445723', '36.9092773', '44.337125349999994', '44.337125349999994', '61.2163129', '35.0457219', '32.0723862', '38.3845125', '36.9092773', '39.445723', '44.9772995', '34.1476452', '35.4729886', '41.8755616', '29.9759983', '33.7690164', '34.1476452', '35.7803977', '33.7690164', '35.7803977', '', '39.100105', '37.7249296', '29.9759983', '38.9332411', '37.226611', '38.4087993', '48.450293', '40.0154155', '33.7489924', '43.3896628', '38.4404925', '47.6038321', '38.4404925', '46.3144754', '34.1133062', '40.0154155', '37.9735346', '44.337125349999994', '45.3131421', '39.445723', '44.337125349999994', '40.866517', '45.5031824', '37.9735346', '45.5031824', '37.8753497', '39.9527237', '43.6166163', '39.445723', '37.7249296', '33.7489924', '39.100105', '47.6038321', '38.5052288', '39.445723', '37.7790262', '55.3430696', '15.3538569', '37.8753497', '39.049011', '40.7906871', '39.049011', '32.2228765', '32.2228765', '46.9970635', '32.7762719', '40.7906871', '47.6038321', '41.1175966', '41.1175966', '47.6038321', '44.9772995', '37.7790262', '42.3712', '41.1175966', '41.8755616', '39.049011', '40.7906871', '40.9115386', '29.7589382', '33.9976264', '33.9976264', '37.7790262', '29.7589382', '38.1061979', '37.8314089', '37.8314089', '33.9976264', '33.9976264', '34.1469416', '41.0762077', '47.6038321', '39.1014537', '34.1133062', '34.1469416', '40.7596198', '41.0762077', '39.1014537', '40.7127281', '41.0467635', '39.445723', '40.0154155', '35.996653', '38.9332411', '25.7741728', '58.3019496', '35.996653', '40.0154155', '45.300347', '40.0154155', '44.337125349999994', '41.8755616', '34.2978794', '34.2978794', '47.6038321', '37.6535403', '45.300347', '35.9603948', '39.9622601', '40.866517', '40.866517', '20.909259499999997', '64.837845', '64.837845', '39.9622601', '32.3140354', '37.333178000000004', '32.3140354', '3.6984053', '7.0000085', '3.7500086', '37.6390972', '58.3019496', '40.7127281', '48.450293', '45.5202471', '61.2163129', '28.5421109', '39.100105', '44.9497487', '28.5421109', '58.3019496', '47.0451022', '34.0536909', '47.6038321', '47.0451022', '32.7174202', '32.7174202', '37.8753497', '37.7790262', '47.6038321', '37.7790262', '37.8753497', '42.3273118', '47.0451022', '20.88717735', '42.3273118', '39.100105', '28.5421109', '40.0154155', '41.2795414', '41.2795414', '44.337125349999994', '47.0451022', '35.996653', '41.2795414', '29.9759983', '21.90501145', '40.0154155', '47.0451022', '47.0451022', '40.1745538', '40.0154155', '35.996653', '41.2795414', '40.0154155', '38.2542376', '42.3273118', '35.996653', '28.5421109', '1.4419683', '1.4419683', '1.4419683', '1.4419683', '1.4419683', '1.4419683', '1.4419683', '1.4419683', '1.4419683', '1.4419683', '42.3273118', '42.3273118', '40.0154155', '48.1600675', '48.1600675', '43.684017', '41.2795414', '43.7543263', '39.08854049999999', '39.08854049999999', '34.1508718', '47.6038321', '34.1033192', '39.1044123', '48.8296672', '34.0923014', '37.8044557', '40.67677', '42.3147529', '39.1911128', '37.8044557', '41.4739419', '34.0923014', '39.1911128', '42.3147529', '42.3273118', '42.3273118', '36.8968052', '64.750997', '47.6038321', '47.6038321', '40.0154155', '21.90501145', '44.337125349999994', '64.750997', '21.90501145', '47.6038321', '44.9772995', '44.337125349999994', '40.0154155', '48.450293', '43.6166163', '38.6298355', '48.450293', '43.0349931', '40.67677', '44.337125349999994', '40.866517', '47.0451022', '41.3082138', '29.9759983', '39.08854049999999', '34.0923014', '39.9527237', '41.8755616', '41.3082138', '34.0923014', '39.9527237', '39.08854049999999', '47.0451022', '42.3273118', '37.7790262', '58.3019496', '40.7127281', '44.337125349999994', '41.2795414', '39.445723', '39.445723', '35.996653', '61.2163129', '40.1745538', '47.6038321', '47.0451022', '42.3273118', '44.337125349999994', '18.2247706', '18.0856309', '18.1850507', '18.1850507', '19.1399952', '19.0974031', '19.0974031', '19.0974031', '19.0974031', '47.6038321', '37.9374939', '28.5421109', '43.0630834', '40.67677', '40.6526006', '32.7762719', '36.8968052', '43.0630834', '47.6038321', '43.684017', '37.7790262', '45.5973123', '39.08854049999999', '47.6038321', '45.5202471', '34.0923014', '37.4519671', '37.7790262', '34.0923014', '33.1580933', '47.6038321', '47.6038321', '38.5787966', '19.6472213', '20.802956799999997', '20.802956799999997', '19.6472213', '19.6472213', '19.6472213', '19.6472213', '19.6472213', '36.8968052', '41.2795414', '41.4996574', '41.4996574', '39.9527237', '44.337125349999994', '47.6475683', '38.5110803', '37.8044557', '42.3147529', '39.9527237', '39.9527237', '-10.3333333', '-10.3333333', '-10.3333333', '-10.3333333', '-10.3333333', '-10.3333333', '-10.3333333', '42.3273118', '41.5910323', '40.67677', '46.0129676', '33.7489924', '47.6038321', '41.083064', '42.3273118', '40.7127281', '37.8314089', '41.5910323', '40.7127281', '44.9772995', '40.0154155', '40.0154155', '37.7790262', '58.3019496', '33.9412127', '47.6038321', '41.5910323', '21.304547', '58.3019496', '35.996653', '39.445723', '35.996653', '45.5202471', '40.0154155', '40.0154155', '39.445723', '37.7790262', '40.0154155', '45.5202471', '44.337125349999994', '44.337125349999994', '40.0154155', '40.0154155', '40.7127281', '47.0451022', '29.9759983', '37.8753497', '40.1745538', '33.4942189', '47.0451022', '47.6038321', '47.6038321', '13.8000382', '13.8000382', '13.8000382', '13.8000382', '13.8000382', '13.8000382', '13.8000382', '13.8000382', '13.8000382', '13.8000382', '13.8000382', '', '39.1014537', '47.6038321', '43.074761', '43.074761', '29.9759983', '29.9759983', '43.074761', '39.100105', '43.074761', '15.5855545', '15.5855545', '15.5855545', '15.5855545', '15.5855545', '15.5855545', '15.5855545', '15.5855545', '27.9658533', '39.1014537', '37.7790262', '39.1014537', '34.1133062', '41.0339862', '37.7790262', '37.8044557', '41.0762077', '41.0467635', '29.9759983', '42.3273118', '47.6038321', '38.5810606', '37.8753497', '47.6038321', '37.8753497', '29.9759983', '37.8753497', '37.8753497', '38.5810606', '41.2795414', '61.2163129', '41.2795414', '44.9497487', '61.2163129', '28.5421109', '28.5421109', '47.3826903', '40.7127281', '40.7127281', '44.9497487', '47.3826903', '45.5202471', '44.337125349999994', '47.6038321', '39.445723']\n",
      "['-114.065465', '-76.3056686', '-155.9536379', '-89.3837613', '-70.8800491', '-78.9018053', '-90.8887413', '-117.9294401', '-93.0949501', '-94.5781416', '-122.972545', '-71.43284', '-93.2654692', '-83.7312291', '-78.9018053', '-122.972545', '-90.2428756', '120.3120375', '-117.2740777', '-89.3837613', '-79.4428157', '-82.4609528', '-72.75549720909403', '-118.22525', '-93.0949501', '-114.315321', '-122.8950075', '-83.7312291', '-70.8897676', '-122.0832101', '-121.6846349', '-84.3902644', '-90.2428756', '-119.0779359', '-122.330062', '8.0914033', '100.4935089', '121.337767', '-72.75549720909403', '-73.2340974', '-93.0949501', '-118.3740371', '-76.3056686', '-82.3249846', '-122.49502681973634', '-74.06045445356699', '-122.674194', '-76.2351756', '-78.9018053', '-70.8800491', '-74.4507126', '-72.75549720909403', '-80.8430827', '-95.677556', '-95.677556', '-122.0832101', '-122.419906', '-122.23963364918777', '-122.7141049', '', '-121.6846349', '-122.419906', '-122.419906', '-121.6846349', '-122.271356', '', '-122.7141049', '-93.0949501', '-70.8800491', '-72.75549720909403', '-90.2428756', '-89.3837613', '-93.7869088', '-122.330062', '-75.0393368', '-72.75549720909403', '-122.674194', '-118.242766', '-73.2340974', '-78.9018053', '-89.3837613', '-93.0949501', '-71.43284', '-71.43284', '-70.1835179', '-122.5310874', '-122.674194', '-72.75549720909403', '17.1467019', '8.5410422', '', '10.506376', '7.6824892', '11.3561198', '6.6732336', '-118.3740371', '11.3426327', '6.6732336', '13.7772781', '13.7772781', '13.7772781', '6.6732336', '-81.7724368', '-72.75549720909403', '-122.330062', '-122.330062', '-122.330062', '-122.330062', '-72.75549720909403', '-122.330062', '-122.330062', '-122.330062', '-122.330062', '-122.330062', '-122.330062', '-122.330062', '-122.330062', '-122.330062', '-122.330062', '-122.330062', '-86.1583502', '-70.8800491', '-95.677556', '-122.674194', '-89.3837613', '-72.8150989', '-72.8150989', '-72.8150989', '-95.677556', '-93.2654692', '-122.674194', '-72.75549720909403', '-155.9536379', '-76.492786', '-109.1509804', '-104.984862', '-117.8067257', '-78.9018053', '-122.23963364918777', '-76.492786', '-90.7333258', '-78.9018053', '-71.43284', '-155.9536379', '121.5636796', '-71.43284', '-71.43284', '-71.43284', '-71.43284', '-70.8800491', '-93.0949501', '-117.8067257', '-90.8887413', '-71.43284', '-71.43284', '-95.677556', '-117.9294401', '-78.9018053', '-78.9018053', '-74.1693119', '-95.677556', '-118.3740371', '-122.972545', '-81.3749508', '-71.43284', '-117.8067257', '-117.8067257', '-122.8950075', '-95.677556', '-72.75549720909403', '-117.8259819', '-117.8259819', '-93.0949501', '-89.3837613', '-93.2654692', '-93.2654692', '-118.1444779', '-118.1444779', '-121.8746789', '-97.7436995', '-121.3153096', '-122.674194', '-111.9400091', '-93.2827625', '-93.7869088', '-74.0229173', '-95.677556', '-117.8067257', '-72.75549720909403', '-72.75549720909403', '-70.8800491', '-122.8950075', '-72.75549720909403', '-72.75549720909403', '-72.75549720909403', '-72.75549720909403', '-72.75549720909403', '-72.75549720909403', '-72.75549720909403', '-72.75549720909403', '-72.75549720909403', '-95.677556', '-71.43284', '-122.8950075', '-87.7808967', '-104.985181', '-94.5781416', '-74.2745215', '-81.655651', '', '-122.8950075', '-117.8067257', '-95.677556', '-75.2376834', '', '-117.8067257', '-71.43284', '-93.0949501', '-117.8259819', '-71.43284', '-93.0949501', '-71.43284', '-63.5859487', '-90.8887413', '-93.0949501', '-78.9018053', '-71.43284', '-122.972545', '-117.8067257', '-72.8150989', '-89.3837613', '-89.3837613', '-89.3837613', '-118.22525', '-118.22525', '-118.22525', '-122.330062', '-91.6152074', '-116.7079745', '-85.3094883', '-122.8950075', '-75.8040852', '-78.9018053', '-122.330062', '-98.4951405', '-89.3837613', '-94.5781416', '-78.8300321', '-96.7077751', '-94.5781416', '-117.8067257', '-70.8800491', '-70.8800491', '-95.677556', '-95.677556', '-95.677556', '-89.3837613', '-121.6846349', '-122.8950075', '-95.677556', '-121.6846349', '-122.23963364918777', '-122.7141049', '-85.3094883', '-122.330062', '-118.12706', '-82.4434548', '-89.3837613', '-70.8800491', '-117.8067257', '-122.330062', '-85.3094883', '-122.23963364918777', '-96.7307737', '-70.8800491', '-122.7141049', '-122.7141049', '-122.419906', '-122.419906', '-122.330062', '-117.8067257', '', '-85.3094883', '-72.75549720909403', '-116.9480877', '-78.6390989', '-70.8800491', '-122.330062', '-76.492786', '-122.330062', '-122.23963364918777', '-117.8067257', '-71.43284', '-93.0949501', '-121.6846349', '-95.677556', '-72.8150989', '-114.065465', '-71.43284', '-71.43284', '-71.43284', '-72.75549720909403', '-72.75549720909403', '-72.75549720909403', '-72.75549720909403', '-72.75549720909403', '-72.75549720909403', '-72.75549720909403', '-72.75549720909403', '-122.674194', '-122.674194', '-91.6865902', '-94.5781416', '-122.8950075', '-121.6475587', '-95.677556', '-78.9018053', '-102.0077097', '-93.0949501', '', '', '-93.0949501', '-114.065465', '-122.330062', '-82.4434548', '-122.8950075', '-81.7724368', '-122.674194', '-78.9018053', '-87.6244212', '-95.677556', '-72.8150989', '-117.8067257', '-87.6244212', '-93.0949501', '-90.8887413', '-84.7218288', '-84.7218288', '-71.43284', '-93.2827625', '-122.330062', '-94.2088172', '-122.330062', '-118.1444779', '-94.2088172', '-118.1444779', '-80.19362', '-122.419906', '-80.19362', '-77.1516844', '-95.677556', '-80.19362', '-71.43284', '-95.677556', '-95.677556', '-95.677556', '-95.677556', '152.95221521117168', '152.95221521117168', '152.95221521117168', '-122.23963364918777', '-74.8804428', '-118.755997', '144.9540226', '-118.12706', '-84.3902644', '-94.5781416', '4.8648168', '4.8648168', '4.8648168', '-71.43284', '-66.7231363', '-76.3056686', '-76.3056686', '-76.3056686', '-76.3056686', '-76.3056686', '-72.8150989', '-72.8150989', '-93.7869088', '-74.8804428', '-122.8950075', '-90.8887413', '', '-122.330062', '-89.3837613', '-117.8067257', '-95.677556', '-89.3837613', '-104.984862', '-117.8067257', '-104.984862', '-73.2340974', '-89.3837613', '-71.43284', '-71.43284', '-72.75549720909403', '-93.0949501', '-93.0949501', '-72.75549720909403', '-72.75549720909403', '-95.677556', '-122.674194', '-114.33828531635987', '-117.8067257', '-121.6846349', '-76.492786', '-122.7141049', '-96.7307737', '-121.6846349', '-71.43284', '-94.5781416', '-89.3837613', '-117.8067257', '-93.0949501', '-93.0949501', '-72.75549720909403', '-72.2902501', '-89.3837613', '-122.478836', '-121.6846349', '-95.677556', '-122.8950075', '-94.5781416', '-90.8887413', '-72.8150989', '-89.3837613', '-71.43284', '-104.985181', '-71.43284', '4.8648168', '-71.43284', '-89.3837613', '-93.0949501', '-95.677556', '-93.0949501', '-70.8800491', '-93.0949501', '-70.8800491', '-77.40832792370676', '-82.5308545', '-111.9260184', '', '-122.330062', '', '7.6824892', '14.2807473', '-87.6244212', '11.3561198', '-122.23963364918777', '13.7772781', '', '13.2140999', '11.3561198', '-117.1627728', '-93.0949501', '-93.0949501', '-93.0949501', '-104.984862', '-96.7077751', '-93.7869088', '-84.3902644', '-88.2364775', '-84.3902644', '-80.5800049', '-76.7153192', '-77.46299980730268', '-95.677556', '-70.8800491', '-70.8800491', '-95.677556', '-117.1627728', '-93.7869088', '-117.1627728', '121.5636796', '-81.7724368', '-82.4434548', '-122.8950075', '-122.330062', '-117.8067257', '-95.677556', '-96.4066987', '-82.4434548', '-72.75549720909403', '-78.6390989', '-78.9018053', '-78.9018053', '-71.3825558', '-93.0949501', '-93.0949501', '-84.5124602', '-76.0493684', '-121.7733285', '10.000654', '-119.8126581', '-122.330062', '-104.985181', '-72.75549720909403', '-121.6846349', '-72.8150989', '-117.8067257', '-117.8067257', '-72.75549720909403', '-111.9260184', '-72.75549720909403', '-111.9260184', '-72.75549720909403', '-111.9260184', '-72.75549720909403', '-96.4066987', '-84.2560299', '-87.9889556', '-147.716675', '-94.5781416', '-74.8804428', '-76.492786', '-119.0779359', '-87.9889556', '-122.8950075', '-70.8800491', '-77.7277714', '-95.677556', '-93.2827625', '-81.7724368', '-72.75549720909403', '-80.2706044', '120.9820179', '-155.9536379', '-114.065465', '-114.065465', '-95.677556', '-95.677556', '-70.8800491', '-94.5781416', '-122.8950075', '-118.22525', '-122.8950075', '-95.677556', '-124.4094086', '-83.7312291', '-114.315321', '-71.43284', '-122.674194', '-122.330453', '-118.3740371', '-93.2654692', '-93.0949501', '-93.2654692', '', '-78.9018053', '-122.330062', '-87.6244212', '', '-75.1635262', '-94.5781416', '-79.666672', '-75.1635262', '-71.43284', '-70.8800491', '-87.922497', '-78.9018053', '-117.8067257', '-93.0949501', '-72.75549720909403', '-72.75549720909403', '-80.8430827', '-84.5124602', '-87.7808967', '-74.0060152', '-73.8587461', '-87.7808967', '-84.5124602', '-94.2088172', '-122.330062', '-84.5124602', '-84.5124602', '-122.330062', '-122.2865266', '-91.1391153', '-97.3327459', '-72.75549720909403', '-72.75549720909403', '-72.75549720909403', '-93.0949501', '-122.330062', '-85.3094883', '-122.674194', '-112.074141', '-75.1635262', '-122.674194', '-87.6244212', '-75.1635262', '-118.8820414', '-155.9536379', '-118.8820414', '-72.75549720909403', '-72.5572913', '-90.2417806', '-72.8150989', '-77.1516844', '-117.8067257', '-71.43284', '-93.0949501', '-121.6846349', '-71.43284', '10.000654', '-72.75549720909403', '-122.972545', '-122.972545', '-80.3553302', '-80.3553302', '-80.19362', '-122.8950075', '-147.716675', '-87.3588703', '-117.8067257', '-122.674194', '-94.5781416', '-75.8040852', '-81.7724368', '-123.113952', '-71.43284', '-118.3740371', '-122.88566057524272', '-93.2827625', '-72.75549720909403', '-72.75549720909403', '-72.75549720909403', '-72.75549720909403', '-72.75549720909403', '-72.75549720909403', '-72.75549720909403', '', '-118.242766', '-106.71324849574629', '-119.702667', '-119.702667', '-118.242766', '-90.0782127', '-122.419906', '-90.2417806', '-118.242766', '-94.5781416', '-81.7724368', '-122.330062', '-93.2654692', '-72.75549720909403', '-88.2364775', '-94.5781416', '-71.43284', '-122.674194', '-72.75549720909403', '-121.6846349', '-104.984862', '-71.43284', '-122.8950075', '-93.0949501', '-119.9843482', '-94.5781416', '-85.4997057', '-122.1560768', '-118.3740371', '-93.2654692', '-76.492786', '-87.922497', '-95.677556', '', '-117.8067257', '-89.3837613', '-70.0327996', '-122.330062', '-120.832348', '-109.928408', '-122.330062', '-122.8950075', '-122.8950075', '-117.8067257', '-78.9018053', '-75.8040852', '-78.9018053', '-80.19362', '-80.19362', '-80.19362', '-80.19362', '-80.19362', '-85.3094883', '-114.315321', '-116.9480877', '-121.6846349', '-114.315321', '-122.7141049', '-95.9927436', '-104.984862', '-93.2827625', '-71.43284', '-76.492786', '-93.2827625', '-117.8067257', '-118.1444779', '-121.89194984597702', '-118.3740371', '-155.908356', '-155.9536379', '-118.22525', '-72.75549720909403', '-155.908356', '-71.6252484', '-121.89194984597702', '-155.908356', '-72.75549720909403', '-72.75549720909403', '-72.75549720909403', '-72.75549720909403', '-70.8800491', '-87.6244212', '-122.1560768', '-118.3740371', '-97.7436995', '-91.1391153', '-121.89194984597702', '-93.2827625', '-81.7724368', '-123.113952', '-94.5781416', '-93.2827625', '-97.1466695', '-80.1625463', '-119.702667', '-122.330062', '-122.330062', '-121.8746789', '-71.6252484', '-81.655651', '-122.85900211842105', '-122.674194', '-85.3094883', '-71.6252484', '-87.6244212', '-88.2364775', '-118.22525', '-96.7077751', '-71.43284', '-94.5781416', '-95.4172549', '-114.33828531635987', '-83.0466403', '-96.7968559', '-122.330062', '-72.7237063', '-78.013983', '-72.3592777', '-73.5698065', '-119.8126581', '-87.6244212', '-124.08284', '-82.8001026', '', '-71.4495005', '-71.4495005', '-75.6059638', '-72.75549720909403', '', '-71.4495005', '-75.6059638', '-117.8259819', '-71.4495005', '-79.3839347', '-122.330062', '-74.1637553', '-71.4495005', '-84.5124602', '-88.0131275', '-72.75549720909403', '-74.9226665', '-71.43284', '-71.43284', '-72.75549720909403', '-123.805294', '-74.9226665', '-72.75549720909403', '-94.5781416', '-71.43284', '-123.805294', '-87.6244212', '-72.75549720909403', '-104.984862', '-94.5781416', '-78.9018053', '-155.9536379', '-93.0949501', '-81.7724368', '-88.2364775', '-87.6244212', '-78.9018053', '-87.6244212', '-94.5781416', '-76.492786', '-71.43284', '-122.674194', '-76.492786', '-71.43284', '-122.674194', '-72.75549720909403', '-122.7141049', '-122.330062', '-122.330062', '-123.805294', '-75.7893604', '-95.755846', '-71.4693875', '-115.148516', '-122.271356', '-122.271356', '-114.315321', '-118.3740371', '-122.7141049', '-83.9690756', '-71.6252484', '-122.8950075', '-85.3094883', '-122.85900211842105', '-77.1516844', '-122.674194', '-94.5781416', '-93.2827625', '-94.5781416', '-87.9431781', '-89.3837613', '-88.3125738', '-87.9431781', '-89.3837613', '-88.2364775', '-89.3837613', '-88.2364775', '-87.6244212', '-87.6244212', '-88.3125738', '-89.3837613', '-89.3837613', '-90.0782127', '-85.7601164', '-72.608146', '-104.985181', '-90.0782127', '-87.6244212', '-78.9018053', '-122.85900211842105', '-91.1391153', '-94.5781416', '-118.22525', '-121.7733285', '-122.419906', '-87.9932276', '-87.9932276', '-123.0950506', '-76.0493684', '-123.0950506', '-92.2896267', '-76.0493684', '-72.75549720909403', '-46.6333824', '-80.98456918011235', '-83.8240663', '-85.4997057', '-84.3902644', '-113.995267', '-92.1251218', '-113.995267', '-80.98456918011235', '-104.985181', '-93.2827625', '-74.3105018', '-104.985181', '-89.3837613', '-122.8332501583744', '-76.54836230003966', '-89.3837613', '-120.545122', '-121.6846349', '-122.8332501583744', '-122.7141049', '-118.3740371', '-123.805294', '-94.5781416', '-94.5781416', '-93.2827625', '-74.0060152', '-118.3740371', '-75.7893604', '-117.8259819', '-84.3902644', '-75.0393368', '-72.75549720909403', '-123.805294', '-72.75549720909403', '-122.674194', '-118.22525', '-75.6723751', '-120.940063', '-122.330062', '-122.330062', '-109.835441', '-122.23963364918777', '-73.2251145', '-89.3837613', '-104.984862', '-76.2602336', '-122.674194', '-77.1516844', '-71.43284', '-80.1494901', '-72.75549720909403', '-72.75549720909403', '-71.019004', '-72.75549720909403', '-122.972751', '-71.019004', '-85.3094883', '-74.9226665', '-104.985181', '-87.6244212', '-94.5781416', '-94.5781416', '-91.1391153', '-81.9806771', '-78.9018053', '-79.3839347', '-81.9806771', '-88.2364775', '-87.6244212', '-87.6244212', '-122.674194', '-87.6244212', '-71.43284', '-122.674194', '-87.6244212', '-74.9226665', '-119.0779359', '-72.75549720909403', '-96.7077751', '-123.805294', '-122.85900211842105', '-84.2326876', '-87.6244212', '-121.942859743031', '-122.85900211842105', '-87.6244212', '-118.3740371', '-76.7928128', '-87.922497', '-78.9018053', '-94.5781416', '-122.2865266', '-111.834863', '-122.85900211842105', '-122.419906', '-72.75549720909403', '-72.75549720909403', '-71.43284', '-119.0779359', '-71.43284', '-119.0779359', '-71.3700545', '-121.2907796', '-122.85900211842105', '-92.2387957', '-104.984862', '-94.5781416', '-71.6252484', '-75.0393368', '-123.805294', '-77.1516844', '-118.8820414', '-119.0779359', '-122.1779927', '-75.0393368', '77.2090057', '-75.0393368', '-88.1450735', '-88.1450735', '-93.2827625', '-122.85900211842105', '', '-81.7724368', '-122.330062', '-118.3740371', '-119.0779359', '-97.5170536', '-118.3740371', '-76.54836230003966', '-116.9480877', '-116.9480877', '-89.3837613', '-93.2827625', '-74.9226665', '-74.9226665', '-122.330062', '-71.0424838', '-112.036277', '-122.330062', '17.1467019', '-91.1391153', '-71.0424838', '-86.8008228', '-112.036277', '-90.2428756', '-93.2654692', '-104.985181', '-93.2654692', '-111.8867975', '-90.0782127', '-155.908356', '-104.985181', '-74.9226665', '-72.75549720909403', '-71.1786655', '-72.505714', '-157.855676', '-122.330062', '-90.0782127', '-122.330062', '-87.6244212', '-87.6244212', '-87.6244212', '-122.330062', '13.7772781', '-94.5781416', '-155.917282', '-74.1723667', '-72.75549720909403', '-119.0779359', '-118.3740371', '-119.0779359', '-122.85900211842105', '-118.3740371', '-111.834863', '-122.1238767', '-89.3837613', '-89.3837613', '-87.922497', '-119.0779359', '-122.85900211842105', '-117.42351', '-84.5124602', '-122.330062', '-122.330062', '-122.330062', '-122.674194', '-122.330062', '-122.674194', '-122.330062', '-122.330062', '-122.330062', '-122.330062', '-122.330062', '-122.330062', '-122.330062', '-122.989827', '-122.330062', '-122.8950075', '-122.674194', '-122.330062', '-122.330062', '-122.330062', '-122.989827', '-122.674194', '-122.674194', '-122.330062', '-121.6475587', '-122.674194', '-122.674194', '-122.674194', '-122.330062', '-121.6475587', '-75.6059638', '-73.5698065', '-117.8259819', '-82.8001026', '-82.8001026', '-79.3839347', '-75.6059638', '-72.75549720909403', '-82.8001026', '-75.6059638', '-72.75549720909403', '-75.6059638', '-73.5698065', '-72.75549720909403', '-117.8259819', '-73.5698065', '-72.75549720909403', '-79.3839347', '-83.8624411', '-93.0860209', '-119.9843482', '-71.3519985', '-75.0393368', '-94.5781416', '-104.985181', '-118.3740371', '-94.5781416', '-119.0779359', '-118.8820414', '-122.23963364918777', '-147.349319', '-122.330062', '-155.9536379', '-76.7153192', '-72.75549720909403', '-76.7153192', '-72.75549720909403', '-87.6244212', '-75.0393368', '-87.6244212', '-124.1673746', '-97.5170536', '-118.8820414', '-123.3123598', '-123.3123598', '-72.75549720909403', '-87.6244212', '-97.5170536', '-71.3519985', '-75.0393368', '-121.7529071', '-95.677556', '-118.3740371', '-75.0393368', '-75.1635262', '-84.03094295096533', '-77.40832792370676', '-71.3700545', '-77.1516844', '-75.1635262', '-122.8950075', '-122.23963364918777', '-122.23963364918777', '-118.3740371', '-122.85900211842105', '-118.3740371', '-122.271356', '-85.6591442', '-89.1914249', '-80.2656169', '-124.1673746', '-95.3010624', '-95.6160549', '-87.6244212', '-89.1914249', '11.0480288', '-85.3094883', '-104.985181', '-87.6244212', '-87.6244212', '-74.0229173', '-84.5124602', '-122.330062', '-73.8587461', '-74.0323752', '-74.9226665', '-74.0229173', '-74.0060152', '-74.0060152', '-74.237292', '-73.71263', '-84.3902644', '-74.0060152', '-74.0060152', '-72.75549720909403', '-104.985181', '-104.985181', '-74.9226665', '-88.1450735', '-84.3902644', '-73.7629088', '-118.3740371', '16.3725042', '-118.8820414', '-84.5192192', '-84.3902644', '-73.7629088', '16.3725042', '-88.1450735', '-73.8437461', '', '-117.8259819', '-76.7153192', '-73.8437461', '-76.7153192', '-73.8437461', '-64.3655256', '-122.419906', '-84.03094295096533', '-78.6390989', '-75.1635262', '-122.23963364918777', '-122.85900211842105', '-75.1635262', '-87.6244212', '-79.3839347', '-79.3839347', '-122.23963364918777', '-87.6244212', '-122.85900211842105', '-97.5170536', '-91.1391153', '-122.330062', '7.6824892', '-122.419906', '-72.75549720909403', '-84.5124602', '-117.8259819', '-118.3740371', '-97.7436995', '-122.419906', '-95.4994013', '-72.75549720909403', '-122.330062', '-91.1391153', '-74.0060152', '-122.330062', '-122.330062', '-122.194953', '-97.7436995', '-97.7436995', '-117.8259819', '-104.985181', '-123.805294', '-78.6390989', '-122.330062', '-122.85900211842105', '-122.7141049', '-78.6390989', '-87.377042', '-122.85900211842105', '-122.419906', '-118.0014517', '-71.1447732', '-122.330062', '-118.1444779', '-122.419906', '-94.5781416', '-75.1635262', '-94.5781416', '-77.1516844', '-122.419906', '-75.6059638', '-72.3324849', '-104.9586134', '-117.1627728', '-89.3837613', '-75.1635262', '-84.2326876', '-89.3837613', '-122.23963364918777', '-91.1391153', '-104.985181', '-83.4675021', '-75.1635262', '78.6677428', '77.590082', '-83.4675021', '77.590082', '77.590082', '77.590082', '77.590082', '-122.419906', '-122.330062', '-123.805294', '-122.8950075', '-122.8950075', '-91.1391153', '-122.330062', '-91.1391153', '3.0794343', '-122.419906', '-91.1391153', '-95.677556', '-88.1450735', '-118.191604', '-119.9843482', '-122.85900211842105', '-84.01397213865732', '-97.5170536', '-122.85900211842105', '-74.9226665', '-84.01397213865732', '-117.8259819', '-122.271356', '-94.5781416', '-72.505714', '-95.677556', '-79.9900861', '-97.5170536', '-87.6244212', '-119.9843482', '-94.5781416', '-122.23963364918777', '-87.6244212', '-122.330062', '-74.9226665', '-87.6244212', '101.6942371', '-75.6059638', '-122.85900211842105', '-122.1779927', '-87.6244212', '', '-122.330062', '-72.505714', '', '-71.0424838', '-74.0229173', '13.7772781', '', '-73.6834621', '-84.5124602', '-122.330062', '', '-84.50646209525527', '', '', '-74.0060152', '-117.9627349', '', '-80.19362', '-84.50646209525527', '', '-155.908356', '-155.996933', '-155.9536379', '-155.921402', '-88.1450735', '-155.921402', '-122.330062', '-159.58276139709088', '-155.66391', '', '-157.855676', '-155.9536379', '-88.1450735', '-104.985181', '-97.5170536', '-104.985181', '-111.834863', '-88.1450735', '-78.9018053', '-85.3094883', '-78.9018053', '-111.834863', '-123.805294', '-123.805294', '-121.7529071', '-72.75549720909403', '-72.75549720909403', '-149.894852', '-85.3094883', '-84.2326876', '-122.8332501583744', '-121.7529071', '-123.805294', '-93.2654692', '-118.1444779', '-97.5170536', '-87.6244212', '-90.0782127', '-118.191604', '-118.1444779', '-78.6390989', '-118.191604', '-78.6390989', '', '-94.5781416', '-122.1560768', '-90.0782127', '-119.9843482', '-121.9746797', '-121.3716178', '-114.33828531635987', '-105.270241', '-84.3902644', '-123.3123598', '-122.7141049', '-122.330062', '-122.7141049', '11.0480288', '-118.1478291', '-105.270241', '-122.5310874', '-72.75549720909403', '-118.0704464', '-123.805294', '-72.75549720909403', '-124.08284', '-73.5698065', '-122.5310874', '-73.5698065', '-122.23963364918777', '-75.1635262', '-116.200886', '-123.805294', '-122.1560768', '-84.3902644', '-94.5781416', '-122.330062', '-122.470042', '-123.805294', '-122.419906', '-131.6466819', '44.2058841', '-122.23963364918777', '-95.677556', '-124.1673746', '-95.677556', '-110.9748477', '-110.9748477', '-120.545122', '-96.7968559', '-124.1673746', '-122.330062', '-73.4078968', '-73.4078968', '-122.330062', '-93.2654692', '-122.419906', '-83.4675021', '-73.4078968', '-87.6244212', '-95.677556', '-124.1673746', '-73.7826363', '-95.3676974', '-117.534494', '-117.534494', '-122.419906', '-95.3676974', '-122.5681191', '-122.2865266', '-122.2865266', '-117.534494', '-117.534494', '-118.2478471', '-73.8587461', '-122.330062', '-84.5124602', '-118.1478291', '-118.2478471', '-111.8867975', '-73.8587461', '-84.5124602', '-74.0060152', '-74.0229173', '-123.805294', '-105.270241', '-78.9018053', '-119.9843482', '-80.19362', '-134.419734', '-78.9018053', '-105.270241', '-122.972751', '-105.270241', '-72.75549720909403', '-87.6244212', '-83.8240663', '-83.8240663', '-122.330062', '-122.4168664', '-122.972751', '-83.9210261', '-83.0007065', '-124.08284', '-124.08284', '-156.37013325435828', '-147.716675', '-147.716675', '-83.0007065', '-106.779807', '-119.65724412283629', '-106.779807', '-76.5501996', '-75.5000086', '-75.2500086', '-120.9968782', '-134.419734', '-74.0060152', '-114.33828531635987', '-122.674194', '-149.894852', '-81.3790304', '-94.5781416', '-93.0931028', '-81.3790304', '-134.419734', '-122.8950075', '-118.242766', '-122.330062', '-122.8950075', '-117.1627728', '-117.1627728', '-122.23963364918777', '-122.419906', '-122.330062', '-122.419906', '-122.23963364918777', '-71.6406529', '-122.8950075', '-156.6748023632949', '-71.6406529', '-94.5781416', '-81.3790304', '-105.270241', '-72.8150989', '-72.8150989', '-72.75549720909403', '-122.8950075', '-78.9018053', '-72.8150989', '-90.0782127', '-159.58276139709088', '-105.270241', '-122.8950075', '-122.8950075', '-74.9226665', '-105.270241', '-78.9018053', '-72.8150989', '-105.270241', '-85.759407', '-71.6406529', '-78.9018053', '-81.3790304', '38.4313975', '38.4313975', '38.4313975', '38.4313975', '38.4313975', '38.4313975', '38.4313975', '38.4313975', '38.4313975', '38.4313975', '-71.6406529', '-71.6406529', '-105.270241', '17.1415815', '17.1415815', '-110.44366292631179', '-72.8150989', '-79.44911696639593', '-120.05035277301698', '-120.05035277301698', '-118.4489865', '-122.330062', '-117.5751735', '-76.8669233', '-123.51516139891447', '-118.3692894', '-122.271356', '-73.8437461', '-88.4474302', '-106.8235606', '-122.271356', '-81.5370671', '-118.3692894', '-106.8235606', '-88.4474302', '-71.6406529', '-71.6406529', '-76.2602336', '-147.349319', '-122.330062', '-122.330062', '-105.270241', '-159.58276139709088', '-72.75549720909403', '-147.349319', '-159.58276139709088', '-122.330062', '-93.2654692', '-72.75549720909403', '-105.270241', '-114.33828531635987', '-116.200886', '-122.85900211842105', '-114.33828531635987', '-87.922497', '-73.8437461', '-72.75549720909403', '-124.08284', '-122.8950075', '-72.9250518', '-90.0782127', '-120.05035277301698', '-118.3692894', '-75.1635262', '-87.6244212', '-72.9250518', '-118.3692894', '-75.1635262', '-120.05035277301698', '-122.8950075', '-71.6406529', '-122.419906', '-134.419734', '-74.0060152', '-72.75549720909403', '-72.8150989', '-123.805294', '-123.805294', '-78.9018053', '-149.894852', '-74.9226665', '-122.330062', '-122.8950075', '-71.6406529', '-72.75549720909403', '-66.4858295', '-76.7243403', '-77.3947693', '-77.3947693', '-72.3570972', '-70.3028026', '-70.3028026', '-70.3028026', '-70.3028026', '-122.330062', '-107.812285', '-81.3790304', '-83.8510732', '-73.8437461', '-73.9497211', '-96.7968559', '-76.2602336', '-83.8510732', '-122.330062', '-110.44366292631179', '-122.419906', '-122.9936261', '-120.05035277301698', '-122.330062', '-122.674194', '-118.3692894', '-122.1779927', '-122.419906', '-118.3692894', '-117.3505966', '-122.330062', '-122.330062', '-122.579705', '-155.9966428', '-156.31068331602177', '-156.31068331602177', '-155.9966428', '-155.9966428', '-155.9966428', '-155.9966428', '-155.9966428', '-76.2602336', '-72.8150989', '-81.6936772', '-81.6936772', '-75.1635262', '-72.75549720909403', '-122.54602915532405', '-122.8473388', '-122.271356', '-88.4474302', '-75.1635262', '-75.1635262', '-53.2', '-53.2', '-53.2', '-53.2', '-53.2', '-53.2', '-53.2', '-71.6406529', '-93.6046655', '-73.8437461', '-91.4848728', '-84.3902644', '-122.330062', '-81.518485', '-71.6406529', '-74.0060152', '-122.2865266', '-93.6046655', '-74.0060152', '-93.2654692', '-105.270241', '-105.270241', '-122.419906', '-134.419734', '-84.2135309', '-122.330062', '-93.6046655', '-157.855676', '-134.419734', '-78.9018053', '-123.805294', '-78.9018053', '-122.674194', '-105.270241', '-105.270241', '-123.805294', '-122.419906', '-105.270241', '-122.674194', '-72.75549720909403', '-72.75549720909403', '-105.270241', '-105.270241', '-74.0060152', '-122.8950075', '-90.0782127', '-122.23963364918777', '-74.9226665', '-111.9260184', '-122.8950075', '-122.330062', '-122.330062', '-88.9140683', '-88.9140683', '-88.9140683', '-88.9140683', '-88.9140683', '-88.9140683', '-88.9140683', '-88.9140683', '-88.9140683', '-88.9140683', '-88.9140683', '', '-84.5124602', '-122.330062', '-89.3837613', '-89.3837613', '-90.0782127', '-90.0782127', '-89.3837613', '-94.5781416', '-89.3837613', '-90.345759', '-90.345759', '-90.345759', '-90.345759', '-90.345759', '-90.345759', '-90.345759', '-90.345759', '-82.8001026', '-84.5124602', '-122.419906', '-84.5124602', '-118.1478291', '-73.7629097', '-122.419906', '-122.271356', '-73.8587461', '-74.0229173', '-90.0782127', '-71.6406529', '-122.330062', '-121.493895', '-122.23963364918777', '-122.330062', '-122.23963364918777', '-90.0782127', '-122.23963364918777', '-122.23963364918777', '-121.493895', '-72.8150989', '-149.894852', '-72.8150989', '-93.0931028', '-149.894852', '-81.3790304', '-81.3790304', '-122.2270272', '-74.0060152', '-74.0060152', '-93.0931028', '-122.2270272', '-122.674194', '-72.75549720909403', '-122.330062', '-123.805294']\n"
     ]
    }
   ],
   "source": [
    "#hashed out so don't rerun on accident\n",
    "\n",
    "\n",
    "#using open street map to get lat and long for roaster_location\n",
    "\n",
    "#import requests\n",
    "#import urllib.parse\n",
    "\n",
    "#lat = []\n",
    "#lon = []\n",
    "\n",
    "#address_list = older_df['roaster_location'].to_numpy()\n",
    "\n",
    "#for address in address_list:\n",
    "    #url = 'https://nominatim.openstreetmap.org/search/' + urllib.parse.quote(str(address)) +'?format=json'\n",
    "\n",
    "    #try:\n",
    "        #response = requests.get(url).json()\n",
    "        #lat.append(response[0][\"lat\"])\n",
    "        #lon.append(response[0][\"lon\"])\n",
    "   # except IndexError:\n",
    "        #lat.append('')\n",
    "        #lon.append('')\n",
    "\n",
    "#print(lat)\n",
    "#print(lon)"
   ]
  },
  {
   "cell_type": "code",
   "execution_count": 1520,
   "id": "d7220b90",
   "metadata": {},
   "outputs": [
    {
     "data": {
      "text/plain": [
       "1788"
      ]
     },
     "execution_count": 1520,
     "metadata": {},
     "output_type": "execute_result"
    }
   ],
   "source": [
    "#checking lengths to support adding into dataframe\n",
    "len(lat)"
   ]
  },
  {
   "cell_type": "code",
   "execution_count": 1521,
   "id": "2502b893",
   "metadata": {},
   "outputs": [
    {
     "data": {
      "text/plain": [
       "1788"
      ]
     },
     "execution_count": 1521,
     "metadata": {},
     "output_type": "execute_result"
    }
   ],
   "source": [
    "len(lon)"
   ]
  },
  {
   "cell_type": "code",
   "execution_count": 1522,
   "id": "7e8bdd64",
   "metadata": {},
   "outputs": [
    {
     "data": {
      "text/plain": [
       "1788"
      ]
     },
     "execution_count": 1522,
     "metadata": {},
     "output_type": "execute_result"
    }
   ],
   "source": [
    "len(older_df)"
   ]
  },
  {
   "cell_type": "code",
   "execution_count": 1523,
   "id": "a088bf3d",
   "metadata": {},
   "outputs": [],
   "source": [
    "#adding column to dataframe\n",
    "older_df['roaster_location_lat'] = lat"
   ]
  },
  {
   "cell_type": "code",
   "execution_count": 1524,
   "id": "91d7b6bf",
   "metadata": {},
   "outputs": [],
   "source": [
    "#adding column to dataframe\n",
    "older_df['roaster_location_lon'] = lon"
   ]
  },
  {
   "cell_type": "code",
   "execution_count": 1786,
   "id": "97451ab9",
   "metadata": {},
   "outputs": [],
   "source": [
    "#drop original roaster_location being replaced with lat and lon\n",
    "data_df.drop('roaster_location', axis=1, inplace=True)"
   ]
  },
  {
   "cell_type": "code",
   "execution_count": 1526,
   "id": "fbf9eb4e",
   "metadata": {},
   "outputs": [
    {
     "data": {
      "text/html": [
       "<div>\n",
       "<style scoped>\n",
       "    .dataframe tbody tr th:only-of-type {\n",
       "        vertical-align: middle;\n",
       "    }\n",
       "\n",
       "    .dataframe tbody tr th {\n",
       "        vertical-align: top;\n",
       "    }\n",
       "\n",
       "    .dataframe thead th {\n",
       "        text-align: right;\n",
       "    }\n",
       "</style>\n",
       "<table border=\"1\" class=\"dataframe\">\n",
       "  <thead>\n",
       "    <tr style=\"text-align: right;\">\n",
       "      <th></th>\n",
       "      <th>coffee_name</th>\n",
       "      <th>roaster_name</th>\n",
       "      <th>overall_score</th>\n",
       "      <th>roaster_location</th>\n",
       "      <th>p1</th>\n",
       "      <th>p2</th>\n",
       "      <th>p3</th>\n",
       "      <th>origin</th>\n",
       "      <th>roast</th>\n",
       "      <th>aroma</th>\n",
       "      <th>...</th>\n",
       "      <th>body</th>\n",
       "      <th>flavor</th>\n",
       "      <th>aftertaste</th>\n",
       "      <th>with_milk</th>\n",
       "      <th>bean_agtron</th>\n",
       "      <th>ground_agtron</th>\n",
       "      <th>year</th>\n",
       "      <th>month</th>\n",
       "      <th>roaster_location_lat</th>\n",
       "      <th>roaster_location_lon</th>\n",
       "    </tr>\n",
       "  </thead>\n",
       "  <tbody>\n",
       "    <tr>\n",
       "      <th>1759</th>\n",
       "      <td>Maxwell House Master Blend</td>\n",
       "      <td>Kraft Foods</td>\n",
       "      <td>65</td>\n",
       "      <td>Tarrytown, New York</td>\n",
       "      <td>Blind Assessment: Low-toned to the point of fl...</td>\n",
       "      <td>Notes: A cheap coffee which is dramatically in...</td>\n",
       "      <td>Who Should Drink It: Those for whom (literally...</td>\n",
       "      <td>None</td>\n",
       "      <td>2</td>\n",
       "      <td>4</td>\n",
       "      <td>...</td>\n",
       "      <td>7</td>\n",
       "      <td>4</td>\n",
       "      <td>&lt;NA&gt;</td>\n",
       "      <td>&lt;NA&gt;</td>\n",
       "      <td>&lt;NA&gt;</td>\n",
       "      <td>63</td>\n",
       "      <td>1997</td>\n",
       "      <td>5</td>\n",
       "      <td>41.0762077</td>\n",
       "      <td>-73.8587461</td>\n",
       "    </tr>\n",
       "    <tr>\n",
       "      <th>1626</th>\n",
       "      <td>Bella Vista Tres Rios</td>\n",
       "      <td>Starbucks Coffee</td>\n",
       "      <td>87</td>\n",
       "      <td>Seattle, Washington</td>\n",
       "      <td>Blind Assessment: Liveliest and most resonant ...</td>\n",
       "      <td>Notes: Though dark-roasted, not overbearingly ...</td>\n",
       "      <td>Who Should Drink It: Those who need proof that...</td>\n",
       "      <td>None</td>\n",
       "      <td>5</td>\n",
       "      <td>7</td>\n",
       "      <td>...</td>\n",
       "      <td>6</td>\n",
       "      <td>7</td>\n",
       "      <td>&lt;NA&gt;</td>\n",
       "      <td>&lt;NA&gt;</td>\n",
       "      <td>39</td>\n",
       "      <td>40</td>\n",
       "      <td>1998</td>\n",
       "      <td>6</td>\n",
       "      <td>47.6038321</td>\n",
       "      <td>-122.330062</td>\n",
       "    </tr>\n",
       "    <tr>\n",
       "      <th>1460</th>\n",
       "      <td>Finca La Tacita, Estate Peaberry</td>\n",
       "      <td>Caravan Coffee</td>\n",
       "      <td>90</td>\n",
       "      <td>Newberg, Oregon</td>\n",
       "      <td>Blind Assessment: Full yet majestically buoyan...</td>\n",
       "      <td>Notes: Full yet majestically buoyant. The arom...</td>\n",
       "      <td>Who Should Drink It: Perhaps what we all yearn...</td>\n",
       "      <td>None</td>\n",
       "      <td>&lt;NA&gt;</td>\n",
       "      <td>8</td>\n",
       "      <td>...</td>\n",
       "      <td>8</td>\n",
       "      <td>9</td>\n",
       "      <td>&lt;NA&gt;</td>\n",
       "      <td>&lt;NA&gt;</td>\n",
       "      <td>&lt;NA&gt;</td>\n",
       "      <td>&lt;NA&gt;</td>\n",
       "      <td>1999</td>\n",
       "      <td>11</td>\n",
       "      <td>45.300347</td>\n",
       "      <td>-122.972751</td>\n",
       "    </tr>\n",
       "    <tr>\n",
       "      <th>39</th>\n",
       "      <td>Ethiopia Yirgacheffe Beloya Selection 8</td>\n",
       "      <td>Barrington Coffee Roasting Co.</td>\n",
       "      <td>95</td>\n",
       "      <td>Lee, Massachusetts</td>\n",
       "      <td>Blind Assessment: Grandly fruity and sweetly f...</td>\n",
       "      <td>Notes: A dry-processed or \"natural\" coffee, me...</td>\n",
       "      <td>Who Should Drink It: Admirers of fine ports an...</td>\n",
       "      <td>Yirgacheffe growing region, Sidamo Province, s...</td>\n",
       "      <td>1</td>\n",
       "      <td>9</td>\n",
       "      <td>...</td>\n",
       "      <td>8</td>\n",
       "      <td>&lt;NA&gt;</td>\n",
       "      <td>&lt;NA&gt;</td>\n",
       "      <td>&lt;NA&gt;</td>\n",
       "      <td>65</td>\n",
       "      <td>91</td>\n",
       "      <td>2009</td>\n",
       "      <td>4</td>\n",
       "      <td>42.3039199</td>\n",
       "      <td>-73.2340974</td>\n",
       "    </tr>\n",
       "    <tr>\n",
       "      <th>377</th>\n",
       "      <td>Hacienda La Esmeralda</td>\n",
       "      <td>Willoughby's Coffee &amp; Tea</td>\n",
       "      <td>94</td>\n",
       "      <td>Branford, Connecticut</td>\n",
       "      <td>Blind Assessment: Sweet-toned, quietly intense...</td>\n",
       "      <td>Notes: Coffee from trees of the botanical vari...</td>\n",
       "      <td>Who Should Drink It: Those who can afford one ...</td>\n",
       "      <td>Boquete growing region, western Panama</td>\n",
       "      <td>2</td>\n",
       "      <td>8</td>\n",
       "      <td>...</td>\n",
       "      <td>8</td>\n",
       "      <td>&lt;NA&gt;</td>\n",
       "      <td>&lt;NA&gt;</td>\n",
       "      <td>&lt;NA&gt;</td>\n",
       "      <td>54</td>\n",
       "      <td>76</td>\n",
       "      <td>2007</td>\n",
       "      <td>11</td>\n",
       "      <td>41.2795414</td>\n",
       "      <td>-72.8150989</td>\n",
       "    </tr>\n",
       "    <tr>\n",
       "      <th>1266</th>\n",
       "      <td>Capricorn Blend Decaffeinated</td>\n",
       "      <td>Capricorn Coffees</td>\n",
       "      <td>83</td>\n",
       "      <td>San Francisco, California</td>\n",
       "      <td>Blind Assessment: Dark roast in the classic bi...</td>\n",
       "      <td>Notes: The coffees making up this blend were d...</td>\n",
       "      <td>Who Should Drink It: An agreeable dark roast f...</td>\n",
       "      <td>None</td>\n",
       "      <td>&lt;NA&gt;</td>\n",
       "      <td>7</td>\n",
       "      <td>...</td>\n",
       "      <td>6</td>\n",
       "      <td>8</td>\n",
       "      <td>&lt;NA&gt;</td>\n",
       "      <td>&lt;NA&gt;</td>\n",
       "      <td>0</td>\n",
       "      <td>0</td>\n",
       "      <td>2002</td>\n",
       "      <td>7</td>\n",
       "      <td>37.7790262</td>\n",
       "      <td>-122.419906</td>\n",
       "    </tr>\n",
       "    <tr>\n",
       "      <th>1035</th>\n",
       "      <td>Organic Peruvian Rainforest</td>\n",
       "      <td>Caffe Ibis</td>\n",
       "      <td>85</td>\n",
       "      <td>Logan, Utah</td>\n",
       "      <td>Blind Assessment: In the nose sweetly pungent,...</td>\n",
       "      <td>Notes: This coffee is grown on the eastern slo...</td>\n",
       "      <td>Who Should Drink It: Those socially and enviro...</td>\n",
       "      <td>Northern Peru</td>\n",
       "      <td>4</td>\n",
       "      <td>8</td>\n",
       "      <td>...</td>\n",
       "      <td>7</td>\n",
       "      <td>&lt;NA&gt;</td>\n",
       "      <td>&lt;NA&gt;</td>\n",
       "      <td>&lt;NA&gt;</td>\n",
       "      <td>44</td>\n",
       "      <td>50</td>\n",
       "      <td>2004</td>\n",
       "      <td>3</td>\n",
       "      <td>41.7313447</td>\n",
       "      <td>-111.834863</td>\n",
       "    </tr>\n",
       "    <tr>\n",
       "      <th>1039</th>\n",
       "      <td>Peruvian Fair-Trade Organic</td>\n",
       "      <td>Alterra Coffee Roasters</td>\n",
       "      <td>88</td>\n",
       "      <td>Milwaukee, Wisconsin</td>\n",
       "      <td>Blind Assessment: In the nose intensely roasty...</td>\n",
       "      <td>Notes: Produced by the 150 farmers of the Coch...</td>\n",
       "      <td>Who Should Drink It: This hugely roasty but ro...</td>\n",
       "      <td>Quillabamba region, south-central Peru.</td>\n",
       "      <td>5</td>\n",
       "      <td>8</td>\n",
       "      <td>...</td>\n",
       "      <td>7</td>\n",
       "      <td>8</td>\n",
       "      <td>&lt;NA&gt;</td>\n",
       "      <td>&lt;NA&gt;</td>\n",
       "      <td>39</td>\n",
       "      <td>42</td>\n",
       "      <td>2004</td>\n",
       "      <td>3</td>\n",
       "      <td>43.0349931</td>\n",
       "      <td>-87.922497</td>\n",
       "    </tr>\n",
       "    <tr>\n",
       "      <th>1410</th>\n",
       "      <td>Organic Timor</td>\n",
       "      <td>Uncommon Grounds</td>\n",
       "      <td>93</td>\n",
       "      <td>Berkeley, California</td>\n",
       "      <td>Blind Assessment: The quintessentially smooth,...</td>\n",
       "      <td>Notes: The quintessentially smooth, deep, rich...</td>\n",
       "      <td>Who Should Drink It: Should be delicious brewe...</td>\n",
       "      <td>None</td>\n",
       "      <td>&lt;NA&gt;</td>\n",
       "      <td>8</td>\n",
       "      <td>...</td>\n",
       "      <td>8</td>\n",
       "      <td>10</td>\n",
       "      <td>&lt;NA&gt;</td>\n",
       "      <td>&lt;NA&gt;</td>\n",
       "      <td>&lt;NA&gt;</td>\n",
       "      <td>&lt;NA&gt;</td>\n",
       "      <td>2000</td>\n",
       "      <td>4</td>\n",
       "      <td>37.8753497</td>\n",
       "      <td>-122.23963364918777</td>\n",
       "    </tr>\n",
       "    <tr>\n",
       "      <th>489</th>\n",
       "      <td>Ethiopia Biloya Special</td>\n",
       "      <td>Paradise Roasters</td>\n",
       "      <td>97</td>\n",
       "      <td>Ramsey, Minnesota</td>\n",
       "      <td>Blind Assessment: Intense, sweet-toned, chocol...</td>\n",
       "      <td>Notes: Most southern Ethiopia coffee is prepar...</td>\n",
       "      <td>Who Should Drink It: Lovers of big, complexly ...</td>\n",
       "      <td>Southern Ethiopia</td>\n",
       "      <td>2</td>\n",
       "      <td>9</td>\n",
       "      <td>...</td>\n",
       "      <td>9</td>\n",
       "      <td>&lt;NA&gt;</td>\n",
       "      <td>&lt;NA&gt;</td>\n",
       "      <td>&lt;NA&gt;</td>\n",
       "      <td>57</td>\n",
       "      <td>78</td>\n",
       "      <td>2007</td>\n",
       "      <td>5</td>\n",
       "      <td>45.0165728</td>\n",
       "      <td>-93.0949501</td>\n",
       "    </tr>\n",
       "  </tbody>\n",
       "</table>\n",
       "<p>10 rows × 21 columns</p>\n",
       "</div>"
      ],
      "text/plain": [
       "                                  coffee_name                    roaster_name  \\\n",
       "1759               Maxwell House Master Blend                     Kraft Foods   \n",
       "1626                    Bella Vista Tres Rios                Starbucks Coffee   \n",
       "1460         Finca La Tacita, Estate Peaberry                  Caravan Coffee   \n",
       "39    Ethiopia Yirgacheffe Beloya Selection 8  Barrington Coffee Roasting Co.   \n",
       "377                     Hacienda La Esmeralda       Willoughby's Coffee & Tea   \n",
       "1266            Capricorn Blend Decaffeinated               Capricorn Coffees   \n",
       "1035              Organic Peruvian Rainforest                      Caffe Ibis   \n",
       "1039              Peruvian Fair-Trade Organic         Alterra Coffee Roasters   \n",
       "1410                            Organic Timor                Uncommon Grounds   \n",
       "489                   Ethiopia Biloya Special               Paradise Roasters   \n",
       "\n",
       "      overall_score           roaster_location  \\\n",
       "1759             65        Tarrytown, New York   \n",
       "1626             87        Seattle, Washington   \n",
       "1460             90            Newberg, Oregon   \n",
       "39               95         Lee, Massachusetts   \n",
       "377              94      Branford, Connecticut   \n",
       "1266             83  San Francisco, California   \n",
       "1035             85                Logan, Utah   \n",
       "1039             88       Milwaukee, Wisconsin   \n",
       "1410             93       Berkeley, California   \n",
       "489              97          Ramsey, Minnesota   \n",
       "\n",
       "                                                     p1  \\\n",
       "1759  Blind Assessment: Low-toned to the point of fl...   \n",
       "1626  Blind Assessment: Liveliest and most resonant ...   \n",
       "1460  Blind Assessment: Full yet majestically buoyan...   \n",
       "39    Blind Assessment: Grandly fruity and sweetly f...   \n",
       "377   Blind Assessment: Sweet-toned, quietly intense...   \n",
       "1266  Blind Assessment: Dark roast in the classic bi...   \n",
       "1035  Blind Assessment: In the nose sweetly pungent,...   \n",
       "1039  Blind Assessment: In the nose intensely roasty...   \n",
       "1410  Blind Assessment: The quintessentially smooth,...   \n",
       "489   Blind Assessment: Intense, sweet-toned, chocol...   \n",
       "\n",
       "                                                     p2  \\\n",
       "1759  Notes: A cheap coffee which is dramatically in...   \n",
       "1626  Notes: Though dark-roasted, not overbearingly ...   \n",
       "1460  Notes: Full yet majestically buoyant. The arom...   \n",
       "39    Notes: A dry-processed or \"natural\" coffee, me...   \n",
       "377   Notes: Coffee from trees of the botanical vari...   \n",
       "1266  Notes: The coffees making up this blend were d...   \n",
       "1035  Notes: This coffee is grown on the eastern slo...   \n",
       "1039  Notes: Produced by the 150 farmers of the Coch...   \n",
       "1410  Notes: The quintessentially smooth, deep, rich...   \n",
       "489   Notes: Most southern Ethiopia coffee is prepar...   \n",
       "\n",
       "                                                     p3  \\\n",
       "1759  Who Should Drink It: Those for whom (literally...   \n",
       "1626  Who Should Drink It: Those who need proof that...   \n",
       "1460  Who Should Drink It: Perhaps what we all yearn...   \n",
       "39    Who Should Drink It: Admirers of fine ports an...   \n",
       "377   Who Should Drink It: Those who can afford one ...   \n",
       "1266  Who Should Drink It: An agreeable dark roast f...   \n",
       "1035  Who Should Drink It: Those socially and enviro...   \n",
       "1039  Who Should Drink It: This hugely roasty but ro...   \n",
       "1410  Who Should Drink It: Should be delicious brewe...   \n",
       "489   Who Should Drink It: Lovers of big, complexly ...   \n",
       "\n",
       "                                                 origin  roast  aroma  ...  \\\n",
       "1759                                               None      2      4  ...   \n",
       "1626                                               None      5      7  ...   \n",
       "1460                                               None   <NA>      8  ...   \n",
       "39    Yirgacheffe growing region, Sidamo Province, s...      1      9  ...   \n",
       "377              Boquete growing region, western Panama      2      8  ...   \n",
       "1266                                               None   <NA>      7  ...   \n",
       "1035                                      Northern Peru      4      8  ...   \n",
       "1039            Quillabamba region, south-central Peru.      5      8  ...   \n",
       "1410                                               None   <NA>      8  ...   \n",
       "489                                   Southern Ethiopia      2      9  ...   \n",
       "\n",
       "      body  flavor  aftertaste  with_milk  bean_agtron  ground_agtron  year  \\\n",
       "1759     7       4        <NA>       <NA>         <NA>             63  1997   \n",
       "1626     6       7        <NA>       <NA>           39             40  1998   \n",
       "1460     8       9        <NA>       <NA>         <NA>           <NA>  1999   \n",
       "39       8    <NA>        <NA>       <NA>           65             91  2009   \n",
       "377      8    <NA>        <NA>       <NA>           54             76  2007   \n",
       "1266     6       8        <NA>       <NA>            0              0  2002   \n",
       "1035     7    <NA>        <NA>       <NA>           44             50  2004   \n",
       "1039     7       8        <NA>       <NA>           39             42  2004   \n",
       "1410     8      10        <NA>       <NA>         <NA>           <NA>  2000   \n",
       "489      9    <NA>        <NA>       <NA>           57             78  2007   \n",
       "\n",
       "      month  roaster_location_lat roaster_location_lon  \n",
       "1759      5            41.0762077          -73.8587461  \n",
       "1626      6            47.6038321          -122.330062  \n",
       "1460     11             45.300347          -122.972751  \n",
       "39        4            42.3039199          -73.2340974  \n",
       "377      11            41.2795414          -72.8150989  \n",
       "1266      7            37.7790262          -122.419906  \n",
       "1035      3            41.7313447          -111.834863  \n",
       "1039      3            43.0349931           -87.922497  \n",
       "1410      4            37.8753497  -122.23963364918777  \n",
       "489       5            45.0165728          -93.0949501  \n",
       "\n",
       "[10 rows x 21 columns]"
      ]
     },
     "execution_count": 1526,
     "metadata": {},
     "output_type": "execute_result"
    }
   ],
   "source": [
    "#spot checking accuracy of lat locations\n",
    "older_df.sample(10)"
   ]
  },
  {
   "cell_type": "markdown",
   "id": "f6c3ed2b",
   "metadata": {},
   "source": [
    "### Cleaning up country names to return more lat and long for coffee origin\n",
    "There were lots of missing values when running with original data. Cleaning up origin names to improve return rate of lat and lon. Lat and long will be a bit less precise given replacing in many spots with country names.\n"
   ]
  },
  {
   "cell_type": "code",
   "execution_count": 1579,
   "id": "ea0f0edc",
   "metadata": {},
   "outputs": [
    {
     "data": {
      "text/plain": [
       "array(['Thailand', 'Kenya', 'Hawaii', 'Rwanda', 'Burundi', 'Tanzania',\n",
       "       'Ethiopia', 'Colombia', 'Indonesia', 'Not disclosed.', 'Brazil',\n",
       "       'El Salvador', 'Yemen', 'South America, East Africa', 'India',\n",
       "       'Papua New Guinea', 'Panama', 'Guatemala',\n",
       "       'Africa, Latin America.', 'Central America.',\n",
       "       'Central and South America.', 'South and Central America.',\n",
       "       'Honduras', 'Costa Rica', 'Mexico', 'Bolivia', 'Nicaragua',\n",
       "       'Northern Rivers region, New South Wales, Australia', 'Zimbabwe',\n",
       "       'Peru', 'Jamaica', 'Puerto Rico',\n",
       "       'Northern Sumatra, probably Aceh Province', 'Latin America.',\n",
       "       'Northern Sumatra.', 'Central America; South America.', 'Haiti.',\n",
       "       'East Timor.', 'Central America and Africa', 'East Africa.',\n",
       "       'Not disclosed', 'Northern Sumatra', None, 'Blend',\n",
       "       '20% Kona; other blend components not disclosed.',\n",
       "       'Central and South America', 'Not Disclosed',\n",
       "       'East, Central, and southern Africa', 'Zambia',\n",
       "       'Gayo Mountain growing region, Aceh Province, northern Sumatra',\n",
       "       'Aceh Province, northern Sumatra', 'Eastern Java', 'The Americas',\n",
       "       'East Africa, Central and South America', 'East Africa',\n",
       "       'Lake Tawar basin, Aceh Province, northern Sumatra', 'Ecuador',\n",
       "       'Espresso Blend', 'Sumatra', 'East Africa, South America',\n",
       "       'East Timor', 'Cameroon', 'South and Central America',\n",
       "       'Blend of East African coffees',\n",
       "       'San Cristobal, Galapagos Islands', ' Not disclosed.',\n",
       "       'Central America; East Africa; South America.',\n",
       "       'Aceh Province, northern Sumatra.', 'Various', 'Java'],\n",
       "      dtype=object)"
      ]
     },
     "execution_count": 1579,
     "metadata": {},
     "output_type": "execute_result"
    }
   ],
   "source": [
    "older_df['origin'].unique()"
   ]
  },
  {
   "cell_type": "code",
   "execution_count": 1580,
   "id": "7e642f02",
   "metadata": {
    "scrolled": true
   },
   "outputs": [
    {
     "data": {
      "text/plain": [
       "Not disclosed.                                     178\n",
       "Ethiopia                                           112\n",
       "Colombia                                           112\n",
       "Indonesia                                           98\n",
       "Not disclosed                                       78\n",
       "                                                  ... \n",
       "20% Kona; other blend components not disclosed.      1\n",
       "Latin America.                                       1\n",
       "Central America; South America.                      1\n",
       "Haiti.                                               1\n",
       "Java                                                 1\n",
       "Name: origin, Length: 69, dtype: int64"
      ]
     },
     "execution_count": 1580,
     "metadata": {},
     "output_type": "execute_result"
    }
   ],
   "source": [
    "older_df['origin'].value_counts()"
   ]
  },
  {
   "cell_type": "code",
   "execution_count": 1534,
   "id": "6209d1fb",
   "metadata": {},
   "outputs": [],
   "source": [
    "older_df['origin'].replace(r'.*(Ethiopia).*', 'Ethiopia', inplace = True, regex=True)"
   ]
  },
  {
   "cell_type": "code",
   "execution_count": 1535,
   "id": "67e2ad1f",
   "metadata": {},
   "outputs": [],
   "source": [
    "older_df['origin'].replace(r'.*(Panama).*', 'Panama', inplace = True, regex=True)"
   ]
  },
  {
   "cell_type": "code",
   "execution_count": 1536,
   "id": "b6ec9570",
   "metadata": {},
   "outputs": [],
   "source": [
    "older_df['origin'].replace(r'.*(El Salvador).*', 'El Salvador', inplace = True, regex=True)"
   ]
  },
  {
   "cell_type": "code",
   "execution_count": 1537,
   "id": "f7e9b023",
   "metadata": {},
   "outputs": [],
   "source": [
    "older_df['origin'].replace(r'.*(Kenya).*', 'Kenya', inplace = True, regex=True)"
   ]
  },
  {
   "cell_type": "code",
   "execution_count": 1538,
   "id": "69e3aed9",
   "metadata": {},
   "outputs": [],
   "source": [
    "older_df['origin'].replace(r'.*(Guatemala).*', 'Guatemala', inplace = True, regex=True)"
   ]
  },
  {
   "cell_type": "code",
   "execution_count": 1539,
   "id": "103fb120",
   "metadata": {},
   "outputs": [],
   "source": [
    "older_df['origin'].replace(r'.*(Colombia).*', 'Colombia', inplace = True, regex=True)"
   ]
  },
  {
   "cell_type": "code",
   "execution_count": 1540,
   "id": "f9056350",
   "metadata": {},
   "outputs": [],
   "source": [
    "older_df['origin'].replace(r'.*(Burundi).*', 'Burundi', inplace = True, regex=True)"
   ]
  },
  {
   "cell_type": "code",
   "execution_count": 1541,
   "id": "2cf72191",
   "metadata": {},
   "outputs": [],
   "source": [
    "older_df['origin'].replace(r'.*(Costa R.ca).*', 'Costa Rica', inplace = True, regex=True)"
   ]
  },
  {
   "cell_type": "code",
   "execution_count": 1542,
   "id": "52d98438",
   "metadata": {},
   "outputs": [],
   "source": [
    "older_df['origin'].replace(r'.*(Honduras).*', 'Honduras', inplace = True, regex=True)"
   ]
  },
  {
   "cell_type": "code",
   "execution_count": 1543,
   "id": "02e629eb",
   "metadata": {},
   "outputs": [],
   "source": [
    "older_df['origin'].replace(r'.*(Rwanda).*', 'Rwanda', inplace = True, regex=True)"
   ]
  },
  {
   "cell_type": "code",
   "execution_count": 1544,
   "id": "4c414cb8",
   "metadata": {},
   "outputs": [],
   "source": [
    "older_df['origin'].replace(r'.*(Hawaii).*', 'Hawaii', inplace = True, regex=True)"
   ]
  },
  {
   "cell_type": "code",
   "execution_count": 1545,
   "id": "2bf9b1f4",
   "metadata": {},
   "outputs": [],
   "source": [
    "older_df['origin'].replace(r'.*(Hawai).*', 'Hawaii', inplace = True, regex=True)"
   ]
  },
  {
   "cell_type": "code",
   "execution_count": 1546,
   "id": "9d87f7fc",
   "metadata": {},
   "outputs": [],
   "source": [
    "older_df['origin'].replace(r'.*(Peru).*', 'Peru', inplace = True, regex=True)"
   ]
  },
  {
   "cell_type": "code",
   "execution_count": 1548,
   "id": "dde8a00c",
   "metadata": {},
   "outputs": [],
   "source": [
    "older_df['origin'].replace(r'.*(India).*', 'India', inplace = True, regex=True)"
   ]
  },
  {
   "cell_type": "code",
   "execution_count": 1549,
   "id": "3f4f71f5",
   "metadata": {},
   "outputs": [],
   "source": [
    "older_df['origin'].replace(r'.*(Brazil).*', 'Brazil', inplace = True, regex=True)"
   ]
  },
  {
   "cell_type": "code",
   "execution_count": 1550,
   "id": "e8b7d53f",
   "metadata": {},
   "outputs": [],
   "source": [
    "older_df['origin'].replace(r'.*(Ecuador).*', 'Ecuador', inplace = True, regex=True)"
   ]
  },
  {
   "cell_type": "code",
   "execution_count": 1806,
   "id": "b5554878",
   "metadata": {},
   "outputs": [],
   "source": [
    "older_df['origin'].replace(r'.*(Haiti).*', 'Haiti', inplace = True, regex=True)"
   ]
  },
  {
   "cell_type": "code",
   "execution_count": 1551,
   "id": "f2d7705f",
   "metadata": {},
   "outputs": [],
   "source": [
    "older_df['origin'].replace(r'.*(Puerto Rico).*', 'Puerto Rico', inplace = True, regex=True)"
   ]
  },
  {
   "cell_type": "code",
   "execution_count": 1552,
   "id": "6c37b27d",
   "metadata": {},
   "outputs": [],
   "source": [
    "older_df['origin'].replace(r'.*(Uganda).*', 'Uganda', inplace = True, regex=True)"
   ]
  },
  {
   "cell_type": "code",
   "execution_count": 1553,
   "id": "7331c0fa",
   "metadata": {},
   "outputs": [],
   "source": [
    "older_df['origin'].replace(r'.*(Nicaragua).*', 'Nicaragua', inplace = True, regex=True)"
   ]
  },
  {
   "cell_type": "code",
   "execution_count": 1554,
   "id": "3498a014",
   "metadata": {},
   "outputs": [],
   "source": [
    "older_df['origin'].replace(r'.*(Papua New Guinea).*', 'Papua New Guinea', inplace = True, regex=True)"
   ]
  },
  {
   "cell_type": "code",
   "execution_count": 1555,
   "id": "21edf0bc",
   "metadata": {},
   "outputs": [],
   "source": [
    "older_df['origin'].replace(r'.*(Thailand).*', 'Thailand', inplace = True, regex=True)"
   ]
  },
  {
   "cell_type": "code",
   "execution_count": 1556,
   "id": "cab692e8",
   "metadata": {},
   "outputs": [],
   "source": [
    "older_df['origin'].replace(r'.*(Indonesia).*', 'Indonesia', inplace = True, regex=True)"
   ]
  },
  {
   "cell_type": "code",
   "execution_count": 1557,
   "id": "70694585",
   "metadata": {},
   "outputs": [],
   "source": [
    "older_df['origin'].replace(r'.*(Yemen).*', 'Yemen', inplace = True, regex=True)"
   ]
  },
  {
   "cell_type": "code",
   "execution_count": 1558,
   "id": "9b89527a",
   "metadata": {},
   "outputs": [],
   "source": [
    "older_df['origin'].replace(r'.*(Jamaica).*', 'Jamaica', inplace = True, regex=True)"
   ]
  },
  {
   "cell_type": "code",
   "execution_count": 1559,
   "id": "3f4d9a3b",
   "metadata": {},
   "outputs": [],
   "source": [
    "older_df['origin'].replace(r'.*(Tanzania).*', 'Tanzania', inplace = True, regex=True)"
   ]
  },
  {
   "cell_type": "code",
   "execution_count": 1560,
   "id": "94f824da",
   "metadata": {},
   "outputs": [],
   "source": [
    "older_df['origin'].replace(r'.*(Mexico).*', 'Mexico', inplace = True, regex=True)"
   ]
  },
  {
   "cell_type": "code",
   "execution_count": 1561,
   "id": "6085eaec",
   "metadata": {},
   "outputs": [],
   "source": [
    "older_df['origin'].replace(r'.*(Central Zambia).*', 'Central Zambia', inplace = True, regex=True)"
   ]
  },
  {
   "cell_type": "code",
   "execution_count": 1562,
   "id": "3c76e933",
   "metadata": {},
   "outputs": [],
   "source": [
    "older_df['origin'].replace(r'.*(Taiwan).*', 'Taiwan', inplace = True, regex=True)"
   ]
  },
  {
   "cell_type": "code",
   "execution_count": 1563,
   "id": "1b015bf2",
   "metadata": {},
   "outputs": [],
   "source": [
    "older_df['origin'].replace(r'.*(Democratic Republic of the Congo).*', 'Democratic Republic of the Congo', inplace = True, regex=True)"
   ]
  },
  {
   "cell_type": "code",
   "execution_count": 1564,
   "id": "7de4854d",
   "metadata": {},
   "outputs": [],
   "source": [
    "older_df['origin'].replace(r'.*(Bolivia).*', 'Bolivia', inplace = True, regex=True)"
   ]
  },
  {
   "cell_type": "code",
   "execution_count": 1565,
   "id": "c86fd57b",
   "metadata": {},
   "outputs": [],
   "source": [
    "older_df['origin'].replace(r'.*(Dominican Republic).*', 'Dominican Republic', inplace = True, regex=True)"
   ]
  },
  {
   "cell_type": "code",
   "execution_count": 1566,
   "id": "4819f1fc",
   "metadata": {},
   "outputs": [],
   "source": [
    "older_df['origin'].replace(r'.*(China).*', 'China', inplace = True, regex=True)"
   ]
  },
  {
   "cell_type": "code",
   "execution_count": 1567,
   "id": "8b42b540",
   "metadata": {},
   "outputs": [],
   "source": [
    "older_df['origin'].replace(r'.*(Zimbabwe).*', 'Zimbabwe', inplace = True, regex=True)"
   ]
  },
  {
   "cell_type": "code",
   "execution_count": 1568,
   "id": "7f4bc6d8",
   "metadata": {},
   "outputs": [],
   "source": [
    "older_df['origin'].replace(r'.*(Philippines).*', 'The Philippines', inplace = True, regex=True)"
   ]
  },
  {
   "cell_type": "code",
   "execution_count": 1569,
   "id": "6fffe4c9",
   "metadata": {},
   "outputs": [],
   "source": [
    "older_df['origin'].replace(r'.*(Malawi).*', 'Malawi', inplace = True, regex=True)"
   ]
  },
  {
   "cell_type": "code",
   "execution_count": 1570,
   "id": "3b8350ec",
   "metadata": {},
   "outputs": [],
   "source": [
    "older_df['origin'].replace(r'.*(Vietnam).*', 'Vietnam', inplace = True, regex=True)"
   ]
  },
  {
   "cell_type": "code",
   "execution_count": 1571,
   "id": "b564703e",
   "metadata": {},
   "outputs": [],
   "source": [
    "older_df['origin'].replace(r'.*(Zambia).*', 'Zambia', inplace = True, regex=True)"
   ]
  },
  {
   "cell_type": "code",
   "execution_count": 1572,
   "id": "570158d0",
   "metadata": {},
   "outputs": [],
   "source": [
    "older_df['origin'].replace(r'.*(Malaysia).*', 'Malaysia', inplace = True, regex=True)"
   ]
  },
  {
   "cell_type": "code",
   "execution_count": 1573,
   "id": "37ce0115",
   "metadata": {},
   "outputs": [],
   "source": [
    "older_df['origin'].replace(r'.*(Democratic Republic of Congo).*', 'Democratic Republic of the Congo', inplace = True, regex=True)"
   ]
  },
  {
   "cell_type": "code",
   "execution_count": 1574,
   "id": "96b4b6b0",
   "metadata": {},
   "outputs": [],
   "source": [
    "older_df['origin'].replace(r'.*(Democratic Republic of Congo).*', 'Democratic Republic of the Congo', inplace = True, regex=True)"
   ]
  },
  {
   "cell_type": "code",
   "execution_count": 1575,
   "id": "ab30ac81",
   "metadata": {},
   "outputs": [],
   "source": [
    "older_df['origin'].replace(r'.*(Laos).*', 'Laos', inplace = True, regex=True)"
   ]
  },
  {
   "cell_type": "code",
   "execution_count": 1576,
   "id": "2846dea7",
   "metadata": {},
   "outputs": [],
   "source": [
    "older_df['origin'].replace(r'.*(Myanmar).*', 'Myanmar', inplace = True, regex=True)"
   ]
  },
  {
   "cell_type": "code",
   "execution_count": 1577,
   "id": "d6537c3b",
   "metadata": {},
   "outputs": [],
   "source": [
    "older_df['origin'].replace(r'.*(DRC Congo).*', 'Democratic Republic of the Congo', inplace = True, regex=True)"
   ]
  },
  {
   "cell_type": "code",
   "execution_count": 1578,
   "id": "7c9d8d2f",
   "metadata": {},
   "outputs": [],
   "source": [
    "older_df['origin'].replace(r'.*(California).*', 'California', inplace = True, regex=True)"
   ]
  },
  {
   "cell_type": "code",
   "execution_count": 1583,
   "id": "55916383",
   "metadata": {},
   "outputs": [
    {
     "name": "stdout",
     "output_type": "stream",
     "text": [
      "['14.8971921', '1.4419683', '19.593801499999998', '1.4419683', '1.4419683', '-1.9646631', '-1.9646631', '-3.426449', '-3.426449', '-1.9646631', '-6.5247123', '-1.9646631', '-1.9646631', '-1.9646631', '-3.426449', '-6.5247123', '-3.426449', '10.2116702', '4.099917', '-2.4833826', '10.2116702', '', '-1.9646631', '', '', '', '', '-10.3333333', '', '', '10.2116702', '', '13.8000382', '', '', '16.3471243', '', '10.2116702', '', '10.2116702', '22.3511148', '-5.6816069', '-5.6816069', '-5.6816069', '-5.6816069', '-5.6816069', '-5.6816069', '-5.6816069', '-5.6816069', '1.4419683', '10.2116702', '4.099917', '-10.3333333', '1.4419683', '8.559559', '', '-10.3333333', '', '10.2116702', '15.5855545', '13.8000382', '15.5855545', '-10.3333333', '10.2116702', '10.2116702', '8.559559', '10.2116702', '16.3471243', '10.2116702', '4.099917', '', '-1.9646631', '-2.4833826', '-30.29284845', '', '', '10.2116702', '21.417531150000002', '', '', '', '16.3471243', '-1.9646631', '1.4419683', '', '10.2116702', '-2.4833826', '-2.4833826', '', '', '-10.3333333', '', '', '', '-10.3333333', '', '', '', '', '', '', '4.099917', '', '', '', '', '', '', '4.099917', '-2.4833826', '15.5855545', '', '', '', '', '', '', '', '', '', '', '8.559559', '1.4419683', '19.593801499999998', '10.2116702', '10.2116702', '15.5855545', '1.4419683', '13.8000382', '15.5855545', '22.3511148', '', '19.593801499999998', '15.5855545', '', '10.2116702', '10.2116702', '-2.4833826', '', '10.2116702', '15.5855545', '1.4419683', '1.4419683', '19.593801499999998', '8.559559', '10.2116702', '13.8000382', '10.2116702', '1.4419683', '-1.9646631', '-2.4833826', '8.559559', '15.5855545', '-2.4833826', '4.099917', '10.2116702', '15.2572432', '13.8000382', '15.2572432', '13.8000382', '13.8000382', '13.8000382', '13.8000382', '13.8000382', '13.8000382', '13.8000382', '13.8000382', '13.8000382', '13.8000382', '10.2735633', '1.4419683', '4.099917', '1.4419683', '-2.4833826', '15.5855545', '10.2116702', '10.2116702', '-2.4833826', '4.099917', '4.099917', '15.5855545', '22.3511148', '-10.3333333', '-2.4833826', '10.2116702', '4.099917', '-1.9646631', '13.8000382', '23.6585116', '-17.0568696', '4.099917', '10.2116702', '', '', '-6.5247123', '15.5855545', '', '', '1.4419683', '4.099917', '-2.4833826', '8.559559', '10.2116702', '10.2116702', '', '12.6090157', '13.8000382', '-10.3333333', '4.099917', '10.2116702', '10.2116702', '8.559559', '15.5855545', '-10.3333333', '8.559559', '8.559559', '8.559559', '10.2116702', '15.5855545', '-10.3333333', '', '4.099917', '1.4419683', '1.4419683', '1.4419683', '1.4419683', '1.4419683', '1.4419683', '1.4419683', '1.4419683', '1.4419683', '13.8000382', '15.5855545', '1.4419683', '-2.4833826', '-5.6816069', '', '15.5855545', '-6.5247123', '12.6090157', '15.5855545', '4.099917', '4.099917', '', '10.2116702', '-10.3333333', '10.2116702', '', '10.2116702', '-6.5247123', '10.2735633', '10.2116702', '10.2735633', '10.2116702', '13.8000382', '-6.5247123', '1.4419683', '13.8000382', '-17.0568696', '', '10.2116702', '15.5855545', '-10.3333333', '13.8000382', '10.2116702', '-10.3333333', '-18.4554963', '8.559559', '1.4419683', '-10.3333333', '-10.3333333', '-10.3333333', '-10.3333333', '-10.3333333', '-10.3333333', '-10.3333333', '-10.3333333', '-10.3333333', '-10.3333333', '-10.3333333', '-10.3333333', '1.4419683', '10.2116702', '10.2116702', '10.2116702', '1.4419683', '10.2735633', '-1.9646631', '-10.3333333', '16.3471243', '', '4.099917', '-17.0568696', '4.099917', '15.5855545', '10.2116702', '8.559559', '14.8971921', '1.4419683', '15.5855545', '4.099917', '10.2116702', '', '10.2116702', '', '', '', '', '', '', '', '1.4419683', '4.099917', '-6.8699697', '-2.4833826', '10.2735633', '10.2116702', '23.6585116', '-2.4833826', '23.6585116', '10.2116702', '-2.4833826', '14.8971921', '4.099917', '4.099917', '4.099917', '4.099917', '4.099917', '4.099917', '4.099917', '4.099917', '4.099917', '4.099917', '4.099917', '4.099917', '4.099917', '10.2735633', '10.2735633', '-2.4833826', '8.559559', '-1.9646631', '4.099917', '4.099917', '-2.4833826', '', '15.5855545', '-10.3333333', '-6.5247123', '-10.3333333', '-2.4833826', '', '18.1850507', '10.2735633', '13.8000382', '-1.9646631', '13.8000382', '8.559559', '-2.4833826', '-2.4833826', '-2.4833826', '-2.4833826', '22.3511148', '-2.4833826', '-2.4833826', '-2.4833826', '22.3511148', '-2.4833826', '', '', '', '1.4419683', '18.2247706', '1.4419683', '-2.4833826', '-1.9646631', '', '8.559559', '8.559559', '1.4419683', '', '13.8000382', '16.3471243', '10.2116702', '8.559559', '10.2116702', '10.2116702', '10.2116702', '10.2116702', '10.2116702', '10.2116702', '10.2116702', '10.2116702', '10.2116702', '15.2572432', '-2.4833826', '-2.4833826', '1.4419683', '-2.4833826', '1.4419683', '-2.4833826', '18.1850507', '8.559559', '4.099917', '12.6090157', '8.559559', '8.559559', '13.8000382', '12.6090157', '15.5855545', '15.5855545', '13.8000382', '8.559559', '', '8.559559', '', '10.2116702', '10.2116702', '10.2735633', '15.5855545', '-17.0568696', '-10.3333333', '', '12.6090157', '', '-1.9646631', '-1.9646631', '10.2116702', '1.4419683', '-1.9646631', '1.4419683', '', '-10.3333333', '10.2116702', '1.4419683', '8.559559', '8.559559', '10.2735633', '19.593801499999998', '-10.3333333', '25.7655568', '13.8000382', '1.6364047', '', '', '', '', '', '-23.1223917', '', '', '', '', '', '', '1.6364047', '10.2116702', '-2.4833826', '-5.6816069', '10.2116702', '', '18.2247706', '18.1850507', '19.1399952', '18.1850507', '18.1850507', '18.1850507', '18.1850507', '10.2735633', '1.4419683', '15.5855545', '10.2116702', '10.2735633', '', '', '10.2116702', '-2.4833826', '-18.4554963', '-6.5247123', '-1.9646631', '-18.4554963', '-1.9646631', '-6.5247123', '-18.4554963', '-6.5247123', '-6.5247123', '-1.9646631', '-1.9646631', '-1.9646631', '', '10.2116702', '', '15.5855545', '', '', '-2.4833826', '-10.3333333', '-2.4833826', '-2.4833826', '-10.3333333', '22.3511148', '10.2116702', '-2.4833826', '1.4419683', '4.099917', '19.593801499999998', '4.099917', '', '4.099917', '23.6585116', '', '10.2735633', '-2.4833826', '-2.4833826', '-2.4833826', '-2.4833826', '-2.4833826', '-2.4833826', '-2.4833826', '-2.4833826', '-8.5151979', '-2.4833826', '-8.5151979', '-2.4833826', '', '-1.9646631', '10.2735633', '10.2116702', '19.593801499999998', '14.8971921', '14.8971921', '13.8000382', '4.099917', '', '', '', '', '', '-2.4833826', '', '15.5855545', '', '10.2735633', '10.2116702', '21.417531150000002', '', '', '1.4419683', '4.099917', '-17.0568696', '-17.0568696', '4.099917', '4.099917', '-6.8699697', '4.099917', '4.099917', '4.099917', '4.099917', '4.099917', '4.099917', '4.099917', '4.099917', '4.099917', '4.099917', '23.6585116', '10.2116702', '1.4419683', '', '', '', '', '', '', '4.099917', '-2.4833826', '4.099917', '19.593801499999998', '45.4690945', '', '', '4.099917', '10.2116702', '1.4419683', '8.559559', '13.8000382', '13.8000382', '12.6090157', '12.6090157', '13.8000382', '12.6090157', '8.559559', '13.8000382', '13.8000382', '12.6090157', '19.593801499999998', '-2.4833826', '8.559559', '', '', '', '', '', '1.4419683', '10.2116702', '', '1.4419683', '', '', '', '', '-10.3333333', '-10.3333333', '-10.3333333', '', '', '', '10.2116702', '', '', '', '', '', '10.2116702', '', '', '', '', '', '', '', '', '', '1.6364047', '15.5855545', '', '', '10.2116702', '10.2116702', '', '', '', '44.933143', '', '', '', '-2.4833826', '23.6585116', '10.2116702', '12.6090157', '10.2735633', '4.099917', '8.559559', '4.099917', '1.4419683', '10.2116702', '1.4419683', '-2.4833826', '-2.4833826', '14.8971921', '4.099917', '', '21.417531150000002', '', '', '45.4690945', '', '', '', '', '', '', '-2.4833826', '-2.4833826', '10.2735633', '15.5855545', '48.8612139', '4.099917', '10.2116702', '10.2116702', '15.5855545', '-17.0568696', '-10.3333333', '-10.3333333', '-10.3333333', '-10.3333333', '-10.3333333', '10.2116702', '', '', '10.2116702', '', '-10.3333333', '', '10.2116702', '10.2116702', '12.6090157', '', '22.3511148', '10.2116702', '19.593801499999998', '19.593801499999998', '19.593801499999998', '19.593801499999998', '19.593801499999998', '19.593801499999998', '19.593801499999998', '19.593801499999998', '19.593801499999998', '', '19.593801499999998', '15.5855545', '48.8612139', '48.8612139', '21.417531150000002', '-5.6816069', '-5.6816069', '-5.6816069', '-5.6816069', '-5.6816069', '-5.6816069', '-5.6816069', '-5.6816069', '-5.6816069', '-5.6816069', '-5.6816069', '-17.0568696', '', '15.5855545', '', '4.099917', '4.099917', '4.099917', '4.099917', '4.099917', '4.099917', '4.099917', '4.099917', '4.099917', '4.099917', '4.099917', '4.099917', '4.099917', '4.099917', '4.099917', '-2.4833826', '10.2116702', '-2.4833826', '-10.3333333', '1.4419683', '', '-5.6816069', '', '-2.4833826', '10.2735633', '4.099917', '10.2116702', '4.099917', '4.099917', '4.099917', '15.5855545', '4.099917', '1.6364047', '', '1.4419683', '4.099917', '4.099917', '1.4419683', '10.2116702', '', '', '-10.3333333', '4.099917', '', '', '1.4419683', '1.4419683', '-2.4833826', '15.5855545', '15.5855545', '15.5855545', '23.6585116', '23.6585116', '15.5855545', '15.5855545', '15.5855545', '15.5855545', '15.5855545', '15.5855545', '15.5855545', '19.593801499999998', '10.2116702', '', '4.099917', '15.2572432', '15.2572432', '12.6090157', '-17.0568696', '15.5855545', '12.6090157', '15.2572432', '8.559559', '15.2572432', '8.559559', '-6.8699697', '-10.3333333', '', '', '', '', '', '22.3511148', '', '', '10.2116702', '', '', '-10.3333333', '10.2735633', '10.2735633', '10.2735633', '10.2735633', '8.559559', '10.2735633', '8.559559', '10.2735633', '8.559559', '8.559559', '', '10.2116702', '19.593801499999998', '4.099917', '', '1.4419683', '19.593801499999998', '', '-5.6816069', '1.4419683', '10.2116702', '-1.9646631', '1.4419683', '', '23.6585116', '', '-2.4833826', '', '', '-6.8699697', '23.6585116', '4.099917', '4.099917', '4.099917', '4.099917', '', '15.2572432', '15.2572432', '', '', '', '', '', '-2.4833826', '-10.3333333', '-10.3333333', '-10.3333333', '-10.3333333', '-10.3333333', '-10.3333333', '-10.3333333', '-10.3333333', '-10.3333333', '-10.3333333', '-10.3333333', '', '', '', '', '', '', '', '', '', '', '', '', '', '8.559559', '', '-18.4554963', '-6.5247123', '-6.5247123', '0.3427046', '-6.5247123', '-14.5189121', '-18.4554963', '-1.9646631', '-6.5247123', '-1.9646631', '-6.5247123', '4.099917', '-2.4833826', '-2.4833826', '-2.4833826', '-2.4833826', '-2.4833826', '-2.4833826', '-2.4833826', '-2.4833826', '-2.4833826', '-2.4833826', '-2.4833826', '-2.4833826', '', '', '', '-6.8699697', '19.593801499999998', '13.8000382', '-6.8699697', '-10.3333333', '4.099917', '23.6585116', '15.5855545', '-10.3333333', '4.099917', '4.099917', '12.6090157', '15.2572432', '12.6090157', '13.8000382', '13.8000382', '12.6090157', '13.8000382', '13.8000382', '13.8000382', '12.6090157', '13.8000382', '13.8000382', '1.4419683', '-5.6816069', '-6.5247123', '1.4419683', '10.2116702', '1.4419683', '10.2116702', '1.4419683', '10.2116702', '1.4419683', '10.2116702', '10.2116702', '18.1850507', '', '23.6585116', '10.2116702', '', '10.2116702', '10.2116702', '', '10.2116702', '', '-10.3333333', '10.2116702', '1.4419683', '52.38003305', '12.6090157', '12.6090157', '12.6090157', '12.6090157', '12.6090157', '12.6090157', '12.6090157', '12.6090157', '12.6090157', '22.3511148', '22.3511148', '22.3511148', '22.3511148', '22.3511148', '22.3511148', '22.3511148', '22.3511148', '22.3511148', '22.3511148', '', '', '', '', '', '', '4.099917', '', '', '40.7546492', '', '', '', '10.2116702', '-2.4833826', '', '', '', '', '', '', '', '45.4690945', '', '15.5855545', '15.5855545', '4.099917', '', '10.2735633', '', '19.593801499999998', '12.6090157', '1.4419683', '4.099917', '', '', '19.593801499999998', '', '', '', '-10.3333333', '', '', '', '', '', '19.593801499999998', '', '1.4419683', '13.8000382', '-5.6816069', '-6.8699697', '-6.8699697', '-6.8699697', '-6.8699697', '-6.8699697', '-1.9646631', '-1.9646631', '-6.8699697', '-1.3397668', '-17.0568696', '', '', '', '', '', '-2.4833826', '', '', '', '', '', '', '-0.14329415', '', '', '10.2116702', '', '15.5855545', '', '', '', '', '10.2116702', '', '', '15.5855545', '', '', '8.559559', '', '', '10.2116702', '', '1.4419683', '1.6364047', '21.417531150000002', '4.099917', '', '10.2116702', '', '21.417531150000002', '10.2735633', '', '21.4173497', '', '', '4.099917', '', '4.099917', '4.099917', '-5.6816069', '', '-2.4833826', '-8.5151979', '-2.4833826', '-2.4833826', '', '-8.5151979', '-5.6816069', '-5.6816069', '-5.6816069', '', '21.417531150000002', '', '19.593801499999998', '18.1850507', '19.593801499999998', '18.1850507', '', '13.8000382', '10.2735633', '1.4419683', '-6.5247123', '-6.5247123', '-6.5247123', '15.5855545', '15.5855545', '15.5855545', '15.5855545', '15.5855545', '15.5855545', '15.5855545', '15.5855545', '15.5855545', '15.5855545', '15.5855545', '15.5855545', '10.2735633', '-10.3333333', '-2.4833826', '-5.6816069', '22.3511148', '23.6585116', '8.559559', '4.099917', '-10.3333333', '-10.3333333', '-8.5151979', '16.3471243', '15.2572432', '13.8000382', '15.2572432', '13.8000382', '13.8000382', '15.2572432', '15.2572432', '13.8000382', '15.2572432', '13.8000382', '13.8000382', '15.2572432', '13.8000382', '', '4.099917', '', '', '', '-2.4833826', '', '', '22.3511148', '4.099917', '4.099917', '1.4419683', '15.5855545', '4.099917', '4.099917', '1.4419683', '1.4419683', '15.5855545', '10.2116702', '4.6125522', '4.099917', '-6.8699697', '', '', '16.3471243', '-6.8699697', '1.4419683', '', '15.5855545', '18.2247706', '18.2247706', '18.1850507', '18.1850507', '18.2247706', '18.1850507', '18.1850507', '18.1850507', '18.1850507', '10.2735633', '1.4419683', '10.2735633', '', '', '', '1.4419683', '12.6090157', '44.933143', '-5.6816069', '8.559559', '1.4419683', '10.2116702', '-5.6816069', '44.933143', '', '4.099917', '-2.4833826', '4.099917', '', '-2.4833826', '21.417531150000002', '4.099917', '', '18.1850507', '15.5855545', '', '4.099917', '8.559559', '', '', '', '', '1.4419683', '45.4690945', '12.6090157', '-2.4833826', '-2.4833826', '-2.4833826', '-2.4833826', '-2.4833826', '-2.4833826', '-2.4833826', '-2.4833826', '-2.4833826', '-2.4833826', '-2.4833826', '15.5855545', '-2.4833826', '10.2116702', '44.933143', '44.933143', '44.933143', '44.933143', '44.933143', '10.2116702', '44.933143', '44.933143', '10.2116702', '44.933143', '10.2116702', '44.933143', '44.933143', '1.4419683', '44.933143', '44.933143', '44.933143', '44.933143', '44.933143', '44.933143', '44.933143', '44.933143', '22.3511148', '22.3511148', '44.933143', '44.933143', '', '1.4419683', '23.6585116', '44.933143', '44.933143', '44.933143', '44.933143', '44.933143', '-2.4833826', '10.2735633', '44.933143', '44.933143', '10.2735633', '10.2735633', '44.933143', '44.933143', '44.933143', '10.2735633', '10.2735633', '-10.3333333', '44.933143', '44.933143', '44.933143', '44.933143', '44.933143', '44.933143', '44.933143', '44.933143', '44.933143', '44.933143', '', '', '44.933143', '', '', '', '-10.3333333', '22.3511148', '', '19.593801499999998', '', '', '44.933143', '44.933143', '44.933143', '44.933143', '44.933143', '44.933143', '44.933143', '44.933143', '44.933143', '44.933143', '44.933143', '44.933143', '44.933143', '44.933143', '44.933143', '44.933143', '44.933143', '44.933143', '19.593801499999998', '19.593801499999998', '19.593801499999998', '44.933143', '44.933143', '44.933143', '44.933143', '19.593801499999998', '44.933143', '44.933143', '44.933143', '44.933143', '15.2572432', '44.933143', '44.933143', '44.933143', '44.933143', '44.933143', '44.933143', '44.933143', '12.6090157', '23.6585116', '15.5855545', '44.933143', '', '-2.4833826', '23.6585116', '44.933143', '-6.8699697', '15.5855545', '44.933143', '44.933143', '15.5855545', '44.933143', '44.933143', '44.933143', '', '44.933143', '44.933143', '44.933143', '44.933143', '44.933143', '44.933143', '8.559559', '44.933143', '44.933143', '44.933143', '44.933143', '44.933143', '44.933143', '44.933143', '44.933143', '-10.3333333', '44.933143', '44.933143', '44.933143', '44.933143', '44.933143', '44.933143', '44.933143', '44.933143', '44.933143', '44.933143', '44.933143', '44.933143', '44.933143', '44.933143', '44.933143', '44.933143', '44.933143', '44.933143', '44.933143', '44.933143', '44.933143', '44.933143', '44.933143', '44.933143', '44.933143', '44.933143', '44.933143', '44.933143', '44.933143', '44.933143', '44.933143', '44.933143', '-5.6816069', '15.5855545', '44.933143', '44.933143', '44.933143', '44.933143', '44.933143', '44.933143', '44.933143', '44.933143', '44.933143', '44.933143', '44.933143', '44.933143', '44.933143', '44.933143', '44.933143', '44.933143', '44.933143', '44.933143', '44.933143', '44.933143', '44.933143', '44.933143', '44.933143', '44.933143', '44.933143', '44.933143', '44.933143', '44.933143', '44.933143', '44.933143', '44.933143', '44.933143', '44.933143', '44.933143', '44.933143', '44.933143', '44.933143', '23.6585116', '44.933143', '44.933143', '44.933143', '44.933143', '44.933143', '44.933143', '44.933143', '44.933143', '44.933143', '44.933143', '', '44.933143', '44.933143', '44.933143', '44.933143', '44.933143', '44.933143', '44.933143', '44.933143', '44.933143', '44.933143', '44.933143', '44.933143', '44.933143', '44.933143', '44.933143', '44.933143', '44.933143', '44.933143', '44.933143', '44.933143', '44.933143', '44.933143', '44.933143', '44.933143', '44.933143', '44.933143', '44.933143', '44.933143', '44.933143', '44.933143', '12.6090157', '44.933143', '44.933143', '44.933143', '44.933143', '44.933143', '1.4419683', '44.933143', '44.933143', '44.933143', '-7.06829595', '44.933143', '44.933143', '44.933143', '44.933143', '44.933143', '44.933143', '44.933143', '19.593801499999998', '19.593801499999998', '44.933143', '44.933143', '44.933143', '44.933143', '44.933143', '44.933143', '44.933143', '44.933143', '44.933143', '44.933143', '44.933143', '44.933143', '44.933143', '44.933143', '44.933143', '44.933143', '44.933143', '44.933143', '44.933143', '44.933143', '44.933143', '44.933143', '44.933143', '44.933143', '44.933143', '44.933143', '44.933143', '44.933143', '44.933143', '44.933143', '44.933143', '44.933143', '44.933143', '44.933143', '44.933143', '44.933143', '44.933143', '44.933143', '44.933143', '44.933143', '44.933143', '44.933143', '44.933143', '44.933143', '44.933143', '44.933143', '44.933143', '44.933143', '44.933143', '44.933143', '44.933143', '44.933143', '44.933143', '44.933143', '44.933143', '44.933143', '44.933143', '44.933143', '44.933143', '44.933143', '44.933143', '44.933143', '44.933143', '44.933143', '44.933143', '44.933143', '44.933143', '44.933143', '44.933143', '44.933143', '44.933143', '44.933143', '44.933143', '44.933143', '44.933143', '44.933143', '23.6585116', '44.933143', '44.933143', '44.933143', '44.933143', '44.933143', '44.933143', '44.933143', '44.933143', '44.933143', '44.933143', '44.933143', '44.933143', '44.933143', '44.933143', '15.5855545', '44.933143', '44.933143', '44.933143', '44.933143', '44.933143', '44.933143', '44.933143', '44.933143', '48.8612139', '44.933143', '44.933143', '44.933143', '44.933143', '44.933143', '44.933143', '44.933143', '44.933143', '44.933143', '44.933143', '44.933143', '44.933143', '44.933143', '44.933143', '44.933143', '44.933143', '44.933143', '44.933143', '44.933143', '44.933143', '44.933143', '44.933143', '44.933143', '44.933143', '44.933143', '44.933143', '44.933143', '44.933143', '44.933143', '44.933143', '44.933143', '44.933143', '44.933143', '44.933143', '44.933143', '44.933143', '44.933143', '44.933143', '44.933143', '44.933143', '44.933143', '44.933143', '44.933143', '44.933143', '44.933143', '44.933143', '44.933143', '44.933143', '44.933143', '44.933143', '44.933143', '44.933143', '44.933143', '44.933143', '44.933143', '44.933143', '44.933143', '44.933143', '44.933143', '44.933143', '44.933143', '44.933143', '44.933143', '44.933143', '44.933143', '44.933143', '44.933143', '44.933143', '44.933143', '44.933143', '48.8612139', '44.933143', '44.933143', '44.933143', '44.933143', '44.933143', '44.933143', '44.933143', '44.933143', '44.933143', '44.933143', '44.933143', '44.933143', '44.933143', '44.933143', '44.933143', '44.933143', '44.933143', '44.933143', '44.933143', '12.6090157', '44.933143', '44.933143', '44.933143', '44.933143', '44.933143', '44.933143', '44.933143', '44.933143', '48.8612139', '44.933143', '44.933143', '44.933143', '44.933143', '48.8612139', '-7.06829595', '44.933143', '44.933143', '44.933143', '44.933143', '44.933143', '44.933143', '44.933143', '44.933143', '44.933143', '44.933143', '44.933143', '44.933143', '44.933143', '44.933143', '44.933143', '44.933143', '44.933143', '44.933143', '44.933143', '44.933143', '44.933143', '15.5855545', '44.933143', '44.933143', '44.933143', '44.933143', '44.933143', '44.933143', '15.5855545', '44.933143', '44.933143', '44.933143', '44.933143', '44.933143', '44.933143', '44.933143', '44.933143', '44.933143', '44.933143', '44.933143', '44.933143', '44.933143', '44.933143', '44.933143', '44.933143', '44.933143', '-0.14329415', '44.933143', '44.933143', '-7.327969400000001', '44.933143', '1.4419683', '44.933143', '44.933143', '44.933143', '44.933143', '44.933143', '44.933143', '44.933143', '10.2116702', '1.4419683', '44.933143', '44.933143', '44.933143', '44.933143', '-2.4833826', '4.099917']\n",
      "['100.83273', '38.4313975', '-155.42837009716908', '38.4313975', '38.4313975', '30.0644358', '30.0644358', '29.9324519', '29.9324519', '30.0644358', '35.7878438', '30.0644358', '30.0644358', '30.0644358', '29.9324519', '35.7878438', '29.9324519', '38.6521203', '-72.9088133', '117.8902853', '38.6521203', '', '30.0644358', '', '', '', '', '-53.2', '', '', '38.6521203', '', '-88.9140683', '', '', '47.8915271', '', '38.6521203', '', '38.6521203', '78.6677428', '144.2489081', '144.2489081', '144.2489081', '144.2489081', '144.2489081', '144.2489081', '144.2489081', '144.2489081', '38.4313975', '38.6521203', '-72.9088133', '-53.2', '38.4313975', '-81.1308434', '', '-53.2', '', '38.6521203', '-90.345759', '-88.9140683', '-90.345759', '-53.2', '38.6521203', '38.6521203', '-81.1308434', '38.6521203', '47.8915271', '38.6521203', '-72.9088133', '', '30.0644358', '117.8902853', '153.12561585745573', '', '', '38.6521203', '39.886173718161025', '', '', '', '47.8915271', '30.0644358', '38.4313975', '', '38.6521203', '117.8902853', '117.8902853', '', '', '-53.2', '', '', '', '-53.2', '', '', '', '', '', '', '-72.9088133', '', '', '', '', '', '', '-72.9088133', '117.8902853', '-90.345759', '', '', '', '', '', '', '', '', '', '', '-81.1308434', '38.4313975', '-155.42837009716908', '38.6521203', '38.6521203', '-90.345759', '38.4313975', '-88.9140683', '-90.345759', '78.6677428', '', '-155.42837009716908', '-90.345759', '', '38.6521203', '38.6521203', '117.8902853', '', '38.6521203', '-90.345759', '38.4313975', '38.4313975', '-155.42837009716908', '-81.1308434', '38.6521203', '-88.9140683', '38.6521203', '38.4313975', '30.0644358', '117.8902853', '-81.1308434', '-90.345759', '117.8902853', '-72.9088133', '38.6521203', '-86.0755145', '-88.9140683', '-86.0755145', '-88.9140683', '-88.9140683', '-88.9140683', '-88.9140683', '-88.9140683', '-88.9140683', '-88.9140683', '-88.9140683', '-88.9140683', '-88.9140683', '-84.0739102', '38.4313975', '-72.9088133', '38.4313975', '117.8902853', '-90.345759', '38.6521203', '38.6521203', '117.8902853', '-72.9088133', '-72.9088133', '-90.345759', '78.6677428', '-53.2', '117.8902853', '38.6521203', '-72.9088133', '30.0644358', '-88.9140683', '-102.0077097', '-64.9912286', '-72.9088133', '38.6521203', '', '', '35.7878438', '-90.345759', '', '', '38.4313975', '-72.9088133', '117.8902853', '-81.1308434', '38.6521203', '38.6521203', '', '-85.2936911', '-88.9140683', '-53.2', '-72.9088133', '38.6521203', '38.6521203', '-81.1308434', '-90.345759', '-53.2', '-81.1308434', '-81.1308434', '-81.1308434', '38.6521203', '-90.345759', '-53.2', '', '-72.9088133', '38.4313975', '38.4313975', '38.4313975', '38.4313975', '38.4313975', '38.4313975', '38.4313975', '38.4313975', '38.4313975', '-88.9140683', '-90.345759', '38.4313975', '117.8902853', '144.2489081', '', '-90.345759', '35.7878438', '-85.2936911', '-90.345759', '-72.9088133', '-72.9088133', '', '38.6521203', '-53.2', '38.6521203', '', '38.6521203', '35.7878438', '-84.0739102', '38.6521203', '-84.0739102', '38.6521203', '-88.9140683', '35.7878438', '38.4313975', '-88.9140683', '-64.9912286', '', '38.6521203', '-90.345759', '-53.2', '-88.9140683', '38.6521203', '-53.2', '29.7468414', '-81.1308434', '38.4313975', '-53.2', '-53.2', '-53.2', '-53.2', '-53.2', '-53.2', '-53.2', '-53.2', '-53.2', '-53.2', '-53.2', '-53.2', '38.4313975', '38.6521203', '38.6521203', '38.6521203', '38.4313975', '-84.0739102', '30.0644358', '-53.2', '47.8915271', '', '-72.9088133', '-64.9912286', '-72.9088133', '-90.345759', '38.6521203', '-81.1308434', '100.83273', '38.4313975', '-90.345759', '-72.9088133', '38.6521203', '', '38.6521203', '', '', '', '', '', '', '', '38.4313975', '-72.9088133', '-75.0458515', '117.8902853', '-84.0739102', '38.6521203', '-102.0077097', '117.8902853', '-102.0077097', '38.6521203', '117.8902853', '100.83273', '-72.9088133', '-72.9088133', '-72.9088133', '-72.9088133', '-72.9088133', '-72.9088133', '-72.9088133', '-72.9088133', '-72.9088133', '-72.9088133', '-72.9088133', '-72.9088133', '-72.9088133', '-84.0739102', '-84.0739102', '117.8902853', '-81.1308434', '30.0644358', '-72.9088133', '-72.9088133', '117.8902853', '', '-90.345759', '-53.2', '35.7878438', '-53.2', '117.8902853', '', '-77.3947693', '-84.0739102', '-88.9140683', '30.0644358', '-88.9140683', '-81.1308434', '117.8902853', '117.8902853', '117.8902853', '117.8902853', '78.6677428', '117.8902853', '117.8902853', '117.8902853', '78.6677428', '117.8902853', '', '', '', '38.4313975', '-66.4858295', '38.4313975', '117.8902853', '30.0644358', '', '-81.1308434', '-81.1308434', '38.4313975', '', '-88.9140683', '47.8915271', '38.6521203', '-81.1308434', '38.6521203', '38.6521203', '38.6521203', '38.6521203', '38.6521203', '38.6521203', '38.6521203', '38.6521203', '38.6521203', '-86.0755145', '117.8902853', '117.8902853', '38.4313975', '117.8902853', '38.4313975', '117.8902853', '-77.3947693', '-81.1308434', '-72.9088133', '-85.2936911', '-81.1308434', '-81.1308434', '-88.9140683', '-85.2936911', '-90.345759', '-90.345759', '-88.9140683', '-81.1308434', '', '-81.1308434', '', '38.6521203', '38.6521203', '-84.0739102', '-90.345759', '-64.9912286', '-53.2', '', '-85.2936911', '', '30.0644358', '30.0644358', '38.6521203', '38.4313975', '30.0644358', '38.4313975', '', '-53.2', '38.6521203', '38.4313975', '-81.1308434', '-81.1308434', '-84.0739102', '-155.42837009716908', '-53.2', '-80.2304526', '-88.9140683', '99.69103752459654', '', '', '', '', '', '-69.5404242', '', '', '', '', '', '', '99.69103752459654', '38.6521203', '117.8902853', '144.2489081', '38.6521203', '', '-66.4858295', '-77.3947693', '-72.3570972', '-77.3947693', '-77.3947693', '-77.3947693', '-77.3947693', '-84.0739102', '38.4313975', '-90.345759', '38.6521203', '-84.0739102', '', '', '38.6521203', '117.8902853', '29.7468414', '35.7878438', '30.0644358', '29.7468414', '30.0644358', '35.7878438', '29.7468414', '35.7878438', '35.7878438', '30.0644358', '30.0644358', '30.0644358', '', '38.6521203', '', '-90.345759', '', '', '117.8902853', '-53.2', '117.8902853', '117.8902853', '-53.2', '78.6677428', '38.6521203', '117.8902853', '38.4313975', '-72.9088133', '-155.42837009716908', '-72.9088133', '', '-72.9088133', '-102.0077097', '', '-84.0739102', '117.8902853', '117.8902853', '117.8902853', '117.8902853', '117.8902853', '117.8902853', '117.8902853', '117.8902853', '125.8375756', '117.8902853', '125.8375756', '117.8902853', '', '30.0644358', '-84.0739102', '38.6521203', '-155.42837009716908', '100.83273', '100.83273', '-88.9140683', '-72.9088133', '', '', '', '', '', '117.8902853', '', '-90.345759', '', '-84.0739102', '38.6521203', '39.886173718161025', '', '', '38.4313975', '-72.9088133', '-64.9912286', '-64.9912286', '-72.9088133', '-72.9088133', '-75.0458515', '-72.9088133', '-72.9088133', '-72.9088133', '-72.9088133', '-72.9088133', '-72.9088133', '-72.9088133', '-72.9088133', '-72.9088133', '-72.9088133', '-102.0077097', '38.6521203', '38.4313975', '', '', '', '', '', '', '-72.9088133', '117.8902853', '-72.9088133', '-155.42837009716908', '-73.6189681', '', '', '-72.9088133', '38.6521203', '38.4313975', '-81.1308434', '-88.9140683', '-88.9140683', '-85.2936911', '-85.2936911', '-88.9140683', '-85.2936911', '-81.1308434', '-88.9140683', '-88.9140683', '-85.2936911', '-155.42837009716908', '117.8902853', '-81.1308434', '', '', '', '', '', '38.4313975', '38.6521203', '', '38.4313975', '', '', '', '', '-53.2', '-53.2', '-53.2', '', '', '', '38.6521203', '', '', '', '', '', '38.6521203', '', '', '', '', '', '', '', '', '', '99.69103752459654', '-90.345759', '', '', '38.6521203', '38.6521203', '', '', '', '7.540121', '', '', '', '117.8902853', '-102.0077097', '38.6521203', '-85.2936911', '-84.0739102', '-72.9088133', '-81.1308434', '-72.9088133', '38.4313975', '38.6521203', '38.4313975', '117.8902853', '117.8902853', '100.83273', '-72.9088133', '', '39.886173718161025', '', '', '-73.6189681', '', '', '', '', '', '', '117.8902853', '117.8902853', '-84.0739102', '-90.345759', '2.3669024', '-72.9088133', '38.6521203', '38.6521203', '-90.345759', '-64.9912286', '-53.2', '-53.2', '-53.2', '-53.2', '-53.2', '38.6521203', '', '', '38.6521203', '', '-53.2', '', '38.6521203', '38.6521203', '-85.2936911', '', '78.6677428', '38.6521203', '-155.42837009716908', '-155.42837009716908', '-155.42837009716908', '-155.42837009716908', '-155.42837009716908', '-155.42837009716908', '-155.42837009716908', '-155.42837009716908', '-155.42837009716908', '', '-155.42837009716908', '-90.345759', '2.3669024', '2.3669024', '39.886173718161025', '144.2489081', '144.2489081', '144.2489081', '144.2489081', '144.2489081', '144.2489081', '144.2489081', '144.2489081', '144.2489081', '144.2489081', '144.2489081', '-64.9912286', '', '-90.345759', '', '-72.9088133', '-72.9088133', '-72.9088133', '-72.9088133', '-72.9088133', '-72.9088133', '-72.9088133', '-72.9088133', '-72.9088133', '-72.9088133', '-72.9088133', '-72.9088133', '-72.9088133', '-72.9088133', '-72.9088133', '117.8902853', '38.6521203', '117.8902853', '-53.2', '38.4313975', '', '144.2489081', '', '117.8902853', '-84.0739102', '-72.9088133', '38.6521203', '-72.9088133', '-72.9088133', '-72.9088133', '-90.345759', '-72.9088133', '99.69103752459654', '', '38.4313975', '-72.9088133', '-72.9088133', '38.4313975', '38.6521203', '', '', '-53.2', '-72.9088133', '', '', '38.4313975', '38.4313975', '117.8902853', '-90.345759', '-90.345759', '-90.345759', '-102.0077097', '-102.0077097', '-90.345759', '-90.345759', '-90.345759', '-90.345759', '-90.345759', '-90.345759', '-90.345759', '-155.42837009716908', '38.6521203', '', '-72.9088133', '-86.0755145', '-86.0755145', '-85.2936911', '-64.9912286', '-90.345759', '-85.2936911', '-86.0755145', '-81.1308434', '-86.0755145', '-81.1308434', '-75.0458515', '-53.2', '', '', '', '', '', '78.6677428', '', '', '38.6521203', '', '', '-53.2', '-84.0739102', '-84.0739102', '-84.0739102', '-84.0739102', '-81.1308434', '-84.0739102', '-81.1308434', '-84.0739102', '-81.1308434', '-81.1308434', '', '38.6521203', '-155.42837009716908', '-72.9088133', '', '38.4313975', '-155.42837009716908', '', '144.2489081', '38.4313975', '38.6521203', '30.0644358', '38.4313975', '', '-102.0077097', '', '117.8902853', '', '', '-75.0458515', '-102.0077097', '-72.9088133', '-72.9088133', '-72.9088133', '-72.9088133', '', '-86.0755145', '-86.0755145', '', '', '', '', '', '117.8902853', '-53.2', '-53.2', '-53.2', '-53.2', '-53.2', '-53.2', '-53.2', '-53.2', '-53.2', '-53.2', '-53.2', '', '', '', '', '', '', '', '', '', '', '', '', '', '-81.1308434', '', '29.7468414', '35.7878438', '35.7878438', '32.5945919', '35.7878438', '27.5589884', '29.7468414', '30.0644358', '35.7878438', '30.0644358', '35.7878438', '-72.9088133', '117.8902853', '117.8902853', '117.8902853', '117.8902853', '117.8902853', '117.8902853', '117.8902853', '117.8902853', '117.8902853', '117.8902853', '117.8902853', '117.8902853', '', '', '', '-75.0458515', '-155.42837009716908', '-88.9140683', '-75.0458515', '-53.2', '-72.9088133', '-102.0077097', '-90.345759', '-53.2', '-72.9088133', '-72.9088133', '-85.2936911', '-86.0755145', '-85.2936911', '-88.9140683', '-88.9140683', '-85.2936911', '-88.9140683', '-88.9140683', '-88.9140683', '-85.2936911', '-88.9140683', '-88.9140683', '38.4313975', '144.2489081', '35.7878438', '38.4313975', '38.6521203', '38.4313975', '38.6521203', '38.4313975', '38.6521203', '38.4313975', '38.6521203', '38.6521203', '-77.3947693', '', '-102.0077097', '38.6521203', '', '38.6521203', '38.6521203', '', '38.6521203', '', '-53.2', '38.6521203', '38.4313975', '4.923084094010079', '-85.2936911', '-85.2936911', '-85.2936911', '-85.2936911', '-85.2936911', '-85.2936911', '-85.2936911', '-85.2936911', '-85.2936911', '78.6677428', '78.6677428', '78.6677428', '78.6677428', '78.6677428', '78.6677428', '78.6677428', '78.6677428', '78.6677428', '78.6677428', '', '', '', '', '', '', '-72.9088133', '', '', '-73.9848111972441', '', '', '', '38.6521203', '117.8902853', '', '', '', '', '', '', '', '-73.6189681', '', '-90.345759', '-90.345759', '-72.9088133', '', '-84.0739102', '', '-155.42837009716908', '-85.2936911', '38.4313975', '-72.9088133', '', '', '-155.42837009716908', '', '', '', '-53.2', '', '', '', '', '', '-155.42837009716908', '', '38.4313975', '-88.9140683', '144.2489081', '-75.0458515', '-75.0458515', '-75.0458515', '-75.0458515', '-75.0458515', '30.0644358', '30.0644358', '-75.0458515', '-79.3666965', '-64.9912286', '', '', '', '', '', '117.8902853', '', '', '', '', '', '', '101.62410241439257', '', '', '38.6521203', '', '-90.345759', '', '', '', '', '38.6521203', '', '', '-90.345759', '', '', '-81.1308434', '', '', '38.6521203', '', '38.4313975', '99.69103752459654', '39.886173718161025', '-72.9088133', '', '38.6521203', '', '39.886173718161025', '-84.0739102', '', '39.9001468', '', '', '-72.9088133', '', '-72.9088133', '-72.9088133', '144.2489081', '', '117.8902853', '125.8375756', '117.8902853', '117.8902853', '', '125.8375756', '144.2489081', '144.2489081', '144.2489081', '', '39.886173718161025', '', '-155.42837009716908', '-77.3947693', '-155.42837009716908', '-77.3947693', '', '-88.9140683', '-84.0739102', '38.4313975', '35.7878438', '35.7878438', '35.7878438', '-90.345759', '-90.345759', '-90.345759', '-90.345759', '-90.345759', '-90.345759', '-90.345759', '-90.345759', '-90.345759', '-90.345759', '-90.345759', '-90.345759', '-84.0739102', '-53.2', '117.8902853', '144.2489081', '78.6677428', '-102.0077097', '-81.1308434', '-72.9088133', '-53.2', '-53.2', '125.8375756', '47.8915271', '-86.0755145', '-88.9140683', '-86.0755145', '-88.9140683', '-88.9140683', '-86.0755145', '-86.0755145', '-88.9140683', '-86.0755145', '-88.9140683', '-88.9140683', '-86.0755145', '-88.9140683', '', '-72.9088133', '', '', '', '117.8902853', '', '', '78.6677428', '-72.9088133', '-72.9088133', '38.4313975', '-90.345759', '-72.9088133', '-72.9088133', '38.4313975', '38.4313975', '-90.345759', '38.6521203', '13.1535811', '-72.9088133', '-75.0458515', '', '', '47.8915271', '-75.0458515', '38.4313975', '', '-90.345759', '-66.4858295', '-66.4858295', '-77.3947693', '-77.3947693', '-66.4858295', '-77.3947693', '-77.3947693', '-77.3947693', '-77.3947693', '-84.0739102', '38.4313975', '-84.0739102', '', '', '', '38.4313975', '-85.2936911', '7.540121', '144.2489081', '-81.1308434', '38.4313975', '38.6521203', '144.2489081', '7.540121', '', '-72.9088133', '117.8902853', '-72.9088133', '', '117.8902853', '39.886173718161025', '-72.9088133', '', '-77.3947693', '-90.345759', '', '-72.9088133', '-81.1308434', '', '', '', '', '38.4313975', '-73.6189681', '-85.2936911', '117.8902853', '117.8902853', '117.8902853', '117.8902853', '117.8902853', '117.8902853', '117.8902853', '117.8902853', '117.8902853', '117.8902853', '117.8902853', '-90.345759', '117.8902853', '38.6521203', '7.540121', '7.540121', '7.540121', '7.540121', '7.540121', '38.6521203', '7.540121', '7.540121', '38.6521203', '7.540121', '38.6521203', '7.540121', '7.540121', '38.4313975', '7.540121', '7.540121', '7.540121', '7.540121', '7.540121', '7.540121', '7.540121', '7.540121', '78.6677428', '78.6677428', '7.540121', '7.540121', '', '38.4313975', '-102.0077097', '7.540121', '7.540121', '7.540121', '7.540121', '7.540121', '117.8902853', '-84.0739102', '7.540121', '7.540121', '-84.0739102', '-84.0739102', '7.540121', '7.540121', '7.540121', '-84.0739102', '-84.0739102', '-53.2', '7.540121', '7.540121', '7.540121', '7.540121', '7.540121', '7.540121', '7.540121', '7.540121', '7.540121', '7.540121', '', '', '7.540121', '', '', '', '-53.2', '78.6677428', '', '-155.42837009716908', '', '', '7.540121', '7.540121', '7.540121', '7.540121', '7.540121', '7.540121', '7.540121', '7.540121', '7.540121', '7.540121', '7.540121', '7.540121', '7.540121', '7.540121', '7.540121', '7.540121', '7.540121', '7.540121', '-155.42837009716908', '-155.42837009716908', '-155.42837009716908', '7.540121', '7.540121', '7.540121', '7.540121', '-155.42837009716908', '7.540121', '7.540121', '7.540121', '7.540121', '-86.0755145', '7.540121', '7.540121', '7.540121', '7.540121', '7.540121', '7.540121', '7.540121', '-85.2936911', '-102.0077097', '-90.345759', '7.540121', '', '117.8902853', '-102.0077097', '7.540121', '-75.0458515', '-90.345759', '7.540121', '7.540121', '-90.345759', '7.540121', '7.540121', '7.540121', '', '7.540121', '7.540121', '7.540121', '7.540121', '7.540121', '7.540121', '-81.1308434', '7.540121', '7.540121', '7.540121', '7.540121', '7.540121', '7.540121', '7.540121', '7.540121', '-53.2', '7.540121', '7.540121', '7.540121', '7.540121', '7.540121', '7.540121', '7.540121', '7.540121', '7.540121', '7.540121', '7.540121', '7.540121', '7.540121', '7.540121', '7.540121', '7.540121', '7.540121', '7.540121', '7.540121', '7.540121', '7.540121', '7.540121', '7.540121', '7.540121', '7.540121', '7.540121', '7.540121', '7.540121', '7.540121', '7.540121', '7.540121', '7.540121', '144.2489081', '-90.345759', '7.540121', '7.540121', '7.540121', '7.540121', '7.540121', '7.540121', '7.540121', '7.540121', '7.540121', '7.540121', '7.540121', '7.540121', '7.540121', '7.540121', '7.540121', '7.540121', '7.540121', '7.540121', '7.540121', '7.540121', '7.540121', '7.540121', '7.540121', '7.540121', '7.540121', '7.540121', '7.540121', '7.540121', '7.540121', '7.540121', '7.540121', '7.540121', '7.540121', '7.540121', '7.540121', '7.540121', '7.540121', '-102.0077097', '7.540121', '7.540121', '7.540121', '7.540121', '7.540121', '7.540121', '7.540121', '7.540121', '7.540121', '7.540121', '', '7.540121', '7.540121', '7.540121', '7.540121', '7.540121', '7.540121', '7.540121', '7.540121', '7.540121', '7.540121', '7.540121', '7.540121', '7.540121', '7.540121', '7.540121', '7.540121', '7.540121', '7.540121', '7.540121', '7.540121', '7.540121', '7.540121', '7.540121', '7.540121', '7.540121', '7.540121', '7.540121', '7.540121', '7.540121', '7.540121', '-85.2936911', '7.540121', '7.540121', '7.540121', '7.540121', '7.540121', '38.4313975', '7.540121', '7.540121', '7.540121', '-34.844702548177736', '7.540121', '7.540121', '7.540121', '7.540121', '7.540121', '7.540121', '7.540121', '-155.42837009716908', '-155.42837009716908', '7.540121', '7.540121', '7.540121', '7.540121', '7.540121', '7.540121', '7.540121', '7.540121', '7.540121', '7.540121', '7.540121', '7.540121', '7.540121', '7.540121', '7.540121', '7.540121', '7.540121', '7.540121', '7.540121', '7.540121', '7.540121', '7.540121', '7.540121', '7.540121', '7.540121', '7.540121', '7.540121', '7.540121', '7.540121', '7.540121', '7.540121', '7.540121', '7.540121', '7.540121', '7.540121', '7.540121', '7.540121', '7.540121', '7.540121', '7.540121', '7.540121', '7.540121', '7.540121', '7.540121', '7.540121', '7.540121', '7.540121', '7.540121', '7.540121', '7.540121', '7.540121', '7.540121', '7.540121', '7.540121', '7.540121', '7.540121', '7.540121', '7.540121', '7.540121', '7.540121', '7.540121', '7.540121', '7.540121', '7.540121', '7.540121', '7.540121', '7.540121', '7.540121', '7.540121', '7.540121', '7.540121', '7.540121', '7.540121', '7.540121', '7.540121', '7.540121', '-102.0077097', '7.540121', '7.540121', '7.540121', '7.540121', '7.540121', '7.540121', '7.540121', '7.540121', '7.540121', '7.540121', '7.540121', '7.540121', '7.540121', '7.540121', '-90.345759', '7.540121', '7.540121', '7.540121', '7.540121', '7.540121', '7.540121', '7.540121', '7.540121', '2.3669024', '7.540121', '7.540121', '7.540121', '7.540121', '7.540121', '7.540121', '7.540121', '7.540121', '7.540121', '7.540121', '7.540121', '7.540121', '7.540121', '7.540121', '7.540121', '7.540121', '7.540121', '7.540121', '7.540121', '7.540121', '7.540121', '7.540121', '7.540121', '7.540121', '7.540121', '7.540121', '7.540121', '7.540121', '7.540121', '7.540121', '7.540121', '7.540121', '7.540121', '7.540121', '7.540121', '7.540121', '7.540121', '7.540121', '7.540121', '7.540121', '7.540121', '7.540121', '7.540121', '7.540121', '7.540121', '7.540121', '7.540121', '7.540121', '7.540121', '7.540121', '7.540121', '7.540121', '7.540121', '7.540121', '7.540121', '7.540121', '7.540121', '7.540121', '7.540121', '7.540121', '7.540121', '7.540121', '7.540121', '7.540121', '7.540121', '7.540121', '7.540121', '7.540121', '7.540121', '7.540121', '2.3669024', '7.540121', '7.540121', '7.540121', '7.540121', '7.540121', '7.540121', '7.540121', '7.540121', '7.540121', '7.540121', '7.540121', '7.540121', '7.540121', '7.540121', '7.540121', '7.540121', '7.540121', '7.540121', '7.540121', '-85.2936911', '7.540121', '7.540121', '7.540121', '7.540121', '7.540121', '7.540121', '7.540121', '7.540121', '2.3669024', '7.540121', '7.540121', '7.540121', '7.540121', '2.3669024', '-34.844702548177736', '7.540121', '7.540121', '7.540121', '7.540121', '7.540121', '7.540121', '7.540121', '7.540121', '7.540121', '7.540121', '7.540121', '7.540121', '7.540121', '7.540121', '7.540121', '7.540121', '7.540121', '7.540121', '7.540121', '7.540121', '7.540121', '-90.345759', '7.540121', '7.540121', '7.540121', '7.540121', '7.540121', '7.540121', '-90.345759', '7.540121', '7.540121', '7.540121', '7.540121', '7.540121', '7.540121', '7.540121', '7.540121', '7.540121', '7.540121', '7.540121', '7.540121', '7.540121', '7.540121', '7.540121', '7.540121', '7.540121', '101.62410241439257', '7.540121', '7.540121', '109.6139109880134', '7.540121', '38.4313975', '7.540121', '7.540121', '7.540121', '7.540121', '7.540121', '7.540121', '7.540121', '38.6521203', '38.4313975', '7.540121', '7.540121', '7.540121', '7.540121', '117.8902853', '-72.9088133']\n"
     ]
    }
   ],
   "source": [
    "#####hashed out so don't rerun on accident\n",
    "\n",
    "#getting lat and lon for coffee_origin locations\n",
    "\n",
    "lat_origin = []\n",
    "lon_origin = []\n",
    "\n",
    "address_list_origin = older_df['origin'].to_numpy()\n",
    "\n",
    "for address in address_list_origin:\n",
    "    url = 'https://nominatim.openstreetmap.org/search/' + urllib.parse.quote(str(address)) +'?format=json'\n",
    "\n",
    "    try:\n",
    "        response = requests.get(url).json()\n",
    "        lat_origin.append(response[0][\"lat\"])\n",
    "        lon_origin.append(response[0][\"lon\"])\n",
    "    except IndexError:\n",
    "        lat_origin.append('')\n",
    "        lon_origin.append('')\n",
    "\n",
    "print(lat_origin)\n",
    "print(lon_origin)"
   ]
  },
  {
   "cell_type": "code",
   "execution_count": 1584,
   "id": "095ac99e",
   "metadata": {},
   "outputs": [],
   "source": [
    "#adding column to dataframe\n",
    "older_df['origin_lat'] = lat_origin"
   ]
  },
  {
   "cell_type": "code",
   "execution_count": 1585,
   "id": "97d57c65",
   "metadata": {},
   "outputs": [],
   "source": [
    "#adding column to dataframe\n",
    "older_df['origin_lon'] = lon_origin"
   ]
  },
  {
   "cell_type": "code",
   "execution_count": 1588,
   "id": "ec8bb4d1",
   "metadata": {},
   "outputs": [],
   "source": [
    "#drop unneeded agtron column\n",
    "older_df.drop('origin', axis=1, inplace=True)"
   ]
  },
  {
   "cell_type": "code",
   "execution_count": 1589,
   "id": "114ac1e1",
   "metadata": {
    "scrolled": true
   },
   "outputs": [
    {
     "data": {
      "text/html": [
       "<div>\n",
       "<style scoped>\n",
       "    .dataframe tbody tr th:only-of-type {\n",
       "        vertical-align: middle;\n",
       "    }\n",
       "\n",
       "    .dataframe tbody tr th {\n",
       "        vertical-align: top;\n",
       "    }\n",
       "\n",
       "    .dataframe thead th {\n",
       "        text-align: right;\n",
       "    }\n",
       "</style>\n",
       "<table border=\"1\" class=\"dataframe\">\n",
       "  <thead>\n",
       "    <tr style=\"text-align: right;\">\n",
       "      <th></th>\n",
       "      <th>coffee_name</th>\n",
       "      <th>roaster_name</th>\n",
       "      <th>overall_score</th>\n",
       "      <th>roaster_location</th>\n",
       "      <th>p1</th>\n",
       "      <th>p2</th>\n",
       "      <th>p3</th>\n",
       "      <th>roast</th>\n",
       "      <th>aroma</th>\n",
       "      <th>acidity</th>\n",
       "      <th>...</th>\n",
       "      <th>aftertaste</th>\n",
       "      <th>with_milk</th>\n",
       "      <th>bean_agtron</th>\n",
       "      <th>ground_agtron</th>\n",
       "      <th>year</th>\n",
       "      <th>month</th>\n",
       "      <th>roaster_location_lat</th>\n",
       "      <th>roaster_location_lon</th>\n",
       "      <th>origin_lat</th>\n",
       "      <th>origin_lon</th>\n",
       "    </tr>\n",
       "  </thead>\n",
       "  <tbody>\n",
       "    <tr>\n",
       "      <th>1474</th>\n",
       "      <td>Ethiopia Harrar</td>\n",
       "      <td>Alaska Coffee Roasting Company</td>\n",
       "      <td>86</td>\n",
       "      <td>Fairbanks, Alaska</td>\n",
       "      <td>Blind Assessment: Smoky, resiny tones turn the...</td>\n",
       "      <td>Notes: Alaska may be the home to more fine cof...</td>\n",
       "      <td>Who Should Drink It: An adventurer 's coffee, ...</td>\n",
       "      <td>&lt;NA&gt;</td>\n",
       "      <td>8</td>\n",
       "      <td>6</td>\n",
       "      <td>...</td>\n",
       "      <td>&lt;NA&gt;</td>\n",
       "      <td>&lt;NA&gt;</td>\n",
       "      <td>&lt;NA&gt;</td>\n",
       "      <td>&lt;NA&gt;</td>\n",
       "      <td>1999</td>\n",
       "      <td>9</td>\n",
       "      <td>64.837845</td>\n",
       "      <td>-147.716675</td>\n",
       "      <td>44.933143</td>\n",
       "      <td>7.540121</td>\n",
       "    </tr>\n",
       "    <tr>\n",
       "      <th>105</th>\n",
       "      <td>Breakfast Blend</td>\n",
       "      <td>Tully's Coffee</td>\n",
       "      <td>88</td>\n",
       "      <td>Seattle, Washington</td>\n",
       "      <td>Blind Assessment: Round, fruit-toned aroma, wi...</td>\n",
       "      <td>Notes: Tully's is a large quality-oriented spe...</td>\n",
       "      <td>Who Should Drink It: A gently balanced but lus...</td>\n",
       "      <td>4</td>\n",
       "      <td>8</td>\n",
       "      <td>7</td>\n",
       "      <td>...</td>\n",
       "      <td>&lt;NA&gt;</td>\n",
       "      <td>&lt;NA&gt;</td>\n",
       "      <td>42</td>\n",
       "      <td>51</td>\n",
       "      <td>2009</td>\n",
       "      <td>1</td>\n",
       "      <td>47.6038321</td>\n",
       "      <td>-122.330062</td>\n",
       "      <td></td>\n",
       "      <td></td>\n",
       "    </tr>\n",
       "    <tr>\n",
       "      <th>114</th>\n",
       "      <td>Full City Roast (K-Cup)</td>\n",
       "      <td>Tully's Coffee</td>\n",
       "      <td>87</td>\n",
       "      <td>Seattle, Washington</td>\n",
       "      <td>Blind Assessment: (As brewed in a Keurig B60 s...</td>\n",
       "      <td>Notes: Keurig brewing devices were among the f...</td>\n",
       "      <td>Who Should Drink It: A balanced cup with a res...</td>\n",
       "      <td>6</td>\n",
       "      <td>8</td>\n",
       "      <td>7</td>\n",
       "      <td>...</td>\n",
       "      <td>&lt;NA&gt;</td>\n",
       "      <td>&lt;NA&gt;</td>\n",
       "      <td>0</td>\n",
       "      <td>33</td>\n",
       "      <td>2009</td>\n",
       "      <td>1</td>\n",
       "      <td>47.6038321</td>\n",
       "      <td>-122.330062</td>\n",
       "      <td></td>\n",
       "      <td></td>\n",
       "    </tr>\n",
       "    <tr>\n",
       "      <th>213</th>\n",
       "      <td>Brazil Daterra Sunrise</td>\n",
       "      <td>Crescent Moon Coffee &amp; Tea</td>\n",
       "      <td>92</td>\n",
       "      <td>Mickleton, New Jersey</td>\n",
       "      <td>Blind Assessment: Sweet-toned, deeply pungent ...</td>\n",
       "      <td>Notes: This coffee is Rainforest Alliance cert...</td>\n",
       "      <td>Who Should Drink It: Those who avoid intensity...</td>\n",
       "      <td>3</td>\n",
       "      <td>9</td>\n",
       "      <td>7</td>\n",
       "      <td>...</td>\n",
       "      <td>&lt;NA&gt;</td>\n",
       "      <td>&lt;NA&gt;</td>\n",
       "      <td>51</td>\n",
       "      <td>69</td>\n",
       "      <td>2008</td>\n",
       "      <td>9</td>\n",
       "      <td>39.7901134</td>\n",
       "      <td>-75.2376834</td>\n",
       "      <td>-10.3333333</td>\n",
       "      <td>-53.2</td>\n",
       "    </tr>\n",
       "    <tr>\n",
       "      <th>1649</th>\n",
       "      <td>Espresso Blend</td>\n",
       "      <td>Calistoga Roastery</td>\n",
       "      <td>71</td>\n",
       "      <td>Calistoga, California</td>\n",
       "      <td>Blind Assessment: Virtually all sweetness has ...</td>\n",
       "      <td>Notes: Virtually all sweetness has been driven...</td>\n",
       "      <td>Who Should Drink It: At best this is a coffee ...</td>\n",
       "      <td>&lt;NA&gt;</td>\n",
       "      <td>4</td>\n",
       "      <td>5</td>\n",
       "      <td>...</td>\n",
       "      <td>&lt;NA&gt;</td>\n",
       "      <td>&lt;NA&gt;</td>\n",
       "      <td>&lt;NA&gt;</td>\n",
       "      <td>&lt;NA&gt;</td>\n",
       "      <td>1998</td>\n",
       "      <td>5</td>\n",
       "      <td>38.5787966</td>\n",
       "      <td>-122.579705</td>\n",
       "      <td>44.933143</td>\n",
       "      <td>7.540121</td>\n",
       "    </tr>\n",
       "  </tbody>\n",
       "</table>\n",
       "<p>5 rows × 22 columns</p>\n",
       "</div>"
      ],
      "text/plain": [
       "                  coffee_name                    roaster_name  overall_score  \\\n",
       "1474          Ethiopia Harrar  Alaska Coffee Roasting Company             86   \n",
       "105           Breakfast Blend                  Tully's Coffee             88   \n",
       "114   Full City Roast (K-Cup)                  Tully's Coffee             87   \n",
       "213    Brazil Daterra Sunrise      Crescent Moon Coffee & Tea             92   \n",
       "1649           Espresso Blend              Calistoga Roastery             71   \n",
       "\n",
       "           roaster_location  \\\n",
       "1474      Fairbanks, Alaska   \n",
       "105     Seattle, Washington   \n",
       "114     Seattle, Washington   \n",
       "213   Mickleton, New Jersey   \n",
       "1649  Calistoga, California   \n",
       "\n",
       "                                                     p1  \\\n",
       "1474  Blind Assessment: Smoky, resiny tones turn the...   \n",
       "105   Blind Assessment: Round, fruit-toned aroma, wi...   \n",
       "114   Blind Assessment: (As brewed in a Keurig B60 s...   \n",
       "213   Blind Assessment: Sweet-toned, deeply pungent ...   \n",
       "1649  Blind Assessment: Virtually all sweetness has ...   \n",
       "\n",
       "                                                     p2  \\\n",
       "1474  Notes: Alaska may be the home to more fine cof...   \n",
       "105   Notes: Tully's is a large quality-oriented spe...   \n",
       "114   Notes: Keurig brewing devices were among the f...   \n",
       "213   Notes: This coffee is Rainforest Alliance cert...   \n",
       "1649  Notes: Virtually all sweetness has been driven...   \n",
       "\n",
       "                                                     p3  roast  aroma  \\\n",
       "1474  Who Should Drink It: An adventurer 's coffee, ...   <NA>      8   \n",
       "105   Who Should Drink It: A gently balanced but lus...      4      8   \n",
       "114   Who Should Drink It: A balanced cup with a res...      6      8   \n",
       "213   Who Should Drink It: Those who avoid intensity...      3      9   \n",
       "1649  Who Should Drink It: At best this is a coffee ...   <NA>      4   \n",
       "\n",
       "      acidity  ...  aftertaste  with_milk  bean_agtron  ground_agtron  year  \\\n",
       "1474        6  ...        <NA>       <NA>         <NA>           <NA>  1999   \n",
       "105         7  ...        <NA>       <NA>           42             51  2009   \n",
       "114         7  ...        <NA>       <NA>            0             33  2009   \n",
       "213         7  ...        <NA>       <NA>           51             69  2008   \n",
       "1649        5  ...        <NA>       <NA>         <NA>           <NA>  1998   \n",
       "\n",
       "      month  roaster_location_lat  roaster_location_lon   origin_lat  \\\n",
       "1474      9             64.837845           -147.716675    44.933143   \n",
       "105       1            47.6038321           -122.330062                \n",
       "114       1            47.6038321           -122.330062                \n",
       "213       9            39.7901134           -75.2376834  -10.3333333   \n",
       "1649      5            38.5787966           -122.579705    44.933143   \n",
       "\n",
       "     origin_lon  \n",
       "1474   7.540121  \n",
       "105              \n",
       "114              \n",
       "213       -53.2  \n",
       "1649   7.540121  \n",
       "\n",
       "[5 rows x 22 columns]"
      ]
     },
     "execution_count": 1589,
     "metadata": {},
     "output_type": "execute_result"
    }
   ],
   "source": [
    "#verifying accuracy of column adds\n",
    "older_df.sample(5)"
   ]
  },
  {
   "cell_type": "code",
   "execution_count": 1592,
   "id": "40e6aa54",
   "metadata": {},
   "outputs": [],
   "source": [
    "#turning blank into nans\n",
    "older_df['roaster_location_lat'].replace('', np.nan, inplace=True)"
   ]
  },
  {
   "cell_type": "code",
   "execution_count": 1594,
   "id": "6e81bcd2",
   "metadata": {},
   "outputs": [],
   "source": [
    "older_df['roaster_location_lat'] = older_df['roaster_location_lat'].astype(float)"
   ]
  },
  {
   "cell_type": "code",
   "execution_count": 1596,
   "id": "8b41c89e",
   "metadata": {},
   "outputs": [],
   "source": [
    "#turning blank into nans\n",
    "older_df['roaster_location_lon'].replace('', np.nan, inplace=True)"
   ]
  },
  {
   "cell_type": "code",
   "execution_count": 1597,
   "id": "dc9b9a58",
   "metadata": {},
   "outputs": [],
   "source": [
    "older_df['roaster_location_lon'] = older_df['roaster_location_lon'].astype(float)"
   ]
  },
  {
   "cell_type": "code",
   "execution_count": 1598,
   "id": "bd6c6949",
   "metadata": {},
   "outputs": [],
   "source": [
    "#turning blank into nans\n",
    "older_df['origin_lat'].replace('', np.nan, inplace=True)"
   ]
  },
  {
   "cell_type": "code",
   "execution_count": 1599,
   "id": "94b34f1d",
   "metadata": {},
   "outputs": [],
   "source": [
    "older_df['origin_lat'] = older_df['origin_lat'].astype(float)"
   ]
  },
  {
   "cell_type": "code",
   "execution_count": 1600,
   "id": "52b92654",
   "metadata": {},
   "outputs": [],
   "source": [
    "#turning blank into nans\n",
    "older_df['origin_lon'].replace('', np.nan, inplace=True)"
   ]
  },
  {
   "cell_type": "code",
   "execution_count": 1601,
   "id": "bd593ae5",
   "metadata": {},
   "outputs": [],
   "source": [
    "older_df['origin_lon'] = older_df['origin_lon'].astype(float)"
   ]
  },
  {
   "cell_type": "code",
   "execution_count": 1604,
   "id": "73d7fa0d",
   "metadata": {},
   "outputs": [
    {
     "data": {
      "text/html": [
       "<div>\n",
       "<style scoped>\n",
       "    .dataframe tbody tr th:only-of-type {\n",
       "        vertical-align: middle;\n",
       "    }\n",
       "\n",
       "    .dataframe tbody tr th {\n",
       "        vertical-align: top;\n",
       "    }\n",
       "\n",
       "    .dataframe thead th {\n",
       "        text-align: right;\n",
       "    }\n",
       "</style>\n",
       "<table border=\"1\" class=\"dataframe\">\n",
       "  <thead>\n",
       "    <tr style=\"text-align: right;\">\n",
       "      <th></th>\n",
       "      <th>coffee_name</th>\n",
       "      <th>roaster_name</th>\n",
       "      <th>overall_score</th>\n",
       "      <th>roaster_location</th>\n",
       "      <th>p1</th>\n",
       "      <th>p2</th>\n",
       "      <th>p3</th>\n",
       "      <th>roast</th>\n",
       "      <th>aroma</th>\n",
       "      <th>acidity</th>\n",
       "      <th>...</th>\n",
       "      <th>aftertaste</th>\n",
       "      <th>with_milk</th>\n",
       "      <th>bean_agtron</th>\n",
       "      <th>ground_agtron</th>\n",
       "      <th>year</th>\n",
       "      <th>month</th>\n",
       "      <th>roaster_location_lat</th>\n",
       "      <th>roaster_location_lon</th>\n",
       "      <th>origin_lat</th>\n",
       "      <th>origin_lon</th>\n",
       "    </tr>\n",
       "  </thead>\n",
       "  <tbody>\n",
       "    <tr>\n",
       "      <th>0</th>\n",
       "      <td>Doi Chaang Wild Civet Coffee</td>\n",
       "      <td>Doi Chaang Coffee</td>\n",
       "      <td>90</td>\n",
       "      <td>Calgary, Alberta, Canada</td>\n",
       "      <td>Blind Assessment: Intriguing mid-tones through...</td>\n",
       "      <td>Notes: Doi Chaang is a single-estate coffee pr...</td>\n",
       "      <td>Who Should Drink It: Culinary adventurers who ...</td>\n",
       "      <td>2</td>\n",
       "      <td>8</td>\n",
       "      <td>8</td>\n",
       "      <td>...</td>\n",
       "      <td>&lt;NA&gt;</td>\n",
       "      <td>&lt;NA&gt;</td>\n",
       "      <td>49</td>\n",
       "      <td>80</td>\n",
       "      <td>2009</td>\n",
       "      <td>6</td>\n",
       "      <td>51.046095</td>\n",
       "      <td>-114.065465</td>\n",
       "      <td>14.897192</td>\n",
       "      <td>100.832730</td>\n",
       "    </tr>\n",
       "    <tr>\n",
       "      <th>1</th>\n",
       "      <td>Kenya AA Lenana</td>\n",
       "      <td>Après Coffee</td>\n",
       "      <td>92</td>\n",
       "      <td>Lancaster, Pennsylvania</td>\n",
       "      <td>Blind Assessment: Rich, very intense aroma: da...</td>\n",
       "      <td>Notes: Despite stresses brought on by social u...</td>\n",
       "      <td>Who Should Drink It: Those who prefer understa...</td>\n",
       "      <td>4</td>\n",
       "      <td>8</td>\n",
       "      <td>8</td>\n",
       "      <td>...</td>\n",
       "      <td>&lt;NA&gt;</td>\n",
       "      <td>&lt;NA&gt;</td>\n",
       "      <td>42</td>\n",
       "      <td>53</td>\n",
       "      <td>2009</td>\n",
       "      <td>6</td>\n",
       "      <td>40.038130</td>\n",
       "      <td>-76.305669</td>\n",
       "      <td>1.441968</td>\n",
       "      <td>38.431398</td>\n",
       "    </tr>\n",
       "    <tr>\n",
       "      <th>2</th>\n",
       "      <td>Mele 100% Kona Coffee</td>\n",
       "      <td>Hula Daddy</td>\n",
       "      <td>92</td>\n",
       "      <td>Holualoa, Hawaii</td>\n",
       "      <td>Blind Assessment: An exciting, rather unusual ...</td>\n",
       "      <td>Notes: A blend of coffees processed by a varie...</td>\n",
       "      <td>Who Should Drink It: An exhilarating sensory r...</td>\n",
       "      <td>2</td>\n",
       "      <td>8</td>\n",
       "      <td>8</td>\n",
       "      <td>...</td>\n",
       "      <td>&lt;NA&gt;</td>\n",
       "      <td>&lt;NA&gt;</td>\n",
       "      <td>51</td>\n",
       "      <td>73</td>\n",
       "      <td>2009</td>\n",
       "      <td>6</td>\n",
       "      <td>19.623815</td>\n",
       "      <td>-155.953638</td>\n",
       "      <td>19.593801</td>\n",
       "      <td>-155.428370</td>\n",
       "    </tr>\n",
       "    <tr>\n",
       "      <th>3</th>\n",
       "      <td>Kenya Peaberry Thika Gethumbwini</td>\n",
       "      <td>JBC Coffee Roasters</td>\n",
       "      <td>96</td>\n",
       "      <td>Madison, Wisconsin</td>\n",
       "      <td>Blind Assessment: Clean, complex, impeccable. ...</td>\n",
       "      <td>Notes: Despite national coffee leadership mark...</td>\n",
       "      <td>Who Should Drink It: Strikingly complete expre...</td>\n",
       "      <td>1</td>\n",
       "      <td>8</td>\n",
       "      <td>9</td>\n",
       "      <td>...</td>\n",
       "      <td>&lt;NA&gt;</td>\n",
       "      <td>&lt;NA&gt;</td>\n",
       "      <td>57</td>\n",
       "      <td>90</td>\n",
       "      <td>2009</td>\n",
       "      <td>6</td>\n",
       "      <td>43.074761</td>\n",
       "      <td>-89.383761</td>\n",
       "      <td>1.441968</td>\n",
       "      <td>38.431398</td>\n",
       "    </tr>\n",
       "    <tr>\n",
       "      <th>4</th>\n",
       "      <td>Kenya Gititu Peaberry</td>\n",
       "      <td>Atomic Cafe Coffee Roasters</td>\n",
       "      <td>92</td>\n",
       "      <td>Beverly, Massachusetts</td>\n",
       "      <td>Blind Assessment: Rich, complex fruit aroma, i...</td>\n",
       "      <td>Notes: Despite stresses brought on by social u...</td>\n",
       "      <td>Who Should Drink It: Lovers of sweet fruit fla...</td>\n",
       "      <td>3</td>\n",
       "      <td>8</td>\n",
       "      <td>8</td>\n",
       "      <td>...</td>\n",
       "      <td>&lt;NA&gt;</td>\n",
       "      <td>&lt;NA&gt;</td>\n",
       "      <td>44</td>\n",
       "      <td>63</td>\n",
       "      <td>2009</td>\n",
       "      <td>6</td>\n",
       "      <td>42.558428</td>\n",
       "      <td>-70.880049</td>\n",
       "      <td>1.441968</td>\n",
       "      <td>38.431398</td>\n",
       "    </tr>\n",
       "  </tbody>\n",
       "</table>\n",
       "<p>5 rows × 22 columns</p>\n",
       "</div>"
      ],
      "text/plain": [
       "                        coffee_name                 roaster_name  \\\n",
       "0      Doi Chaang Wild Civet Coffee            Doi Chaang Coffee   \n",
       "1                   Kenya AA Lenana                 Après Coffee   \n",
       "2             Mele 100% Kona Coffee                   Hula Daddy   \n",
       "3  Kenya Peaberry Thika Gethumbwini          JBC Coffee Roasters   \n",
       "4             Kenya Gititu Peaberry  Atomic Cafe Coffee Roasters   \n",
       "\n",
       "   overall_score          roaster_location  \\\n",
       "0             90  Calgary, Alberta, Canada   \n",
       "1             92   Lancaster, Pennsylvania   \n",
       "2             92          Holualoa, Hawaii   \n",
       "3             96        Madison, Wisconsin   \n",
       "4             92    Beverly, Massachusetts   \n",
       "\n",
       "                                                  p1  \\\n",
       "0  Blind Assessment: Intriguing mid-tones through...   \n",
       "1  Blind Assessment: Rich, very intense aroma: da...   \n",
       "2  Blind Assessment: An exciting, rather unusual ...   \n",
       "3  Blind Assessment: Clean, complex, impeccable. ...   \n",
       "4  Blind Assessment: Rich, complex fruit aroma, i...   \n",
       "\n",
       "                                                  p2  \\\n",
       "0  Notes: Doi Chaang is a single-estate coffee pr...   \n",
       "1  Notes: Despite stresses brought on by social u...   \n",
       "2  Notes: A blend of coffees processed by a varie...   \n",
       "3  Notes: Despite national coffee leadership mark...   \n",
       "4  Notes: Despite stresses brought on by social u...   \n",
       "\n",
       "                                                  p3  roast  aroma  acidity  \\\n",
       "0  Who Should Drink It: Culinary adventurers who ...      2      8        8   \n",
       "1  Who Should Drink It: Those who prefer understa...      4      8        8   \n",
       "2  Who Should Drink It: An exhilarating sensory r...      2      8        8   \n",
       "3  Who Should Drink It: Strikingly complete expre...      1      8        9   \n",
       "4  Who Should Drink It: Lovers of sweet fruit fla...      3      8        8   \n",
       "\n",
       "   ...  aftertaste  with_milk  bean_agtron  ground_agtron  year  month  \\\n",
       "0  ...        <NA>       <NA>           49             80  2009      6   \n",
       "1  ...        <NA>       <NA>           42             53  2009      6   \n",
       "2  ...        <NA>       <NA>           51             73  2009      6   \n",
       "3  ...        <NA>       <NA>           57             90  2009      6   \n",
       "4  ...        <NA>       <NA>           44             63  2009      6   \n",
       "\n",
       "   roaster_location_lat  roaster_location_lon  origin_lat  origin_lon  \n",
       "0             51.046095           -114.065465   14.897192  100.832730  \n",
       "1             40.038130            -76.305669    1.441968   38.431398  \n",
       "2             19.623815           -155.953638   19.593801 -155.428370  \n",
       "3             43.074761            -89.383761    1.441968   38.431398  \n",
       "4             42.558428            -70.880049    1.441968   38.431398  \n",
       "\n",
       "[5 rows x 22 columns]"
      ]
     },
     "execution_count": 1604,
     "metadata": {},
     "output_type": "execute_result"
    }
   ],
   "source": [
    "older_df.head()"
   ]
  },
  {
   "cell_type": "code",
   "execution_count": 1852,
   "id": "66c5c8ea",
   "metadata": {
    "scrolled": true
   },
   "outputs": [
    {
     "name": "stdout",
     "output_type": "stream",
     "text": [
      "<class 'pandas.core.frame.DataFrame'>\n",
      "RangeIndex: 4779 entries, 0 to 4778\n",
      "Data columns (total 25 columns):\n",
      " #   Column                Non-Null Count  Dtype  \n",
      "---  ------                --------------  -----  \n",
      " 0   coffee_name           4779 non-null   object \n",
      " 1   roaster_name          4779 non-null   object \n",
      " 2   roast_level           4705 non-null   Int8   \n",
      " 3   overall_score         4779 non-null   int64  \n",
      " 4   h1                    4779 non-null   object \n",
      " 5   s1                    4779 non-null   int64  \n",
      " 6   h2                    4779 non-null   object \n",
      " 7   s2                    4779 non-null   int64  \n",
      " 8   h3                    4779 non-null   object \n",
      " 9   s3                    4779 non-null   int64  \n",
      " 10  h4                    4779 non-null   object \n",
      " 11  s4                    4779 non-null   int64  \n",
      " 12  h5                    4779 non-null   object \n",
      " 13  s5                    4779 non-null   int64  \n",
      " 14  p1                    4779 non-null   object \n",
      " 15  p2                    4779 non-null   object \n",
      " 16  p3                    4773 non-null   object \n",
      " 17  bean_agtron           4742 non-null   Int8   \n",
      " 18  ground_agtron         4743 non-null   Int8   \n",
      " 19  year                  4779 non-null   int64  \n",
      " 20  month                 4779 non-null   int64  \n",
      " 21  roaster_location_lat  4738 non-null   float64\n",
      " 22  roaster_location_lon  4738 non-null   float64\n",
      " 23  origin_lat            4513 non-null   float64\n",
      " 24  origin_lon            4513 non-null   float64\n",
      "dtypes: Int8(3), float64(4), int64(8), object(10)\n",
      "memory usage: 849.5+ KB\n"
     ]
    }
   ],
   "source": [
    "#checking data type updates\n",
    "data_df.info()"
   ]
  },
  {
   "cell_type": "code",
   "execution_count": 1606,
   "id": "b7814854",
   "metadata": {},
   "outputs": [],
   "source": [
    "older_df.to_csv('2nd_clean_data_df.csv', index=False)"
   ]
  },
  {
   "cell_type": "code",
   "execution_count": null,
   "id": "dc749d0f",
   "metadata": {},
   "outputs": [],
   "source": [
    "### clean up notebook\n",
    "### combine with other data, continue cleaning"
   ]
  },
  {
   "cell_type": "code",
   "execution_count": null,
   "id": "3c15a885",
   "metadata": {},
   "outputs": [],
   "source": [
    "##########\n",
    "# To Do\n",
    "\n",
    "# - run a model with this initial info, pre-tokenizing\n",
    "\n",
    "# - see if currency column gets updated or if prices are old (1997) - if eventually we want to keep\n",
    "\n",
    "# - address second set of data\n",
    "\n",
    "# - decide what to do with coffee names and roaster names\n",
    "# - text tokenizing for paragraphs - AFTER joining all data together\n",
    "# - text tokenizing for names??? - AFTER joining all data together\n",
    "\n",
    "###########"
   ]
  }
 ],
 "metadata": {
  "kernelspec": {
   "display_name": "capstone",
   "language": "python",
   "name": "capstone"
  },
  "language_info": {
   "codemirror_mode": {
    "name": "ipython",
    "version": 3
   },
   "file_extension": ".py",
   "mimetype": "text/x-python",
   "name": "python",
   "nbconvert_exporter": "python",
   "pygments_lexer": "ipython3",
   "version": "3.8.13"
  }
 },
 "nbformat": 4,
 "nbformat_minor": 5
}
