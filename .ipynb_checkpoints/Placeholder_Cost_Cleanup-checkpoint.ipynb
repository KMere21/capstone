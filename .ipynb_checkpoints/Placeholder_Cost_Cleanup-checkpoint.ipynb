{
 "cells": [
  {
   "cell_type": "markdown",
   "id": "61282649",
   "metadata": {},
   "source": [
    "### Splitting estimated price into usable columns\n",
    "\n",
    "Background - estimated price data uses a number of different measures. Breaking it apart with goal of converting to same measure so that they can be compared in a meaningful way.\n"
   ]
  },
  {
   "cell_type": "code",
   "execution_count": null,
   "id": "a0709176",
   "metadata": {},
   "outputs": [],
   "source": [
    "#split  into 2 columns\n",
    "data_df[['est_price_amount','est_price_measure']] = data_df['est_price'].str.split(\"/\", n=1, expand=True)"
   ]
  },
  {
   "cell_type": "code",
   "execution_count": null,
   "id": "dbfa490a",
   "metadata": {},
   "outputs": [],
   "source": [
    "#checking column split\n",
    "data_df.head()"
   ]
  },
  {
   "cell_type": "code",
   "execution_count": null,
   "id": "603a5ae1",
   "metadata": {},
   "outputs": [],
   "source": [
    "#drop unneeded est_price column\n",
    "data_df.drop('est_price', axis=1, inplace=True)\n",
    "data_df.head()"
   ]
  },
  {
   "cell_type": "code",
   "execution_count": null,
   "id": "0b397548",
   "metadata": {},
   "outputs": [],
   "source": [
    "#split  into 2 columns\n",
    "data_df[['est_price_vol','est_price_meas']] = data_df['est_price_measure'].str.split(\" \", n=1, expand=True)"
   ]
  },
  {
   "cell_type": "code",
   "execution_count": null,
   "id": "e9116e82",
   "metadata": {},
   "outputs": [],
   "source": [
    "data_df.head()"
   ]
  },
  {
   "cell_type": "code",
   "execution_count": null,
   "id": "bac3d9c7",
   "metadata": {},
   "outputs": [],
   "source": [
    "#drop unneeded est_price column\n",
    "data_df.drop('est_price_measure', axis=1, inplace=True)\n",
    "data_df"
   ]
  },
  {
   "cell_type": "code",
   "execution_count": null,
   "id": "18f02250",
   "metadata": {},
   "outputs": [],
   "source": [
    "data_df['est_price_meas'].value_counts()"
   ]
  },
  {
   "cell_type": "code",
   "execution_count": null,
   "id": "c9b5014b",
   "metadata": {},
   "outputs": [],
   "source": [
    "data_df['est_price_meas'].replace(r'.*(ounc).*', 'ounces', inplace = True, regex=True)"
   ]
  },
  {
   "cell_type": "code",
   "execution_count": null,
   "id": "a2af911c",
   "metadata": {},
   "outputs": [],
   "source": [
    "data_df['est_price_meas'].replace(r'.*(gram).*', 'grams', inplace = True, regex=True)"
   ]
  },
  {
   "cell_type": "code",
   "execution_count": null,
   "id": "ae1c549c",
   "metadata": {},
   "outputs": [],
   "source": [
    "data_df['est_price_meas'].replace(r'.*(bottle).*', 'bottle', inplace = True, regex=True)"
   ]
  },
  {
   "cell_type": "code",
   "execution_count": null,
   "id": "a4fa5baa",
   "metadata": {},
   "outputs": [],
   "source": [
    "data_df['est_price_meas'].replace(r'.*(capsul).*', 'capsules', inplace = True, regex=True)"
   ]
  },
  {
   "cell_type": "code",
   "execution_count": null,
   "id": "1da21243",
   "metadata": {},
   "outputs": [],
   "source": [
    "data_df['est_price_meas'].replace(r'.*(cups).*', 'K-Cups', inplace = True, regex=True)"
   ]
  },
  {
   "cell_type": "code",
   "execution_count": null,
   "id": "536b8f09",
   "metadata": {},
   "outputs": [],
   "source": [
    "data_df['est_price_meas'].replace(r'.*(ods).*', 'K-Cups', inplace = True, regex=True)"
   ]
  },
  {
   "cell_type": "code",
   "execution_count": null,
   "id": "f40dc08e",
   "metadata": {},
   "outputs": [],
   "source": [
    "data_df['est_price_meas'].replace(r'.*(onc).*', 'K-Cups', inplace = True, regex=True)"
   ]
  },
  {
   "cell_type": "code",
   "execution_count": null,
   "id": "8c33eba4",
   "metadata": {},
   "outputs": [],
   "source": [
    "data_df['est_price_meas'].replace(r'.*(Vue).*', 'K-Cups', inplace = True, regex=True)"
   ]
  },
  {
   "cell_type": "code",
   "execution_count": null,
   "id": "3d7568f3",
   "metadata": {},
   "outputs": [],
   "source": [
    "data_df['est_price_meas'].replace(r'.*(oz).*', 'ounces', inplace = True, regex=True)"
   ]
  },
  {
   "cell_type": "code",
   "execution_count": null,
   "id": "af08b3b1",
   "metadata": {},
   "outputs": [],
   "source": [
    "data_df['est_price_meas'].replace(r'.*(can).*', 'can', inplace = True, regex=True)"
   ]
  },
  {
   "cell_type": "code",
   "execution_count": null,
   "id": "b2c3008c",
   "metadata": {},
   "outputs": [],
   "source": [
    "data_df['est_price_meas'].replace(r'.*(single-serve).*', 'capsules', inplace = True, regex=True)"
   ]
  },
  {
   "cell_type": "code",
   "execution_count": null,
   "id": "bcb9a075",
   "metadata": {},
   "outputs": [],
   "source": [
    "data_df['est_price_meas'].replace(r'.*(pound).*', 'pounds', inplace = True, regex=True)"
   ]
  },
  {
   "cell_type": "code",
   "execution_count": null,
   "id": "c5160e2d",
   "metadata": {},
   "outputs": [],
   "source": [
    "data_df['est_price_meas'].replace(r'(g\\.)', 'grams', inplace = True, regex=True)"
   ]
  },
  {
   "cell_type": "code",
   "execution_count": null,
   "id": "fc171b1d",
   "metadata": {},
   "outputs": [],
   "source": [
    "data_df['est_price_meas'].replace(r'(g$)', 'grams', inplace = True, regex=True)"
   ]
  },
  {
   "cell_type": "code",
   "execution_count": null,
   "id": "502913a9",
   "metadata": {},
   "outputs": [],
   "source": [
    "data_df['est_price_meas'].replace(r'(250.*)', 'grams', inplace = True, regex=True)"
   ]
  },
  {
   "cell_type": "code",
   "execution_count": null,
   "id": "6cb6b3d8",
   "metadata": {},
   "outputs": [],
   "source": [
    "data_df['est_price_meas'].replace(r'(packet)', 'capsules', inplace = True, regex=True)"
   ]
  },
  {
   "cell_type": "code",
   "execution_count": null,
   "id": "d0f9ed87",
   "metadata": {},
   "outputs": [],
   "source": [
    "data_df['est_price_meas'].replace(r'(sticks)', 'capsules', inplace = True, regex=True)"
   ]
  },
  {
   "cell_type": "code",
   "execution_count": null,
   "id": "8d6146fa",
   "metadata": {},
   "outputs": [],
   "source": [
    "data_df['est_price_meas'].replace(r'(kgrams.*)', 'kg', inplace = True, regex=True)"
   ]
  },
  {
   "cell_type": "code",
   "execution_count": null,
   "id": "09eacb35",
   "metadata": {},
   "outputs": [],
   "source": [
    "data_df['est_price_meas'].replace(r'(ml. flask)', 'bottle', inplace = True, regex=True)"
   ]
  },
  {
   "cell_type": "code",
   "execution_count": null,
   "id": "1dc00bf6",
   "metadata": {},
   "outputs": [],
   "source": [
    "data_df['est_price_meas'].replace(r'(tin)', 'unknown', inplace = True, regex=True)"
   ]
  },
  {
   "cell_type": "code",
   "execution_count": null,
   "id": "bbdda2d3",
   "metadata": {},
   "outputs": [],
   "source": [
    "data_df['est_price_meas'].replace(r'((plus one donated))', 'capsules', inplace = True, regex=True)"
   ]
  },
  {
   "cell_type": "code",
   "execution_count": null,
   "id": "6d23069e",
   "metadata": {},
   "outputs": [],
   "source": [
    "data_df['est_price_meas'].replace(r'(T Discs)', 'K-Cups', inplace = True, regex=True)"
   ]
  },
  {
   "cell_type": "code",
   "execution_count": null,
   "id": "d3e4e56e",
   "metadata": {},
   "outputs": [],
   "source": [
    "data_df['est_price_meas'].unique()"
   ]
  },
  {
   "cell_type": "code",
   "execution_count": null,
   "id": "25e9f0c6",
   "metadata": {},
   "outputs": [],
   "source": [
    "data_df['est_price_meas'].isnull().sum()"
   ]
  },
  {
   "cell_type": "code",
   "execution_count": null,
   "id": "7f5778a9",
   "metadata": {},
   "outputs": [],
   "source": [
    "data_df['est_price_meas'].fillna('unknown', inplace=True)"
   ]
  },
  {
   "cell_type": "code",
   "execution_count": null,
   "id": "e0d0a7ba",
   "metadata": {},
   "outputs": [],
   "source": [
    "data_df['est_price_meas'].value_counts()"
   ]
  },
  {
   "cell_type": "code",
   "execution_count": null,
   "id": "c7209dac",
   "metadata": {},
   "outputs": [],
   "source": [
    "data_df['est_price_amount'].value_counts()"
   ]
  },
  {
   "cell_type": "code",
   "execution_count": null,
   "id": "8456b1a9",
   "metadata": {},
   "outputs": [],
   "source": [
    "#split agtron into 2 columns\n",
    "data_df[['currency','est_price_amount']] = data_df['est_price_amount'].str.split(\"$\", n=1, expand=True)"
   ]
  },
  {
   "cell_type": "code",
   "execution_count": null,
   "id": "f7b08bbe",
   "metadata": {},
   "outputs": [],
   "source": [
    "data_df.head()"
   ]
  },
  {
   "cell_type": "code",
   "execution_count": null,
   "id": "2df0b179",
   "metadata": {},
   "outputs": [],
   "source": [
    "data_df['currency'].value_counts()"
   ]
  },
  {
   "cell_type": "code",
   "execution_count": null,
   "id": "c93e8f34",
   "metadata": {},
   "outputs": [],
   "source": [
    "data_df['currency'].unique()"
   ]
  },
  {
   "cell_type": "code",
   "execution_count": null,
   "id": "0db76a15",
   "metadata": {},
   "outputs": [],
   "source": []
  }
 ],
 "metadata": {
  "kernelspec": {
   "display_name": "capstone",
   "language": "python",
   "name": "capstone"
  },
  "language_info": {
   "codemirror_mode": {
    "name": "ipython",
    "version": 3
   },
   "file_extension": ".py",
   "mimetype": "text/x-python",
   "name": "python",
   "nbconvert_exporter": "python",
   "pygments_lexer": "ipython3",
   "version": "3.8.13"
  }
 },
 "nbformat": 4,
 "nbformat_minor": 5
}
