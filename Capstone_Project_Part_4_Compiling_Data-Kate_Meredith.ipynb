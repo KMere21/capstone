{
 "cells": [
  {
   "cell_type": "markdown",
   "id": "38784777",
   "metadata": {},
   "source": [
    "# Capstone Project Part 4: Combining & Cleaning DataFrames\n",
    "\n",
    "**Authur:** Kate Meredith  \n",
    "\n",
    "**Date:** September-November 2022\n",
    "\n",
    "**Notebook #:** 4 of\n",
    "\n",
    "## Background\n",
    "\n",
    "**Source:** Data was collected from [CoffeeReview.com](https://www.coffeereview.com/) and grouped into two DataFrames for cleaning. This workbook compiles those two datasets and further cleans them.\n",
    "\n",
    "**Goal:** Combine the two datasets into one.\n",
    "\n",
    "**Data Overview** Combined final columns to be as follows:\n",
    "\n",
    "Independent Variables:\n",
    "- coffee_name\n",
    "- roaster_name\n",
    "- month\n",
    "- year\n",
    "- bean_agtron\n",
    "- ground_agtron\n",
    "- aroma\n",
    "- acidity\n",
    "- body\n",
    "- flavor\n",
    "- aftertaste\n",
    "- with_milk\n",
    "- roaster_lat\n",
    "- roaster_lon\n",
    "- origin_lat\n",
    "- origin_lon\n",
    "- p1\n",
    "- p2\n",
    "- p3\n",
    "\n",
    "Target: \n",
    "- Overall Score"
   ]
  },
  {
   "cell_type": "markdown",
   "id": "79ec5271",
   "metadata": {},
   "source": [
    "## References\n",
    "\n",
    "- Used this [article](https://www.geeksforgeeks.org/change-the-order-of-a-pandas-dataframe-columns-in-python/) to reorder columns\n",
    "- Used this [article](https://stackoverflow.com/questions/17071871/how-do-i-select-rows-from-a-dataframe-based-on-- column-values) to figure out how to find a row based on specific value\n",
    "- Checking which rows are missing values through this [help](https://www.geeksforgeeks.org/working-with-missing-data-in-pandas/)\n",
    "- Dropping rows based on [column missing values](https://stackoverflow.com/questions/13413590/how-to-drop-rows-of-pandas-dataframe-whose-value-in-a-certain-column-is-nan)"
   ]
  },
  {
   "cell_type": "code",
   "execution_count": 1,
   "id": "6dd43e77",
   "metadata": {},
   "outputs": [],
   "source": [
    "#Importing libraries.\n",
    "import numpy as np\n",
    "import pandas as pd\n",
    "import matplotlib.pyplot as plt\n",
    "import seaborn as sns"
   ]
  },
  {
   "cell_type": "markdown",
   "id": "69ab9fa8",
   "metadata": {},
   "source": [
    "## Combining Datasets\n",
    "\n",
    "The following combines the two data sets with some priliminary adjustment."
   ]
  },
  {
   "cell_type": "code",
   "execution_count": 2,
   "id": "d8ed7a17",
   "metadata": {},
   "outputs": [],
   "source": [
    "#import first dataset\n",
    "df_1 = pd.read_csv('1st_clean_data_df.csv')"
   ]
  },
  {
   "cell_type": "code",
   "execution_count": 3,
   "id": "fce2746c",
   "metadata": {},
   "outputs": [],
   "source": [
    "#import second dataset\n",
    "df_2 = pd.read_csv('2nd_clean_data_df.csv')"
   ]
  },
  {
   "cell_type": "code",
   "execution_count": 4,
   "id": "6a51c5f2",
   "metadata": {},
   "outputs": [
    {
     "name": "stdout",
     "output_type": "stream",
     "text": [
      "<class 'pandas.core.frame.DataFrame'>\n",
      "RangeIndex: 4779 entries, 0 to 4778\n",
      "Data columns (total 21 columns):\n",
      " #   Column                Non-Null Count  Dtype  \n",
      "---  ------                --------------  -----  \n",
      " 0   coffee_name           4779 non-null   object \n",
      " 1   roaster_name          4779 non-null   object \n",
      " 2   roast_level           4705 non-null   float64\n",
      " 3   overall_score         4779 non-null   int64  \n",
      " 4   p1                    4779 non-null   object \n",
      " 5   p2                    4779 non-null   object \n",
      " 6   p3                    4773 non-null   object \n",
      " 7   bean_agtron           4742 non-null   float64\n",
      " 8   ground_agtron         4743 non-null   float64\n",
      " 9   year                  4779 non-null   int64  \n",
      " 10  month                 4779 non-null   int64  \n",
      " 11  roaster_location_lat  4738 non-null   float64\n",
      " 12  roaster_location_lon  4738 non-null   float64\n",
      " 13  origin_lat            4513 non-null   float64\n",
      " 14  origin_lon            4513 non-null   float64\n",
      " 15  aroma                 4743 non-null   float64\n",
      " 16  acidity               4049 non-null   float64\n",
      " 17  body                  4779 non-null   int64  \n",
      " 18  flavor                4779 non-null   int64  \n",
      " 19  aftertaste            4779 non-null   int64  \n",
      " 20  with_milk             766 non-null    float64\n",
      "dtypes: float64(10), int64(6), object(5)\n",
      "memory usage: 784.2+ KB\n"
     ]
    }
   ],
   "source": [
    "#initial review of data types, missing values\n",
    "df_1.info()"
   ]
  },
  {
   "cell_type": "code",
   "execution_count": 5,
   "id": "313ac4a2",
   "metadata": {},
   "outputs": [
    {
     "name": "stdout",
     "output_type": "stream",
     "text": [
      "<class 'pandas.core.frame.DataFrame'>\n",
      "RangeIndex: 1788 entries, 0 to 1787\n",
      "Data columns (total 21 columns):\n",
      " #   Column                Non-Null Count  Dtype  \n",
      "---  ------                --------------  -----  \n",
      " 0   coffee_name           1788 non-null   object \n",
      " 1   roaster_name          1788 non-null   object \n",
      " 2   overall_score         1784 non-null   float64\n",
      " 3   p1                    1788 non-null   object \n",
      " 4   p2                    1788 non-null   object \n",
      " 5   p3                    1788 non-null   object \n",
      " 6   roast                 1510 non-null   float64\n",
      " 7   aroma                 1785 non-null   float64\n",
      " 8   acidity               1452 non-null   float64\n",
      " 9   body                  1733 non-null   float64\n",
      " 10  flavor                767 non-null    float64\n",
      " 11  aftertaste            2 non-null      float64\n",
      " 12  with_milk             9 non-null      float64\n",
      " 13  bean_agtron           1549 non-null   float64\n",
      " 14  ground_agtron         1554 non-null   float64\n",
      " 15  year                  1788 non-null   int64  \n",
      " 16  month                 1788 non-null   int64  \n",
      " 17  roaster_location_lat  1757 non-null   float64\n",
      " 18  roaster_location_lon  1757 non-null   float64\n",
      " 19  origin_lat            1465 non-null   float64\n",
      " 20  origin_lon            1465 non-null   float64\n",
      "dtypes: float64(14), int64(2), object(5)\n",
      "memory usage: 293.5+ KB\n"
     ]
    }
   ],
   "source": [
    "#initial review of data types, missing values\n",
    "df_2.info()"
   ]
  },
  {
   "cell_type": "code",
   "execution_count": 6,
   "id": "87f3fdc1",
   "metadata": {},
   "outputs": [],
   "source": [
    "#update column name to match other df\n",
    "df_1.rename(columns = {'roast_level':'roast'}, inplace = True)"
   ]
  },
  {
   "cell_type": "code",
   "execution_count": 7,
   "id": "cb5002aa",
   "metadata": {},
   "outputs": [],
   "source": [
    "#reorder columns\n",
    "df_1 = df_1[['coffee_name', 'roaster_name', 'month', 'year', 'roast', 'bean_agtron', 'ground_agtron', 'aroma', 'acidity', 'body', 'flavor', 'aftertaste', 'with_milk', 'roaster_location_lat', 'roaster_location_lon', 'origin_lat', 'origin_lon', 'p1', 'p2', 'p3', 'overall_score']]"
   ]
  },
  {
   "cell_type": "code",
   "execution_count": 8,
   "id": "3d07a93f",
   "metadata": {},
   "outputs": [
    {
     "name": "stdout",
     "output_type": "stream",
     "text": [
      "<class 'pandas.core.frame.DataFrame'>\n",
      "RangeIndex: 4779 entries, 0 to 4778\n",
      "Data columns (total 21 columns):\n",
      " #   Column                Non-Null Count  Dtype  \n",
      "---  ------                --------------  -----  \n",
      " 0   coffee_name           4779 non-null   object \n",
      " 1   roaster_name          4779 non-null   object \n",
      " 2   month                 4779 non-null   int64  \n",
      " 3   year                  4779 non-null   int64  \n",
      " 4   roast                 4705 non-null   float64\n",
      " 5   bean_agtron           4742 non-null   float64\n",
      " 6   ground_agtron         4743 non-null   float64\n",
      " 7   aroma                 4743 non-null   float64\n",
      " 8   acidity               4049 non-null   float64\n",
      " 9   body                  4779 non-null   int64  \n",
      " 10  flavor                4779 non-null   int64  \n",
      " 11  aftertaste            4779 non-null   int64  \n",
      " 12  with_milk             766 non-null    float64\n",
      " 13  roaster_location_lat  4738 non-null   float64\n",
      " 14  roaster_location_lon  4738 non-null   float64\n",
      " 15  origin_lat            4513 non-null   float64\n",
      " 16  origin_lon            4513 non-null   float64\n",
      " 17  p1                    4779 non-null   object \n",
      " 18  p2                    4779 non-null   object \n",
      " 19  p3                    4773 non-null   object \n",
      " 20  overall_score         4779 non-null   int64  \n",
      "dtypes: float64(10), int64(6), object(5)\n",
      "memory usage: 784.2+ KB\n"
     ]
    }
   ],
   "source": [
    "#checking order update\n",
    "df_1.info()"
   ]
  },
  {
   "cell_type": "code",
   "execution_count": 9,
   "id": "52f08b3e",
   "metadata": {},
   "outputs": [],
   "source": [
    "#redording columns\n",
    "df_2 = df_2[['coffee_name', 'roaster_name', 'month', 'year', 'roast', 'bean_agtron', 'ground_agtron', 'aroma', 'acidity', 'body', 'flavor', 'aftertaste', 'with_milk', 'roaster_location_lat', 'roaster_location_lon', 'origin_lat', 'origin_lon', 'p1', 'p2', 'p3', 'overall_score']]"
   ]
  },
  {
   "cell_type": "code",
   "execution_count": 10,
   "id": "ca5f971f",
   "metadata": {},
   "outputs": [
    {
     "data": {
      "text/html": [
       "<div>\n",
       "<style scoped>\n",
       "    .dataframe tbody tr th:only-of-type {\n",
       "        vertical-align: middle;\n",
       "    }\n",
       "\n",
       "    .dataframe tbody tr th {\n",
       "        vertical-align: top;\n",
       "    }\n",
       "\n",
       "    .dataframe thead th {\n",
       "        text-align: right;\n",
       "    }\n",
       "</style>\n",
       "<table border=\"1\" class=\"dataframe\">\n",
       "  <thead>\n",
       "    <tr style=\"text-align: right;\">\n",
       "      <th></th>\n",
       "      <th>coffee_name</th>\n",
       "      <th>roaster_name</th>\n",
       "      <th>month</th>\n",
       "      <th>year</th>\n",
       "      <th>roast</th>\n",
       "      <th>bean_agtron</th>\n",
       "      <th>ground_agtron</th>\n",
       "      <th>aroma</th>\n",
       "      <th>acidity</th>\n",
       "      <th>body</th>\n",
       "      <th>...</th>\n",
       "      <th>aftertaste</th>\n",
       "      <th>with_milk</th>\n",
       "      <th>roaster_location_lat</th>\n",
       "      <th>roaster_location_lon</th>\n",
       "      <th>origin_lat</th>\n",
       "      <th>origin_lon</th>\n",
       "      <th>p1</th>\n",
       "      <th>p2</th>\n",
       "      <th>p3</th>\n",
       "      <th>overall_score</th>\n",
       "    </tr>\n",
       "  </thead>\n",
       "  <tbody>\n",
       "    <tr>\n",
       "      <th>0</th>\n",
       "      <td>Doi Chaang Wild Civet Coffee</td>\n",
       "      <td>Doi Chaang Coffee</td>\n",
       "      <td>6</td>\n",
       "      <td>2009</td>\n",
       "      <td>2.0</td>\n",
       "      <td>49.0</td>\n",
       "      <td>80.0</td>\n",
       "      <td>8.0</td>\n",
       "      <td>8.0</td>\n",
       "      <td>7.0</td>\n",
       "      <td>...</td>\n",
       "      <td>NaN</td>\n",
       "      <td>NaN</td>\n",
       "      <td>51.046095</td>\n",
       "      <td>-114.065465</td>\n",
       "      <td>14.897192</td>\n",
       "      <td>100.832730</td>\n",
       "      <td>Blind Assessment: Intriguing mid-tones through...</td>\n",
       "      <td>Notes: Doi Chaang is a single-estate coffee pr...</td>\n",
       "      <td>Who Should Drink It: Culinary adventurers who ...</td>\n",
       "      <td>90.0</td>\n",
       "    </tr>\n",
       "    <tr>\n",
       "      <th>1</th>\n",
       "      <td>Kenya AA Lenana</td>\n",
       "      <td>Après Coffee</td>\n",
       "      <td>6</td>\n",
       "      <td>2009</td>\n",
       "      <td>4.0</td>\n",
       "      <td>42.0</td>\n",
       "      <td>53.0</td>\n",
       "      <td>8.0</td>\n",
       "      <td>8.0</td>\n",
       "      <td>7.0</td>\n",
       "      <td>...</td>\n",
       "      <td>NaN</td>\n",
       "      <td>NaN</td>\n",
       "      <td>40.038130</td>\n",
       "      <td>-76.305669</td>\n",
       "      <td>1.441968</td>\n",
       "      <td>38.431398</td>\n",
       "      <td>Blind Assessment: Rich, very intense aroma: da...</td>\n",
       "      <td>Notes: Despite stresses brought on by social u...</td>\n",
       "      <td>Who Should Drink It: Those who prefer understa...</td>\n",
       "      <td>92.0</td>\n",
       "    </tr>\n",
       "    <tr>\n",
       "      <th>2</th>\n",
       "      <td>Mele 100% Kona Coffee</td>\n",
       "      <td>Hula Daddy</td>\n",
       "      <td>6</td>\n",
       "      <td>2009</td>\n",
       "      <td>2.0</td>\n",
       "      <td>51.0</td>\n",
       "      <td>73.0</td>\n",
       "      <td>8.0</td>\n",
       "      <td>8.0</td>\n",
       "      <td>7.0</td>\n",
       "      <td>...</td>\n",
       "      <td>NaN</td>\n",
       "      <td>NaN</td>\n",
       "      <td>19.623815</td>\n",
       "      <td>-155.953638</td>\n",
       "      <td>19.593802</td>\n",
       "      <td>-155.428370</td>\n",
       "      <td>Blind Assessment: An exciting, rather unusual ...</td>\n",
       "      <td>Notes: A blend of coffees processed by a varie...</td>\n",
       "      <td>Who Should Drink It: An exhilarating sensory r...</td>\n",
       "      <td>92.0</td>\n",
       "    </tr>\n",
       "    <tr>\n",
       "      <th>3</th>\n",
       "      <td>Kenya Peaberry Thika Gethumbwini</td>\n",
       "      <td>JBC Coffee Roasters</td>\n",
       "      <td>6</td>\n",
       "      <td>2009</td>\n",
       "      <td>1.0</td>\n",
       "      <td>57.0</td>\n",
       "      <td>90.0</td>\n",
       "      <td>8.0</td>\n",
       "      <td>9.0</td>\n",
       "      <td>8.0</td>\n",
       "      <td>...</td>\n",
       "      <td>NaN</td>\n",
       "      <td>NaN</td>\n",
       "      <td>43.074761</td>\n",
       "      <td>-89.383761</td>\n",
       "      <td>1.441968</td>\n",
       "      <td>38.431398</td>\n",
       "      <td>Blind Assessment: Clean, complex, impeccable. ...</td>\n",
       "      <td>Notes: Despite national coffee leadership mark...</td>\n",
       "      <td>Who Should Drink It: Strikingly complete expre...</td>\n",
       "      <td>96.0</td>\n",
       "    </tr>\n",
       "    <tr>\n",
       "      <th>4</th>\n",
       "      <td>Kenya Gititu Peaberry</td>\n",
       "      <td>Atomic Cafe Coffee Roasters</td>\n",
       "      <td>6</td>\n",
       "      <td>2009</td>\n",
       "      <td>3.0</td>\n",
       "      <td>44.0</td>\n",
       "      <td>63.0</td>\n",
       "      <td>8.0</td>\n",
       "      <td>8.0</td>\n",
       "      <td>8.0</td>\n",
       "      <td>...</td>\n",
       "      <td>NaN</td>\n",
       "      <td>NaN</td>\n",
       "      <td>42.558428</td>\n",
       "      <td>-70.880049</td>\n",
       "      <td>1.441968</td>\n",
       "      <td>38.431398</td>\n",
       "      <td>Blind Assessment: Rich, complex fruit aroma, i...</td>\n",
       "      <td>Notes: Despite stresses brought on by social u...</td>\n",
       "      <td>Who Should Drink It: Lovers of sweet fruit fla...</td>\n",
       "      <td>92.0</td>\n",
       "    </tr>\n",
       "  </tbody>\n",
       "</table>\n",
       "<p>5 rows × 21 columns</p>\n",
       "</div>"
      ],
      "text/plain": [
       "                        coffee_name                 roaster_name  month  year  \\\n",
       "0      Doi Chaang Wild Civet Coffee            Doi Chaang Coffee      6  2009   \n",
       "1                   Kenya AA Lenana                 Après Coffee      6  2009   \n",
       "2             Mele 100% Kona Coffee                   Hula Daddy      6  2009   \n",
       "3  Kenya Peaberry Thika Gethumbwini          JBC Coffee Roasters      6  2009   \n",
       "4             Kenya Gititu Peaberry  Atomic Cafe Coffee Roasters      6  2009   \n",
       "\n",
       "   roast  bean_agtron  ground_agtron  aroma  acidity  body  ...  aftertaste  \\\n",
       "0    2.0         49.0           80.0    8.0      8.0   7.0  ...         NaN   \n",
       "1    4.0         42.0           53.0    8.0      8.0   7.0  ...         NaN   \n",
       "2    2.0         51.0           73.0    8.0      8.0   7.0  ...         NaN   \n",
       "3    1.0         57.0           90.0    8.0      9.0   8.0  ...         NaN   \n",
       "4    3.0         44.0           63.0    8.0      8.0   8.0  ...         NaN   \n",
       "\n",
       "   with_milk  roaster_location_lat  roaster_location_lon  origin_lat  \\\n",
       "0        NaN             51.046095           -114.065465   14.897192   \n",
       "1        NaN             40.038130            -76.305669    1.441968   \n",
       "2        NaN             19.623815           -155.953638   19.593802   \n",
       "3        NaN             43.074761            -89.383761    1.441968   \n",
       "4        NaN             42.558428            -70.880049    1.441968   \n",
       "\n",
       "   origin_lon                                                 p1  \\\n",
       "0  100.832730  Blind Assessment: Intriguing mid-tones through...   \n",
       "1   38.431398  Blind Assessment: Rich, very intense aroma: da...   \n",
       "2 -155.428370  Blind Assessment: An exciting, rather unusual ...   \n",
       "3   38.431398  Blind Assessment: Clean, complex, impeccable. ...   \n",
       "4   38.431398  Blind Assessment: Rich, complex fruit aroma, i...   \n",
       "\n",
       "                                                  p2  \\\n",
       "0  Notes: Doi Chaang is a single-estate coffee pr...   \n",
       "1  Notes: Despite stresses brought on by social u...   \n",
       "2  Notes: A blend of coffees processed by a varie...   \n",
       "3  Notes: Despite national coffee leadership mark...   \n",
       "4  Notes: Despite stresses brought on by social u...   \n",
       "\n",
       "                                                  p3 overall_score  \n",
       "0  Who Should Drink It: Culinary adventurers who ...          90.0  \n",
       "1  Who Should Drink It: Those who prefer understa...          92.0  \n",
       "2  Who Should Drink It: An exhilarating sensory r...          92.0  \n",
       "3  Who Should Drink It: Strikingly complete expre...          96.0  \n",
       "4  Who Should Drink It: Lovers of sweet fruit fla...          92.0  \n",
       "\n",
       "[5 rows x 21 columns]"
      ]
     },
     "execution_count": 10,
     "metadata": {},
     "output_type": "execute_result"
    }
   ],
   "source": [
    "#checking order update\n",
    "df_2.head()"
   ]
  },
  {
   "cell_type": "code",
   "execution_count": 11,
   "id": "0a627b1e",
   "metadata": {},
   "outputs": [
    {
     "data": {
      "text/plain": [
       "(4779, 21)"
      ]
     },
     "execution_count": 11,
     "metadata": {},
     "output_type": "execute_result"
    }
   ],
   "source": [
    "df_1.shape"
   ]
  },
  {
   "cell_type": "markdown",
   "id": "d0be5cf7",
   "metadata": {},
   "source": [
    "df_1 has 4,779 rows and 21 columns"
   ]
  },
  {
   "cell_type": "code",
   "execution_count": 12,
   "id": "291a175b",
   "metadata": {},
   "outputs": [
    {
     "data": {
      "text/plain": [
       "(1788, 21)"
      ]
     },
     "execution_count": 12,
     "metadata": {},
     "output_type": "execute_result"
    }
   ],
   "source": [
    "df_2.shape"
   ]
  },
  {
   "cell_type": "markdown",
   "id": "4b2bf3d3",
   "metadata": {},
   "source": [
    "df_2 has 1,788 rows and 21 columns"
   ]
  },
  {
   "cell_type": "code",
   "execution_count": 13,
   "id": "ba21f9f2",
   "metadata": {},
   "outputs": [],
   "source": [
    "#combining dataframes\n",
    "coffee = pd.concat([df_1, df_2], axis=0)"
   ]
  },
  {
   "cell_type": "markdown",
   "id": "9d1720df",
   "metadata": {},
   "source": [
    "## EDA and Further Cleaning\n",
    "\n",
    "Exploratory data analysis for combined dataframe `coffee`:"
   ]
  },
  {
   "cell_type": "code",
   "execution_count": 14,
   "id": "0d38bca0",
   "metadata": {},
   "outputs": [
    {
     "data": {
      "text/plain": [
       "(6567, 21)"
      ]
     },
     "execution_count": 14,
     "metadata": {},
     "output_type": "execute_result"
    }
   ],
   "source": [
    "#checking new dataframe shape\n",
    "coffee.shape"
   ]
  },
  {
   "cell_type": "markdown",
   "id": "cc707360",
   "metadata": {},
   "source": [
    "Full dataframe has 6,567 rows and 21 columns"
   ]
  },
  {
   "cell_type": "markdown",
   "id": "52cfce8e",
   "metadata": {},
   "source": [
    "### Updating datatypes"
   ]
  },
  {
   "cell_type": "code",
   "execution_count": 15,
   "id": "00e90260",
   "metadata": {},
   "outputs": [],
   "source": [
    "#updating to integers\n",
    "coffee['roast'] = coffee['roast'].astype('Int8')"
   ]
  },
  {
   "cell_type": "code",
   "execution_count": 16,
   "id": "39008801",
   "metadata": {},
   "outputs": [],
   "source": [
    "#updating datatypes to integers\n",
    "coffee['bean_agtron'] = coffee['bean_agtron'].astype('Int8')\n",
    "\n",
    "coffee['ground_agtron'] = coffee['ground_agtron'].astype('Int8')\n",
    "\n",
    "coffee['aroma'] = coffee['aroma'].astype('Int8')\n",
    "\n",
    "coffee['acidity'] = coffee['acidity'].astype('Int8')\n",
    "\n",
    "coffee['body'] = coffee['body'].astype('Int8')\n",
    "\n",
    "coffee['flavor'] = coffee['flavor'].astype('Int8')\n",
    "\n",
    "coffee['aftertaste'] = coffee['aftertaste'].astype('Int8')\n",
    "\n",
    "coffee['with_milk'] = coffee['with_milk'].astype('Int8')\n",
    "\n",
    "coffee['overall_score'] = coffee['overall_score'].astype('Int8')"
   ]
  },
  {
   "cell_type": "code",
   "execution_count": 17,
   "id": "f92c870f",
   "metadata": {},
   "outputs": [
    {
     "name": "stdout",
     "output_type": "stream",
     "text": [
      "<class 'pandas.core.frame.DataFrame'>\n",
      "Int64Index: 6567 entries, 0 to 1787\n",
      "Data columns (total 21 columns):\n",
      " #   Column                Non-Null Count  Dtype  \n",
      "---  ------                --------------  -----  \n",
      " 0   coffee_name           6567 non-null   object \n",
      " 1   roaster_name          6567 non-null   object \n",
      " 2   month                 6567 non-null   int64  \n",
      " 3   year                  6567 non-null   int64  \n",
      " 4   roast                 6215 non-null   Int8   \n",
      " 5   bean_agtron           6291 non-null   Int8   \n",
      " 6   ground_agtron         6297 non-null   Int8   \n",
      " 7   aroma                 6528 non-null   Int8   \n",
      " 8   acidity               5501 non-null   Int8   \n",
      " 9   body                  6512 non-null   Int8   \n",
      " 10  flavor                5546 non-null   Int8   \n",
      " 11  aftertaste            4781 non-null   Int8   \n",
      " 12  with_milk             775 non-null    Int8   \n",
      " 13  roaster_location_lat  6495 non-null   float64\n",
      " 14  roaster_location_lon  6495 non-null   float64\n",
      " 15  origin_lat            5978 non-null   float64\n",
      " 16  origin_lon            5978 non-null   float64\n",
      " 17  p1                    6567 non-null   object \n",
      " 18  p2                    6567 non-null   object \n",
      " 19  p3                    6561 non-null   object \n",
      " 20  overall_score         6563 non-null   Int8   \n",
      "dtypes: Int8(10), float64(4), int64(2), object(5)\n",
      "memory usage: 743.9+ KB\n"
     ]
    }
   ],
   "source": [
    "coffee.info()"
   ]
  },
  {
   "cell_type": "code",
   "execution_count": 18,
   "id": "a5da094d",
   "metadata": {},
   "outputs": [
    {
     "data": {
      "text/html": [
       "<div>\n",
       "<style scoped>\n",
       "    .dataframe tbody tr th:only-of-type {\n",
       "        vertical-align: middle;\n",
       "    }\n",
       "\n",
       "    .dataframe tbody tr th {\n",
       "        vertical-align: top;\n",
       "    }\n",
       "\n",
       "    .dataframe thead th {\n",
       "        text-align: right;\n",
       "    }\n",
       "</style>\n",
       "<table border=\"1\" class=\"dataframe\">\n",
       "  <thead>\n",
       "    <tr style=\"text-align: right;\">\n",
       "      <th></th>\n",
       "      <th>coffee_name</th>\n",
       "      <th>roaster_name</th>\n",
       "      <th>month</th>\n",
       "      <th>year</th>\n",
       "      <th>roast</th>\n",
       "      <th>bean_agtron</th>\n",
       "      <th>ground_agtron</th>\n",
       "      <th>aroma</th>\n",
       "      <th>acidity</th>\n",
       "      <th>body</th>\n",
       "      <th>...</th>\n",
       "      <th>aftertaste</th>\n",
       "      <th>with_milk</th>\n",
       "      <th>roaster_location_lat</th>\n",
       "      <th>roaster_location_lon</th>\n",
       "      <th>origin_lat</th>\n",
       "      <th>origin_lon</th>\n",
       "      <th>p1</th>\n",
       "      <th>p2</th>\n",
       "      <th>p3</th>\n",
       "      <th>overall_score</th>\n",
       "    </tr>\n",
       "  </thead>\n",
       "  <tbody>\n",
       "    <tr>\n",
       "      <th>0</th>\n",
       "      <td>Colombia Cerro Azul Enano</td>\n",
       "      <td>Equator Coffees</td>\n",
       "      <td>10</td>\n",
       "      <td>2022</td>\n",
       "      <td>2</td>\n",
       "      <td>60</td>\n",
       "      <td>77</td>\n",
       "      <td>9</td>\n",
       "      <td>9</td>\n",
       "      <td>9</td>\n",
       "      <td>...</td>\n",
       "      <td>8</td>\n",
       "      <td>&lt;NA&gt;</td>\n",
       "      <td>37.973535</td>\n",
       "      <td>-122.531087</td>\n",
       "      <td>4.099917</td>\n",
       "      <td>-72.908813</td>\n",
       "      <td>Blind Assessment: Elegantly fruit- and cocoa-t...</td>\n",
       "      <td>Notes: Produced at Finca Cerro Azul (also owne...</td>\n",
       "      <td>The Bottom Line:  This rare Enano (dwarf Geish...</td>\n",
       "      <td>94</td>\n",
       "    </tr>\n",
       "    <tr>\n",
       "      <th>1</th>\n",
       "      <td>Peru Incahuasi</td>\n",
       "      <td>Press Coffee</td>\n",
       "      <td>10</td>\n",
       "      <td>2022</td>\n",
       "      <td>2</td>\n",
       "      <td>58</td>\n",
       "      <td>78</td>\n",
       "      <td>9</td>\n",
       "      <td>9</td>\n",
       "      <td>9</td>\n",
       "      <td>...</td>\n",
       "      <td>8</td>\n",
       "      <td>&lt;NA&gt;</td>\n",
       "      <td>33.448437</td>\n",
       "      <td>-112.074141</td>\n",
       "      <td>-6.869970</td>\n",
       "      <td>-75.045851</td>\n",
       "      <td>Blind Assessment: Gently fruit-toned, integrat...</td>\n",
       "      <td>Notes: Produced at Incahuasi Farm from trees o...</td>\n",
       "      <td>The Bottom Line: Laden with tropical fruit not...</td>\n",
       "      <td>94</td>\n",
       "    </tr>\n",
       "    <tr>\n",
       "      <th>2</th>\n",
       "      <td>Colombia Aponte’s Guardians</td>\n",
       "      <td>Press Coffee</td>\n",
       "      <td>10</td>\n",
       "      <td>2022</td>\n",
       "      <td>2</td>\n",
       "      <td>59</td>\n",
       "      <td>77</td>\n",
       "      <td>9</td>\n",
       "      <td>9</td>\n",
       "      <td>8</td>\n",
       "      <td>...</td>\n",
       "      <td>8</td>\n",
       "      <td>&lt;NA&gt;</td>\n",
       "      <td>33.448437</td>\n",
       "      <td>-112.074141</td>\n",
       "      <td>4.099917</td>\n",
       "      <td>-72.908813</td>\n",
       "      <td>Blind Assessment: Richly sweet, spice-toned. L...</td>\n",
       "      <td>Notes: Produced at Aponte Farm from an undiscl...</td>\n",
       "      <td>The Bottom Line: A balanced, inviting washed C...</td>\n",
       "      <td>93</td>\n",
       "    </tr>\n",
       "    <tr>\n",
       "      <th>3</th>\n",
       "      <td>Nicaragua Flor de Dalia Natural</td>\n",
       "      <td>Equator Coffees</td>\n",
       "      <td>10</td>\n",
       "      <td>2022</td>\n",
       "      <td>2</td>\n",
       "      <td>62</td>\n",
       "      <td>78</td>\n",
       "      <td>8</td>\n",
       "      <td>8</td>\n",
       "      <td>9</td>\n",
       "      <td>...</td>\n",
       "      <td>8</td>\n",
       "      <td>&lt;NA&gt;</td>\n",
       "      <td>37.973535</td>\n",
       "      <td>-122.531087</td>\n",
       "      <td>12.609016</td>\n",
       "      <td>-85.293691</td>\n",
       "      <td>Blind Assessment: Gently fruit-forward, sweetl...</td>\n",
       "      <td>Notes: Produced by smallholding members of the...</td>\n",
       "      <td>The Bottom Line: A refreshing, very sweet natu...</td>\n",
       "      <td>92</td>\n",
       "    </tr>\n",
       "    <tr>\n",
       "      <th>4</th>\n",
       "      <td>Ethiopia Bench Maji Geisha G1 Natural</td>\n",
       "      <td>Taster's Coffee</td>\n",
       "      <td>10</td>\n",
       "      <td>2022</td>\n",
       "      <td>1</td>\n",
       "      <td>65</td>\n",
       "      <td>81</td>\n",
       "      <td>9</td>\n",
       "      <td>9</td>\n",
       "      <td>8</td>\n",
       "      <td>...</td>\n",
       "      <td>8</td>\n",
       "      <td>&lt;NA&gt;</td>\n",
       "      <td>25.072134</td>\n",
       "      <td>121.679919</td>\n",
       "      <td>10.211670</td>\n",
       "      <td>38.652120</td>\n",
       "      <td>Blind Assessment: Gently sweet-tart, floral-to...</td>\n",
       "      <td>Notes: Produced from trees of the admired bota...</td>\n",
       "      <td>The Bottom Line: A quietly confident natural-p...</td>\n",
       "      <td>93</td>\n",
       "    </tr>\n",
       "  </tbody>\n",
       "</table>\n",
       "<p>5 rows × 21 columns</p>\n",
       "</div>"
      ],
      "text/plain": [
       "                             coffee_name     roaster_name  month  year  roast  \\\n",
       "0              Colombia Cerro Azul Enano  Equator Coffees     10  2022      2   \n",
       "1                         Peru Incahuasi     Press Coffee     10  2022      2   \n",
       "2            Colombia Aponte’s Guardians     Press Coffee     10  2022      2   \n",
       "3        Nicaragua Flor de Dalia Natural  Equator Coffees     10  2022      2   \n",
       "4  Ethiopia Bench Maji Geisha G1 Natural  Taster's Coffee     10  2022      1   \n",
       "\n",
       "   bean_agtron  ground_agtron  aroma  acidity  body  ...  aftertaste  \\\n",
       "0           60             77      9        9     9  ...           8   \n",
       "1           58             78      9        9     9  ...           8   \n",
       "2           59             77      9        9     8  ...           8   \n",
       "3           62             78      8        8     9  ...           8   \n",
       "4           65             81      9        9     8  ...           8   \n",
       "\n",
       "   with_milk  roaster_location_lat  roaster_location_lon  origin_lat  \\\n",
       "0       <NA>             37.973535           -122.531087    4.099917   \n",
       "1       <NA>             33.448437           -112.074141   -6.869970   \n",
       "2       <NA>             33.448437           -112.074141    4.099917   \n",
       "3       <NA>             37.973535           -122.531087   12.609016   \n",
       "4       <NA>             25.072134            121.679919   10.211670   \n",
       "\n",
       "   origin_lon                                                 p1  \\\n",
       "0  -72.908813  Blind Assessment: Elegantly fruit- and cocoa-t...   \n",
       "1  -75.045851  Blind Assessment: Gently fruit-toned, integrat...   \n",
       "2  -72.908813  Blind Assessment: Richly sweet, spice-toned. L...   \n",
       "3  -85.293691  Blind Assessment: Gently fruit-forward, sweetl...   \n",
       "4   38.652120  Blind Assessment: Gently sweet-tart, floral-to...   \n",
       "\n",
       "                                                  p2  \\\n",
       "0  Notes: Produced at Finca Cerro Azul (also owne...   \n",
       "1  Notes: Produced at Incahuasi Farm from trees o...   \n",
       "2  Notes: Produced at Aponte Farm from an undiscl...   \n",
       "3  Notes: Produced by smallholding members of the...   \n",
       "4  Notes: Produced from trees of the admired bota...   \n",
       "\n",
       "                                                  p3 overall_score  \n",
       "0  The Bottom Line:  This rare Enano (dwarf Geish...            94  \n",
       "1  The Bottom Line: Laden with tropical fruit not...            94  \n",
       "2  The Bottom Line: A balanced, inviting washed C...            93  \n",
       "3  The Bottom Line: A refreshing, very sweet natu...            92  \n",
       "4  The Bottom Line: A quietly confident natural-p...            93  \n",
       "\n",
       "[5 rows x 21 columns]"
      ]
     },
     "execution_count": 18,
     "metadata": {},
     "output_type": "execute_result"
    }
   ],
   "source": [
    "#previewing data\n",
    "coffee.head()"
   ]
  },
  {
   "cell_type": "code",
   "execution_count": 19,
   "id": "1a0af9b6",
   "metadata": {
    "scrolled": true
   },
   "outputs": [
    {
     "data": {
      "text/html": [
       "<div>\n",
       "<style scoped>\n",
       "    .dataframe tbody tr th:only-of-type {\n",
       "        vertical-align: middle;\n",
       "    }\n",
       "\n",
       "    .dataframe tbody tr th {\n",
       "        vertical-align: top;\n",
       "    }\n",
       "\n",
       "    .dataframe thead th {\n",
       "        text-align: right;\n",
       "    }\n",
       "</style>\n",
       "<table border=\"1\" class=\"dataframe\">\n",
       "  <thead>\n",
       "    <tr style=\"text-align: right;\">\n",
       "      <th></th>\n",
       "      <th>coffee_name</th>\n",
       "      <th>roaster_name</th>\n",
       "      <th>month</th>\n",
       "      <th>year</th>\n",
       "      <th>roast</th>\n",
       "      <th>bean_agtron</th>\n",
       "      <th>ground_agtron</th>\n",
       "      <th>aroma</th>\n",
       "      <th>acidity</th>\n",
       "      <th>body</th>\n",
       "      <th>...</th>\n",
       "      <th>aftertaste</th>\n",
       "      <th>with_milk</th>\n",
       "      <th>roaster_location_lat</th>\n",
       "      <th>roaster_location_lon</th>\n",
       "      <th>origin_lat</th>\n",
       "      <th>origin_lon</th>\n",
       "      <th>p1</th>\n",
       "      <th>p2</th>\n",
       "      <th>p3</th>\n",
       "      <th>overall_score</th>\n",
       "    </tr>\n",
       "  </thead>\n",
       "  <tbody>\n",
       "    <tr>\n",
       "      <th>1783</th>\n",
       "      <td>Ethiopia Sidamo</td>\n",
       "      <td>Caravali Coffee</td>\n",
       "      <td>3</td>\n",
       "      <td>1997</td>\n",
       "      <td>5</td>\n",
       "      <td>36</td>\n",
       "      <td>39</td>\n",
       "      <td>6</td>\n",
       "      <td>5</td>\n",
       "      <td>6</td>\n",
       "      <td>...</td>\n",
       "      <td>&lt;NA&gt;</td>\n",
       "      <td>&lt;NA&gt;</td>\n",
       "      <td>47.382690</td>\n",
       "      <td>-122.227027</td>\n",
       "      <td>44.933143</td>\n",
       "      <td>7.540121</td>\n",
       "      <td>Blind Assessment: Pungent, chocolate notes enl...</td>\n",
       "      <td>Notes: Pungent, chocolate notes enliven the ar...</td>\n",
       "      <td>Who Should Drink It: People who fondly remembe...</td>\n",
       "      <td>74</td>\n",
       "    </tr>\n",
       "    <tr>\n",
       "      <th>1784</th>\n",
       "      <td>Bridgetown Blend</td>\n",
       "      <td>Bridgetown Coffee</td>\n",
       "      <td>2</td>\n",
       "      <td>1997</td>\n",
       "      <td>4</td>\n",
       "      <td>47</td>\n",
       "      <td>52</td>\n",
       "      <td>8</td>\n",
       "      <td>6</td>\n",
       "      <td>6</td>\n",
       "      <td>...</td>\n",
       "      <td>&lt;NA&gt;</td>\n",
       "      <td>&lt;NA&gt;</td>\n",
       "      <td>45.520247</td>\n",
       "      <td>-122.674194</td>\n",
       "      <td>44.933143</td>\n",
       "      <td>7.540121</td>\n",
       "      <td>Blind Assessment: An intense coffee, particula...</td>\n",
       "      <td>Notes: Intense coffee where carbon tones domin...</td>\n",
       "      <td>Who Should Drink It: People who like everythin...</td>\n",
       "      <td>77</td>\n",
       "    </tr>\n",
       "    <tr>\n",
       "      <th>1785</th>\n",
       "      <td>Breakfast Blend</td>\n",
       "      <td>Green Mountain Coffee</td>\n",
       "      <td>2</td>\n",
       "      <td>1997</td>\n",
       "      <td>3</td>\n",
       "      <td>56</td>\n",
       "      <td>65</td>\n",
       "      <td>7</td>\n",
       "      <td>8</td>\n",
       "      <td>7</td>\n",
       "      <td>...</td>\n",
       "      <td>&lt;NA&gt;</td>\n",
       "      <td>&lt;NA&gt;</td>\n",
       "      <td>44.337125</td>\n",
       "      <td>-72.755497</td>\n",
       "      <td>44.933143</td>\n",
       "      <td>7.540121</td>\n",
       "      <td>Blind Assessment: An exquisitely balanced trad...</td>\n",
       "      <td>Notes: An exquisitely balanced traditional Ame...</td>\n",
       "      <td>Who Should Drink It: Traditionalists who are a...</td>\n",
       "      <td>90</td>\n",
       "    </tr>\n",
       "    <tr>\n",
       "      <th>1786</th>\n",
       "      <td>Seattle’s Best Blend</td>\n",
       "      <td>Seattle's Best Coffee</td>\n",
       "      <td>2</td>\n",
       "      <td>1997</td>\n",
       "      <td>4</td>\n",
       "      <td>47</td>\n",
       "      <td>52</td>\n",
       "      <td>7</td>\n",
       "      <td>6</td>\n",
       "      <td>8</td>\n",
       "      <td>...</td>\n",
       "      <td>&lt;NA&gt;</td>\n",
       "      <td>&lt;NA&gt;</td>\n",
       "      <td>47.603832</td>\n",
       "      <td>-122.330062</td>\n",
       "      <td>-2.483383</td>\n",
       "      <td>117.890285</td>\n",
       "      <td>Blind Assessment: This coffee gets better as i...</td>\n",
       "      <td>Notes: Coffee with a heavy body that get bette...</td>\n",
       "      <td>Who Should Drink It: Classicists who brew with...</td>\n",
       "      <td>88</td>\n",
       "    </tr>\n",
       "    <tr>\n",
       "      <th>1787</th>\n",
       "      <td>Colombian Blend</td>\n",
       "      <td>Thanksgiving Coffee</td>\n",
       "      <td>2</td>\n",
       "      <td>1997</td>\n",
       "      <td>4</td>\n",
       "      <td>45</td>\n",
       "      <td>49</td>\n",
       "      <td>7</td>\n",
       "      <td>4</td>\n",
       "      <td>5</td>\n",
       "      <td>...</td>\n",
       "      <td>&lt;NA&gt;</td>\n",
       "      <td>&lt;NA&gt;</td>\n",
       "      <td>39.445723</td>\n",
       "      <td>-123.805294</td>\n",
       "      <td>4.099917</td>\n",
       "      <td>-72.908813</td>\n",
       "      <td>Blind Assessment: This coffee is so complex at...</td>\n",
       "      <td>Notes: A coffee so complex at the top that it ...</td>\n",
       "      <td>Who Should Drink It: Romantics. Should do well...</td>\n",
       "      <td>85</td>\n",
       "    </tr>\n",
       "  </tbody>\n",
       "</table>\n",
       "<p>5 rows × 21 columns</p>\n",
       "</div>"
      ],
      "text/plain": [
       "               coffee_name           roaster_name  month  year  roast  \\\n",
       "1783       Ethiopia Sidamo        Caravali Coffee      3  1997      5   \n",
       "1784      Bridgetown Blend      Bridgetown Coffee      2  1997      4   \n",
       "1785       Breakfast Blend  Green Mountain Coffee      2  1997      3   \n",
       "1786  Seattle’s Best Blend  Seattle's Best Coffee      2  1997      4   \n",
       "1787       Colombian Blend    Thanksgiving Coffee      2  1997      4   \n",
       "\n",
       "      bean_agtron  ground_agtron  aroma  acidity  body  ...  aftertaste  \\\n",
       "1783           36             39      6        5     6  ...        <NA>   \n",
       "1784           47             52      8        6     6  ...        <NA>   \n",
       "1785           56             65      7        8     7  ...        <NA>   \n",
       "1786           47             52      7        6     8  ...        <NA>   \n",
       "1787           45             49      7        4     5  ...        <NA>   \n",
       "\n",
       "      with_milk  roaster_location_lat  roaster_location_lon  origin_lat  \\\n",
       "1783       <NA>             47.382690           -122.227027   44.933143   \n",
       "1784       <NA>             45.520247           -122.674194   44.933143   \n",
       "1785       <NA>             44.337125            -72.755497   44.933143   \n",
       "1786       <NA>             47.603832           -122.330062   -2.483383   \n",
       "1787       <NA>             39.445723           -123.805294    4.099917   \n",
       "\n",
       "      origin_lon                                                 p1  \\\n",
       "1783    7.540121  Blind Assessment: Pungent, chocolate notes enl...   \n",
       "1784    7.540121  Blind Assessment: An intense coffee, particula...   \n",
       "1785    7.540121  Blind Assessment: An exquisitely balanced trad...   \n",
       "1786  117.890285  Blind Assessment: This coffee gets better as i...   \n",
       "1787  -72.908813  Blind Assessment: This coffee is so complex at...   \n",
       "\n",
       "                                                     p2  \\\n",
       "1783  Notes: Pungent, chocolate notes enliven the ar...   \n",
       "1784  Notes: Intense coffee where carbon tones domin...   \n",
       "1785  Notes: An exquisitely balanced traditional Ame...   \n",
       "1786  Notes: Coffee with a heavy body that get bette...   \n",
       "1787  Notes: A coffee so complex at the top that it ...   \n",
       "\n",
       "                                                     p3 overall_score  \n",
       "1783  Who Should Drink It: People who fondly remembe...            74  \n",
       "1784  Who Should Drink It: People who like everythin...            77  \n",
       "1785  Who Should Drink It: Traditionalists who are a...            90  \n",
       "1786  Who Should Drink It: Classicists who brew with...            88  \n",
       "1787  Who Should Drink It: Romantics. Should do well...            85  \n",
       "\n",
       "[5 rows x 21 columns]"
      ]
     },
     "execution_count": 19,
     "metadata": {},
     "output_type": "execute_result"
    }
   ],
   "source": [
    "coffee.tail()"
   ]
  },
  {
   "cell_type": "markdown",
   "id": "611d4801",
   "metadata": {},
   "source": [
    "### Updating column names to be shorter"
   ]
  },
  {
   "cell_type": "code",
   "execution_count": 20,
   "id": "2b5c0310",
   "metadata": {},
   "outputs": [],
   "source": [
    "#shortening roaster lat and lon names\n",
    "coffee.rename(columns = {'roaster_location_lat':'roaster_lat'}, inplace = True)\n",
    "coffee.rename(columns = {'roaster_location_lon':'roaster_lon'}, inplace = True)"
   ]
  },
  {
   "cell_type": "markdown",
   "id": "c536b2ae",
   "metadata": {},
   "source": [
    "### Investigating null values:"
   ]
  },
  {
   "cell_type": "code",
   "execution_count": 21,
   "id": "6eae77d1",
   "metadata": {
    "scrolled": true
   },
   "outputs": [
    {
     "data": {
      "text/plain": [
       "coffee_name         0\n",
       "roaster_name        0\n",
       "month               0\n",
       "year                0\n",
       "roast             352\n",
       "bean_agtron       276\n",
       "ground_agtron     270\n",
       "aroma              39\n",
       "acidity          1066\n",
       "body               55\n",
       "flavor           1021\n",
       "aftertaste       1786\n",
       "with_milk        5792\n",
       "roaster_lat        72\n",
       "roaster_lon        72\n",
       "origin_lat        589\n",
       "origin_lon        589\n",
       "p1                  0\n",
       "p2                  0\n",
       "p3                  6\n",
       "overall_score       4\n",
       "dtype: int64"
      ]
     },
     "execution_count": 21,
     "metadata": {},
     "output_type": "execute_result"
    }
   ],
   "source": [
    "coffee.isna().sum()"
   ]
  },
  {
   "cell_type": "code",
   "execution_count": 22,
   "id": "30e1441b",
   "metadata": {},
   "outputs": [
    {
     "data": {
      "text/plain": [
       "11989"
      ]
     },
     "execution_count": 22,
     "metadata": {},
     "output_type": "execute_result"
    }
   ],
   "source": [
    "coffee.isna().sum().sum()"
   ]
  },
  {
   "cell_type": "markdown",
   "id": "d8938602",
   "metadata": {},
   "source": [
    "There are a number of null values that will need to be addressed, particularly around score related data, and lat and lon values. \n",
    "\n",
    "**Addressing Missing `Overall_Score`**\n",
    "\n",
    "There are also a few missing their `overall_score` value, we'll start with those."
   ]
  },
  {
   "cell_type": "code",
   "execution_count": 23,
   "id": "5d4ca6c2",
   "metadata": {},
   "outputs": [
    {
     "data": {
      "text/html": [
       "<div>\n",
       "<style scoped>\n",
       "    .dataframe tbody tr th:only-of-type {\n",
       "        vertical-align: middle;\n",
       "    }\n",
       "\n",
       "    .dataframe tbody tr th {\n",
       "        vertical-align: top;\n",
       "    }\n",
       "\n",
       "    .dataframe thead th {\n",
       "        text-align: right;\n",
       "    }\n",
       "</style>\n",
       "<table border=\"1\" class=\"dataframe\">\n",
       "  <thead>\n",
       "    <tr style=\"text-align: right;\">\n",
       "      <th></th>\n",
       "      <th>coffee_name</th>\n",
       "      <th>roaster_name</th>\n",
       "      <th>month</th>\n",
       "      <th>year</th>\n",
       "      <th>roast</th>\n",
       "      <th>bean_agtron</th>\n",
       "      <th>ground_agtron</th>\n",
       "      <th>aroma</th>\n",
       "      <th>acidity</th>\n",
       "      <th>body</th>\n",
       "      <th>...</th>\n",
       "      <th>aftertaste</th>\n",
       "      <th>with_milk</th>\n",
       "      <th>roaster_lat</th>\n",
       "      <th>roaster_lon</th>\n",
       "      <th>origin_lat</th>\n",
       "      <th>origin_lon</th>\n",
       "      <th>p1</th>\n",
       "      <th>p2</th>\n",
       "      <th>p3</th>\n",
       "      <th>overall_score</th>\n",
       "    </tr>\n",
       "  </thead>\n",
       "  <tbody>\n",
       "    <tr>\n",
       "      <th>1593</th>\n",
       "      <td>Vienna Roast</td>\n",
       "      <td>Alpen Sierra Coffee Roasters</td>\n",
       "      <td>10</td>\n",
       "      <td>1998</td>\n",
       "      <td>4</td>\n",
       "      <td>38</td>\n",
       "      <td>44</td>\n",
       "      <td>7</td>\n",
       "      <td>6</td>\n",
       "      <td>5</td>\n",
       "      <td>...</td>\n",
       "      <td>&lt;NA&gt;</td>\n",
       "      <td>&lt;NA&gt;</td>\n",
       "      <td>39.088540</td>\n",
       "      <td>-120.050353</td>\n",
       "      <td>44.933143</td>\n",
       "      <td>7.540121</td>\n",
       "      <td>Blind Assessment: Some cups of the sample are ...</td>\n",
       "      <td>Notes: Not rated due to a taste fault in some ...</td>\n",
       "      <td>Who Should Drink It: The best-seller factor:I'...</td>\n",
       "      <td>&lt;NA&gt;</td>\n",
       "    </tr>\n",
       "    <tr>\n",
       "      <th>1594</th>\n",
       "      <td>Brazil Fazenda Vista Alegre</td>\n",
       "      <td>City Bean Coffee</td>\n",
       "      <td>10</td>\n",
       "      <td>1998</td>\n",
       "      <td>4</td>\n",
       "      <td>45</td>\n",
       "      <td>53</td>\n",
       "      <td>6</td>\n",
       "      <td>5</td>\n",
       "      <td>6</td>\n",
       "      <td>...</td>\n",
       "      <td>&lt;NA&gt;</td>\n",
       "      <td>&lt;NA&gt;</td>\n",
       "      <td>34.092301</td>\n",
       "      <td>-118.369289</td>\n",
       "      <td>44.933143</td>\n",
       "      <td>7.540121</td>\n",
       "      <td>Blind Assessment: Some cups display a muted bu...</td>\n",
       "      <td>Notes: Not rated due to a taste defect in some...</td>\n",
       "      <td>Who Should Drink It: The best-seller factor:I ...</td>\n",
       "      <td>&lt;NA&gt;</td>\n",
       "    </tr>\n",
       "    <tr>\n",
       "      <th>1597</th>\n",
       "      <td>Elm City House Blend</td>\n",
       "      <td>Elm City Roasters</td>\n",
       "      <td>10</td>\n",
       "      <td>1998</td>\n",
       "      <td>5</td>\n",
       "      <td>38</td>\n",
       "      <td>43</td>\n",
       "      <td>6</td>\n",
       "      <td>5</td>\n",
       "      <td>7</td>\n",
       "      <td>...</td>\n",
       "      <td>&lt;NA&gt;</td>\n",
       "      <td>&lt;NA&gt;</td>\n",
       "      <td>41.308214</td>\n",
       "      <td>-72.925052</td>\n",
       "      <td>44.933143</td>\n",
       "      <td>7.540121</td>\n",
       "      <td>Blind Assessment: About half the cups of this ...</td>\n",
       "      <td>Notes: Not rated due to a taste defect called ...</td>\n",
       "      <td>Who Should Drink It: The best-seller factor:I ...</td>\n",
       "      <td>&lt;NA&gt;</td>\n",
       "    </tr>\n",
       "    <tr>\n",
       "      <th>1651</th>\n",
       "      <td>Natural Moka – Green</td>\n",
       "      <td>Kaanapali Estate Coffee</td>\n",
       "      <td>4</td>\n",
       "      <td>1998</td>\n",
       "      <td>&lt;NA&gt;</td>\n",
       "      <td>&lt;NA&gt;</td>\n",
       "      <td>&lt;NA&gt;</td>\n",
       "      <td>&lt;NA&gt;</td>\n",
       "      <td>&lt;NA&gt;</td>\n",
       "      <td>&lt;NA&gt;</td>\n",
       "      <td>...</td>\n",
       "      <td>&lt;NA&gt;</td>\n",
       "      <td>&lt;NA&gt;</td>\n",
       "      <td>20.802957</td>\n",
       "      <td>-156.310683</td>\n",
       "      <td>44.933143</td>\n",
       "      <td>7.540121</td>\n",
       "      <td>Blind Assessment: To say this coffee has an at...</td>\n",
       "      <td>Notes: This coffee was not rated due to the pa...</td>\n",
       "      <td>This review originally appeared in the April, ...</td>\n",
       "      <td>&lt;NA&gt;</td>\n",
       "    </tr>\n",
       "  </tbody>\n",
       "</table>\n",
       "<p>4 rows × 21 columns</p>\n",
       "</div>"
      ],
      "text/plain": [
       "                      coffee_name                  roaster_name  month  year  \\\n",
       "1593                 Vienna Roast  Alpen Sierra Coffee Roasters     10  1998   \n",
       "1594  Brazil Fazenda Vista Alegre              City Bean Coffee     10  1998   \n",
       "1597         Elm City House Blend             Elm City Roasters     10  1998   \n",
       "1651         Natural Moka – Green       Kaanapali Estate Coffee      4  1998   \n",
       "\n",
       "      roast  bean_agtron  ground_agtron  aroma  acidity  body  ...  \\\n",
       "1593      4           38             44      7        6     5  ...   \n",
       "1594      4           45             53      6        5     6  ...   \n",
       "1597      5           38             43      6        5     7  ...   \n",
       "1651   <NA>         <NA>           <NA>   <NA>     <NA>  <NA>  ...   \n",
       "\n",
       "      aftertaste  with_milk  roaster_lat  roaster_lon  origin_lat  origin_lon  \\\n",
       "1593        <NA>       <NA>    39.088540  -120.050353   44.933143    7.540121   \n",
       "1594        <NA>       <NA>    34.092301  -118.369289   44.933143    7.540121   \n",
       "1597        <NA>       <NA>    41.308214   -72.925052   44.933143    7.540121   \n",
       "1651        <NA>       <NA>    20.802957  -156.310683   44.933143    7.540121   \n",
       "\n",
       "                                                     p1  \\\n",
       "1593  Blind Assessment: Some cups of the sample are ...   \n",
       "1594  Blind Assessment: Some cups display a muted bu...   \n",
       "1597  Blind Assessment: About half the cups of this ...   \n",
       "1651  Blind Assessment: To say this coffee has an at...   \n",
       "\n",
       "                                                     p2  \\\n",
       "1593  Notes: Not rated due to a taste fault in some ...   \n",
       "1594  Notes: Not rated due to a taste defect in some...   \n",
       "1597  Notes: Not rated due to a taste defect called ...   \n",
       "1651  Notes: This coffee was not rated due to the pa...   \n",
       "\n",
       "                                                     p3 overall_score  \n",
       "1593  Who Should Drink It: The best-seller factor:I'...          <NA>  \n",
       "1594  Who Should Drink It: The best-seller factor:I ...          <NA>  \n",
       "1597  Who Should Drink It: The best-seller factor:I ...          <NA>  \n",
       "1651  This review originally appeared in the April, ...          <NA>  \n",
       "\n",
       "[4 rows x 21 columns]"
      ]
     },
     "execution_count": 23,
     "metadata": {},
     "output_type": "execute_result"
    }
   ],
   "source": [
    "overall_boolean = pd.isnull(coffee[\"overall_score\"])\n",
    "coffee[overall_boolean]"
   ]
  },
  {
   "cell_type": "markdown",
   "id": "fc46bd6d",
   "metadata": {},
   "source": [
    "Investigated these four; they were unrated. Given `overall_score` is the target variable, and only 4 are missing their score, droppiing these four rows. However, we'll save this as a dataframe for later reference just in case."
   ]
  },
  {
   "cell_type": "code",
   "execution_count": 24,
   "id": "cbc00fe6",
   "metadata": {},
   "outputs": [],
   "source": [
    "#saving these 4 as their own df before dropping the rows missing their rating\n",
    "overall_boolean_df = coffee[overall_boolean]"
   ]
  },
  {
   "cell_type": "code",
   "execution_count": 25,
   "id": "37b34383",
   "metadata": {},
   "outputs": [],
   "source": [
    "#drop rows missing value in overall_score column \n",
    "coffee.dropna(subset = ['overall_score'], inplace=True)"
   ]
  },
  {
   "cell_type": "code",
   "execution_count": 26,
   "id": "40a9f12d",
   "metadata": {},
   "outputs": [
    {
     "data": {
      "text/plain": [
       "coffee_name         0\n",
       "roaster_name        0\n",
       "month               0\n",
       "year                0\n",
       "roast             351\n",
       "bean_agtron       275\n",
       "ground_agtron     269\n",
       "aroma              38\n",
       "acidity          1065\n",
       "body               54\n",
       "flavor           1020\n",
       "aftertaste       1782\n",
       "with_milk        5788\n",
       "roaster_lat        72\n",
       "roaster_lon        72\n",
       "origin_lat        589\n",
       "origin_lon        589\n",
       "p1                  0\n",
       "p2                  0\n",
       "p3                  6\n",
       "overall_score       0\n",
       "dtype: int64"
      ]
     },
     "execution_count": 26,
     "metadata": {},
     "output_type": "execute_result"
    }
   ],
   "source": [
    "#checking drop accuracy\n",
    "coffee.isna().sum()"
   ]
  },
  {
   "cell_type": "markdown",
   "id": "230c3c69",
   "metadata": {},
   "source": [
    "**Addressing Missing `with_milk`** \n",
    "\n",
    "Next, we'll move on to the column missing the most values `with_milk`. `with_milk` refers to the coffee score when served with milk. Given 1) the proportion of these missing (5788/6563) and 2) the number of other scores we have available, we'll drop this column."
   ]
  },
  {
   "cell_type": "code",
   "execution_count": 27,
   "id": "40f74d5a",
   "metadata": {},
   "outputs": [],
   "source": [
    "#dropping \"with_milk\" column\n",
    "coffee.drop('with_milk', axis=1, inplace=True)"
   ]
  },
  {
   "cell_type": "markdown",
   "id": "129f1e9e",
   "metadata": {},
   "source": [
    "**Addressing Missing `roast`, `bean_agtron`, `ground_agtron`**\n",
    "\n",
    "`Roast`, `bean_agtron` and `ground_agtron` are all related, as agtron is a numerical range indicating roast level. In this data, `roast` turned text such as `Light` to `Dark` to numerical values 1 through 6.\n",
    "\n",
    "The bean_agtron and roast_agtron values typically differ slightly as roast is measured both for the bean and once ground. The mean of these is used to then determine roast level. Learn more about the score at [CoffeeReview](https://www.coffeereview.com/roast-definitions/).\n",
    "\n",
    "To start, we'll see if we can impute values where `bean_agtron` and `ground_agtron` are missing by checking the roast values."
   ]
  },
  {
   "cell_type": "code",
   "execution_count": 28,
   "id": "50a1eb93",
   "metadata": {},
   "outputs": [
    {
     "data": {
      "text/plain": [
       "coffee_name         0\n",
       "roaster_name        0\n",
       "month               0\n",
       "year                0\n",
       "roast             351\n",
       "bean_agtron       275\n",
       "ground_agtron     269\n",
       "aroma              38\n",
       "acidity          1065\n",
       "body               54\n",
       "flavor           1020\n",
       "aftertaste       1782\n",
       "roaster_lat        72\n",
       "roaster_lon        72\n",
       "origin_lat        589\n",
       "origin_lon        589\n",
       "p1                  0\n",
       "p2                  0\n",
       "p3                  6\n",
       "overall_score       0\n",
       "dtype: int64"
      ]
     },
     "execution_count": 28,
     "metadata": {},
     "output_type": "execute_result"
    }
   ],
   "source": [
    "#checking missing values\n",
    "coffee.isna().sum()"
   ]
  },
  {
   "cell_type": "code",
   "execution_count": 29,
   "id": "864c1010",
   "metadata": {
    "scrolled": true
   },
   "outputs": [
    {
     "data": {
      "text/plain": [
       "count    27.000000\n",
       "mean      1.592593\n",
       "std       1.009922\n",
       "min       1.000000\n",
       "25%       1.000000\n",
       "50%       1.000000\n",
       "75%       2.000000\n",
       "max       5.000000\n",
       "Name: roast, dtype: float64"
      ]
     },
     "execution_count": 29,
     "metadata": {},
     "output_type": "execute_result"
    }
   ],
   "source": [
    "#can we get better info to impute by comparing these columns?\n",
    "coffee.loc[coffee['bean_agtron'].isna(),'roast'].describe()"
   ]
  },
  {
   "cell_type": "markdown",
   "id": "f27990d8",
   "metadata": {},
   "source": [
    "It does look like there are some instances where we have the `roast` value but not `bean_agtron`. Updating below using judgment call using coffee review roast guide."
   ]
  },
  {
   "cell_type": "code",
   "execution_count": 30,
   "id": "29571183",
   "metadata": {},
   "outputs": [],
   "source": [
    "#imputing 75 for bean agtron anywhere roast is 1 \n",
    "coffee.loc[coffee['bean_agtron'].isna() & (coffee['roast'] == 1),'bean_agtron'] = 75"
   ]
  },
  {
   "cell_type": "code",
   "execution_count": 31,
   "id": "c8d2313f",
   "metadata": {},
   "outputs": [],
   "source": [
    "#imputing 65 for bean agtron anywhere roast is 2\n",
    "coffee.loc[coffee['bean_agtron'].isna() & (coffee['roast'] == 2),'bean_agtron'] = 65"
   ]
  },
  {
   "cell_type": "code",
   "execution_count": 32,
   "id": "b81d0ffd",
   "metadata": {},
   "outputs": [],
   "source": [
    "#imputing 55 for bean agtron anywhere roast is 3\n",
    "coffee.loc[coffee['bean_agtron'].isna() & (coffee['roast'] == 3),'bean_agtron'] = 55"
   ]
  },
  {
   "cell_type": "code",
   "execution_count": 33,
   "id": "db2832d6",
   "metadata": {},
   "outputs": [],
   "source": [
    "#imputing 35 for bean agtron anywhere roast is 5\n",
    "coffee.loc[coffee['bean_agtron'].isna() & (coffee['roast'] == 5),'bean_agtron'] = 35"
   ]
  },
  {
   "cell_type": "code",
   "execution_count": 34,
   "id": "9cd669b4",
   "metadata": {},
   "outputs": [
    {
     "data": {
      "text/plain": [
       "count    21.000000\n",
       "mean      1.476190\n",
       "std       1.209093\n",
       "min       1.000000\n",
       "25%       1.000000\n",
       "50%       1.000000\n",
       "75%       1.000000\n",
       "max       5.000000\n",
       "Name: roast, dtype: float64"
      ]
     },
     "execution_count": 34,
     "metadata": {},
     "output_type": "execute_result"
    }
   ],
   "source": [
    "#can we get better info to impute by comparing these columns?\n",
    "coffee.loc[coffee['ground_agtron'].isna(),'roast'].describe()"
   ]
  },
  {
   "cell_type": "code",
   "execution_count": 35,
   "id": "e9bf5053",
   "metadata": {},
   "outputs": [],
   "source": [
    "#imputing 75 for bean agtron anywhere roast is 1 \n",
    "coffee.loc[coffee['ground_agtron'].isna() & (coffee['roast'] == 1),'ground_agtron'] = 75"
   ]
  },
  {
   "cell_type": "code",
   "execution_count": 36,
   "id": "270669da",
   "metadata": {},
   "outputs": [],
   "source": [
    "#imputing 45 for bean agtron anywhere roast is 4\n",
    "coffee.loc[coffee['ground_agtron'].isna() & (coffee['roast'] == 4),'ground_agtron'] = 45"
   ]
  },
  {
   "cell_type": "code",
   "execution_count": 37,
   "id": "e3363fb6",
   "metadata": {},
   "outputs": [],
   "source": [
    "#imputing 35 for bean agtron anywhere roast is 5\n",
    "coffee.loc[coffee['ground_agtron'].isna() & (coffee['roast'] == 5),'ground_agtron'] = 35"
   ]
  },
  {
   "cell_type": "code",
   "execution_count": 38,
   "id": "3ef390de",
   "metadata": {},
   "outputs": [
    {
     "data": {
      "text/plain": [
       "count       0\n",
       "mean     <NA>\n",
       "std      <NA>\n",
       "min      <NA>\n",
       "25%      <NA>\n",
       "50%      <NA>\n",
       "75%      <NA>\n",
       "max      <NA>\n",
       "Name: bean_agtron, dtype: object"
      ]
     },
     "execution_count": 38,
     "metadata": {},
     "output_type": "execute_result"
    }
   ],
   "source": [
    "#are bean and ground agtron missing in the same spots?\n",
    "coffee.loc[coffee['ground_agtron'].isna(),'bean_agtron'].describe()"
   ]
  },
  {
   "cell_type": "code",
   "execution_count": 39,
   "id": "d1df941a",
   "metadata": {},
   "outputs": [
    {
     "data": {
      "text/plain": [
       "count       0\n",
       "mean     <NA>\n",
       "std      <NA>\n",
       "min      <NA>\n",
       "25%      <NA>\n",
       "50%      <NA>\n",
       "75%      <NA>\n",
       "max      <NA>\n",
       "Name: ground_agtron, dtype: object"
      ]
     },
     "execution_count": 39,
     "metadata": {},
     "output_type": "execute_result"
    }
   ],
   "source": [
    "#are bean and ground agtron missing in the same spots?\n",
    "coffee.loc[coffee['bean_agtron'].isna(),'ground_agtron'].describe()"
   ]
  },
  {
   "cell_type": "markdown",
   "id": "3d1ccdca",
   "metadata": {},
   "source": [
    "`bean_agtron` and `ground_agtron` are missing values in the same spots."
   ]
  },
  {
   "cell_type": "code",
   "execution_count": 40,
   "id": "30cc669d",
   "metadata": {
    "scrolled": true
   },
   "outputs": [
    {
     "data": {
      "text/plain": [
       "count    6315.000000\n",
       "mean       66.339351\n",
       "std        15.902328\n",
       "min         0.000000\n",
       "25%        58.000000\n",
       "50%        71.000000\n",
       "75%        77.000000\n",
       "max       105.000000\n",
       "Name: ground_agtron, dtype: float64"
      ]
     },
     "execution_count": 40,
     "metadata": {},
     "output_type": "execute_result"
    }
   ],
   "source": [
    "#digging further into bean_agtron\n",
    "coffee['ground_agtron'].describe()"
   ]
  },
  {
   "cell_type": "markdown",
   "id": "04df2d7d",
   "metadata": {},
   "source": [
    "Found an odd min for `bean_agtron`. Dug through earlier notebooks and website to see if there might be broader issues with how data was compiled. This appears to be from a website typo."
   ]
  },
  {
   "cell_type": "code",
   "execution_count": 41,
   "id": "b0e3dac4",
   "metadata": {},
   "outputs": [
    {
     "data": {
      "text/html": [
       "<div>\n",
       "<style scoped>\n",
       "    .dataframe tbody tr th:only-of-type {\n",
       "        vertical-align: middle;\n",
       "    }\n",
       "\n",
       "    .dataframe tbody tr th {\n",
       "        vertical-align: top;\n",
       "    }\n",
       "\n",
       "    .dataframe thead th {\n",
       "        text-align: right;\n",
       "    }\n",
       "</style>\n",
       "<table border=\"1\" class=\"dataframe\">\n",
       "  <thead>\n",
       "    <tr style=\"text-align: right;\">\n",
       "      <th></th>\n",
       "      <th>coffee_name</th>\n",
       "      <th>roaster_name</th>\n",
       "      <th>month</th>\n",
       "      <th>year</th>\n",
       "      <th>roast</th>\n",
       "      <th>bean_agtron</th>\n",
       "      <th>ground_agtron</th>\n",
       "      <th>aroma</th>\n",
       "      <th>acidity</th>\n",
       "      <th>body</th>\n",
       "      <th>flavor</th>\n",
       "      <th>aftertaste</th>\n",
       "      <th>roaster_lat</th>\n",
       "      <th>roaster_lon</th>\n",
       "      <th>origin_lat</th>\n",
       "      <th>origin_lon</th>\n",
       "      <th>p1</th>\n",
       "      <th>p2</th>\n",
       "      <th>p3</th>\n",
       "      <th>overall_score</th>\n",
       "    </tr>\n",
       "  </thead>\n",
       "  <tbody>\n",
       "    <tr>\n",
       "      <th>894</th>\n",
       "      <td>Look for the Helpers</td>\n",
       "      <td>Tony's Coffee</td>\n",
       "      <td>3</td>\n",
       "      <td>2021</td>\n",
       "      <td>1</td>\n",
       "      <td>-124</td>\n",
       "      <td>70</td>\n",
       "      <td>8</td>\n",
       "      <td>8</td>\n",
       "      <td>9</td>\n",
       "      <td>8</td>\n",
       "      <td>8</td>\n",
       "      <td>48.754401</td>\n",
       "      <td>-122.478836</td>\n",
       "      <td>10.21167</td>\n",
       "      <td>38.65212</td>\n",
       "      <td>Blind Assessment: Crisply chocolaty, rich-tone...</td>\n",
       "      <td>Notes: This coffee earned the fourth-highest r...</td>\n",
       "      <td>The Bottom Line: 100% of the profits from the ...</td>\n",
       "      <td>91</td>\n",
       "    </tr>\n",
       "  </tbody>\n",
       "</table>\n",
       "</div>"
      ],
      "text/plain": [
       "              coffee_name   roaster_name  month  year  roast  bean_agtron  \\\n",
       "894  Look for the Helpers  Tony's Coffee      3  2021      1         -124   \n",
       "\n",
       "     ground_agtron  aroma  acidity  body  flavor  aftertaste  roaster_lat  \\\n",
       "894             70      8        8     9       8           8    48.754401   \n",
       "\n",
       "     roaster_lon  origin_lat  origin_lon  \\\n",
       "894  -122.478836    10.21167    38.65212   \n",
       "\n",
       "                                                    p1  \\\n",
       "894  Blind Assessment: Crisply chocolaty, rich-tone...   \n",
       "\n",
       "                                                    p2  \\\n",
       "894  Notes: This coffee earned the fourth-highest r...   \n",
       "\n",
       "                                                    p3  overall_score  \n",
       "894  The Bottom Line: 100% of the profits from the ...             91  "
      ]
     },
     "execution_count": 41,
     "metadata": {},
     "output_type": "execute_result"
    }
   ],
   "source": [
    "coffee.loc[coffee['bean_agtron'] == -124]"
   ]
  },
  {
   "cell_type": "code",
   "execution_count": 42,
   "id": "503b04e0",
   "metadata": {},
   "outputs": [],
   "source": [
    "#replacing this value with the correct score\n",
    "coffee['bean_agtron'].replace(-124, 52, inplace=True)"
   ]
  },
  {
   "cell_type": "code",
   "execution_count": 43,
   "id": "7420318b",
   "metadata": {},
   "outputs": [
    {
     "data": {
      "text/html": [
       "<div>\n",
       "<style scoped>\n",
       "    .dataframe tbody tr th:only-of-type {\n",
       "        vertical-align: middle;\n",
       "    }\n",
       "\n",
       "    .dataframe tbody tr th {\n",
       "        vertical-align: top;\n",
       "    }\n",
       "\n",
       "    .dataframe thead th {\n",
       "        text-align: right;\n",
       "    }\n",
       "</style>\n",
       "<table border=\"1\" class=\"dataframe\">\n",
       "  <thead>\n",
       "    <tr style=\"text-align: right;\">\n",
       "      <th></th>\n",
       "      <th>coffee_name</th>\n",
       "      <th>roaster_name</th>\n",
       "      <th>month</th>\n",
       "      <th>year</th>\n",
       "      <th>roast</th>\n",
       "      <th>bean_agtron</th>\n",
       "      <th>ground_agtron</th>\n",
       "      <th>aroma</th>\n",
       "      <th>acidity</th>\n",
       "      <th>body</th>\n",
       "      <th>flavor</th>\n",
       "      <th>aftertaste</th>\n",
       "      <th>roaster_lat</th>\n",
       "      <th>roaster_lon</th>\n",
       "      <th>origin_lat</th>\n",
       "      <th>origin_lon</th>\n",
       "      <th>p1</th>\n",
       "      <th>p2</th>\n",
       "      <th>p3</th>\n",
       "      <th>overall_score</th>\n",
       "    </tr>\n",
       "  </thead>\n",
       "  <tbody>\n",
       "    <tr>\n",
       "      <th>894</th>\n",
       "      <td>Look for the Helpers</td>\n",
       "      <td>Tony's Coffee</td>\n",
       "      <td>3</td>\n",
       "      <td>2021</td>\n",
       "      <td>1</td>\n",
       "      <td>52</td>\n",
       "      <td>70</td>\n",
       "      <td>8</td>\n",
       "      <td>8</td>\n",
       "      <td>9</td>\n",
       "      <td>8</td>\n",
       "      <td>8</td>\n",
       "      <td>48.754401</td>\n",
       "      <td>-122.478836</td>\n",
       "      <td>10.21167</td>\n",
       "      <td>38.65212</td>\n",
       "      <td>Blind Assessment: Crisply chocolaty, rich-tone...</td>\n",
       "      <td>Notes: This coffee earned the fourth-highest r...</td>\n",
       "      <td>The Bottom Line: 100% of the profits from the ...</td>\n",
       "      <td>91</td>\n",
       "    </tr>\n",
       "  </tbody>\n",
       "</table>\n",
       "</div>"
      ],
      "text/plain": [
       "              coffee_name   roaster_name  month  year  roast  bean_agtron  \\\n",
       "894  Look for the Helpers  Tony's Coffee      3  2021      1           52   \n",
       "\n",
       "     ground_agtron  aroma  acidity  body  flavor  aftertaste  roaster_lat  \\\n",
       "894             70      8        8     9       8           8    48.754401   \n",
       "\n",
       "     roaster_lon  origin_lat  origin_lon  \\\n",
       "894  -122.478836    10.21167    38.65212   \n",
       "\n",
       "                                                    p1  \\\n",
       "894  Blind Assessment: Crisply chocolaty, rich-tone...   \n",
       "\n",
       "                                                    p2  \\\n",
       "894  Notes: This coffee earned the fourth-highest r...   \n",
       "\n",
       "                                                    p3  overall_score  \n",
       "894  The Bottom Line: 100% of the profits from the ...             91  "
      ]
     },
     "execution_count": 43,
     "metadata": {},
     "output_type": "execute_result"
    }
   ],
   "source": [
    "#checking updated correctly\n",
    "coffee.loc[coffee['coffee_name'] == 'Look for the Helpers']"
   ]
  },
  {
   "cell_type": "code",
   "execution_count": 44,
   "id": "ba0e4829",
   "metadata": {},
   "outputs": [
    {
     "data": {
      "text/plain": [
       "count    6315.000000\n",
       "mean       49.401267\n",
       "std        14.406642\n",
       "min         0.000000\n",
       "25%        46.000000\n",
       "50%        53.000000\n",
       "75%        58.000000\n",
       "max        86.000000\n",
       "Name: bean_agtron, dtype: float64"
      ]
     },
     "execution_count": 44,
     "metadata": {},
     "output_type": "execute_result"
    }
   ],
   "source": [
    "#rechecking out distribution of bean_agtron\n",
    "coffee['bean_agtron'].describe()"
   ]
  },
  {
   "cell_type": "markdown",
   "id": "9fcf6234",
   "metadata": {},
   "source": [
    "Based on agtron meaning, zero seems like an odd value to have for so many (essentially would be completely burnt). Checking if we have zero for both `bean_agtron` and `ground_agtron` in same places."
   ]
  },
  {
   "cell_type": "code",
   "execution_count": 45,
   "id": "09237e27",
   "metadata": {},
   "outputs": [
    {
     "data": {
      "text/plain": [
       "346"
      ]
     },
     "execution_count": 45,
     "metadata": {},
     "output_type": "execute_result"
    }
   ],
   "source": [
    "(coffee['bean_agtron'] == 0).sum()"
   ]
  },
  {
   "cell_type": "code",
   "execution_count": 46,
   "id": "873f3765",
   "metadata": {},
   "outputs": [
    {
     "data": {
      "text/plain": [
       "112"
      ]
     },
     "execution_count": 46,
     "metadata": {},
     "output_type": "execute_result"
    }
   ],
   "source": [
    "(coffee['ground_agtron'] == 0).sum()"
   ]
  },
  {
   "cell_type": "code",
   "execution_count": 47,
   "id": "7102ddba",
   "metadata": {},
   "outputs": [
    {
     "data": {
      "text/html": [
       "<div>\n",
       "<style scoped>\n",
       "    .dataframe tbody tr th:only-of-type {\n",
       "        vertical-align: middle;\n",
       "    }\n",
       "\n",
       "    .dataframe tbody tr th {\n",
       "        vertical-align: top;\n",
       "    }\n",
       "\n",
       "    .dataframe thead th {\n",
       "        text-align: right;\n",
       "    }\n",
       "</style>\n",
       "<table border=\"1\" class=\"dataframe\">\n",
       "  <thead>\n",
       "    <tr style=\"text-align: right;\">\n",
       "      <th></th>\n",
       "      <th>coffee_name</th>\n",
       "      <th>roaster_name</th>\n",
       "      <th>month</th>\n",
       "      <th>year</th>\n",
       "      <th>roast</th>\n",
       "      <th>bean_agtron</th>\n",
       "      <th>ground_agtron</th>\n",
       "      <th>aroma</th>\n",
       "      <th>acidity</th>\n",
       "      <th>body</th>\n",
       "      <th>flavor</th>\n",
       "      <th>aftertaste</th>\n",
       "      <th>roaster_lat</th>\n",
       "      <th>roaster_lon</th>\n",
       "      <th>origin_lat</th>\n",
       "      <th>origin_lon</th>\n",
       "      <th>p1</th>\n",
       "      <th>p2</th>\n",
       "      <th>p3</th>\n",
       "      <th>overall_score</th>\n",
       "    </tr>\n",
       "  </thead>\n",
       "  <tbody>\n",
       "    <tr>\n",
       "      <th>2157</th>\n",
       "      <td>The Knight Dark Roast</td>\n",
       "      <td>Glory Brew</td>\n",
       "      <td>11</td>\n",
       "      <td>2017</td>\n",
       "      <td>6</td>\n",
       "      <td>0</td>\n",
       "      <td>37</td>\n",
       "      <td>8</td>\n",
       "      <td>7</td>\n",
       "      <td>9</td>\n",
       "      <td>8</td>\n",
       "      <td>7</td>\n",
       "      <td>25.774173</td>\n",
       "      <td>-80.193620</td>\n",
       "      <td>-2.483383</td>\n",
       "      <td>117.890285</td>\n",
       "      <td>Blind Assessment: (As brewed in a Keurig 2.0 K...</td>\n",
       "      <td>Notes: A blend of coffees from Indonesia and C...</td>\n",
       "      <td>The Bottom Line: A solid K-cup blend with a ca...</td>\n",
       "      <td>89</td>\n",
       "    </tr>\n",
       "    <tr>\n",
       "      <th>2595</th>\n",
       "      <td>SFCC House Blend Espresso Capsule</td>\n",
       "      <td>Gourmesso</td>\n",
       "      <td>7</td>\n",
       "      <td>2016</td>\n",
       "      <td>6</td>\n",
       "      <td>0</td>\n",
       "      <td>58</td>\n",
       "      <td>7</td>\n",
       "      <td>&lt;NA&gt;</td>\n",
       "      <td>8</td>\n",
       "      <td>8</td>\n",
       "      <td>7</td>\n",
       "      <td>52.517037</td>\n",
       "      <td>13.388860</td>\n",
       "      <td>-30.292848</td>\n",
       "      <td>153.125616</td>\n",
       "      <td>Blind Assessment: Evaluated as espresso produc...</td>\n",
       "      <td>Notes: This coffee is Fair Trade certified, me...</td>\n",
       "      <td>The Bottom Line: A crisp, gentle espresso with...</td>\n",
       "      <td>87</td>\n",
       "    </tr>\n",
       "    <tr>\n",
       "      <th>2657</th>\n",
       "      <td>O’Rey Espresso Capsules</td>\n",
       "      <td>Lino'spresso</td>\n",
       "      <td>5</td>\n",
       "      <td>2016</td>\n",
       "      <td>6</td>\n",
       "      <td>0</td>\n",
       "      <td>50</td>\n",
       "      <td>8</td>\n",
       "      <td>&lt;NA&gt;</td>\n",
       "      <td>7</td>\n",
       "      <td>7</td>\n",
       "      <td>7</td>\n",
       "      <td>34.053691</td>\n",
       "      <td>-118.242766</td>\n",
       "      <td>21.417531</td>\n",
       "      <td>39.886174</td>\n",
       "      <td>Blind Assessment: Evaluated as espresso. Lean,...</td>\n",
       "      <td>Notes: Lino'spresso produces authentic Italian...</td>\n",
       "      <td>The Bottom Line: A light, lean, accessible cap...</td>\n",
       "      <td>86</td>\n",
       "    </tr>\n",
       "    <tr>\n",
       "      <th>2676</th>\n",
       "      <td>Breakfast Blend (K-Cup)</td>\n",
       "      <td>Green Mountain Coffee</td>\n",
       "      <td>5</td>\n",
       "      <td>2016</td>\n",
       "      <td>6</td>\n",
       "      <td>0</td>\n",
       "      <td>56</td>\n",
       "      <td>8</td>\n",
       "      <td>7</td>\n",
       "      <td>7</td>\n",
       "      <td>8</td>\n",
       "      <td>7</td>\n",
       "      <td>44.337125</td>\n",
       "      <td>-72.755497</td>\n",
       "      <td>NaN</td>\n",
       "      <td>NaN</td>\n",
       "      <td>Blind Assessment: (As brewed in a Keurig 2.0 K...</td>\n",
       "      <td>Notes: Keurig/Green Mountain, formerly Green M...</td>\n",
       "      <td>The Bottom Line: An accessible morning blend t...</td>\n",
       "      <td>87</td>\n",
       "    </tr>\n",
       "    <tr>\n",
       "      <th>2714</th>\n",
       "      <td>Organic Ethiopia Yirgacheffe (K-Cup)</td>\n",
       "      <td>Green Mountain Coffee</td>\n",
       "      <td>3</td>\n",
       "      <td>2016</td>\n",
       "      <td>6</td>\n",
       "      <td>0</td>\n",
       "      <td>48</td>\n",
       "      <td>8</td>\n",
       "      <td>8</td>\n",
       "      <td>8</td>\n",
       "      <td>9</td>\n",
       "      <td>8</td>\n",
       "      <td>44.337125</td>\n",
       "      <td>-72.755497</td>\n",
       "      <td>10.211670</td>\n",
       "      <td>38.652120</td>\n",
       "      <td>Blind Assessment: (As brewed in a Keurig 2.0 K...</td>\n",
       "      <td>Notes: This coffee is certified organically gr...</td>\n",
       "      <td>The Bottom Line: A juicy, zesty-sweet K-cup re...</td>\n",
       "      <td>91</td>\n",
       "    </tr>\n",
       "    <tr>\n",
       "      <th>...</th>\n",
       "      <td>...</td>\n",
       "      <td>...</td>\n",
       "      <td>...</td>\n",
       "      <td>...</td>\n",
       "      <td>...</td>\n",
       "      <td>...</td>\n",
       "      <td>...</td>\n",
       "      <td>...</td>\n",
       "      <td>...</td>\n",
       "      <td>...</td>\n",
       "      <td>...</td>\n",
       "      <td>...</td>\n",
       "      <td>...</td>\n",
       "      <td>...</td>\n",
       "      <td>...</td>\n",
       "      <td>...</td>\n",
       "      <td>...</td>\n",
       "      <td>...</td>\n",
       "      <td>...</td>\n",
       "      <td>...</td>\n",
       "    </tr>\n",
       "    <tr>\n",
       "      <th>1323</th>\n",
       "      <td>Costa Rica Roast</td>\n",
       "      <td>Café Buen Dia</td>\n",
       "      <td>3</td>\n",
       "      <td>2002</td>\n",
       "      <td>6</td>\n",
       "      <td>0</td>\n",
       "      <td>38</td>\n",
       "      <td>5</td>\n",
       "      <td>5</td>\n",
       "      <td>7</td>\n",
       "      <td>5</td>\n",
       "      <td>&lt;NA&gt;</td>\n",
       "      <td>33.703815</td>\n",
       "      <td>-117.962735</td>\n",
       "      <td>44.933143</td>\n",
       "      <td>7.540121</td>\n",
       "      <td>Blind Assessment: Low-key to the point of neut...</td>\n",
       "      <td>Notes: Sold roast and ground in a 12-ounce val...</td>\n",
       "      <td>Who Should Drink It:  I guess those who enjoy ...</td>\n",
       "      <td>77</td>\n",
       "    </tr>\n",
       "    <tr>\n",
       "      <th>1324</th>\n",
       "      <td>Mild Roast</td>\n",
       "      <td>Hills Bros.</td>\n",
       "      <td>3</td>\n",
       "      <td>2002</td>\n",
       "      <td>6</td>\n",
       "      <td>0</td>\n",
       "      <td>67</td>\n",
       "      <td>5</td>\n",
       "      <td>5</td>\n",
       "      <td>6</td>\n",
       "      <td>5</td>\n",
       "      <td>&lt;NA&gt;</td>\n",
       "      <td>NaN</td>\n",
       "      <td>NaN</td>\n",
       "      <td>44.933143</td>\n",
       "      <td>7.540121</td>\n",
       "      <td>Blind Assessment: The aroma is thin, faintly s...</td>\n",
       "      <td>Notes: Sold roasted and ground in an 11.5-ounc...</td>\n",
       "      <td>Who Should Drink It: Those on extreme budgets ...</td>\n",
       "      <td>74</td>\n",
       "    </tr>\n",
       "    <tr>\n",
       "      <th>1325</th>\n",
       "      <td>Dark Roast</td>\n",
       "      <td>Café Bustelo</td>\n",
       "      <td>3</td>\n",
       "      <td>2002</td>\n",
       "      <td>6</td>\n",
       "      <td>0</td>\n",
       "      <td>44</td>\n",
       "      <td>5</td>\n",
       "      <td>1</td>\n",
       "      <td>8</td>\n",
       "      <td>5</td>\n",
       "      <td>&lt;NA&gt;</td>\n",
       "      <td>25.774173</td>\n",
       "      <td>-80.193620</td>\n",
       "      <td>44.933143</td>\n",
       "      <td>7.540121</td>\n",
       "      <td>Blind Assessment: Densely bitter; heavy rather...</td>\n",
       "      <td>Notes: Sold roast and ground in a 10-ounce can...</td>\n",
       "      <td>Who Should Drink It: Try it as Cuban-style esp...</td>\n",
       "      <td>73</td>\n",
       "    </tr>\n",
       "    <tr>\n",
       "      <th>1326</th>\n",
       "      <td>Classic Roast</td>\n",
       "      <td>Folgers</td>\n",
       "      <td>3</td>\n",
       "      <td>2002</td>\n",
       "      <td>6</td>\n",
       "      <td>0</td>\n",
       "      <td>64</td>\n",
       "      <td>6</td>\n",
       "      <td>5</td>\n",
       "      <td>7</td>\n",
       "      <td>5</td>\n",
       "      <td>&lt;NA&gt;</td>\n",
       "      <td>39.102797</td>\n",
       "      <td>-84.506462</td>\n",
       "      <td>44.933143</td>\n",
       "      <td>7.540121</td>\n",
       "      <td>Blind Assessment: Dominated by sweet grainy nu...</td>\n",
       "      <td>Notes: Sold roast and ground in a 13-ounce val...</td>\n",
       "      <td>Who Should Drink It: Another study in the impa...</td>\n",
       "      <td>73</td>\n",
       "    </tr>\n",
       "    <tr>\n",
       "      <th>1327</th>\n",
       "      <td>Master Blend</td>\n",
       "      <td>Maxwell House</td>\n",
       "      <td>3</td>\n",
       "      <td>2002</td>\n",
       "      <td>6</td>\n",
       "      <td>0</td>\n",
       "      <td>63</td>\n",
       "      <td>5</td>\n",
       "      <td>&lt;NA&gt;</td>\n",
       "      <td>7</td>\n",
       "      <td>6</td>\n",
       "      <td>&lt;NA&gt;</td>\n",
       "      <td>NaN</td>\n",
       "      <td>NaN</td>\n",
       "      <td>44.933143</td>\n",
       "      <td>7.540121</td>\n",
       "      <td>Blind Assessment: Cloyingly sweet and sharply ...</td>\n",
       "      <td>Notes: Sold roast and ground in a 11.5-ounce v...</td>\n",
       "      <td>Who Should Drink It: Those curious about the i...</td>\n",
       "      <td>72</td>\n",
       "    </tr>\n",
       "  </tbody>\n",
       "</table>\n",
       "<p>243 rows × 20 columns</p>\n",
       "</div>"
      ],
      "text/plain": [
       "                               coffee_name           roaster_name  month  \\\n",
       "2157                 The Knight Dark Roast             Glory Brew     11   \n",
       "2595     SFCC House Blend Espresso Capsule              Gourmesso      7   \n",
       "2657               O’Rey Espresso Capsules           Lino'spresso      5   \n",
       "2676               Breakfast Blend (K-Cup)  Green Mountain Coffee      5   \n",
       "2714  Organic Ethiopia Yirgacheffe (K-Cup)  Green Mountain Coffee      3   \n",
       "...                                    ...                    ...    ...   \n",
       "1323                      Costa Rica Roast          Café Buen Dia      3   \n",
       "1324                            Mild Roast            Hills Bros.      3   \n",
       "1325                            Dark Roast           Café Bustelo      3   \n",
       "1326                         Classic Roast               Folgers       3   \n",
       "1327                          Master Blend          Maxwell House      3   \n",
       "\n",
       "      year  roast  bean_agtron  ground_agtron  aroma  acidity  body  flavor  \\\n",
       "2157  2017      6            0             37      8        7     9       8   \n",
       "2595  2016      6            0             58      7     <NA>     8       8   \n",
       "2657  2016      6            0             50      8     <NA>     7       7   \n",
       "2676  2016      6            0             56      8        7     7       8   \n",
       "2714  2016      6            0             48      8        8     8       9   \n",
       "...    ...    ...          ...            ...    ...      ...   ...     ...   \n",
       "1323  2002      6            0             38      5        5     7       5   \n",
       "1324  2002      6            0             67      5        5     6       5   \n",
       "1325  2002      6            0             44      5        1     8       5   \n",
       "1326  2002      6            0             64      6        5     7       5   \n",
       "1327  2002      6            0             63      5     <NA>     7       6   \n",
       "\n",
       "      aftertaste  roaster_lat  roaster_lon  origin_lat  origin_lon  \\\n",
       "2157           7    25.774173   -80.193620   -2.483383  117.890285   \n",
       "2595           7    52.517037    13.388860  -30.292848  153.125616   \n",
       "2657           7    34.053691  -118.242766   21.417531   39.886174   \n",
       "2676           7    44.337125   -72.755497         NaN         NaN   \n",
       "2714           8    44.337125   -72.755497   10.211670   38.652120   \n",
       "...          ...          ...          ...         ...         ...   \n",
       "1323        <NA>    33.703815  -117.962735   44.933143    7.540121   \n",
       "1324        <NA>          NaN          NaN   44.933143    7.540121   \n",
       "1325        <NA>    25.774173   -80.193620   44.933143    7.540121   \n",
       "1326        <NA>    39.102797   -84.506462   44.933143    7.540121   \n",
       "1327        <NA>          NaN          NaN   44.933143    7.540121   \n",
       "\n",
       "                                                     p1  \\\n",
       "2157  Blind Assessment: (As brewed in a Keurig 2.0 K...   \n",
       "2595  Blind Assessment: Evaluated as espresso produc...   \n",
       "2657  Blind Assessment: Evaluated as espresso. Lean,...   \n",
       "2676  Blind Assessment: (As brewed in a Keurig 2.0 K...   \n",
       "2714  Blind Assessment: (As brewed in a Keurig 2.0 K...   \n",
       "...                                                 ...   \n",
       "1323  Blind Assessment: Low-key to the point of neut...   \n",
       "1324  Blind Assessment: The aroma is thin, faintly s...   \n",
       "1325  Blind Assessment: Densely bitter; heavy rather...   \n",
       "1326  Blind Assessment: Dominated by sweet grainy nu...   \n",
       "1327  Blind Assessment: Cloyingly sweet and sharply ...   \n",
       "\n",
       "                                                     p2  \\\n",
       "2157  Notes: A blend of coffees from Indonesia and C...   \n",
       "2595  Notes: This coffee is Fair Trade certified, me...   \n",
       "2657  Notes: Lino'spresso produces authentic Italian...   \n",
       "2676  Notes: Keurig/Green Mountain, formerly Green M...   \n",
       "2714  Notes: This coffee is certified organically gr...   \n",
       "...                                                 ...   \n",
       "1323  Notes: Sold roast and ground in a 12-ounce val...   \n",
       "1324  Notes: Sold roasted and ground in an 11.5-ounc...   \n",
       "1325  Notes: Sold roast and ground in a 10-ounce can...   \n",
       "1326  Notes: Sold roast and ground in a 13-ounce val...   \n",
       "1327  Notes: Sold roast and ground in a 11.5-ounce v...   \n",
       "\n",
       "                                                     p3  overall_score  \n",
       "2157  The Bottom Line: A solid K-cup blend with a ca...             89  \n",
       "2595  The Bottom Line: A crisp, gentle espresso with...             87  \n",
       "2657  The Bottom Line: A light, lean, accessible cap...             86  \n",
       "2676  The Bottom Line: An accessible morning blend t...             87  \n",
       "2714  The Bottom Line: A juicy, zesty-sweet K-cup re...             91  \n",
       "...                                                 ...            ...  \n",
       "1323  Who Should Drink It:  I guess those who enjoy ...             77  \n",
       "1324  Who Should Drink It: Those on extreme budgets ...             74  \n",
       "1325  Who Should Drink It: Try it as Cuban-style esp...             73  \n",
       "1326  Who Should Drink It: Another study in the impa...             73  \n",
       "1327  Who Should Drink It: Those curious about the i...             72  \n",
       "\n",
       "[243 rows x 20 columns]"
      ]
     },
     "execution_count": 47,
     "metadata": {},
     "output_type": "execute_result"
    }
   ],
   "source": [
    "#seeing if we can impute bean_agtron using ground_agtron\n",
    "#does appear some of these 0s must be mistakes\n",
    "coffee.loc[(coffee['bean_agtron'] == 0) & (coffee['ground_agtron'] != 0)]"
   ]
  },
  {
   "cell_type": "code",
   "execution_count": 48,
   "id": "8e6dbe8b",
   "metadata": {},
   "outputs": [],
   "source": [
    "imputed_agtron = coffee.loc[(coffee['bean_agtron'] == 0) & (coffee['ground_agtron'] != 0), 'ground_agtron']"
   ]
  },
  {
   "cell_type": "code",
   "execution_count": 49,
   "id": "f33fc7c9",
   "metadata": {},
   "outputs": [
    {
     "data": {
      "text/plain": [
       "346"
      ]
     },
     "execution_count": 49,
     "metadata": {},
     "output_type": "execute_result"
    }
   ],
   "source": [
    "len(coffee.loc[coffee['bean_agtron'] == 0])"
   ]
  },
  {
   "cell_type": "code",
   "execution_count": 50,
   "id": "86872bab",
   "metadata": {},
   "outputs": [
    {
     "data": {
      "text/plain": [
       "2157    37\n",
       "2595    58\n",
       "2657    50\n",
       "2676    56\n",
       "2714    48\n",
       "        ..\n",
       "1323    38\n",
       "1324    67\n",
       "1325    44\n",
       "1326    64\n",
       "1327    63\n",
       "Name: ground_agtron, Length: 243, dtype: Int8"
      ]
     },
     "execution_count": 50,
     "metadata": {},
     "output_type": "execute_result"
    }
   ],
   "source": [
    "imputed_agtron"
   ]
  },
  {
   "cell_type": "code",
   "execution_count": 51,
   "id": "3cdb5d73",
   "metadata": {},
   "outputs": [],
   "source": [
    "#where bean_agtron is zero but ground agtron is not, impute bean_agtron with ground_agtron score\n",
    "coffee.loc[(coffee['bean_agtron'] == 0) & (coffee['ground_agtron'] != 0), 'bean_agtron'] = imputed_agtron"
   ]
  },
  {
   "cell_type": "code",
   "execution_count": 52,
   "id": "c8ec4f0b",
   "metadata": {},
   "outputs": [
    {
     "data": {
      "text/plain": [
       "103"
      ]
     },
     "execution_count": 52,
     "metadata": {},
     "output_type": "execute_result"
    }
   ],
   "source": [
    "#checking values updated where expected\n",
    "(coffee['bean_agtron'] == 0).sum()"
   ]
  },
  {
   "cell_type": "code",
   "execution_count": 53,
   "id": "70d97c61",
   "metadata": {},
   "outputs": [
    {
     "data": {
      "text/plain": [
       "112"
      ]
     },
     "execution_count": 53,
     "metadata": {},
     "output_type": "execute_result"
    }
   ],
   "source": [
    "len(coffee.loc[(coffee['ground_agtron'] == 0)])"
   ]
  },
  {
   "cell_type": "code",
   "execution_count": 54,
   "id": "c4d3a8ae",
   "metadata": {},
   "outputs": [],
   "source": [
    "imputed_agtron_2 = coffee.loc[(coffee['ground_agtron'] == 0) & (coffee['bean_agtron'] != 0), 'bean_agtron']"
   ]
  },
  {
   "cell_type": "code",
   "execution_count": 55,
   "id": "77c2df67",
   "metadata": {},
   "outputs": [
    {
     "data": {
      "text/plain": [
       "9"
      ]
     },
     "execution_count": 55,
     "metadata": {},
     "output_type": "execute_result"
    }
   ],
   "source": [
    "len(imputed_agtron_2)"
   ]
  },
  {
   "cell_type": "code",
   "execution_count": 56,
   "id": "80067fd9",
   "metadata": {},
   "outputs": [],
   "source": [
    "#where ground_agtron is zero but bean agtron is not, impute ground_agtron with bean_agtron score\n",
    "coffee.loc[(coffee['ground_agtron'] == 0) & (coffee['bean_agtron'] != 0), 'ground_agtron'] = imputed_agtron_2"
   ]
  },
  {
   "cell_type": "code",
   "execution_count": 57,
   "id": "f56d1bbb",
   "metadata": {},
   "outputs": [
    {
     "data": {
      "text/plain": [
       "103"
      ]
     },
     "execution_count": 57,
     "metadata": {},
     "output_type": "execute_result"
    }
   ],
   "source": [
    "#verifying updates appear as expected\n",
    "len(coffee.loc[(coffee['ground_agtron'] == 0)])"
   ]
  },
  {
   "cell_type": "markdown",
   "id": "6a6cb8a9",
   "metadata": {},
   "source": [
    "We've now imputed agtron values using related columsn where possible. We still need to address:\n",
    "- Agtron scores of zero\n",
    "- Missing agtron values\n",
    "\n",
    "Addressing agtron scores of zero:"
   ]
  },
  {
   "cell_type": "code",
   "execution_count": 58,
   "id": "2cc1b2f9",
   "metadata": {},
   "outputs": [
    {
     "data": {
      "text/plain": [
       "count    6315.000000\n",
       "mean       51.287411\n",
       "std        10.816049\n",
       "min         0.000000\n",
       "25%        47.000000\n",
       "50%        54.000000\n",
       "75%        58.000000\n",
       "max        91.000000\n",
       "Name: bean_agtron, dtype: float64"
      ]
     },
     "execution_count": 58,
     "metadata": {},
     "output_type": "execute_result"
    }
   ],
   "source": [
    "#checking central values we can use to impute\n",
    "#mean and median aren't too far off, going with median since data seems slightly skewed\n",
    "coffee['bean_agtron'].describe()"
   ]
  },
  {
   "cell_type": "code",
   "execution_count": 59,
   "id": "44c7b46b",
   "metadata": {},
   "outputs": [],
   "source": [
    "#where bean_agtron is zero impute with median\n",
    "coffee.loc[(coffee['bean_agtron'] == 0), 'bean_agtron'] = 54"
   ]
  },
  {
   "cell_type": "code",
   "execution_count": 60,
   "id": "3df13579",
   "metadata": {},
   "outputs": [
    {
     "data": {
      "text/plain": [
       "count    6315.000000\n",
       "mean       66.408234\n",
       "std        15.721128\n",
       "min         0.000000\n",
       "25%        58.000000\n",
       "50%        71.000000\n",
       "75%        77.000000\n",
       "max       105.000000\n",
       "Name: ground_agtron, dtype: float64"
      ]
     },
     "execution_count": 60,
     "metadata": {},
     "output_type": "execute_result"
    }
   ],
   "source": [
    "#addressing ground agtron\n",
    "coffee['ground_agtron'].describe()"
   ]
  },
  {
   "cell_type": "code",
   "execution_count": 61,
   "id": "ff80cbea",
   "metadata": {},
   "outputs": [],
   "source": [
    "#where ground_agtron is zero impute with median\n",
    "coffee.loc[(coffee['ground_agtron'] == 0), 'ground_agtron'] = 71"
   ]
  },
  {
   "cell_type": "code",
   "execution_count": 62,
   "id": "f28975bc",
   "metadata": {},
   "outputs": [],
   "source": [
    "#addressing nan bean_agtron\n",
    "coffee.loc[(coffee['bean_agtron'].isna()), 'bean_agtron'] = 54"
   ]
  },
  {
   "cell_type": "code",
   "execution_count": 63,
   "id": "a1f2ac08",
   "metadata": {},
   "outputs": [],
   "source": [
    "#where bean_agtron is zero impute with median\n",
    "coffee.loc[(coffee['ground_agtron'].isna()), 'ground_agtron'] = 71"
   ]
  },
  {
   "cell_type": "code",
   "execution_count": 64,
   "id": "afe352af",
   "metadata": {},
   "outputs": [
    {
     "data": {
      "text/plain": [
       "coffee_name         0\n",
       "roaster_name        0\n",
       "month               0\n",
       "year                0\n",
       "roast             351\n",
       "bean_agtron         0\n",
       "ground_agtron       0\n",
       "aroma              38\n",
       "acidity          1065\n",
       "body               54\n",
       "flavor           1020\n",
       "aftertaste       1782\n",
       "roaster_lat        72\n",
       "roaster_lon        72\n",
       "origin_lat        589\n",
       "origin_lon        589\n",
       "p1                  0\n",
       "p2                  0\n",
       "p3                  6\n",
       "overall_score       0\n",
       "dtype: int64"
      ]
     },
     "execution_count": 64,
     "metadata": {},
     "output_type": "execute_result"
    }
   ],
   "source": [
    "#verifying no nans left for bean and ground agtron\n",
    "coffee.isna().sum()"
   ]
  },
  {
   "cell_type": "markdown",
   "id": "1cc6bb0c",
   "metadata": {},
   "source": [
    "Because `roast`,`bean_agtron` and `ground_agrton` are measuring similar things but `bean_agtron` and `ground_agrton` add a level of complexity, we'll drop roast for now. "
   ]
  },
  {
   "cell_type": "code",
   "execution_count": 65,
   "id": "778f579a",
   "metadata": {},
   "outputs": [],
   "source": [
    "#dropping \"roast\" column\n",
    "coffee.drop('roast', axis=1, inplace=True)"
   ]
  },
  {
   "cell_type": "markdown",
   "id": "d6fec404",
   "metadata": {},
   "source": [
    "**Addressing missing score values**\n",
    "\n",
    "From initial experience with the data, we suspect the aroma, acidity, body, flavor, and aftertaste scores to be highly correlated and potentially useful for imputing.\n",
    "\n",
    "`Aroma` only has a few missing, so we'll beging with that value."
   ]
  },
  {
   "cell_type": "code",
   "execution_count": 66,
   "id": "a4e55126",
   "metadata": {},
   "outputs": [
    {
     "data": {
      "text/plain": [
       "aroma            1.000000\n",
       "overall_score    0.836090\n",
       "flavor           0.779697\n",
       "acidity          0.718280\n",
       "body             0.615699\n",
       "year             0.613025\n",
       "aftertaste       0.482069\n",
       "ground_agtron    0.425609\n",
       "bean_agtron      0.312716\n",
       "roaster_lon      0.164530\n",
       "month            0.097422\n",
       "origin_lon      -0.011369\n",
       "roaster_lat     -0.051370\n",
       "origin_lat      -0.408554\n",
       "Name: aroma, dtype: float64"
      ]
     },
     "execution_count": 66,
     "metadata": {},
     "output_type": "execute_result"
    }
   ],
   "source": [
    "corr_aroma = coffee.corr()\n",
    "\n",
    "corr_aroma.loc[:,\"aroma\"].sort_values(ascending = False)"
   ]
  },
  {
   "cell_type": "markdown",
   "id": "d011ee4a",
   "metadata": {},
   "source": [
    "`aroma` is highly correlated with `overall_score`, but given that is our target value. Instead we'll use flavor, which it is also highly correlated with."
   ]
  },
  {
   "cell_type": "code",
   "execution_count": 67,
   "id": "f2fb1159",
   "metadata": {},
   "outputs": [
    {
     "data": {
      "text/plain": [
       "count    5543.000000\n",
       "mean        8.548259\n",
       "std         1.012805\n",
       "min         1.000000\n",
       "25%         8.000000\n",
       "50%         9.000000\n",
       "75%         9.000000\n",
       "max        10.000000\n",
       "Name: flavor, dtype: float64"
      ]
     },
     "execution_count": 67,
     "metadata": {},
     "output_type": "execute_result"
    }
   ],
   "source": [
    "#checking out flavor composition\n",
    "coffee['flavor'].describe()"
   ]
  },
  {
   "cell_type": "code",
   "execution_count": 68,
   "id": "e3a884a0",
   "metadata": {},
   "outputs": [
    {
     "data": {
      "text/plain": [
       "0.9952009063705389"
      ]
     },
     "execution_count": 68,
     "metadata": {},
     "output_type": "execute_result"
    }
   ],
   "source": [
    "#calculate the constant of proportionality, we'll use mean given how \n",
    "constant = (coffee['aroma']/coffee['flavor']).mean()\n",
    "constant"
   ]
  },
  {
   "cell_type": "code",
   "execution_count": 69,
   "id": "c5a8ea8a",
   "metadata": {},
   "outputs": [
    {
     "data": {
      "text/plain": [
       "113        9\n",
       "1261       9\n",
       "1262       9\n",
       "1263       9\n",
       "1264       9\n",
       "1265       9\n",
       "1266       9\n",
       "1267       9\n",
       "1268       9\n",
       "1269       9\n",
       "1270       9\n",
       "1271       9\n",
       "1929       9\n",
       "1966       9\n",
       "1967       9\n",
       "1968       9\n",
       "1969       9\n",
       "1970       9\n",
       "1971       9\n",
       "1972       9\n",
       "1973       9\n",
       "1974       9\n",
       "1975       8\n",
       "1976       9\n",
       "2426       9\n",
       "2427       9\n",
       "2429       9\n",
       "3307       9\n",
       "3308       9\n",
       "3309       9\n",
       "3310       9\n",
       "3311       8\n",
       "3312       8\n",
       "3313       8\n",
       "3314       8\n",
       "3479       8\n",
       "1150    <NA>\n",
       "1371       9\n",
       "Name: flavor, dtype: Int8"
      ]
     },
     "execution_count": 69,
     "metadata": {},
     "output_type": "execute_result"
    }
   ],
   "source": [
    "#calcuate aroma values to impute\n",
    "aroma_values = round(constant*coffee.loc[coffee['aroma'].isna(),'flavor']).astype('Int8')\n",
    "aroma_values"
   ]
  },
  {
   "cell_type": "code",
   "execution_count": 70,
   "id": "3e5be50d",
   "metadata": {},
   "outputs": [],
   "source": [
    "#impute values based on correlations\n",
    "coffee.loc[coffee['aroma'].isna(),'aroma'] = aroma_values"
   ]
  },
  {
   "cell_type": "code",
   "execution_count": 71,
   "id": "3d558bfc",
   "metadata": {},
   "outputs": [
    {
     "data": {
      "text/plain": [
       "count    6562.000000\n",
       "mean        8.361475\n",
       "std         0.927207\n",
       "min         2.000000\n",
       "25%         8.000000\n",
       "50%         9.000000\n",
       "75%         9.000000\n",
       "max        10.000000\n",
       "Name: aroma, dtype: float64"
      ]
     },
     "execution_count": 71,
     "metadata": {},
     "output_type": "execute_result"
    }
   ],
   "source": [
    "coffee['aroma'].describe()"
   ]
  },
  {
   "cell_type": "code",
   "execution_count": 72,
   "id": "b61ec2e9",
   "metadata": {},
   "outputs": [],
   "source": [
    "#update last missing nan with rounded aroma mean\n",
    "coffee.loc[coffee['aroma'].isna(),'aroma'] = 8"
   ]
  },
  {
   "cell_type": "markdown",
   "id": "97a1e4b5",
   "metadata": {},
   "source": [
    "Addressing `acidity` missing values:"
   ]
  },
  {
   "cell_type": "code",
   "execution_count": 73,
   "id": "e81b2ae4",
   "metadata": {},
   "outputs": [
    {
     "data": {
      "text/plain": [
       "acidity          1.000000\n",
       "overall_score    0.862590\n",
       "flavor           0.813859\n",
       "aroma            0.717851\n",
       "year             0.660837\n",
       "body             0.653796\n",
       "aftertaste       0.584571\n",
       "ground_agtron    0.509627\n",
       "bean_agtron      0.405224\n",
       "roaster_lon      0.176663\n",
       "month            0.101833\n",
       "origin_lon      -0.031112\n",
       "roaster_lat     -0.046584\n",
       "origin_lat      -0.482881\n",
       "Name: acidity, dtype: float64"
      ]
     },
     "execution_count": 73,
     "metadata": {},
     "output_type": "execute_result"
    }
   ],
   "source": [
    "corr_acidity = coffee.corr()\n",
    "\n",
    "corr_acidity.loc[:,\"acidity\"].sort_values(ascending = False)"
   ]
  },
  {
   "cell_type": "markdown",
   "id": "37b238c4",
   "metadata": {},
   "source": [
    "Again, highly correlated with target `overall_score` but we'll work with `flavor`, also closely correlated."
   ]
  },
  {
   "cell_type": "code",
   "execution_count": 74,
   "id": "0ca25efa",
   "metadata": {},
   "outputs": [],
   "source": [
    "#calculate the constant of proportionality, we'll use mean given how \n",
    "constant = (coffee['acidity']/coffee['flavor']).mean()"
   ]
  },
  {
   "cell_type": "code",
   "execution_count": 75,
   "id": "b65aa185",
   "metadata": {},
   "outputs": [
    {
     "data": {
      "text/plain": [
       "11         8\n",
       "15         8\n",
       "19         8\n",
       "30         8\n",
       "31         8\n",
       "        ... \n",
       "1717       4\n",
       "1718       4\n",
       "1719    <NA>\n",
       "1720       6\n",
       "1721       7\n",
       "Name: flavor, Length: 1065, dtype: Int8"
      ]
     },
     "execution_count": 75,
     "metadata": {},
     "output_type": "execute_result"
    }
   ],
   "source": [
    "#calcuate values to impute\n",
    "acidity_values = round(constant*coffee.loc[coffee['acidity'].isna(),'flavor']).astype('Int8')\n",
    "acidity_values"
   ]
  },
  {
   "cell_type": "code",
   "execution_count": 76,
   "id": "1646d419",
   "metadata": {},
   "outputs": [],
   "source": [
    "#impute values based on correlations\n",
    "coffee.loc[coffee['acidity'].isna(),'acidity'] = acidity_values"
   ]
  },
  {
   "cell_type": "code",
   "execution_count": 77,
   "id": "91724d10",
   "metadata": {},
   "outputs": [
    {
     "data": {
      "text/plain": [
       "count    6542.000000\n",
       "mean        7.904311\n",
       "std         1.024400\n",
       "min         1.000000\n",
       "25%         8.000000\n",
       "50%         8.000000\n",
       "75%         9.000000\n",
       "max        10.000000\n",
       "Name: acidity, dtype: float64"
      ]
     },
     "execution_count": 77,
     "metadata": {},
     "output_type": "execute_result"
    }
   ],
   "source": [
    "coffee['acidity'].describe()"
   ]
  },
  {
   "cell_type": "code",
   "execution_count": 78,
   "id": "ae32d9c8",
   "metadata": {},
   "outputs": [],
   "source": [
    "#update last missing nan with acidity rounded average(happens to be same as the median)\n",
    "coffee.loc[coffee['acidity'].isna(),'acidity'] = 8"
   ]
  },
  {
   "cell_type": "markdown",
   "id": "0a801913",
   "metadata": {},
   "source": [
    "Addressing missing `body` values:"
   ]
  },
  {
   "cell_type": "code",
   "execution_count": 79,
   "id": "431903ed",
   "metadata": {},
   "outputs": [
    {
     "data": {
      "text/plain": [
       "body             1.000000\n",
       "overall_score    0.743217\n",
       "year             0.693208\n",
       "flavor           0.681260\n",
       "acidity          0.633459\n",
       "aroma            0.615373\n",
       "ground_agtron    0.446841\n",
       "aftertaste       0.353036\n",
       "bean_agtron      0.350251\n",
       "roaster_lon      0.183678\n",
       "month            0.079199\n",
       "origin_lon      -0.038704\n",
       "roaster_lat     -0.068673\n",
       "origin_lat      -0.405930\n",
       "Name: body, dtype: float64"
      ]
     },
     "execution_count": 79,
     "metadata": {},
     "output_type": "execute_result"
    }
   ],
   "source": [
    "corr_body = coffee.corr()\n",
    "\n",
    "corr_body.loc[:,\"body\"].sort_values(ascending = False)"
   ]
  },
  {
   "cell_type": "markdown",
   "id": "782da576",
   "metadata": {},
   "source": [
    "Seems odd for it to be highly correlated with year, but could work. Since `flavor` is so close, we'll stick with that."
   ]
  },
  {
   "cell_type": "code",
   "execution_count": 80,
   "id": "c471018e",
   "metadata": {},
   "outputs": [
    {
     "data": {
      "text/plain": [
       "0.9694178128284203"
      ]
     },
     "execution_count": 80,
     "metadata": {},
     "output_type": "execute_result"
    }
   ],
   "source": [
    "#calculate the constant of proportionality, we'll use mean given how \n",
    "constant = (coffee['body']/coffee['flavor']).mean()\n",
    "constant"
   ]
  },
  {
   "cell_type": "code",
   "execution_count": 81,
   "id": "79d73e3d",
   "metadata": {},
   "outputs": [
    {
     "data": {
      "text/plain": [
       "6       <NA>\n",
       "62      <NA>\n",
       "73      <NA>\n",
       "152     <NA>\n",
       "153     <NA>\n",
       "154     <NA>\n",
       "210     <NA>\n",
       "219     <NA>\n",
       "223     <NA>\n",
       "277     <NA>\n",
       "278     <NA>\n",
       "325     <NA>\n",
       "327     <NA>\n",
       "335     <NA>\n",
       "381     <NA>\n",
       "382     <NA>\n",
       "384     <NA>\n",
       "402     <NA>\n",
       "410     <NA>\n",
       "422     <NA>\n",
       "424     <NA>\n",
       "429     <NA>\n",
       "477     <NA>\n",
       "518     <NA>\n",
       "526     <NA>\n",
       "578     <NA>\n",
       "579     <NA>\n",
       "586     <NA>\n",
       "589     <NA>\n",
       "655     <NA>\n",
       "675     <NA>\n",
       "734     <NA>\n",
       "798     <NA>\n",
       "801     <NA>\n",
       "818     <NA>\n",
       "822     <NA>\n",
       "890     <NA>\n",
       "907     <NA>\n",
       "909     <NA>\n",
       "931     <NA>\n",
       "934     <NA>\n",
       "1059    <NA>\n",
       "1070    <NA>\n",
       "1071    <NA>\n",
       "1150    <NA>\n",
       "1269    <NA>\n",
       "1270    <NA>\n",
       "1380    <NA>\n",
       "1494    <NA>\n",
       "1590    <NA>\n",
       "1605    <NA>\n",
       "1614    <NA>\n",
       "1685    <NA>\n",
       "1772    <NA>\n",
       "Name: flavor, dtype: Int8"
      ]
     },
     "execution_count": 81,
     "metadata": {},
     "output_type": "execute_result"
    }
   ],
   "source": [
    "#calcuate values to impute\n",
    "body_values = round(coffee.loc[coffee['body'].isna(),'flavor']).astype('Int8')\n",
    "body_values"
   ]
  },
  {
   "cell_type": "code",
   "execution_count": 82,
   "id": "ad9c2941",
   "metadata": {},
   "outputs": [
    {
     "data": {
      "text/plain": [
       "count       0\n",
       "mean     <NA>\n",
       "std      <NA>\n",
       "min      <NA>\n",
       "25%      <NA>\n",
       "50%      <NA>\n",
       "75%      <NA>\n",
       "max      <NA>\n",
       "Name: flavor, dtype: object"
      ]
     },
     "execution_count": 82,
     "metadata": {},
     "output_type": "execute_result"
    }
   ],
   "source": [
    "#are body and flavor missing in the same spots?\n",
    "coffee.loc[coffee['body'].isna(),'flavor'].describe()"
   ]
  },
  {
   "cell_type": "markdown",
   "id": "6161aa20",
   "metadata": {},
   "source": [
    "Body and flavor are missing in the same spots, let's try a different value to reference:"
   ]
  },
  {
   "cell_type": "code",
   "execution_count": 83,
   "id": "ca60b16a",
   "metadata": {},
   "outputs": [
    {
     "data": {
      "text/plain": [
       "1.0387045897377742"
      ]
     },
     "execution_count": 83,
     "metadata": {},
     "output_type": "execute_result"
    }
   ],
   "source": [
    "#calculate the constant of proportionality, we'll use mean given how \n",
    "constant = (coffee['body']/coffee['acidity']).mean()\n",
    "constant"
   ]
  },
  {
   "cell_type": "code",
   "execution_count": 84,
   "id": "4e1d0a7e",
   "metadata": {},
   "outputs": [
    {
     "data": {
      "text/plain": [
       "6       8\n",
       "62      8\n",
       "73      8\n",
       "152     8\n",
       "153     8\n",
       "154     8\n",
       "210     8\n",
       "219     7\n",
       "223     8\n",
       "277     7\n",
       "278     7\n",
       "325     8\n",
       "327     8\n",
       "335     8\n",
       "381     7\n",
       "382     7\n",
       "384     7\n",
       "402     8\n",
       "410     8\n",
       "422     8\n",
       "424     8\n",
       "429     8\n",
       "477     7\n",
       "518     8\n",
       "526     7\n",
       "578     7\n",
       "579     8\n",
       "586     8\n",
       "589     9\n",
       "655     8\n",
       "675     7\n",
       "734     8\n",
       "798     7\n",
       "801     8\n",
       "818     7\n",
       "822     9\n",
       "890     7\n",
       "907     7\n",
       "909     8\n",
       "931     8\n",
       "934     8\n",
       "1059    6\n",
       "1070    7\n",
       "1071    7\n",
       "1150    8\n",
       "1269    7\n",
       "1270    7\n",
       "1380    7\n",
       "1494    6\n",
       "1590    7\n",
       "1605    7\n",
       "1614    8\n",
       "1685    5\n",
       "1772    8\n",
       "Name: acidity, dtype: Int8"
      ]
     },
     "execution_count": 84,
     "metadata": {},
     "output_type": "execute_result"
    }
   ],
   "source": [
    "#calcuate aroma values to impute\n",
    "body_values = round(coffee.loc[coffee['body'].isna(),'acidity']).astype('Int8')\n",
    "body_values"
   ]
  },
  {
   "cell_type": "code",
   "execution_count": 85,
   "id": "0ad99c12",
   "metadata": {},
   "outputs": [],
   "source": [
    "#impute values based on correlations\n",
    "coffee.loc[coffee['body'].isna(),'body'] = body_values"
   ]
  },
  {
   "cell_type": "code",
   "execution_count": 86,
   "id": "0f4a8809",
   "metadata": {},
   "outputs": [
    {
     "data": {
      "text/plain": [
       "coffee_name         0\n",
       "roaster_name        0\n",
       "month               0\n",
       "year                0\n",
       "bean_agtron         0\n",
       "ground_agtron       0\n",
       "aroma               0\n",
       "acidity             0\n",
       "body                0\n",
       "flavor           1020\n",
       "aftertaste       1782\n",
       "roaster_lat        72\n",
       "roaster_lon        72\n",
       "origin_lat        589\n",
       "origin_lon        589\n",
       "p1                  0\n",
       "p2                  0\n",
       "p3                  6\n",
       "overall_score       0\n",
       "dtype: int64"
      ]
     },
     "execution_count": 86,
     "metadata": {},
     "output_type": "execute_result"
    }
   ],
   "source": [
    "#checking where there are still missing values\n",
    "coffee.isna().sum()"
   ]
  },
  {
   "cell_type": "markdown",
   "id": "399b590e",
   "metadata": {},
   "source": [
    "Addressing `flavor` missing values:"
   ]
  },
  {
   "cell_type": "code",
   "execution_count": 87,
   "id": "5ca3696a",
   "metadata": {},
   "outputs": [
    {
     "data": {
      "text/plain": [
       "flavor           1.000000\n",
       "overall_score    0.920572\n",
       "acidity          0.815014\n",
       "aroma            0.780039\n",
       "body             0.681260\n",
       "year             0.657944\n",
       "aftertaste       0.595812\n",
       "ground_agtron    0.462309\n",
       "bean_agtron      0.351741\n",
       "roaster_lon      0.141835\n",
       "month            0.102250\n",
       "roaster_lat     -0.043239\n",
       "origin_lon      -0.051695\n",
       "origin_lat      -0.549698\n",
       "Name: flavor, dtype: float64"
      ]
     },
     "execution_count": 87,
     "metadata": {},
     "output_type": "execute_result"
    }
   ],
   "source": [
    "corr_flavor = coffee.corr()\n",
    "\n",
    "corr_flavor.loc[:,\"flavor\"].sort_values(ascending = False)"
   ]
  },
  {
   "cell_type": "code",
   "execution_count": 88,
   "id": "b706194b",
   "metadata": {},
   "outputs": [
    {
     "data": {
      "text/plain": [
       "count    1020.000000\n",
       "mean        7.350000\n",
       "std         0.718499\n",
       "min         3.000000\n",
       "25%         7.000000\n",
       "50%         7.000000\n",
       "75%         8.000000\n",
       "max        10.000000\n",
       "Name: acidity, dtype: float64"
      ]
     },
     "execution_count": 88,
     "metadata": {},
     "output_type": "execute_result"
    }
   ],
   "source": [
    "#are these missing in the same spots?\n",
    "coffee.loc[coffee['flavor'].isna(),'acidity'].describe()"
   ]
  },
  {
   "cell_type": "code",
   "execution_count": 89,
   "id": "b3397ff2",
   "metadata": {},
   "outputs": [
    {
     "data": {
      "text/plain": [
       "1.0757197695362946"
      ]
     },
     "execution_count": 89,
     "metadata": {},
     "output_type": "execute_result"
    }
   ],
   "source": [
    "#calculate the constant of proportionality, we'll use mean given how \n",
    "constant = (coffee['flavor']/coffee['acidity']).mean()\n",
    "constant"
   ]
  },
  {
   "cell_type": "code",
   "execution_count": 90,
   "id": "d190ec49",
   "metadata": {},
   "outputs": [
    {
     "data": {
      "text/plain": [
       "0       8\n",
       "1       8\n",
       "2       8\n",
       "3       9\n",
       "4       8\n",
       "       ..\n",
       "1772    8\n",
       "1780    6\n",
       "1781    7\n",
       "1786    6\n",
       "1787    4\n",
       "Name: acidity, Length: 1020, dtype: Int8"
      ]
     },
     "execution_count": 90,
     "metadata": {},
     "output_type": "execute_result"
    }
   ],
   "source": [
    "#calcuate aroma values to impute\n",
    "flavor_values = round(coffee.loc[coffee['flavor'].isna(),'acidity']).astype('Int8')\n",
    "flavor_values"
   ]
  },
  {
   "cell_type": "code",
   "execution_count": 91,
   "id": "6c47cf23",
   "metadata": {},
   "outputs": [],
   "source": [
    "#impute values based on correlations\n",
    "coffee.loc[coffee['flavor'].isna(),'flavor'] = flavor_values"
   ]
  },
  {
   "cell_type": "code",
   "execution_count": 92,
   "id": "7482df65",
   "metadata": {},
   "outputs": [
    {
     "data": {
      "text/plain": [
       "coffee_name         0\n",
       "roaster_name        0\n",
       "month               0\n",
       "year                0\n",
       "bean_agtron         0\n",
       "ground_agtron       0\n",
       "aroma               0\n",
       "acidity             0\n",
       "body                0\n",
       "flavor              0\n",
       "aftertaste       1782\n",
       "roaster_lat        72\n",
       "roaster_lon        72\n",
       "origin_lat        589\n",
       "origin_lon        589\n",
       "p1                  0\n",
       "p2                  0\n",
       "p3                  6\n",
       "overall_score       0\n",
       "dtype: int64"
      ]
     },
     "execution_count": 92,
     "metadata": {},
     "output_type": "execute_result"
    }
   ],
   "source": [
    "#checking where there are still missing values\n",
    "coffee.isna().sum()"
   ]
  },
  {
   "cell_type": "code",
   "execution_count": 93,
   "id": "b954efc4",
   "metadata": {},
   "outputs": [
    {
     "data": {
      "text/plain": [
       "aftertaste       1.000000\n",
       "overall_score    0.764557\n",
       "flavor           0.595812\n",
       "acidity          0.544620\n",
       "aroma            0.481441\n",
       "body             0.353036\n",
       "ground_agtron    0.276069\n",
       "bean_agtron      0.188278\n",
       "year             0.101309\n",
       "month            0.052519\n",
       "roaster_lon      0.039686\n",
       "origin_lon       0.021183\n",
       "origin_lat      -0.027026\n",
       "roaster_lat     -0.042939\n",
       "Name: aftertaste, dtype: float64"
      ]
     },
     "execution_count": 93,
     "metadata": {},
     "output_type": "execute_result"
    }
   ],
   "source": [
    "#these aren't as strongly correlated, but we'll work with it still for now using flavor\n",
    "corr_flavor = coffee.corr()\n",
    "\n",
    "corr_flavor.loc[:,\"aftertaste\"].sort_values(ascending = False)"
   ]
  },
  {
   "cell_type": "code",
   "execution_count": 94,
   "id": "dd10660d",
   "metadata": {},
   "outputs": [
    {
     "data": {
      "text/plain": [
       "0.9142936823338413"
      ]
     },
     "execution_count": 94,
     "metadata": {},
     "output_type": "execute_result"
    }
   ],
   "source": [
    "#calculate the constant of proportionality, we'll use mean given how \n",
    "constant = (coffee['aftertaste']/coffee['flavor']).mean()\n",
    "constant"
   ]
  },
  {
   "cell_type": "code",
   "execution_count": 95,
   "id": "b584d279",
   "metadata": {},
   "outputs": [
    {
     "data": {
      "text/plain": [
       "0       8\n",
       "1       8\n",
       "2       8\n",
       "3       9\n",
       "4       8\n",
       "       ..\n",
       "1783    5\n",
       "1784    7\n",
       "1785    8\n",
       "1786    6\n",
       "1787    4\n",
       "Name: flavor, Length: 1782, dtype: Int8"
      ]
     },
     "execution_count": 95,
     "metadata": {},
     "output_type": "execute_result"
    }
   ],
   "source": [
    "#calcuate aroma values to impute\n",
    "after_values = round(coffee.loc[coffee['aftertaste'].isna(),'flavor']).astype('Int8')\n",
    "after_values"
   ]
  },
  {
   "cell_type": "code",
   "execution_count": 96,
   "id": "90f2cc35",
   "metadata": {},
   "outputs": [],
   "source": [
    "#impute values based on correlations\n",
    "coffee.loc[coffee['aftertaste'].isna(),'aftertaste'] = after_values"
   ]
  },
  {
   "cell_type": "markdown",
   "id": "007e5c99",
   "metadata": {},
   "source": [
    "Checking back in on nans - getting close:"
   ]
  },
  {
   "cell_type": "code",
   "execution_count": 97,
   "id": "f2f5ad58",
   "metadata": {
    "scrolled": true
   },
   "outputs": [
    {
     "data": {
      "text/plain": [
       "coffee_name        0\n",
       "roaster_name       0\n",
       "month              0\n",
       "year               0\n",
       "bean_agtron        0\n",
       "ground_agtron      0\n",
       "aroma              0\n",
       "acidity            0\n",
       "body               0\n",
       "flavor             0\n",
       "aftertaste         0\n",
       "roaster_lat       72\n",
       "roaster_lon       72\n",
       "origin_lat       589\n",
       "origin_lon       589\n",
       "p1                 0\n",
       "p2                 0\n",
       "p3                 6\n",
       "overall_score      0\n",
       "dtype: int64"
      ]
     },
     "execution_count": 97,
     "metadata": {},
     "output_type": "execute_result"
    }
   ],
   "source": [
    "#checking where there are still missing values\n",
    "coffee.isna().sum()"
   ]
  },
  {
   "cell_type": "markdown",
   "id": "611bfa81",
   "metadata": {},
   "source": [
    "**Addressing missing `p3` values**\n",
    "\n",
    "`p3` refers to the third scraped paragraph. Since there are so few rows missing this, we'll drop those rows."
   ]
  },
  {
   "cell_type": "code",
   "execution_count": 98,
   "id": "8caafa00",
   "metadata": {},
   "outputs": [],
   "source": [
    "#drop rows missing value in overall_score column \n",
    "coffee.dropna(subset = ['p3'], inplace=True)"
   ]
  },
  {
   "cell_type": "markdown",
   "id": "8652d969",
   "metadata": {},
   "source": [
    "**Addressing missing latitude and longitude values**\n",
    "\n",
    "We are missing some lat and lon values. First we'll confirm the lat and lon are missing in the same places:"
   ]
  },
  {
   "cell_type": "code",
   "execution_count": 99,
   "id": "08837e2f",
   "metadata": {},
   "outputs": [
    {
     "data": {
      "text/plain": [
       "count    0.0\n",
       "mean     NaN\n",
       "std      NaN\n",
       "min      NaN\n",
       "25%      NaN\n",
       "50%      NaN\n",
       "75%      NaN\n",
       "max      NaN\n",
       "Name: roaster_lon, dtype: float64"
      ]
     },
     "execution_count": 99,
     "metadata": {},
     "output_type": "execute_result"
    }
   ],
   "source": [
    "#are these missing in the same spots?\n",
    "coffee.loc[coffee['roaster_lat'].isna(),'roaster_lon'].describe()"
   ]
  },
  {
   "cell_type": "code",
   "execution_count": 100,
   "id": "209c472d",
   "metadata": {},
   "outputs": [
    {
     "data": {
      "text/plain": [
       "count    0.0\n",
       "mean     NaN\n",
       "std      NaN\n",
       "min      NaN\n",
       "25%      NaN\n",
       "50%      NaN\n",
       "75%      NaN\n",
       "max      NaN\n",
       "Name: origin_lon, dtype: float64"
      ]
     },
     "execution_count": 100,
     "metadata": {},
     "output_type": "execute_result"
    }
   ],
   "source": [
    "#are these missing in the same spots?\n",
    "coffee.loc[coffee['origin_lat'].isna(),'origin_lon'].describe()"
   ]
  },
  {
   "cell_type": "markdown",
   "id": "7e7b476d",
   "metadata": {},
   "source": [
    "We don't have great information to try to work from for imputing the lat and lon in meaningful ways. For now, we'll use the mean for these so that we can retain the other column values in these spots."
   ]
  },
  {
   "cell_type": "code",
   "execution_count": 101,
   "id": "a08d92f3",
   "metadata": {},
   "outputs": [
    {
     "data": {
      "text/plain": [
       "count    5968.000000\n",
       "mean       10.198811\n",
       "std        13.321592\n",
       "min       -30.292848\n",
       "25%         1.441968\n",
       "50%        10.211670\n",
       "75%        14.897192\n",
       "max        52.380033\n",
       "Name: origin_lat, dtype: float64"
      ]
     },
     "execution_count": 101,
     "metadata": {},
     "output_type": "execute_result"
    }
   ],
   "source": [
    "coffee['origin_lat'].describe()"
   ]
  },
  {
   "cell_type": "code",
   "execution_count": 102,
   "id": "e3236cf1",
   "metadata": {},
   "outputs": [
    {
     "data": {
      "text/plain": [
       "count    5968.000000\n",
       "mean      -12.161417\n",
       "std        72.166777\n",
       "min      -155.428370\n",
       "25%       -81.130843\n",
       "50%         7.540121\n",
       "75%        38.652120\n",
       "max       153.125616\n",
       "Name: origin_lon, dtype: float64"
      ]
     },
     "execution_count": 102,
     "metadata": {},
     "output_type": "execute_result"
    }
   ],
   "source": [
    "coffee['origin_lon'].describe()"
   ]
  },
  {
   "cell_type": "code",
   "execution_count": 103,
   "id": "678403ae",
   "metadata": {},
   "outputs": [
    {
     "data": {
      "text/plain": [
       "count    6485.000000\n",
       "mean       37.027419\n",
       "std         9.556831\n",
       "min       -37.824425\n",
       "25%        32.776272\n",
       "50%        39.049011\n",
       "75%        43.447436\n",
       "max        64.837845\n",
       "Name: roaster_lat, dtype: float64"
      ]
     },
     "execution_count": 103,
     "metadata": {},
     "output_type": "execute_result"
    }
   ],
   "source": [
    "coffee['roaster_lat'].describe()"
   ]
  },
  {
   "cell_type": "code",
   "execution_count": 104,
   "id": "36e191b6",
   "metadata": {},
   "outputs": [
    {
     "data": {
      "text/plain": [
       "count    6485.000000\n",
       "mean      -64.412448\n",
       "std        82.161370\n",
       "min      -159.582761\n",
       "25%      -117.648430\n",
       "50%       -89.383761\n",
       "75%       -73.121221\n",
       "max       152.952215\n",
       "Name: roaster_lon, dtype: float64"
      ]
     },
     "execution_count": 104,
     "metadata": {},
     "output_type": "execute_result"
    }
   ],
   "source": [
    "coffee['roaster_lon'].describe()"
   ]
  },
  {
   "cell_type": "code",
   "execution_count": 105,
   "id": "c090d76d",
   "metadata": {},
   "outputs": [],
   "source": [
    "#impute values based on mean\n",
    "coffee.loc[coffee['origin_lat'].isna(),'origin_lat'] = 10.198811"
   ]
  },
  {
   "cell_type": "code",
   "execution_count": 106,
   "id": "f1c59aaf",
   "metadata": {},
   "outputs": [],
   "source": [
    "#impute values based on mean\n",
    "coffee.loc[coffee['origin_lon'].isna(),'origin_lon'] = -12.161417"
   ]
  },
  {
   "cell_type": "code",
   "execution_count": 107,
   "id": "3c1e713e",
   "metadata": {},
   "outputs": [],
   "source": [
    "#impute values based on mean\n",
    "coffee.loc[coffee['roaster_lat'].isna(),'roaster_lat'] = 37.027489"
   ]
  },
  {
   "cell_type": "code",
   "execution_count": 108,
   "id": "ac927ddb",
   "metadata": {},
   "outputs": [],
   "source": [
    "#impute values based on mean\n",
    "coffee.loc[coffee['roaster_lon'].isna(),'roaster_lon'] = -64.412406"
   ]
  },
  {
   "cell_type": "code",
   "execution_count": 109,
   "id": "abe9ec2b",
   "metadata": {},
   "outputs": [
    {
     "data": {
      "text/plain": [
       "coffee_name      0\n",
       "roaster_name     0\n",
       "month            0\n",
       "year             0\n",
       "bean_agtron      0\n",
       "ground_agtron    0\n",
       "aroma            0\n",
       "acidity          0\n",
       "body             0\n",
       "flavor           0\n",
       "aftertaste       0\n",
       "roaster_lat      0\n",
       "roaster_lon      0\n",
       "origin_lat       0\n",
       "origin_lon       0\n",
       "p1               0\n",
       "p2               0\n",
       "p3               0\n",
       "overall_score    0\n",
       "dtype: int64"
      ]
     },
     "execution_count": 109,
     "metadata": {},
     "output_type": "execute_result"
    }
   ],
   "source": [
    "#checking where there are still missing values\n",
    "coffee.isna().sum()"
   ]
  },
  {
   "cell_type": "markdown",
   "id": "2a422d65",
   "metadata": {},
   "source": [
    "### Checking numerical data for unusual values, initial insights"
   ]
  },
  {
   "cell_type": "code",
   "execution_count": 110,
   "id": "b29f9c3b",
   "metadata": {},
   "outputs": [
    {
     "data": {
      "text/html": [
       "<div>\n",
       "<style scoped>\n",
       "    .dataframe tbody tr th:only-of-type {\n",
       "        vertical-align: middle;\n",
       "    }\n",
       "\n",
       "    .dataframe tbody tr th {\n",
       "        vertical-align: top;\n",
       "    }\n",
       "\n",
       "    .dataframe thead th {\n",
       "        text-align: right;\n",
       "    }\n",
       "</style>\n",
       "<table border=\"1\" class=\"dataframe\">\n",
       "  <thead>\n",
       "    <tr style=\"text-align: right;\">\n",
       "      <th></th>\n",
       "      <th>month</th>\n",
       "      <th>year</th>\n",
       "      <th>bean_agtron</th>\n",
       "      <th>ground_agtron</th>\n",
       "      <th>aroma</th>\n",
       "      <th>acidity</th>\n",
       "      <th>body</th>\n",
       "      <th>flavor</th>\n",
       "      <th>aftertaste</th>\n",
       "      <th>roaster_lat</th>\n",
       "      <th>roaster_lon</th>\n",
       "      <th>origin_lat</th>\n",
       "      <th>origin_lon</th>\n",
       "      <th>overall_score</th>\n",
       "    </tr>\n",
       "  </thead>\n",
       "  <tbody>\n",
       "    <tr>\n",
       "      <th>count</th>\n",
       "      <td>6557.000000</td>\n",
       "      <td>6557.000000</td>\n",
       "      <td>6557.000000</td>\n",
       "      <td>6557.000000</td>\n",
       "      <td>6557.000000</td>\n",
       "      <td>6557.000000</td>\n",
       "      <td>6557.000000</td>\n",
       "      <td>6557.000000</td>\n",
       "      <td>6557.000000</td>\n",
       "      <td>6557.000000</td>\n",
       "      <td>6557.000000</td>\n",
       "      <td>6557.000000</td>\n",
       "      <td>6557.000000</td>\n",
       "      <td>6557.000000</td>\n",
       "    </tr>\n",
       "    <tr>\n",
       "      <th>mean</th>\n",
       "      <td>6.642062</td>\n",
       "      <td>2013.102181</td>\n",
       "      <td>52.229983</td>\n",
       "      <td>67.683697</td>\n",
       "      <td>8.360988</td>\n",
       "      <td>7.904224</td>\n",
       "      <td>8.086472</td>\n",
       "      <td>8.361598</td>\n",
       "      <td>7.795638</td>\n",
       "      <td>37.027419</td>\n",
       "      <td>-64.412448</td>\n",
       "      <td>10.198811</td>\n",
       "      <td>-12.161417</td>\n",
       "      <td>90.873723</td>\n",
       "    </tr>\n",
       "    <tr>\n",
       "      <th>std</th>\n",
       "      <td>3.437202</td>\n",
       "      <td>6.719059</td>\n",
       "      <td>8.411739</td>\n",
       "      <td>12.962223</td>\n",
       "      <td>0.927393</td>\n",
       "      <td>1.023060</td>\n",
       "      <td>0.871203</td>\n",
       "      <td>1.065692</td>\n",
       "      <td>0.874365</td>\n",
       "      <td>9.504209</td>\n",
       "      <td>81.708964</td>\n",
       "      <td>12.709097</td>\n",
       "      <td>68.848718</td>\n",
       "      <td>4.089739</td>\n",
       "    </tr>\n",
       "    <tr>\n",
       "      <th>min</th>\n",
       "      <td>1.000000</td>\n",
       "      <td>1997.000000</td>\n",
       "      <td>11.000000</td>\n",
       "      <td>12.000000</td>\n",
       "      <td>2.000000</td>\n",
       "      <td>1.000000</td>\n",
       "      <td>4.000000</td>\n",
       "      <td>1.000000</td>\n",
       "      <td>2.000000</td>\n",
       "      <td>-37.824425</td>\n",
       "      <td>-159.582761</td>\n",
       "      <td>-30.292848</td>\n",
       "      <td>-155.428370</td>\n",
       "      <td>60.000000</td>\n",
       "    </tr>\n",
       "    <tr>\n",
       "      <th>25%</th>\n",
       "      <td>4.000000</td>\n",
       "      <td>2008.000000</td>\n",
       "      <td>48.000000</td>\n",
       "      <td>60.000000</td>\n",
       "      <td>8.000000</td>\n",
       "      <td>8.000000</td>\n",
       "      <td>8.000000</td>\n",
       "      <td>8.000000</td>\n",
       "      <td>7.000000</td>\n",
       "      <td>32.840162</td>\n",
       "      <td>-117.423510</td>\n",
       "      <td>1.441968</td>\n",
       "      <td>-79.366697</td>\n",
       "      <td>90.000000</td>\n",
       "    </tr>\n",
       "    <tr>\n",
       "      <th>50%</th>\n",
       "      <td>7.000000</td>\n",
       "      <td>2014.000000</td>\n",
       "      <td>54.000000</td>\n",
       "      <td>71.000000</td>\n",
       "      <td>9.000000</td>\n",
       "      <td>8.000000</td>\n",
       "      <td>8.000000</td>\n",
       "      <td>9.000000</td>\n",
       "      <td>8.000000</td>\n",
       "      <td>39.049011</td>\n",
       "      <td>-89.383761</td>\n",
       "      <td>10.211670</td>\n",
       "      <td>7.540121</td>\n",
       "      <td>92.000000</td>\n",
       "    </tr>\n",
       "    <tr>\n",
       "      <th>75%</th>\n",
       "      <td>10.000000</td>\n",
       "      <td>2019.000000</td>\n",
       "      <td>58.000000</td>\n",
       "      <td>77.000000</td>\n",
       "      <td>9.000000</td>\n",
       "      <td>9.000000</td>\n",
       "      <td>9.000000</td>\n",
       "      <td>9.000000</td>\n",
       "      <td>8.000000</td>\n",
       "      <td>43.074761</td>\n",
       "      <td>-72.815099</td>\n",
       "      <td>13.800038</td>\n",
       "      <td>38.652120</td>\n",
       "      <td>93.000000</td>\n",
       "    </tr>\n",
       "    <tr>\n",
       "      <th>max</th>\n",
       "      <td>12.000000</td>\n",
       "      <td>2022.000000</td>\n",
       "      <td>91.000000</td>\n",
       "      <td>105.000000</td>\n",
       "      <td>10.000000</td>\n",
       "      <td>10.000000</td>\n",
       "      <td>10.000000</td>\n",
       "      <td>10.000000</td>\n",
       "      <td>10.000000</td>\n",
       "      <td>64.837845</td>\n",
       "      <td>152.952215</td>\n",
       "      <td>52.380033</td>\n",
       "      <td>153.125616</td>\n",
       "      <td>98.000000</td>\n",
       "    </tr>\n",
       "  </tbody>\n",
       "</table>\n",
       "</div>"
      ],
      "text/plain": [
       "             month         year  bean_agtron  ground_agtron        aroma  \\\n",
       "count  6557.000000  6557.000000  6557.000000    6557.000000  6557.000000   \n",
       "mean      6.642062  2013.102181    52.229983      67.683697     8.360988   \n",
       "std       3.437202     6.719059     8.411739      12.962223     0.927393   \n",
       "min       1.000000  1997.000000    11.000000      12.000000     2.000000   \n",
       "25%       4.000000  2008.000000    48.000000      60.000000     8.000000   \n",
       "50%       7.000000  2014.000000    54.000000      71.000000     9.000000   \n",
       "75%      10.000000  2019.000000    58.000000      77.000000     9.000000   \n",
       "max      12.000000  2022.000000    91.000000     105.000000    10.000000   \n",
       "\n",
       "           acidity         body       flavor   aftertaste  roaster_lat  \\\n",
       "count  6557.000000  6557.000000  6557.000000  6557.000000  6557.000000   \n",
       "mean      7.904224     8.086472     8.361598     7.795638    37.027419   \n",
       "std       1.023060     0.871203     1.065692     0.874365     9.504209   \n",
       "min       1.000000     4.000000     1.000000     2.000000   -37.824425   \n",
       "25%       8.000000     8.000000     8.000000     7.000000    32.840162   \n",
       "50%       8.000000     8.000000     9.000000     8.000000    39.049011   \n",
       "75%       9.000000     9.000000     9.000000     8.000000    43.074761   \n",
       "max      10.000000    10.000000    10.000000    10.000000    64.837845   \n",
       "\n",
       "       roaster_lon   origin_lat   origin_lon  overall_score  \n",
       "count  6557.000000  6557.000000  6557.000000    6557.000000  \n",
       "mean    -64.412448    10.198811   -12.161417      90.873723  \n",
       "std      81.708964    12.709097    68.848718       4.089739  \n",
       "min    -159.582761   -30.292848  -155.428370      60.000000  \n",
       "25%    -117.423510     1.441968   -79.366697      90.000000  \n",
       "50%     -89.383761    10.211670     7.540121      92.000000  \n",
       "75%     -72.815099    13.800038    38.652120      93.000000  \n",
       "max     152.952215    52.380033   153.125616      98.000000  "
      ]
     },
     "execution_count": 110,
     "metadata": {},
     "output_type": "execute_result"
    }
   ],
   "source": [
    "#checking for any other unusual values\n",
    "coffee.describe()"
   ]
  },
  {
   "cell_type": "markdown",
   "id": "9698ccbe",
   "metadata": {},
   "source": [
    "**Things of note from description:**\n",
    "This looks pretty good because we address nans and odd zero values above.\n",
    "\n",
    "    - 105 for ground agtron seems high, dig further\n",
    "    - score columns seem skewed towards 10, may need to adjust to even out distribution for these\n",
    "    - overall score mean is 90 (high end of range; scores can go from 50-100, in these set range from 60 to 98)\n",
    "    \n",
    "We'll address potential skew and high `overall_score` means in a future notebook."
   ]
  },
  {
   "cell_type": "markdown",
   "id": "c19d7369",
   "metadata": {},
   "source": [
    "**Addressing suspiciously high `ground_agtron`**"
   ]
  },
  {
   "cell_type": "code",
   "execution_count": 111,
   "id": "f81b787f",
   "metadata": {},
   "outputs": [
    {
     "data": {
      "text/html": [
       "<div>\n",
       "<style scoped>\n",
       "    .dataframe tbody tr th:only-of-type {\n",
       "        vertical-align: middle;\n",
       "    }\n",
       "\n",
       "    .dataframe tbody tr th {\n",
       "        vertical-align: top;\n",
       "    }\n",
       "\n",
       "    .dataframe thead th {\n",
       "        text-align: right;\n",
       "    }\n",
       "</style>\n",
       "<table border=\"1\" class=\"dataframe\">\n",
       "  <thead>\n",
       "    <tr style=\"text-align: right;\">\n",
       "      <th></th>\n",
       "      <th>coffee_name</th>\n",
       "      <th>roaster_name</th>\n",
       "      <th>month</th>\n",
       "      <th>year</th>\n",
       "      <th>bean_agtron</th>\n",
       "      <th>ground_agtron</th>\n",
       "      <th>aroma</th>\n",
       "      <th>acidity</th>\n",
       "      <th>body</th>\n",
       "      <th>flavor</th>\n",
       "      <th>aftertaste</th>\n",
       "      <th>roaster_lat</th>\n",
       "      <th>roaster_lon</th>\n",
       "      <th>origin_lat</th>\n",
       "      <th>origin_lon</th>\n",
       "      <th>p1</th>\n",
       "      <th>p2</th>\n",
       "      <th>p3</th>\n",
       "      <th>overall_score</th>\n",
       "    </tr>\n",
       "  </thead>\n",
       "  <tbody>\n",
       "    <tr>\n",
       "      <th>682</th>\n",
       "      <td>Brazil Gauriroba Natural</td>\n",
       "      <td>SOT Coffee Roaster</td>\n",
       "      <td>7</td>\n",
       "      <td>2021</td>\n",
       "      <td>82</td>\n",
       "      <td>104</td>\n",
       "      <td>9</td>\n",
       "      <td>9</td>\n",
       "      <td>9</td>\n",
       "      <td>9</td>\n",
       "      <td>8</td>\n",
       "      <td>34.619881</td>\n",
       "      <td>135.490357</td>\n",
       "      <td>-10.333333</td>\n",
       "      <td>-53.200000</td>\n",
       "      <td>Blind Assessment: Citrusy-bright, juicy-sweet,...</td>\n",
       "      <td>Notes: Produced by Homero Aguiar Paiva at Faze...</td>\n",
       "      <td>The Bottom Line: An intriguingly complex Brazi...</td>\n",
       "      <td>94</td>\n",
       "    </tr>\n",
       "    <tr>\n",
       "      <th>886</th>\n",
       "      <td>Colombia Cauca El Paraiso</td>\n",
       "      <td>SOT Coffee Roaster</td>\n",
       "      <td>3</td>\n",
       "      <td>2021</td>\n",
       "      <td>85</td>\n",
       "      <td>105</td>\n",
       "      <td>9</td>\n",
       "      <td>9</td>\n",
       "      <td>9</td>\n",
       "      <td>10</td>\n",
       "      <td>9</td>\n",
       "      <td>34.619881</td>\n",
       "      <td>135.490357</td>\n",
       "      <td>4.099917</td>\n",
       "      <td>-72.908813</td>\n",
       "      <td>Blind Assessment: Lyrically sweet, juicy, eleg...</td>\n",
       "      <td>Notes: SOT Coffee Roaster, based in Osaka, Jap...</td>\n",
       "      <td>The Bottom Line: An exquisitely refined ultra-...</td>\n",
       "      <td>96</td>\n",
       "    </tr>\n",
       "    <tr>\n",
       "      <th>3055</th>\n",
       "      <td>Nicaragua Finca La Joya Villa Lobos Natural Sa...</td>\n",
       "      <td>Big Nose Cafe</td>\n",
       "      <td>4</td>\n",
       "      <td>2015</td>\n",
       "      <td>72</td>\n",
       "      <td>102</td>\n",
       "      <td>9</td>\n",
       "      <td>8</td>\n",
       "      <td>8</td>\n",
       "      <td>9</td>\n",
       "      <td>8</td>\n",
       "      <td>24.816472</td>\n",
       "      <td>120.970516</td>\n",
       "      <td>12.609016</td>\n",
       "      <td>-85.293691</td>\n",
       "      <td>Blind Assessment: Sweetly and richly fermenty:...</td>\n",
       "      <td>Notes: This is a dry or “natural” processed co...</td>\n",
       "      <td>Who Should Drink It: An unapologetic, thorough...</td>\n",
       "      <td>92</td>\n",
       "    </tr>\n",
       "    <tr>\n",
       "      <th>3174</th>\n",
       "      <td>Perci Red Panama Gesha</td>\n",
       "      <td>Barrington Coffee Roasting Co.</td>\n",
       "      <td>12</td>\n",
       "      <td>2014</td>\n",
       "      <td>74</td>\n",
       "      <td>101</td>\n",
       "      <td>9</td>\n",
       "      <td>9</td>\n",
       "      <td>9</td>\n",
       "      <td>9</td>\n",
       "      <td>9</td>\n",
       "      <td>42.303920</td>\n",
       "      <td>-73.234097</td>\n",
       "      <td>8.559559</td>\n",
       "      <td>-81.130843</td>\n",
       "      <td>Blind Assessment: Impressive balance and compl...</td>\n",
       "      <td>Notes: Produced from trees of the rare Ethiopi...</td>\n",
       "      <td>Who Should Drink It: A very light-roasted pres...</td>\n",
       "      <td>95</td>\n",
       "    </tr>\n",
       "  </tbody>\n",
       "</table>\n",
       "</div>"
      ],
      "text/plain": [
       "                                            coffee_name  \\\n",
       "682                            Brazil Gauriroba Natural   \n",
       "886                           Colombia Cauca El Paraiso   \n",
       "3055  Nicaragua Finca La Joya Villa Lobos Natural Sa...   \n",
       "3174                             Perci Red Panama Gesha   \n",
       "\n",
       "                        roaster_name  month  year  bean_agtron  ground_agtron  \\\n",
       "682               SOT Coffee Roaster      7  2021           82            104   \n",
       "886               SOT Coffee Roaster      3  2021           85            105   \n",
       "3055                   Big Nose Cafe      4  2015           72            102   \n",
       "3174  Barrington Coffee Roasting Co.     12  2014           74            101   \n",
       "\n",
       "      aroma  acidity  body  flavor  aftertaste  roaster_lat  roaster_lon  \\\n",
       "682       9        9     9       9           8    34.619881   135.490357   \n",
       "886       9        9     9      10           9    34.619881   135.490357   \n",
       "3055      9        8     8       9           8    24.816472   120.970516   \n",
       "3174      9        9     9       9           9    42.303920   -73.234097   \n",
       "\n",
       "      origin_lat  origin_lon  \\\n",
       "682   -10.333333  -53.200000   \n",
       "886     4.099917  -72.908813   \n",
       "3055   12.609016  -85.293691   \n",
       "3174    8.559559  -81.130843   \n",
       "\n",
       "                                                     p1  \\\n",
       "682   Blind Assessment: Citrusy-bright, juicy-sweet,...   \n",
       "886   Blind Assessment: Lyrically sweet, juicy, eleg...   \n",
       "3055  Blind Assessment: Sweetly and richly fermenty:...   \n",
       "3174  Blind Assessment: Impressive balance and compl...   \n",
       "\n",
       "                                                     p2  \\\n",
       "682   Notes: Produced by Homero Aguiar Paiva at Faze...   \n",
       "886   Notes: SOT Coffee Roaster, based in Osaka, Jap...   \n",
       "3055  Notes: This is a dry or “natural” processed co...   \n",
       "3174  Notes: Produced from trees of the rare Ethiopi...   \n",
       "\n",
       "                                                     p3  overall_score  \n",
       "682   The Bottom Line: An intriguingly complex Brazi...             94  \n",
       "886   The Bottom Line: An exquisitely refined ultra-...             96  \n",
       "3055  Who Should Drink It: An unapologetic, thorough...             92  \n",
       "3174  Who Should Drink It: A very light-roasted pres...             95  "
      ]
     },
     "execution_count": 111,
     "metadata": {},
     "output_type": "execute_result"
    }
   ],
   "source": [
    "#investigating spots with high groud_agtron\n",
    "coffee.loc[coffee['ground_agtron'] >= 100]"
   ]
  },
  {
   "cell_type": "markdown",
   "id": "d8952b31",
   "metadata": {},
   "source": [
    "There are a few `ground_agtron` spots where `bean_agtron` is much lower. Will impute `ground_agtron` with corresponding `bean_agtron` values so it is not skewing our data."
   ]
  },
  {
   "cell_type": "code",
   "execution_count": 112,
   "id": "e3d64311",
   "metadata": {},
   "outputs": [],
   "source": [
    "#impute values based on mean\n",
    "coffee.loc[coffee['ground_agtron'] == 105,'ground_agtron'] = 85"
   ]
  },
  {
   "cell_type": "code",
   "execution_count": 113,
   "id": "cc832f7d",
   "metadata": {},
   "outputs": [],
   "source": [
    "#impute values based on mean\n",
    "coffee.loc[coffee['ground_agtron'] == 104,'ground_agtron'] = 82"
   ]
  },
  {
   "cell_type": "code",
   "execution_count": 114,
   "id": "c434a2ca",
   "metadata": {},
   "outputs": [],
   "source": [
    "#impute values based on mean\n",
    "coffee.loc[coffee['ground_agtron'] == 102,'ground_agtron'] = 72"
   ]
  },
  {
   "cell_type": "code",
   "execution_count": 115,
   "id": "aa4c5617",
   "metadata": {},
   "outputs": [],
   "source": [
    "#impute values based on mean\n",
    "coffee.loc[coffee['ground_agtron'] == 101,'ground_agtron'] = 74"
   ]
  },
  {
   "cell_type": "code",
   "execution_count": 116,
   "id": "5a447824",
   "metadata": {},
   "outputs": [
    {
     "data": {
      "text/html": [
       "<div>\n",
       "<style scoped>\n",
       "    .dataframe tbody tr th:only-of-type {\n",
       "        vertical-align: middle;\n",
       "    }\n",
       "\n",
       "    .dataframe tbody tr th {\n",
       "        vertical-align: top;\n",
       "    }\n",
       "\n",
       "    .dataframe thead th {\n",
       "        text-align: right;\n",
       "    }\n",
       "</style>\n",
       "<table border=\"1\" class=\"dataframe\">\n",
       "  <thead>\n",
       "    <tr style=\"text-align: right;\">\n",
       "      <th></th>\n",
       "      <th>month</th>\n",
       "      <th>year</th>\n",
       "      <th>bean_agtron</th>\n",
       "      <th>ground_agtron</th>\n",
       "      <th>aroma</th>\n",
       "      <th>acidity</th>\n",
       "      <th>body</th>\n",
       "      <th>flavor</th>\n",
       "      <th>aftertaste</th>\n",
       "      <th>roaster_lat</th>\n",
       "      <th>roaster_lon</th>\n",
       "      <th>origin_lat</th>\n",
       "      <th>origin_lon</th>\n",
       "      <th>overall_score</th>\n",
       "    </tr>\n",
       "  </thead>\n",
       "  <tbody>\n",
       "    <tr>\n",
       "      <th>count</th>\n",
       "      <td>6557.000000</td>\n",
       "      <td>6557.000000</td>\n",
       "      <td>6557.000000</td>\n",
       "      <td>6557.000000</td>\n",
       "      <td>6557.000000</td>\n",
       "      <td>6557.000000</td>\n",
       "      <td>6557.000000</td>\n",
       "      <td>6557.000000</td>\n",
       "      <td>6557.000000</td>\n",
       "      <td>6557.000000</td>\n",
       "      <td>6557.000000</td>\n",
       "      <td>6557.000000</td>\n",
       "      <td>6557.000000</td>\n",
       "      <td>6557.000000</td>\n",
       "    </tr>\n",
       "    <tr>\n",
       "      <th>mean</th>\n",
       "      <td>6.642062</td>\n",
       "      <td>2013.102181</td>\n",
       "      <td>52.229983</td>\n",
       "      <td>67.668598</td>\n",
       "      <td>8.360988</td>\n",
       "      <td>7.904224</td>\n",
       "      <td>8.086472</td>\n",
       "      <td>8.361598</td>\n",
       "      <td>7.795638</td>\n",
       "      <td>37.027419</td>\n",
       "      <td>-64.412448</td>\n",
       "      <td>10.198811</td>\n",
       "      <td>-12.161417</td>\n",
       "      <td>90.873723</td>\n",
       "    </tr>\n",
       "    <tr>\n",
       "      <th>std</th>\n",
       "      <td>3.437202</td>\n",
       "      <td>6.719059</td>\n",
       "      <td>8.411739</td>\n",
       "      <td>12.936090</td>\n",
       "      <td>0.927393</td>\n",
       "      <td>1.023060</td>\n",
       "      <td>0.871203</td>\n",
       "      <td>1.065692</td>\n",
       "      <td>0.874365</td>\n",
       "      <td>9.504209</td>\n",
       "      <td>81.708964</td>\n",
       "      <td>12.709097</td>\n",
       "      <td>68.848718</td>\n",
       "      <td>4.089739</td>\n",
       "    </tr>\n",
       "    <tr>\n",
       "      <th>min</th>\n",
       "      <td>1.000000</td>\n",
       "      <td>1997.000000</td>\n",
       "      <td>11.000000</td>\n",
       "      <td>12.000000</td>\n",
       "      <td>2.000000</td>\n",
       "      <td>1.000000</td>\n",
       "      <td>4.000000</td>\n",
       "      <td>1.000000</td>\n",
       "      <td>2.000000</td>\n",
       "      <td>-37.824425</td>\n",
       "      <td>-159.582761</td>\n",
       "      <td>-30.292848</td>\n",
       "      <td>-155.428370</td>\n",
       "      <td>60.000000</td>\n",
       "    </tr>\n",
       "    <tr>\n",
       "      <th>25%</th>\n",
       "      <td>4.000000</td>\n",
       "      <td>2008.000000</td>\n",
       "      <td>48.000000</td>\n",
       "      <td>60.000000</td>\n",
       "      <td>8.000000</td>\n",
       "      <td>8.000000</td>\n",
       "      <td>8.000000</td>\n",
       "      <td>8.000000</td>\n",
       "      <td>7.000000</td>\n",
       "      <td>32.840162</td>\n",
       "      <td>-117.423510</td>\n",
       "      <td>1.441968</td>\n",
       "      <td>-79.366697</td>\n",
       "      <td>90.000000</td>\n",
       "    </tr>\n",
       "    <tr>\n",
       "      <th>50%</th>\n",
       "      <td>7.000000</td>\n",
       "      <td>2014.000000</td>\n",
       "      <td>54.000000</td>\n",
       "      <td>71.000000</td>\n",
       "      <td>9.000000</td>\n",
       "      <td>8.000000</td>\n",
       "      <td>8.000000</td>\n",
       "      <td>9.000000</td>\n",
       "      <td>8.000000</td>\n",
       "      <td>39.049011</td>\n",
       "      <td>-89.383761</td>\n",
       "      <td>10.211670</td>\n",
       "      <td>7.540121</td>\n",
       "      <td>92.000000</td>\n",
       "    </tr>\n",
       "    <tr>\n",
       "      <th>75%</th>\n",
       "      <td>10.000000</td>\n",
       "      <td>2019.000000</td>\n",
       "      <td>58.000000</td>\n",
       "      <td>77.000000</td>\n",
       "      <td>9.000000</td>\n",
       "      <td>9.000000</td>\n",
       "      <td>9.000000</td>\n",
       "      <td>9.000000</td>\n",
       "      <td>8.000000</td>\n",
       "      <td>43.074761</td>\n",
       "      <td>-72.815099</td>\n",
       "      <td>13.800038</td>\n",
       "      <td>38.652120</td>\n",
       "      <td>93.000000</td>\n",
       "    </tr>\n",
       "    <tr>\n",
       "      <th>max</th>\n",
       "      <td>12.000000</td>\n",
       "      <td>2022.000000</td>\n",
       "      <td>91.000000</td>\n",
       "      <td>99.000000</td>\n",
       "      <td>10.000000</td>\n",
       "      <td>10.000000</td>\n",
       "      <td>10.000000</td>\n",
       "      <td>10.000000</td>\n",
       "      <td>10.000000</td>\n",
       "      <td>64.837845</td>\n",
       "      <td>152.952215</td>\n",
       "      <td>52.380033</td>\n",
       "      <td>153.125616</td>\n",
       "      <td>98.000000</td>\n",
       "    </tr>\n",
       "  </tbody>\n",
       "</table>\n",
       "</div>"
      ],
      "text/plain": [
       "             month         year  bean_agtron  ground_agtron        aroma  \\\n",
       "count  6557.000000  6557.000000  6557.000000    6557.000000  6557.000000   \n",
       "mean      6.642062  2013.102181    52.229983      67.668598     8.360988   \n",
       "std       3.437202     6.719059     8.411739      12.936090     0.927393   \n",
       "min       1.000000  1997.000000    11.000000      12.000000     2.000000   \n",
       "25%       4.000000  2008.000000    48.000000      60.000000     8.000000   \n",
       "50%       7.000000  2014.000000    54.000000      71.000000     9.000000   \n",
       "75%      10.000000  2019.000000    58.000000      77.000000     9.000000   \n",
       "max      12.000000  2022.000000    91.000000      99.000000    10.000000   \n",
       "\n",
       "           acidity         body       flavor   aftertaste  roaster_lat  \\\n",
       "count  6557.000000  6557.000000  6557.000000  6557.000000  6557.000000   \n",
       "mean      7.904224     8.086472     8.361598     7.795638    37.027419   \n",
       "std       1.023060     0.871203     1.065692     0.874365     9.504209   \n",
       "min       1.000000     4.000000     1.000000     2.000000   -37.824425   \n",
       "25%       8.000000     8.000000     8.000000     7.000000    32.840162   \n",
       "50%       8.000000     8.000000     9.000000     8.000000    39.049011   \n",
       "75%       9.000000     9.000000     9.000000     8.000000    43.074761   \n",
       "max      10.000000    10.000000    10.000000    10.000000    64.837845   \n",
       "\n",
       "       roaster_lon   origin_lat   origin_lon  overall_score  \n",
       "count  6557.000000  6557.000000  6557.000000    6557.000000  \n",
       "mean    -64.412448    10.198811   -12.161417      90.873723  \n",
       "std      81.708964    12.709097    68.848718       4.089739  \n",
       "min    -159.582761   -30.292848  -155.428370      60.000000  \n",
       "25%    -117.423510     1.441968   -79.366697      90.000000  \n",
       "50%     -89.383761    10.211670     7.540121      92.000000  \n",
       "75%     -72.815099    13.800038    38.652120      93.000000  \n",
       "max     152.952215    52.380033   153.125616      98.000000  "
      ]
     },
     "execution_count": 116,
     "metadata": {},
     "output_type": "execute_result"
    }
   ],
   "source": [
    "#checking for any other unusual values\n",
    "coffee.describe()"
   ]
  },
  {
   "cell_type": "code",
   "execution_count": 117,
   "id": "6836af7b",
   "metadata": {},
   "outputs": [
    {
     "name": "stdout",
     "output_type": "stream",
     "text": [
      "<class 'pandas.core.frame.DataFrame'>\n",
      "Int64Index: 6557 entries, 0 to 1787\n",
      "Data columns (total 19 columns):\n",
      " #   Column         Non-Null Count  Dtype  \n",
      "---  ------         --------------  -----  \n",
      " 0   coffee_name    6557 non-null   object \n",
      " 1   roaster_name   6557 non-null   object \n",
      " 2   month          6557 non-null   int64  \n",
      " 3   year           6557 non-null   int64  \n",
      " 4   bean_agtron    6557 non-null   Int8   \n",
      " 5   ground_agtron  6557 non-null   Int8   \n",
      " 6   aroma          6557 non-null   Int8   \n",
      " 7   acidity        6557 non-null   Int8   \n",
      " 8   body           6557 non-null   Int8   \n",
      " 9   flavor         6557 non-null   Int8   \n",
      " 10  aftertaste     6557 non-null   Int8   \n",
      " 11  roaster_lat    6557 non-null   float64\n",
      " 12  roaster_lon    6557 non-null   float64\n",
      " 13  origin_lat     6557 non-null   float64\n",
      " 14  origin_lon     6557 non-null   float64\n",
      " 15  p1             6557 non-null   object \n",
      " 16  p2             6557 non-null   object \n",
      " 17  p3             6557 non-null   object \n",
      " 18  overall_score  6557 non-null   Int8   \n",
      "dtypes: Int8(8), float64(4), int64(2), object(5)\n",
      "memory usage: 717.2+ KB\n"
     ]
    }
   ],
   "source": [
    "coffee.info()"
   ]
  },
  {
   "cell_type": "markdown",
   "id": "7f09677a",
   "metadata": {},
   "source": [
    "**Still to address: What to do with coffee_name, roaster_name, paragraphs**"
   ]
  },
  {
   "cell_type": "code",
   "execution_count": 118,
   "id": "e77716c3",
   "metadata": {},
   "outputs": [],
   "source": [
    "#saving cleaned data to CSV\n",
    "coffee.to_csv('coffee.csv', index=False)"
   ]
  },
  {
   "cell_type": "code",
   "execution_count": null,
   "id": "223e39f6",
   "metadata": {},
   "outputs": [],
   "source": []
  }
 ],
 "metadata": {
  "kernelspec": {
   "display_name": "capstone",
   "language": "python",
   "name": "capstone"
  },
  "language_info": {
   "codemirror_mode": {
    "name": "ipython",
    "version": 3
   },
   "file_extension": ".py",
   "mimetype": "text/x-python",
   "name": "python",
   "nbconvert_exporter": "python",
   "pygments_lexer": "ipython3",
   "version": "3.8.13"
  }
 },
 "nbformat": 4,
 "nbformat_minor": 5
}
