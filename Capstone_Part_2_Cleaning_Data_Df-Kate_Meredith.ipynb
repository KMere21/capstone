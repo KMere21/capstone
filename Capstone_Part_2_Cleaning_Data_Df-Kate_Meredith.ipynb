{
 "cells": [
  {
   "cell_type": "markdown",
   "id": "e51f0097",
   "metadata": {},
   "source": [
    "# Capstone Project Part 2a: Cleaning \"Data_DF\"\n",
    "\n",
    "**Authur:** Kate Meredith  \n",
    "\n",
    "**Date:** September-November 2022\n",
    "\n",
    "**Notebook #:** 2 of\n",
    "\n",
    "## Background\n",
    "\n",
    "**Source:** Data was collected from [CoffeeReview.com](https://www.coffeereview.com/) and grouped into two DataFrames for cleaning. See \"Capstone Project Part 1\" for more information on scraping. See notebook on cleaning \"older_data_df\" for cleaning of second portion of data.\n",
    "\n",
    "**Initial Data Overview:** The following outlines the column headers for the data initially scraped and corresponding clean up plan:\n",
    "\n",
    "Independent Variables:\n",
    "- `coffee_name` \n",
    "    - def: name of coffee reviewed\n",
    "    - options: use text vectoring to tokenize or drop; one-hot encoding likely impractical given number of variations in names\n",
    "- `roaster_name` \n",
    "    - def: name of roaster that roasted the coffee\n",
    "    - options: one-hot encoding or drop\n",
    "- `roaster_location` \n",
    "    - def: location of coffee roaster\n",
    "    - turn into latitude and longitude\n",
    "- `coffee_origin` \n",
    "    - def: location of coffee bean origination\n",
    "    - turn into latitude and longitude\n",
    "- `roast_level` \n",
    "    - def: describes how long and thoroughly the beans are cooked, ranging from light to dark\n",
    "    - options: encode numerically (ordinal values) or drop; agtron scores measure roast level with number so may drop this\n",
    "- `agtron` \n",
    "    - def: numerical measure of how roasted the beans are; first number is taken from measuring the whole beans, second from the grounds\n",
    "    - options: split into two columns, one for `bean_agtron`, one for `ground_agtron`\n",
    "- `est_price`\n",
    "    - def: est cost of the coffee\n",
    "    - options: clean up and turn into measure that can be compared (such as USD cost per ounce) or drop; dropping may be necessary for sake of time given how complex clean up is (different measurement amounts and inflation affecting cost (data spans 1997 to 2022)\n",
    "- `h1`\n",
    "    - def: placedholder for first header\n",
    "    - these headers will become column headers in the DataFrame; webpage format was inconsistent, so pulled headers in one column, followed by score in next so that scores can be correctly attributed to the right header\n",
    "- `s1`\n",
    "    - def: first score listed on webpage\n",
    "    - webpage format was inconsistent; need to verify which header the score corresponds to and move to the appropriate new column\n",
    "- `h2`\n",
    "    - def: placedholder for second header\n",
    "    - see header above\n",
    "- `s2`\n",
    "    - def: second score listed on webpage\n",
    "    - see above\n",
    "- `h3`\n",
    "    - def: placedholder for third header\n",
    "    - see header above\n",
    "- `s3`\n",
    "    - def: third score listed on webpage\n",
    "    - see above\n",
    "- `h4`\n",
    "    - def: placedholder for fourth header\n",
    "    - see header above\n",
    "- `s4`\n",
    "    - def: fourth score listed on webpage\n",
    "    - see above\n",
    "- `h5`\n",
    "    - def: placedholder for fifth header\n",
    "    - see header above\n",
    "- `s5`\n",
    "    - def: fifth score listed on webpage\n",
    "    - see above\n",
    "- `p1`\n",
    "    - def: first paragraph scraped from webpage\n",
    "    - verify if paragraphs all report same type of information; then use text vecotrizing to tokenize\n",
    "- `p2`\n",
    "    - def: second paragraph scraped from webpage\n",
    "    - verify if paragraphs all report same type of information; then use text vecotrizing to tokenize\n",
    "- `p3`\n",
    "    - def: third paragraph scraped from webpage\n",
    "    - verify if paragraphs all report same type of information; then use text vecotrizing to tokenize; expect there to be some difference in type of content in paragraph 3 as format changed over the years\n",
    "\n",
    "Target Variable:\n",
    "- `overall_score`\n",
    "    - def: overall score awarded to coffee\n",
    "    - verify data type is numeric, should not need altering otherwise"
   ]
  },
  {
   "cell_type": "markdown",
   "id": "1aa93202",
   "metadata": {},
   "source": [
    "## References\n",
    "\n",
    "- Referenced this [article](https://www.geeksforgeeks.org/split-a-text-column-into-two-columns-in-pandas-dataframe/) for splitting columns and keeping in dataframe \n",
    "- For [splitting columns with nans](https://stackoverflow.com/questions/69354795/how-to-skip-nan-values-when-splitting-up-a-column)\n",
    "- References for [cleaning up measurement columns](https://www.geeksforgeeks.org/how-to-replace-values-in-column-based-on-condition-in-pandas/)\n",
    "- Used [Regex 101](https://regex101.com/) to verify regex replacements\n",
    "- Used these articles to address turning datatypes to integers with nan present:\n",
    "    - [Changing to nans](https://stackoverflow.com/questions/34794067/how-to-set-a-cell-to-nan-in-a-pandas-dataframe)\n",
    "    - [Using numpy to allow nans in integers](https://stackoverflow.com/questions/21287624/convert-pandas-column-containing-nans-to-dtype-int)\n",
    "- Used this stack overflow [article](https://stackoverflow.com/questions/25888396/how-to-get-latitude-longitude-with-python) to acquire lat and long for locations"
   ]
  },
  {
   "cell_type": "code",
   "execution_count": 1,
   "id": "cb1d4ceb",
   "metadata": {},
   "outputs": [],
   "source": [
    "#Importing libraries.\n",
    "import numpy as np\n",
    "import pandas as pd\n",
    "import matplotlib.pyplot as plt\n",
    "import seaborn as sns"
   ]
  },
  {
   "cell_type": "code",
   "execution_count": 2,
   "id": "2b004ec5",
   "metadata": {},
   "outputs": [],
   "source": [
    "#import first dataset \"data_df\"\n",
    "data_df = pd.read_csv('data_df.csv')"
   ]
  },
  {
   "cell_type": "markdown",
   "id": "22d144a4",
   "metadata": {},
   "source": [
    "## EDA\n",
    "\n",
    "Before beginning cleaning, exploring the data to check out scope of cleaning needs."
   ]
  },
  {
   "cell_type": "code",
   "execution_count": 3,
   "id": "762f6839",
   "metadata": {},
   "outputs": [
    {
     "data": {
      "text/plain": [
       "(4779, 22)"
      ]
     },
     "execution_count": 3,
     "metadata": {},
     "output_type": "execute_result"
    }
   ],
   "source": [
    "#checking data shape\n",
    "data_df.shape"
   ]
  },
  {
   "cell_type": "markdown",
   "id": "99451d63",
   "metadata": {},
   "source": [
    "`data_df` has 4,779 rows and 22 columns."
   ]
  },
  {
   "cell_type": "code",
   "execution_count": 4,
   "id": "e93a0f6c",
   "metadata": {
    "scrolled": true
   },
   "outputs": [
    {
     "name": "stdout",
     "output_type": "stream",
     "text": [
      "<class 'pandas.core.frame.DataFrame'>\n",
      "RangeIndex: 4779 entries, 0 to 4778\n",
      "Data columns (total 22 columns):\n",
      " #   Column            Non-Null Count  Dtype \n",
      "---  ------            --------------  ----- \n",
      " 0   coffee_name       4779 non-null   object\n",
      " 1   roaster_name      4779 non-null   object\n",
      " 2   roaster_location  4779 non-null   object\n",
      " 3   coffee_origin     4779 non-null   object\n",
      " 4   roast_level       4705 non-null   object\n",
      " 5   agtron            4779 non-null   object\n",
      " 6   est_price         4731 non-null   object\n",
      " 7   review_date       4779 non-null   object\n",
      " 8   overall_score     4779 non-null   int64 \n",
      " 9   h1                4779 non-null   object\n",
      " 10  s1                4779 non-null   int64 \n",
      " 11  h2                4779 non-null   object\n",
      " 12  s2                4779 non-null   int64 \n",
      " 13  h3                4779 non-null   object\n",
      " 14  s3                4779 non-null   int64 \n",
      " 15  h4                4779 non-null   object\n",
      " 16  s4                4779 non-null   int64 \n",
      " 17  h5                4779 non-null   object\n",
      " 18  s5                4779 non-null   int64 \n",
      " 19  p1                4779 non-null   object\n",
      " 20  p2                4779 non-null   object\n",
      " 21  p3                4773 non-null   object\n",
      "dtypes: int64(6), object(16)\n",
      "memory usage: 821.5+ KB\n"
     ]
    }
   ],
   "source": [
    "#checking datatypes, null values\n",
    "data_df.info()"
   ]
  },
  {
   "cell_type": "markdown",
   "id": "9d76ec53",
   "metadata": {},
   "source": [
    "Much of the data imported as object, will need to determine plan for making numeric."
   ]
  },
  {
   "cell_type": "code",
   "execution_count": 5,
   "id": "7ad48f87",
   "metadata": {},
   "outputs": [
    {
     "data": {
      "text/plain": [
       "coffee_name          0\n",
       "roaster_name         0\n",
       "roaster_location     0\n",
       "coffee_origin        0\n",
       "roast_level         74\n",
       "agtron               0\n",
       "est_price           48\n",
       "review_date          0\n",
       "overall_score        0\n",
       "h1                   0\n",
       "s1                   0\n",
       "h2                   0\n",
       "s2                   0\n",
       "h3                   0\n",
       "s3                   0\n",
       "h4                   0\n",
       "s4                   0\n",
       "h5                   0\n",
       "s5                   0\n",
       "p1                   0\n",
       "p2                   0\n",
       "p3                   6\n",
       "dtype: int64"
      ]
     },
     "execution_count": 5,
     "metadata": {},
     "output_type": "execute_result"
    }
   ],
   "source": [
    "#counting null values\n",
    "#there are a few, but not too many\n",
    "data_df.isna().sum()"
   ]
  },
  {
   "cell_type": "code",
   "execution_count": 6,
   "id": "3ce6ff83",
   "metadata": {},
   "outputs": [
    {
     "data": {
      "text/html": [
       "<div>\n",
       "<style scoped>\n",
       "    .dataframe tbody tr th:only-of-type {\n",
       "        vertical-align: middle;\n",
       "    }\n",
       "\n",
       "    .dataframe tbody tr th {\n",
       "        vertical-align: top;\n",
       "    }\n",
       "\n",
       "    .dataframe thead th {\n",
       "        text-align: right;\n",
       "    }\n",
       "</style>\n",
       "<table border=\"1\" class=\"dataframe\">\n",
       "  <thead>\n",
       "    <tr style=\"text-align: right;\">\n",
       "      <th></th>\n",
       "      <th>coffee_name</th>\n",
       "      <th>roaster_name</th>\n",
       "      <th>roaster_location</th>\n",
       "      <th>coffee_origin</th>\n",
       "      <th>roast_level</th>\n",
       "      <th>agtron</th>\n",
       "      <th>est_price</th>\n",
       "      <th>review_date</th>\n",
       "      <th>overall_score</th>\n",
       "      <th>h1</th>\n",
       "      <th>...</th>\n",
       "      <th>s2</th>\n",
       "      <th>h3</th>\n",
       "      <th>s3</th>\n",
       "      <th>h4</th>\n",
       "      <th>s4</th>\n",
       "      <th>h5</th>\n",
       "      <th>s5</th>\n",
       "      <th>p1</th>\n",
       "      <th>p2</th>\n",
       "      <th>p3</th>\n",
       "    </tr>\n",
       "  </thead>\n",
       "  <tbody>\n",
       "    <tr>\n",
       "      <th>0</th>\n",
       "      <td>Colombia Cerro Azul Enano</td>\n",
       "      <td>Equator Coffees</td>\n",
       "      <td>San Rafael, California</td>\n",
       "      <td>Trujillo, Valle del Cauca Department, Colombia</td>\n",
       "      <td>Medium-Light</td>\n",
       "      <td>60/77</td>\n",
       "      <td>$26.00/12 ounces</td>\n",
       "      <td>October 2022</td>\n",
       "      <td>94</td>\n",
       "      <td>Aroma:</td>\n",
       "      <td>...</td>\n",
       "      <td>9</td>\n",
       "      <td>Body:</td>\n",
       "      <td>9</td>\n",
       "      <td>Flavor:</td>\n",
       "      <td>9</td>\n",
       "      <td>Aftertaste:</td>\n",
       "      <td>8</td>\n",
       "      <td>Blind Assessment: Elegantly fruit- and cocoa-t...</td>\n",
       "      <td>Notes: Produced at Finca Cerro Azul (also owne...</td>\n",
       "      <td>The Bottom Line:  This rare Enano (dwarf Geish...</td>\n",
       "    </tr>\n",
       "    <tr>\n",
       "      <th>1</th>\n",
       "      <td>Peru Incahuasi</td>\n",
       "      <td>Press Coffee</td>\n",
       "      <td>Phoenix, Arizona</td>\n",
       "      <td>Cusco Region, Peru</td>\n",
       "      <td>Medium-Light</td>\n",
       "      <td>58/78</td>\n",
       "      <td>$26.00/12 ounces</td>\n",
       "      <td>October 2022</td>\n",
       "      <td>94</td>\n",
       "      <td>Aroma:</td>\n",
       "      <td>...</td>\n",
       "      <td>9</td>\n",
       "      <td>Body:</td>\n",
       "      <td>9</td>\n",
       "      <td>Flavor:</td>\n",
       "      <td>9</td>\n",
       "      <td>Aftertaste:</td>\n",
       "      <td>8</td>\n",
       "      <td>Blind Assessment: Gently fruit-toned, integrat...</td>\n",
       "      <td>Notes: Produced at Incahuasi Farm from trees o...</td>\n",
       "      <td>The Bottom Line: Laden with tropical fruit not...</td>\n",
       "    </tr>\n",
       "    <tr>\n",
       "      <th>2</th>\n",
       "      <td>Colombia Aponte’s Guardians</td>\n",
       "      <td>Press Coffee</td>\n",
       "      <td>Phoenix, Arizona</td>\n",
       "      <td>Nariño Department, Colombia</td>\n",
       "      <td>Medium-Light</td>\n",
       "      <td>59/77</td>\n",
       "      <td>$19.00/12 ounces</td>\n",
       "      <td>October 2022</td>\n",
       "      <td>93</td>\n",
       "      <td>Aroma:</td>\n",
       "      <td>...</td>\n",
       "      <td>9</td>\n",
       "      <td>Body:</td>\n",
       "      <td>8</td>\n",
       "      <td>Flavor:</td>\n",
       "      <td>9</td>\n",
       "      <td>Aftertaste:</td>\n",
       "      <td>8</td>\n",
       "      <td>Blind Assessment: Richly sweet, spice-toned. L...</td>\n",
       "      <td>Notes: Produced at Aponte Farm from an undiscl...</td>\n",
       "      <td>The Bottom Line: A balanced, inviting washed C...</td>\n",
       "    </tr>\n",
       "    <tr>\n",
       "      <th>3</th>\n",
       "      <td>Nicaragua Flor de Dalia Natural</td>\n",
       "      <td>Equator Coffees</td>\n",
       "      <td>San Rafael, California</td>\n",
       "      <td>La Dalia, Matagalpa Department, northern Nicar...</td>\n",
       "      <td>Medium-Light</td>\n",
       "      <td>62/78</td>\n",
       "      <td>$18.00/12 ounces</td>\n",
       "      <td>October 2022</td>\n",
       "      <td>92</td>\n",
       "      <td>Aroma:</td>\n",
       "      <td>...</td>\n",
       "      <td>8</td>\n",
       "      <td>Body:</td>\n",
       "      <td>9</td>\n",
       "      <td>Flavor:</td>\n",
       "      <td>9</td>\n",
       "      <td>Aftertaste:</td>\n",
       "      <td>8</td>\n",
       "      <td>Blind Assessment: Gently fruit-forward, sweetl...</td>\n",
       "      <td>Notes: Produced by smallholding members of the...</td>\n",
       "      <td>The Bottom Line: A refreshing, very sweet natu...</td>\n",
       "    </tr>\n",
       "    <tr>\n",
       "      <th>4</th>\n",
       "      <td>Ethiopia Bench Maji Geisha G1 Natural</td>\n",
       "      <td>Taster's Coffee</td>\n",
       "      <td>New Taipei City, Taiwan</td>\n",
       "      <td>Bench-Maji Zone, southern Ethiopia</td>\n",
       "      <td>Light</td>\n",
       "      <td>65/81</td>\n",
       "      <td>NT $520/227 grams</td>\n",
       "      <td>October 2022</td>\n",
       "      <td>93</td>\n",
       "      <td>Aroma:</td>\n",
       "      <td>...</td>\n",
       "      <td>9</td>\n",
       "      <td>Body:</td>\n",
       "      <td>8</td>\n",
       "      <td>Flavor:</td>\n",
       "      <td>9</td>\n",
       "      <td>Aftertaste:</td>\n",
       "      <td>8</td>\n",
       "      <td>Blind Assessment: Gently sweet-tart, floral-to...</td>\n",
       "      <td>Notes: Produced from trees of the admired bota...</td>\n",
       "      <td>The Bottom Line: A quietly confident natural-p...</td>\n",
       "    </tr>\n",
       "  </tbody>\n",
       "</table>\n",
       "<p>5 rows × 22 columns</p>\n",
       "</div>"
      ],
      "text/plain": [
       "                             coffee_name     roaster_name  \\\n",
       "0              Colombia Cerro Azul Enano  Equator Coffees   \n",
       "1                         Peru Incahuasi     Press Coffee   \n",
       "2            Colombia Aponte’s Guardians     Press Coffee   \n",
       "3        Nicaragua Flor de Dalia Natural  Equator Coffees   \n",
       "4  Ethiopia Bench Maji Geisha G1 Natural  Taster's Coffee   \n",
       "\n",
       "          roaster_location                                      coffee_origin  \\\n",
       "0   San Rafael, California     Trujillo, Valle del Cauca Department, Colombia   \n",
       "1         Phoenix, Arizona                                 Cusco Region, Peru   \n",
       "2         Phoenix, Arizona                        Nariño Department, Colombia   \n",
       "3   San Rafael, California  La Dalia, Matagalpa Department, northern Nicar...   \n",
       "4  New Taipei City, Taiwan                 Bench-Maji Zone, southern Ethiopia   \n",
       "\n",
       "    roast_level agtron          est_price   review_date  overall_score  \\\n",
       "0  Medium-Light  60/77   $26.00/12 ounces  October 2022             94   \n",
       "1  Medium-Light  58/78   $26.00/12 ounces  October 2022             94   \n",
       "2  Medium-Light  59/77   $19.00/12 ounces  October 2022             93   \n",
       "3  Medium-Light  62/78   $18.00/12 ounces  October 2022             92   \n",
       "4         Light  65/81  NT $520/227 grams  October 2022             93   \n",
       "\n",
       "       h1  ...  s2     h3  s3       h4  s4           h5  s5  \\\n",
       "0  Aroma:  ...   9  Body:   9  Flavor:   9  Aftertaste:   8   \n",
       "1  Aroma:  ...   9  Body:   9  Flavor:   9  Aftertaste:   8   \n",
       "2  Aroma:  ...   9  Body:   8  Flavor:   9  Aftertaste:   8   \n",
       "3  Aroma:  ...   8  Body:   9  Flavor:   9  Aftertaste:   8   \n",
       "4  Aroma:  ...   9  Body:   8  Flavor:   9  Aftertaste:   8   \n",
       "\n",
       "                                                  p1  \\\n",
       "0  Blind Assessment: Elegantly fruit- and cocoa-t...   \n",
       "1  Blind Assessment: Gently fruit-toned, integrat...   \n",
       "2  Blind Assessment: Richly sweet, spice-toned. L...   \n",
       "3  Blind Assessment: Gently fruit-forward, sweetl...   \n",
       "4  Blind Assessment: Gently sweet-tart, floral-to...   \n",
       "\n",
       "                                                  p2  \\\n",
       "0  Notes: Produced at Finca Cerro Azul (also owne...   \n",
       "1  Notes: Produced at Incahuasi Farm from trees o...   \n",
       "2  Notes: Produced at Aponte Farm from an undiscl...   \n",
       "3  Notes: Produced by smallholding members of the...   \n",
       "4  Notes: Produced from trees of the admired bota...   \n",
       "\n",
       "                                                  p3  \n",
       "0  The Bottom Line:  This rare Enano (dwarf Geish...  \n",
       "1  The Bottom Line: Laden with tropical fruit not...  \n",
       "2  The Bottom Line: A balanced, inviting washed C...  \n",
       "3  The Bottom Line: A refreshing, very sweet natu...  \n",
       "4  The Bottom Line: A quietly confident natural-p...  \n",
       "\n",
       "[5 rows x 22 columns]"
      ]
     },
     "execution_count": 6,
     "metadata": {},
     "output_type": "execute_result"
    }
   ],
   "source": [
    "#previewing data\n",
    "data_df.head()"
   ]
  },
  {
   "cell_type": "markdown",
   "id": "265d00ad",
   "metadata": {},
   "source": [
    "### Checking Values in Each Column\n",
    "\n",
    "Checking out the types of values appearing in each column to verify if they make sense, any issues."
   ]
  },
  {
   "cell_type": "code",
   "execution_count": 7,
   "id": "661d9cff",
   "metadata": {},
   "outputs": [
    {
     "data": {
      "text/plain": [
       "Holiday Blend                                      21\n",
       "Espresso Blend                                     20\n",
       "Ethiopia Yirgacheffe                               11\n",
       "Sumatra Tano Batak                                  9\n",
       "Ethiopia Hambela Natural                            8\n",
       "                                                   ..\n",
       "Kenya Handege                                       1\n",
       "Kauai Estate Reserve Sun-Dried Typica               1\n",
       "Colombia Valle del Cauca Cerro Azul Geisha          1\n",
       "Ecuador Loja Clara Sidra Natural Taza Dorada #2     1\n",
       "Rwanda Coopac Cooperative                           1\n",
       "Name: coffee_name, Length: 4231, dtype: int64"
      ]
     },
     "execution_count": 7,
     "metadata": {},
     "output_type": "execute_result"
    }
   ],
   "source": [
    "#coffee name value counts\n",
    "data_df['coffee_name'].value_counts()"
   ]
  },
  {
   "cell_type": "code",
   "execution_count": 8,
   "id": "7cec4e49",
   "metadata": {},
   "outputs": [
    {
     "data": {
      "text/plain": [
       "JBC Coffee Roasters          291\n",
       "Paradise Roasters            230\n",
       "Kakalove Cafe                170\n",
       "Temple Coffee and Tea        103\n",
       "Bird Rock Coffee Roasters     92\n",
       "                            ... \n",
       "Boil Line Coffee Company       1\n",
       "Red Giant Coffee Roasters      1\n",
       "Pigeonhole Coffee              1\n",
       "Red E Café                     1\n",
       "Moonstruck Farm                1\n",
       "Name: roaster_name, Length: 870, dtype: int64"
      ]
     },
     "execution_count": 8,
     "metadata": {},
     "output_type": "execute_result"
    }
   ],
   "source": [
    "#roaster name value counts\n",
    "data_df['roaster_name'].value_counts()"
   ]
  },
  {
   "cell_type": "code",
   "execution_count": 9,
   "id": "4122e6f6",
   "metadata": {},
   "outputs": [
    {
     "data": {
      "text/plain": [
       "Madison, Wisconsin        297\n",
       "Sacramento, California    201\n",
       "Chia-Yi, Taiwan           175\n",
       "San Diego, California     166\n",
       "Minneapolis, Minnesota    157\n",
       "                         ... \n",
       "San Juan, Puerto Rico       1\n",
       "Tempe Arizona               1\n",
       "Lexington, Kentucky         1\n",
       "St. Louis, MIssouri         1\n",
       "Pa'auilo, Hawaii            1\n",
       "Name: roaster_location, Length: 499, dtype: int64"
      ]
     },
     "execution_count": 9,
     "metadata": {},
     "output_type": "execute_result"
    }
   ],
   "source": [
    "#roast location value counts\n",
    "data_df['roaster_location'].value_counts()"
   ]
  },
  {
   "cell_type": "code",
   "execution_count": 10,
   "id": "bcb01fc0",
   "metadata": {},
   "outputs": [
    {
     "data": {
      "text/plain": [
       "Not disclosed.                                                           156\n",
       "Yirgacheffe growing region, southern Ethiopia                            147\n",
       "Yirgacheffe growing region, southern Ethiopia.                           109\n",
       "Boquete growing region, western Panama                                   100\n",
       "Nyeri growing region, south-central Kenya                                 99\n",
       "                                                                        ... \n",
       "La Libertad, Huehuetenango, Guatemala                                      1\n",
       "Cusco Department, La Convención Province, Santa Teresa District, Peru      1\n",
       "San Cristobal, Cobán, Alta Verapaz, Guatemala                              1\n",
       "Jamaica                                                                    1\n",
       "Nilgiris, southern India.                                                  1\n",
       "Name: coffee_origin, Length: 1794, dtype: int64"
      ]
     },
     "execution_count": 10,
     "metadata": {},
     "output_type": "execute_result"
    }
   ],
   "source": [
    "#coffee origin value counts\n",
    "data_df['coffee_origin'].value_counts()"
   ]
  },
  {
   "cell_type": "code",
   "execution_count": 11,
   "id": "90259327",
   "metadata": {},
   "outputs": [
    {
     "data": {
      "text/plain": [
       "Medium-Light    2592\n",
       "Medium          1067\n",
       "Light            584\n",
       "Medium-Dark      299\n",
       "Very Dark        118\n",
       "Dark              45\n",
       "Name: roast_level, dtype: int64"
      ]
     },
     "execution_count": 11,
     "metadata": {},
     "output_type": "execute_result"
    }
   ],
   "source": [
    "#roast level value counts\n",
    "data_df['roast_level'].value_counts()"
   ]
  },
  {
   "cell_type": "code",
   "execution_count": 12,
   "id": "e3d854af",
   "metadata": {},
   "outputs": [
    {
     "data": {
      "text/plain": [
       "58/76     133\n",
       "58/78     114\n",
       "60/78     108\n",
       "62/80      84\n",
       "56/78      81\n",
       "         ... \n",
       "64/94       1\n",
       "72/102      1\n",
       "39/47       1\n",
       "63/88       1\n",
       "49/78       1\n",
       "Name: agtron, Length: 764, dtype: int64"
      ]
     },
     "execution_count": 12,
     "metadata": {},
     "output_type": "execute_result"
    }
   ],
   "source": [
    "#agtron value counts\n",
    "data_df['agtron'].value_counts()"
   ]
  },
  {
   "cell_type": "code",
   "execution_count": 13,
   "id": "caefa04d",
   "metadata": {},
   "outputs": [
    {
     "data": {
      "text/plain": [
       "$18.00/12 ounces                          154\n",
       "$16.00/12 ounces                           95\n",
       "$20.00/12 ounces                           91\n",
       "$19.00/12 ounces                           87\n",
       "$15.00/12 ounces                           84\n",
       "                                         ... \n",
       "$9.99/7 ounces (198 grams)                  1\n",
       "$19.00/six 5-gram packets                   1\n",
       "$15.00/six 5-gram single-serve packets      1\n",
       "$22.00/eight 5-gram tubes                   1\n",
       "$14.25 / 12 oz.                             1\n",
       "Name: est_price, Length: 1537, dtype: int64"
      ]
     },
     "execution_count": 13,
     "metadata": {},
     "output_type": "execute_result"
    }
   ],
   "source": [
    "#est_price value counts\n",
    "data_df['est_price'].value_counts()"
   ]
  },
  {
   "cell_type": "code",
   "execution_count": 14,
   "id": "b7dd8982",
   "metadata": {},
   "outputs": [
    {
     "data": {
      "text/plain": [
       "November 2021    66\n",
       "March 2021       63\n",
       "August 2021      63\n",
       "October 2020     61\n",
       "August 2020      61\n",
       "                 ..\n",
       "January 2017      8\n",
       "December 2009     3\n",
       "October 2009      1\n",
       "August 2009       1\n",
       "June 2009         1\n",
       "Name: review_date, Length: 156, dtype: int64"
      ]
     },
     "execution_count": 14,
     "metadata": {},
     "output_type": "execute_result"
    }
   ],
   "source": [
    "#review_date value counts\n",
    "data_df['review_date'].value_counts()"
   ]
  },
  {
   "cell_type": "code",
   "execution_count": 15,
   "id": "f4f65024",
   "metadata": {},
   "outputs": [
    {
     "data": {
      "text/plain": [
       "93    1191\n",
       "92     914\n",
       "94     873\n",
       "91     470\n",
       "95     414\n",
       "90     388\n",
       "89     129\n",
       "96     115\n",
       "88     104\n",
       "87      55\n",
       "97      28\n",
       "86      24\n",
       "85      17\n",
       "84      12\n",
       "83       7\n",
       "79       6\n",
       "77       4\n",
       "75       3\n",
       "73       3\n",
       "80       3\n",
       "98       3\n",
       "67       3\n",
       "68       2\n",
       "72       2\n",
       "78       2\n",
       "63       1\n",
       "82       1\n",
       "71       1\n",
       "74       1\n",
       "76       1\n",
       "66       1\n",
       "69       1\n",
       "Name: overall_score, dtype: int64"
      ]
     },
     "execution_count": 15,
     "metadata": {},
     "output_type": "execute_result"
    }
   ],
   "source": [
    "#overall_score value counts\n",
    "data_df['overall_score'].value_counts()"
   ]
  },
  {
   "cell_type": "code",
   "execution_count": 16,
   "id": "46559288",
   "metadata": {},
   "outputs": [
    {
     "data": {
      "text/plain": [
       "Aroma:                4743\n",
       "Acidity/Structure:      24\n",
       "Acidity:                12\n",
       "Name: h1, dtype: int64"
      ]
     },
     "execution_count": 16,
     "metadata": {},
     "output_type": "execute_result"
    }
   ],
   "source": [
    "#h1 value counts\n",
    "data_df['h1'].value_counts()"
   ]
  },
  {
   "cell_type": "code",
   "execution_count": 17,
   "id": "78f25bd1",
   "metadata": {},
   "outputs": [
    {
     "data": {
      "text/plain": [
       "9     3207\n",
       "8     1322\n",
       "7      121\n",
       "10      95\n",
       "6       15\n",
       "5        9\n",
       "4        5\n",
       "2        3\n",
       "3        2\n",
       "Name: s1, dtype: int64"
      ]
     },
     "execution_count": 17,
     "metadata": {},
     "output_type": "execute_result"
    }
   ],
   "source": [
    "#s1 value counts\n",
    "data_df['s1'].value_counts()"
   ]
  },
  {
   "cell_type": "code",
   "execution_count": 18,
   "id": "8f58a32e",
   "metadata": {},
   "outputs": [
    {
     "data": {
      "text/plain": [
       "Acidity:              2078\n",
       "Acidity/Structure:    1935\n",
       "Body:                  766\n",
       "Name: h2, dtype: int64"
      ]
     },
     "execution_count": 18,
     "metadata": {},
     "output_type": "execute_result"
    }
   ],
   "source": [
    "#h2 value counts\n",
    "data_df['h2'].value_counts()"
   ]
  },
  {
   "cell_type": "code",
   "execution_count": 19,
   "id": "2d91130b",
   "metadata": {},
   "outputs": [
    {
     "data": {
      "text/plain": [
       "8     2437\n",
       "9     1952\n",
       "7      327\n",
       "6       28\n",
       "10      15\n",
       "4        6\n",
       "3        5\n",
       "5        5\n",
       "1        2\n",
       "2        2\n",
       "Name: s2, dtype: int64"
      ]
     },
     "execution_count": 19,
     "metadata": {},
     "output_type": "execute_result"
    }
   ],
   "source": [
    "#s2 value counts\n",
    "data_df['s2'].value_counts()"
   ]
  },
  {
   "cell_type": "code",
   "execution_count": 20,
   "id": "6e89a78a",
   "metadata": {},
   "outputs": [
    {
     "data": {
      "text/plain": [
       "Body:      4013\n",
       "Flavor:     766\n",
       "Name: h3, dtype: int64"
      ]
     },
     "execution_count": 20,
     "metadata": {},
     "output_type": "execute_result"
    }
   ],
   "source": [
    "#h3 value counts\n",
    "data_df['h3'].value_counts()"
   ]
  },
  {
   "cell_type": "code",
   "execution_count": 21,
   "id": "c6eaa0bc",
   "metadata": {},
   "outputs": [
    {
     "data": {
      "text/plain": [
       "9     2436\n",
       "8     2165\n",
       "7      143\n",
       "6       18\n",
       "10      15\n",
       "5        2\n",
       "Name: s3, dtype: int64"
      ]
     },
     "execution_count": 21,
     "metadata": {},
     "output_type": "execute_result"
    }
   ],
   "source": [
    "#s3 value counts\n",
    "data_df['s3'].value_counts()"
   ]
  },
  {
   "cell_type": "code",
   "execution_count": 22,
   "id": "a1a2b624",
   "metadata": {},
   "outputs": [
    {
     "data": {
      "text/plain": [
       "Flavor:        4013\n",
       "Aftertaste:     766\n",
       "Name: h4, dtype: int64"
      ]
     },
     "execution_count": 22,
     "metadata": {},
     "output_type": "execute_result"
    }
   ],
   "source": [
    "#h4 value counts\n",
    "data_df['h4'].value_counts()"
   ]
  },
  {
   "cell_type": "code",
   "execution_count": 23,
   "id": "c06c81b8",
   "metadata": {},
   "outputs": [
    {
     "data": {
      "text/plain": [
       "9     3278\n",
       "8     1085\n",
       "10     213\n",
       "7      164\n",
       "6       11\n",
       "5        9\n",
       "3        8\n",
       "4        8\n",
       "2        2\n",
       "1        1\n",
       "Name: s4, dtype: int64"
      ]
     },
     "execution_count": 23,
     "metadata": {},
     "output_type": "execute_result"
    }
   ],
   "source": [
    "#s4 value counts\n",
    "data_df['s4'].value_counts()"
   ]
  },
  {
   "cell_type": "code",
   "execution_count": 24,
   "id": "2484d712",
   "metadata": {},
   "outputs": [
    {
     "data": {
      "text/plain": [
       "Aftertaste:    4013\n",
       "With Milk:      766\n",
       "Name: h5, dtype: int64"
      ]
     },
     "execution_count": 24,
     "metadata": {},
     "output_type": "execute_result"
    }
   ],
   "source": [
    "#h5 value counts\n",
    "data_df['h5'].value_counts()"
   ]
  },
  {
   "cell_type": "code",
   "execution_count": 25,
   "id": "d71c8682",
   "metadata": {},
   "outputs": [
    {
     "data": {
      "text/plain": [
       "8     2975\n",
       "9     1220\n",
       "7      494\n",
       "10      31\n",
       "6       29\n",
       "5       12\n",
       "4       10\n",
       "3        6\n",
       "2        2\n",
       "Name: s5, dtype: int64"
      ]
     },
     "execution_count": 25,
     "metadata": {},
     "output_type": "execute_result"
    }
   ],
   "source": [
    "#s5 value counts\n",
    "data_df['s5'].value_counts()"
   ]
  },
  {
   "cell_type": "markdown",
   "id": "fb0e392b",
   "metadata": {},
   "source": [
    "## Cleaning Data\n",
    "\n",
    "Cleaning steps for this notebook:\n",
    "- Separate `agtron` score in two columns. The first number refers to `bean_agtron` and the second to`ground_agtron`; these scores measure the roast level in these two forms.\n",
    "- Update non NLP features to numerical values datatypes, particularly integer where appropriate.\n",
    "- To get all values, scraped the value header and value. Some of these are in the incorrect columns. Sort these out so that the headers currently listed as values become column headers, and corresponding scores are in the correct column.\n",
    "- Replace location data with lat and lon.\n",
    "- Separate review date into two numerical columns for month and year.\n",
    "\n",
    "Note: In hindsight, it would have been more efficient to sort out the jumbled column values for both datasets first, and then clean aspects like data type. However, much of the cleaning was done on each dataframe instead before they were combined."
   ]
  },
  {
   "cell_type": "markdown",
   "id": "805c4e8a",
   "metadata": {},
   "source": [
    "### Splitting agtron into two columns, one for whole bean score and one for ground score\n",
    "\n",
    "- The first number refers to the bean agtron score\n",
    "- The second number refers to the ground agtron score"
   ]
  },
  {
   "cell_type": "code",
   "execution_count": 26,
   "id": "55500db8",
   "metadata": {},
   "outputs": [],
   "source": [
    "#split agtron into 2 columns\n",
    "data_df[['bean_agtron','ground_agtron']] = data_df['agtron'].str.split(\"/\",expand=True)"
   ]
  },
  {
   "cell_type": "code",
   "execution_count": 27,
   "id": "93b15ddc",
   "metadata": {},
   "outputs": [
    {
     "data": {
      "text/html": [
       "<div>\n",
       "<style scoped>\n",
       "    .dataframe tbody tr th:only-of-type {\n",
       "        vertical-align: middle;\n",
       "    }\n",
       "\n",
       "    .dataframe tbody tr th {\n",
       "        vertical-align: top;\n",
       "    }\n",
       "\n",
       "    .dataframe thead th {\n",
       "        text-align: right;\n",
       "    }\n",
       "</style>\n",
       "<table border=\"1\" class=\"dataframe\">\n",
       "  <thead>\n",
       "    <tr style=\"text-align: right;\">\n",
       "      <th></th>\n",
       "      <th>coffee_name</th>\n",
       "      <th>roaster_name</th>\n",
       "      <th>roaster_location</th>\n",
       "      <th>coffee_origin</th>\n",
       "      <th>roast_level</th>\n",
       "      <th>agtron</th>\n",
       "      <th>est_price</th>\n",
       "      <th>review_date</th>\n",
       "      <th>overall_score</th>\n",
       "      <th>h1</th>\n",
       "      <th>...</th>\n",
       "      <th>s3</th>\n",
       "      <th>h4</th>\n",
       "      <th>s4</th>\n",
       "      <th>h5</th>\n",
       "      <th>s5</th>\n",
       "      <th>p1</th>\n",
       "      <th>p2</th>\n",
       "      <th>p3</th>\n",
       "      <th>bean_agtron</th>\n",
       "      <th>ground_agtron</th>\n",
       "    </tr>\n",
       "  </thead>\n",
       "  <tbody>\n",
       "    <tr>\n",
       "      <th>0</th>\n",
       "      <td>Colombia Cerro Azul Enano</td>\n",
       "      <td>Equator Coffees</td>\n",
       "      <td>San Rafael, California</td>\n",
       "      <td>Trujillo, Valle del Cauca Department, Colombia</td>\n",
       "      <td>Medium-Light</td>\n",
       "      <td>60/77</td>\n",
       "      <td>$26.00/12 ounces</td>\n",
       "      <td>October 2022</td>\n",
       "      <td>94</td>\n",
       "      <td>Aroma:</td>\n",
       "      <td>...</td>\n",
       "      <td>9</td>\n",
       "      <td>Flavor:</td>\n",
       "      <td>9</td>\n",
       "      <td>Aftertaste:</td>\n",
       "      <td>8</td>\n",
       "      <td>Blind Assessment: Elegantly fruit- and cocoa-t...</td>\n",
       "      <td>Notes: Produced at Finca Cerro Azul (also owne...</td>\n",
       "      <td>The Bottom Line:  This rare Enano (dwarf Geish...</td>\n",
       "      <td>60</td>\n",
       "      <td>77</td>\n",
       "    </tr>\n",
       "    <tr>\n",
       "      <th>1</th>\n",
       "      <td>Peru Incahuasi</td>\n",
       "      <td>Press Coffee</td>\n",
       "      <td>Phoenix, Arizona</td>\n",
       "      <td>Cusco Region, Peru</td>\n",
       "      <td>Medium-Light</td>\n",
       "      <td>58/78</td>\n",
       "      <td>$26.00/12 ounces</td>\n",
       "      <td>October 2022</td>\n",
       "      <td>94</td>\n",
       "      <td>Aroma:</td>\n",
       "      <td>...</td>\n",
       "      <td>9</td>\n",
       "      <td>Flavor:</td>\n",
       "      <td>9</td>\n",
       "      <td>Aftertaste:</td>\n",
       "      <td>8</td>\n",
       "      <td>Blind Assessment: Gently fruit-toned, integrat...</td>\n",
       "      <td>Notes: Produced at Incahuasi Farm from trees o...</td>\n",
       "      <td>The Bottom Line: Laden with tropical fruit not...</td>\n",
       "      <td>58</td>\n",
       "      <td>78</td>\n",
       "    </tr>\n",
       "    <tr>\n",
       "      <th>2</th>\n",
       "      <td>Colombia Aponte’s Guardians</td>\n",
       "      <td>Press Coffee</td>\n",
       "      <td>Phoenix, Arizona</td>\n",
       "      <td>Nariño Department, Colombia</td>\n",
       "      <td>Medium-Light</td>\n",
       "      <td>59/77</td>\n",
       "      <td>$19.00/12 ounces</td>\n",
       "      <td>October 2022</td>\n",
       "      <td>93</td>\n",
       "      <td>Aroma:</td>\n",
       "      <td>...</td>\n",
       "      <td>8</td>\n",
       "      <td>Flavor:</td>\n",
       "      <td>9</td>\n",
       "      <td>Aftertaste:</td>\n",
       "      <td>8</td>\n",
       "      <td>Blind Assessment: Richly sweet, spice-toned. L...</td>\n",
       "      <td>Notes: Produced at Aponte Farm from an undiscl...</td>\n",
       "      <td>The Bottom Line: A balanced, inviting washed C...</td>\n",
       "      <td>59</td>\n",
       "      <td>77</td>\n",
       "    </tr>\n",
       "    <tr>\n",
       "      <th>3</th>\n",
       "      <td>Nicaragua Flor de Dalia Natural</td>\n",
       "      <td>Equator Coffees</td>\n",
       "      <td>San Rafael, California</td>\n",
       "      <td>La Dalia, Matagalpa Department, northern Nicar...</td>\n",
       "      <td>Medium-Light</td>\n",
       "      <td>62/78</td>\n",
       "      <td>$18.00/12 ounces</td>\n",
       "      <td>October 2022</td>\n",
       "      <td>92</td>\n",
       "      <td>Aroma:</td>\n",
       "      <td>...</td>\n",
       "      <td>9</td>\n",
       "      <td>Flavor:</td>\n",
       "      <td>9</td>\n",
       "      <td>Aftertaste:</td>\n",
       "      <td>8</td>\n",
       "      <td>Blind Assessment: Gently fruit-forward, sweetl...</td>\n",
       "      <td>Notes: Produced by smallholding members of the...</td>\n",
       "      <td>The Bottom Line: A refreshing, very sweet natu...</td>\n",
       "      <td>62</td>\n",
       "      <td>78</td>\n",
       "    </tr>\n",
       "    <tr>\n",
       "      <th>4</th>\n",
       "      <td>Ethiopia Bench Maji Geisha G1 Natural</td>\n",
       "      <td>Taster's Coffee</td>\n",
       "      <td>New Taipei City, Taiwan</td>\n",
       "      <td>Bench-Maji Zone, southern Ethiopia</td>\n",
       "      <td>Light</td>\n",
       "      <td>65/81</td>\n",
       "      <td>NT $520/227 grams</td>\n",
       "      <td>October 2022</td>\n",
       "      <td>93</td>\n",
       "      <td>Aroma:</td>\n",
       "      <td>...</td>\n",
       "      <td>8</td>\n",
       "      <td>Flavor:</td>\n",
       "      <td>9</td>\n",
       "      <td>Aftertaste:</td>\n",
       "      <td>8</td>\n",
       "      <td>Blind Assessment: Gently sweet-tart, floral-to...</td>\n",
       "      <td>Notes: Produced from trees of the admired bota...</td>\n",
       "      <td>The Bottom Line: A quietly confident natural-p...</td>\n",
       "      <td>65</td>\n",
       "      <td>81</td>\n",
       "    </tr>\n",
       "  </tbody>\n",
       "</table>\n",
       "<p>5 rows × 24 columns</p>\n",
       "</div>"
      ],
      "text/plain": [
       "                             coffee_name     roaster_name  \\\n",
       "0              Colombia Cerro Azul Enano  Equator Coffees   \n",
       "1                         Peru Incahuasi     Press Coffee   \n",
       "2            Colombia Aponte’s Guardians     Press Coffee   \n",
       "3        Nicaragua Flor de Dalia Natural  Equator Coffees   \n",
       "4  Ethiopia Bench Maji Geisha G1 Natural  Taster's Coffee   \n",
       "\n",
       "          roaster_location                                      coffee_origin  \\\n",
       "0   San Rafael, California     Trujillo, Valle del Cauca Department, Colombia   \n",
       "1         Phoenix, Arizona                                 Cusco Region, Peru   \n",
       "2         Phoenix, Arizona                        Nariño Department, Colombia   \n",
       "3   San Rafael, California  La Dalia, Matagalpa Department, northern Nicar...   \n",
       "4  New Taipei City, Taiwan                 Bench-Maji Zone, southern Ethiopia   \n",
       "\n",
       "    roast_level agtron          est_price   review_date  overall_score  \\\n",
       "0  Medium-Light  60/77   $26.00/12 ounces  October 2022             94   \n",
       "1  Medium-Light  58/78   $26.00/12 ounces  October 2022             94   \n",
       "2  Medium-Light  59/77   $19.00/12 ounces  October 2022             93   \n",
       "3  Medium-Light  62/78   $18.00/12 ounces  October 2022             92   \n",
       "4         Light  65/81  NT $520/227 grams  October 2022             93   \n",
       "\n",
       "       h1  ...  s3       h4  s4           h5  s5  \\\n",
       "0  Aroma:  ...   9  Flavor:   9  Aftertaste:   8   \n",
       "1  Aroma:  ...   9  Flavor:   9  Aftertaste:   8   \n",
       "2  Aroma:  ...   8  Flavor:   9  Aftertaste:   8   \n",
       "3  Aroma:  ...   9  Flavor:   9  Aftertaste:   8   \n",
       "4  Aroma:  ...   8  Flavor:   9  Aftertaste:   8   \n",
       "\n",
       "                                                  p1  \\\n",
       "0  Blind Assessment: Elegantly fruit- and cocoa-t...   \n",
       "1  Blind Assessment: Gently fruit-toned, integrat...   \n",
       "2  Blind Assessment: Richly sweet, spice-toned. L...   \n",
       "3  Blind Assessment: Gently fruit-forward, sweetl...   \n",
       "4  Blind Assessment: Gently sweet-tart, floral-to...   \n",
       "\n",
       "                                                  p2  \\\n",
       "0  Notes: Produced at Finca Cerro Azul (also owne...   \n",
       "1  Notes: Produced at Incahuasi Farm from trees o...   \n",
       "2  Notes: Produced at Aponte Farm from an undiscl...   \n",
       "3  Notes: Produced by smallholding members of the...   \n",
       "4  Notes: Produced from trees of the admired bota...   \n",
       "\n",
       "                                                  p3  bean_agtron  \\\n",
       "0  The Bottom Line:  This rare Enano (dwarf Geish...           60   \n",
       "1  The Bottom Line: Laden with tropical fruit not...           58   \n",
       "2  The Bottom Line: A balanced, inviting washed C...           59   \n",
       "3  The Bottom Line: A refreshing, very sweet natu...           62   \n",
       "4  The Bottom Line: A quietly confident natural-p...           65   \n",
       "\n",
       "  ground_agtron  \n",
       "0            77  \n",
       "1            78  \n",
       "2            77  \n",
       "3            78  \n",
       "4            81  \n",
       "\n",
       "[5 rows x 24 columns]"
      ]
     },
     "execution_count": 27,
     "metadata": {},
     "output_type": "execute_result"
    }
   ],
   "source": [
    "#verify split\n",
    "data_df.head()"
   ]
  },
  {
   "cell_type": "code",
   "execution_count": 28,
   "id": "c489de08",
   "metadata": {},
   "outputs": [],
   "source": [
    "#drop unneeded agtron column\n",
    "data_df.drop('agtron', axis=1, inplace=True)"
   ]
  },
  {
   "cell_type": "code",
   "execution_count": 29,
   "id": "8404a3ff",
   "metadata": {},
   "outputs": [
    {
     "data": {
      "text/html": [
       "<div>\n",
       "<style scoped>\n",
       "    .dataframe tbody tr th:only-of-type {\n",
       "        vertical-align: middle;\n",
       "    }\n",
       "\n",
       "    .dataframe tbody tr th {\n",
       "        vertical-align: top;\n",
       "    }\n",
       "\n",
       "    .dataframe thead th {\n",
       "        text-align: right;\n",
       "    }\n",
       "</style>\n",
       "<table border=\"1\" class=\"dataframe\">\n",
       "  <thead>\n",
       "    <tr style=\"text-align: right;\">\n",
       "      <th></th>\n",
       "      <th>coffee_name</th>\n",
       "      <th>roaster_name</th>\n",
       "      <th>roaster_location</th>\n",
       "      <th>coffee_origin</th>\n",
       "      <th>roast_level</th>\n",
       "      <th>est_price</th>\n",
       "      <th>review_date</th>\n",
       "      <th>overall_score</th>\n",
       "      <th>h1</th>\n",
       "      <th>s1</th>\n",
       "      <th>...</th>\n",
       "      <th>s3</th>\n",
       "      <th>h4</th>\n",
       "      <th>s4</th>\n",
       "      <th>h5</th>\n",
       "      <th>s5</th>\n",
       "      <th>p1</th>\n",
       "      <th>p2</th>\n",
       "      <th>p3</th>\n",
       "      <th>bean_agtron</th>\n",
       "      <th>ground_agtron</th>\n",
       "    </tr>\n",
       "  </thead>\n",
       "  <tbody>\n",
       "    <tr>\n",
       "      <th>0</th>\n",
       "      <td>Colombia Cerro Azul Enano</td>\n",
       "      <td>Equator Coffees</td>\n",
       "      <td>San Rafael, California</td>\n",
       "      <td>Trujillo, Valle del Cauca Department, Colombia</td>\n",
       "      <td>Medium-Light</td>\n",
       "      <td>$26.00/12 ounces</td>\n",
       "      <td>October 2022</td>\n",
       "      <td>94</td>\n",
       "      <td>Aroma:</td>\n",
       "      <td>9</td>\n",
       "      <td>...</td>\n",
       "      <td>9</td>\n",
       "      <td>Flavor:</td>\n",
       "      <td>9</td>\n",
       "      <td>Aftertaste:</td>\n",
       "      <td>8</td>\n",
       "      <td>Blind Assessment: Elegantly fruit- and cocoa-t...</td>\n",
       "      <td>Notes: Produced at Finca Cerro Azul (also owne...</td>\n",
       "      <td>The Bottom Line:  This rare Enano (dwarf Geish...</td>\n",
       "      <td>60</td>\n",
       "      <td>77</td>\n",
       "    </tr>\n",
       "    <tr>\n",
       "      <th>1</th>\n",
       "      <td>Peru Incahuasi</td>\n",
       "      <td>Press Coffee</td>\n",
       "      <td>Phoenix, Arizona</td>\n",
       "      <td>Cusco Region, Peru</td>\n",
       "      <td>Medium-Light</td>\n",
       "      <td>$26.00/12 ounces</td>\n",
       "      <td>October 2022</td>\n",
       "      <td>94</td>\n",
       "      <td>Aroma:</td>\n",
       "      <td>9</td>\n",
       "      <td>...</td>\n",
       "      <td>9</td>\n",
       "      <td>Flavor:</td>\n",
       "      <td>9</td>\n",
       "      <td>Aftertaste:</td>\n",
       "      <td>8</td>\n",
       "      <td>Blind Assessment: Gently fruit-toned, integrat...</td>\n",
       "      <td>Notes: Produced at Incahuasi Farm from trees o...</td>\n",
       "      <td>The Bottom Line: Laden with tropical fruit not...</td>\n",
       "      <td>58</td>\n",
       "      <td>78</td>\n",
       "    </tr>\n",
       "    <tr>\n",
       "      <th>2</th>\n",
       "      <td>Colombia Aponte’s Guardians</td>\n",
       "      <td>Press Coffee</td>\n",
       "      <td>Phoenix, Arizona</td>\n",
       "      <td>Nariño Department, Colombia</td>\n",
       "      <td>Medium-Light</td>\n",
       "      <td>$19.00/12 ounces</td>\n",
       "      <td>October 2022</td>\n",
       "      <td>93</td>\n",
       "      <td>Aroma:</td>\n",
       "      <td>9</td>\n",
       "      <td>...</td>\n",
       "      <td>8</td>\n",
       "      <td>Flavor:</td>\n",
       "      <td>9</td>\n",
       "      <td>Aftertaste:</td>\n",
       "      <td>8</td>\n",
       "      <td>Blind Assessment: Richly sweet, spice-toned. L...</td>\n",
       "      <td>Notes: Produced at Aponte Farm from an undiscl...</td>\n",
       "      <td>The Bottom Line: A balanced, inviting washed C...</td>\n",
       "      <td>59</td>\n",
       "      <td>77</td>\n",
       "    </tr>\n",
       "    <tr>\n",
       "      <th>3</th>\n",
       "      <td>Nicaragua Flor de Dalia Natural</td>\n",
       "      <td>Equator Coffees</td>\n",
       "      <td>San Rafael, California</td>\n",
       "      <td>La Dalia, Matagalpa Department, northern Nicar...</td>\n",
       "      <td>Medium-Light</td>\n",
       "      <td>$18.00/12 ounces</td>\n",
       "      <td>October 2022</td>\n",
       "      <td>92</td>\n",
       "      <td>Aroma:</td>\n",
       "      <td>8</td>\n",
       "      <td>...</td>\n",
       "      <td>9</td>\n",
       "      <td>Flavor:</td>\n",
       "      <td>9</td>\n",
       "      <td>Aftertaste:</td>\n",
       "      <td>8</td>\n",
       "      <td>Blind Assessment: Gently fruit-forward, sweetl...</td>\n",
       "      <td>Notes: Produced by smallholding members of the...</td>\n",
       "      <td>The Bottom Line: A refreshing, very sweet natu...</td>\n",
       "      <td>62</td>\n",
       "      <td>78</td>\n",
       "    </tr>\n",
       "    <tr>\n",
       "      <th>4</th>\n",
       "      <td>Ethiopia Bench Maji Geisha G1 Natural</td>\n",
       "      <td>Taster's Coffee</td>\n",
       "      <td>New Taipei City, Taiwan</td>\n",
       "      <td>Bench-Maji Zone, southern Ethiopia</td>\n",
       "      <td>Light</td>\n",
       "      <td>NT $520/227 grams</td>\n",
       "      <td>October 2022</td>\n",
       "      <td>93</td>\n",
       "      <td>Aroma:</td>\n",
       "      <td>9</td>\n",
       "      <td>...</td>\n",
       "      <td>8</td>\n",
       "      <td>Flavor:</td>\n",
       "      <td>9</td>\n",
       "      <td>Aftertaste:</td>\n",
       "      <td>8</td>\n",
       "      <td>Blind Assessment: Gently sweet-tart, floral-to...</td>\n",
       "      <td>Notes: Produced from trees of the admired bota...</td>\n",
       "      <td>The Bottom Line: A quietly confident natural-p...</td>\n",
       "      <td>65</td>\n",
       "      <td>81</td>\n",
       "    </tr>\n",
       "  </tbody>\n",
       "</table>\n",
       "<p>5 rows × 23 columns</p>\n",
       "</div>"
      ],
      "text/plain": [
       "                             coffee_name     roaster_name  \\\n",
       "0              Colombia Cerro Azul Enano  Equator Coffees   \n",
       "1                         Peru Incahuasi     Press Coffee   \n",
       "2            Colombia Aponte’s Guardians     Press Coffee   \n",
       "3        Nicaragua Flor de Dalia Natural  Equator Coffees   \n",
       "4  Ethiopia Bench Maji Geisha G1 Natural  Taster's Coffee   \n",
       "\n",
       "          roaster_location                                      coffee_origin  \\\n",
       "0   San Rafael, California     Trujillo, Valle del Cauca Department, Colombia   \n",
       "1         Phoenix, Arizona                                 Cusco Region, Peru   \n",
       "2         Phoenix, Arizona                        Nariño Department, Colombia   \n",
       "3   San Rafael, California  La Dalia, Matagalpa Department, northern Nicar...   \n",
       "4  New Taipei City, Taiwan                 Bench-Maji Zone, southern Ethiopia   \n",
       "\n",
       "    roast_level          est_price   review_date  overall_score      h1  s1  \\\n",
       "0  Medium-Light   $26.00/12 ounces  October 2022             94  Aroma:   9   \n",
       "1  Medium-Light   $26.00/12 ounces  October 2022             94  Aroma:   9   \n",
       "2  Medium-Light   $19.00/12 ounces  October 2022             93  Aroma:   9   \n",
       "3  Medium-Light   $18.00/12 ounces  October 2022             92  Aroma:   8   \n",
       "4         Light  NT $520/227 grams  October 2022             93  Aroma:   9   \n",
       "\n",
       "   ... s3       h4 s4           h5 s5  \\\n",
       "0  ...  9  Flavor:  9  Aftertaste:  8   \n",
       "1  ...  9  Flavor:  9  Aftertaste:  8   \n",
       "2  ...  8  Flavor:  9  Aftertaste:  8   \n",
       "3  ...  9  Flavor:  9  Aftertaste:  8   \n",
       "4  ...  8  Flavor:  9  Aftertaste:  8   \n",
       "\n",
       "                                                  p1  \\\n",
       "0  Blind Assessment: Elegantly fruit- and cocoa-t...   \n",
       "1  Blind Assessment: Gently fruit-toned, integrat...   \n",
       "2  Blind Assessment: Richly sweet, spice-toned. L...   \n",
       "3  Blind Assessment: Gently fruit-forward, sweetl...   \n",
       "4  Blind Assessment: Gently sweet-tart, floral-to...   \n",
       "\n",
       "                                                  p2  \\\n",
       "0  Notes: Produced at Finca Cerro Azul (also owne...   \n",
       "1  Notes: Produced at Incahuasi Farm from trees o...   \n",
       "2  Notes: Produced at Aponte Farm from an undiscl...   \n",
       "3  Notes: Produced by smallholding members of the...   \n",
       "4  Notes: Produced from trees of the admired bota...   \n",
       "\n",
       "                                                  p3 bean_agtron ground_agtron  \n",
       "0  The Bottom Line:  This rare Enano (dwarf Geish...          60            77  \n",
       "1  The Bottom Line: Laden with tropical fruit not...          58            78  \n",
       "2  The Bottom Line: A balanced, inviting washed C...          59            77  \n",
       "3  The Bottom Line: A refreshing, very sweet natu...          62            78  \n",
       "4  The Bottom Line: A quietly confident natural-p...          65            81  \n",
       "\n",
       "[5 rows x 23 columns]"
      ]
     },
     "execution_count": 29,
     "metadata": {},
     "output_type": "execute_result"
    }
   ],
   "source": [
    "#checking drop\n",
    "data_df.head()"
   ]
  },
  {
   "cell_type": "code",
   "execution_count": 30,
   "id": "1af4e1c4",
   "metadata": {
    "scrolled": true
   },
   "outputs": [
    {
     "name": "stdout",
     "output_type": "stream",
     "text": [
      "<class 'pandas.core.frame.DataFrame'>\n",
      "RangeIndex: 4779 entries, 0 to 4778\n",
      "Data columns (total 23 columns):\n",
      " #   Column            Non-Null Count  Dtype \n",
      "---  ------            --------------  ----- \n",
      " 0   coffee_name       4779 non-null   object\n",
      " 1   roaster_name      4779 non-null   object\n",
      " 2   roaster_location  4779 non-null   object\n",
      " 3   coffee_origin     4779 non-null   object\n",
      " 4   roast_level       4705 non-null   object\n",
      " 5   est_price         4731 non-null   object\n",
      " 6   review_date       4779 non-null   object\n",
      " 7   overall_score     4779 non-null   int64 \n",
      " 8   h1                4779 non-null   object\n",
      " 9   s1                4779 non-null   int64 \n",
      " 10  h2                4779 non-null   object\n",
      " 11  s2                4779 non-null   int64 \n",
      " 12  h3                4779 non-null   object\n",
      " 13  s3                4779 non-null   int64 \n",
      " 14  h4                4779 non-null   object\n",
      " 15  s4                4779 non-null   int64 \n",
      " 16  h5                4779 non-null   object\n",
      " 17  s5                4779 non-null   int64 \n",
      " 18  p1                4779 non-null   object\n",
      " 19  p2                4779 non-null   object\n",
      " 20  p3                4773 non-null   object\n",
      " 21  bean_agtron       4779 non-null   object\n",
      " 22  ground_agtron     4779 non-null   object\n",
      "dtypes: int64(6), object(17)\n",
      "memory usage: 858.9+ KB\n"
     ]
    }
   ],
   "source": [
    "#checking data types for agtron scores\n",
    "data_df.info()"
   ]
  },
  {
   "cell_type": "markdown",
   "id": "0ca66331",
   "metadata": {},
   "source": [
    "### Turning new agtron columns into numerical values"
   ]
  },
  {
   "cell_type": "code",
   "execution_count": 31,
   "id": "cce28326",
   "metadata": {},
   "outputs": [
    {
     "data": {
      "text/plain": [
       "array(['60', '58', '59', '62', '65', '46', '57', '56', '48', '64', '52',\n",
       "       '61', '54', '45', '76', '68', '51', '55', '63', '44', '47', '50',\n",
       "       '0', '75', '40', '38', '32', '34', '53', '49', '42', '66', '36',\n",
       "       '35', '39', '82', '74', '85', '79', '5252', '547', '555', '67',\n",
       "       '43', '41', '31', '69', 'NA', '37', '', '71', '70', '86', '78',\n",
       "       '72', '81', '73', '33', '21', '20', '25', '29', '27', '22'],\n",
       "      dtype=object)"
      ]
     },
     "execution_count": 31,
     "metadata": {},
     "output_type": "execute_result"
    }
   ],
   "source": [
    "#checking values to see which need updated to allow switch to integer\n",
    "data_df['bean_agtron'].unique()"
   ]
  },
  {
   "cell_type": "code",
   "execution_count": 32,
   "id": "4f461c46",
   "metadata": {},
   "outputs": [],
   "source": [
    "#turning NA into nans\n",
    "data_df['bean_agtron'].replace('NA', np.nan, inplace=True)"
   ]
  },
  {
   "cell_type": "code",
   "execution_count": 33,
   "id": "f087b728",
   "metadata": {},
   "outputs": [],
   "source": [
    "#turning blank into nans\n",
    "data_df['bean_agtron'].replace('', np.nan, inplace=True)"
   ]
  },
  {
   "cell_type": "code",
   "execution_count": 34,
   "id": "c9a2e7b9",
   "metadata": {},
   "outputs": [],
   "source": [
    "#converting to integer\n",
    "data_df['bean_agtron'] = data_df['bean_agtron'].astype('Int8')"
   ]
  },
  {
   "cell_type": "code",
   "execution_count": 35,
   "id": "da70c176",
   "metadata": {},
   "outputs": [
    {
     "data": {
      "text/plain": [
       "array(['77', '78', '81', '74', '82', '72', '67', '84', '86', '70', '80',\n",
       "       '79', '76', '69', '66', '85', '92', '71', '88', '87', '75', '60',\n",
       "       '61', '73', '0', '64', '62', '93', '58', '54', '50', '52', '56',\n",
       "       '53', '44', '68', '65', '57', '83', '48', '63', '59', '104', '94',\n",
       "       '105', '90', '96', '55', '46', '49', 'NA', '45', '', '91', '37',\n",
       "       '99', '97', '89', '38', '51', '47', '40', '95', '98', '29', '34',\n",
       "       '41', '43', '102', '39', '101', '42', '33', '36', '28', '30', '31',\n",
       "       '32', '26', '18'], dtype=object)"
      ]
     },
     "execution_count": 35,
     "metadata": {},
     "output_type": "execute_result"
    }
   ],
   "source": [
    "#checking values to see which need updated to allow switch to integer\n",
    "data_df['ground_agtron'].unique()"
   ]
  },
  {
   "cell_type": "code",
   "execution_count": 36,
   "id": "584e8934",
   "metadata": {},
   "outputs": [],
   "source": [
    "#turning NA into nans\n",
    "data_df['ground_agtron'].replace('NA', np.nan, inplace=True)"
   ]
  },
  {
   "cell_type": "code",
   "execution_count": 37,
   "id": "8f9050c4",
   "metadata": {},
   "outputs": [],
   "source": [
    "#turning blank into nans\n",
    "data_df['ground_agtron'].replace('', np.nan, inplace=True)"
   ]
  },
  {
   "cell_type": "code",
   "execution_count": 38,
   "id": "2465a975",
   "metadata": {},
   "outputs": [],
   "source": [
    "#converting to integer\n",
    "data_df['ground_agtron'] = data_df['ground_agtron'].astype('Int8')"
   ]
  },
  {
   "cell_type": "code",
   "execution_count": 39,
   "id": "eaeb9934",
   "metadata": {
    "scrolled": true
   },
   "outputs": [
    {
     "name": "stdout",
     "output_type": "stream",
     "text": [
      "<class 'pandas.core.frame.DataFrame'>\n",
      "RangeIndex: 4779 entries, 0 to 4778\n",
      "Data columns (total 23 columns):\n",
      " #   Column            Non-Null Count  Dtype \n",
      "---  ------            --------------  ----- \n",
      " 0   coffee_name       4779 non-null   object\n",
      " 1   roaster_name      4779 non-null   object\n",
      " 2   roaster_location  4779 non-null   object\n",
      " 3   coffee_origin     4779 non-null   object\n",
      " 4   roast_level       4705 non-null   object\n",
      " 5   est_price         4731 non-null   object\n",
      " 6   review_date       4779 non-null   object\n",
      " 7   overall_score     4779 non-null   int64 \n",
      " 8   h1                4779 non-null   object\n",
      " 9   s1                4779 non-null   int64 \n",
      " 10  h2                4779 non-null   object\n",
      " 11  s2                4779 non-null   int64 \n",
      " 12  h3                4779 non-null   object\n",
      " 13  s3                4779 non-null   int64 \n",
      " 14  h4                4779 non-null   object\n",
      " 15  s4                4779 non-null   int64 \n",
      " 16  h5                4779 non-null   object\n",
      " 17  s5                4779 non-null   int64 \n",
      " 18  p1                4779 non-null   object\n",
      " 19  p2                4779 non-null   object\n",
      " 20  p3                4773 non-null   object\n",
      " 21  bean_agtron       4742 non-null   Int8  \n",
      " 22  ground_agtron     4743 non-null   Int8  \n",
      "dtypes: Int8(2), int64(6), object(15)\n",
      "memory usage: 802.8+ KB\n"
     ]
    }
   ],
   "source": [
    "#verifying data type updates\n",
    "data_df.info()"
   ]
  },
  {
   "cell_type": "markdown",
   "id": "09581b1e",
   "metadata": {},
   "source": [
    "### Turn Roast_Level to Ordinal Values\n",
    "\n",
    "Turning roast level to integers, ranging from 1-6, from Light to Very Dark."
   ]
  },
  {
   "cell_type": "code",
   "execution_count": 40,
   "id": "93b41fef",
   "metadata": {},
   "outputs": [
    {
     "data": {
      "text/plain": [
       "array(['Medium-Light', 'Light', 'Medium', nan, 'Medium-Dark', 'Dark',\n",
       "       'Very Dark'], dtype=object)"
      ]
     },
     "execution_count": 40,
     "metadata": {},
     "output_type": "execute_result"
    }
   ],
   "source": [
    "#checking value options\n",
    "data_df['roast_level'].unique()"
   ]
  },
  {
   "cell_type": "code",
   "execution_count": 41,
   "id": "4646d199",
   "metadata": {},
   "outputs": [],
   "source": [
    "#mapping values to numbers\n",
    "roast_mapper = {'Light':1, 'Medium-Light':2, 'Medium':3, 'Medium-Dark':4, 'Dark':5, 'Very Dark':6}"
   ]
  },
  {
   "cell_type": "code",
   "execution_count": 42,
   "id": "f41e623b",
   "metadata": {},
   "outputs": [],
   "source": [
    "#updating values\n",
    "data_df['roast_level'] = data_df['roast_level'].replace(roast_mapper)"
   ]
  },
  {
   "cell_type": "code",
   "execution_count": 43,
   "id": "2bbd14fd",
   "metadata": {},
   "outputs": [],
   "source": [
    "#changing to integers\n",
    "data_df['roast_level'] = data_df['roast_level'].astype('Int8')"
   ]
  },
  {
   "cell_type": "code",
   "execution_count": 44,
   "id": "f1d01d6a",
   "metadata": {},
   "outputs": [
    {
     "data": {
      "text/html": [
       "<div>\n",
       "<style scoped>\n",
       "    .dataframe tbody tr th:only-of-type {\n",
       "        vertical-align: middle;\n",
       "    }\n",
       "\n",
       "    .dataframe tbody tr th {\n",
       "        vertical-align: top;\n",
       "    }\n",
       "\n",
       "    .dataframe thead th {\n",
       "        text-align: right;\n",
       "    }\n",
       "</style>\n",
       "<table border=\"1\" class=\"dataframe\">\n",
       "  <thead>\n",
       "    <tr style=\"text-align: right;\">\n",
       "      <th></th>\n",
       "      <th>coffee_name</th>\n",
       "      <th>roaster_name</th>\n",
       "      <th>roaster_location</th>\n",
       "      <th>coffee_origin</th>\n",
       "      <th>roast_level</th>\n",
       "      <th>est_price</th>\n",
       "      <th>review_date</th>\n",
       "      <th>overall_score</th>\n",
       "      <th>h1</th>\n",
       "      <th>s1</th>\n",
       "      <th>...</th>\n",
       "      <th>s3</th>\n",
       "      <th>h4</th>\n",
       "      <th>s4</th>\n",
       "      <th>h5</th>\n",
       "      <th>s5</th>\n",
       "      <th>p1</th>\n",
       "      <th>p2</th>\n",
       "      <th>p3</th>\n",
       "      <th>bean_agtron</th>\n",
       "      <th>ground_agtron</th>\n",
       "    </tr>\n",
       "  </thead>\n",
       "  <tbody>\n",
       "    <tr>\n",
       "      <th>1054</th>\n",
       "      <td>Tigesit Waqa</td>\n",
       "      <td>Bird Rock Coffee Roasters</td>\n",
       "      <td>San Diego, California</td>\n",
       "      <td>Yirgacheffe growing region, south-Central Ethi...</td>\n",
       "      <td>2</td>\n",
       "      <td>$20.00/12 ounces</td>\n",
       "      <td>November 2020</td>\n",
       "      <td>93</td>\n",
       "      <td>Aroma:</td>\n",
       "      <td>9</td>\n",
       "      <td>...</td>\n",
       "      <td>9</td>\n",
       "      <td>Flavor:</td>\n",
       "      <td>9</td>\n",
       "      <td>Aftertaste:</td>\n",
       "      <td>8</td>\n",
       "      <td>Blind Assessment: Richly fruit-forward, chocol...</td>\n",
       "      <td>Notes: Southern Ethiopia coffees like this one...</td>\n",
       "      <td>The Bottom Line: Concentrated, berry-driven na...</td>\n",
       "      <td>56</td>\n",
       "      <td>74</td>\n",
       "    </tr>\n",
       "    <tr>\n",
       "      <th>4306</th>\n",
       "      <td>Kenya Gichatha-Ini</td>\n",
       "      <td>Bird Rock Coffee Roasters</td>\n",
       "      <td>La Jolla, California</td>\n",
       "      <td>Central Province, Kenya.</td>\n",
       "      <td>3</td>\n",
       "      <td>$22.00/12 ounces</td>\n",
       "      <td>July 2011</td>\n",
       "      <td>92</td>\n",
       "      <td>Aroma:</td>\n",
       "      <td>9</td>\n",
       "      <td>...</td>\n",
       "      <td>9</td>\n",
       "      <td>Flavor:</td>\n",
       "      <td>8</td>\n",
       "      <td>Aftertaste:</td>\n",
       "      <td>8</td>\n",
       "      <td>Blind Assessment: Deep, rich, balanced. Pungen...</td>\n",
       "      <td>Notes: Produced mainly from trees of the admir...</td>\n",
       "      <td>Who Should Drink It: The pungent Kenya fruit i...</td>\n",
       "      <td>47</td>\n",
       "      <td>64</td>\n",
       "    </tr>\n",
       "    <tr>\n",
       "      <th>4109</th>\n",
       "      <td>House Blend (K-Cup)</td>\n",
       "      <td>Tully's Coffee</td>\n",
       "      <td>Seattle, Washington</td>\n",
       "      <td>Not disclosed.</td>\n",
       "      <td>6</td>\n",
       "      <td>$16.49/24 K-Cups</td>\n",
       "      <td>March 2012</td>\n",
       "      <td>87</td>\n",
       "      <td>Aroma:</td>\n",
       "      <td>7</td>\n",
       "      <td>...</td>\n",
       "      <td>8</td>\n",
       "      <td>Flavor:</td>\n",
       "      <td>8</td>\n",
       "      <td>Aftertaste:</td>\n",
       "      <td>7</td>\n",
       "      <td>Blind Assessment: (As brewed in a Keurig Plati...</td>\n",
       "      <td>Notes: Certified organically grown and Fair Tr...</td>\n",
       "      <td>Who Should Drink It: A very nicely balanced bl...</td>\n",
       "      <td>0</td>\n",
       "      <td>36</td>\n",
       "    </tr>\n",
       "    <tr>\n",
       "      <th>3738</th>\n",
       "      <td>Geisha P.E.B. (RFA)</td>\n",
       "      <td>The Coffee Academics</td>\n",
       "      <td>Hong Kong, China</td>\n",
       "      <td>Boquete growing region, western Panama</td>\n",
       "      <td>2</td>\n",
       "      <td>HK $588/100 grams</td>\n",
       "      <td>April 2013</td>\n",
       "      <td>94</td>\n",
       "      <td>Aroma:</td>\n",
       "      <td>9</td>\n",
       "      <td>...</td>\n",
       "      <td>8</td>\n",
       "      <td>Flavor:</td>\n",
       "      <td>9</td>\n",
       "      <td>Aftertaste:</td>\n",
       "      <td>9</td>\n",
       "      <td>Blind Assessment: Intensely and extravagantly ...</td>\n",
       "      <td>Notes: Produced from trees of the rare Ethiopi...</td>\n",
       "      <td>Who Should Drink It: An opportunity to sample ...</td>\n",
       "      <td>56</td>\n",
       "      <td>83</td>\n",
       "    </tr>\n",
       "    <tr>\n",
       "      <th>3447</th>\n",
       "      <td>Peaberry Reserve</td>\n",
       "      <td>Flight Coffee Co.</td>\n",
       "      <td>Bedford, New Hampshire</td>\n",
       "      <td>Brazil; Kenya; Tanzania.</td>\n",
       "      <td>3</td>\n",
       "      <td>$14.50/12 ounces</td>\n",
       "      <td>February 2014</td>\n",
       "      <td>92</td>\n",
       "      <td>Aroma:</td>\n",
       "      <td>9</td>\n",
       "      <td>...</td>\n",
       "      <td>8</td>\n",
       "      <td>Flavor:</td>\n",
       "      <td>9</td>\n",
       "      <td>Aftertaste:</td>\n",
       "      <td>8</td>\n",
       "      <td>Blind Assessment: Quietly balanced, complex. B...</td>\n",
       "      <td>Notes: This blend combines, with originality a...</td>\n",
       "      <td>Who Should Drink It: Those who enjoy white win...</td>\n",
       "      <td>50</td>\n",
       "      <td>70</td>\n",
       "    </tr>\n",
       "    <tr>\n",
       "      <th>2098</th>\n",
       "      <td>Bufcafe Rwanda Espresso</td>\n",
       "      <td>JBC Coffee Roasters</td>\n",
       "      <td>Madison, Wisconsin</td>\n",
       "      <td>Nyamagabe district, Southern Province, Rwanda</td>\n",
       "      <td>2</td>\n",
       "      <td>$17.25/12 ounces</td>\n",
       "      <td>January 2018</td>\n",
       "      <td>93</td>\n",
       "      <td>Aroma:</td>\n",
       "      <td>9</td>\n",
       "      <td>...</td>\n",
       "      <td>9</td>\n",
       "      <td>Aftertaste:</td>\n",
       "      <td>7</td>\n",
       "      <td>With Milk:</td>\n",
       "      <td>9</td>\n",
       "      <td>Blind Assessment: Evaluated as espresso. Delic...</td>\n",
       "      <td>Notes: Produced from trees of the heirloom Bou...</td>\n",
       "      <td>The Bottom Line: An unapologetically savory-sw...</td>\n",
       "      <td>54</td>\n",
       "      <td>78</td>\n",
       "    </tr>\n",
       "    <tr>\n",
       "      <th>2595</th>\n",
       "      <td>SFCC House Blend Espresso Capsule</td>\n",
       "      <td>Gourmesso</td>\n",
       "      <td>Berlin, Germany</td>\n",
       "      <td>Central America</td>\n",
       "      <td>6</td>\n",
       "      <td>$5.49/10 capsules</td>\n",
       "      <td>July 2016</td>\n",
       "      <td>87</td>\n",
       "      <td>Aroma:</td>\n",
       "      <td>7</td>\n",
       "      <td>...</td>\n",
       "      <td>8</td>\n",
       "      <td>Aftertaste:</td>\n",
       "      <td>7</td>\n",
       "      <td>With Milk:</td>\n",
       "      <td>7</td>\n",
       "      <td>Blind Assessment: Evaluated as espresso produc...</td>\n",
       "      <td>Notes: This coffee is Fair Trade certified, me...</td>\n",
       "      <td>The Bottom Line: A crisp, gentle espresso with...</td>\n",
       "      <td>0</td>\n",
       "      <td>58</td>\n",
       "    </tr>\n",
       "    <tr>\n",
       "      <th>581</th>\n",
       "      <td>Tanzania Ngila Estate</td>\n",
       "      <td>Big Shoulders Coffee</td>\n",
       "      <td>Chicago, Illinois</td>\n",
       "      <td>Ngila Estate, Ngorongoro Conservation Area, Ta...</td>\n",
       "      <td>2</td>\n",
       "      <td>$25.00/12 ounces</td>\n",
       "      <td>September 2021</td>\n",
       "      <td>93</td>\n",
       "      <td>Aroma:</td>\n",
       "      <td>9</td>\n",
       "      <td>...</td>\n",
       "      <td>9</td>\n",
       "      <td>Flavor:</td>\n",
       "      <td>9</td>\n",
       "      <td>Aftertaste:</td>\n",
       "      <td>8</td>\n",
       "      <td>Blind Assessment: Vibrantly sweet-savory. Red ...</td>\n",
       "      <td>Notes: Produced at Ngila Estate from trees of ...</td>\n",
       "      <td>The Bottom Line: A rich-toned, complex, nuance...</td>\n",
       "      <td>60</td>\n",
       "      <td>78</td>\n",
       "    </tr>\n",
       "    <tr>\n",
       "      <th>2932</th>\n",
       "      <td>Kenya AA Kigwandi Estate</td>\n",
       "      <td>Willoughby's Coffee &amp; Tea</td>\n",
       "      <td>Branford, Connecticut</td>\n",
       "      <td>Nyeri County, Central Highlands, Kenya.</td>\n",
       "      <td>2</td>\n",
       "      <td>$17.99/16 ounces</td>\n",
       "      <td>September 2015</td>\n",
       "      <td>95</td>\n",
       "      <td>Aroma:</td>\n",
       "      <td>9</td>\n",
       "      <td>...</td>\n",
       "      <td>9</td>\n",
       "      <td>Flavor:</td>\n",
       "      <td>9</td>\n",
       "      <td>Aftertaste:</td>\n",
       "      <td>9</td>\n",
       "      <td>Blind Assessment: Sweetly and deeply pungent. ...</td>\n",
       "      <td>Notes: This exceptional coffee was selected as...</td>\n",
       "      <td>Who Should Drink It: A splendid and very chara...</td>\n",
       "      <td>59</td>\n",
       "      <td>75</td>\n",
       "    </tr>\n",
       "    <tr>\n",
       "      <th>3849</th>\n",
       "      <td>El Salvador Finca Malacara B</td>\n",
       "      <td>Fratello Coffee Roasters</td>\n",
       "      <td>Calgary, Alberta, Canada</td>\n",
       "      <td>Volcan de Santa Ana regioin, El Salvador.</td>\n",
       "      <td>2</td>\n",
       "      <td>CAD $15.60/12 ounces</td>\n",
       "      <td>January 2013</td>\n",
       "      <td>90</td>\n",
       "      <td>Aroma:</td>\n",
       "      <td>7</td>\n",
       "      <td>...</td>\n",
       "      <td>8</td>\n",
       "      <td>Flavor:</td>\n",
       "      <td>9</td>\n",
       "      <td>Aftertaste:</td>\n",
       "      <td>8</td>\n",
       "      <td>Blind Assessment: Soft, round, deep. Caramel, ...</td>\n",
       "      <td>Notes: Produced entirely from trees of the hei...</td>\n",
       "      <td>Who Should Drink It: Those who prefer quiet de...</td>\n",
       "      <td>61</td>\n",
       "      <td>75</td>\n",
       "    </tr>\n",
       "  </tbody>\n",
       "</table>\n",
       "<p>10 rows × 23 columns</p>\n",
       "</div>"
      ],
      "text/plain": [
       "                            coffee_name               roaster_name  \\\n",
       "1054                       Tigesit Waqa  Bird Rock Coffee Roasters   \n",
       "4306                 Kenya Gichatha-Ini  Bird Rock Coffee Roasters   \n",
       "4109                House Blend (K-Cup)             Tully's Coffee   \n",
       "3738                Geisha P.E.B. (RFA)       The Coffee Academics   \n",
       "3447                   Peaberry Reserve          Flight Coffee Co.   \n",
       "2098            Bufcafe Rwanda Espresso        JBC Coffee Roasters   \n",
       "2595  SFCC House Blend Espresso Capsule                  Gourmesso   \n",
       "581               Tanzania Ngila Estate       Big Shoulders Coffee   \n",
       "2932           Kenya AA Kigwandi Estate  Willoughby's Coffee & Tea   \n",
       "3849       El Salvador Finca Malacara B   Fratello Coffee Roasters   \n",
       "\n",
       "              roaster_location  \\\n",
       "1054     San Diego, California   \n",
       "4306      La Jolla, California   \n",
       "4109       Seattle, Washington   \n",
       "3738         Hong Kong, China    \n",
       "3447    Bedford, New Hampshire   \n",
       "2098        Madison, Wisconsin   \n",
       "2595           Berlin, Germany   \n",
       "581          Chicago, Illinois   \n",
       "2932     Branford, Connecticut   \n",
       "3849  Calgary, Alberta, Canada   \n",
       "\n",
       "                                          coffee_origin  roast_level  \\\n",
       "1054  Yirgacheffe growing region, south-Central Ethi...            2   \n",
       "4306                           Central Province, Kenya.            3   \n",
       "4109                                     Not disclosed.            6   \n",
       "3738             Boquete growing region, western Panama            2   \n",
       "3447                           Brazil; Kenya; Tanzania.            3   \n",
       "2098      Nyamagabe district, Southern Province, Rwanda            2   \n",
       "2595                                    Central America            6   \n",
       "581   Ngila Estate, Ngorongoro Conservation Area, Ta...            2   \n",
       "2932            Nyeri County, Central Highlands, Kenya.            2   \n",
       "3849         Volcan de Santa Ana regioin, El Salvador.             2   \n",
       "\n",
       "                 est_price     review_date  overall_score      h1  s1  ... s3  \\\n",
       "1054      $20.00/12 ounces   November 2020             93  Aroma:   9  ...  9   \n",
       "4306      $22.00/12 ounces       July 2011             92  Aroma:   9  ...  9   \n",
       "4109      $16.49/24 K-Cups      March 2012             87  Aroma:   7  ...  8   \n",
       "3738     HK $588/100 grams      April 2013             94  Aroma:   9  ...  8   \n",
       "3447      $14.50/12 ounces   February 2014             92  Aroma:   9  ...  8   \n",
       "2098      $17.25/12 ounces    January 2018             93  Aroma:   9  ...  9   \n",
       "2595     $5.49/10 capsules       July 2016             87  Aroma:   7  ...  8   \n",
       "581       $25.00/12 ounces  September 2021             93  Aroma:   9  ...  9   \n",
       "2932      $17.99/16 ounces  September 2015             95  Aroma:   9  ...  9   \n",
       "3849  CAD $15.60/12 ounces    January 2013             90  Aroma:   7  ...  8   \n",
       "\n",
       "               h4 s4           h5 s5  \\\n",
       "1054      Flavor:  9  Aftertaste:  8   \n",
       "4306      Flavor:  8  Aftertaste:  8   \n",
       "4109      Flavor:  8  Aftertaste:  7   \n",
       "3738      Flavor:  9  Aftertaste:  9   \n",
       "3447      Flavor:  9  Aftertaste:  8   \n",
       "2098  Aftertaste:  7   With Milk:  9   \n",
       "2595  Aftertaste:  7   With Milk:  7   \n",
       "581       Flavor:  9  Aftertaste:  8   \n",
       "2932      Flavor:  9  Aftertaste:  9   \n",
       "3849      Flavor:  9  Aftertaste:  8   \n",
       "\n",
       "                                                     p1  \\\n",
       "1054  Blind Assessment: Richly fruit-forward, chocol...   \n",
       "4306  Blind Assessment: Deep, rich, balanced. Pungen...   \n",
       "4109  Blind Assessment: (As brewed in a Keurig Plati...   \n",
       "3738  Blind Assessment: Intensely and extravagantly ...   \n",
       "3447  Blind Assessment: Quietly balanced, complex. B...   \n",
       "2098  Blind Assessment: Evaluated as espresso. Delic...   \n",
       "2595  Blind Assessment: Evaluated as espresso produc...   \n",
       "581   Blind Assessment: Vibrantly sweet-savory. Red ...   \n",
       "2932  Blind Assessment: Sweetly and deeply pungent. ...   \n",
       "3849  Blind Assessment: Soft, round, deep. Caramel, ...   \n",
       "\n",
       "                                                     p2  \\\n",
       "1054  Notes: Southern Ethiopia coffees like this one...   \n",
       "4306  Notes: Produced mainly from trees of the admir...   \n",
       "4109  Notes: Certified organically grown and Fair Tr...   \n",
       "3738  Notes: Produced from trees of the rare Ethiopi...   \n",
       "3447  Notes: This blend combines, with originality a...   \n",
       "2098  Notes: Produced from trees of the heirloom Bou...   \n",
       "2595  Notes: This coffee is Fair Trade certified, me...   \n",
       "581   Notes: Produced at Ngila Estate from trees of ...   \n",
       "2932  Notes: This exceptional coffee was selected as...   \n",
       "3849  Notes: Produced entirely from trees of the hei...   \n",
       "\n",
       "                                                     p3 bean_agtron  \\\n",
       "1054  The Bottom Line: Concentrated, berry-driven na...          56   \n",
       "4306  Who Should Drink It: The pungent Kenya fruit i...          47   \n",
       "4109  Who Should Drink It: A very nicely balanced bl...           0   \n",
       "3738  Who Should Drink It: An opportunity to sample ...          56   \n",
       "3447  Who Should Drink It: Those who enjoy white win...          50   \n",
       "2098  The Bottom Line: An unapologetically savory-sw...          54   \n",
       "2595  The Bottom Line: A crisp, gentle espresso with...           0   \n",
       "581   The Bottom Line: A rich-toned, complex, nuance...          60   \n",
       "2932  Who Should Drink It: A splendid and very chara...          59   \n",
       "3849  Who Should Drink It: Those who prefer quiet de...          61   \n",
       "\n",
       "     ground_agtron  \n",
       "1054            74  \n",
       "4306            64  \n",
       "4109            36  \n",
       "3738            83  \n",
       "3447            70  \n",
       "2098            78  \n",
       "2595            58  \n",
       "581             78  \n",
       "2932            75  \n",
       "3849            75  \n",
       "\n",
       "[10 rows x 23 columns]"
      ]
     },
     "execution_count": 44,
     "metadata": {},
     "output_type": "execute_result"
    }
   ],
   "source": [
    "#checking update\n",
    "data_df.sample(10)"
   ]
  },
  {
   "cell_type": "markdown",
   "id": "81596f4c",
   "metadata": {},
   "source": [
    "### Addressing the Estimated Price Column\n",
    "\n",
    "Background: Estimated price data uses a number of different measures (ounces, grams, bottles, etc). Original plan was to break it apart with goal of converting to same measure so that they can be compared in a meaningful way. This would involve modifying data to get a price per ounce. In addition, the reviews span from 1997 to 2022 and it is unclear if the pricing data gets updated.\n",
    "\n",
    "Given how complex it is to turn this column into usable data, the column is being dropped for now. "
   ]
  },
  {
   "cell_type": "code",
   "execution_count": 45,
   "id": "adcd6ee8",
   "metadata": {},
   "outputs": [],
   "source": [
    "#drop est_price column\n",
    "data_df.drop('est_price', axis=1, inplace=True)"
   ]
  },
  {
   "cell_type": "code",
   "execution_count": 46,
   "id": "3037587a",
   "metadata": {},
   "outputs": [
    {
     "data": {
      "text/html": [
       "<div>\n",
       "<style scoped>\n",
       "    .dataframe tbody tr th:only-of-type {\n",
       "        vertical-align: middle;\n",
       "    }\n",
       "\n",
       "    .dataframe tbody tr th {\n",
       "        vertical-align: top;\n",
       "    }\n",
       "\n",
       "    .dataframe thead th {\n",
       "        text-align: right;\n",
       "    }\n",
       "</style>\n",
       "<table border=\"1\" class=\"dataframe\">\n",
       "  <thead>\n",
       "    <tr style=\"text-align: right;\">\n",
       "      <th></th>\n",
       "      <th>coffee_name</th>\n",
       "      <th>roaster_name</th>\n",
       "      <th>roaster_location</th>\n",
       "      <th>coffee_origin</th>\n",
       "      <th>roast_level</th>\n",
       "      <th>review_date</th>\n",
       "      <th>overall_score</th>\n",
       "      <th>h1</th>\n",
       "      <th>s1</th>\n",
       "      <th>h2</th>\n",
       "      <th>...</th>\n",
       "      <th>s3</th>\n",
       "      <th>h4</th>\n",
       "      <th>s4</th>\n",
       "      <th>h5</th>\n",
       "      <th>s5</th>\n",
       "      <th>p1</th>\n",
       "      <th>p2</th>\n",
       "      <th>p3</th>\n",
       "      <th>bean_agtron</th>\n",
       "      <th>ground_agtron</th>\n",
       "    </tr>\n",
       "  </thead>\n",
       "  <tbody>\n",
       "    <tr>\n",
       "      <th>0</th>\n",
       "      <td>Colombia Cerro Azul Enano</td>\n",
       "      <td>Equator Coffees</td>\n",
       "      <td>San Rafael, California</td>\n",
       "      <td>Trujillo, Valle del Cauca Department, Colombia</td>\n",
       "      <td>2</td>\n",
       "      <td>October 2022</td>\n",
       "      <td>94</td>\n",
       "      <td>Aroma:</td>\n",
       "      <td>9</td>\n",
       "      <td>Acidity/Structure:</td>\n",
       "      <td>...</td>\n",
       "      <td>9</td>\n",
       "      <td>Flavor:</td>\n",
       "      <td>9</td>\n",
       "      <td>Aftertaste:</td>\n",
       "      <td>8</td>\n",
       "      <td>Blind Assessment: Elegantly fruit- and cocoa-t...</td>\n",
       "      <td>Notes: Produced at Finca Cerro Azul (also owne...</td>\n",
       "      <td>The Bottom Line:  This rare Enano (dwarf Geish...</td>\n",
       "      <td>60</td>\n",
       "      <td>77</td>\n",
       "    </tr>\n",
       "    <tr>\n",
       "      <th>1</th>\n",
       "      <td>Peru Incahuasi</td>\n",
       "      <td>Press Coffee</td>\n",
       "      <td>Phoenix, Arizona</td>\n",
       "      <td>Cusco Region, Peru</td>\n",
       "      <td>2</td>\n",
       "      <td>October 2022</td>\n",
       "      <td>94</td>\n",
       "      <td>Aroma:</td>\n",
       "      <td>9</td>\n",
       "      <td>Acidity/Structure:</td>\n",
       "      <td>...</td>\n",
       "      <td>9</td>\n",
       "      <td>Flavor:</td>\n",
       "      <td>9</td>\n",
       "      <td>Aftertaste:</td>\n",
       "      <td>8</td>\n",
       "      <td>Blind Assessment: Gently fruit-toned, integrat...</td>\n",
       "      <td>Notes: Produced at Incahuasi Farm from trees o...</td>\n",
       "      <td>The Bottom Line: Laden with tropical fruit not...</td>\n",
       "      <td>58</td>\n",
       "      <td>78</td>\n",
       "    </tr>\n",
       "    <tr>\n",
       "      <th>2</th>\n",
       "      <td>Colombia Aponte’s Guardians</td>\n",
       "      <td>Press Coffee</td>\n",
       "      <td>Phoenix, Arizona</td>\n",
       "      <td>Nariño Department, Colombia</td>\n",
       "      <td>2</td>\n",
       "      <td>October 2022</td>\n",
       "      <td>93</td>\n",
       "      <td>Aroma:</td>\n",
       "      <td>9</td>\n",
       "      <td>Acidity/Structure:</td>\n",
       "      <td>...</td>\n",
       "      <td>8</td>\n",
       "      <td>Flavor:</td>\n",
       "      <td>9</td>\n",
       "      <td>Aftertaste:</td>\n",
       "      <td>8</td>\n",
       "      <td>Blind Assessment: Richly sweet, spice-toned. L...</td>\n",
       "      <td>Notes: Produced at Aponte Farm from an undiscl...</td>\n",
       "      <td>The Bottom Line: A balanced, inviting washed C...</td>\n",
       "      <td>59</td>\n",
       "      <td>77</td>\n",
       "    </tr>\n",
       "    <tr>\n",
       "      <th>3</th>\n",
       "      <td>Nicaragua Flor de Dalia Natural</td>\n",
       "      <td>Equator Coffees</td>\n",
       "      <td>San Rafael, California</td>\n",
       "      <td>La Dalia, Matagalpa Department, northern Nicar...</td>\n",
       "      <td>2</td>\n",
       "      <td>October 2022</td>\n",
       "      <td>92</td>\n",
       "      <td>Aroma:</td>\n",
       "      <td>8</td>\n",
       "      <td>Acidity/Structure:</td>\n",
       "      <td>...</td>\n",
       "      <td>9</td>\n",
       "      <td>Flavor:</td>\n",
       "      <td>9</td>\n",
       "      <td>Aftertaste:</td>\n",
       "      <td>8</td>\n",
       "      <td>Blind Assessment: Gently fruit-forward, sweetl...</td>\n",
       "      <td>Notes: Produced by smallholding members of the...</td>\n",
       "      <td>The Bottom Line: A refreshing, very sweet natu...</td>\n",
       "      <td>62</td>\n",
       "      <td>78</td>\n",
       "    </tr>\n",
       "    <tr>\n",
       "      <th>4</th>\n",
       "      <td>Ethiopia Bench Maji Geisha G1 Natural</td>\n",
       "      <td>Taster's Coffee</td>\n",
       "      <td>New Taipei City, Taiwan</td>\n",
       "      <td>Bench-Maji Zone, southern Ethiopia</td>\n",
       "      <td>1</td>\n",
       "      <td>October 2022</td>\n",
       "      <td>93</td>\n",
       "      <td>Aroma:</td>\n",
       "      <td>9</td>\n",
       "      <td>Acidity/Structure:</td>\n",
       "      <td>...</td>\n",
       "      <td>8</td>\n",
       "      <td>Flavor:</td>\n",
       "      <td>9</td>\n",
       "      <td>Aftertaste:</td>\n",
       "      <td>8</td>\n",
       "      <td>Blind Assessment: Gently sweet-tart, floral-to...</td>\n",
       "      <td>Notes: Produced from trees of the admired bota...</td>\n",
       "      <td>The Bottom Line: A quietly confident natural-p...</td>\n",
       "      <td>65</td>\n",
       "      <td>81</td>\n",
       "    </tr>\n",
       "  </tbody>\n",
       "</table>\n",
       "<p>5 rows × 22 columns</p>\n",
       "</div>"
      ],
      "text/plain": [
       "                             coffee_name     roaster_name  \\\n",
       "0              Colombia Cerro Azul Enano  Equator Coffees   \n",
       "1                         Peru Incahuasi     Press Coffee   \n",
       "2            Colombia Aponte’s Guardians     Press Coffee   \n",
       "3        Nicaragua Flor de Dalia Natural  Equator Coffees   \n",
       "4  Ethiopia Bench Maji Geisha G1 Natural  Taster's Coffee   \n",
       "\n",
       "          roaster_location                                      coffee_origin  \\\n",
       "0   San Rafael, California     Trujillo, Valle del Cauca Department, Colombia   \n",
       "1         Phoenix, Arizona                                 Cusco Region, Peru   \n",
       "2         Phoenix, Arizona                        Nariño Department, Colombia   \n",
       "3   San Rafael, California  La Dalia, Matagalpa Department, northern Nicar...   \n",
       "4  New Taipei City, Taiwan                 Bench-Maji Zone, southern Ethiopia   \n",
       "\n",
       "   roast_level   review_date  overall_score      h1  s1                  h2  \\\n",
       "0            2  October 2022             94  Aroma:   9  Acidity/Structure:   \n",
       "1            2  October 2022             94  Aroma:   9  Acidity/Structure:   \n",
       "2            2  October 2022             93  Aroma:   9  Acidity/Structure:   \n",
       "3            2  October 2022             92  Aroma:   8  Acidity/Structure:   \n",
       "4            1  October 2022             93  Aroma:   9  Acidity/Structure:   \n",
       "\n",
       "   ...  s3       h4  s4           h5  s5  \\\n",
       "0  ...   9  Flavor:   9  Aftertaste:   8   \n",
       "1  ...   9  Flavor:   9  Aftertaste:   8   \n",
       "2  ...   8  Flavor:   9  Aftertaste:   8   \n",
       "3  ...   9  Flavor:   9  Aftertaste:   8   \n",
       "4  ...   8  Flavor:   9  Aftertaste:   8   \n",
       "\n",
       "                                                  p1  \\\n",
       "0  Blind Assessment: Elegantly fruit- and cocoa-t...   \n",
       "1  Blind Assessment: Gently fruit-toned, integrat...   \n",
       "2  Blind Assessment: Richly sweet, spice-toned. L...   \n",
       "3  Blind Assessment: Gently fruit-forward, sweetl...   \n",
       "4  Blind Assessment: Gently sweet-tart, floral-to...   \n",
       "\n",
       "                                                  p2  \\\n",
       "0  Notes: Produced at Finca Cerro Azul (also owne...   \n",
       "1  Notes: Produced at Incahuasi Farm from trees o...   \n",
       "2  Notes: Produced at Aponte Farm from an undiscl...   \n",
       "3  Notes: Produced by smallholding members of the...   \n",
       "4  Notes: Produced from trees of the admired bota...   \n",
       "\n",
       "                                                  p3 bean_agtron ground_agtron  \n",
       "0  The Bottom Line:  This rare Enano (dwarf Geish...          60            77  \n",
       "1  The Bottom Line: Laden with tropical fruit not...          58            78  \n",
       "2  The Bottom Line: A balanced, inviting washed C...          59            77  \n",
       "3  The Bottom Line: A refreshing, very sweet natu...          62            78  \n",
       "4  The Bottom Line: A quietly confident natural-p...          65            81  \n",
       "\n",
       "[5 rows x 22 columns]"
      ]
     },
     "execution_count": 46,
     "metadata": {},
     "output_type": "execute_result"
    }
   ],
   "source": [
    "data_df.head()"
   ]
  },
  {
   "cell_type": "markdown",
   "id": "30e19c54",
   "metadata": {},
   "source": [
    "### Turning `review_date` into datetime type and extracting month and year."
   ]
  },
  {
   "cell_type": "code",
   "execution_count": 47,
   "id": "e149f35e",
   "metadata": {},
   "outputs": [],
   "source": [
    "data_df['review_date'] = pd.to_datetime(data_df['review_date'])"
   ]
  },
  {
   "cell_type": "code",
   "execution_count": 48,
   "id": "4bf740f7",
   "metadata": {},
   "outputs": [],
   "source": [
    "data_df['year'] = pd.DatetimeIndex(data_df['review_date']).year"
   ]
  },
  {
   "cell_type": "code",
   "execution_count": 49,
   "id": "bb89b0b9",
   "metadata": {},
   "outputs": [],
   "source": [
    "data_df['month'] = pd.DatetimeIndex(data_df['review_date']).month"
   ]
  },
  {
   "cell_type": "code",
   "execution_count": 50,
   "id": "808e2c3b",
   "metadata": {},
   "outputs": [],
   "source": [
    "#drop unneeded agtron column\n",
    "data_df.drop('review_date', axis=1, inplace=True)"
   ]
  },
  {
   "cell_type": "code",
   "execution_count": 51,
   "id": "b40dd803",
   "metadata": {},
   "outputs": [
    {
     "data": {
      "text/html": [
       "<div>\n",
       "<style scoped>\n",
       "    .dataframe tbody tr th:only-of-type {\n",
       "        vertical-align: middle;\n",
       "    }\n",
       "\n",
       "    .dataframe tbody tr th {\n",
       "        vertical-align: top;\n",
       "    }\n",
       "\n",
       "    .dataframe thead th {\n",
       "        text-align: right;\n",
       "    }\n",
       "</style>\n",
       "<table border=\"1\" class=\"dataframe\">\n",
       "  <thead>\n",
       "    <tr style=\"text-align: right;\">\n",
       "      <th></th>\n",
       "      <th>coffee_name</th>\n",
       "      <th>roaster_name</th>\n",
       "      <th>roaster_location</th>\n",
       "      <th>coffee_origin</th>\n",
       "      <th>roast_level</th>\n",
       "      <th>overall_score</th>\n",
       "      <th>h1</th>\n",
       "      <th>s1</th>\n",
       "      <th>h2</th>\n",
       "      <th>s2</th>\n",
       "      <th>...</th>\n",
       "      <th>s4</th>\n",
       "      <th>h5</th>\n",
       "      <th>s5</th>\n",
       "      <th>p1</th>\n",
       "      <th>p2</th>\n",
       "      <th>p3</th>\n",
       "      <th>bean_agtron</th>\n",
       "      <th>ground_agtron</th>\n",
       "      <th>year</th>\n",
       "      <th>month</th>\n",
       "    </tr>\n",
       "  </thead>\n",
       "  <tbody>\n",
       "    <tr>\n",
       "      <th>0</th>\n",
       "      <td>Colombia Cerro Azul Enano</td>\n",
       "      <td>Equator Coffees</td>\n",
       "      <td>San Rafael, California</td>\n",
       "      <td>Trujillo, Valle del Cauca Department, Colombia</td>\n",
       "      <td>2</td>\n",
       "      <td>94</td>\n",
       "      <td>Aroma:</td>\n",
       "      <td>9</td>\n",
       "      <td>Acidity/Structure:</td>\n",
       "      <td>9</td>\n",
       "      <td>...</td>\n",
       "      <td>9</td>\n",
       "      <td>Aftertaste:</td>\n",
       "      <td>8</td>\n",
       "      <td>Blind Assessment: Elegantly fruit- and cocoa-t...</td>\n",
       "      <td>Notes: Produced at Finca Cerro Azul (also owne...</td>\n",
       "      <td>The Bottom Line:  This rare Enano (dwarf Geish...</td>\n",
       "      <td>60</td>\n",
       "      <td>77</td>\n",
       "      <td>2022</td>\n",
       "      <td>10</td>\n",
       "    </tr>\n",
       "    <tr>\n",
       "      <th>1</th>\n",
       "      <td>Peru Incahuasi</td>\n",
       "      <td>Press Coffee</td>\n",
       "      <td>Phoenix, Arizona</td>\n",
       "      <td>Cusco Region, Peru</td>\n",
       "      <td>2</td>\n",
       "      <td>94</td>\n",
       "      <td>Aroma:</td>\n",
       "      <td>9</td>\n",
       "      <td>Acidity/Structure:</td>\n",
       "      <td>9</td>\n",
       "      <td>...</td>\n",
       "      <td>9</td>\n",
       "      <td>Aftertaste:</td>\n",
       "      <td>8</td>\n",
       "      <td>Blind Assessment: Gently fruit-toned, integrat...</td>\n",
       "      <td>Notes: Produced at Incahuasi Farm from trees o...</td>\n",
       "      <td>The Bottom Line: Laden with tropical fruit not...</td>\n",
       "      <td>58</td>\n",
       "      <td>78</td>\n",
       "      <td>2022</td>\n",
       "      <td>10</td>\n",
       "    </tr>\n",
       "    <tr>\n",
       "      <th>2</th>\n",
       "      <td>Colombia Aponte’s Guardians</td>\n",
       "      <td>Press Coffee</td>\n",
       "      <td>Phoenix, Arizona</td>\n",
       "      <td>Nariño Department, Colombia</td>\n",
       "      <td>2</td>\n",
       "      <td>93</td>\n",
       "      <td>Aroma:</td>\n",
       "      <td>9</td>\n",
       "      <td>Acidity/Structure:</td>\n",
       "      <td>9</td>\n",
       "      <td>...</td>\n",
       "      <td>9</td>\n",
       "      <td>Aftertaste:</td>\n",
       "      <td>8</td>\n",
       "      <td>Blind Assessment: Richly sweet, spice-toned. L...</td>\n",
       "      <td>Notes: Produced at Aponte Farm from an undiscl...</td>\n",
       "      <td>The Bottom Line: A balanced, inviting washed C...</td>\n",
       "      <td>59</td>\n",
       "      <td>77</td>\n",
       "      <td>2022</td>\n",
       "      <td>10</td>\n",
       "    </tr>\n",
       "    <tr>\n",
       "      <th>3</th>\n",
       "      <td>Nicaragua Flor de Dalia Natural</td>\n",
       "      <td>Equator Coffees</td>\n",
       "      <td>San Rafael, California</td>\n",
       "      <td>La Dalia, Matagalpa Department, northern Nicar...</td>\n",
       "      <td>2</td>\n",
       "      <td>92</td>\n",
       "      <td>Aroma:</td>\n",
       "      <td>8</td>\n",
       "      <td>Acidity/Structure:</td>\n",
       "      <td>8</td>\n",
       "      <td>...</td>\n",
       "      <td>9</td>\n",
       "      <td>Aftertaste:</td>\n",
       "      <td>8</td>\n",
       "      <td>Blind Assessment: Gently fruit-forward, sweetl...</td>\n",
       "      <td>Notes: Produced by smallholding members of the...</td>\n",
       "      <td>The Bottom Line: A refreshing, very sweet natu...</td>\n",
       "      <td>62</td>\n",
       "      <td>78</td>\n",
       "      <td>2022</td>\n",
       "      <td>10</td>\n",
       "    </tr>\n",
       "    <tr>\n",
       "      <th>4</th>\n",
       "      <td>Ethiopia Bench Maji Geisha G1 Natural</td>\n",
       "      <td>Taster's Coffee</td>\n",
       "      <td>New Taipei City, Taiwan</td>\n",
       "      <td>Bench-Maji Zone, southern Ethiopia</td>\n",
       "      <td>1</td>\n",
       "      <td>93</td>\n",
       "      <td>Aroma:</td>\n",
       "      <td>9</td>\n",
       "      <td>Acidity/Structure:</td>\n",
       "      <td>9</td>\n",
       "      <td>...</td>\n",
       "      <td>9</td>\n",
       "      <td>Aftertaste:</td>\n",
       "      <td>8</td>\n",
       "      <td>Blind Assessment: Gently sweet-tart, floral-to...</td>\n",
       "      <td>Notes: Produced from trees of the admired bota...</td>\n",
       "      <td>The Bottom Line: A quietly confident natural-p...</td>\n",
       "      <td>65</td>\n",
       "      <td>81</td>\n",
       "      <td>2022</td>\n",
       "      <td>10</td>\n",
       "    </tr>\n",
       "  </tbody>\n",
       "</table>\n",
       "<p>5 rows × 23 columns</p>\n",
       "</div>"
      ],
      "text/plain": [
       "                             coffee_name     roaster_name  \\\n",
       "0              Colombia Cerro Azul Enano  Equator Coffees   \n",
       "1                         Peru Incahuasi     Press Coffee   \n",
       "2            Colombia Aponte’s Guardians     Press Coffee   \n",
       "3        Nicaragua Flor de Dalia Natural  Equator Coffees   \n",
       "4  Ethiopia Bench Maji Geisha G1 Natural  Taster's Coffee   \n",
       "\n",
       "          roaster_location                                      coffee_origin  \\\n",
       "0   San Rafael, California     Trujillo, Valle del Cauca Department, Colombia   \n",
       "1         Phoenix, Arizona                                 Cusco Region, Peru   \n",
       "2         Phoenix, Arizona                        Nariño Department, Colombia   \n",
       "3   San Rafael, California  La Dalia, Matagalpa Department, northern Nicar...   \n",
       "4  New Taipei City, Taiwan                 Bench-Maji Zone, southern Ethiopia   \n",
       "\n",
       "   roast_level  overall_score      h1  s1                  h2  s2  ... s4  \\\n",
       "0            2             94  Aroma:   9  Acidity/Structure:   9  ...  9   \n",
       "1            2             94  Aroma:   9  Acidity/Structure:   9  ...  9   \n",
       "2            2             93  Aroma:   9  Acidity/Structure:   9  ...  9   \n",
       "3            2             92  Aroma:   8  Acidity/Structure:   8  ...  9   \n",
       "4            1             93  Aroma:   9  Acidity/Structure:   9  ...  9   \n",
       "\n",
       "            h5 s5                                                 p1  \\\n",
       "0  Aftertaste:  8  Blind Assessment: Elegantly fruit- and cocoa-t...   \n",
       "1  Aftertaste:  8  Blind Assessment: Gently fruit-toned, integrat...   \n",
       "2  Aftertaste:  8  Blind Assessment: Richly sweet, spice-toned. L...   \n",
       "3  Aftertaste:  8  Blind Assessment: Gently fruit-forward, sweetl...   \n",
       "4  Aftertaste:  8  Blind Assessment: Gently sweet-tart, floral-to...   \n",
       "\n",
       "                                                  p2  \\\n",
       "0  Notes: Produced at Finca Cerro Azul (also owne...   \n",
       "1  Notes: Produced at Incahuasi Farm from trees o...   \n",
       "2  Notes: Produced at Aponte Farm from an undiscl...   \n",
       "3  Notes: Produced by smallholding members of the...   \n",
       "4  Notes: Produced from trees of the admired bota...   \n",
       "\n",
       "                                                  p3 bean_agtron  \\\n",
       "0  The Bottom Line:  This rare Enano (dwarf Geish...          60   \n",
       "1  The Bottom Line: Laden with tropical fruit not...          58   \n",
       "2  The Bottom Line: A balanced, inviting washed C...          59   \n",
       "3  The Bottom Line: A refreshing, very sweet natu...          62   \n",
       "4  The Bottom Line: A quietly confident natural-p...          65   \n",
       "\n",
       "  ground_agtron  year  month  \n",
       "0            77  2022     10  \n",
       "1            78  2022     10  \n",
       "2            77  2022     10  \n",
       "3            78  2022     10  \n",
       "4            81  2022     10  \n",
       "\n",
       "[5 rows x 23 columns]"
      ]
     },
     "execution_count": 51,
     "metadata": {},
     "output_type": "execute_result"
    }
   ],
   "source": [
    "data_df.head()"
   ]
  },
  {
   "cell_type": "code",
   "execution_count": 52,
   "id": "2530f174",
   "metadata": {},
   "outputs": [
    {
     "name": "stdout",
     "output_type": "stream",
     "text": [
      "<class 'pandas.core.frame.DataFrame'>\n",
      "RangeIndex: 4779 entries, 0 to 4778\n",
      "Data columns (total 23 columns):\n",
      " #   Column            Non-Null Count  Dtype \n",
      "---  ------            --------------  ----- \n",
      " 0   coffee_name       4779 non-null   object\n",
      " 1   roaster_name      4779 non-null   object\n",
      " 2   roaster_location  4779 non-null   object\n",
      " 3   coffee_origin     4779 non-null   object\n",
      " 4   roast_level       4705 non-null   Int8  \n",
      " 5   overall_score     4779 non-null   int64 \n",
      " 6   h1                4779 non-null   object\n",
      " 7   s1                4779 non-null   int64 \n",
      " 8   h2                4779 non-null   object\n",
      " 9   s2                4779 non-null   int64 \n",
      " 10  h3                4779 non-null   object\n",
      " 11  s3                4779 non-null   int64 \n",
      " 12  h4                4779 non-null   object\n",
      " 13  s4                4779 non-null   int64 \n",
      " 14  h5                4779 non-null   object\n",
      " 15  s5                4779 non-null   int64 \n",
      " 16  p1                4779 non-null   object\n",
      " 17  p2                4779 non-null   object\n",
      " 18  p3                4773 non-null   object\n",
      " 19  bean_agtron       4742 non-null   Int8  \n",
      " 20  ground_agtron     4743 non-null   Int8  \n",
      " 21  year              4779 non-null   int64 \n",
      " 22  month             4779 non-null   int64 \n",
      "dtypes: Int8(3), int64(8), object(12)\n",
      "memory usage: 774.8+ KB\n"
     ]
    }
   ],
   "source": [
    "#verifying modified data types are numerical\n",
    "data_df.info()"
   ]
  },
  {
   "cell_type": "markdown",
   "id": "66a97b80",
   "metadata": {},
   "source": [
    "### Turn locations into latitude and longitude"
   ]
  },
  {
   "cell_type": "code",
   "execution_count": 53,
   "id": "243d1c81",
   "metadata": {
    "scrolled": false
   },
   "outputs": [
    {
     "name": "stdout",
     "output_type": "stream",
     "text": [
      "['37.9735346', '33.4484367', '33.4484367', '37.9735346', '25.072134249999998', '43.074761', '24.7519538', '24.7519538', '37.7840208', '37.7840208', '25.0375198', '25.0375198', '25.0375198', '19.6238149', '32.7174202', '24.9929995', '41.1035786', '32.7174202', '44.9772995', '44.9772995', '25.072134249999998', '25.011997', '44.9772995', '25.011997', '19.557849', '19.557849', '23.4871369', '38.5810606', '23.4871369', '23.4871369', '38.5810606', '23.4871369', '23.4871369', '38.5810606', '45.7874957', '30.3466423', '45.5202471', '24.8066333', '43.6610277', '43.5569174', '32.7174202', '33.1216751', '42.291707', '43.074761', '38.7509488', '32.7174202', '43.074761', '38.7509488', '38.7509488', '38.7509488', '19.6238149', '37.2769484', '24.7519538', '32.7174202', '24.163162', '22.6828017', '22.6828017', '32.2228765', '25.0452747', '25.0452747', '43.074761', '43.074761', '19.6238149', '45.6794293', '36.9157056', '32.7174202', '32.7174202', '37.7840208', '37.7840208', '37.7840208', '25.0375198', '25.0375198', '25.7741728', '35.2272086', '32.0564572', '23.4871369', '48.0679255', '25.0375198', '36.9157056', '22.9914751', '41.9426657', '36.1563122', '43.074761', '43.6610277', '43.6610277', '43.6610277', '33.9654045', '43.074761', '36.0301134', '43.074761', '36.0301134', '43.074761', '40.7215682', '23.84053335', '23.84053335', '23.84053335', '23.4871369', '30.3715975', '25.0375198', '25.0375198', '25.0375198', '25.0452747', '25.0452747', '23.4871369', '23.4871369', '32.7174202', '32.7174202', '44.9772995', '43.074761', '44.9772995', '22.9914751', '22.9914751', '22.9914751', '45.6794293', '45.6794293', '45.6794293', '34.4458248', '32.7174202', '32.7174202', '32.7174202', '34.4221319', '34.1469416', '34.1361187', '34.0133561', '41.1035786', '42.3039199', '5.9780066', '5.9780066', '5.9780066', '39.049011', '24.7519538', '51.5073219', '24.7519538', '24.7519538', '', '34.1469416', '32.7174202', '32.7174202', '32.7174202', '39.049011', '44.9772995', '38.4493315', '38.4493315', '37.7840208', '37.7840208', '37.7840208', '32.7174202', '25.0375198', '32.7174202', '', '25.0375198', '25.0375198', '43.646067', '37.9735346', '44.796942', '43.646067', '43.646067', '43.646067', '44.796942', '23.4871369', '43.074761', '43.074761', '23.4871369', '23.4871369', '32.7174202', '24.9929995', '43.074761', '43.074761', '32.7174202', '40.7215682', '44.9772995', '39.049011', '24.7519538', '23.4871369', '24.9929995', '42.3039199', '25.0375198', '19.6238149', '40.7215682', '44.9772995', '44.9772995', '32.7174202', '40.7215682', '43.074761', '44.9772995', '22.9912348', '22.9912348', '25.0375198', '25.0375198', '43.0020107', '25.072134249999998', '39.5261206', '39.5261206', '33.9654045', '33.9654045', '22.1899448', '35.2272086', '25.0375198', '23.7050525', '34.6198813', '32.7174202', '32.2228765', '43.6610277', '43.6610277', '43.6610277', '43.6610277', '24.9929995', '39.049011', '23.4871369', '25.0375198', '25.0375198', '32.7174202', '33.9654045', '25.0375198', '41.2795414', '25.0452747', '25.0375198', '25.0375198', '45.6794293', '43.074761', '44.9772995', '23.9739374', '43.074761', '36.0301134', '45.6794293', '43.074761', '36.0301134', '43.074761', '44.9772995', '44.9772995', '44.9772995', '44.9772995', '44.9772995', '25.0452747', '25.0452747', '25.0452747', '25.0452747', '25.0452747', '25.0452747', '23.4871369', '23.4871369', '38.4493315', '38.4493315', '32.7174202', '43.074761', '19.2024436', '43.074761', '32.7174202', '43.074761', '32.7174202', '43.074761', '32.7174202', '45.6794293', '43.074761', '45.6794293', '-1.03207695', '43.074761', '37.7840208', '44.9772995', '38.5810606', '44.9772995', '38.5810606', '38.5810606', '24.7519538', '24.7519538', '19.6238149', '24.9929995', '44.9772995', '32.7174202', '19.2024436', '35.1429445', '40.5863563', '25.0375198', '37.8753497', '35.212870949999996', '37.2769484', '47.6038321', '37.8753497', '47.6038321', '32.7174202', '38.5810606', '43.074761', '25.0375198', '25.011997', '25.011997', '44.9772995', '23.4871369', '43.0020107', '32.7174202', '35.2272086', '43.0020107', '23.4871369', '23.4871369', '25.0375198', '25.0375198', '25.072134249999998', '38.5810606', '43.074761', '32.7174202', '43.074761', '43.074761', '32.7174202', '43.074761', '25.1369727', '25.1369727', '42.8867166', '35.1429445', '42.8867166', '42.8867166', '32.7174202', '44.9772995', '19.6238149', '44.9772995', '44.9772995', '44.9772995', '44.9772995', '19.6238149', '19.6238149', '44.9772995', '35.2272086', '35.2272086', '42.7656251', '32.7174202', '42.7656251', '42.7656251', '43.074761', '43.074761', '22.9914751', '22.9914751', '25.0375198', '24.9929995', '24.9929995', '24.9929995', '22.9914751', '24.9929995', '19.6238149', '36.9157056', '36.9157056', '22.9914751', '22.9914751', '25.072134249999998', '25.072134249999998', '25.072134249999998', '39.327962', '42.3192548', '41.8755616', '24.163162', '24.163162', '38.5810606', '22.9914751', '23.4871369', '35.2272086', '32.7174202', '33.6170092', '42.3192548', '29.7589382', '24.7519538', '43.074761', '19.6238149', '19.6238149', '24.163162', '24.163162', '38.7509488', '38.7509488', '38.7509488', '38.7509488', '38.7509488', '24.8066333', '43.074761', '43.074761', '23.4871369', '43.646067', '43.074761', '23.4871369', '43.074761', '43.074761', '43.646067', '25.072134249999998', '44.9772995', '45.6794293', '45.6794293', '42.2411344', '42.2411344', '24.7519538', '40.7215682', '39.7392364', '40.7215682', '39.7392364', '23.9738264', '48.170251', '24.9929995', '24.9929995', '24.9929995', '41.8755616', '41.8755616', '24.7519538', '24.7519538', '41.8755616', '41.8755616', '41.8755616', '41.8755616', '24.9929995', '44.9772995', '43.074761', '39.5261206', '44.9772995', '39.5261206', '39.5261206', '39.5261206', '22.6203348', '22.6203348', '43.074761', '44.9772995', '44.9772995', '43.074761', '32.7174202', '32.7174202', '45.7874957', '23.4882887', '22.1899448', '14.5589875', '14.5589875', '14.5589875', '22.9914751', '14.5589875', '14.5589875', '14.5589875', '14.5589875', '22.9914751', '14.5589875', '14.5589875', '14.5589875', '14.5589875', '51.5073219', '41.1579008', '38.0138934', '38.0138934', '38.0138934', '24.9929995', '40.7215682', '19.557849', '39.049011', '36.9157056', '36.9157056', '', '41.2795414', '', '', '', '44.9772995', '22.2793278', '22.2793278', '32.7174202', '19.6238149', '37.8044557', '43.6610277', '38.5810606', '32.7174202', '37.8044557', '43.6610277', '32.7174202', '19.6238149', '19.6238149', '38.7509488', '38.5810606', '38.7509488', '38.5810606', '38.7509488', '40.5863563', '25.0375198', '34.0181557', '25.072134249999998', '23.84053335', '23.84053335', '23.4871369', '40.8535023', '19.6238149', '44.9772995', '61.53416735', '19.6238149', '61.53416735', '44.9772995', '19.6238149', '32.7174202', '37.2769484', '32.7174202', '32.7174202', '35.2272086', '35.212870949999996', '26.96093665', '34.6198813', '32.7174202', '32.7174202', '23.4871369', '39.049011', '37.3361663', '37.9735346', '24.7519538', '25.0375198', '41.2795414', '25.0375198', '43.074761', '32.7174202', '45.6794293', '43.074761', '45.6794293', '43.074761', '44.9772995', '25.072134249999998', '43.074761', '31.2322758', '31.2322758', '45.6794293', '31.2322758', '25.0375198', '33.350376499999996', '23.4871369', '23.4871369', '23.4871369', '23.4871369', '23.4871369', '23.4871369', '23.4871369', '36.9157056', '41.8755616', '36.9157056', '36.9157056', '24.9929995', '41.8755616', '41.8755616', '37.7840208', '25.072134249999998', '36.0301134', '25.0375198', '43.074761', '36.0301134', '25.0375198', '44.157177', '44.157177', '25.072134249999998', '37.3361663', '25.0375198', '37.3361663', '37.3361663', '41.1579008', '36.0301134', '37.9735346', '51.5073219', '25.0375198', '45.6794293', '37.2769484', '45.6794293', '34.1469416', '25.072134249999998', '25.0375198', '25.0452747', '25.0375198', '19.6238149', '19.6238149', '', '44.9772995', '42.3039199', '44.9772995', '44.9772995', '43.074761', '43.074761', '37.9735346', '43.0020107', '37.7840208', '43.6610277', '37.7840208', '32.7174202', '37.8044557', '43.0020919', '25.0452747', '32.7174202', '38.9074322', '38.5810606', '43.074761', '43.646067', '40.8619754', '41.8755616', '38.5810606', '43.074761', '43.074761', '25.072134249999998', '25.072134249999998', '40.8619754', '23.9593485', '41.8755616', '41.8755616', '40.8619754', '24.163162', '24.163162', '24.163162', '24.7519538', '32.7174202', '37.9735346', '25.0375198', '23.4871369', '39.7392364', '38.0138934', '35.2272086', '22.2793278', '24.9929995', '22.2793278', '22.2793278', '22.2793278', '45.2100367', '45.2100367', '44.9772995', '40.7215682', '39.327962', '44.9772995', '44.9772995', '44.9772995', '32.7174202', '32.7174202', '45.6794293', '24.7519538', '45.6794293', '25.0452747', '39.7589478', '39.327962', '25.0375198', '24.7519538', '24.9929995', '25.072134249999998', '43.074761', '34.0181557', '42.3039199', '43.074761', '43.074761', '43.074761', '38.5810606', '38.5810606', '43.074761', '42.3039199', '43.074761', '38.5810606', '23.84053335', '23.84053335', '38.7509488', '38.7509488', '40.9681536', '25.0375198', '25.072134249999998', '44.9772995', '34.0181557', '25.7741728', '25.0375198', '37.2769484', '24.9929995', '23.4871369', '25.0375198', '38.5810606', '4.6534649', '44.9772995', '33.350376499999996', '23.4871369', '23.4871369', '23.4871369', '25.0375198', '51.5073219', '22.6203348', '23.4871369', '22.6828017', '44.9772995', '23.4871369', '22.6203348', '22.6828017', '23.4871369', '25.0375198', '36.0301134', '37.2769484', '22.2793278', '43.074761', '25.072134249999998', '43.0020107', '36.0301134', '24.7519538', '43.0020107', '34.6198813', '24.9929995', '36.0301134', '24.9929995', '36.0301134', '23.9593485', '23.9593485', '43.061936', '24.7519538', '47.6571934', '25.072134249999998', '41.8755616', '37.3361663', '41.1579008', '39.7392364', '38.0138934', '20.763395', '37.8314089', '43.074761', '43.074761', '41.8755616', '32.7174202', '41.8755616', '24.163162', '41.8755616', '24.163162', '24.163162', '24.163162', '19.2024436', '34.0181557', '34.0181557', '43.074761', '43.074761', '43.074761', '43.074761', '45.6794293', '45.6794293', '44.9772995', '36.1622767', '24.307850000000002', '22.6203348', '24.307850000000002', '29.7589382', '46.2561815', '37.7840208', '39.049011', '34.0514898', '39.1501662', '47.0451022', '36.6782167', '23.4871369', '42.8417577', '44.9772995', '23.4871369', '36.9157056', '23.4871369', '23.4871369', '23.4871369', '23.4871369', '24.7519538', '24.7519538', '24.7519538', '40.5863563', '45.6794293', '43.646067', '45.6794293', '43.646067', '45.6794293', '41.8755616', '32.7174202', '41.8755616', '4.6534649', '43.074761', '4.6534649', '43.074761', '45.403271', '25.072134249999998', '41.8755616', '19.4326296', '23.84053335', '25.0375198', '23.84053335', '24.7519538', '39.7392364', '25.0375198', '44.9772995', '32.7174202', '41.2795414', '25.0375198', '24.8066333', '28.5421109', '32.5010188', '25.0375198', '39.049011', '33.1580933', '23.12840235', '23.12840235', '23.12840235', '23.12840235', '40.7215682', '25.0375198', '25.0375198', '39.3176491', '34.1469416', '34.1469416', '36.6782167', '36.6782167', '36.6782167', '36.6782167', '35.2272086', '44.9772995', '44.9772995', '44.9772995', '30.3466423', '25.0375198', '25.0375198', '25.0375198', '23.4871369', '23.4871369', '25.0375198', '23.4871369', '23.4871369', '25.0375198', '23.4871369', '32.7174202', '43.074761', '43.074761', '19.6238149', '43.074761', '32.7174202', '38.859829500000004', '43.074761', '38.859829500000004', '24.307850000000002', '38.859829500000004', '45.6794293', '43.6610277', '38.5810606', '43.6610277', '45.6794293', '47.6571934', '47.6571934', '47.6571934', '47.6571934', '47.6571934', '47.6571934', '30.2711286', '19.6238149', '41.2795414', '19.557849', '32.7174202', '19.494428', '19.6238149', '30.3466423', '32.7174202', '20.763395', '24.9242995', '36.0301134', '23.7050525', '43.6534817', '43.6534817', '43.6534817', '43.6534817', '43.6534817', '44.9772995', '43.074761', '44.9772995', '37.7840208', '44.9772995', '36.9157056', '23.4871369', '34.0181557', '38.4493315', '23.4871369', '23.4871369', '43.0020919', '43.0020919', '43.074761', '38.5810606', '43.074761', '44.157177', '38.5810606', '38.5810606', '44.9772995', '44.9772995', '44.9772995', '44.9772995', '44.9772995', '44.9772995', '4.6534649', '4.6534649', '31.2322758', '32.7174202', '32.7174202', '25.0375198', '43.0020107', '38.859829500000004', '38.859829500000004', '38.859829500000004', '39.5261206', '45.6794293', '24.7519538', '39.5261206', '45.6794293', '34.6198813', '34.6198813', '23.9738264', '47.6038321', '34.0550328', '43.5569174', '39.3176491', '25.0375198', '48.7544012', '41.8755616', '35.2272086', '37.8753497', '38.9074322', '34.1469416', '32.7174202', '43.074761', '23.12840235', '25.0375198', '37.2769484', '43.074761', '25.0375198', '43.074761', '37.2769484', '43.074761', '25.0375198', '44.9772995', '40.6526006', '40.6526006', '24.7519538', '38.5810606', '38.5810606', '38.5810606', '38.5810606', '53.2816669', '53.2816669', '37.8753497', '44.9772995', '44.9772995', '24.8066333', '44.9772995', '25.072134249999998', '44.9772995', '24.8066333', '36.9157056', '43.646067', '43.646067', '36.9157056', '44.9772995', '23.4871369', '23.4871369', '45.5202471', '25.0375198', '43.074761', '40.7215682', '25.0452747', '39.9622601', '22.2793278', '30.2711286', '40.7215682', '43.074761', '45.6794293', '43.074761', '43.074761', '14.7727334', '25.0375198', '25.0375198', '44.9772995', '39.049011', '23.4871369', '19.557849', '23.4871369', '32.7174202', '39.049011', '23.4871369', '26.96093665', '19.557849', '44.9772995', '24.307850000000002', '44.9772995', '23.4871369', '44.9772995', '24.9929995', '23.4871369', '24.9929995', '43.5569174', '22.2793278', '25.0375198', '25.0375198', '25.0375198', '29.4246002', '24.7519538', '29.4246002', '45.6794293', '45.6794293', '25.0375198', '36.6782167', '36.6782167', '', '', '25.0375198', '25.0375198', '31.2322758', '37.2769484', '45.7874957', '23.12840235', '23.12840235', '21.9185255', '41.8755616', '44.9772995', '37.8753497', '44.9772995', '41.8755616', '44.9772995', '41.8755616', '44.9772995', '37.8753497', '41.8755616', '43.074761', '38.4493315', '38.4493315', '38.4493315', '24.307850000000002', '24.307850000000002', '32.7174202', '24.9929995', '24.9929995', '40.5863563', '40.7215682', '43.646067', '43.0020107', '38.5810606', '43.0020107', '39.327962', '39.1457247', '23.12840235', '39.1457247', '23.12840235', '25.0375198', '44.0505054', '25.1317232', '25.0375198', '44.9772995', '36.9157056', '44.9772995', '44.9772995', '38.7509488', '44.9772995', '19.494428', '19.494428', '19.494428', '19.494428', '23.4871369', '37.7840208', '23.4871369', '37.7840208', '19.6238149', '19.6238149', '37.7840208', '19.6238149', '23.4871369', '37.7840208', '23.4871369', '23.4871369', '23.4871369', '37.9735346', '32.7174202', '41.8755616', '32.7174202', '32.7174202', '24.7519538', '43.074761', '19.6238149', '19.6238149', '43.074761', '43.074761', '43.074761', '36.9157056', '29.7589382', '24.9929995', '29.7589382', '51.5073219', '24.7519538', '37.2769484', '44.9772995', '32.7174202', '39.049011', '41.8755616', '24.8066333', '24.8066333', '24.307850000000002', '24.307850000000002', '24.307850000000002', '14.5589875', '14.5589875', '14.5589875', '14.5589875', '14.5589875', '14.5589875', '14.5589875', '14.5589875', '23.4871369', '23.4871369', '34.0181557', '40.7215682', '43.0020107', '38.5810606', '38.5810606', '45.6794293', '45.6794293', '43.888491', '44.9772995', '44.9772995', '43.6534817', '23.4871369', '23.4871369', '43.074761', '43.074761', '43.074761', '32.7174202', '43.074761', '32.7174202', '32.7174202', '37.9735346', '42.9464737', '25.0375198', '25.0375198', '23.4871369', '23.4871369', '34.0536909', '43.6534817', '24.7519538', '33.1580933', '38.0138934', '49.4006197', '38.0138934', '32.7174202', '30.3466423', '39.049011', '30.3466423', '23.4882887', '22.2793278', '19.6238149', '19.494428', '44.9772995', '40.9946622', '44.9772995', '38.5810606', '42.9464737', '22.6203348', '22.6203348', '38.5810606', '44.9772995', '21.3028504', '32.7174202', '41.1579008', '44.9772995', '44.9772995', '37.7840208', '22.2793278', '37.7840208', '43.074761', '43.074761', '43.074761', '25.0375198', '24.7519538', '38.6319657', '37.9735346', '37.8314089', '37.8044557', '22.2793278', '36.9157056', '32.7174202', '39.7392364', '23.7050525', '37.7790262', '24.7519538', '25.7741728', '23.12840235', '44.9772995', '23.4871369', '44.9772995', '23.4871369', '23.4871369', '25.0375198', '37.2769484', '25.0375198', '25.0375198', '42.5195292', '47.1870191', '36.0301134', '36.0301134', '34.0181557', '43.074761', '43.074761', '39.327962', '36.9157056', '38.5810606', '43.0020107', '36.9157056', '43.0020107', '36.9157056', '51.0460954', '51.0460954', '44.9772995', '44.9772995', '44.9772995', '23.9738264', '47.6571934', '47.6571934', '47.6571934', '23.4871369', '23.4871369', '43.5569174', '43.5569174', '43.5569174', '43.5569174', '20.763395', '20.763395', '24.8066333', '44.0505054', '47.4799078', '32.3086744', '41.5910323', '38.9074322', '38.4493315', '33.7489924', '19.2024436', '37.8753497', '37.8044557', '37.270973', '38.9074322', '39.2908816', '35.1335022', '44.9772995', '42.2411344', '43.646067', '43.646067', '44.9772995', '44.9772995', '44.9772995', '25.0375198', '44.9772995', '44.9772995', '25.0375198', '23.7050525', '25.0375198', '23.7050525', '23.12840235', '23.12840235', '43.0349931', '32.5010188', '43.0349931', '42.5195292', '33.350376499999996', '33.350376499999996', '33.350376499999996', '22.6203348', '45.6794293', '43.074761', '43.074761', '39.7392364', '42.2411344', '35.2272086', '48.0679255', '43.074761', '44.9772995', '32.7174202', '23.4871369', '23.4871369', '', '37.2769484', '43.074761', '45.6794293', '45.6794293', '45.6794293', '39.7392364', '37.7790262', '41.1579008', '39.4022054', '34.0536909', '38.0138934', '45.5202471', '36.1563122', '24.7519538', '37.9735346', '35.2272086', '40.7215682', '40.1164841', '23.7050525', '23.7050525', '40.7215682', '40.7215682', '19.494428', '38.5810606', '45.7874957', '37.8753497', '45.7874957', '30.3466423', '23.4871369', '37.8753497', '38.5810606', '37.8753497', '44.9772995', '36.0301134', '38.0138934', '44.9772995', '23.4871369', '38.0138934', '23.4871369', '43.074761', '43.074761', '43.074761', '51.5073219', '32.7174202', '25.1317232', '25.0375198', '19.557849', '19.557849', '19.2024436', '44.9772995', '43.074761', '35.2272086', '35.2272086', '19.494428', '33.4946353', '24.7519538', '48.4738136', '23.4871369', '44.9772995', '43.074761', '19.494428', '19.494428', '39.7392364', '38.5810606', '31.2322758', '44.9772995', '44.9772995', '40.4416941', '19.641941', '19.641941', '39.445723', '36.9157056', '30.2711286', '23.4871369', '19.6238149', '34.0536909', '47.6038321', '40.7215682', '44.9772995', '32.7174202', '22.2793278', '40.6526006', '37.2769484', '35.2272086', '38.5810606', '33.1580933', '33.1580933', '36.9157056', '34.0181557', '47.6571934', '36.9157056', '40.7215682', '36.9157056', '44.9772995', '44.9772995', '44.9772995', '38.5810606', '38.5810606', '23.4871369', '32.3086744', '23.4871369', '19.641941', '44.9772995', '33.1216751', '33.1216751', '45.7874957', '47.6571934', '46.8701049', '47.0451022', '48.7544012', '47.2495798', '45.5202471', '45.6794293', '42.1972487', '45.7874957', '39.049011', '25.0375198', '32.3086744', '37.9374939', '43.074761', '43.074761', '44.9772995', '41.8755616', '35.2272086', '23.4871369', '43.074761', '43.074761', '47.458245', '47.458245', '22.6203348', '22.2793278', '22.2793278', '36.0301134', '49.4006197', '37.9374939', '26.6059432', '19.6238149', '24.7519538', '19.6238149', '19.6238149', '36.9157056', '44.9772995', '33.1216751', '43.646067', '45.7874957', '', '38.5810606', '38.5810606', '31.2322758', '31.2322758', '51.2211097', '44.9772995', '32.7174202', '43.646067', '43.074761', '43.646067', '43.074761', '43.074761', '25.0375198', '23.4871369', '23.4871369', '35.996653', '37.9735346', '35.7803977', '41.8755616', '39.8695516', '36.0752297', '37.7790262', '36.0752297', '37.6624312', '44.7980186', '35.1159532', '38.92531295', '37.7790262', '47.6038321', '19.6238149', '25.0375198', '25.0452747', '25.0375198', '25.0452747', '32.7174202', '36.9157056', '43.074761', '44.9772995', '42.3192548', '44.9197889', '37.7840208', '40.4416941', '24.7519538', '24.7519538', '17.9640988', '24.7519538', '44.9772995', '44.9772995', '44.9772995', '24.8066333', '24.163162', '24.163162', '24.163162', '22.6623689', '24.163162', '30.2489634', '30.2489634', '-6.1753942', '-6.1753942', '30.2489634', '44.9772995', '37.2769484', '43.074761', '43.074761', '38.859829500000004', '38.859829500000004', '38.859829500000004', '22.2793278', '37.8314089', '24.9929995', '36.9157056', '43.0255208', '38.5810606', '43.2560802', '32.7174202', '38.97776585', '37.8753497', '25.0375198', '30.3466423', '41.8755616', '25.0375198', '30.3466423', '41.8755616', '25.0375198', '41.8755616', '24.9929995', '34.0536909', '25.0452747', '34.0536909', '23.4871369', '34.0536909', '23.4871369', '23.4871369', '23.4871369', '36.9157056', '34.0536909', '22.2793278', '34.0536909', '24.7519538', '34.0536909', '34.0536909', '25.072134249999998', '25.0375198', '38.5810606', '43.074761', '43.074761', '43.074761', '43.074761', '24.9929995', '24.9929995', '24.9929995', '24.9929995', '40.0154155', '23.4882887', '25.0375198', '41.2795414', '35.9803138', '41.1579008', '25.0375198', '32.7174202', '24.9653531', '24.7519538', '39.327962', '38.5810606', '23.12840235', '24.9929995', '37.7840208', '38.5810606', '40.0154155', '25.0375198', '44.9772995', '44.9772995', '33.350376499999996', '-33.8961132', '40.6526006', '35.6009498', '37.8753497', '37.8753497', '43.0020107', '39.327962', '47.6038321', '42.2586461', '43.6534817', '25.072134249999998', '45.5202471', '45.5202471', '43.074761', '23.4871369', '23.4871369', '23.4871369', '23.4871369', '37.2769484', '24.9929995', '41.1035786', '41.2795414', '32.7174202', '34.0536909', '23.4871369', '40.0154155', '34.0194704', '24.7475367', '24.7519538', '38.029306', '25.074282349999997', '25.074282349999997', '38.5810606', '24.163162', '24.163162', '43.074761', '43.074761', '25.0452747', '43.646067', '43.646067', '43.074761', '43.074761', '44.9772995', '25.072134249999998', '42.3039199', '23.4871369', '23.4871369', '23.4871369', '39.049011', '22.2793278', '43.074761', '41.2795414', '24.163162', '39.1014537', '46.7729322', '51.5073219', '23.12840235', '23.12840235', '37.7840208', '23.4871369', '38.5810606', '38.5810606', '38.5810606', '43.074761', '40.0154155', '34.0194704', '34.0181557', '30.2711286', '', '40.7215682', '23.12840235', '42.3039199', '24.7519538', '16.204996700000002', '44.9772995', '44.9772995', '24.307850000000002', '24.307850000000002', '43.074761', '23.4871369', '42.3039199', '34.0181557', '35.2272086', '43.074761', '43.074761', '32.7174202', '25.0375198', '25.0375198', '23.4871369', '25.0375198', '24.7519538', '43.0020107', '43.0020107', '43.0020107', '41.1579008', '41.8755616', '43.074761', '23.4871369', '42.9464737', '23.4871369', '48.7172272', '37.8314089', '30.3466423', '44.9032959', '40.0154155', '44.9772995', '43.6534817', '36.9157056', '25.7741728', '38.5810606', '44.9772995', '24.8066333', '43.074761', '44.9772995', '33.1580933', '22.3116452', '22.3116452', '23.4871369', '32.7174202', '23.4871369', '32.7174202', '32.7174202', '43.074761', '43.074761', '30.3466423', '44.9772995', '37.9735346', '19.557849', '19.557849', '19.6238149', '25.0375198', '20.763395', '19.2024436', '29.9759983', '19.517728', '31.2322758', '38.859829500000004', '38.859829500000004', '47.6038321', '32.3086744', '24.9929995', '24.9929995', '33.350376499999996', '23.4871369', '44.9772995', '46.5927425', '38.5810606', '24.163162', '32.7174202', '43.074761', '43.074761', '24.7519538', '44.8993923', '39.906217', '43.074761', '39.049011', '37.7840208', '37.7840208', '42.3554334', '49.2608724', '24.8066333', '44.9772995', '24.7519538', '42.3039199', '34.0181557', '23.4871369', '42.9464737', '23.4871369', '22.2793278', '23.4871369', '22.2793278', '23.4871369', '38.5810606', '37.2769484', '39.7392364', '47.458245', '47.458245', '31.2322758', '31.2322758', '34.0550328', '41.2795414', '34.0181557', '43.0255208', '44.9772995', '39.049011', '25.0375198', '25.0375198', '32.7174202', '30.2711286', '22.2793278', '46.2561815', '19.494428', '19.494428', '46.2561815', '45.7874957', '36.9157056', '36.9157056', '30.2711286', '38.0138934', '32.7174202', '', '40.0154155', '40.0154155', '40.0154155', '44.0581728', '38.5810606', '39.445723', '20.763395', '44.9772995', '20.763395', '44.9772995', '44.8993923', '30.3466423', '30.3466423', '41.9426657', '42.3039199', '42.3554334', '43.6610277', '42.679273', '44.3781114', '41.2795414', '42.9464737', '42.3750997', '25.0375198', '19.6238149', '40.1784471', '43.074761', '25.0375198', '43.074761', '42.9464737', '49.163168', '38.5810606', '38.5810606', '22.6203348', '40.6526006', '43.074761', '45.5202471', '45.5202471', '44.9772995', '32.7174202', '24.0755667', '44.9772995', '35.212870949999996', '', '36.1563122', '24.7519538', '36.1563122', '36.9157056', '38.5810606', '36.9157056', '38.5810606', '43.074761', '45.5202471', '23.4871369', '23.4871369', '23.4871369', '41.2795414', '47.0451022', '45.7874957', '43.6610277', '36.1622767', '34.0536909', '23.12840235', '36.0752297', '36.9157056', '32.7174202', '41.2795414', '41.2795414', '41.2795414', '23.12840235', '41.9153094', '38.5810606', '44.811108', '34.0536909', '34.0133561', '34.0133561', '34.0133561', '32.7174202', '43.074761', '32.7174202', '38.5810606', '19.6238149', '37.7840208', '24.7519538', '41.1035786', '24.7519538', '24.7519538', '37.7840208', '44.8993923', '44.8993923', '40.0154155', '40.0154155', '24.8066333', '32.7174202', '34.0550328', '42.3039199', '43.6534817', '23.4871369', '36.9157056', '24.7519538', '37.9735346', '39.906217', '35.7564719', '37.2769484', '37.050096', '34.0536909', '47.7391366', '33.1580933', '33.1580933', '24.8066333', '13.7524938', '13.7524938', '41.1035786', '35.2272086', '40.0154155', '40.0154155', '42.3039199', '0.0611715', '26.96093665', '42.3039199', '38.5810606', '43.074761', '38.5810606', '43.074761', '40.0154155', '45.7874957', '46.2561815', '46.5927425', '48.2765903', '44.8993923', '39.7392364', '39.7392364', '37.2769484', '37.2769484', '43.646067', '24.9929995', '24.9929995', '24.163162', '24.9929995', '23.4871369', '23.4871369', '25.074282349999997', '46.2561815', '41.8755616', '46.2561815', '41.8755616', '46.2561815', '46.2561815', '30.2711286', '45.7874957', '45.7874957', '35.212870949999996', '', '', '38.5810606', '43.074761', '43.074761', '43.074761', '37.7840208', '37.7840208', '42.3039199', '42.3039199', '42.3039199', '40.0154155', '40.0154155', '23.4871369', '23.4871369', '31.2322758', '35.2272086', '31.2322758', '47.6038321', '36.638392', '44.0581728', '42.09975', '44.0581728', '34.1469416', '44.0581728', '39.9527237', '43.6610277', '37.7790262', '34.6932379', '47.6038321', '39.049011', '23.4871369', '23.12840235', '25.0375198', '37.7840208', '38.5810606', '25.072134249999998', '51.5073219', '51.5073219', '43.6534817', '45.0165728', '37.5139145', '32.7174202', '43.074761', '', '', '', '39.049011', '26.1223084', '38.5810606', '25.072134249999998', '23.4871369', '35.2272086', '45.7874957', '43.0255208', '24.7519538', '24.839682', '40.0154155', '37.2769484', '38.0138934', '38.0138934', '38.0138934', '32.7174202', '34.0133561', '34.0133561', '38.5810606', '38.5810606', '38.5810606', '23.4871369', '46.5927425', '36.9157056', '43.074761', '36.9157056', '44.8993923', '23.4871369', '24.7519538', '24.839682', '25.0452747', '43.6534817', '38.0138934', '43.074761', '37.8044557', '32.7174202', '38.0138934', '37.8753497', '40.6526006', '47.6571934', '37.8044557', '37.3361663', '32.7174202', '33.7458511', '33.7458511', '24.307850000000002', '23.4871369', '24.163162', '23.4871369', '45.7874957', '25.011997', '39.7392364', '48.4283182', '46.2561815', '41.2795414', '26.96093665', '47.0451022', '43.447436', '44.9032959', '25.0375198', '23.4871369', '43.074761', '40.0154155', '42.3039199', '25.0452747', '25.0452747', '42.2411344', '43.074761', '32.7174202', '25.0375198', '24.8066333', '40.0154155', '44.8993923', '37.7840208', '25.0375198', '46.2561815', '39.9527237', '32.7762719', '24.0755667', '38.5810606', '25.072134249999998', '39.7392364', '40.0154155', '43.8563707', '', '39.7392364', '23.4871369', '30.3466423', '34.0133561', '25.0375198', '13.7524938', '36.9157056', '40.0154155', '40.0154155', '40.0154155', '34.1863161', '48.450293', '34.4458248', '19.6238149', '26.1223084', '19.2024436', '47.2495798', '36.9157056', '45.0165728', '30.2711286', '37.2870626', '37.9735346', '42.9464737', '39.049011', '22.9912348', '32.7174202', '24.0755667', '39.049011', '43.074761', '43.074761', '25.0375198', '23.4871369', '23.4871369', '34.0133561', '41.8755616', '24.8066333', '42.3039199', '42.3039199', '42.3039199', '34.0194704', '43.646067', '23.4871369', '44.648618', '43.646067', '41.8755616', '46.5927425', '23.4871369', '37.2405741', '47.7391366', '39.8695516', '34.0536909', '37.8044557', '43.074761', '24.163162', '19.6238149', '45.0165728', '35.2272086', '32.7174202', '45.7874957', '38.5810606', '23.4871369', '23.4871369', '13.7524938', '23.4871369', '36.9157056', '32.7174202', '45.7874957', '47.6571934', '45.5202471', '39.7392364', '25.7741728', '23.4871369', '38.5810606', '37.2769484', '43.074761', '37.2769484', '44.8993923', '45.5202471', '24.163162', '43.074761', '43.074761', '43.074761', '24.307850000000002', '24.307850000000002', '19.2024436', '24.163162', '36.9157056', '32.7174202', '24.163162', '32.7174202', '22.2793278', '38.5810606', '38.5810606', '38.5810606', '24.9929995', '35.2272086', '19.2024436', '24.9929995', '24.163162', '30.3466423', '45.0165728', '45.0165728', '43.074761', '43.074761', '39.049011', '39.049011', '39.049011', '45.5202471', '19.494428', '38.5810606', '42.3039199', '43.6610277', '23.4871369', '34.0133561', '23.4871369', '32.7174202', '34.0133561', '38.4375391', '47.6571934', '36.9157056', '43.6610277', '24.8066333', '38.2542376', '42.9464737', '40.0154155', '40.4959379', '25.0375198', '41.2795414', '32.7174202', '37.9735346', '43.074761', '41.2795414', '19.6238149', '34.0536909', '45.0165728', '-33.8961132', '44.9497487', '45.0165728', '25.7741728', '19.6238149', '23.4871369', '43.646067', '23.4871369', '43.6534817', '43.6534817', '43.6534817', '38.5810606', '34.0194704', '34.0133561', '37.7840208', '46.2561815', '44.8993923', '44.8993923', '42.1972487', '45.5202471', '41.9153094', '45.7874957', '47.6571934', '46.2561815', '36.9157056', '41.2795414', '39.1501662', '43.0255208', '43.447436', '39.049011', '23.4871369', '48.4283182', '38.5810606', '22.2793278', '22.2793278', '22.2793278', '22.2793278', '22.2793278', '22.2793278', '22.2793278', '22.2793278', '22.2793278', '34.0133561', '36.3496', '43.646067', '43.074761', '41.2795414', '32.7174202', '-6.1753942', '32.7174202', '32.7174202', '24.7475367', '40.0154155', '36.9157056', '23.12840235', '25.0452747', '42.9464737', '37.4443293', '30.2711286', '35.2272086', '40.9664806', '23.4871369', '32.7174202', '24.839682', '37.5385087', '43.447436', '39.445723', '41.8006523', '45.0165728', '25.072134249999998', '', '43.074761', '43.074761', '43.074761', '43.074761', '43.074761', '36.9157056', '36.9157056', '34.0133561', '34.0133561', '34.0133561', '34.0133561', '34.0133561', '34.0133561', '34.0133561', '34.0133561', '34.0133561', '34.0133561', '34.0133561', '25.0375198', '23.4871369', '23.4871369', '23.4871369', '39.1852184', '42.2411344', '25.074282349999997', '41.1035786', '36.1563122', '37.2769484', '36.1563122', '36.3496', '36.1563122', '43.8563707', '', '23.4871369', '38.029306', '40.0154155', '38.859829500000004', '37.5385087', '24.7519538', '41.2795414', '40.0154155', '45.5202471', '45.7874957', '41.1035786', '41.1035786', '43.074761', '42.4396039', '43.074761', '43.074761', '43.074761', '43.074761', '30.3466423', '37.5666791', '46.8701049', '42.3264181', '38.4375391', '26.96093665', '39.1501662', '37.9735346', '32.7174202', '35.2272086', '39.9622601', '38.8462236', '25.0375198', '45.0165728', '37.7840208', '34.0194704', '45.0165728', '23.4871369', '42.2411344', '34.0133561', '43.074761', '31.2322758', '37.7840208', '43.074761', '41.8755616', '37.7840208', '37.7840208', '', '36.1563122', '', '23.4871369', '33.1031744', '40.0154155', '32.7174202', '38.4375391', '43.074761', '43.074761', '39.049011', '37.9735346', '30.3466423', '38.5810606', '19.2024436', '32.2228765', '-1.950851', '47.6038321', '30.2711286', '33.1838787', '39.8695516', '32.7174202', '19.557849', '32.7174202', '34.0133561', '31.2322758', '31.2322758', '', '49.2608724', '49.2608724', '49.2608724', '22.2793278', '23.4871369', '18.465299', '40.0154155', '40.0154155', '42.2586461', '38.859829500000004', '32.7174202', '45.5202471', '19.557849', '37.9735346', '45.0165728', '34.0133561', '34.0133561', '23.4871369', '30.3466423', '43.646067', '43.646067', '41.1035786', '32.7174202', '38.5810606', '36.9157056', '45.7874957', '38.5810606', '36.9157056', '38.5810606', '38.5810606', '38.5810606', '38.029306', '42.3039199', '42.3039199', '43.074761', '43.074761', '43.074761', '38.4375391', '34.0194704', '23.4871369', '33.4484367', '32.2228765', '32.7762719', '33.4255056', '32.2228765', '35.212870949999996', '31.5970503', '32.7762719', '41.1035786', '41.8755616', '', '24.163162', '24.163162', '36.9157056', '39.7392364', '40.0154155', '39.7392364', '47.6038321', '40.0154155', '39.7392364', '35.2272086', '23.4871369', '40.6526006', '25.7741728', '43.6534817', '38.0138934', '34.183671', '38.0464066', '30.2711286', '37.8753497', '38.6319657', '38.5810606', '43.074761', '38.5810606', '38.5810606', '25.072134249999998', '24.9929995', '18.7934717', '43.074761', '25.072134249999998', '25.072134249999998', '25.072134249999998', '25.072134249999998', '38.029306', '38.029306', '36.9157056', '13.7524938', '13.7524938', '13.7524938', '13.7524938', '36.9157056', '41.1035786', '23.4871369', '34.0536909', '47.6038321', '43.074761', '43.074761', '25.0375198', '43.074761', '38.5810606', '24.163162', '45.0165728', '43.0255208', '41.2795414', '39.049011', '25.7741728', '42.1972487', '38.5810606', '28.5421109', '36.9157056', '', '47.6571934', '35.2272086', '24.9929995', '24.9929995', '42.2411344', '42.2411344', '37.4196598', '37.4196598', '44.8993923', '37.7790262', '37.7790262', '18.7997624', '24.9929995', '24.9929995', '33.7500378', '37.2769484', '44.8993923', '33.6170092', '31.2322758', '24.9929995', '43.074761', '32.7174202', '32.7174202', '40.0154155', '38.5810606', '39.445723', '39.445723', '37.7840208', '36.9157056', '37.7840208', '41.8755616', '43.074761', '41.8755616', '30.2711286', '38.5810606', '', '', '42.3039199', '39.049011', '40.0154155', '36.0752297', '35.2272086', '38.2542376', '38.5787966', '42.9832406', '42.1972487', '32.7174202', '37.2769484', '37.7790262', '39.049011', '36.9157056', '', '36.9157056', '38.5810606', '31.2322758', '36.1563122', '36.1563122', '31.2322758', '31.2322758', '31.2322758', '45.0165728', '36.9157056', '45.0165728', '34.0194704', '-33.8961132', '', '23.4871369', '39.049011', '39.1852184', '29.9759983', '39.1852184', '45.5202471', '45.5202471', '41.8755616', '31.5970503', '33.6170092', '43.447436', '45.7874957', '39.7392364', '46.7729322', '35.2272086', '38.5810606', '38.5810606', '41.2795414', '26.1223084', '34.0550328', '25.0452747', '25.0452747', '25.0452747', '25.0452747', '25.0452747', '25.0452747', '38.5810606', '23.4871369', '38.5810606', '39.9622601', '40.0154155', '32.7174202', '32.7174202', '30.2711286', '26.96093665', '26.1223084', '33.6170092', '38.8950368', '32.7174202', '45.0165728', '40.0154155', '30.2711286', '43.074761', '24.8164725', '43.074761', '37.7840208', '43.074761', '37.7840208', '30.3466423', '32.7174202', '42.3039199', '32.7174202', '32.3086744', '32.7174202', '38.8950368', '37.7840208', '42.4396039', '32.7174202', '29.9759983', '37.7840208', '43.074761', '34.0194704', '43.074761', '45.5202471', '38.5810606', '37.9735346', '43.6534817', '39.049011', '41.2795414', '35.2272086', '32.7174202', '44.648618', '45.0165728', '36.9157056', '43.447436', '40.0154155', '36.9157056', '36.9157056', '36.9157056', '23.4871369', '40.0154155', '23.4871369', '23.4871369', '44.4761601', '44.4761601', '44.4761601', '44.4761601', '52.5170365', '24.307850000000002', '24.307850000000002', '24.307850000000002', '44.4761601', '26.96093665', '26.96093665', '45.6794293', '44.8993923', '26.96093665', '24.7519538', '25.011997', '25.011997', '25.011997', '37.2405741', '-33.8698439', '25.0375198', '25.0452747', '36.1563122', '38.5810606', '25.0375198', '25.0375198', '37.2405741', '34.0536909', '39.049011', '41.8755616', '38.5810606', '38.5810606', '38.5810606', '24.307850000000002', '36.1563122', '43.074761', '40.0154155', '22.8272471', '40.0154155', '43.074761', '43.074761', '25.0375198', '25.0375198', '42.3039199', '36.9157056', '36.9157056', '45.0165728', '', '-37.8244246', '-33.91255125', '-37.8142176', '-33.8961132', '-33.8698439', '-37.8142176', '-37.8142176', '40.0154155', '32.7174202', '38.5810606', '38.5810606', '47.7391366', '22.8272471', '36.9157056', '42.5195292', '42.5195292', '32.3086744', '35.2272086', '34.0536909', '36.9157056', '40.6938609', '', '46.7729322', '46.7729322', '24.307850000000002', '39.9797863', '41.2795414', '45.7874957', '36.1563122', '25.072134249999998', '39.100105', '47.6038321', '25.0452747', '39.1501662', '25.0452747', '36.9157056', '36.9157056', '44.337125349999994', '36.1563122', '30.2711286', '23.4871369', '45.0165728', '40.6938609', '32.7174202', '32.7174202', '37.7840208', '43.074761', '37.7840208', '45.5202471', '45.5202471', '41.8755616', '', '39.8695516', '45.5202471', '47.6038321', '37.8044557', '35.996653', '39.7392364', '45.5202471', '41.8755616', '35.996653', '37.8044557', '41.8755616', '47.6038321', '36.9157056', '38.5810606', '40.6938609', '38.5810606', '30.3466423', '30.2711286', '32.7174202', '32.7174202', '42.3039199', '42.3039199', '31.3016935', '44.337125349999994', '44.337125349999994', '44.337125349999994', '44.337125349999994', '44.337125349999994', '44.337125349999994', '44.337125349999994', '44.337125349999994', '44.337125349999994', '44.337125349999994', '44.337125349999994', '39.1134562', '39.1134562', '38.5810606', '32.3086744', '37.7790262', '29.9759983', '37.7840208', '39.049011', '25.072134249999998', '47.7110106', '43.0255208', '25.0375198', '38.5810606', '37.9735346', '41.8755616', '32.7174202', '40.4959379', '46.2561815', '46.2561815', '31.2322758', '', '36.9157056', '36.9157056', '25.072134249999998', '25.072134249999998', '38.5810606', '38.5810606', '43.074761', '', '42.9464737', '40.6938609', '32.9552598', '51.5073219', '23.4871369', '23.4871369', '39.049011', '43.074761', '42.9464737', '43.074761', '45.6794293', '45.6794293', '38.5810606', '38.5810606', '47.7391366', '37.7790262', '39.8695516', '34.1483499', '37.8044557', '42.09975', '34.0536909', '44.9772995', '37.8753497', '37.8314089', '37.6624312', '42.09975', '33.6170092', '33.6170092', '25.072134249999998', '23.12840235', '22.661111', '36.9157056', '36.9157056', '36.9157056', '39.1852184', '44.4761601', '45.0165728', '38.859829500000004', '44.4761601', '44.4761601', '29.9759983', '34.0194704', '45.0165728', '24.307850000000002', '25.0375198', '25.0375198', '25.0375198', '25.0375198', '45.6794293', '42.7337712', '38.5810606', '38.5810606', '45.0165728', '38.5810606', '43.074761', '43.074761', '23.4871369', '37.7790262', '37.7790262', '37.7790262', '47.6038321', '40.1784471', '22.2793278', '24.9929995', '24.9929995', '24.9929995', '24.9929995', '24.9929995', '38.5810606', '40.0154155', '38.5810606', '39.049011', '', '45.6794293', '22.6203348', '38.5810606', '41.8006523', '47.0451022', '41.2795414', '', '41.2709274', '36.9157056', '47.9673056', '43.074761', '41.2709274', '40.0154155', '38.5810606', '40.0154155', '38.5810606', '39.7392364', '22.8272471', '32.7174202', '32.7174202', '43.074761', '43.074761', '36.9157056', '44.9497487', '22.8272471', '42.3039199', '36.9157056', '45.0165728', '37.7840208', '23.4871369', '38.5810606', '38.5810606', '48.4283182', '47.7391366', '32.7174202', '43.0255208', '43.0255208', '40.0154155', '40.0154155', '40.0154155', '25.0375198', '25.0375198', '17.9640988', '18.132468850000002', '42.3039199', '42.3039199', '42.3039199', '45.6794293', '39.445723', '47.7391366', '39.445723', '30.2711286', '45.6794293', '41.8006523', '45.0165728', '35.2272086', '47.6571934', '34.0536909', '32.7174202', '22.2793278', '22.2793278', '32.7174202', '32.7174202', '32.7174202', '42.3039199', '42.3039199', '32.3086744', '46.2561815', '46.2561815', '46.2561815', '38.5810606', '43.074761', '43.074761', '43.074761', '32.7174202', '43.074761', '43.074761', '40.4416941', '37.5666791', '25.0452747', '38.5810606', '32.8401623', '40.0154155', '37.9735346', '43.0255208', '47.6038321', '37.5666791', '39.9622601', '43.6534817', '24.9929995', '24.9929995', '38.5810606', '41.8755616', '37.7840208', '36.1563122', '36.9157056', '32.8401623', '38.5810606', '39.9622601', '43.074761', '43.9699997', '32.3086744', '36.1563122', '24.8066333', '41.8006523', '41.2795414', '32.7174202', '43.0255208', '25.0375198', '43.6534817', '42.9464737', '38.5810606', '45.5202471', '25.0452747', '23.12840235', '19.2024436', '40.0154155', '40.4416941', '25.0375198', '25.0375198', '25.0375198', '43.074761', '39.4667025', '32.7174202', '30.2711286', '37.5139145', '45.0165728', '45.0165728', '40.366432', '34.0536909', '34.0194704', '38.5810606', '40.6526006', '38.5810606', '39.049011', '47.0451022', '45.5202471', '47.6038321', '33.6170092', '37.7840208', '23.4871369', '33.6170092', '37.7840208', '38.5810606', '43.074761', '48.4283182', '34.0194704', '50.000678', '45.0165728', '32.8401623', '45.0165728', '46.2805407', '32.7174202', '38.5810606', '41.8006523', '45.0165728', '47.6571934', '48.7544012', '39.049011', '43.447436', '28.7008496', '37.7840208', '37.7840208', '34.0536909', '25.0375198', '47.6038321', '32.7174202', '42.9464737', '40.0154155', '32.3086744', '32.8401623', '41.2428742', '47.6038321', '37.8753497', '37.8044557', '47.6038321', '47.6038321', '37.8753497', '37.8044557', '47.6038321', '47.6038321', '23.4871369', '44.8993923', '25.0375198', '38.5810606', '43.6534817', '40.6526006', '38.5810606', '40.6526006', '36.9157056', '36.9157056', '34.0550328', '24.9929995', '24.9929995', '24.9929995', '34.0550328', '38.5810606', '32.3086744', '38.5810606', '38.5810606', '24.163162', '24.163162', '34.0550328', '25.0452747', '38.5810606', '38.5810606', '38.5810606', '38.5810606', '25.0375198', '48.4283182', '24.8164725', '47.6038321', '24.9929995', '38.5810606', '47.6038321', '40.0154155', '48.7544012', '37.7790262', '35.1595182', '45.7874957', '25.0375198', '22.8272471', '22.8272471', '40.4959379', '22.8272471', '40.4959379', '34.0194704', '41.2428742', '24.8164725', '52.5170365', '42.3039199', '42.3039199', '42.9464737', '40.0154155', '42.9464737', '40.0154155', '41.2709274', '37.9735346', '47.6038321', '39.049011', '32.8401623', '34.0536909', '47.6038321', '36.1563122', '28.7008496', '44.648618', '23.12840235', '25.0452747', '43.6534817', '39.049011', '39.049011', '39.445723', '48.4283182', '41.8755616', '36.1563122', '40.4959379', '45.0165728', '43.074761', '36.9157056', '36.9157056', '38.5810606', '32.3086744', '37.5139145', '25.0375198', '47.0451022', '43.0255208', '43.447436', '40.6526006', '44.9497487', '45.5202471', '45.5202471', '24.7475367', '39.445723', '37.9735346', '36.1563122', '37.5666791', '38.859829500000004', '-16.1886022', '38.5810606', '40.1784471', '48.4283182', '42.5195292', '23.4871369', '23.4871369', '38.5810606', '40.0154155', '47.6038321', '40.0154155', '40.0154155', '41.8006523', '40.7127281', '46.5218269', '25.0452747', '44.337125349999994', '10.376781300000001', '47.9756209', '44.8993923', '47.6038321', '37.8314089', '35.2272086', '24.307850000000002', '41.8755616', '24.307850000000002', '41.8755616', '49.2608724', '25.072134249999998', '45.0165728', '25.072134249999998', '45.0165728', '25.072134249999998', '32.8401623', '13.7524938', '13.7524938', '13.7524938', '32.7174202', '42.9464737', '47.6038321', '34.183671', '34.183671', '34.0536909', '19.6238149', '40.7127281', '39.100105', '39.100105', '43.0255208', '43.0255208', '42.3039199', '23.4871369', '24.9929995', '39.049011', '47.0451022', '38.5810606', '34.0536909', '38.5810606', '28.7008496', '40.0154155', '48.7544012', '42.9464737', '47.6038321', '47.9673056', '34.4358295', '38.5810606', '24.163162', '24.163162', '32.3086744', '24.163162', '41.2709274', '42.3039199', '37.8753497', '42.3039199', '37.8753497', '42.3039199', '37.8753497', '37.8753497', '23.4871369', '22.8272471', '45.7874957', '45.7874957', '45.0165728', '43.074761', '45.0165728', '43.074761', '37.7840208', '37.7840208', '37.7840208', '37.7840208', '24.9929995', '23.12840235', '24.307850000000002', '23.12840235', '24.307850000000002', '32.3086744', '28.7008496', '19.6238149', '38.5810606', '38.5810606', '45.7874957', '39.049011', '40.0154155', '37.9735346', '41.2709274', '41.8006523', '44.9772995', '34.0536909', '43.074761', '24.9929995', '41.0017643', '42.9464737', '37.8044557', '37.8044557', '39.8695516', '37.9735346', '42.4396039', '45.5202471', '39.8695516', '32.7174202', '45.5031824', '45.5202471', '47.2061882', '43.0255208', '43.0255208', '43.0255208', '35.3540209', '44.4761601', '34.0194704', '39.7589478', '39.049011', '41.2709274', '32.3086744', '39.049011', '43.074761', '39.049011', '43.074761', '38.5810606', '44.9772995', '44.9497487', '45.0165728', '39.100105', '39.100105', '43.074761', '43.074761', '38.5810606', '32.7174202', '22.8272471', '36.638392', '31.629174', '39.049011', '39.049011', '38.5810606', '36.1563122', '34.0536909', '40.0154155', '39.445723', '34.0536909', '38.5810606', '22.9914751', '22.3116452', '37.5666791', '38.5810606', '44.9772995', '37.9735346', '47.6038321', '40.6526006', '41.8755616', '40.6526006', '44.9772995', '24.8164725', '34.0536909', '23.12840235', '34.0536909', '23.12840235', '44.230687', '45.0165728', '45.0165728', '45.0165728', '25.072134249999998', '44.8993923', '25.072134249999998', '44.8993923', '25.072134249999998', '37.9735346', '39.445723', '19.2024436', '19.6238149', '19.557849', '32.7174202', '21.304547', '54.08772485', '54.5172715', '41.2428742', '38.5810606', '43.074761', '43.074761', '43.074761', '38.5810606', '37.5666791', '34.0550328', '34.0536909', '32.7174202', '43.6534817', '35.7803977', '37.8044557', '38.9719384', '47.6038321', '34.0536909', '45.5202471', '34.0536909', '35.7803977', '43.074761', '32.8401623', '42.9464737', '42.9464737', '42.9464737', '43.074761', '32.8401623', '32.8401623', '45.7874957', '45.7874957', '37.7840208', '37.7840208', '37.7840208', '47.6038321', '45.0165728', '47.6038321', '35.8460396', '42.3039199', '42.3039199', '42.9464737', '44.9772995', '45.0165728', '23.4871369', '48.202158', '42.9632405', '39.8695516', '45.7874957', '36.1563122', '39.8695516', '45.6794293', '39.049011', '38.6319657', '43.6534817', '37.3361663', '34.0194704', '43.6534817', '32.3086744', '39.8695516', '39.8695516', '39.8695516', '39.8695516', '43.074761', '43.074761', '40.6526006', '40.6526006', '38.5810606', '38.5810606', '53.7974185', '51.5073219', '51.5073219', '50.94458445', '51.4538022', '55.9533456', '44.9772995', '36.1563122', '25.0375198', '43.0255208', '45.7874957', '44.9772995', '44.9772995', '44.9772995', '35.5641425', '34.0696501', '35.2272086', '37.8314089', '41.2709274', '29.95588735', '37.5666791', '41.8006523', '37.7790262', '37.8044557', '24.307850000000002', '39.100105', '23.4871369', '24.307850000000002', '39.100105', '32.8401623', '37.3361663', '37.8044557', '39.7392364', '41.2709274', '39.049011', '43.0255208', '45.0165728', '37.3361663', '37.7790262', '37.9735346', '48.7544012', '40.6938609', '43.074761', '43.074761', '43.074761', '42.9464737', '45.0165728', '44.8993923', '44.8993923', '44.8993923', '44.8993923', '34.0550328', '45.7874957', '44.9772995', '45.0165728', '47.9756209', '37.7790262', '41.2709274', '37.7790262', '37.8044557', '47.6038321', '41.2795414', '45.6794293', '37.9735346', '37.3361663', '42.9464737', '43.074761', '24.9929995', '42.9632405', '23.12840235', '42.9632405', '45.0165728', '40.6938609', '40.6938609', '32.7174202', '36.1563122', '34.0194704', '43.074761', '34.0536909', '37.7840208', '37.7840208', '37.7840208', '37.7840208', '42.9464737', '42.9464737', '42.9464737', '47.6038321', '24.9929995', '38.5810606', '44.8993923', '43.6534817', '38.5810606', '38.5810606', '38.5810606', '39.049011', '45.6306954', '42.9632405', '23.12840235', '37.3361663', '22.9914751', '25.072134249999998', '37.5666791', '48.7544012', '25.072134249999998', '37.8044557', '25.072134249999998', '41.2587459', '39.9622601', '41.8755616', '39.9622601', '37.5666791', '39.049011', '42.9464737', '23.4871369', '23.4871369', '40.6938609', '31.2322758', '38.6319657', '36.1563122', '24.9929995', '44.9772995', '45.5202471', '44.9772995', '24.9929995', '25.0452747', '37.363679', '42.3167397', '21.304547', '32.7174202', '38.5810606', '42.3839025', '35.212870949999996', '52.080985600000005', '37.5666791', '42.9464737', '34.0696501', '34.0536909', '47.0451022', '37.9735346', '47.9673056', '43.0255208', '42.3039199', '37.7840208', '42.9464737', '42.9464737', '44.9772995', '45.0165728', '42.3039199', '38.5810606', '37.7840208', '37.7840208', '24.9929995', '33.6170092', '40.6938609', '48.7544012', '48.7544012', '48.7544012', '38.6319657', '23.4871369', '32.8401623', '44.9772995', '44.9772995', '44.9772995', '44.9772995', '19.7589517', '42.5195292', '24.7475367', '40.0154155', '43.0255208', '32.8401623', '38.5787966', '22.312937', '38.5810606', '42.3039199', '47.0451022', '37.8044557', '41.2709274', '34.0194704', '45.0165728', '44.337125349999994', '44.337125349999994', '44.337125349999994', '44.337125349999994', '37.7840208', '32.8401623', '32.8401623', '45.0165728', '37.5666791', '19.6238149', '47.6038321', '44.8993923', '23.4871369', '38.5810606', '38.5810606', '38.5810606', '35.1595182', '32.7174202', '45.5202471', '25.0375198', '48.2765903', '36.1563122', '19.6238149', '37.5666791', '23.12840235', '24.7475367', '42.3839025', '47.0451022', '41.2709274', '43.6610277', '47.0451022', '42.9464737', '42.9464737', '43.074761', '32.8401623', '34.0536909', '38.8462236', '45.5202471', '37.3361663', '45.5202471', '23.12840235', '32.8401623', '25.0375198', '32.753177', '43.5896231', '43.5896231', '43.5896231', '43.5896231', '32.753177', '39.049011', '39.049011', '38.5810606', '34.0536909', '44.9772995', '34.0536909', '32.7174202', '32.8401623', '15.5855545', '47.6038321', '47.6571934', '32.0564572', '24.7475367', '47.6038321', '34.0536909', '43.447436', '45.7874957', '33.6170092', '33.6170092', '33.6170092', '51.0460954', '51.0460954', '39.7392364', '49.163168', '49.163168', '49.163168', '43.074761', '45.0165728', '45.0165728', '45.0165728', '45.0165728', '19.557849', '32.3086744', '42.9464737', '47.6038321', '38.5810606', '32.3086744', '37.7790262', '40.4959379', '45.5202471', '37.8044557', '41.9537035', '35.996653', '35.824341', '41.8755616', '37.8044557', '41.0017643', '32.7174202', '43.074761', '43.074761', '51.0460954', '32.7174202', '61.2163129', '43.6610277', '38.5810606', '24.9929995', '44.8993923', '43.074761', '44.9772995', '38.5810606', '45.0165728', '42.5195292', '46.5218269', '46.5218269', '45.0677551', '47.6038321', '43.1070321', '45.0677551', '47.6038321', '43.1070321', '44.337125349999994', '44.337125349999994', '44.337125349999994', '45.0165728', '43.6610277', '45.0165728', '45.0165728', '45.0165728', '42.4850931', '45.0165728', '43.6610277', '43.074761', '23.12840235', '43.074761', '34.0696501', '42.3039199', '24.9929995', '24.9929995', '61.2163129', '39.100105', '45.0165728', '25.0375198', '41.2709274', '42.9464737', '38.5810606', '25.0375198', '25.0375198', '25.0375198', '37.9735346', '43.074761', '47.6038321', '40.6938609', '42.9464737', '13.7524938', '47.6038321', '39.100105', '51.0460954', '34.0194704', '41.2709274', '19.2024436', '51.0460954', '39.100105', '41.2587459', '40.6938609', '43.074761', '34.0194704', '44.8993923', '45.0165728', '', '44.8993923', '35.8460396', '24.7475367', '43.074761', '47.6038321', '22.9914751', '38.5810606', '25.072134249999998', '47.6038321', '45.7874957', '47.6038321', '40.0154155', '24.9929995', '24.7475367', '25.072134249999998', '43.5488256', '32.8401623', '51.0460954', '25.0452747', '42.9464737', '37.363679', '24.9929995', '25.0452747', '42.5195292', '25.072134249999998', '42.9464737', '23.7365203', '38.5810606', '24.307850000000002', '22.2793278', '37.7840208', '22.2793278', '37.7840208', '33.6170092', '33.6170092', '22.2793278', '33.6170092', '32.3086744', '60.6750132', '44.9772995', '44.337125349999994', '40.8436664', '47.6038321', '44.9772995', '44.8993923', '47.6038321', '44.337125349999994', '44.337125349999994', '44.337125349999994', '44.337125349999994', '42.3039199', '43.074761', '42.9464737', '41.2587459', '47.6038321', '41.2587459', '41.2587459', '45.5202471', '42.9464737', '34.1729044', '47.7545827', '41.2709274', '41.2709274', '42.9464737', '32.3086744', '45.0165728', '32.8401623', '42.9464737', '45.0165728', '13.7524938', '24.7475367', '25.0452747', '38.2542376', '32.7174202', '51.0460954', '39.049011', '32.8401623', '41.2709274', '43.5569174', '37.9735346', '19.557849', '44.9772995', '45.0165728', '40.4862174', '43.074761', '39.049011', '40.4862174', '43.074761', '43.074761', '42.9464737', '47.6038321', '40.0154155', '30.8327022', '32.7174202', '42.4850931', '43.074761', '41.2709274', '42.4850931', '45.0165728', '41.2709274', '43.074761', '42.4850931', '34.0536909', '46.2561815', '43.074761', '43.6610277', '40.6938609', '44.8993923', '24.988726', '40.6938609', '44.9772995', '40.6938609', '25.0452747', '25.0452747', '25.0452747', '13.7524938', '49.2608724', '43.074761', '41.2587459', '47.6038321', '34.0536909', '34.065846', '24.9929995', '45.0165728', '48.1435149', '48.1435149', '48.1435149', '43.5488256', '22.2793278', '47.6038321', '25.072134249999998', '25.072134249999998', '47.6038321', '25.072134249999998', '43.6610277', '42.4850931', '38.5810606', '51.0460954', '43.6610277', '43.6610277', '51.0460954', '35.1595182', '32.7762719', '47.6038321', '41.1536674', '41.2587459', '41.2709274', '45.7874957', '47.9673056', '37.8314089', '38.9786401', '39.7392364', '35.6009498', '45.0165728', '49.2608724', '49.2608724', '44.8993923', '34.065846', '34.065846', '34.065846', '34.065846', '34.065846', '44.9772995', '34.0536909', '43.5896231', '43.5896231', '24.9929995', '39.049011', '38.5810606', '41.2709274', '32.7174202', '41.764582', '41.764582', '38.5810606', '48.7544012', '47.9673056', '47.7391366', '35.8460396', '41.2587459', '34.0536909', '37.8044557', '43.5569174', '25.0452747', '33.6170092', '38.5810606', '39.049011', '42.3039199', '45.0165728', '42.4850931', '24.839682', '24.839682', '37.7840208', '24.839682', '37.7840208', '39.049011', '44.337125349999994', '39.049011', '44.337125349999994', '39.049011', '44.337125349999994', '23.12840235', '24.9929995', '33.7690164', '23.12840235', '41.2587459', '32.7174202', '24.9929995', '23.12840235', '25.072134249999998', '25.072134249999998', '42.3039199', '38.5810606', '51.0460954', '40.6938609', '40.6938609', '42.3039199', '40.8436664', '41.0467635', '36.3728538', '47.6038321', '36.3728538', '36.8455173', '43.074761', '43.074761', '42.4850931', '45.0165728', '45.0165728', '47.7391366', '39.049011', '39.049011', '39.049011', '24.307850000000002', '32.8401623', '47.6038321', '24.307850000000002', '44.7606441', '43.447436', '39.9622601', '35.8460396', '44.9772995', '39.445723', '37.8044557', '45.5202471', '39.049011', '44.8993923', '40.6938609', '40.6938609', '43.5488256', '43.074761', '43.5488256', '45.5202471', '44.9772995', '51.0460954', '51.0460954', '22.2793278', '32.7174202', '22.2793278', '47.6038321', '47.6038321', '34.0536909', '44.337125349999994', '32.8401623', '44.9772995', '36.0752297', '39.100105', '41.2795414', '33.6170092', '47.9673056', '45.5202471', '47.0451022', '34.0536909', '47.6038321', '38.5810606', '51.0460954', '51.0460954', '44.337125349999994', '44.337125349999994', '43.074761', '32.8401623', '41.1832679', '43.074761', '39.049011', '33.6170092', '34.0536909', '39.049011', '13.7524938', '13.7524938', '33.6170092', '13.7524938', '43.074761', '45.0165728', '33.7690164', '41.2795414', '47.6038321', '38.5810606', '37.9735346', '24.7475367', '24.9929995', '41.2795414', '34.0536909', '34.0536909', '40.4862174', '44.9772995', '13.7524938', '39.6444898', '44.8993923', '25.011997', '43.5488256', '40.1784471', '37.7840208', '37.7840208', '43.074761', '47.6038321', '34.1066756', '32.7174202', '43.074761', '44.9772995', '22.2793278', '13.7524938', '19.2024436', '44.9772995', '22.2793278', '45.0165728', '22.2793278', '43.074761', '43.6610277', '49.163168', '44.337125349999994', '22.9914751', '23.12840235', '22.9914751', '24.7475367', '23.9099561', '23.12840235', '24.9929995', '23.12840235', '24.9929995', '23.12840235', '23.12840235', '24.9929995', '24.9929995', '22.2793278', '24.9929995', '22.2793278', '16.204996700000002', '40.1278839', '24.9929995', '19.494428', '40.1278839', '43.6610277', '39.4667025', '44.9772995', '39.049011', '36.8455173', '38.5810606', '33.6170092', '38.5810606', '37.9735346', '43.074761', '32.8401623', '42.4850931', '41.2795414', '43.074761', '34.09751', '42.4850931', '44.337125349999994', '43.074761', '42.4850931', '43.074761', '37.3688301', '42.4850931', '44.8993923', '43.074761', '42.3039199', '45.0165728', '19.6238149', '51.0460954', '40.1278839', '24.307850000000002', '23.12840235', '36.8455173', '24.307850000000002', '43.5488256', '43.074761', '25.7741728', '45.300347', '43.5569174', '43.447436', '48.8296672', '33.6170092', '23.12840235', '25.7741728', '40.4862174', '42.4850931', '39.049011', '42.3039199', '47.6038321', '47.6038321', '32.8401623', '42.3039199', '47.6038321', '44.337125349999994', '13.7524938', '40.6526006', '40.8088861', '32.7174202', '39.5261206', '39.5261206', '47.0451022', '40.0154155', '45.5202471', '25.0452747', '37.9735346', '40.6526006', '47.7110106', '35.73951', '44.0581728', '47.6038321', '40.1278839', '40.6769624', '30.8327022', '46.2561815', '45.0165728', '45.0165728', '44.8993923', '42.4850931', '25.0452747', '47.7391366', '43.5488256', '46.2561815', '24.9929995', '24.9929995', '36.8455173', '44.337125349999994', '44.337125349999994', '43.074761', '43.074761', '37.7840208', '42.2411344', '42.2411344', '42.2411344', '42.2411344', '25.0452747', '42.1584324', '47.6038321', '37.8753497', '47.6038321', '45.5202471', '45.5202471', '37.8753497', '35.996653', '47.6038321', '42.3039199', '43.6610277', '43.6610277', '44.337125349999994', '44.337125349999994', '42.098408', '38.6786109', '42.098408', '42.1608585', '38.6786109', '47.6038321', '42.7876022', '37.8753497', '45.5202471', '37.9735346', '41.2795414', '41.2795414', '37.9735346', '19.6238149', '31.2322758', '55.001251', '38.5810606', '43.5569174', '47.6038321', '38.5810606', '5.1065543', '37.9735346', '38.5810606', '44.337125349999994', '44.337125349999994', '44.337125349999994', '19.2024436', '40.4862174', '32.8401623', '42.9832406', '42.4396039', '45.5202471', '39.049011', '44.0581728', '43.5488256', '36.1563122', '42.9832406', '38.5810606', '24.9929995', '23.12840235', '44.9772995', '23.12840235', '43.447436', '40.1784471', '39.5261206', '43.074761', '42.2411344', '43.074761', '43.074761', '40.8436664', '45.0677551', '42.09975', '40.8436664', '41.0762077', '45.6496485', '42.1584324', '43.074761', '43.074761', '45.0677551', '47.6038321', '47.6038321', '47.6038321', '42.4396039', '47.6038321', '47.6038321', '32.7762719', '32.3086744', '45.0165728', '45.0165728', '13.7524938', '13.7524938', '10.376781300000001', '10.376781300000001', '45.5202471', '37.7840208', '37.7840208', '43.9145244', '49.163168', '40.5200187', '47.0451022', '43.6610277', '32.8401623', '43.074761', '43.6610277', '45.5202471', '43.5569174', '47.7110106', '39.100105', '43.6610277', '43.074761', '32.7174202', '43.6610277', '', '43.5569174', '45.5202471', '47.6038321', '37.9735346', '41.2795414', '42.4850931', '35.996653', '37.7790262', '35.996653', '42.2528649', '34.09751', '43.5488256', '42.4396039', '40.6526006', '51.0460954', '44.337125349999994', '39.4667025', '43.074761', '43.074761', '43.074761', '43.074761', '38.5810606', '43.074761', '43.074761', '43.6610277', '32.8401623', '43.6610277', '44.9772995', '45.0165728', '39.100105', '45.0165728', '45.0165728', '42.3039199', '38.5810606', '38.5810606', '38.5810606', '39.445723', '51.0460954', '40.6526006', '35.996653', '35.824341', '33.7690164', '39.9622601', '38.5810606', '43.6610277', '43.9145244', '43.6610277', '32.8401623', '39.049011', '43.074761', '43.074761', '42.3039199', '42.3039199', '45.5202471', '45.0165728', '32.7174202', '45.5202471', '43.5569174', '45.0165728', '42.9825634', '37.8044557', '44.337125349999994', '47.6038321', '42.0219112', '45.5351189', '37.2769484', '35.996653', '39.100105', '48.7544012', '37.3361663', '48.450293', '45.5202471', '19.4326296', '40.6526006', '43.5488256', '44.8993923', '45.5202471', '45.5202471', '45.5202471', '42.9832406', '51.0460954', '45.5031824', '43.447436', '49.2608724', '45.226049', '43.2661904', '43.6534817', '49.163168', '44.648618', '49.2608724', '49.2433804', '43.8801166', '39.100105', '25.0375198', '45.5202471', '32.8401623', '44.8993923', '37.7840208', '38.5810606', '38.5810606', '45.5202471', '51.0460954', '45.0165728', '51.0460954', '45.0165728', '38.6319657', '41.8755616', '47.6038321', '24.9929995', '40.6526006', '39.7392364', '35.824341', '47.0451022', '47.6038321', '42.4850931', '42.9832406', '42.4850931', '42.4850931', '43.6534817', '42.4850931', '51.0460954', '38.5810606', '37.7840208', '37.7840208', '37.7840208', '42.5195292', '39.4667025', '42.5195292', '45.5202471', '45.5202471', '39.049011', '44.8993923', '33.5206824', '41.7936822', '53.0758196', '41.7936822', '43.447436', '47.6038321', '', '44.337125349999994', '46.5218269', '47.6038321', '46.5218269', '41.764582', '44.337125349999994', '46.5218269', '44.337125349999994', '43.5488256', '45.0165728', '44.8993923', '39.049011', '45.5202471', '45.5202471', '32.8401623', '44.337125349999994', '43.6610277', '43.6610277', '38.5810606', '38.5810606', '24.988726', '32.8401623', '40.6526006', '19.6238149', '43.074761', '43.074761', '39.4667025', '37.7840208', '44.8993923', '54.710128', '54.710128', '54.710128', '54.710128', '54.710128', '54.710128', '54.710128', '42.09975', '34.1469416', '47.6038321', '42.09975', '42.09975', '34.1483499', '34.1469416', '47.6038321', '34.1469416', '37.7249296', '45.0165728', '45.0165728', '43.5569174', '43.5488256', '40.6769624', '49.2608724', '44.337125349999994', '43.6610277', '51.0460954', '39.100105', '43.074761', '43.6610277', '43.6610277', '45.5202471', '41.504879', '42.3554334', '49.2608724', '39.445723', '32.0564572', '44.9772995', '49.2433804', '47.7110106', '45.5202471', '45.5202471', '45.5202471', '45.5202471', '45.5202471', '19.6238149', '25.0375198', '43.5569174', '34.0211224', '38.5810606', '39.049011', '39.049011', '38.5810606', '39.049011', '38.5810606', '39.049011', '45.0165728', '45.0165728', '42.5195292', '33.9776848', '37.2333253', '42.4850931', '42.4850931', '42.1972487', '41.878711', '43.8922563', '33.6856969', '44.337125349999994', '43.074761', '38.6319657', '43.5569174', '38.5810606', '35.996653', '42.4850931', '51.0460954', '43.5488256', '45.5202471', '42.3039199', '45.5202471', '45.5202471', '45.5202471', '45.5202471', '39.049011', '43.5488256', '49.163168', '45.0165728', '45.0165728', '43.074761', '43.074761', '43.074761', '44.337125349999994', '44.337125349999994', '35.9099875', '33.4255056', '51.0460954', '51.0460954', '37.2333253', '44.337125349999994', '44.648618', '40.6526006', '49.163168', '49.163168', '33.9776848', '37.7840208', '44.9772995', '44.9772995', '45.5202471', '44.9772995', '44.9772995', '39.049011', '45.5202471', '44.9772995', '26.6059432', '49.2608724', '13.7524938', '13.7524938', '13.7524938', '40.7415095', '13.7524938', '42.9832406', '39.100105', '42.3039199', '24.9929995', '37.7840208', '34.1066756', '32.7174202', '43.6534817', '45.0165728', '39.049011', '43.5488256', '19.2024436', '49.2608724', '51.0460954', '43.447436', '25.0375198', '34.1066756', '33.7690164', '33.7690164', '33.7690164', '33.7690164', '40.6769624', '32.8401623', '41.8755616', '45.0165728', '24.9929995', '33.6856969', '25.0452747', '44.337125349999994', '33.6856969', '44.337125349999994', '39.1698022', '12.9081033', '45.5202471', '39.445723', '38.6319657', '42.4153739', '37.2333253', '35.996653', '14.5589875', '42.8014795', '40.0154155', '34.1066756', '37.8044557', '38.5810606', '39.049011', '40.6526006', '43.074761', '40.6526006', '25.0375198', '45.5202471', '45.5202471', '45.5202471', '40.1278839', '43.074761', '25.056409799999997', '44.337125349999994', '44.337125349999994', '33.6856969', '45.5202471', '42.4850931', '45.5202471', '42.4850931', '64.837845', '37.7790262', '43.447436', '39.049011', '51.0460954', '47.6038321', '48.7544012', '42.4396039', '32.7174202', '35.996653', '45.0165728', '43.074761', '45.5202471', '45.5202471', '45.5202471', '45.0165728', '45.5202471', '44.337125349999994', '32.8401623', '30.6867339', '32.8401623', '43.5488256', '45.5202471', '19.494428', '43.8922563', '43.8922563', '43.074761', '43.6534817', '39.100105', '40.6526006', '38.5810606', '43.074761', '45.5202471', '43.074761', '42.3039199', '43.7698712', '40.6526006', '40.6526006', '51.0460954', '51.0460954', '34.1066756', '40.8088861', '45.5202471', '38.545379', '40.5200187', '38.5810606', '37.9735346', '47.7110106', '41.8755616', '42.8014795', '44.337125349999994', '45.0165728', '44.337125349999994', '44.337125349999994', '43.074761', '43.8801166', '43.8801166', '43.8801166', '43.8801166', '45.0165728', '32.0564572', '43.074761', '43.074761', '43.074761', '43.074761', '43.074761', '42.9832406', '37.2769484', '40.0154155', '49.2433804', '49.2433804', '32.8401623', '42.8014795', '36.0726355', '51.0460954', '51.0460954', '37.9735346', '47.0451022', '42.4850931', '37.7840208', '43.8801166', '43.8801166', '43.8801166', '43.8801166', '39.049011', '39.049011', '45.0165728', '44.337125349999994', '45.0165728', '39.100105', '39.100105', '42.3039199', '16.204996700000002', '51.0460954', '51.0460954', '51.0460954', '34.0211224', '32.7174202', '33.6856969', '34.0536909', '34.1476452', '34.1729044', '33.6170092', '34.093042', '34.0536909', '32.8401623', '34.1066756', '33.6170092', '34.0536909', '42.4850931', '25.0223349', '43.6534817', '43.6534817', '43.6534817', '43.6534817', '43.6534817', '45.0165728', '43.8801166', '45.5202471', '45.5202471', '45.5202471', '45.5202471', '45.5202471', '25.0452747', '45.5202471', '43.6534817', '45.5202471', '47.0451022', '47.0451022', '39.100105', '45.5202471', '38.9786401', '44.648618', '43.447436', '38.5810606', '34.1066756', '38.9786401', '44.8452432', '45.0165728', '42.3039199', '47.0451022', '42.4850931', '45.0165728', '42.4850931', '32.8401623', '48.4283182', '45.0165728', '44.337125349999994', '44.337125349999994', '30.4759222', '25.0452747', '24.988726', '39.049011', '40.5200187', '20.0402072', '45.5202471', '28.5421109', '45.5202471', '44.9772995', '42.3039199', '19.6238149', '19.494428', '45.0165728', '19.2024436', '43.5488256', '43.5569174', '24.9929995', '24.9929995', '48.7544012', '43.5569174', '43.5569174']\n",
      "['-122.5310874', '-112.074141', '-112.074141', '-122.5310874', '121.67991896754117', '-89.3837613', '121.7533344', '121.7533344', '-79.4428157', '-79.4428157', '121.5636796', '121.5636796', '121.5636796', '-155.9536379', '-117.1627728', '121.3010003', '-80.6520161', '-117.1627728', '-93.2654692', '-93.2654692', '121.67991896754117', '121.4656619', '-93.2654692', '121.4656619', '-155.105667', '-155.105667', '120.40200825216095', '-121.493895', '120.40200825216095', '120.40200825216095', '-121.493895', '120.40200825216095', '120.40200825216095', '-121.493895', '-108.49607', '-86.2307992', '-122.674194', '120.9686833', '-70.2548596', '-90.8887413', '-117.1627728', '-117.0814849', '-85.5872286', '-89.3837613', '-77.4752667', '-117.1627728', '-89.3837613', '-77.4752667', '-77.4752667', '-77.4752667', '-155.9536379', '-107.8766', '121.7533344', '-117.1627728', '120.6478282', '120.487928', '120.487928', '-110.9748477', '121.5078001', '121.5078001', '-89.3837613', '-89.3837613', '-155.9536379', '-111.044047', '-80.3876889', '-117.1627728', '-117.1627728', '-79.4428157', '-79.4428157', '-79.4428157', '121.5636796', '121.5636796', '-80.19362', '-80.8430827', '-81.0951271', '120.40200825216095', '-114.09666640516207', '121.5636796', '-80.3876889', '120.2124235', '-70.7618592', '-95.9927436', '-89.3837613', '-70.2548596', '-70.2548596', '-70.2548596', '-84.5680427', '-89.3837613', '-114.9826194', '-89.3837613', '-114.9826194', '-89.3837613', '-74.047455', '120.93291098389277', '120.93291098389277', '120.93291098389277', '120.40200825216095', '-94.3124116', '121.5636796', '121.5636796', '121.5636796', '121.5078001', '121.5078001', '120.40200825216095', '120.40200825216095', '-117.1627728', '-117.1627728', '-93.2654692', '-89.3837613', '-93.2654692', '120.2124235', '120.2124235', '120.2124235', '-111.044047', '-111.044047', '-111.044047', '-119.0779359', '-117.1627728', '-117.1627728', '-117.1627728', '-119.702667', '-118.2478471', '-117.865339', '-117.690075', '-80.6520161', '-73.2340974', '116.0728988', '116.0728988', '116.0728988', '-95.677556', '121.7533344', '-0.1276474', '121.7533344', '121.7533344', '', '-118.2478471', '-117.1627728', '-117.1627728', '-117.1627728', '-95.677556', '-93.2654692', '-78.8688833', '-78.8688833', '-79.4428157', '-79.4428157', '-79.4428157', '-117.1627728', '121.5636796', '-117.1627728', '', '121.5636796', '121.5636796', '-108.212043', '-122.5310874', '-68.760681', '-108.212043', '-108.212043', '-108.212043', '-68.760681', '120.40200825216095', '-89.3837613', '-89.3837613', '120.40200825216095', '120.40200825216095', '-117.1627728', '121.3010003', '-89.3837613', '-89.3837613', '-117.1627728', '-74.047455', '-93.2654692', '-95.677556', '121.7533344', '120.40200825216095', '121.3010003', '-73.2340974', '121.5636796', '-155.9536379', '-74.047455', '-93.2654692', '-93.2654692', '-117.1627728', '-74.047455', '-89.3837613', '-93.2654692', '120.184982', '120.184982', '121.5636796', '121.5636796', '-75.9768632', '121.67991896754117', '-119.8126581', '-119.8126581', '-84.5680427', '-84.5680427', '113.5380454', '-80.8430827', '121.5636796', '120.5372523', '135.490357', '-117.1627728', '-110.9748477', '-70.2548596', '-70.2548596', '-70.2548596', '-70.2548596', '121.3010003', '-95.677556', '120.40200825216095', '121.5636796', '121.5636796', '-117.1627728', '-84.5680427', '121.5636796', '-72.8150989', '121.5078001', '121.5636796', '121.5636796', '-111.044047', '-89.3837613', '-93.2654692', '120.9820179', '-89.3837613', '-114.9826194', '-111.044047', '-89.3837613', '-114.9826194', '-89.3837613', '-93.2654692', '-93.2654692', '-93.2654692', '-93.2654692', '-93.2654692', '121.5078001', '121.5078001', '121.5078001', '121.5078001', '121.5078001', '121.5078001', '120.40200825216095', '120.40200825216095', '-78.8688833', '-78.8688833', '-117.1627728', '-89.3837613', '-155.4773466', '-89.3837613', '-117.1627728', '-89.3837613', '-117.1627728', '-89.3837613', '-117.1627728', '-111.044047', '-89.3837613', '-111.044047', '36.815686702129064', '-89.3837613', '-79.4428157', '-93.2654692', '-121.493895', '-93.2654692', '-121.493895', '-121.493895', '121.7533344', '121.7533344', '-155.9536379', '121.3010003', '-93.2654692', '-117.1627728', '-155.4773466', '-76.7702093', '-122.391675', '121.5636796', '-122.23963364918777', '-106.71324849574629', '-107.8766', '-122.330062', '-122.23963364918777', '-122.330062', '-117.1627728', '-121.493895', '-89.3837613', '121.5636796', '121.4656619', '121.4656619', '-93.2654692', '120.40200825216095', '-75.9768632', '-117.1627728', '-80.8430827', '-75.9768632', '120.40200825216095', '120.40200825216095', '121.5636796', '121.5636796', '121.67991896754117', '-121.493895', '-89.3837613', '-117.1627728', '-89.3837613', '-89.3837613', '-117.1627728', '-89.3837613', '121.4595099', '121.4595099', '-78.8783922', '-76.7702093', '-78.8783922', '-78.8783922', '-117.1627728', '-93.2654692', '-155.9536379', '-93.2654692', '-93.2654692', '-93.2654692', '-93.2654692', '-155.9536379', '-155.9536379', '-93.2654692', '-80.8430827', '-80.8430827', '-71.4677032', '-117.1627728', '-71.4677032', '-71.4677032', '-89.3837613', '-89.3837613', '120.2124235', '120.2124235', '121.5636796', '121.3010003', '121.3010003', '121.3010003', '120.2124235', '121.3010003', '-155.9536379', '-80.3876889', '-80.3876889', '120.2124235', '120.2124235', '121.67991896754117', '121.67991896754117', '121.67991896754117', '-120.1832533', '-85.1824269', '-87.6244212', '120.6478282', '120.6478282', '-121.493895', '120.2124235', '120.40200825216095', '-80.8430827', '-117.1627728', '-117.9294401', '-85.1824269', '-95.3676974', '121.7533344', '-89.3837613', '-155.9536379', '-155.9536379', '120.6478282', '120.6478282', '-77.4752667', '-77.4752667', '-77.4752667', '-77.4752667', '-77.4752667', '120.9686833', '-89.3837613', '-89.3837613', '120.40200825216095', '-108.212043', '-89.3837613', '120.40200825216095', '-89.3837613', '-89.3837613', '-108.212043', '121.67991896754117', '-93.2654692', '-111.044047', '-111.044047', '-88.3161965', '-88.3161965', '121.7533344', '-74.047455', '-104.984862', '-74.047455', '-104.984862', '120.6803362', '-111.943019', '121.3010003', '121.3010003', '121.3010003', '-87.6244212', '-87.6244212', '121.7533344', '121.7533344', '-87.6244212', '-87.6244212', '-87.6244212', '-87.6244212', '121.3010003', '-93.2654692', '-89.3837613', '-119.8126581', '-93.2654692', '-119.8126581', '-119.8126581', '-119.8126581', '120.3120375', '120.3120375', '-89.3837613', '-93.2654692', '-93.2654692', '-89.3837613', '-117.1627728', '-117.1627728', '-108.49607', '120.4003524', '113.5380454', '-90.7333258', '-90.7333258', '-90.7333258', '120.2124235', '-90.7333258', '-90.7333258', '-90.7333258', '-90.7333258', '120.2124235', '-90.7333258', '-90.7333258', '-90.7333258', '-90.7333258', '-0.1276474', '-80.0886631', '-122.1338674', '-122.1338674', '-122.1338674', '121.3010003', '-74.047455', '-155.105667', '-95.677556', '-80.3876889', '-80.3876889', '', '-72.8150989', '', '', '', '-93.2654692', '114.1628131', '114.1628131', '-117.1627728', '-155.9536379', '-122.271356', '-70.2548596', '-121.493895', '-117.1627728', '-122.271356', '-70.2548596', '-117.1627728', '-155.9536379', '-155.9536379', '-77.4752667', '-121.493895', '-77.4752667', '-121.493895', '-77.4752667', '-122.391675', '121.5636796', '-84.190196', '121.67991896754117', '120.93291098389277', '120.93291098389277', '120.40200825216095', '-73.9834861', '-155.9536379', '-93.2654692', '-149.93947126173936', '-155.9536379', '-149.93947126173936', '-93.2654692', '-155.9536379', '-117.1627728', '-107.8766', '-117.1627728', '-117.1627728', '-80.8430827', '-106.71324849574629', '-80.08920503427859', '135.490357', '-117.1627728', '-117.1627728', '120.40200825216095', '-95.677556', '-121.890591', '-122.5310874', '121.7533344', '121.5636796', '-72.8150989', '121.5636796', '-89.3837613', '-117.1627728', '-111.044047', '-89.3837613', '-111.044047', '-89.3837613', '-93.2654692', '121.67991896754117', '-89.3837613', '121.4692071', '121.4692071', '-111.044047', '121.4692071', '121.5636796', '-86.83440279644964', '120.40200825216095', '120.40200825216095', '120.40200825216095', '120.40200825216095', '120.40200825216095', '120.40200825216095', '120.40200825216095', '-80.3876889', '-87.6244212', '-80.3876889', '-80.3876889', '121.3010003', '-87.6244212', '-87.6244212', '-79.4428157', '121.67991896754117', '-114.9826194', '121.5636796', '-89.3837613', '-114.9826194', '121.5636796', '-108.871519', '-108.871519', '121.67991896754117', '-121.890591', '121.5636796', '-121.890591', '-121.890591', '-80.0886631', '-114.9826194', '-122.5310874', '-0.1276474', '121.5636796', '-111.044047', '-107.8766', '-111.044047', '-118.2478471', '121.67991896754117', '121.5636796', '121.5078001', '121.5636796', '-155.9536379', '-155.9536379', '', '-93.2654692', '-73.2340974', '-93.2654692', '-93.2654692', '-89.3837613', '-89.3837613', '-122.5310874', '-75.9768632', '-79.4428157', '-70.2548596', '-79.4428157', '-117.1627728', '-122.271356', '-89.423817', '121.5078001', '-117.1627728', '-77.0350922', '-121.493895', '-89.3837613', '-108.212043', '-76.7936252', '-87.6244212', '-121.493895', '-89.3837613', '-89.3837613', '121.67991896754117', '121.67991896754117', '-76.7936252', '120.5696323', '-87.6244212', '-87.6244212', '-76.7936252', '120.6478282', '120.6478282', '120.6478282', '121.7533344', '-117.1627728', '-122.5310874', '121.5636796', '120.40200825216095', '-104.984862', '-122.1338674', '-80.8430827', '114.1628131', '121.3010003', '114.1628131', '114.1628131', '114.1628131', '-123.194463', '-123.194463', '-93.2654692', '-74.047455', '-120.1832533', '-93.2654692', '-93.2654692', '-93.2654692', '-117.1627728', '-117.1627728', '-111.044047', '121.7533344', '-111.044047', '121.5078001', '-84.1916069', '-120.1832533', '121.5636796', '121.7533344', '121.3010003', '121.67991896754117', '-89.3837613', '-84.190196', '-73.2340974', '-89.3837613', '-89.3837613', '-89.3837613', '-121.493895', '-121.493895', '-89.3837613', '-73.2340974', '-89.3837613', '-121.493895', '120.93291098389277', '120.93291098389277', '-77.4752667', '-77.4752667', '-74.2957043', '121.5636796', '121.67991896754117', '-93.2654692', '-84.190196', '-80.19362', '121.5636796', '-107.8766', '121.3010003', '120.40200825216095', '121.5636796', '-121.493895', '-74.0836453', '-93.2654692', '-86.83440279644964', '120.40200825216095', '120.40200825216095', '120.40200825216095', '121.5636796', '-0.1276474', '120.3120375', '120.40200825216095', '120.487928', '-93.2654692', '120.40200825216095', '120.3120375', '120.487928', '120.40200825216095', '121.5636796', '-114.9826194', '-107.8766', '114.1628131', '-89.3837613', '121.67991896754117', '-75.9768632', '-114.9826194', '121.7533344', '-75.9768632', '135.490357', '121.3010003', '-114.9826194', '121.3010003', '-114.9826194', '120.5696323', '120.5696323', '141.3542924', '121.7533344', '-117.42351', '121.67991896754117', '-87.6244212', '-121.890591', '-80.0886631', '-104.984862', '-122.1338674', '-156.44639965521395', '-122.2865266', '-89.3837613', '-89.3837613', '-87.6244212', '-117.1627728', '-87.6244212', '120.6478282', '-87.6244212', '120.6478282', '120.6478282', '120.6478282', '-155.4773466', '-84.190196', '-84.190196', '-89.3837613', '-89.3837613', '-89.3837613', '-89.3837613', '-111.044047', '-111.044047', '-93.2654692', '-86.7742984', '120.71469967942349', '120.3120375', '120.71469967942349', '-95.3676974', '-114.15464243514151', '-79.4428157', '-95.677556', '-84.0712997', '-123.2077861', '-122.8950075', '139.8096549', '120.40200825216095', '-70.8606083', '-93.2654692', '120.40200825216095', '-80.3876889', '120.40200825216095', '120.40200825216095', '120.40200825216095', '120.40200825216095', '121.7533344', '121.7533344', '121.7533344', '-122.391675', '-111.044047', '-108.212043', '-111.044047', '-108.212043', '-111.044047', '-87.6244212', '-117.1627728', '-87.6244212', '-74.0836453', '-89.3837613', '-74.0836453', '-89.3837613', '-71.889038', '121.67991896754117', '-87.6244212', '-99.1331785', '120.93291098389277', '121.5636796', '120.93291098389277', '121.7533344', '-104.984862', '121.5636796', '-93.2654692', '-117.1627728', '-72.8150989', '121.5636796', '120.9686833', '-81.3790304', '-116.964662', '121.5636796', '-95.677556', '-117.3505966', '120.71924224325127', '120.71924224325127', '120.71924224325127', '120.71924224325127', '-74.047455', '121.5636796', '121.5636796', '-123.4126399', '-118.2478471', '-118.2478471', '139.8096549', '139.8096549', '139.8096549', '139.8096549', '-80.8430827', '-93.2654692', '-93.2654692', '-93.2654692', '-86.2307992', '121.5636796', '121.5636796', '121.5636796', '120.40200825216095', '120.40200825216095', '121.5636796', '120.40200825216095', '120.40200825216095', '121.5636796', '120.40200825216095', '-117.1627728', '-89.3837613', '-89.3837613', '-155.9536379', '-89.3837613', '-117.1627728', '-121.34239205792437', '-89.3837613', '-121.34239205792437', '120.71469967942349', '-121.34239205792437', '-111.044047', '-70.2548596', '-121.493895', '-70.2548596', '-111.044047', '-117.42351', '-117.42351', '-117.42351', '-117.42351', '-117.42351', '-117.42351', '-97.7436995', '-155.9536379', '-72.8150989', '-155.105667', '-117.1627728', '-155.917282', '-155.9536379', '-86.2307992', '-117.1627728', '-156.44639965521395', '-80.6278404', '-114.9826194', '120.5372523', '-79.3839347', '-79.3839347', '-79.3839347', '-79.3839347', '-79.3839347', '-93.2654692', '-89.3837613', '-93.2654692', '-79.4428157', '-93.2654692', '-80.3876889', '120.40200825216095', '-84.190196', '-78.8688833', '120.40200825216095', '120.40200825216095', '-89.423817', '-89.423817', '-89.3837613', '-121.493895', '-89.3837613', '-108.871519', '-121.493895', '-121.493895', '-93.2654692', '-93.2654692', '-93.2654692', '-93.2654692', '-93.2654692', '-93.2654692', '-74.0836453', '-74.0836453', '121.4692071', '-117.1627728', '-117.1627728', '121.5636796', '-75.9768632', '-121.34239205792437', '-121.34239205792437', '-121.34239205792437', '-119.8126581', '-111.044047', '121.7533344', '-119.8126581', '-111.044047', '135.490357', '135.490357', '120.6803362', '-122.330062', '-117.1827445', '-90.8887413', '-123.4126399', '121.5636796', '-122.478836', '-87.6244212', '-80.8430827', '-122.23963364918777', '-77.0350922', '-118.2478471', '-117.1627728', '-89.3837613', '120.71924224325127', '121.5636796', '-107.8766', '-89.3837613', '121.5636796', '-89.3837613', '-107.8766', '-89.3837613', '121.5636796', '-93.2654692', '-73.9497211', '-73.9497211', '121.7533344', '-121.493895', '-121.493895', '-121.493895', '-121.493895', '-109.98633869751046', '-109.98633869751046', '-122.23963364918777', '-93.2654692', '-93.2654692', '120.9686833', '-93.2654692', '121.67991896754117', '-93.2654692', '120.9686833', '-80.3876889', '-108.212043', '-108.212043', '-80.3876889', '-93.2654692', '120.40200825216095', '120.40200825216095', '-122.674194', '121.5636796', '-89.3837613', '-74.047455', '121.5078001', '-83.0007065', '114.1628131', '-97.7436995', '-74.047455', '-89.3837613', '-111.044047', '-89.3837613', '-89.3837613', '-88.7785635', '121.5636796', '121.5636796', '-93.2654692', '-95.677556', '120.40200825216095', '-155.105667', '120.40200825216095', '-117.1627728', '-95.677556', '120.40200825216095', '-80.08920503427859', '-155.105667', '-93.2654692', '120.71469967942349', '-93.2654692', '120.40200825216095', '-93.2654692', '121.3010003', '120.40200825216095', '121.3010003', '-90.8887413', '114.1628131', '121.5636796', '121.5636796', '121.5636796', '-98.4951405', '121.7533344', '-98.4951405', '-111.044047', '-111.044047', '121.5636796', '139.8096549', '139.8096549', '', '', '121.5636796', '121.5636796', '121.4692071', '-107.8766', '-108.49607', '120.71924224325127', '120.71924224325127', '-159.5206963457411', '-87.6244212', '-93.2654692', '-122.23963364918777', '-93.2654692', '-87.6244212', '-93.2654692', '-87.6244212', '-93.2654692', '-122.23963364918777', '-87.6244212', '-89.3837613', '-78.8688833', '-78.8688833', '-78.8688833', '120.71469967942349', '120.71469967942349', '-117.1627728', '121.3010003', '121.3010003', '-122.391675', '-74.047455', '-108.212043', '-75.9768632', '-121.493895', '-75.9768632', '-120.1832533', '-121.5913516', '120.71924224325127', '-121.5913516', '120.71924224325127', '121.5636796', '-123.0950506', '121.744652', '121.5636796', '-93.2654692', '-80.3876889', '-93.2654692', '-93.2654692', '-77.4752667', '-93.2654692', '-155.917282', '-155.917282', '-155.917282', '-155.917282', '120.40200825216095', '-79.4428157', '120.40200825216095', '-79.4428157', '-155.9536379', '-155.9536379', '-79.4428157', '-155.9536379', '120.40200825216095', '-79.4428157', '120.40200825216095', '120.40200825216095', '120.40200825216095', '-122.5310874', '-117.1627728', '-87.6244212', '-117.1627728', '-117.1627728', '121.7533344', '-89.3837613', '-155.9536379', '-155.9536379', '-89.3837613', '-89.3837613', '-89.3837613', '-80.3876889', '-95.3676974', '121.3010003', '-95.3676974', '-0.1276474', '121.7533344', '-107.8766', '-93.2654692', '-117.1627728', '-95.677556', '-87.6244212', '120.9686833', '120.9686833', '120.71469967942349', '120.71469967942349', '120.71469967942349', '-90.7333258', '-90.7333258', '-90.7333258', '-90.7333258', '-90.7333258', '-90.7333258', '-90.7333258', '-90.7333258', '120.40200825216095', '120.40200825216095', '-84.190196', '-74.047455', '-75.9768632', '-121.493895', '-121.493895', '-111.044047', '-111.044047', '-75.511436', '-93.2654692', '-93.2654692', '-79.3839347', '120.40200825216095', '120.40200825216095', '-89.3837613', '-89.3837613', '-89.3837613', '-117.1627728', '-89.3837613', '-117.1627728', '-117.1627728', '-122.5310874', '-71.5159015', '121.5636796', '121.5636796', '120.40200825216095', '120.40200825216095', '-118.242766', '-79.3839347', '121.7533344', '-117.3505966', '-122.1338674', '-123.5089186', '-122.1338674', '-117.1627728', '-86.2307992', '-95.677556', '-86.2307992', '120.4003524', '114.1628131', '-155.9536379', '-155.917282', '-93.2654692', '-73.8785922', '-93.2654692', '-121.493895', '-71.5159015', '120.3120375', '120.3120375', '-121.493895', '-93.2654692', '-157.6706333', '-117.1627728', '-80.0886631', '-93.2654692', '-93.2654692', '-79.4428157', '114.1628131', '-79.4428157', '-89.3837613', '-89.3837613', '-89.3837613', '121.5636796', '121.7533344', '-90.2428756', '-122.5310874', '-122.2865266', '-122.271356', '114.1628131', '-80.3876889', '-117.1627728', '-104.984862', '120.5372523', '-122.419906', '121.7533344', '-80.19362', '120.71924224325127', '-93.2654692', '120.40200825216095', '-93.2654692', '120.40200825216095', '120.40200825216095', '121.5636796', '-107.8766', '121.5636796', '121.5636796', '-70.8967226', '-122.1702293', '-114.9826194', '-114.9826194', '-84.190196', '-89.3837613', '-89.3837613', '-120.1832533', '-80.3876889', '-121.493895', '-75.9768632', '-80.3876889', '-75.9768632', '-80.3876889', '-114.065465', '-114.065465', '-93.2654692', '-93.2654692', '-93.2654692', '120.6803362', '-117.42351', '-117.42351', '-117.42351', '120.40200825216095', '120.40200825216095', '-90.8887413', '-90.8887413', '-90.8887413', '-90.8887413', '-156.44639965521395', '-156.44639965521395', '120.9686833', '-123.0950506', '-122.2034496', '-90.1983063', '-93.6046655', '-77.0350922', '-78.8688833', '-84.3902644', '-155.4773466', '-122.23963364918777', '-122.271356', '-79.9414313', '-77.0350922', '-76.610759', '-89.9668758', '-93.2654692', '-88.3161965', '-108.212043', '-108.212043', '-93.2654692', '-93.2654692', '-93.2654692', '121.5636796', '-93.2654692', '-93.2654692', '121.5636796', '120.5372523', '121.5636796', '120.5372523', '120.71924224325127', '120.71924224325127', '-87.922497', '-116.964662', '-87.922497', '-70.8967226', '-86.83440279644964', '-86.83440279644964', '-86.83440279644964', '120.3120375', '-111.044047', '-89.3837613', '-89.3837613', '-104.984862', '-88.3161965', '-80.8430827', '-114.09666640516207', '-89.3837613', '-93.2654692', '-117.1627728', '120.40200825216095', '120.40200825216095', '', '-107.8766', '-89.3837613', '-111.044047', '-111.044047', '-111.044047', '-104.984862', '-122.419906', '-80.0886631', '-107.2111628', '-118.242766', '-122.1338674', '-122.674194', '-95.9927436', '121.7533344', '-122.5310874', '-80.8430827', '-74.047455', '-88.2430932', '120.5372523', '120.5372523', '-74.047455', '-74.047455', '-155.917282', '-121.493895', '-108.49607', '-122.23963364918777', '-108.49607', '-86.2307992', '120.40200825216095', '-122.23963364918777', '-121.493895', '-122.23963364918777', '-93.2654692', '-114.9826194', '-122.1338674', '-93.2654692', '120.40200825216095', '-122.1338674', '120.40200825216095', '-89.3837613', '-89.3837613', '-89.3837613', '-0.1276474', '-117.1627728', '121.744652', '121.5636796', '-155.105667', '-155.105667', '-155.4773466', '-93.2654692', '-89.3837613', '-80.8430827', '-80.8430827', '-155.917282', '-117.1473661', '121.7533344', '-122.330453', '120.40200825216095', '-93.2654692', '-89.3837613', '-155.917282', '-155.917282', '-104.984862', '-121.493895', '121.4692071', '-93.2654692', '-93.2654692', '-79.9900861', '-155.996933', '-155.996933', '-123.805294', '-80.3876889', '-97.7436995', '120.40200825216095', '-155.9536379', '-118.242766', '-122.330062', '-74.047455', '-93.2654692', '-117.1627728', '114.1628131', '-73.9497211', '-107.8766', '-80.8430827', '-121.493895', '-117.3505966', '-117.3505966', '-80.3876889', '-84.190196', '-117.42351', '-80.3876889', '-74.047455', '-80.3876889', '-93.2654692', '-93.2654692', '-93.2654692', '-121.493895', '-121.493895', '120.40200825216095', '-90.1983063', '120.40200825216095', '-155.996933', '-93.2654692', '-117.0814849', '-117.0814849', '-108.49607', '-117.42351', '-113.995267', '-122.8950075', '-122.478836', '-122.439874', '-122.674194', '-111.044047', '-122.7153995', '-108.49607', '-95.677556', '121.5636796', '-90.1983063', '-107.812285', '-89.3837613', '-89.3837613', '-93.2654692', '-87.6244212', '-80.8430827', '120.40200825216095', '-89.3837613', '-89.3837613', '-88.162326', '-88.162326', '120.3120375', '114.1628131', '114.1628131', '-114.9826194', '-123.5089186', '-107.812285', '-81.9806771', '-155.9536379', '121.7533344', '-155.9536379', '-155.9536379', '-80.3876889', '-93.2654692', '-117.0814849', '-108.212043', '-108.49607', '', '-121.493895', '-121.493895', '121.4692071', '121.4692071', '4.3997081', '-93.2654692', '-117.1627728', '-108.212043', '-89.3837613', '-108.212043', '-89.3837613', '-89.3837613', '121.5636796', '120.40200825216095', '120.40200825216095', '-78.9018053', '-122.5310874', '-78.6390989', '-87.6244212', '-104.985181', '-79.0992279', '-122.419906', '-79.0992279', '-121.8746789', '-93.5268986', '-80.7224386', '-76.88154330442846', '-122.419906', '-122.330062', '-155.9536379', '121.5636796', '121.5078001', '121.5636796', '121.5078001', '-117.1627728', '-80.3876889', '-89.3837613', '-93.2654692', '-85.1824269', '-92.9034975', '-79.4428157', '-79.9900861', '121.7533344', '121.7533344', '102.6133707', '121.7533344', '-93.2654692', '-93.2654692', '-93.2654692', '120.9686833', '120.6478282', '120.6478282', '120.6478282', '120.2887632', '120.6478282', '120.2052342', '120.2052342', '106.827183', '106.827183', '120.2052342', '-93.2654692', '-107.8766', '-89.3837613', '-89.3837613', '-121.34239205792437', '-121.34239205792437', '-121.34239205792437', '114.1628131', '-122.2865266', '121.3010003', '-80.3876889', '-89.576017', '-121.493895', '-79.8728583', '-117.1627728', '-76.31893928440874', '-122.23963364918777', '121.5636796', '-86.2307992', '-87.6244212', '121.5636796', '-86.2307992', '-87.6244212', '121.5636796', '-87.6244212', '121.3010003', '-118.242766', '121.5078001', '-118.242766', '120.40200825216095', '-118.242766', '120.40200825216095', '120.40200825216095', '120.40200825216095', '-80.3876889', '-118.242766', '114.1628131', '-118.242766', '121.7533344', '-118.242766', '-118.242766', '121.67991896754117', '121.5636796', '-121.493895', '-89.3837613', '-89.3837613', '-89.3837613', '-89.3837613', '121.3010003', '121.3010003', '121.3010003', '121.3010003', '-105.270241', '120.4003524', '121.5636796', '-72.8150989', '-78.5103731', '-80.0886631', '121.5636796', '-117.1627728', '121.224926', '121.7533344', '-120.1832533', '-121.493895', '120.71924224325127', '121.3010003', '-79.4428157', '-121.493895', '-105.270241', '121.5636796', '-93.2654692', '-93.2654692', '-86.83440279644964', '151.1801893', '-73.9497211', '-82.5540161', '-122.23963364918777', '-122.23963364918777', '-75.9768632', '-120.1832533', '-122.330062', '-87.8407055', '-79.3839347', '121.67991896754117', '-122.674194', '-122.674194', '-89.3837613', '120.40200825216095', '120.40200825216095', '120.40200825216095', '120.40200825216095', '-107.8766', '121.3010003', '-80.6520161', '-72.8150989', '-117.1627728', '-118.242766', '120.40200825216095', '-105.270241', '-118.491227', '121.7311069', '121.7533344', '-78.4766781', '55.18853865430702', '55.18853865430702', '-121.493895', '120.6478282', '120.6478282', '-89.3837613', '-89.3837613', '121.5078001', '-108.212043', '-108.212043', '-89.3837613', '-89.3837613', '-93.2654692', '121.67991896754117', '-73.2340974', '120.40200825216095', '120.40200825216095', '120.40200825216095', '-95.677556', '114.1628131', '-89.3837613', '-72.8150989', '120.6478282', '-84.5124602', '-92.1251218', '-0.1276474', '120.71924224325127', '120.71924224325127', '-79.4428157', '120.40200825216095', '-121.493895', '-121.493895', '-121.493895', '-89.3837613', '-105.270241', '-118.491227', '-84.190196', '-97.7436995', '', '-74.047455', '120.71924224325127', '-73.2340974', '121.7533344', '-97.12057884728105', '-93.2654692', '-93.2654692', '120.71469967942349', '120.71469967942349', '-89.3837613', '120.40200825216095', '-73.2340974', '-84.190196', '-80.8430827', '-89.3837613', '-89.3837613', '-117.1627728', '121.5636796', '121.5636796', '120.40200825216095', '121.5636796', '121.7533344', '-75.9768632', '-75.9768632', '-75.9768632', '-80.0886631', '-87.6244212', '-89.3837613', '120.40200825216095', '-71.5159015', '120.40200825216095', '21.2496774', '-122.2865266', '-86.2307992', '-94.1955334', '-105.270241', '-93.2654692', '-79.3839347', '-80.3876889', '-80.19362', '-121.493895', '-93.2654692', '120.9686833', '-89.3837613', '-93.2654692', '-117.3505966', '114.1767885', '114.1767885', '120.40200825216095', '-117.1627728', '120.40200825216095', '-117.1627728', '-117.1627728', '-89.3837613', '-89.3837613', '-86.2307992', '-93.2654692', '-122.5310874', '-155.105667', '-155.105667', '-155.9536379', '121.5636796', '-156.44639965521395', '-155.4773466', '-90.0782127', '-155.921402', '121.4692071', '-121.34239205792437', '-121.34239205792437', '-122.330062', '-90.1983063', '121.3010003', '121.3010003', '-86.83440279644964', '120.40200825216095', '-93.2654692', '-112.036277', '-121.493895', '120.6478282', '-117.1627728', '-89.3837613', '-89.3837613', '121.7533344', '-109.1509804', '116.3912757', '-89.3837613', '-95.677556', '-79.4428157', '-79.4428157', '-71.060511', '-123.113952', '120.9686833', '-93.2654692', '121.7533344', '-73.2340974', '-84.190196', '120.40200825216095', '-71.5159015', '120.40200825216095', '114.1628131', '120.40200825216095', '114.1628131', '120.40200825216095', '-121.493895', '-107.8766', '-104.984862', '-88.162326', '-88.162326', '121.4692071', '121.4692071', '-117.1827445', '-72.8150989', '-84.190196', '-89.576017', '-93.2654692', '-95.677556', '121.5636796', '121.5636796', '-117.1627728', '-97.7436995', '114.1628131', '-114.15464243514151', '-155.917282', '-155.917282', '-114.15464243514151', '-108.49607', '-80.3876889', '-80.3876889', '-97.7436995', '-122.1338674', '-117.1627728', '', '-105.270241', '-105.270241', '-105.270241', '-121.3153096', '-121.493895', '-123.805294', '-156.44639965521395', '-93.2654692', '-156.44639965521395', '-93.2654692', '-109.1509804', '-86.2307992', '-86.2307992', '-70.7618592', '-73.2340974', '-71.060511', '-70.2548596', '-70.8411583', '-72.7159505', '-72.8150989', '-71.5159015', '-71.1056157', '121.5636796', '-155.9536379', '-74.0218037', '-89.3837613', '121.5636796', '-89.3837613', '-71.5159015', '-123.137414', '-121.493895', '-121.493895', '120.3120375', '-73.9497211', '-89.3837613', '-122.674194', '-122.674194', '-93.2654692', '-117.1627728', '120.5444667', '-93.2654692', '-106.71324849574629', '', '-95.9927436', '121.7533344', '-95.9927436', '-80.3876889', '-121.493895', '-80.3876889', '-121.493895', '-89.3837613', '-122.674194', '120.40200825216095', '120.40200825216095', '120.40200825216095', '-72.8150989', '-122.8950075', '-108.49607', '-70.2548596', '-86.7742984', '-118.242766', '120.71924224325127', '-79.0992279', '-80.3876889', '-117.1627728', '-72.8150989', '-72.8150989', '-72.8150989', '120.71924224325127', '-71.9092563', '-121.493895', '-86.060093', '-118.242766', '-117.690075', '-117.690075', '-117.690075', '-117.1627728', '-89.3837613', '-117.1627728', '-121.493895', '-155.9536379', '-79.4428157', '121.7533344', '-80.6520161', '121.7533344', '121.7533344', '-79.4428157', '-109.1509804', '-109.1509804', '-105.270241', '-105.270241', '120.9686833', '-117.1627728', '-117.1827445', '-73.2340974', '-79.3839347', '120.40200825216095', '-80.3876889', '121.7533344', '-122.5310874', '116.3912757', '-83.9704593', '-107.8766', '-121.9905908', '-118.242766', '-122.63928', '-117.3505966', '-117.3505966', '120.9686833', '100.4935089', '100.4935089', '-80.6520161', '-80.8430827', '-105.270241', '-105.270241', '-73.2340974', '32.4698564', '-80.08920503427859', '-73.2340974', '-121.493895', '-89.3837613', '-121.493895', '-89.3837613', '-105.270241', '-108.49607', '-114.15464243514151', '-112.036277', '-116.553247', '-109.1509804', '-104.984862', '-104.984862', '-107.8766', '-107.8766', '-108.212043', '121.3010003', '121.3010003', '120.6478282', '121.3010003', '120.40200825216095', '120.40200825216095', '55.18853865430702', '-114.15464243514151', '-87.6244212', '-114.15464243514151', '-87.6244212', '-114.15464243514151', '-114.15464243514151', '-97.7436995', '-108.49607', '-108.49607', '-106.71324849574629', '', '', '-121.493895', '-89.3837613', '-89.3837613', '-89.3837613', '-79.4428157', '-79.4428157', '-73.2340974', '-73.2340974', '-73.2340974', '-105.270241', '-105.270241', '120.40200825216095', '120.40200825216095', '121.4692071', '-80.8430827', '121.4692071', '-122.330062', '127.6961188', '-121.3153096', '-87.7808967', '-121.3153096', '-118.2478471', '-121.3153096', '-75.1635262', '-70.2548596', '-122.419906', '135.1943764', '-122.330062', '-95.677556', '120.40200825216095', '120.71924224325127', '121.5636796', '-79.4428157', '-121.493895', '121.67991896754117', '-0.1276474', '-0.1276474', '-79.3839347', '-93.0949501', '126.8198197', '-117.1627728', '-89.3837613', '', '', '', '-95.677556', '-80.1433786', '-121.493895', '121.67991896754117', '120.40200825216095', '-80.8430827', '-108.49607', '-89.576017', '121.7533344', '121.0040779', '-105.270241', '-107.8766', '-122.1338674', '-122.1338674', '-122.1338674', '-117.1627728', '-117.690075', '-117.690075', '-121.493895', '-121.493895', '-121.493895', '120.40200825216095', '-112.036277', '-80.3876889', '-89.3837613', '-80.3876889', '-109.1509804', '120.40200825216095', '121.7533344', '121.0040779', '121.5078001', '-79.3839347', '-122.1338674', '-89.3837613', '-122.271356', '-117.1627728', '-122.1338674', '-122.23963364918777', '-73.9497211', '-117.42351', '-122.271356', '-121.890591', '-117.1627728', '-117.826166', '-117.826166', '120.71469967942349', '120.40200825216095', '120.6478282', '120.40200825216095', '-108.49607', '121.4656619', '-104.984862', '-123.3649533', '-114.15464243514151', '-72.8150989', '-80.08920503427859', '-122.8950075', '-79.666672', '-94.1955334', '121.5636796', '120.40200825216095', '-89.3837613', '-105.270241', '-73.2340974', '121.5078001', '121.5078001', '-88.3161965', '-89.3837613', '-117.1627728', '121.5636796', '120.9686833', '-105.270241', '-109.1509804', '-79.4428157', '121.5636796', '-114.15464243514151', '-75.1635262', '-96.7968559', '120.5444667', '-121.493895', '121.67991896754117', '-104.984862', '-105.270241', '-79.3376825', '', '-104.984862', '120.40200825216095', '-86.2307992', '-117.690075', '121.5636796', '100.4935089', '-80.3876889', '-105.270241', '-105.270241', '-105.270241', '-118.1352329', '-114.33828531635987', '-119.0779359', '-155.9536379', '-80.1433786', '-155.4773466', '-122.439874', '-80.3876889', '-93.0949501', '-97.7436995', '-121.9448818', '-122.5310874', '-71.5159015', '-95.677556', '120.184982', '-117.1627728', '120.5444667', '-95.677556', '-89.3837613', '-89.3837613', '121.5636796', '120.40200825216095', '120.40200825216095', '-117.690075', '-87.6244212', '120.9686833', '-73.2340974', '-73.2340974', '-73.2340974', '-118.491227', '-108.212043', '120.40200825216095', '-63.5859487', '-108.212043', '-87.6244212', '-112.036277', '120.40200825216095', '127.1785572', '-122.63928', '-104.985181', '-118.242766', '-122.271356', '-89.3837613', '120.6478282', '-155.9536379', '-93.0949501', '-80.8430827', '-117.1627728', '-108.49607', '-121.493895', '120.40200825216095', '120.40200825216095', '100.4935089', '120.40200825216095', '-80.3876889', '-117.1627728', '-108.49607', '-117.42351', '-122.674194', '-104.984862', '-80.19362', '120.40200825216095', '-121.493895', '-107.8766', '-89.3837613', '-107.8766', '-109.1509804', '-122.674194', '120.6478282', '-89.3837613', '-89.3837613', '-89.3837613', '120.71469967942349', '120.71469967942349', '-155.4773466', '120.6478282', '-80.3876889', '-117.1627728', '120.6478282', '-117.1627728', '114.1628131', '-121.493895', '-121.493895', '-121.493895', '121.3010003', '-80.8430827', '-155.4773466', '121.3010003', '120.6478282', '-86.2307992', '-93.0949501', '-93.0949501', '-89.3837613', '-89.3837613', '-95.677556', '-95.677556', '-95.677556', '-122.674194', '-155.917282', '-121.493895', '-73.2340974', '-70.2548596', '120.40200825216095', '-117.690075', '120.40200825216095', '-117.1627728', '-117.690075', '-108.2403855', '-117.42351', '-80.3876889', '-70.2548596', '120.9686833', '-85.759407', '-71.5159015', '-105.270241', '-74.4243178', '121.5636796', '-72.8150989', '-117.1627728', '-122.5310874', '-89.3837613', '-72.8150989', '-155.9536379', '-118.242766', '-93.0949501', '151.1801893', '-93.0931028', '-93.0949501', '-80.19362', '-155.9536379', '120.40200825216095', '-108.212043', '120.40200825216095', '-79.3839347', '-79.3839347', '-79.3839347', '-121.493895', '-118.491227', '-117.690075', '-79.4428157', '-114.15464243514151', '-109.1509804', '-109.1509804', '-122.7153995', '-122.674194', '-71.9092563', '-108.49607', '-117.42351', '-114.15464243514151', '-80.3876889', '-72.8150989', '-123.2077861', '-89.576017', '-79.666672', '-95.677556', '120.40200825216095', '-123.3649533', '-121.493895', '114.1628131', '114.1628131', '114.1628131', '114.1628131', '114.1628131', '114.1628131', '114.1628131', '114.1628131', '114.1628131', '-117.690075', '127.3848', '-108.212043', '-89.3837613', '-72.8150989', '-117.1627728', '106.827183', '-117.1627728', '-117.1627728', '121.7311069', '-105.270241', '-80.3876889', '120.71924224325127', '121.5078001', '-71.5159015', '-122.1598465', '-97.7436995', '-80.8430827', '-76.6131474', '120.40200825216095', '-117.1627728', '121.0040779', '-77.43428', '-79.666672', '-123.805294', '-73.1212214', '-93.0949501', '121.67991896754117', '', '-89.3837613', '-89.3837613', '-89.3837613', '-89.3837613', '-89.3837613', '-80.3876889', '-80.3876889', '-117.690075', '-117.690075', '-117.690075', '-117.690075', '-117.690075', '-117.690075', '-117.690075', '-117.690075', '-117.690075', '-117.690075', '-117.690075', '121.5636796', '120.40200825216095', '120.40200825216095', '120.40200825216095', '-78.1652404', '-88.3161965', '55.18853865430702', '-80.6520161', '-95.9927436', '-107.8766', '-95.9927436', '127.3848', '-95.9927436', '-79.3376825', '', '120.40200825216095', '-78.4766781', '-105.270241', '-121.34239205792437', '-77.43428', '121.7533344', '-72.8150989', '-105.270241', '-122.674194', '-108.49607', '-80.6520161', '-80.6520161', '-89.3837613', '-76.4968019', '-89.3837613', '-89.3837613', '-89.3837613', '-89.3837613', '-86.2307992', '126.9782914', '-113.995267', '-122.8718605', '-108.2403855', '-80.08920503427859', '-123.2077861', '-122.5310874', '-117.1627728', '-80.8430827', '-83.0007065', '-77.3063733', '121.5636796', '-93.0949501', '-79.4428157', '-118.491227', '-93.0949501', '120.40200825216095', '-88.3161965', '-117.690075', '-89.3837613', '121.4692071', '-79.4428157', '-89.3837613', '-87.6244212', '-79.4428157', '-79.4428157', '', '-95.9927436', '', '120.40200825216095', '-96.6705503', '-105.270241', '-117.1627728', '-108.2403855', '-89.3837613', '-89.3837613', '-95.677556', '-122.5310874', '-86.2307992', '-121.493895', '-155.4773466', '-110.9748477', '30.061507', '-122.330062', '-97.7436995', '-97.1413417', '-104.985181', '-117.1627728', '-155.105667', '-117.1627728', '-117.690075', '121.4692071', '121.4692071', '', '-123.113952', '-123.113952', '-123.113952', '114.1628131', '120.40200825216095', '-66.116666', '-105.270241', '-105.270241', '-87.8407055', '-121.34239205792437', '-117.1627728', '-122.674194', '-155.105667', '-122.5310874', '-93.0949501', '-117.690075', '-117.690075', '120.40200825216095', '-86.2307992', '-108.212043', '-108.212043', '-80.6520161', '-117.1627728', '-121.493895', '-80.3876889', '-108.49607', '-121.493895', '-80.3876889', '-121.493895', '-121.493895', '-121.493895', '-78.4766781', '-73.2340974', '-73.2340974', '-89.3837613', '-89.3837613', '-89.3837613', '-108.2403855', '-118.491227', '120.40200825216095', '-112.074141', '-110.9748477', '-96.7968559', '-111.9400091', '-110.9748477', '-106.71324849574629', '-94.5927451', '-96.7968559', '-80.6520161', '-87.6244212', '', '120.6478282', '120.6478282', '-80.3876889', '-104.984862', '-105.270241', '-104.984862', '-122.330062', '-105.270241', '-104.984862', '-80.8430827', '120.40200825216095', '-73.9497211', '-80.19362', '-79.3839347', '-122.1338674', '-118.91183', '-84.4970393', '-97.7436995', '-122.23963364918777', '-90.2428756', '-121.493895', '-89.3837613', '-121.493895', '-121.493895', '121.67991896754117', '121.3010003', '98.9874284', '-89.3837613', '121.67991896754117', '121.67991896754117', '121.67991896754117', '121.67991896754117', '-78.4766781', '-78.4766781', '-80.3876889', '100.4935089', '100.4935089', '100.4935089', '100.4935089', '-80.3876889', '-80.6520161', '120.40200825216095', '-118.242766', '-122.330062', '-89.3837613', '-89.3837613', '121.5636796', '-89.3837613', '-121.493895', '120.6478282', '-93.0949501', '-89.576017', '-72.8150989', '-95.677556', '-80.19362', '-122.7153995', '-121.493895', '-81.3790304', '-80.3876889', '', '-117.42351', '-80.8430827', '121.3010003', '121.3010003', '-88.3161965', '-88.3161965', '-120.6674207', '-120.6674207', '-109.1509804', '-122.419906', '-122.419906', '98.9684453', '121.3010003', '121.3010003', '-117.8704931', '-107.8766', '-109.1509804', '-117.9294401', '121.4692071', '121.3010003', '-89.3837613', '-117.1627728', '-117.1627728', '-105.270241', '-121.493895', '-123.805294', '-123.805294', '-79.4428157', '-80.3876889', '-79.4428157', '-87.6244212', '-89.3837613', '-87.6244212', '-97.7436995', '-121.493895', '', '', '-73.2340974', '-95.677556', '-105.270241', '-79.0992279', '-80.8430827', '-85.759407', '-122.579705', '-81.243372', '-122.7153995', '-117.1627728', '-107.8766', '-122.419906', '-95.677556', '-80.3876889', '', '-80.3876889', '-121.493895', '121.4692071', '-95.9927436', '-95.9927436', '121.4692071', '121.4692071', '121.4692071', '-93.0949501', '-80.3876889', '-93.0949501', '-118.491227', '151.1801893', '', '120.40200825216095', '-95.677556', '-78.1652404', '-90.0782127', '-78.1652404', '-122.674194', '-122.674194', '-87.6244212', '-94.5927451', '-117.9294401', '-79.666672', '-108.49607', '-104.984862', '-92.1251218', '-80.8430827', '-121.493895', '-121.493895', '-72.8150989', '-80.1433786', '-117.1827445', '121.5078001', '121.5078001', '121.5078001', '121.5078001', '121.5078001', '121.5078001', '-121.493895', '120.40200825216095', '-121.493895', '-83.0007065', '-105.270241', '-117.1627728', '-117.1627728', '-97.7436995', '-80.08920503427859', '-80.1433786', '-117.9294401', '-77.0365427', '-117.1627728', '-93.0949501', '-105.270241', '-97.7436995', '-89.3837613', '120.9705159576923', '-89.3837613', '-79.4428157', '-89.3837613', '-79.4428157', '-86.2307992', '-117.1627728', '-73.2340974', '-117.1627728', '-90.1983063', '-117.1627728', '-77.0365427', '-79.4428157', '-76.4968019', '-117.1627728', '-90.0782127', '-79.4428157', '-89.3837613', '-118.491227', '-89.3837613', '-122.674194', '-121.493895', '-122.5310874', '-79.3839347', '-95.677556', '-72.8150989', '-80.8430827', '-117.1627728', '-63.5859487', '-93.0949501', '-80.3876889', '-79.666672', '-105.270241', '-80.3876889', '-80.3876889', '-80.3876889', '120.40200825216095', '-105.270241', '120.40200825216095', '120.40200825216095', '-73.212906', '-73.212906', '-73.212906', '-73.212906', '13.3888599', '120.71469967942349', '120.71469967942349', '120.71469967942349', '-73.212906', '-80.08920503427859', '-80.08920503427859', '-111.044047', '-109.1509804', '-80.08920503427859', '121.7533344', '121.4656619', '121.4656619', '121.4656619', '127.1785572', '151.2082848', '121.5636796', '121.5078001', '-95.9927436', '-121.493895', '121.5636796', '121.5636796', '127.1785572', '-118.242766', '-95.677556', '-87.6244212', '-121.493895', '-121.493895', '-121.493895', '120.71469967942349', '-95.9927436', '-89.3837613', '-105.270241', '100.9650146', '-105.270241', '-89.3837613', '-89.3837613', '121.5636796', '121.5636796', '-73.2340974', '-80.3876889', '-80.3876889', '-93.0949501', '', '145.0317207', '151.15416988628277', '144.9631608', '151.1801893', '151.2082848', '144.9631608', '144.9631608', '-105.270241', '-117.1627728', '-121.493895', '-121.493895', '-122.63928', '100.9650146', '-80.3876889', '-70.8967226', '-70.8967226', '-90.1983063', '-80.8430827', '-118.242766', '-80.3876889', '-89.5891008', '', '-92.1251218', '-92.1251218', '120.71469967942349', '-83.0407403', '-72.8150989', '-108.49607', '-95.9927436', '121.67991896754117', '-94.5781416', '-122.330062', '121.5078001', '-123.2077861', '121.5078001', '-80.3876889', '-80.3876889', '-72.75549720909403', '-95.9927436', '-97.7436995', '120.40200825216095', '-93.0949501', '-89.5891008', '-117.1627728', '-117.1627728', '-79.4428157', '-89.3837613', '-79.4428157', '-122.674194', '-122.674194', '-87.6244212', '', '-104.985181', '-122.674194', '-122.330062', '-122.271356', '-78.9018053', '-104.984862', '-122.674194', '-87.6244212', '-78.9018053', '-122.271356', '-87.6244212', '-122.330062', '-80.3876889', '-121.493895', '-89.5891008', '-121.493895', '-86.2307992', '-97.7436995', '-117.1627728', '-117.1627728', '-73.2340974', '-73.2340974', '120.5810725', '-72.75549720909403', '-72.75549720909403', '-72.75549720909403', '-72.75549720909403', '-72.75549720909403', '-72.75549720909403', '-72.75549720909403', '-72.75549720909403', '-72.75549720909403', '-72.75549720909403', '-72.75549720909403', '-94.626497', '-94.626497', '-121.493895', '-90.1983063', '-122.419906', '-90.0782127', '-79.4428157', '-95.677556', '121.67991896754117', '-116.9480877', '-89.576017', '121.5636796', '-121.493895', '-122.5310874', '-87.6244212', '-117.1627728', '-74.4243178', '-114.15464243514151', '-114.15464243514151', '121.4692071', '', '-80.3876889', '-80.3876889', '121.67991896754117', '121.67991896754117', '-121.493895', '-121.493895', '-89.3837613', '', '-71.5159015', '-89.5891008', '-97.0155703', '-0.1276474', '120.40200825216095', '120.40200825216095', '-95.677556', '-89.3837613', '-71.5159015', '-89.3837613', '-111.044047', '-111.044047', '-121.493895', '-121.493895', '-122.63928', '-122.419906', '-104.985181', '-118.0014517', '-122.271356', '-87.7808967', '-118.242766', '-93.2654692', '-122.23963364918777', '-122.2865266', '-121.8746789', '-87.7808967', '-117.9294401', '-117.9294401', '121.67991896754117', '120.71924224325127', '120.5096957', '-80.3876889', '-80.3876889', '-80.3876889', '-78.1652404', '-73.212906', '-93.0949501', '-121.34239205792437', '-73.212906', '-73.212906', '-90.0782127', '-118.491227', '-93.0949501', '120.71469967942349', '121.5636796', '121.5636796', '121.5636796', '121.5636796', '-111.044047', '-84.5553805', '-121.493895', '-121.493895', '-93.0949501', '-121.493895', '-89.3837613', '-89.3837613', '120.40200825216095', '-122.419906', '-122.419906', '-122.419906', '-122.330062', '-74.0218037', '114.1628131', '121.3010003', '121.3010003', '121.3010003', '121.3010003', '121.3010003', '-121.493895', '-105.270241', '-121.493895', '-95.677556', '', '-111.044047', '120.3120375', '-121.493895', '-73.1212214', '-122.8950075', '-72.8150989', '', '-73.7776336', '-80.3876889', '-122.201399', '-89.3837613', '-73.7776336', '-105.270241', '-121.493895', '-105.270241', '-121.493895', '-104.984862', '100.9650146', '-117.1627728', '-117.1627728', '-89.3837613', '-89.3837613', '-80.3876889', '-93.0931028', '100.9650146', '-73.2340974', '-80.3876889', '-93.0949501', '-79.4428157', '120.40200825216095', '-121.493895', '-121.493895', '-123.3649533', '-122.63928', '-117.1627728', '-89.576017', '-89.576017', '-105.270241', '-105.270241', '-105.270241', '121.5636796', '121.5636796', '102.6133707', '-67.11391881560841', '-73.2340974', '-73.2340974', '-73.2340974', '-111.044047', '-123.805294', '-122.63928', '-123.805294', '-97.7436995', '-111.044047', '-73.1212214', '-93.0949501', '-80.8430827', '-117.42351', '-118.242766', '-117.1627728', '114.1628131', '114.1628131', '-117.1627728', '-117.1627728', '-117.1627728', '-73.2340974', '-73.2340974', '-90.1983063', '-114.15464243514151', '-114.15464243514151', '-114.15464243514151', '-121.493895', '-89.3837613', '-89.3837613', '-89.3837613', '-117.1627728', '-89.3837613', '-89.3837613', '-79.9900861', '126.9782914', '121.5078001', '-121.493895', '-117.2740777', '-105.270241', '-122.5310874', '-89.576017', '-122.330062', '126.9782914', '-83.0007065', '-79.3839347', '121.3010003', '121.3010003', '-121.493895', '-87.6244212', '-79.4428157', '-95.9927436', '-80.3876889', '-117.2740777', '-121.493895', '-83.0007065', '-89.3837613', '-85.7884997', '-90.1983063', '-95.9927436', '120.9686833', '-73.1212214', '-72.8150989', '-117.1627728', '-89.576017', '121.5636796', '-79.3839347', '-71.5159015', '-121.493895', '-122.674194', '121.5078001', '120.71924224325127', '-155.4773466', '-105.270241', '-79.9900861', '121.5636796', '121.5636796', '121.5636796', '-89.3837613', '-87.4139119', '-117.1627728', '-97.7436995', '126.8198197', '-93.0949501', '-93.0949501', '-105.50285494148964', '-118.242766', '-118.491227', '-121.493895', '-73.9497211', '-121.493895', '-95.677556', '-122.8950075', '-122.674194', '-122.330062', '-117.9294401', '-79.4428157', '120.40200825216095', '-117.9294401', '-79.4428157', '-121.493895', '-89.3837613', '-123.3649533', '-118.491227', '-86.000977', '-93.0949501', '-117.2740777', '-93.0949501', '12.078913722504204', '-117.1627728', '-121.493895', '-73.1212214', '-93.0949501', '-117.42351', '-122.478836', '-95.677556', '-79.666672', '-81.3465575', '-79.4428157', '-79.4428157', '-118.242766', '121.5636796', '-122.330062', '-117.1627728', '-71.5159015', '-105.270241', '-90.1983063', '-117.2740777', '-73.2006687', '-122.330062', '-122.23963364918777', '-122.271356', '-122.330062', '-122.330062', '-122.23963364918777', '-122.271356', '-122.330062', '-122.330062', '120.40200825216095', '-109.1509804', '121.5636796', '-121.493895', '-79.3839347', '-73.9497211', '-121.493895', '-73.9497211', '-80.3876889', '-80.3876889', '-117.1827445', '121.3010003', '121.3010003', '121.3010003', '-117.1827445', '-121.493895', '-90.1983063', '-121.493895', '-121.493895', '120.6478282', '120.6478282', '-117.1827445', '121.5078001', '-121.493895', '-121.493895', '-121.493895', '-121.493895', '121.5636796', '-123.3649533', '120.9705159576923', '-122.330062', '121.3010003', '-121.493895', '-122.330062', '-105.270241', '-122.478836', '-122.419906', '-84.8766115', '-108.49607', '121.5636796', '100.9650146', '100.9650146', '-74.4243178', '100.9650146', '-74.4243178', '-118.491227', '-73.2006687', '120.9705159576923', '13.3888599', '-73.2340974', '-73.2340974', '-71.5159015', '-105.270241', '-71.5159015', '-105.270241', '-73.7776336', '-122.5310874', '-122.330062', '-95.677556', '-117.2740777', '-118.242766', '-122.330062', '-95.9927436', '-81.3465575', '-63.5859487', '120.71924224325127', '121.5078001', '-79.3839347', '-95.677556', '-95.677556', '-123.805294', '-123.3649533', '-87.6244212', '-95.9927436', '-74.4243178', '-93.0949501', '-89.3837613', '-80.3876889', '-80.3876889', '-121.493895', '-90.1983063', '126.8198197', '121.5636796', '-122.8950075', '-89.576017', '-79.666672', '-73.9497211', '-93.0931028', '-122.674194', '-122.674194', '121.7311069', '-123.805294', '-122.5310874', '-95.9927436', '126.9782914', '-121.34239205792437', '-67.7274645', '-121.493895', '-74.0218037', '-123.3649533', '-70.8967226', '120.40200825216095', '120.40200825216095', '-121.493895', '-105.270241', '-122.330062', '-105.270241', '-105.270241', '-73.1212214', '-74.0060152', '6.6327025', '121.5078001', '-72.75549720909403', '-84.01397213865732', '-122.34659293870129', '-109.1509804', '-122.330062', '-122.2865266', '-80.8430827', '120.71469967942349', '-87.6244212', '120.71469967942349', '-87.6244212', '-123.113952', '121.67991896754117', '-93.0949501', '121.67991896754117', '-93.0949501', '121.67991896754117', '-117.2740777', '100.4935089', '100.4935089', '100.4935089', '-117.1627728', '-71.5159015', '-122.330062', '-118.91183', '-118.91183', '-118.242766', '-155.9536379', '-74.0060152', '-94.5781416', '-94.5781416', '-89.576017', '-89.576017', '-73.2340974', '120.40200825216095', '121.3010003', '-95.677556', '-122.8950075', '-121.493895', '-118.242766', '-121.493895', '-81.3465575', '-105.270241', '-122.478836', '-71.5159015', '-122.330062', '-122.201399', '-119.8276389', '-121.493895', '120.6478282', '120.6478282', '-90.1983063', '120.6478282', '-73.7776336', '-73.2340974', '-122.23963364918777', '-73.2340974', '-122.23963364918777', '-73.2340974', '-122.23963364918777', '-122.23963364918777', '120.40200825216095', '100.9650146', '-108.49607', '-108.49607', '-93.0949501', '-89.3837613', '-93.0949501', '-89.3837613', '-79.4428157', '-79.4428157', '-79.4428157', '-79.4428157', '121.3010003', '120.71924224325127', '120.71469967942349', '120.71924224325127', '120.71469967942349', '-90.1983063', '-81.3465575', '-155.9536379', '-121.493895', '-121.493895', '-108.49607', '-95.677556', '-105.270241', '-122.5310874', '-73.7776336', '-73.1212214', '-93.2654692', '-118.242766', '-89.3837613', '121.3010003', '-73.6656834', '-71.5159015', '-122.271356', '-122.271356', '-104.985181', '-122.5310874', '-76.4968019', '-122.674194', '-104.985181', '-117.1627728', '-73.5698065', '-122.674194', '-122.2312383', '-89.576017', '-89.576017', '-89.576017', '-120.3757163', '-73.212906', '-118.491227', '-84.1916069', '-95.677556', '-73.7776336', '-90.1983063', '-95.677556', '-89.3837613', '-95.677556', '-89.3837613', '-121.493895', '-93.2654692', '-93.0931028', '-93.0949501', '-94.5781416', '-94.5781416', '-89.3837613', '-89.3837613', '-121.493895', '-117.1627728', '100.9650146', '127.6961188', '-7.9918426', '-95.677556', '-95.677556', '-121.493895', '-95.9927436', '-118.242766', '-105.270241', '-123.805294', '-118.242766', '-121.493895', '120.2124235', '114.1767885', '126.9782914', '-121.493895', '-93.2654692', '-122.5310874', '-122.330062', '-73.9497211', '-87.6244212', '-73.9497211', '-93.2654692', '120.9705159576923', '-118.242766', '120.71924224325127', '-118.242766', '120.71924224325127', '-76.481323', '-93.0949501', '-93.0949501', '-93.0949501', '121.67991896754117', '-109.1509804', '121.67991896754117', '-109.1509804', '121.67991896754117', '-122.5310874', '-123.805294', '-155.4773466', '-155.9536379', '-155.105667', '-117.1627728', '-157.855676', '10.8711335', '-128.599548', '-73.2006687', '-121.493895', '-89.3837613', '-89.3837613', '-89.3837613', '-121.493895', '126.9782914', '-117.1827445', '-118.242766', '-117.1627728', '-79.3839347', '-78.6390989', '-122.271356', '-95.2359496', '-122.330062', '-118.242766', '-122.674194', '-118.242766', '-78.6390989', '-89.3837613', '-117.2740777', '-71.5159015', '-71.5159015', '-71.5159015', '-89.3837613', '-117.2740777', '-117.2740777', '-108.49607', '-108.49607', '-79.4428157', '-79.4428157', '-79.4428157', '-122.330062', '-93.0949501', '-122.330062', '-86.3921096', '-73.2340974', '-73.2340974', '-71.5159015', '-93.2654692', '-93.0949501', '120.40200825216095', '-114.315321', '-85.6678639', '-104.985181', '-108.49607', '-95.9927436', '-104.985181', '-111.044047', '-95.677556', '-90.2428756', '-79.3839347', '-121.890591', '-118.491227', '-79.3839347', '-90.1983063', '-104.985181', '-104.985181', '-104.985181', '-104.985181', '-89.3837613', '-89.3837613', '-73.9497211', '-73.9497211', '-121.493895', '-121.493895', '-1.5437941', '-0.1276474', '-0.1276474', '-0.5278477012862655', '-2.5972985', '-3.1883749', '-93.2654692', '-95.9927436', '121.5636796', '-89.576017', '-108.49607', '-93.2654692', '-93.2654692', '-93.2654692', '-121.081106', '-118.3963062', '-80.8430827', '-122.2865266', '-73.7776336', '-97.85063873159599', '126.9782914', '-73.1212214', '-122.419906', '-122.271356', '120.71469967942349', '-94.5781416', '120.40200825216095', '120.71469967942349', '-94.5781416', '-117.2740777', '-121.890591', '-122.271356', '-104.984862', '-73.7776336', '-95.677556', '-89.576017', '-93.0949501', '-121.890591', '-122.419906', '-122.5310874', '-122.478836', '-89.5891008', '-89.3837613', '-89.3837613', '-89.3837613', '-71.5159015', '-93.0949501', '-109.1509804', '-109.1509804', '-109.1509804', '-109.1509804', '-117.1827445', '-108.49607', '-93.2654692', '-93.0949501', '-122.34659293870129', '-122.419906', '-73.7776336', '-122.419906', '-122.271356', '-122.330062', '-72.8150989', '-111.044047', '-122.5310874', '-121.890591', '-71.5159015', '-89.3837613', '121.3010003', '-85.6678639', '120.71924224325127', '-85.6678639', '-93.0949501', '-89.5891008', '-89.5891008', '-117.1627728', '-95.9927436', '-118.491227', '-89.3837613', '-118.242766', '-79.4428157', '-79.4428157', '-79.4428157', '-79.4428157', '-71.5159015', '-71.5159015', '-71.5159015', '-122.330062', '121.3010003', '-121.493895', '-109.1509804', '-79.3839347', '-121.493895', '-121.493895', '-121.493895', '-95.677556', '-122.6744557', '-85.6678639', '120.71924224325127', '-121.890591', '120.2124235', '121.67991896754117', '126.9782914', '-122.478836', '121.67991896754117', '-122.271356', '121.67991896754117', '-95.9383758', '-83.0007065', '-87.6244212', '-83.0007065', '126.9782914', '-95.677556', '-71.5159015', '120.40200825216095', '120.40200825216095', '-89.5891008', '121.4692071', '-90.2428756', '-95.9927436', '121.3010003', '-93.2654692', '-122.674194', '-93.2654692', '121.3010003', '121.5078001', '-118.39524', '-83.0373389', '-157.855676', '-117.1627728', '-121.493895', '-71.6325435', '-106.71324849574629', '5.12768396945229', '126.9782914', '-71.5159015', '-118.3963062', '-118.242766', '-122.8950075', '-122.5310874', '-122.201399', '-89.576017', '-73.2340974', '-79.4428157', '-71.5159015', '-71.5159015', '-93.2654692', '-93.0949501', '-73.2340974', '-121.493895', '-79.4428157', '-79.4428157', '121.3010003', '-117.9294401', '-89.5891008', '-122.478836', '-122.478836', '-122.478836', '-90.2428756', '120.40200825216095', '-117.2740777', '-93.2654692', '-93.2654692', '-93.2654692', '-93.2654692', '99.6734592', '-70.8967226', '121.7311069', '-105.270241', '-89.576017', '-117.2740777', '-122.579705', '114.22561', '-121.493895', '-73.2340974', '-122.8950075', '-122.271356', '-73.7776336', '-118.491227', '-93.0949501', '-72.75549720909403', '-72.75549720909403', '-72.75549720909403', '-72.75549720909403', '-79.4428157', '-117.2740777', '-117.2740777', '-93.0949501', '126.9782914', '-155.9536379', '-122.330062', '-109.1509804', '120.40200825216095', '-121.493895', '-121.493895', '-121.493895', '-84.8766115', '-117.1627728', '-122.674194', '121.5636796', '-116.553247', '-95.9927436', '-155.9536379', '126.9782914', '120.71924224325127', '121.7311069', '-71.6325435', '-122.8950075', '-73.7776336', '-70.2548596', '-122.8950075', '-71.5159015', '-71.5159015', '-89.3837613', '-117.2740777', '-118.242766', '-77.3063733', '-122.674194', '-121.890591', '-122.674194', '120.71924224325127', '-117.2740777', '121.5636796', '-97.3327459', '-79.6443879', '-79.6443879', '-79.6443879', '-79.6443879', '-97.3327459', '-95.677556', '-95.677556', '-121.493895', '-118.242766', '-93.2654692', '-118.242766', '-117.1627728', '-117.2740777', '-90.345759', '-122.330062', '-117.42351', '-81.0951271', '121.7311069', '-122.330062', '-118.242766', '-79.666672', '-108.49607', '-117.9294401', '-117.9294401', '-117.9294401', '-114.065465', '-114.065465', '-104.984862', '-123.137414', '-123.137414', '-123.137414', '-89.3837613', '-93.0949501', '-93.0949501', '-93.0949501', '-93.0949501', '-155.105667', '-90.1983063', '-71.5159015', '-122.330062', '-121.493895', '-90.1983063', '-122.419906', '-74.4243178', '-122.674194', '-122.271356', '-73.5106791', '-78.9018053', '-78.8300321', '-87.6244212', '-122.271356', '-73.6656834', '-117.1627728', '-89.3837613', '-89.3837613', '-114.065465', '-117.1627728', '-149.894852', '-70.2548596', '-121.493895', '121.3010003', '-109.1509804', '-89.3837613', '-93.2654692', '-121.493895', '-93.0949501', '-70.8967226', '6.6327025', '6.6327025', '7.6824892', '-122.330062', '12.402996209906487', '7.6824892', '-122.330062', '12.402996209906487', '-72.75549720909403', '-72.75549720909403', '-72.75549720909403', '-93.0949501', '-70.2548596', '-93.0949501', '-93.0949501', '-93.0949501', '-71.43284', '-93.0949501', '-70.2548596', '-89.3837613', '120.71924224325127', '-89.3837613', '-118.3963062', '-73.2340974', '121.3010003', '121.3010003', '-149.894852', '-94.5781416', '-93.0949501', '121.5636796', '-73.7776336', '-71.5159015', '-121.493895', '121.5636796', '121.5636796', '121.5636796', '-122.5310874', '-89.3837613', '-122.330062', '-89.5891008', '-71.5159015', '100.4935089', '-122.330062', '-94.5781416', '-114.065465', '-118.491227', '-73.7776336', '-155.4773466', '-114.065465', '-94.5781416', '-95.9383758', '-89.5891008', '-89.3837613', '-118.491227', '-109.1509804', '-93.0949501', '', '-109.1509804', '-86.3921096', '121.7311069', '-89.3837613', '-122.330062', '120.2124235', '-121.493895', '121.67991896754117', '-122.330062', '-108.49607', '-122.330062', '-105.270241', '121.3010003', '121.7311069', '121.67991896754117', '-96.7307737', '-117.2740777', '-114.065465', '121.5078001', '-71.5159015', '-118.39524', '121.3010003', '121.5078001', '-70.8967226', '121.67991896754117', '-71.5159015', '120.4161577', '-121.493895', '120.71469967942349', '114.1628131', '-79.4428157', '114.1628131', '-79.4428157', '-117.9294401', '-117.9294401', '114.1628131', '-117.9294401', '-90.1983063', '17.1467019', '-93.2654692', '-72.75549720909403', '-81.7640212', '-122.330062', '-93.2654692', '-109.1509804', '-122.330062', '-72.75549720909403', '-72.75549720909403', '-72.75549720909403', '-72.75549720909403', '-73.2340974', '-89.3837613', '-71.5159015', '-95.9383758', '-122.330062', '-95.9383758', '-95.9383758', '-122.674194', '-71.5159015', '-118.3740371', '-122.1588902', '-73.7776336', '-73.7776336', '-71.5159015', '-90.1983063', '-93.0949501', '-117.2740777', '-71.5159015', '-93.0949501', '100.4935089', '121.7311069', '121.5078001', '-85.759407', '-117.1627728', '-114.065465', '-95.677556', '-117.2740777', '-73.7776336', '-90.8887413', '-122.5310874', '-155.105667', '-93.2654692', '-93.0949501', '-74.4518173', '-89.3837613', '-95.677556', '-74.4518173', '-89.3837613', '-89.3837613', '-71.5159015', '-122.330062', '-105.270241', '-83.2784851', '-117.1627728', '-71.43284', '-89.3837613', '-73.7776336', '-71.43284', '-93.0949501', '-73.7776336', '-89.3837613', '-71.43284', '-118.242766', '-114.15464243514151', '-89.3837613', '-70.2548596', '-89.5891008', '-109.1509804', '121.3137769', '-89.5891008', '-93.2654692', '-89.5891008', '121.5078001', '121.5078001', '121.5078001', '100.4935089', '-123.113952', '-89.3837613', '-95.9383758', '-122.330062', '-118.242766', '-117.6484304', '121.3010003', '-93.0949501', '17.108279', '17.108279', '17.108279', '-96.7307737', '114.1628131', '-122.330062', '121.67991896754117', '121.67991896754117', '-122.330062', '121.67991896754117', '-70.2548596', '-71.43284', '-121.493895', '-114.065465', '-70.2548596', '-70.2548596', '-114.065465', '-84.8766115', '-96.7968559', '-122.330062', '-81.357886', '-95.9383758', '-73.7776336', '-108.49607', '-122.201399', '-122.2865266', '-76.492786', '-104.984862', '-82.5540161', '-93.0949501', '-123.113952', '-123.113952', '-109.1509804', '-117.6484304', '-117.6484304', '-117.6484304', '-117.6484304', '-117.6484304', '-93.2654692', '-118.242766', '-79.6443879', '-79.6443879', '121.3010003', '-95.677556', '-121.493895', '-73.7776336', '-117.1627728', '-72.6908547', '-72.6908547', '-121.493895', '-122.478836', '-122.201399', '-122.63928', '-86.3921096', '-95.9383758', '-118.242766', '-122.271356', '-90.8887413', '121.5078001', '-117.9294401', '-121.493895', '-95.677556', '-73.2340974', '-93.0949501', '-71.43284', '121.0040779', '121.0040779', '-79.4428157', '121.0040779', '-79.4428157', '-95.677556', '-72.75549720909403', '-95.677556', '-72.75549720909403', '-95.677556', '-72.75549720909403', '120.71924224325127', '121.3010003', '-118.191604', '120.71924224325127', '-95.9383758', '-117.1627728', '121.3010003', '120.71924224325127', '121.67991896754117', '121.67991896754117', '-73.2340974', '-121.493895', '-114.065465', '-89.5891008', '-89.5891008', '-73.2340974', '-81.7640212', '-74.0229173', '-94.2088172', '-122.330062', '-94.2088172', '-121.537989', '-89.3837613', '-89.3837613', '-71.43284', '-93.0949501', '-93.0949501', '-122.63928', '-95.677556', '-95.677556', '-95.677556', '120.71469967942349', '-117.2740777', '-122.330062', '120.71469967942349', '-85.6165301', '-79.666672', '-83.0007065', '-86.3921096', '-93.2654692', '-123.805294', '-122.271356', '-122.674194', '-95.677556', '-109.1509804', '-89.5891008', '-89.5891008', '-96.7307737', '-89.3837613', '-96.7307737', '-122.674194', '-93.2654692', '-114.065465', '-114.065465', '114.1628131', '-117.1627728', '114.1628131', '-122.330062', '-122.330062', '-118.242766', '-72.75549720909403', '-117.2740777', '-93.2654692', '-79.0992279', '-94.5781416', '-72.8150989', '-117.9294401', '-122.201399', '-122.674194', '-122.8950075', '-118.242766', '-122.330062', '-121.493895', '-114.065465', '-114.065465', '-72.75549720909403', '-72.75549720909403', '-89.3837613', '-117.2740777', '-96.0324044', '-89.3837613', '-95.677556', '-117.9294401', '-118.242766', '-95.677556', '100.4935089', '100.4935089', '-117.9294401', '100.4935089', '-89.3837613', '-93.0949501', '-118.191604', '-72.8150989', '-122.330062', '-121.493895', '-122.5310874', '121.7311069', '121.3010003', '-72.8150989', '-118.242766', '-118.242766', '-74.4518173', '-93.2654692', '100.4935089', '-86.8647316', '-109.1509804', '121.4656619', '-96.7307737', '-74.0218037', '-79.4428157', '-79.4428157', '-89.3837613', '-122.330062', '-117.8067257', '-117.1627728', '-89.3837613', '-93.2654692', '114.1628131', '100.4935089', '-155.4773466', '-93.2654692', '114.1628131', '-93.0949501', '114.1628131', '-89.3837613', '-70.2548596', '-123.137414', '-72.75549720909403', '120.2124235', '120.71924224325127', '120.2124235', '121.7311069', '120.6837059', '120.71924224325127', '121.3010003', '120.71924224325127', '121.3010003', '120.71924224325127', '120.71924224325127', '121.3010003', '121.3010003', '114.1628131', '121.3010003', '114.1628131', '-97.12057884728105', '-75.4318532', '121.3010003', '-155.917282', '-75.4318532', '-70.2548596', '-87.4139119', '-93.2654692', '-95.677556', '-121.537989', '-121.493895', '-117.9294401', '-121.493895', '-122.5310874', '-89.3837613', '-117.2740777', '-71.43284', '-72.8150989', '-89.3837613', '-117.6483876', '-71.43284', '-72.75549720909403', '-89.3837613', '-71.43284', '-89.3837613', '-122.036349', '-71.43284', '-109.1509804', '-89.3837613', '-73.2340974', '-93.0949501', '-155.9536379', '-114.065465', '-75.4318532', '120.71469967942349', '120.71924224325127', '-121.537989', '120.71469967942349', '-96.7307737', '-89.3837613', '-80.19362', '-122.972751', '-90.8887413', '-79.666672', '-123.51516139891447', '-117.9294401', '120.71924224325127', '-80.19362', '-74.4518173', '-71.43284', '-95.677556', '-73.2340974', '-122.330062', '-122.330062', '-117.2740777', '-73.2340974', '-122.330062', '-72.75549720909403', '100.4935089', '-73.9497211', '-96.7077751', '-117.1627728', '-119.8126581', '-119.8126581', '-122.8950075', '-105.270241', '-122.674194', '121.5078001', '-122.5310874', '-73.9497211', '-116.9480877', '-78.7835271', '-121.3153096', '-122.330062', '-75.4318532', '-80.0373719', '-83.2784851', '-114.15464243514151', '-93.0949501', '-93.0949501', '-109.1509804', '-71.43284', '121.5078001', '-122.63928', '-96.7307737', '-114.15464243514151', '121.3010003', '121.3010003', '-121.537989', '-72.75549720909403', '-72.75549720909403', '-89.3837613', '-89.3837613', '-79.4428157', '-88.3161965', '-88.3161965', '-88.3161965', '-88.3161965', '121.5078001', '-71.1447732', '-122.330062', '-122.23963364918777', '-122.330062', '-122.674194', '-122.674194', '-122.23963364918777', '-78.9018053', '-122.330062', '-73.2340974', '-70.2548596', '-70.2548596', '-72.75549720909403', '-72.75549720909403', '-76.0493684', '-121.7733285', '-76.0493684', '-88.0814651', '-121.7733285', '-122.330062', '-86.1090828', '-122.23963364918777', '-122.674194', '-122.5310874', '-72.8150989', '-72.8150989', '-122.5310874', '-155.9536379', '121.4692071', '-115.002136', '-121.493895', '-90.8887413', '-122.330062', '-121.493895', '-75.9425022', '-122.5310874', '-121.493895', '-72.75549720909403', '-72.75549720909403', '-72.75549720909403', '-155.4773466', '-74.4518173', '-117.2740777', '-81.243372', '-76.4968019', '-122.674194', '-95.677556', '-121.3153096', '-96.7307737', '-95.9927436', '-81.243372', '-121.493895', '121.3010003', '120.71924224325127', '-93.2654692', '120.71924224325127', '-79.666672', '-74.0218037', '-119.8126581', '-89.3837613', '-88.3161965', '-89.3837613', '-89.3837613', '-81.7640212', '7.6824892', '-87.7808967', '-81.7640212', '-73.8587461', '13.7772781', '-71.1447732', '-89.3837613', '-89.3837613', '7.6824892', '-122.330062', '-122.330062', '-122.330062', '-76.4968019', '-122.330062', '-122.330062', '-96.7968559', '-90.1983063', '-93.0949501', '-93.0949501', '100.4935089', '100.4935089', '-84.01397213865732', '-84.01397213865732', '-122.674194', '-79.4428157', '-79.4428157', '-69.9653278', '-123.137414', '-74.2745215', '-122.8950075', '-70.2548596', '-117.2740777', '-89.3837613', '-70.2548596', '-122.674194', '-90.8887413', '-116.9480877', '-94.5781416', '-70.2548596', '-89.3837613', '-117.1627728', '-70.2548596', '', '-90.8887413', '-122.674194', '-122.330062', '-122.5310874', '-72.8150989', '-71.43284', '-78.9018053', '-122.419906', '-78.9018053', '-73.790959', '-117.6483876', '-96.7307737', '-76.4968019', '-73.9497211', '-114.065465', '-72.75549720909403', '-87.4139119', '-89.3837613', '-89.3837613', '-89.3837613', '-89.3837613', '-121.493895', '-89.3837613', '-89.3837613', '-70.2548596', '-117.2740777', '-70.2548596', '-93.2654692', '-93.0949501', '-94.5781416', '-93.0949501', '-93.0949501', '-73.2340974', '-121.493895', '-121.493895', '-121.493895', '-123.805294', '-114.065465', '-73.9497211', '-78.9018053', '-78.8300321', '-118.191604', '-83.0007065', '-121.493895', '-70.2548596', '-69.9653278', '-70.2548596', '-117.2740777', '-95.677556', '-89.3837613', '-89.3837613', '-73.2340974', '-73.2340974', '-122.674194', '-93.0949501', '-117.1627728', '-122.674194', '-90.8887413', '-93.0949501', '-77.4088794', '-122.271356', '-72.75549720909403', '-122.330062', '-71.019004', '-122.421222', '-107.8766', '-78.9018053', '-94.5781416', '-122.478836', '-121.890591', '-114.33828531635987', '-122.674194', '-99.1331785', '-73.9497211', '-96.7307737', '-109.1509804', '-122.674194', '-122.674194', '-122.674194', '-81.243372', '-114.065465', '-73.5698065', '-79.666672', '-123.113952', '-76.1945277', '-79.9546341', '-79.3839347', '-123.137414', '-63.5859487', '-123.113952', '-122.972545', '-79.4392925', '-94.5781416', '121.5636796', '-122.674194', '-117.2740777', '-109.1509804', '-79.4428157', '-121.493895', '-121.493895', '-122.674194', '-114.065465', '-93.0949501', '-114.065465', '-93.0949501', '-90.2428756', '-87.6244212', '-122.330062', '121.3010003', '-73.9497211', '-104.984862', '-78.8300321', '-122.8950075', '-122.330062', '-71.43284', '-81.243372', '-71.43284', '-71.43284', '-79.3839347', '-71.43284', '-114.065465', '-121.493895', '-79.4428157', '-79.4428157', '-79.4428157', '-70.8967226', '-87.4139119', '-70.8967226', '-122.674194', '-122.674194', '-95.677556', '-109.1509804', '-86.8024326', '-88.0102281', '8.8071646', '-88.0102281', '-79.666672', '-122.330062', '', '-72.75549720909403', '6.6327025', '-122.330062', '6.6327025', '-72.6908547', '-72.75549720909403', '6.6327025', '-72.75549720909403', '-96.7307737', '-93.0949501', '-109.1509804', '-95.677556', '-122.674194', '-122.674194', '-117.2740777', '-72.75549720909403', '-70.2548596', '-70.2548596', '-121.493895', '-121.493895', '121.3137769', '-117.2740777', '-73.9497211', '-155.9536379', '-89.3837613', '-89.3837613', '-87.4139119', '-79.4428157', '-109.1509804', '20.5105838', '20.5105838', '20.5105838', '20.5105838', '20.5105838', '20.5105838', '20.5105838', '-87.7808967', '-118.2478471', '-122.330062', '-87.7808967', '-87.7808967', '-118.0014517', '-118.2478471', '-122.330062', '-118.2478471', '-122.1560768', '-93.0949501', '-93.0949501', '-90.8887413', '-96.7307737', '-80.0373719', '-123.113952', '-72.75549720909403', '-70.2548596', '-114.065465', '-94.5781416', '-89.3837613', '-70.2548596', '-70.2548596', '-122.674194', '-73.9696822', '-71.060511', '-123.113952', '-123.805294', '-81.0951271', '-93.2654692', '-122.972545', '-116.9480877', '-122.674194', '-122.674194', '-122.674194', '-122.674194', '-122.674194', '-155.9536379', '121.5636796', '-90.8887413', '-118.396466', '-121.493895', '-95.677556', '-95.677556', '-121.493895', '-95.677556', '-121.493895', '-95.677556', '-93.0949501', '-93.0949501', '-70.8967226', '-118.448647', '-121.6846349', '-71.43284', '-71.43284', '-122.7153995', '-71.3825558', '-70.1835179', '-117.8259819', '-72.75549720909403', '-89.3837613', '-90.2428756', '-90.8887413', '-121.493895', '-78.9018053', '-71.43284', '-114.065465', '-96.7307737', '-122.674194', '-73.2340974', '-122.674194', '-122.674194', '-122.674194', '-122.674194', '-95.677556', '-96.7307737', '-123.137414', '-93.0949501', '-93.0949501', '-89.3837613', '-89.3837613', '-89.3837613', '-72.75549720909403', '-72.75549720909403', '-79.0752876', '-111.9400091', '-114.065465', '-114.065465', '-121.6846349', '-72.75549720909403', '-63.5859487', '-73.9497211', '-123.137414', '-123.137414', '-118.448647', '-79.4428157', '-93.2654692', '-93.2654692', '-122.674194', '-93.2654692', '-93.2654692', '-95.677556', '-122.674194', '-93.2654692', '-81.9806771', '-123.113952', '100.4935089', '100.4935089', '100.4935089', '-73.9569751', '100.4935089', '-81.243372', '-94.5781416', '-73.2340974', '121.3010003', '-79.4428157', '-117.8067257', '-117.1627728', '-79.3839347', '-93.0949501', '-95.677556', '-96.7307737', '-155.4773466', '-123.113952', '-114.065465', '-79.666672', '121.5636796', '-117.8067257', '-118.191604', '-118.191604', '-118.191604', '-118.191604', '-80.0373719', '-117.2740777', '-87.6244212', '-93.0949501', '121.3010003', '-117.8259819', '121.5078001', '-72.75549720909403', '-117.8259819', '-72.75549720909403', '-119.7575628', '102.0159145', '-122.674194', '-123.805294', '-90.2428756', '-71.1564428', '-121.6846349', '-78.9018053', '-90.7333258', '-70.989778', '-105.270241', '-117.8067257', '-122.271356', '-121.493895', '-95.677556', '-73.9497211', '-89.3837613', '-73.9497211', '121.5636796', '-122.674194', '-122.674194', '-122.674194', '-75.4318532', '-89.3837613', '121.44372541582278', '-72.75549720909403', '-72.75549720909403', '-117.8259819', '-122.674194', '-71.43284', '-122.674194', '-71.43284', '-147.716675', '-122.419906', '-79.666672', '-95.677556', '-114.065465', '-122.330062', '-122.478836', '-76.4968019', '-117.1627728', '-78.9018053', '-93.0949501', '-89.3837613', '-122.674194', '-122.674194', '-122.674194', '-93.0949501', '-122.674194', '-72.75549720909403', '-117.2740777', '-88.0848929', '-117.2740777', '-96.7307737', '-122.674194', '-155.917282', '-70.1835179', '-70.1835179', '-89.3837613', '-79.3839347', '-94.5781416', '-73.9497211', '-121.493895', '-89.3837613', '-122.674194', '-89.3837613', '-73.2340974', '11.2555757', '-73.9497211', '-73.9497211', '-114.065465', '-114.065465', '-117.8067257', '-96.7077751', '-122.674194', '-121.744583', '-74.2745215', '-121.493895', '-122.5310874', '-116.9480877', '-87.6244212', '-70.989778', '-72.75549720909403', '-93.0949501', '-72.75549720909403', '-72.75549720909403', '-89.3837613', '-79.4392925', '-79.4392925', '-79.4392925', '-79.4392925', '-93.0949501', '-81.0951271', '-89.3837613', '-89.3837613', '-89.3837613', '-89.3837613', '-89.3837613', '-81.243372', '-107.8766', '-105.270241', '-122.972545', '-122.972545', '-117.2740777', '-70.989778', '-79.7919754', '-114.065465', '-114.065465', '-122.5310874', '-122.8950075', '-71.43284', '-79.4428157', '-79.4392925', '-79.4392925', '-79.4392925', '-79.4392925', '-95.677556', '-95.677556', '-93.0949501', '-72.75549720909403', '-93.0949501', '-94.5781416', '-94.5781416', '-73.2340974', '-97.12057884728105', '-114.065465', '-114.065465', '-114.065465', '-118.396466', '-117.1627728', '-117.8259819', '-118.242766', '-118.1444779', '-118.3740371', '-117.9294401', '-118.12706', '-118.242766', '-117.2740777', '-117.8067257', '-117.9294401', '-118.242766', '-71.43284', '121.4724311', '-79.3839347', '-79.3839347', '-79.3839347', '-79.3839347', '-79.3839347', '-93.0949501', '-79.4392925', '-122.674194', '-122.674194', '-122.674194', '-122.674194', '-122.674194', '121.5078001', '-122.674194', '-79.3839347', '-122.674194', '-122.8950075', '-122.8950075', '-94.5781416', '-122.674194', '-76.492786', '-63.5859487', '-79.666672', '-121.493895', '-117.8067257', '-76.492786', '-92.2387957', '-93.0949501', '-73.2340974', '-122.8950075', '-71.43284', '-93.0949501', '-71.43284', '-117.2740777', '-123.3649533', '-93.0949501', '-72.75549720909403', '-72.75549720909403', '-98.1566355', '121.5078001', '121.3137769', '-95.677556', '-74.2745215', '-155.3715569', '-122.674194', '-81.3790304', '-122.674194', '-93.2654692', '-73.2340974', '-155.9536379', '-155.917282', '-93.0949501', '-155.4773466', '-96.7307737', '-90.8887413', '121.3010003', '121.3010003', '-122.478836', '-90.8887413', '-90.8887413']\n"
     ]
    }
   ],
   "source": [
    "#using open street map to get lat and long for roaster_location\n",
    "\n",
    "import requests\n",
    "import urllib.parse\n",
    "\n",
    "lat = []\n",
    "lon = []\n",
    "\n",
    "address_list = data_df['roaster_location'].to_numpy()\n",
    "\n",
    "for address in address_list:\n",
    "    url = 'https://nominatim.openstreetmap.org/search/' + urllib.parse.quote(address) + '?format=json'\n",
    "\n",
    "    try:\n",
    "        response = requests.get(url).json()\n",
    "        lat.append(response[0][\"lat\"])\n",
    "        lon.append(response[0][\"lon\"])\n",
    "    except IndexError:\n",
    "        lat.append('')\n",
    "        lon.append('')\n",
    "\n",
    "print(lat)\n",
    "print(lon)"
   ]
  },
  {
   "cell_type": "code",
   "execution_count": 54,
   "id": "d7220b90",
   "metadata": {},
   "outputs": [
    {
     "data": {
      "text/plain": [
       "4779"
      ]
     },
     "execution_count": 54,
     "metadata": {},
     "output_type": "execute_result"
    }
   ],
   "source": [
    "#checking lengths to support adding into dataframe\n",
    "len(lat)"
   ]
  },
  {
   "cell_type": "code",
   "execution_count": 55,
   "id": "2502b893",
   "metadata": {},
   "outputs": [
    {
     "data": {
      "text/plain": [
       "4779"
      ]
     },
     "execution_count": 55,
     "metadata": {},
     "output_type": "execute_result"
    }
   ],
   "source": [
    "len(lon)"
   ]
  },
  {
   "cell_type": "code",
   "execution_count": 56,
   "id": "7e8bdd64",
   "metadata": {},
   "outputs": [
    {
     "data": {
      "text/plain": [
       "4779"
      ]
     },
     "execution_count": 56,
     "metadata": {},
     "output_type": "execute_result"
    }
   ],
   "source": [
    "len(data_df)"
   ]
  },
  {
   "cell_type": "code",
   "execution_count": 57,
   "id": "a088bf3d",
   "metadata": {},
   "outputs": [],
   "source": [
    "#adding column to dataframe\n",
    "data_df['roaster_location_lat'] = lat"
   ]
  },
  {
   "cell_type": "code",
   "execution_count": 58,
   "id": "91d7b6bf",
   "metadata": {},
   "outputs": [],
   "source": [
    "#adding column to dataframe\n",
    "data_df['roaster_location_lon'] = lon"
   ]
  },
  {
   "cell_type": "code",
   "execution_count": 59,
   "id": "97451ab9",
   "metadata": {},
   "outputs": [],
   "source": [
    "#drop original roaster_location being replaced with lat and lon\n",
    "data_df.drop('roaster_location', axis=1, inplace=True)"
   ]
  },
  {
   "cell_type": "code",
   "execution_count": 60,
   "id": "fbf9eb4e",
   "metadata": {},
   "outputs": [
    {
     "data": {
      "text/html": [
       "<div>\n",
       "<style scoped>\n",
       "    .dataframe tbody tr th:only-of-type {\n",
       "        vertical-align: middle;\n",
       "    }\n",
       "\n",
       "    .dataframe tbody tr th {\n",
       "        vertical-align: top;\n",
       "    }\n",
       "\n",
       "    .dataframe thead th {\n",
       "        text-align: right;\n",
       "    }\n",
       "</style>\n",
       "<table border=\"1\" class=\"dataframe\">\n",
       "  <thead>\n",
       "    <tr style=\"text-align: right;\">\n",
       "      <th></th>\n",
       "      <th>coffee_name</th>\n",
       "      <th>roaster_name</th>\n",
       "      <th>coffee_origin</th>\n",
       "      <th>roast_level</th>\n",
       "      <th>overall_score</th>\n",
       "      <th>h1</th>\n",
       "      <th>s1</th>\n",
       "      <th>h2</th>\n",
       "      <th>s2</th>\n",
       "      <th>h3</th>\n",
       "      <th>...</th>\n",
       "      <th>s5</th>\n",
       "      <th>p1</th>\n",
       "      <th>p2</th>\n",
       "      <th>p3</th>\n",
       "      <th>bean_agtron</th>\n",
       "      <th>ground_agtron</th>\n",
       "      <th>year</th>\n",
       "      <th>month</th>\n",
       "      <th>roaster_location_lat</th>\n",
       "      <th>roaster_location_lon</th>\n",
       "    </tr>\n",
       "  </thead>\n",
       "  <tbody>\n",
       "    <tr>\n",
       "      <th>859</th>\n",
       "      <td>Twisted V.6 Espresso</td>\n",
       "      <td>JBC Coffee Roasters</td>\n",
       "      <td>South America; Central America; Africa</td>\n",
       "      <td>2</td>\n",
       "      <td>94</td>\n",
       "      <td>Aroma:</td>\n",
       "      <td>9</td>\n",
       "      <td>Body:</td>\n",
       "      <td>9</td>\n",
       "      <td>Flavor:</td>\n",
       "      <td>...</td>\n",
       "      <td>9</td>\n",
       "      <td>Blind Assessment: Evaluated as espresso. Choco...</td>\n",
       "      <td>Notes: A blend of coffees from South America, ...</td>\n",
       "      <td>The Bottom Line:  This house-blend espresso is...</td>\n",
       "      <td>54</td>\n",
       "      <td>74</td>\n",
       "      <td>2021</td>\n",
       "      <td>3</td>\n",
       "      <td>43.074761</td>\n",
       "      <td>-89.3837613</td>\n",
       "    </tr>\n",
       "    <tr>\n",
       "      <th>302</th>\n",
       "      <td>Twisted V.7 Espresso</td>\n",
       "      <td>JBC Coffee Roasters</td>\n",
       "      <td>Central America; South America; Ethiopia</td>\n",
       "      <td>2</td>\n",
       "      <td>93</td>\n",
       "      <td>Aroma:</td>\n",
       "      <td>9</td>\n",
       "      <td>Body:</td>\n",
       "      <td>8</td>\n",
       "      <td>Flavor:</td>\n",
       "      <td>...</td>\n",
       "      <td>9</td>\n",
       "      <td>Blind Assessment: Evaluated as espresso. Pista...</td>\n",
       "      <td>Notes: A blend of coffees from South America, ...</td>\n",
       "      <td>The Bottom Line: A very appealing and affordab...</td>\n",
       "      <td>52</td>\n",
       "      <td>74</td>\n",
       "      <td>2022</td>\n",
       "      <td>3</td>\n",
       "      <td>43.074761</td>\n",
       "      <td>-89.3837613</td>\n",
       "    </tr>\n",
       "    <tr>\n",
       "      <th>2747</th>\n",
       "      <td>Congo Sopacdi</td>\n",
       "      <td>Red Rooster Coffee Roaster</td>\n",
       "      <td>Kalehe, South Kivu Province, Democratic Republ...</td>\n",
       "      <td>1</td>\n",
       "      <td>91</td>\n",
       "      <td>Aroma:</td>\n",
       "      <td>8</td>\n",
       "      <td>Acidity:</td>\n",
       "      <td>8</td>\n",
       "      <td>Body:</td>\n",
       "      <td>...</td>\n",
       "      <td>8</td>\n",
       "      <td>Blind Assessment: Delicately sweet and spicy. ...</td>\n",
       "      <td>Notes: Last year, this exceptional coffee was ...</td>\n",
       "      <td>Who Should Drink It: Those who appreciate a ba...</td>\n",
       "      <td>62</td>\n",
       "      <td>82</td>\n",
       "      <td>2016</td>\n",
       "      <td>2</td>\n",
       "      <td>36.9157056</td>\n",
       "      <td>-80.3876889</td>\n",
       "    </tr>\n",
       "    <tr>\n",
       "      <th>4562</th>\n",
       "      <td>Classic Espresso</td>\n",
       "      <td>True Beans Coffee Roasters</td>\n",
       "      <td>Not disclosed.</td>\n",
       "      <td>4</td>\n",
       "      <td>91</td>\n",
       "      <td>Aroma:</td>\n",
       "      <td>8</td>\n",
       "      <td>Body:</td>\n",
       "      <td>8</td>\n",
       "      <td>Flavor:</td>\n",
       "      <td>...</td>\n",
       "      <td>8</td>\n",
       "      <td>Blind Assessment: Evaluated as espresso. A ste...</td>\n",
       "      <td>Notes: Certified organically grown and Fair-Tr...</td>\n",
       "      <td>Who Should Drink It: No grand sensory gestures...</td>\n",
       "      <td>43</td>\n",
       "      <td>54</td>\n",
       "      <td>2010</td>\n",
       "      <td>10</td>\n",
       "      <td>33.7690164</td>\n",
       "      <td>-118.191604</td>\n",
       "    </tr>\n",
       "    <tr>\n",
       "      <th>1373</th>\n",
       "      <td>Colombia Finca La Loma Microlot</td>\n",
       "      <td>BeanFruit Coffee Co.</td>\n",
       "      <td>Huila, Colombia</td>\n",
       "      <td>2</td>\n",
       "      <td>94</td>\n",
       "      <td>Aroma:</td>\n",
       "      <td>9</td>\n",
       "      <td>Acidity/Structure:</td>\n",
       "      <td>9</td>\n",
       "      <td>Body:</td>\n",
       "      <td>...</td>\n",
       "      <td>8</td>\n",
       "      <td>Blind Assessment: High-toned, sweetly tart. Bi...</td>\n",
       "      <td>Notes: Produced at Finca La Loma of the Pink B...</td>\n",
       "      <td>The Bottom Line: An exceptional Colombia cup w...</td>\n",
       "      <td>58</td>\n",
       "      <td>76</td>\n",
       "      <td>2020</td>\n",
       "      <td>3</td>\n",
       "      <td>32.3086744</td>\n",
       "      <td>-90.1983063</td>\n",
       "    </tr>\n",
       "    <tr>\n",
       "      <th>1272</th>\n",
       "      <td>Instant Karma</td>\n",
       "      <td>modcup coffee</td>\n",
       "      <td>Brazil; Bali; Ethiopia</td>\n",
       "      <td>&lt;NA&gt;</td>\n",
       "      <td>90</td>\n",
       "      <td>Aroma:</td>\n",
       "      <td>8</td>\n",
       "      <td>Acidity/Structure:</td>\n",
       "      <td>8</td>\n",
       "      <td>Body:</td>\n",
       "      <td>...</td>\n",
       "      <td>8</td>\n",
       "      <td>Blind Assessment: Evaluated as an instant or s...</td>\n",
       "      <td>Notes: A blend of three coffees: a pulped natu...</td>\n",
       "      <td>The Bottom Line: A very appealing instant cup ...</td>\n",
       "      <td>0</td>\n",
       "      <td>0</td>\n",
       "      <td>2020</td>\n",
       "      <td>7</td>\n",
       "      <td>40.7215682</td>\n",
       "      <td>-74.047455</td>\n",
       "    </tr>\n",
       "    <tr>\n",
       "      <th>2451</th>\n",
       "      <td>Ethiopia Yirgacheffe</td>\n",
       "      <td>Turning Point Coffee</td>\n",
       "      <td>Yirgacheffe growing region, southern Ethiopia</td>\n",
       "      <td>1</td>\n",
       "      <td>94</td>\n",
       "      <td>Aroma:</td>\n",
       "      <td>9</td>\n",
       "      <td>Acidity:</td>\n",
       "      <td>9</td>\n",
       "      <td>Body:</td>\n",
       "      <td>...</td>\n",
       "      <td>8</td>\n",
       "      <td>Blind Assessment: Delicate, vibrantly sweet. H...</td>\n",
       "      <td>Notes: Southern Ethiopia coffees like this one...</td>\n",
       "      <td>The Bottom Line: A crisp, delicate, tartly flo...</td>\n",
       "      <td>63</td>\n",
       "      <td>84</td>\n",
       "      <td>2016</td>\n",
       "      <td>11</td>\n",
       "      <td>37.7790262</td>\n",
       "      <td>-122.419906</td>\n",
       "    </tr>\n",
       "    <tr>\n",
       "      <th>883</th>\n",
       "      <td>Guatemala Cobán Chicoj Cooperative Red Honey F...</td>\n",
       "      <td>Small Eyes Cafe</td>\n",
       "      <td>Cobán growing region, central Guatemala</td>\n",
       "      <td>2</td>\n",
       "      <td>94</td>\n",
       "      <td>Aroma:</td>\n",
       "      <td>9</td>\n",
       "      <td>Acidity/Structure:</td>\n",
       "      <td>9</td>\n",
       "      <td>Body:</td>\n",
       "      <td>...</td>\n",
       "      <td>8</td>\n",
       "      <td>Blind Assessment: Vibrant, juicy, cocoa-toned....</td>\n",
       "      <td>Notes: Produced by members of the Cobán Chicoj...</td>\n",
       "      <td>The Bottom Line: A stone fruit and cocoa-drive...</td>\n",
       "      <td>58</td>\n",
       "      <td>78</td>\n",
       "      <td>2021</td>\n",
       "      <td>3</td>\n",
       "      <td>24.7519538</td>\n",
       "      <td>121.7533344</td>\n",
       "    </tr>\n",
       "    <tr>\n",
       "      <th>4487</th>\n",
       "      <td>Kenya Kangunu</td>\n",
       "      <td>Terroir Coffee</td>\n",
       "      <td>Murang'a, south-central Kenya</td>\n",
       "      <td>3</td>\n",
       "      <td>95</td>\n",
       "      <td>Aroma:</td>\n",
       "      <td>9</td>\n",
       "      <td>Acidity:</td>\n",
       "      <td>10</td>\n",
       "      <td>Body:</td>\n",
       "      <td>...</td>\n",
       "      <td>8</td>\n",
       "      <td>Blind Assessment: Grandly pure and sweetly aci...</td>\n",
       "      <td>Notes: Affiliated with the 1340-member Kangunu...</td>\n",
       "      <td>Who Should Drink It: Those who can handle triu...</td>\n",
       "      <td>50</td>\n",
       "      <td>66</td>\n",
       "      <td>2011</td>\n",
       "      <td>1</td>\n",
       "      <td>42.4850931</td>\n",
       "      <td>-71.43284</td>\n",
       "    </tr>\n",
       "    <tr>\n",
       "      <th>3522</th>\n",
       "      <td>Lakeshore Blend Medium Roast</td>\n",
       "      <td>Caribou Coffee</td>\n",
       "      <td>Not disclosed.</td>\n",
       "      <td>4</td>\n",
       "      <td>90</td>\n",
       "      <td>Aroma:</td>\n",
       "      <td>8</td>\n",
       "      <td>Acidity:</td>\n",
       "      <td>8</td>\n",
       "      <td>Body:</td>\n",
       "      <td>...</td>\n",
       "      <td>8</td>\n",
       "      <td>Blind Assessment: Crisp, gently bright, delica...</td>\n",
       "      <td>Notes: Like all Caribou coffees, this blend is...</td>\n",
       "      <td>Who Should Drink It: Those who enjoy a gracefu...</td>\n",
       "      <td>46</td>\n",
       "      <td>50</td>\n",
       "      <td>2013</td>\n",
       "      <td>11</td>\n",
       "      <td>44.9772995</td>\n",
       "      <td>-93.2654692</td>\n",
       "    </tr>\n",
       "  </tbody>\n",
       "</table>\n",
       "<p>10 rows × 24 columns</p>\n",
       "</div>"
      ],
      "text/plain": [
       "                                            coffee_name  \\\n",
       "859                                Twisted V.6 Espresso   \n",
       "302                                Twisted V.7 Espresso   \n",
       "2747                                      Congo Sopacdi   \n",
       "4562                                   Classic Espresso   \n",
       "1373                    Colombia Finca La Loma Microlot   \n",
       "1272                                      Instant Karma   \n",
       "2451                               Ethiopia Yirgacheffe   \n",
       "883   Guatemala Cobán Chicoj Cooperative Red Honey F...   \n",
       "4487                                      Kenya Kangunu   \n",
       "3522                       Lakeshore Blend Medium Roast   \n",
       "\n",
       "                    roaster_name  \\\n",
       "859          JBC Coffee Roasters   \n",
       "302          JBC Coffee Roasters   \n",
       "2747  Red Rooster Coffee Roaster   \n",
       "4562  True Beans Coffee Roasters   \n",
       "1373        BeanFruit Coffee Co.   \n",
       "1272               modcup coffee   \n",
       "2451        Turning Point Coffee   \n",
       "883              Small Eyes Cafe   \n",
       "4487              Terroir Coffee   \n",
       "3522              Caribou Coffee   \n",
       "\n",
       "                                          coffee_origin  roast_level  \\\n",
       "859              South America; Central America; Africa            2   \n",
       "302            Central America; South America; Ethiopia            2   \n",
       "2747  Kalehe, South Kivu Province, Democratic Republ...            1   \n",
       "4562                                     Not disclosed.            4   \n",
       "1373                                    Huila, Colombia            2   \n",
       "1272                             Brazil; Bali; Ethiopia         <NA>   \n",
       "2451      Yirgacheffe growing region, southern Ethiopia            1   \n",
       "883             Cobán growing region, central Guatemala            2   \n",
       "4487                      Murang'a, south-central Kenya            3   \n",
       "3522                                     Not disclosed.            4   \n",
       "\n",
       "      overall_score      h1  s1                  h2  s2       h3  ...  s5  \\\n",
       "859              94  Aroma:   9               Body:   9  Flavor:  ...   9   \n",
       "302              93  Aroma:   9               Body:   8  Flavor:  ...   9   \n",
       "2747             91  Aroma:   8            Acidity:   8    Body:  ...   8   \n",
       "4562             91  Aroma:   8               Body:   8  Flavor:  ...   8   \n",
       "1373             94  Aroma:   9  Acidity/Structure:   9    Body:  ...   8   \n",
       "1272             90  Aroma:   8  Acidity/Structure:   8    Body:  ...   8   \n",
       "2451             94  Aroma:   9            Acidity:   9    Body:  ...   8   \n",
       "883              94  Aroma:   9  Acidity/Structure:   9    Body:  ...   8   \n",
       "4487             95  Aroma:   9            Acidity:  10    Body:  ...   8   \n",
       "3522             90  Aroma:   8            Acidity:   8    Body:  ...   8   \n",
       "\n",
       "                                                     p1  \\\n",
       "859   Blind Assessment: Evaluated as espresso. Choco...   \n",
       "302   Blind Assessment: Evaluated as espresso. Pista...   \n",
       "2747  Blind Assessment: Delicately sweet and spicy. ...   \n",
       "4562  Blind Assessment: Evaluated as espresso. A ste...   \n",
       "1373  Blind Assessment: High-toned, sweetly tart. Bi...   \n",
       "1272  Blind Assessment: Evaluated as an instant or s...   \n",
       "2451  Blind Assessment: Delicate, vibrantly sweet. H...   \n",
       "883   Blind Assessment: Vibrant, juicy, cocoa-toned....   \n",
       "4487  Blind Assessment: Grandly pure and sweetly aci...   \n",
       "3522  Blind Assessment: Crisp, gently bright, delica...   \n",
       "\n",
       "                                                     p2  \\\n",
       "859   Notes: A blend of coffees from South America, ...   \n",
       "302   Notes: A blend of coffees from South America, ...   \n",
       "2747  Notes: Last year, this exceptional coffee was ...   \n",
       "4562  Notes: Certified organically grown and Fair-Tr...   \n",
       "1373  Notes: Produced at Finca La Loma of the Pink B...   \n",
       "1272  Notes: A blend of three coffees: a pulped natu...   \n",
       "2451  Notes: Southern Ethiopia coffees like this one...   \n",
       "883   Notes: Produced by members of the Cobán Chicoj...   \n",
       "4487  Notes: Affiliated with the 1340-member Kangunu...   \n",
       "3522  Notes: Like all Caribou coffees, this blend is...   \n",
       "\n",
       "                                                     p3  bean_agtron  \\\n",
       "859   The Bottom Line:  This house-blend espresso is...           54   \n",
       "302   The Bottom Line: A very appealing and affordab...           52   \n",
       "2747  Who Should Drink It: Those who appreciate a ba...           62   \n",
       "4562  Who Should Drink It: No grand sensory gestures...           43   \n",
       "1373  The Bottom Line: An exceptional Colombia cup w...           58   \n",
       "1272  The Bottom Line: A very appealing instant cup ...            0   \n",
       "2451  The Bottom Line: A crisp, delicate, tartly flo...           63   \n",
       "883   The Bottom Line: A stone fruit and cocoa-drive...           58   \n",
       "4487  Who Should Drink It: Those who can handle triu...           50   \n",
       "3522  Who Should Drink It: Those who enjoy a gracefu...           46   \n",
       "\n",
       "     ground_agtron  year month  roaster_location_lat  roaster_location_lon  \n",
       "859             74  2021     3             43.074761           -89.3837613  \n",
       "302             74  2022     3             43.074761           -89.3837613  \n",
       "2747            82  2016     2            36.9157056           -80.3876889  \n",
       "4562            54  2010    10            33.7690164           -118.191604  \n",
       "1373            76  2020     3            32.3086744           -90.1983063  \n",
       "1272             0  2020     7            40.7215682            -74.047455  \n",
       "2451            84  2016    11            37.7790262           -122.419906  \n",
       "883             78  2021     3            24.7519538           121.7533344  \n",
       "4487            66  2011     1            42.4850931             -71.43284  \n",
       "3522            50  2013    11            44.9772995           -93.2654692  \n",
       "\n",
       "[10 rows x 24 columns]"
      ]
     },
     "execution_count": 60,
     "metadata": {},
     "output_type": "execute_result"
    }
   ],
   "source": [
    "#spot checking accuracy of lat locations\n",
    "data_df.sample(10)"
   ]
  },
  {
   "cell_type": "markdown",
   "id": "f6c3ed2b",
   "metadata": {},
   "source": [
    "### Cleaning up country names to return more lat and long for coffee origin\n",
    "There were lots of missing values when running with original data. Cleaning up origin names to improve return rate of lat and lon. Lat and long will be a bit less precise given replacing in many spots with country names.\n"
   ]
  },
  {
   "cell_type": "code",
   "execution_count": 61,
   "id": "ea0f0edc",
   "metadata": {},
   "outputs": [
    {
     "data": {
      "text/plain": [
       "array(['Trujillo, Valle del Cauca Department, Colombia',\n",
       "       'Cusco Region, Peru', 'Nariño Department, Colombia', ...,\n",
       "       'Fondo Paez Cooperative, Valle de Cauca Department, western Colombia.',\n",
       "       'Yirgacheffe growing region, Sidamo Province, southern Ethiopia.',\n",
       "       'Nilgiris, southern India.'], dtype=object)"
      ]
     },
     "execution_count": 61,
     "metadata": {},
     "output_type": "execute_result"
    }
   ],
   "source": [
    "data_df['coffee_origin'].unique()"
   ]
  },
  {
   "cell_type": "code",
   "execution_count": 62,
   "id": "7e642f02",
   "metadata": {
    "scrolled": false
   },
   "outputs": [
    {
     "data": {
      "text/plain": [
       "Not disclosed.                                                           156\n",
       "Yirgacheffe growing region, southern Ethiopia                            147\n",
       "Yirgacheffe growing region, southern Ethiopia.                           109\n",
       "Boquete growing region, western Panama                                   100\n",
       "Nyeri growing region, south-central Kenya                                 99\n",
       "                                                                        ... \n",
       "La Libertad, Huehuetenango, Guatemala                                      1\n",
       "Cusco Department, La Convención Province, Santa Teresa District, Peru      1\n",
       "San Cristobal, Cobán, Alta Verapaz, Guatemala                              1\n",
       "Jamaica                                                                    1\n",
       "Nilgiris, southern India.                                                  1\n",
       "Name: coffee_origin, Length: 1794, dtype: int64"
      ]
     },
     "execution_count": 62,
     "metadata": {},
     "output_type": "execute_result"
    }
   ],
   "source": [
    "data_df['coffee_origin'].value_counts()"
   ]
  },
  {
   "cell_type": "markdown",
   "id": "1dabe65b",
   "metadata": {},
   "source": [
    "Using regex to cleanup origin locations:"
   ]
  },
  {
   "cell_type": "code",
   "execution_count": 63,
   "id": "6209d1fb",
   "metadata": {},
   "outputs": [],
   "source": [
    "data_df['coffee_origin'].replace(r'.*(Ethiopia).*', 'Ethiopia', inplace = True, regex=True)"
   ]
  },
  {
   "cell_type": "code",
   "execution_count": 64,
   "id": "67e2ad1f",
   "metadata": {},
   "outputs": [],
   "source": [
    "data_df['coffee_origin'].replace(r'.*(Panama).*', 'Panama', inplace = True, regex=True)"
   ]
  },
  {
   "cell_type": "code",
   "execution_count": 65,
   "id": "b6ec9570",
   "metadata": {},
   "outputs": [],
   "source": [
    "data_df['coffee_origin'].replace(r'.*(El Salvador).*', 'El Salvador', inplace = True, regex=True)"
   ]
  },
  {
   "cell_type": "code",
   "execution_count": 66,
   "id": "f7e9b023",
   "metadata": {},
   "outputs": [],
   "source": [
    "data_df['coffee_origin'].replace(r'.*(Kenya).*', 'Kenya', inplace = True, regex=True)"
   ]
  },
  {
   "cell_type": "code",
   "execution_count": 67,
   "id": "69e3aed9",
   "metadata": {},
   "outputs": [],
   "source": [
    "data_df['coffee_origin'].replace(r'.*(Guatemala).*', 'Guatemala', inplace = True, regex=True)"
   ]
  },
  {
   "cell_type": "code",
   "execution_count": 68,
   "id": "103fb120",
   "metadata": {},
   "outputs": [],
   "source": [
    "data_df['coffee_origin'].replace(r'.*(Colombia).*', 'Colombia', inplace = True, regex=True)"
   ]
  },
  {
   "cell_type": "code",
   "execution_count": 69,
   "id": "f9056350",
   "metadata": {},
   "outputs": [],
   "source": [
    "data_df['coffee_origin'].replace(r'.*(Burundi).*', 'Burundi', inplace = True, regex=True)"
   ]
  },
  {
   "cell_type": "code",
   "execution_count": 70,
   "id": "2cf72191",
   "metadata": {},
   "outputs": [],
   "source": [
    "data_df['coffee_origin'].replace(r'.*(Costa R.ca).*', 'Costa Rica', inplace = True, regex=True)"
   ]
  },
  {
   "cell_type": "code",
   "execution_count": 71,
   "id": "52d98438",
   "metadata": {},
   "outputs": [],
   "source": [
    "data_df['coffee_origin'].replace(r'.*(Honduras).*', 'Honduras', inplace = True, regex=True)"
   ]
  },
  {
   "cell_type": "code",
   "execution_count": 72,
   "id": "02e629eb",
   "metadata": {},
   "outputs": [],
   "source": [
    "data_df['coffee_origin'].replace(r'.*(Rwanda).*', 'Rwanda', inplace = True, regex=True)"
   ]
  },
  {
   "cell_type": "code",
   "execution_count": 73,
   "id": "4c414cb8",
   "metadata": {},
   "outputs": [],
   "source": [
    "data_df['coffee_origin'].replace(r'.*(Hawaii).*', 'Hawaii', inplace = True, regex=True)"
   ]
  },
  {
   "cell_type": "code",
   "execution_count": 74,
   "id": "2bf9b1f4",
   "metadata": {},
   "outputs": [],
   "source": [
    "data_df['coffee_origin'].replace(r'.*(Hawai).*', 'Hawaii', inplace = True, regex=True)"
   ]
  },
  {
   "cell_type": "code",
   "execution_count": 75,
   "id": "9d87f7fc",
   "metadata": {},
   "outputs": [],
   "source": [
    "data_df['coffee_origin'].replace(r'.*(Peru).*', 'Peru', inplace = True, regex=True)"
   ]
  },
  {
   "cell_type": "code",
   "execution_count": 76,
   "id": "dde8a00c",
   "metadata": {},
   "outputs": [],
   "source": [
    "data_df['coffee_origin'].replace(r'.*(India).*', 'India', inplace = True, regex=True)"
   ]
  },
  {
   "cell_type": "code",
   "execution_count": 77,
   "id": "3f4f71f5",
   "metadata": {},
   "outputs": [],
   "source": [
    "data_df['coffee_origin'].replace(r'.*(Brazil).*', 'Brazil', inplace = True, regex=True)"
   ]
  },
  {
   "cell_type": "code",
   "execution_count": 78,
   "id": "e8b7d53f",
   "metadata": {},
   "outputs": [],
   "source": [
    "data_df['coffee_origin'].replace(r'.*(Ecuador).*', 'Ecuador', inplace = True, regex=True)"
   ]
  },
  {
   "cell_type": "code",
   "execution_count": 79,
   "id": "b5554878",
   "metadata": {},
   "outputs": [],
   "source": [
    "data_df['coffee_origin'].replace(r'.*(Haiti).*', 'Haiti', inplace = True, regex=True)"
   ]
  },
  {
   "cell_type": "code",
   "execution_count": 80,
   "id": "f2d7705f",
   "metadata": {},
   "outputs": [],
   "source": [
    "data_df['coffee_origin'].replace(r'.*(Puerto Rico).*', 'Puerto Rico', inplace = True, regex=True)"
   ]
  },
  {
   "cell_type": "code",
   "execution_count": 81,
   "id": "6c37b27d",
   "metadata": {},
   "outputs": [],
   "source": [
    "data_df['coffee_origin'].replace(r'.*(Uganda).*', 'Uganda', inplace = True, regex=True)"
   ]
  },
  {
   "cell_type": "code",
   "execution_count": 82,
   "id": "7331c0fa",
   "metadata": {},
   "outputs": [],
   "source": [
    "data_df['coffee_origin'].replace(r'.*(Nicaragua).*', 'Nicaragua', inplace = True, regex=True)"
   ]
  },
  {
   "cell_type": "code",
   "execution_count": 83,
   "id": "3498a014",
   "metadata": {},
   "outputs": [],
   "source": [
    "data_df['coffee_origin'].replace(r'.*(Papua New Guinea).*', 'Papua New Guinea', inplace = True, regex=True)"
   ]
  },
  {
   "cell_type": "code",
   "execution_count": 84,
   "id": "21edf0bc",
   "metadata": {},
   "outputs": [],
   "source": [
    "data_df['coffee_origin'].replace(r'.*(Thailand).*', 'Thailand', inplace = True, regex=True)"
   ]
  },
  {
   "cell_type": "code",
   "execution_count": 85,
   "id": "cab692e8",
   "metadata": {},
   "outputs": [],
   "source": [
    "data_df['coffee_origin'].replace(r'.*(Indonesia).*', 'Indonesia', inplace = True, regex=True)"
   ]
  },
  {
   "cell_type": "code",
   "execution_count": 86,
   "id": "70694585",
   "metadata": {},
   "outputs": [],
   "source": [
    "data_df['coffee_origin'].replace(r'.*(Yemen).*', 'Yemen', inplace = True, regex=True)"
   ]
  },
  {
   "cell_type": "code",
   "execution_count": 87,
   "id": "9b89527a",
   "metadata": {},
   "outputs": [],
   "source": [
    "data_df['coffee_origin'].replace(r'.*(Jamaica).*', 'Jamaica', inplace = True, regex=True)"
   ]
  },
  {
   "cell_type": "code",
   "execution_count": 88,
   "id": "3f4d9a3b",
   "metadata": {},
   "outputs": [],
   "source": [
    "data_df['coffee_origin'].replace(r'.*(Tanzania).*', 'Tanzania', inplace = True, regex=True)"
   ]
  },
  {
   "cell_type": "code",
   "execution_count": 89,
   "id": "94f824da",
   "metadata": {},
   "outputs": [],
   "source": [
    "data_df['coffee_origin'].replace(r'.*(Mexico).*', 'Mexico', inplace = True, regex=True)"
   ]
  },
  {
   "cell_type": "code",
   "execution_count": 90,
   "id": "6085eaec",
   "metadata": {},
   "outputs": [],
   "source": [
    "data_df['coffee_origin'].replace(r'.*(Central Zambia).*', 'Central Zambia', inplace = True, regex=True)"
   ]
  },
  {
   "cell_type": "code",
   "execution_count": 91,
   "id": "3c76e933",
   "metadata": {},
   "outputs": [],
   "source": [
    "data_df['coffee_origin'].replace(r'.*(Taiwan).*', 'Taiwan', inplace = True, regex=True)"
   ]
  },
  {
   "cell_type": "code",
   "execution_count": 92,
   "id": "1b015bf2",
   "metadata": {},
   "outputs": [],
   "source": [
    "data_df['coffee_origin'].replace(r'.*(Democratic Republic of the Congo).*', 'Democratic Republic of the Congo', inplace = True, regex=True)"
   ]
  },
  {
   "cell_type": "code",
   "execution_count": 93,
   "id": "7de4854d",
   "metadata": {},
   "outputs": [],
   "source": [
    "data_df['coffee_origin'].replace(r'.*(Bolivia).*', 'Bolivia', inplace = True, regex=True)"
   ]
  },
  {
   "cell_type": "code",
   "execution_count": 94,
   "id": "c86fd57b",
   "metadata": {},
   "outputs": [],
   "source": [
    "data_df['coffee_origin'].replace(r'.*(Dominican Republic).*', 'Dominican Republic', inplace = True, regex=True)"
   ]
  },
  {
   "cell_type": "code",
   "execution_count": 95,
   "id": "4819f1fc",
   "metadata": {},
   "outputs": [],
   "source": [
    "data_df['coffee_origin'].replace(r'.*(China).*', 'China', inplace = True, regex=True)"
   ]
  },
  {
   "cell_type": "code",
   "execution_count": 96,
   "id": "8b42b540",
   "metadata": {},
   "outputs": [],
   "source": [
    "data_df['coffee_origin'].replace(r'.*(Zimbabwe).*', 'Zimbabwe', inplace = True, regex=True)"
   ]
  },
  {
   "cell_type": "code",
   "execution_count": 97,
   "id": "7f4bc6d8",
   "metadata": {},
   "outputs": [],
   "source": [
    "data_df['coffee_origin'].replace(r'.*(Philippines).*', 'The Philippines', inplace = True, regex=True)"
   ]
  },
  {
   "cell_type": "code",
   "execution_count": 98,
   "id": "6fffe4c9",
   "metadata": {},
   "outputs": [],
   "source": [
    "data_df['coffee_origin'].replace(r'.*(Malawi).*', 'Malawi', inplace = True, regex=True)"
   ]
  },
  {
   "cell_type": "code",
   "execution_count": 99,
   "id": "3b8350ec",
   "metadata": {},
   "outputs": [],
   "source": [
    "data_df['coffee_origin'].replace(r'.*(Vietnam).*', 'Vietnam', inplace = True, regex=True)"
   ]
  },
  {
   "cell_type": "code",
   "execution_count": 100,
   "id": "b564703e",
   "metadata": {},
   "outputs": [],
   "source": [
    "data_df['coffee_origin'].replace(r'.*(Zambia).*', 'Zambia', inplace = True, regex=True)"
   ]
  },
  {
   "cell_type": "code",
   "execution_count": 101,
   "id": "570158d0",
   "metadata": {},
   "outputs": [],
   "source": [
    "data_df['coffee_origin'].replace(r'.*(Malaysia).*', 'Malaysia', inplace = True, regex=True)"
   ]
  },
  {
   "cell_type": "code",
   "execution_count": 102,
   "id": "37ce0115",
   "metadata": {},
   "outputs": [],
   "source": [
    "data_df['coffee_origin'].replace(r'.*(Democratic Republic of Congo).*', 'Democratic Republic of the Congo', inplace = True, regex=True)"
   ]
  },
  {
   "cell_type": "code",
   "execution_count": 103,
   "id": "96b4b6b0",
   "metadata": {},
   "outputs": [],
   "source": [
    "data_df['coffee_origin'].replace(r'.*(Democratic Republic of Congo).*', 'Democratic Republic of the Congo', inplace = True, regex=True)"
   ]
  },
  {
   "cell_type": "code",
   "execution_count": 104,
   "id": "ab30ac81",
   "metadata": {},
   "outputs": [],
   "source": [
    "data_df['coffee_origin'].replace(r'.*(Laos).*', 'Laos', inplace = True, regex=True)"
   ]
  },
  {
   "cell_type": "code",
   "execution_count": 105,
   "id": "2846dea7",
   "metadata": {},
   "outputs": [],
   "source": [
    "data_df['coffee_origin'].replace(r'.*(Myanmar).*', 'Myanmar', inplace = True, regex=True)"
   ]
  },
  {
   "cell_type": "code",
   "execution_count": 106,
   "id": "d6537c3b",
   "metadata": {},
   "outputs": [],
   "source": [
    "data_df['coffee_origin'].replace(r'.*(DRC Congo).*', 'Democratic Republic of the Congo', inplace = True, regex=True)"
   ]
  },
  {
   "cell_type": "code",
   "execution_count": 107,
   "id": "7c9d8d2f",
   "metadata": {},
   "outputs": [],
   "source": [
    "data_df['coffee_origin'].replace(r'.*(California).*', 'California', inplace = True, regex=True)"
   ]
  },
  {
   "cell_type": "code",
   "execution_count": 109,
   "id": "55916383",
   "metadata": {},
   "outputs": [
    {
     "name": "stdout",
     "output_type": "stream",
     "text": [
      "['4.099917', '-6.8699697', '4.099917', '12.6090157', '10.2116702', '-1.3397668', '10.2116702', '10.2116702', '1.4419683', '', '1.4419683', '10.2116702', '10.2116702', '19.593801499999998', '1.4419683', '23.9739374', '10.2116702', '1.4419683', '19.593801499999998', '14.8971921', '1.4419683', '-1.3397668', '15.9266657', '1.4419683', '19.593801499999998', '19.593801499999998', '1.4419683', '10.2116702', '10.2116702', '10.2116702', '-1.9646631', '15.5855545', '15.5855545', '15.5855545', '23.6585116', '23.6585116', '23.6585116', '23.6585116', '23.6585116', '23.6585116', '23.6585116', '23.6585116', '23.6585116', '1.4419683', '4.099917', '4.099917', '-6.8699697', '15.2572432', '4.099917', '19.1399952', '19.593801499999998', '-1.9646631', '10.2116702', '4.099917', '23.9739374', '10.2116702', '10.2116702', '10.2116702', '1.4419683', '-6.8699697', '23.6585116', '15.5855545', '19.593801499999998', '12.6090157', '10.2116702', '4.099917', '10.2116702', '4.099917', '4.099917', '-6.8699697', '-2.4833826', '10.2116702', '10.2116702', '-5.6816069', '10.2116702', '10.2116702', '10.2116702', '10.2116702', '-5.6816069', '10.2116702', '13.8000382', '4.099917', '-2.4833826', '-2.4833826', '10.2116702', '4.099917', '15.9266657', '10.2116702', '8.559559', '4.099917', '8.559559', '-1.3397668', '8.559559', '10.2116702', '10.2116702', '4.099917', '13.8000382', '10.2116702', '8.559559', '10.2116702', '10.2116702', '10.2735633', '10.2116702', '10.2116702', '23.9739374', '-6.8699697', '-10.3333333', '19.593801499999998', '10.2116702', '4.099917', '10.2116702', '10.2116702', '10.2735633', '10.2735633', '-1.9646631', '13.8000382', '13.8000382', '4.099917', '10.2116702', '1.4419683', '15.2572432', '10.2735633', '10.2116702', '10.2116702', '4.099917', '10.2735633', '10.2116702', '8.559559', '10.2116702', '8.559559', '8.559559', '8.559559', '10.2735633', '10.2735633', '15.5855545', '-3.426449', '4.099917', '-3.426449', '-1.3397668', '8.559559', '19.593801499999998', '10.2116702', '10.2735633', '-6.5247123', '10.2735633', '10.2116702', '4.099917', '1.4419683', '51.5086102', '51.5086102', '10.2735633', '10.2116702', '10.2735633', '4.099917', '10.2735633', '8.559559', '-14.5189121', '23.6585116', '4.099917', '1.4419683', '1.4419683', '10.2116702', '10.2116702', '10.2116702', '15.5855545', '10.2116702', '10.2116702', '10.2735633', '10.2116702', '10.2116702', '4.099917', '4.099917', '4.099917', '15.2572432', '10.2116702', '10.2116702', '10.2116702', '19.593801499999998', '4.099917', '4.099917', '4.099917', '51.5086102', '4.099917', '-1.3397668', '4.5693754', '10.2116702', '10.2116702', '15.5855545', '10.2116702', '-6.8699697', '-1.3397668', '4.099917', '4.099917', '12.6090157', '4.099917', '8.559559', '4.099917', '10.2116702', '1.4419683', '4.099917', '-1.9646631', '15.5855545', '10.2735633', '1.4419683', '15.2572432', '-1.9646631', '10.2116702', '16.3471243', '-10.3333333', '-10.3333333', '-10.3333333', '-10.3333333', '-10.3333333', '-10.3333333', '-10.3333333', '-10.3333333', '10.2735633', '-6.8699697', '10.2116702', '-2.4833826', '19.593801499999998', '1.4419683', '-2.9814344', '1.4419683', '10.2116702', '-5.6816069', '-1.9646631', '', '19.593801499999998', '16.3471243', '19.593801499999998', '-2.4833826', '4.099917', '10.2116702', '10.2116702', '10.2116702', '10.2735633', '10.2116702', '15.5855545', '-6.8699697', '23.9739374', '10.2116702', '4.099917', '10.2116702', '10.2116702', '19.593801499999998', '-6.8699697', '4.099917', '23.6585116', '10.2116702', '-6.8699697', '23.6585116', '10.2735633', '-1.9646631', '15.5855545', '1.4419683', '-3.426449', '10.2735633', '-1.3397668', '10.2735633', '19.593801499999998', '-6.8699697', '15.5855545', '8.559559', '-6.8699697', '19.593801499999998', '-1.3397668', '-2.4833826', '-2.4833826', '19.593801499999998', '-2.4833826', '15.5855545', '1.4419683', '1.4419683', '', '15.2572432', '-2.4833826', '', '25.7655568', '-2.4833826', '15.2572432', '-2.4833826', '13.8000382', '10.2116702', '10.2116702', '4.099917', '10.2116702', '10.2116702', '10.2116702', '10.2116702', '10.2116702', '-2.4833826', '1.4419683', '15.2572432', '15.2572432', '1.4419683', '-2.9814344', '-1.3397668', '4.099917', '4.099917', '16.3471243', '12.6090157', '10.2116702', '10.2116702', '10.2116702', '13.8000382', '-6.5247123', '10.2116702', '15.5855545', '4.099917', '4.099917', '19.593801499999998', '19.593801499999998', '19.593801499999998', '15.2572432', '-1.3397668', '19.593801499999998', '19.593801499999998', '19.593801499999998', '15.5855545', '10.2116702', '15.2572432', '10.2116702', '-2.4833826', '15.2572432', '10.2116702', '4.099917', '8.559559', '10.2116702', '15.5855545', '10.2116702', '10.2116702', '10.2116702', '-2.4833826', '10.2116702', '19.593801499999998', '13.8000382', '', '4.099917', '10.2116702', '10.2735633', '10.2116702', '10.2116702', '4.099917', '10.2735633', '11.5024338', '10.2116702', '13.8000382', '10.2116702', '1.4419683', '13.8000382', '15.5855545', '15.5855545', '10.2116702', '10.2116702', '10.2116702', '10.2116702', '1.4419683', '19.593801499999998', '19.593801499999998', '10.2116702', '10.2116702', '4.099917', '13.8000382', '19.1399952', '4.099917', '-17.0568696', '10.2116702', '15.5855545', '-5.6816069', '10.2116702', '1.5333554', '', '10.2116702', '10.2735633', '10.2116702', '19.593801499999998', '10.2116702', '-2.4833826', '16.3471243', '1.4419683', '4.099917', '10.2116702', '10.2116702', '8.559559', '10.2116702', '10.2116702', '10.2116702', '10.2116702', '10.2735633', '10.2116702', '10.2116702', '10.2116702', '', '', '10.2116702', '10.2116702', '', '', '', '', '10.2116702', '19.593801499999998', '1.4419683', '10.2116702', '19.593801499999998', '10.2116702', '10.2116702', '4.099917', '10.2116702', '10.2735633', '4.099917', '8.559559', '10.2116702', '16.3471243', '15.5855545', '15.5855545', '10.2735633', '1.4419683', '10.2116702', '15.5855545', '15.5855545', '15.5855545', '1.4419683', '15.5855545', '15.5855545', '15.5855545', '15.5855545', '', '15.5855545', '15.5855545', '15.5855545', '15.5855545', '8.559559', '10.2116702', '10.2116702', '1.4419683', '10.2116702', '10.2116702', '8.559559', '19.593801499999998', '10.2735633', '10.2116702', '10.2116702', '10.2116702', '8.559559', '8.559559', '8.559559', '8.559559', '51.5086102', '4.099917', '8.559559', '10.2116702', '19.593801499999998', '10.2116702', '10.2116702', '10.2116702', '10.2116702', '15.5855545', '10.2116702', '1.4419683', '19.593801499999998', '19.593801499999998', '10.2116702', '1.4419683', '-17.0568696', '10.2116702', '15.2572432', '10.2116702', '10.2116702', '4.099917', '10.2116702', '10.2735633', '10.2116702', '1.4419683', '10.2735633', '19.593801499999998', '8.559559', '10.2116702', '19.593801499999998', '10.2116702', '19.593801499999998', '19.593801499999998', '4.099917', '4.099917', '10.2116702', '10.2116702', '10.2735633', '10.2116702', '10.2116702', '4.099917', '4.099917', '4.099917', '15.5855545', '4.099917', '-6.5247123', '4.099917', '-6.8699697', '15.5855545', '10.2735633', '10.2116702', '', '13.8000382', '10.2116702', '10.2116702', '4.099917', '10.2116702', '19.593801499999998', '10.2116702', '23.6585116', '35.000074', '10.2116702', '10.2116702', '15.5855545', '1.4419683', '15.2572432', '15.5855545', '15.5855545', '10.2116702', '10.2116702', '15.5855545', '15.5855545', '10.2116702', '1.4419683', '10.2116702', '10.2116702', '21.417531150000002', '1.4419683', '4.099917', '10.2116702', '1.4419683', '10.2116702', '8.559559', '10.2116702', '10.2116702', '8.559559', '10.2116702', '-2.4833826', '10.2116702', '1.4419683', '16.3471243', '16.3471243', '16.3471243', '16.3471243', '16.3471243', '16.3471243', '16.3471243', '16.3471243', '16.3471243', '-6.8699697', '4.099917', '15.2572432', '10.2116702', '10.2116702', '10.2116702', '10.2116702', '10.2116702', '19.593801499999998', '19.593801499999998', '10.2116702', '8.559559', '10.2116702', '10.2116702', '19.593801499999998', '10.2735633', '1.4419683', '10.2116702', '4.099917', '10.2116702', '1.4419683', '10.2116702', '10.2116702', '15.9266657', '-10.3333333', '10.2116702', '1.4419683', '8.559559', '1.4419683', '13.8000382', '10.2116702', '-2.9814344', '-6.5247123', '23.6585116', '15.5855545', '23.6585116', '1.4419683', '1.4419683', '-1.9646631', '10.2116702', '4.099917', '4.099917', '13.8000382', '8.559559', '-10.3333333', '23.9739374', '15.5855545', '15.5855545', '15.5855545', '15.5855545', '15.5855545', '15.5855545', '15.5855545', '15.5855545', '15.5855545', '15.5855545', '4.099917', '8.559559', '-17.0568696', '4.099917', '4.099917', '10.2116702', '4.099917', '1.4419683', '12.6090157', '19.593801499999998', '-1.3397668', '-6.8699697', '1.4419683', '13.8000382', '-10.3333333', '12.6090157', '10.2116702', '', '10.2116702', '10.2116702', '-3.426449', '10.2116702', '10.2116702', '4.099917', '-2.4833826', '10.2116702', '4.099917', '', '10.2116702', '15.5855545', '10.2116702', '15.5855545', '16.3471243', '1.4419683', '10.2116702', '10.2116702', '10.2116702', '19.1399952', '19.0974031', '15.5855545', '15.5855545', '', '4.099917', '4.099917', '15.5855545', '10.2116702', '', '10.2116702', '10.2116702', '15.5855545', '10.2116702', '4.099917', '-6.5247123', '8.559559', '10.2116702', '10.2116702', '10.2735633', '10.2116702', '8.559559', '10.2116702', '10.2735633', '10.2116702', '', '10.2116702', '4.099917', '16.3471243', '10.2735633', '1.4419683', '8.559559', '4.099917', '-10.3333333', '-5.6816069', '10.2116702', '4.099917', '16.3471243', '10.2735633', '4.099917', '-10.3333333', '-1.9646631', '16.3471243', '-6.8699697', '16.3471243', '15.5855545', '10.2116702', '4.099917', '-10.3333333', '10.2116702', '10.2116702', '10.2116702', '10.2116702', '1.4419683', '10.2116702', '10.2116702', '15.5855545', '15.5855545', '10.2116702', '10.2735633', '8.559559', '4.099917', '4.099917', '4.099917', '4.099917', '10.2116702', '18.1850507', '', '19.593801499999998', '-1.3397668', '4.099917', '1.4419683', '-1.3397668', '-2.4833826', '4.099917', '10.2116702', '13.8000382', '12.6090157', '-5.6816069', '10.2116702', '10.2116702', '10.2116702', '-2.9814344', '-1.9646631', '-6.5247123', '-1.9646631', '-6.5247123', '-1.9646631', '-3.426449', '-1.9646631', '-1.9646631', '-3.426449', '-6.5247123', '10.2116702', '10.2116702', '23.9739374', '10.2116702', '1.4419683', '-1.9646631', '10.2116702', '1.4419683', '10.2116702', '10.2116702', '10.2116702', '-1.9646631', '1.4419683', '10.2116702', '10.2116702', '1.4419683', '4.099917', '10.2116702', '4.099917', '-6.8699697', '4.099917', '4.099917', '10.2116702', '23.6585116', '4.099917', '23.6585116', '10.2735633', '10.2116702', '10.2116702', '-1.9646631', '4.099917', '10.2116702', '10.2116702', '4.099917', '8.559559', '10.2116702', '-6.8699697', '8.559559', '4.099917', '10.2116702', '4.099917', '4.099917', '10.2116702', '15.5855545', '15.5855545', '4.099917', '8.559559', '10.2116702', '10.2116702', '8.559559', '10.2116702', '1.4419683', '10.2116702', '10.2116702', '10.2116702', '10.2116702', '-5.6816069', '19.593801499999998', '14.8971921', '14.8971921', '4.099917', '10.2116702', '10.2116702', '10.2116702', '1.4419683', '10.2116702', '10.2116702', '10.2116702', '10.2735633', '10.2116702', '1.4419683', '4.099917', '1.4419683', '4.099917', '19.593801499999998', '16.3471243', '4.099917', '4.099917', '4.099917', '-1.9646631', '10.2116702', '8.559559', '10.2735633', '1.4419683', '10.2116702', '10.2116702', '-2.4833826', '-1.9646631', '15.5855545', '15.5855545', '10.2116702', '-2.4833826', '10.2116702', '10.2116702', '19.593801499999998', '8.559559', '19.593801499999998', '8.559559', '19.593801499999998', '19.593801499999998', '15.2572432', '15.2572432', '19.593801499999998', '1.5333554', '4.099917', '10.2116702', '4.099917', '-5.6816069', '4.099917', '-5.6816069', '-5.6816069', '16.3471243', '-1.3397668', '4.099917', '-2.9814344', '4.099917', '10.2116702', '8.559559', '10.2116702', '4.099917', '10.2116702', '10.2735633', '4.099917', '4.099917', '', '-1.9646631', '10.2116702', '', '-6.8699697', '4.099917', '-2.4833826', '19.593801499999998', '4.099917', '-10.3333333', '19.593801499999998', '14.8971921', '4.099917', '4.099917', '10.2116702', '10.2116702', '-2.9814344', '10.2116702', '-6.8699697', '10.2116702', '10.2735633', '15.5855545', '8.559559', '15.2572432', '15.5855545', '10.2116702', '10.2735633', '4.099917', '23.9739374', '', '10.2116702', '1.4419683', '-2.9814344', '10.2116702', '1.4419683', '10.2116702', '12.6090157', '4.099917', '10.2116702', '10.2116702', '15.5855545', '15.5855545', '23.6585116', '10.2116702', '15.5855545', '1.4419683', '-2.4833826', '10.2116702', '15.5855545', '4.099917', '-6.8699697', '10.2116702', '14.8971921', '13.8000382', '13.8000382', '-2.4833826', '1.4419683', '10.2116702', '10.2116702', '-6.8699697', '8.559559', '8.559559', '10.2735633', '19.593801499999998', '19.593801499999998', '10.2116702', '-1.3397668', '1.4419683', '15.5855545', '10.2116702', '10.2116702', '10.2735633', '-1.9646631', '4.099917', '4.099917', '4.099917', '4.099917', '4.099917', '4.099917', '4.099917', '4.099917', '4.099917', '4.099917', '4.099917', '4.099917', '4.099917', '-1.3397668', '4.099917', '-6.8699697', '', '15.2572432', '10.2116702', '', '19.593801499999998', '10.2116702', '10.2116702', '19.593801499999998', '10.2116702', '1.4419683', '-1.9646631', '10.2116702', '10.2116702', '19.593801499999998', '10.2116702', '23.9739374', '14.8971921', '1.4419683', '14.8971921', '15.5855545', '10.2116702', '23.9739374', '-6.8699697', '10.2116702', '10.2116702', '10.2116702', '23.9739374', '19.1399952', '15.5855545', '19.1399952', '10.2116702', '15.5855545', '15.5855545', '15.5855545', '1.4419683', '-6.8699697', '-6.8699697', '4.099917', '10.2735633', '10.2116702', '10.2735633', '-5.6816069', '10.2116702', '10.2116702', '19.593801499999998', '8.559559', '10.2116702', '10.2116702', '10.2116702', '-6.8699697', '19.593801499999998', '15.5855545', '14.8971921', '-10.3333333', '-3.426449', '23.6585116', '15.2572432', '15.2572432', '15.2572432', '1.4419683', '10.2116702', '10.2116702', '10.2116702', '23.9739374', '10.2116702', '8.559559', '-2.4833826', '-6.8699697', '10.2116702', '4.099917', '10.2116702', '', '-6.8699697', '', '15.2572432', '10.2116702', '-2.9814344', '10.2116702', '1.4419683', '19.593801499999998', '10.2116702', '19.593801499999998', '19.593801499999998', '19.0974031', '15.5855545', '19.593801499999998', '19.593801499999998', '19.593801499999998', '19.593801499999998', '8.559559', '10.2116702', '8.559559', '-6.5247123', '19.593801499999998', '19.593801499999998', '10.2735633', '19.593801499999998', '10.2116702', '4.099917', '1.4419683', '10.2116702', '10.2116702', '8.559559', '4.099917', '10.2116702', '10.2116702', '10.2116702', '1.4419683', '10.2116702', '19.593801499999998', '19.593801499999998', '4.099917', '1.4419683', '10.2116702', '10.2116702', '10.2116702', '1.4419683', '1.4419683', '8.559559', '8.559559', '4.099917', '23.9739374', '8.559559', '8.559559', '1.4419683', '10.2116702', '10.2116702', '10.2116702', '10.2116702', '10.2116702', '15.5855545', '15.5855545', '15.5855545', '15.5855545', '15.5855545', '15.5855545', '15.5855545', '15.5855545', '10.2116702', '8.559559', '10.2735633', '10.2116702', '10.2116702', '15.2572432', '1.4419683', '10.2116702', '10.2735633', '15.5855545', '15.5855545', '19.593801499999998', '4.099917', '10.2116702', '10.2735633', '10.2735633', '10.2116702', '4.099917', '10.2116702', '23.6585116', '4.099917', '4.099917', '1.4419683', '1.4419683', '1.4419683', '1.4419683', '1.4419683', '1.4419683', '1.4419683', '1.4419683', '1.4419683', '1.4419683', '1.4419683', '15.2572432', '10.2116702', '10.2116702', '10.2116702', '10.2116702', '10.2116702', '1.4419683', '-10.3333333', '19.593801499999998', '19.593801499999998', '19.593801499999998', '23.9739374', '14.8971921', '10.2116702', '4.099917', '10.2116702', '8.559559', '15.2572432', '12.6090157', '19.593801499999998', '15.5855545', '10.2735633', '19.593801499999998', '19.593801499999998', '10.2116702', '-10.3333333', '', '10.2116702', '-3.9839496', '10.2735633', '12.6090157', '13.8000382', '15.5855545', '13.8000382', '15.5855545', '23.6585116', '15.2572432', '13.8000382', '13.8000382', '15.5855545', '15.5855545', '15.2572432', '15.2572432', '15.2572432', '10.2735633', '10.2116702', '10.2116702', '19.593801499999998', '15.5855545', '10.2116702', '10.2116702', '10.2735633', '-2.4833826', '10.2116702', '10.2735633', '-5.6816069', '10.2116702', '1.4419683', '4.099917', '1.4419683', '4.099917', '1.4419683', '10.2116702', '1.4419683', '10.2116702', '10.2116702', '-6.8699697', '10.2116702', '-1.9646631', '15.5855545', '-6.8699697', '-2.4833826', '23.6585116', '', '10.2116702', '10.2116702', '10.2116702', '1.4419683', '10.2116702', '10.2116702', '10.2116702', '10.2116702', '10.2116702', '19.593801499999998', '19.593801499999998', '15.5855545', '10.2116702', '-3.426449', '4.099917', '10.2116702', '12.6090157', '10.2116702', '10.2116702', '19.593801499999998', '1.4419683', '-6.5247123', '1.4419683', '19.1399952', '-2.4833826', '4.099917', '10.2735633', '15.5855545', '10.2116702', '10.2116702', '19.593801499999998', '12.6090157', '4.099917', '10.2735633', '-1.3397668', '-28.503833', '10.2116702', '10.2116702', '10.2116702', '10.2116702', '1.4419683', '4.099917', '10.2116702', '23.6585116', '10.2116702', '10.2116702', '16.3471243', '10.2116702', '35.000074', '10.2116702', '10.2116702', '1.4419683', '1.4419683', '4.099917', '-2.9814344', '4.099917', '', '4.099917', '13.8000382', '4.099917', '10.2116702', '23.9739374', '10.2116702', '-1.9646631', '10.2116702', '13.8000382', '15.2572432', '10.2735633', '10.2116702', '1.4419683', '10.2116702', '10.2116702', '10.2116702', '15.5855545', '10.2116702', '13.8000382', '-10.3333333', '1.4419683', '10.2116702', '10.2116702', '10.2116702', '10.2735633', '10.2116702', '4.099917', '10.2116702', '19.593801499999998', '10.2116702', '-2.4833826', '10.2116702', '4.099917', '-6.8699697', '10.2116702', '13.8000382', '-6.8699697', '10.2735633', '19.593801499999998', '10.2116702', '4.099917', '-2.4833826', '-2.4833826', '15.5855545', '23.9739374', '10.2116702', '4.099917', '15.5855545', '8.559559', '4.099917', '10.2116702', '1.4419683', '19.593801499999998', '19.593801499999998', '19.593801499999998', '10.2116702', '-2.4833826', '15.5855545', '10.2116702', '19.593801499999998', '-2.4833826', '1.4419683', '10.2116702', '4.099917', '10.2735633', '10.2116702', '19.593801499999998', '19.593801499999998', '-17.0568696', '4.099917', '10.2116702', '4.099917', '19.593801499999998', '', '19.593801499999998', '19.593801499999998', '10.2116702', '10.2116702', '10.2116702', '1.4419683', '19.593801499999998', '8.559559', '-2.4833826', '4.099917', '-1.3397668', '10.2116702', '10.2116702', '-2.9814344', '4.099917', '10.2735633', '-1.9646631', '4.099917', '4.099917', '4.099917', '4.099917', '10.2116702', '12.6090157', '10.2116702', '4.099917', '16.3471243', '-1.3397668', '-10.3333333', '-1.9646631', '-2.9814344', '10.2116702', '-1.9646631', '10.2116702', '19.593801499999998', '4.099917', '15.2572432', '23.6585116', '10.2116702', '10.2116702', '10.2116702', '10.2116702', '-1.9646631', '10.2116702', '10.2116702', '-2.9814344', '1.4419683', '10.2735633', '4.099917', '1.4419683', '4.099917', '-0.14329415', '-1.9646631', '-3.426449', '19.593801499999998', '-3.426449', '4.099917', '1.4419683', '-2.9814344', '-2.9814344', '19.593801499999998', '10.2735633', '10.2116702', '10.2116702', '8.559559', '8.559559', '10.2116702', '15.5855545', '', '19.593801499999998', '10.2116702', '19.593801499999998', '19.593801499999998', '10.2116702', '19.593801499999998', '-6.8699697', '-6.5247123', '10.2116702', '10.2116702', '1.4419683', '10.2116702', '10.2116702', '15.5855545', '10.2735633', '10.2116702', '1.4419683', '1.4419683', '10.2116702', '8.559559', '4.099917', '-6.8699697', '10.2116702', '1.4419683', '10.2735633', '10.2116702', '10.2116702', '10.2116702', '4.099917', '1.4419683', '15.5855545', '15.2572432', '10.2116702', '10.2116702', '15.5855545', '4.099917', '4.099917', '15.5855545', '-2.4833826', '19.593801499999998', '8.559559', '10.2116702', '10.2116702', '10.2116702', '15.5855545', '13.8000382', '10.2116702', '10.2116702', '10.2116702', '-18.9249604', '', '10.2735633', '10.2116702', '10.2116702', '14.8971921', '10.2116702', '-1.3397668', '8.559559', '10.2116702', '4.099917', '1.4419683', '4.099917', '15.5855545', '1.4419683', '13.8000382', '15.5855545', '10.2116702', '-2.4833826', '-2.4833826', '-10.3333333', '19.593801499999998', '10.2735633', '10.2116702', '4.099917', '-1.9646631', '15.5855545', '8.559559', '10.2116702', '1.4419683', '10.2116702', '10.2116702', '-6.8699697', '10.2116702', '10.2116702', '10.2116702', '10.2116702', '8.559559', '1.4419683', '10.2116702', '1.4419683', '10.2116702', '1.4419683', '15.5855545', '10.2116702', '10.2735633', '10.2116702', '15.5855545', '10.2116702', '13.8000382', '-2.4833826', '8.559559', '1.4419683', '1.4419683', '10.2116702', '10.2116702', '8.559559', '16.3471243', '8.559559', '10.2116702', '10.2116702', '1.4419683', '10.2116702', '10.2116702', '1.4419683', '-2.4833826', '1.4419683', '', '15.5855545', '10.2116702', '10.2735633', '-3.426449', '10.2116702', '8.559559', '13.8000382', '10.2116702', '8.559559', '10.2735633', '10.2735633', '10.2116702', '10.2735633', '4.099917', '10.2116702', '10.2116702', '4.099917', '10.2735633', '21.417531150000002', '1.4419683', '1.4419683', '8.559559', '1.4419683', '18.1850507', '15.5855545', '4.099917', '8.559559', '13.8000382', '12.6090157', '10.2116702', '15.5855545', '-6.8699697', '10.2116702', '-1.3397668', '10.2116702', '1.4419683', '15.5855545', '1.4419683', '15.5855545', '10.2116702', '10.2116702', '15.5855545', '15.5855545', '15.5855545', '4.099917', '-2.4833826', '10.2116702', '8.559559', '4.099917', '4.099917', '8.559559', '8.559559', '8.559559', '4.099917', '10.2116702', '10.2116702', '10.2116702', '10.2116702', '10.2116702', '-30.29284845', '', '10.2116702', '10.2116702', '10.2116702', '8.559559', '-1.9646631', '1.4419683', '1.4419683', '10.2735633', '10.2116702', '', '1.4419683', '10.2116702', '10.2116702', '13.8000382', '13.8000382', '13.8000382', '13.8000382', '13.8000382', '13.8000382', '13.8000382', '-1.9646631', '10.2116702', '', '10.2116702', '10.2116702', '15.5855545', '1.4419683', '15.5855545', '10.2116702', '10.2116702', '1.4419683', '-14.5189121', '1.4419683', '19.593801499999998', '4.099917', '-1.3397668', '51.84320865', '10.2116702', '23.6585116', '', '51.5086102', '10.2116702', '10.2116702', '10.2116702', '10.2116702', '1.4419683', '4.099917', '-5.6816069', '1.4419683', '1.4419683', '4.099917', '1.4419683', '10.2116702', '10.2116702', '10.2116702', '10.2116702', '10.2116702', '-10.3333333', '10.2735633', '1.4419683', '-6.8699697', '15.5855545', '-6.8699697', '-3.426449', '15.5855545', '10.2116702', '10.2116702', '10.2116702', '4.099917', '-2.4833826', '-10.3333333', '4.099917', '-23.1223917', '4.099917', '10.2116702', '-14.5189121', '10.2116702', '4.099917', '4.099917', '4.099917', '10.2116702', '13.8000382', '1.4419683', '19.593801499999998', '15.5855545', '4.099917', '4.099917', '4.099917', '4.099917', '-3.426449', '19.593801499999998', '19.593801499999998', '19.593801499999998', '19.593801499999998', '19.593801499999998', '19.593801499999998', '19.593801499999998', '19.593801499999998', '19.593801499999998', '19.593801499999998', '10.2116702', '4.099917', '4.099917', '-1.9646631', '4.099917', '4.099917', '10.2116702', '16.3471243', '1.4419683', '4.5693754', '4.099917', '-2.9814344', '15.5855545', '10.2116702', '-1.9646631', '-1.9646631', '10.2116702', '', '10.2116702', '-1.9646631', '4.099917', '-1.3397668', '4.099917', '-2.4833826', '-2.4833826', '-2.4833826', '-2.4833826', '-2.4833826', '-2.4833826', '-2.4833826', '10.2116702', '-6.5247123', '13.8000382', '10.2116702', '8.559559', '1.4419683', '13.8000382', '4.099917', '-10.3333333', '-1.9646631', '10.2116702', '19.593801499999998', '10.2116702', '10.2116702', '-6.8699697', '-1.3397668', '-6.8699697', '-1.3397668', '-1.3397668', '-1.3397668', '-17.0568696', '-6.8699697', '-6.8699697', '-6.8699697', '-17.0568696', '10.2116702', '19.593801499999998', '19.593801499999998', '-1.9646631', '15.5855545', '10.2116702', '10.2735633', '1.4419683', '10.2116702', '36.7014631', '10.2116702', '1.4419683', '-1.9646631', '10.2116702', '10.2735633', '1.4419683', '10.2116702', '-2.4833826', '-21.0002179', '4.099917', '-21.0002179', '10.2116702', '-1.9646631', '-1.9646631', '10.2116702', '10.2116702', '10.2116702', '10.2116702', '4.099917', '1.4419683', '10.2116702', '-6.5247123', '10.2116702', '10.2116702', '19.593801499999998', '10.2116702', '10.2116702', '10.2116702', '4.099917', '10.2116702', '14.8971921', '1.4419683', '10.2116702', '10.2116702', '15.2572432', '-2.9814344', '-10.3333333', '15.2572432', '10.2116702', '8.559559', '4.099917', '4.099917', '15.5855545', '10.2116702', '10.2116702', '1.4419683', '-10.3333333', '10.2116702', '15.5855545', '10.2116702', '1.4419683', '-2.4833826', '1.4419683', '1.4419683', '10.2116702', '10.2116702', '8.559559', '10.2116702', '10.2116702', '13.8000382', '10.2116702', '8.559559', '10.2116702', '4.099917', '10.2116702', '8.559559', '8.559559', '8.559559', '8.559559', '10.2116702', '10.2116702', '10.2116702', '', '4.099917', '4.099917', '4.099917', '4.099917', '1.4419683', '13.8000382', '10.2116702', '10.2735633', '19.593801499999998', '1.4419683', '', '1.4419683', '1.4419683', '10.2116702', '15.5855545', '10.2116702', '-2.4833826', '8.559559', '10.2735633', '15.5855545', '15.5855545', '15.5855545', '15.5855545', '12.6090157', '15.5855545', '13.8000382', '12.6090157', '13.8000382', '8.559559', '10.2116702', '10.2116702', '10.2116702', '1.4419683', '15.5855545', '10.2116702', '13.8000382', '16.3471243', '14.8971921', '14.8971921', '1.4419683', '15.5855545', '8.559559', '8.559559', '10.2116702', '1.5333554', '10.2735633', '4.099917', '4.099917', '1.4419683', '1.4419683', '1.4419683', '8.559559', '1.4419683', '1.4419683', '10.2116702', '1.4419683', '1.4419683', '1.4419683', '1.4419683', '10.2116702', '1.4419683', '4.099917', '10.2116702', '1.4419683', '15.5855545', '10.2116702', '1.4419683', '10.2116702', '10.2116702', '1.4419683', '10.2116702', '10.2116702', '10.2116702', '10.2116702', '15.5855545', '10.2116702', '10.2116702', '1.4419683', '13.8000382', '10.2116702', '1.4419683', '10.2735633', '10.2116702', '10.2116702', '4.099917', '-6.5247123', '10.2735633', '8.559559', '1.4419683', '-2.4833826', '10.2116702', '10.2116702', '15.5855545', '10.2116702', '10.2116702', '-10.3333333', '10.2116702', '', '', '10.2116702', '', '10.2116702', '', '10.2735633', '10.2116702', '10.2116702', '-6.8699697', '', '4.099917', '15.5855545', '10.2116702', '15.5855545', '10.2116702', '10.2116702', '4.099917', '10.2116702', '8.559559', '-10.3333333', '10.2116702', '15.5855545', '10.2116702', '4.099917', '1.4419683', '4.099917', '15.5855545', '4.099917', '4.099917', '10.2735633', '13.8000382', '-10.3333333', '10.2116702', '10.2735633', '10.2116702', '10.2116702', '10.2116702', '10.2116702', '16.3471243', '10.2735633', '10.2116702', '10.2116702', '15.5855545', '4.099917', '-6.8699697', '-6.8699697', '1.4419683', '10.2735633', '13.8000382', '1.4419683', '-3.426449', '10.2116702', '-2.4833826', '10.2116702', '-14.5189121', '-2.4833826', '10.2116702', '10.2116702', '10.2116702', '-6.8699697', '-6.5247123', '10.2116702', '', '10.2116702', '10.2116702', '10.2116702', '', '-6.8699697', '', '15.5855545', '10.2116702', '', '10.2116702', '15.5855545', '1.4419683', '10.2116702', '-2.4833826', '10.2116702', '-3.426449', '-3.426449', '-3.426449', '-1.9646631', '-1.9646631', '1.5333554', '-3.426449', '-3.426449', '-3.426449', '-3.426449', '-3.426449', '-6.5247123', '-2.9814344', '-3.426449', '15.5855545', '10.2116702', '13.8000382', '-3.426449', '10.2116702', '1.4419683', '1.4419683', '4.099917', '-3.426449', '4.099917', '1.4419683', '-10.3333333', '-10.3333333', '-10.3333333', '-10.3333333', '-10.3333333', '-10.3333333', '-10.3333333', '-10.3333333', '-10.3333333', '-10.3333333', '-1.9646631', '-2.4833826', '-3.426449', '-6.8699697', '10.2116702', '', '-1.9646631', '16.3471243', '8.559559', '8.559559', '10.2116702', '10.2735633', '1.4419683', '19.593801499999998', '10.2116702', '19.593801499999998', '10.2116702', '10.2116702', '-1.3397668', '1.4419683', '10.2116702', '16.3471243', '-2.4833826', '-2.4833826', '1.4419683', '4.099917', '10.2116702', '4.099917', '10.2116702', '4.099917', '-2.4833826', '8.559559', '10.2116702', '-2.4833826', '-3.426449', '10.2116702', '10.2116702', '10.2735633', '', '10.2735633', '-6.8699697', '10.2116702', '10.2116702', '-2.4833826', '1.4419683', '10.2116702', '10.2116702', '12.6090157', '-2.9814344', '10.2116702', '-2.4833826', '-1.9646631', '-3.426449', '-2.4833826', '19.593801499999998', '10.2116702', '10.2735633', '10.2116702', '1.4419683', '4.099917', '10.2116702', '10.2116702', '14.8971921', '10.2116702', '-6.8699697', '13.8000382', '1.4419683', '10.2116702', '-2.4833826', '10.2116702', '10.2116702', '10.2116702', '10.2116702', '15.5855545', '4.099917', '-1.9646631', '10.2116702', '15.2572432', '1.4419683', '-1.9646631', '-1.9646631', '10.2116702', '10.2116702', '10.2116702', '19.593801499999998', '10.2116702', '10.2116702', '4.099917', '15.5855545', '8.559559', '-2.4833826', '8.559559', '10.2116702', '10.2735633', '10.2116702', '-10.3333333', '19.593801499999998', '10.2116702', '10.2116702', '1.4419683', '', '14.8971921', '-2.4833826', '4.099917', '8.559559', '8.559559', '16.3471243', '1.4419683', '19.593801499999998', '15.5855545', '12.6090157', '1.4419683', '15.2572432', '1.4419683', '15.2572432', '1.4419683', '4.099917', '1.4419683', '10.2116702', '10.2116702', '-2.9814344', '10.2116702', '1.4419683', '1.4419683', '12.6090157', '10.2735633', '10.2116702', '8.559559', '13.8000382', '8.559559', '1.4419683', '8.559559', '19.593801499999998', '1.4419683', '4.099917', '8.559559', '4.099917', '10.2116702', '-2.4833826', '19.593801499999998', '1.4419683', '1.4419683', '10.2116702', '10.2116702', '10.2116702', '1.4419683', '15.5855545', '1.4419683', '13.8000382', '1.4419683', '10.2116702', '', '', '10.2116702', '10.2116702', '10.2116702', '10.2116702', '10.2116702', '10.2116702', '10.2116702', '10.2116702', '10.2116702', '10.2116702', '10.2116702', '1.4419683', '10.2116702', '-25.746194000000003', '10.2116702', '', '', '10.2116702', '', '', '10.2116702', '10.2116702', '10.2116702', '', '1.4419683', '10.2116702', '8.559559', '13.8000382', '1.4419683', '15.5855545', '-2.4833826', '8.559559', '10.2116702', '23.9739374', '1.4419683', '10.2116702', '10.2116702', '10.2116702', '10.2116702', '10.2116702', '1.4419683', '10.2735633', '12.6090157', '12.6090157', '12.6090157', '12.6090157', '12.6090157', '12.6090157', '12.6090157', '12.6090157', '12.6090157', '4.099917', '10.2116702', '10.2116702', '10.2116702', '1.4419683', '15.5855545', '13.8000382', '10.2116702', '4.099917', '10.2116702', '10.2116702', '23.6585116', '10.2735633', '10.2735633', '4.099917', '10.2116702', '10.2116702', '15.5855545', '-10.3333333', '23.6585116', '13.8000382', '1.4419683', '15.5855545', '10.2116702', '1.4419683', '1.5333554', '10.2116702', '15.2572432', '10.2116702', '4.099917', '1.4419683', '10.2116702', '1.4419683', '10.2116702', '10.2116702', '10.2116702', '10.2116702', '8.559559', '8.559559', '15.5855545', '10.2116702', '15.5855545', '8.559559', '10.2116702', '-10.3333333', '4.099917', '10.2116702', '15.5855545', '10.2735633', '1.4419683', '10.2116702', '10.2116702', '1.4419683', '4.099917', '1.4419683', '-6.8699697', '10.2116702', '-10.3333333', '-2.4833826', '', '10.2116702', '10.2116702', '', '10.2116702', '-2.4833826', '10.2116702', '-2.4833826', '1.4419683', '10.2116702', '-2.9814344', '10.2116702', '10.2116702', '10.2116702', '8.559559', '', '10.2116702', '-2.4833826', '1.4419683', '10.2735633', '10.2116702', '23.9739374', '4.099917', '-2.9814344', '10.2116702', '4.099917', '1.4419683', '13.8000382', '-1.9646631', '1.4419683', '', '13.8000382', '-1.9646631', '-1.9646631', '13.8000382', '19.593801499999998', '13.8000382', '-1.9646631', '1.4419683', '-1.9646631', '13.8000382', '-2.9814344', '4.099917', '19.593801499999998', '13.8000382', '-1.3397668', '', '', '19.593801499999998', '-2.4833826', '1.4419683', '1.4419683', '4.099917', '-3.426449', '18.2247706', '10.2116702', '4.099917', '12.6090157', '10.2116702', '1.4419683', '13.8000382', '19.593801499999998', '-2.4833826', '', '4.099917', '-10.3333333', '4.099917', '8.559559', '10.2735633', '', '-6.8699697', '10.2116702', '10.2735633', '10.2116702', '1.4419683', '10.2116702', '-6.8699697', '10.2116702', '10.2735633', '-10.3333333', '10.2116702', '-3.426449', '10.2116702', '', '-1.9646631', '4.099917', '10.2116702', '-1.9646631', '15.5855545', '10.2116702', '10.2116702', '1.4419683', '10.2116702', '1.4419683', '10.2116702', '-2.4833826', '10.2116702', '1.4419683', '10.2116702', '19.593801499999998', '10.2116702', '8.559559', '10.2735633', '10.2116702', '-2.4833826', '8.559559', '16.3471243', '16.3471243', '4.099917', '4.099917', '10.2116702', '10.2116702', '1.4419683', '1.4419683', '1.4419683', '10.2116702', '1.4419683', '10.2116702', '10.2116702', '-5.6816069', '8.559559', '-1.9646631', '12.6090157', '12.6090157', '10.2116702', '10.2116702', '14.8971921', '-2.4833826', '10.2116702', '-10.3333333', '-10.3333333', '-10.3333333', '8.559559', '10.2116702', '-2.4833826', '14.8971921', '14.8971921', '14.8971921', '14.8971921', '10.2116702', '10.2116702', '10.2116702', '8.559559', '1.4419683', '10.2116702', '', '', '-30.29284845', '15.2572432', '15.5855545', '19.593801499999998', '10.2116702', '8.559559', '8.559559', '10.2116702', '8.559559', '10.2116702', '8.559559', '10.2116702', '19.593801499999998', '10.2116702', '10.2735633', '10.2735633', '-10.3333333', '10.2116702', '10.2735633', '4.099917', '10.2735633', '', '10.2116702', '8.559559', '', '10.2116702', '23.9739374', '10.2116702', '10.2735633', '-2.4833826', '1.4419683', '', '10.2116702', '-2.4833826', '1.4419683', '-2.4833826', '12.6090157', '10.2116702', '10.2116702', '', '1.4419683', '10.2116702', '10.2735633', '4.099917', '13.8000382', '-2.4833826', '15.5855545', '8.559559', '19.593801499999998', '19.593801499999998', '1.4419683', '13.8000382', '1.4419683', '8.559559', '10.2735633', '15.5855545', '-1.3397668', '12.6090157', '15.5855545', '4.099917', '15.5855545', '8.559559', '13.8000382', '1.4419683', '10.2116702', '10.2116702', '8.559559', '10.2116702', '1.4419683', '4.099917', '10.2735633', '15.5855545', '10.2116702', '10.2116702', '10.2735633', '4.099917', '10.2116702', '10.2116702', '19.593801499999998', '10.2116702', '8.559559', '10.2116702', '13.8000382', '1.4419683', '1.4419683', '10.2116702', '10.2735633', '10.2735633', '10.2735633', '10.2735633', '10.2735633', '10.2735633', '10.2735633', '10.2735633', '10.2735633', '10.2735633', '10.2735633', '10.2735633', '10.2735633', '8.559559', '8.559559', '10.2116702', '15.5855545', '4.099917', '-10.3333333', '10.2116702', '10.2116702', '10.2735633', '10.2116702', '17.1750495', '10.2116702', '-17.0568696', '1.4419683', '10.2116702', '10.2116702', '-2.4833826', '1.4419683', '1.4419683', '1.4419683', '8.559559', '4.099917', '13.8000382', '10.2116702', '10.2116702', '15.5855545', '10.2116702', '10.2116702', '15.2572432', '1.4419683', '-1.9646631', '10.2116702', '10.2735633', '-2.4833826', '23.6585116', '-6.5247123', '16.3471243', '13.8000382', '15.5855545', '4.099917', '10.2735633', '10.2116702', '10.2735633', '4.099917', '10.2116702', '10.2735633', '13.8000382', '-1.9646631', '10.2735633', '10.2735633', '13.8000382', '-10.3333333', '14.8971921', '15.2572432', '10.2735633', '1.4419683', '10.2116702', '1.4419683', '10.2116702', '1.4419683', '1.4419683', '10.2116702', '10.2116702', '1.4419683', '10.2116702', '1.4419683', '1.4419683', '-30.29284845', '10.2116702', '10.2116702', '1.4419683', '4.099917', '1.4419683', '10.2116702', '10.2735633', '-1.9646631', '10.2116702', '10.2116702', '1.4419683', '10.2116702', '10.2116702', '-2.4833826', '-2.4833826', '-2.4833826', '-2.4833826', '-2.4833826', '-2.4833826', '-2.4833826', '-2.4833826', '-2.4833826', '-2.4833826', '-2.4833826', '10.2116702', '10.2116702', '-10.3333333', '15.2572432', '23.9739374', '10.2116702', '10.2116702', '8.559559', '10.2116702', '8.559559', '10.2116702', '4.099917', '10.2116702', '15.5855545', '15.5855545', '4.099917', '4.099917', '-2.4833826', '4.099917', '10.2735633', '-6.5247123', '10.2116702', '10.2116702', '1.4419683', '1.4419683', '4.099917', '4.099917', '4.099917', '10.2116702', '10.2735633', '1.5333554', '35.000074', '10.2116702', '-1.9646631', '8.559559', '4.099917', '10.2116702', '21.417531150000002', '4.099917', '-1.3397668', '19.593801499999998', '4.099917', '4.099917', '10.2116702', '13.8000382', '-10.3333333', '-10.3333333', '-10.3333333', '', '-10.3333333', '-10.3333333', '-10.3333333', '-10.3333333', '-10.3333333', '-18.4554963', '10.2116702', '', '4.099917', '-5.6816069', '1.4419683', '-2.9814344', '-3.426449', '8.559559', '10.2116702', '-1.3397668', '10.2116702', '-2.9814344', '-1.3397668', '10.2116702', '8.559559', '19.593801499999998', '1.4419683', '15.5855545', '-2.4833826', '10.2116702', '-5.6816069', '-2.4833826', '-1.9646631', '10.2116702', '4.099917', '10.2116702', '-17.0568696', '10.2116702', '10.2116702', '10.2735633', '4.099917', '-10.3333333', '10.2116702', '10.2116702', '10.2116702', '10.2116702', '15.5855545', '10.2116702', '10.2116702', '10.2116702', '1.4419683', '-6.8699697', '', '', '-2.4833826', '4.099917', '', '', '', '-0.14329415', '', '', '-5.6816069', '4.099917', '-1.3397668', '1.4419683', '-1.9646631', '4.099917', '-2.4833826', '1.4419683', '10.2116702', '4.099917', '10.2116702', '-1.9646631', '4.099917', '10.2116702', '4.099917', '10.2116702', '1.4419683', '', '19.593801499999998', '10.2116702', '-2.9814344', '4.099917', '4.099917', '10.2735633', '12.6090157', '10.2116702', '13.8000382', '', '10.2116702', '22.3511148', '18.1850507', '10.2116702', '10.2116702', '4.099917', '10.2116702', '10.2116702', '', '-1.9646631', '-3.426449', '8.559559', '10.2735633', '-6.8699697', '1.4419683', '15.5855545', '1.4419683', '4.099917', '4.099917', '-1.9646631', '-6.5247123', '10.2116702', '4.099917', '4.099917', '4.099917', '1.4419683', '-2.9814344', '10.2116702', '10.2116702', '15.2572432', '1.4419683', '10.2735633', '-1.9646631', '10.2116702', '1.4419683', '15.5855545', '8.559559', '10.2116702', '-10.3333333', '10.2116702', '10.2116702', '12.6090157', '10.2116702', '8.559559', '15.5855545', '10.2116702', '-2.4833826', '-1.3397668', '10.2116702', '4.099917', '15.5855545', '10.2116702', '8.559559', '10.2116702', '4.099917', '15.5855545', '15.5855545', '10.2116702', '10.2116702', '1.4419683', '1.4419683', '8.559559', '1.4419683', '10.2116702', '10.2116702', '-2.4833826', '1.4419683', '8.559559', '21.417531150000002', '10.2735633', '8.559559', '8.559559', '10.2116702', '10.2116702', '12.6090157', '8.559559', '10.2116702', '8.559559', '19.593801499999998', '10.2116702', '10.2116702', '-5.6816069', '13.8000382', '1.4419683', '10.2116702', '8.559559', '10.2735633', '15.5855545', '10.2116702', '10.2116702', '8.559559', '10.2735633', '8.559559', '13.8000382', '10.2116702', '1.4419683', '4.099917', '8.559559', '10.2116702', '10.2116702', '1.4419683', '10.2116702', '1.4419683', '10.2735633', '10.2735633', '15.5855545', '4.099917', '4.099917', '10.2116702', '12.6090157', '12.6090157', '12.6090157', '12.6090157', '12.6090157', '20.0171109', '18.2247706', '1.4419683', '8.559559', '15.5855545', '10.2116702', '10.2116702', '10.2116702', '10.2116702', '10.2116702', '15.5855545', '-6.8699697', '15.5855545', '15.2572432', '15.5855545', '8.559559', '10.2116702', '19.593801499999998', '19.593801499999998', '', '10.2116702', '10.2735633', '10.2116702', '10.2116702', '4.099917', '1.4419683', '10.2116702', '10.2116702', '8.559559', '1.4419683', '10.2116702', '13.8000382', '15.5855545', '10.2735633', '10.2116702', '-18.4554963', '13.8000382', '15.5855545', '8.559559', '15.5855545', '15.5855545', '15.5855545', '15.5855545', '15.2572432', '10.2735633', '10.2116702', '18.1850507', '-1.9646631', '-1.3397668', '10.2116702', '-3.426449', '10.2116702', '1.4419683', '10.2116702', '8.559559', '10.2116702', '', '10.2735633', '10.2116702', '1.4419683', '13.8000382', '10.2116702', '1.4419683', '1.4419683', '1.4419683', '1.4419683', '1.4419683', '1.4419683', '1.4419683', '1.4419683', '1.4419683', '1.4419683', '1.4419683', '19.593801499999998', '8.559559', '-2.4833826', '-10.3333333', '-10.3333333', '-10.3333333', '10.2116702', '1.4419683', '10.2116702', '15.5855545', '4.099917', '10.2116702', '10.2116702', '10.2116702', '10.2116702', '10.2116702', '8.559559', '10.2116702', '10.2116702', '23.6585116', '10.2116702', '', '', '', '10.2116702', '-3.426449', '10.2116702', '15.5855545', '10.2116702', '8.559559', '10.2116702', '10.2116702', '', '-10.3333333', '10.2116702', '10.2116702', '15.5855545', '10.2116702', '10.2116702', '0.33462785', '10.2116702', '10.2116702', '10.2116702', '', '-6.8699697', '10.2116702', '4.099917', '-6.5247123', '1.4419683', '', '-3.426449', '10.2116702', '10.2116702', '16.3471243', '15.5855545', '13.8000382', '15.5855545', '10.2116702', '1.4419683', '-1.9646631', '4.099917', '-10.3333333', '4.099917', '-3.426449', '1.4419683', '19.593801499999998', '10.2116702', '23.6585116', '', '10.2116702', '1.4419683', '-6.5247123', '4.099917', '-3.426449', '4.099917', '-2.9814344', '-5.6816069', '4.099917', '10.2735633', '4.099917', '-1.9646631', '10.2735633', '10.2116702', '12.6090157', '8.559559', '10.2116702', '10.2116702', '8.559559', '10.2116702', '8.559559', '-2.4833826', '15.5855545', '15.5855545', '', '10.2735633', '10.2116702', '10.2116702', '1.4419683', '10.2116702', '15.5855545', '10.2116702', '10.2116702', '4.099917', '10.2116702', '10.2116702', '8.559559', '8.559559', '15.5855545', '4.099917', '35.000074', '4.099917', '-1.9646631', '4.099917', '12.6090157', '4.099917', '1.4419683', '10.2116702', '10.2116702', '8.559559', '10.2116702', '10.2116702', '-2.4833826', '-2.4833826', '-2.4833826', '-2.4833826', '-2.4833826', '-2.4833826', '-2.4833826', '-2.4833826', '-2.4833826', '-2.4833826', '10.2116702', '1.4419683', '-6.8699697', '4.099917', '4.099917', '-17.0568696', '10.2116702', '8.559559', '10.2116702', '10.2116702', '-6.8699697', '8.559559', '1.4419683', '10.2116702', '1.4419683', '1.4419683', '10.2116702', '10.2116702', '10.2116702', '10.2116702', '4.099917', '-3.426449', '-5.6816069', '-3.426449', '10.2116702', '10.2116702', '-1.9646631', '-6.8699697', '4.099917', '-10.3333333', '8.559559', '-17.0568696', '-1.9646631', '1.4419683', '15.5855545', '-1.9646631', '10.2116702', '10.2116702', '-1.9646631', '1.4419683', '1.4419683', '10.2116702', '', '10.2116702', '13.8000382', '4.099917', '23.9739374', '-2.4833826', '10.2735633', '', '10.2116702', '', '10.2116702', '10.2116702', '', '8.559559', '', '1.4419683', '15.5855545', '1.4419683', '10.2116702', '10.2116702', '10.2735633', '-2.4833826', '8.559559', '14.8971921', '14.8971921', '14.8971921', '10.2116702', '1.4419683', '15.2572432', '15.5855545', '10.2116702', '10.2116702', '19.593801499999998', '10.2116702', '1.4419683', '', '1.4419683', '4.099917', '10.2116702', '1.4419683', '14.8971921', '8.559559', '13.8000382', '10.2116702', '8.559559', '8.559559', '-30.29284845', '12.6090157', '1.4419683', '1.4419683', '10.2116702', '1.4419683', '36.7014631', '1.4419683', '15.5855545', '15.5855545', '15.5855545', '10.2116702', '10.2116702', '8.559559', '1.4419683', '10.2116702', '10.2735633', '8.559559', '-2.4833826', '-2.4833826', '10.2735633', '35.000074', '-25.746194000000003', '1.4419683', '10.2116702', '-2.4833826', '', '4.099917', '10.2116702', '1.4419683', '-5.6816069', '4.099917', '1.4419683', '10.2116702', '10.2116702', '1.4419683', '10.2116702', '10.2735633', '8.559559', '19.593801499999998', '12.6090157', '8.559559', '15.5855545', '15.5855545', '8.559559', '4.099917', '1.4419683', '12.6090157', '-1.3397668', '1.4419683', '-2.4833826', '14.8971921', '13.8000382', '-1.9646631', '10.2116702', '4.099917', '10.2116702', '15.5855545', '10.2116702', '-1.9646631', '-1.9646631', '12.6090157', '23.6585116', '-6.8699697', '4.099917', '1.4419683', '10.2116702', '10.2116702', '1.4419683', '10.2116702', '1.4419683', '1.4419683', '10.2116702', '1.4419683', '10.2116702', '10.2735633', '10.2116702', '15.5855545', '15.2572432', '10.2116702', '', '4.099917', '-2.4833826', '10.2116702', '1.4419683', '10.2116702', '10.2116702', '10.2735633', '1.4419683', '8.559559', '10.2116702', '-2.4833826', '19.593801499999998', '4.099917', '10.2116702', '13.8000382', '8.559559', '8.559559', '12.6090157', '8.559559', '10.2735633', '8.559559', '10.2735633', '8.559559', '8.559559', '10.2735633', '13.8000382', '10.2735633', '13.8000382', '10.2735633', '15.5855545', '1.4419683', '10.2116702', '13.8000382', '10.2116702', '13.8000382', '', '', '19.593801499999998', '23.6585116', '-2.4833826', '10.2116702', '1.4419683', '10.2116702', '1.4419683', '15.5855545', '19.593801499999998', '19.593801499999998', '19.593801499999998', '19.593801499999998', '19.593801499999998', '19.593801499999998', '19.593801499999998', '19.593801499999998', '19.593801499999998', '10.2116702', '8.559559', '1.4419683', '10.2116702', '1.4419683', '10.2116702', '10.2116702', '1.4419683', '10.2116702', '10.2116702', '10.2116702', '10.2116702', '10.2116702', '10.2116702', '-3.426449', '', '', '', '', '4.099917', '8.559559', '1.4419683', '10.2735633', '10.2735633', '4.099917', '-2.4833826', '10.2116702', '-25.746194000000003', '10.2116702', '1.4419683', '15.5855545', '10.2116702', '-1.9646631', '23.6585116', '-3.426449', '23.6585116', '4.099917', '15.5855545', '10.2116702', '10.2735633', '-10.3333333', '10.2116702', '', '4.099917', '4.099917', '-5.6816069', '-2.4833826', '-5.6816069', '-2.4833826', '-5.6816069', '-2.4833826', '-2.4833826', '-5.6816069', '10.2116702', '10.2116702', '4.099917', '10.2735633', '-6.8699697', '4.099917', '1.4419683', '10.2116702', '10.2116702', '10.2116702', '15.2572432', '-10.3333333', '-10.3333333', '-1.9646631', '1.4419683', '10.2116702', '10.2116702', '10.2116702', '1.4419683', '4.099917', '10.2116702', '-6.5247123', '-2.9814344', '-3.426449', '4.099917', '-6.5247123', '15.2572432', '10.2116702', '10.2116702', '-2.4833826', '-1.9646631', '-1.9646631', '-1.9646631', '-1.9646631', '-1.9646631', '-1.9646631', '-1.9646631', '1.4419683', '10.2116702', '10.2116702', '10.2116702', '-1.9646631', '10.2116702', '-10.3333333', '4.099917', '4.099917', '4.099917', '4.099917', '4.099917', '4.099917', '4.099917', '4.099917', '4.099917', '4.099917', '-1.9646631', '', '-1.9646631', '', '10.2116702', '13.8000382', '1.4419683', '', '1.4419683', '', '10.2116702', '10.2116702', '-2.4833826', '10.2116702', '-2.4833826', '-10.3333333', '-10.3333333', '-10.3333333', '-10.3333333', '-10.3333333', '-10.3333333', '-10.3333333', '-10.3333333', '-10.3333333', '-1.9646631', '10.2116702', '23.9739374', '4.099917', '', '15.5855545', '-2.4833826', '-1.3397668', '4.099917', '15.5855545', '10.2116702', '10.2116702', '10.2116702', '1.4419683', '-1.9646631', '-2.4833826', '4.099917', '-1.3397668', '1.4419683', '-2.4833826', '1.4419683', '15.2572432', '', '1.4419683', '-6.5247123', '10.2116702', '13.8000382', '10.2116702', '15.5855545', '', '', '10.2116702', '10.2116702', '10.2116702', '10.2116702', '10.2116702', '10.2116702', '', '10.2116702', '10.2116702', '10.2116702', '-6.8699697', '-2.4833826', '1.4419683', '10.2116702', '10.2116702', '1.4419683', '10.2116702', '10.2116702', '-2.4833826', '15.5855545', '-23.1223917', '10.2116702', '4.099917', '10.2116702', '10.2116702', '15.5855545', '10.2116702', '-2.4833826', '23.9739374', '1.4419683', '10.2116702', '19.593801499999998', '10.2116702', '8.559559', '1.4419683', '', '-2.4833826', '', '', '-2.4833826', '10.2116702', '4.099917', '8.559559', '1.4419683', '10.2116702', '8.559559', '1.4419683', '-2.4833826', '13.8000382', '', '23.6585116', '8.559559', '1.4419683', '-5.6816069', '10.2116702', '10.2116702', '', '1.4419683', '10.2116702', '', '15.5855545', '1.4419683', '-6.5247123', '1.4419683', '', '-2.4833826', '', '', '14.8971921', '1.4419683', '16.3471243', '10.2116702', '10.2116702', '10.2116702', '10.2116702', '10.2116702', '10.2116702', '10.2116702', '10.2116702', '10.2116702', '10.2116702', '15.5855545', '10.2116702', '19.593801499999998', '19.593801499999998', '18.1850507', '18.1850507', '1.4419683', '1.4419683', '15.5855545', '8.559559', '8.559559', '19.593801499999998', '15.2572432', '', '-1.9646631', '-2.4833826', '10.2735633', '8.559559', '10.2116702', '10.2116702', '15.5855545', '-2.4833826', '10.2116702', '13.8000382', '19.593801499999998', '8.559559', '8.559559', '8.559559', '23.6585116', '13.8000382', '8.559559', '10.2116702', '15.5855545', '1.4419683', '10.2116702', '-2.4833826', '16.3471243', '15.5855545', '19.1399952', '10.2116702', '1.4419683', '13.8000382', '-1.9646631', '10.2116702', '15.5855545', '10.2116702', '4.099917', '', '-6.8699697', '', '18.1850507', '8.559559', '8.559559', '10.2735633', '10.2116702', '15.5855545', '10.2116702', '15.5855545', '15.5855545', '15.5855545', '15.5855545', '15.5855545', '15.5855545', '15.5855545', '15.5855545', '15.5855545', '15.5855545', '15.5855545', '1.4419683', '10.2116702', '8.559559', '10.2116702', '10.2735633', '13.8000382', '10.2116702', '4.099917', '1.6364047', '23.6585116', '19.593801499999998', '19.593801499999998', '10.2116702', '15.5855545', '19.593801499999998', '10.2116702', '10.2735633', '4.099917', '10.2116702', '10.2116702', '15.2572432', '15.2572432', '15.2572432', '15.2572432', '15.2572432', '15.2572432', '15.2572432', '15.2572432', '15.2572432', '10.2735633', '19.593801499999998', '1.4419683', '1.4419683', '10.2116702', '', '10.2116702', '10.2735633', '10.2735633', '1.4419683', '4.099917', '1.4419683', '10.2735633', '8.559559', '', '-10.3333333', '', '', '', '15.5855545', '10.2116702', '', '', '21.417531150000002', '10.2735633', '-2.4833826', '', '-1.9646631', '', '-2.4833826', '10.2116702', '10.2116702', '1.4419683', '10.2735633', '15.2572432', '10.2116702', '10.2116702', '10.2116702', '1.4419683', '10.2116702', '-2.4833826', '10.2735633', '10.2116702', '-2.4833826', '-2.4833826', '-2.4833826', '', '-2.4833826', '-2.4833826', '-2.4833826', '-2.4833826', '-2.4833826', '-2.4833826', '-2.4833826', '-2.4833826', '10.2116702', '-10.3333333', '14.8971921', '10.2116702', '1.4419683', '4.099917', '-2.4833826', '1.4419683', '19.593801499999998', '-5.6816069', '10.2116702', '10.2735633', '-1.3397668', '-2.4833826', '10.2735633', '-5.6816069', '23.6585116', '23.9739374', '23.6585116', '-6.8699697', '8.559559', '-17.0568696', '15.5855545', '13.8000382', '10.2735633', '10.2116702', '10.2116702', '15.5855545', '10.2116702', '4.099917', '1.4419683', '10.2116702', '10.2116702', '15.5855545', '4.099917', '1.4419683', '', '10.2116702', '13.8000382', '', '', '15.2572432', '', '1.4419683', '23.9739374', '10.2116702', '10.2116702', '8.559559', '-2.4833826', '8.559559', '-6.5247123', '-17.0568696', '-1.3397668', '10.2116702', '-13.2687204', '10.2735633', '', '-2.4833826', '4.099917', '4.099917', '-2.4833826', '', '', '10.2116702', '-2.4833826', '', '-2.4833826', '1.4419683', '10.2116702', '', '-1.9646631', '-5.6816069', '-2.4833826', '-6.8699697', '23.6585116', '-17.0568696', '-17.0568696', '-5.6816069', '-21.0002179', '-6.8699697', '10.2116702', '1.4419683', '-1.9646631', '13.8000382', '-17.0568696', '-5.6816069', '19.593801499999998', '14.8971921', '-17.0568696', '-17.0568696', '-6.8699697', '-17.0568696', '-1.3397668', '-17.0568696', '-6.8699697', '-17.0568696', '-6.8699697', '-1.3397668', '19.593801499999998', '4.099917', '15.5855545', '10.2735633', '4.099917', '4.099917', '13.8000382', '10.2116702', '-3.426449', '10.2116702', '-10.3333333', '4.099917', '', '-2.4833826', '8.559559', '-3.426449', '1.4419683', '10.2116702', '4.099917', '10.2116702', '-3.426449', '15.5855545', '12.6090157', '-1.9646631', '10.2116702', '-2.4833826', '4.099917', '15.5855545', '', '1.4419683', '4.099917', '4.099917', '10.2116702', '15.5855545', '10.2116702', '14.8971921', '14.8971921', '1.4419683', '1.4419683', '1.4419683', '1.4419683', '51.5086102', '1.4419683', '-10.3333333', '', '', '', '15.5855545', '8.559559', '15.2572432', '10.2116702', '10.2116702', '15.2572432', '1.4419683', '10.2735633', '15.5855545', '10.2116702', '15.5855545', '15.2572432', '15.2572432', '13.8000382', '19.1399952', '15.5855545', '1.4419683', '10.2116702', '-1.3397668', '1.4419683', '1.4419683', '-2.4833826', '10.2116702', '23.6585116', '10.2116702', '1.4419683', '10.2116702', '14.8971921', '14.8971921', '', '51.5086102', '51.5086102', '51.5086102', '51.5086102', '51.5086102', '10.2116702', '10.2116702', '10.2116702', '10.2116702', '15.5855545', '8.559559', '10.2116702', '10.2116702', '10.2116702', '10.2116702', '10.2116702', '10.2116702', '13.8000382', '1.4419683', '-2.4833826', '', '4.099917', '10.2116702', '10.2116702', '-1.9646631', '10.2116702', '8.559559', '1.4419683', '8.559559', '8.559559', '15.5855545', '15.5855545', '10.2116702', '10.2116702', '-5.6816069', '8.559559', '-2.4833826', '4.099917', '4.099917', '15.5855545', '15.5855545', '15.5855545', '4.099917', '', '10.2116702', '10.2116702', '1.4419683', '15.5855545', '10.2116702', '23.6585116', '', '1.4419683', '10.2116702', '8.559559', '-2.4833826', '13.8000382', '15.2572432', '15.5855545', '15.2572432', '', '4.099917', '4.099917', '', '', '10.2116702', '1.4419683', '13.8000382', '1.4419683', '10.2116702', '10.2735633', '15.5855545', '1.4419683', '10.2116702', '15.5855545', '1.4419683', '1.4419683', '10.2116702', '15.5855545', '-25.746194000000003', '10.2116702', '19.0974031', '-1.9646631', '', '15.5855545', '15.5855545', '-10.3333333', '13.8000382', '10.2116702', '', '10.2116702', '10.2116702', '13.8000382', '10.2116702', '13.8000382', '8.559559', '8.559559', '10.2116702', '1.4419683', '10.2116702', '-2.4833826', '10.2116702', '10.2116702', '12.6090157', '1.5333554', '8.559559', '1.4419683', '13.8000382', '10.2735633', '10.2735633', '13.8000382', '12.6090157', '13.8000382', '10.2735633', '13.8000382', '13.8000382', '13.8000382', '10.2116702', '10.2735633', '10.2116702', '4.099917', '1.4419683', '10.2116702', '10.2116702', '1.4419683', '10.2116702', '-2.4833826', '8.559559', '1.4419683', '10.2116702', '8.559559', '10.2116702', '14.8971921', '', '19.593801499999998', '', '8.559559', '8.559559', '8.559559', '8.559559', '8.559559', '8.559559', '8.559559', '8.559559', '8.559559', '10.2116702', '13.8000382', '14.8971921', '', '1.4419683', '', '10.2116702', '10.2116702', '15.5855545', '1.4419683', '-1.9646631', '10.2116702', '-6.5247123', '10.2116702', '-2.4833826', '10.2735633', '21.417531150000002', '', '19.593801499999998', '-1.9646631', '10.2116702', '10.2116702', '', '10.2116702', '10.2735633', '-1.9646631', '-2.4833826', '19.593801499999998', '', '', '4.099917', '', '', '', '1.4419683', '23.9739374', '-2.4833826', '4.099917', '19.593801499999998', '15.5855545', '-2.4833826', '10.2116702', '10.2116702', '23.6585116', '-10.3333333', '23.9739374', '19.593801499999998', '1.4419683', '1.4419683', '1.4419683', '15.2572432', '-17.0568696', '', '-3.426449', '-6.5247123', '-6.5247123', '-1.9646631', '-1.9646631', '-3.426449', '-3.426449', '-3.426449', '-1.9646631', '-1.9646631', '1.4419683', '8.559559', '-10.3333333', '4.099917', '-2.4833826', '19.593801499999998', '15.5855545', '', '10.2116702', '1.4419683', '-10.3333333', '19.593801499999998', '10.2116702', '-2.4833826', '10.2116702', '1.4419683', '13.8000382', '1.4419683', '-3.426449', '10.2116702', '-10.3333333', '-10.3333333', '-10.3333333', '-10.3333333', '-10.3333333', '-10.3333333', '-10.3333333', '-10.3333333', '-10.3333333', '15.5855545', '4.099917', '4.099917', '-2.4833826', '-3.426449', '-17.0568696', '15.5855545', '', '-2.4833826', '', '-1.9646631', '-2.4833826', '1.4419683', '1.4419683', '13.8000382', '4.099917', '4.099917', '4.099917', '4.099917', '4.099917', '4.099917', '4.099917', '4.099917', '4.099917', '4.099917', '-2.4833826', '10.2116702', '', '', '', '', '-2.4833826', '4.099917', '', '-17.0568696', '-1.9646631', '-1.9646631', '', '1.4419683', '10.2116702', '1.4419683', '-2.4833826', '10.2116702', '1.4419683', '13.8000382', '', '23.6585116', '15.5855545', '-2.4833826', '', '', '25.7655568', '25.7655568', '', '', '-2.4833826', '-2.4833826', '-6.8699697', '1.4419683', '10.2116702', '-2.4833826', '-3.426449', '4.099917', '-2.4833826', '', '', '', '4.099917', '15.5855545', '', '23.6585116', '-2.4833826', '-10.3333333', '4.099917', '15.5855545', '19.593801499999998', '4.099917', '19.593801499999998', '', '19.1399952', '15.5855545', '1.4419683', '8.559559', '10.2116702', '4.099917', '19.0974031', '1.4419683', '-6.8699697', '', '-2.4833826', '19.593801499999998', '15.2572432', '15.5855545', '12.6090157', '15.2572432', '10.2116702', '8.559559', '10.2116702', '10.2116702', '13.8000382', '12.6090157', '15.5855545', '8.559559', '15.5855545', '', '8.559559', '-10.3333333', '4.099917', '1.4419683', '1.4419683', '10.2116702', '10.2116702', '15.5855545', '', '', '', '4.099917', '', '', '', '', '15.5855545', '', '8.559559', '13.8000382', '10.2116702', '4.099917', '15.5855545', '8.559559', '8.559559', '10.2116702', '10.2116702', '10.2116702', '10.2116702', '14.8971921', '10.2735633', '10.2735633', '1.4419683', '10.2116702', '-2.4833826', '-2.4833826', '10.2116702', '13.8000382', '10.2116702', '10.2116702', '10.2735633', '15.5855545', '10.2116702', '10.2116702', '10.2116702', '10.2735633', '1.4419683', '15.2572432', '10.2116702', '15.5855545', '15.2572432', '10.2116702', '1.4419683', '1.4419683', '1.4419683', '1.4419683', '1.4419683', '1.4419683', '1.4419683', '1.4419683', '1.4419683', '1.4419683', '1.4419683', '1.4419683', '1.4419683', '1.4419683', '8.559559', '23.6585116', '21.417531150000002', '1.4419683', '13.8000382', '13.8000382', '15.5855545', '21.417531150000002', '13.8000382', '13.8000382', '10.2735633', '-2.4833826', '10.2735633', '13.8000382', '4.099917', '10.2735633', '', '', '15.5855545', '-2.4833826', '10.2735633', '10.2116702', '12.6090157', '12.6090157', '12.6090157', '12.6090157', '12.6090157', '12.6090157', '12.6090157', '1.4419683', '10.2735633', '10.2735633', '10.2735633', '1.4419683', '1.4419683', '10.2116702', '12.6090157', '8.559559', '-1.9646631', '15.5855545', '1.4419683', '15.5855545', '15.5855545', '-1.9646631', '23.6585116', '4.099917', '1.4419683', '10.2116702', '-0.14329415', '15.5855545', '14.8971921', '15.2572432', '10.2116702', '10.2116702', '13.8000382', '10.2116702', '10.2116702', '10.2116702', '23.6585116', '1.4419683', '15.5855545', '15.5855545', '13.8000382', '1.4419683', '15.5855545', '12.6090157', '-17.0568696', '-2.4833826', '-10.3333333', '14.8971921', '10.2116702', '-3.426449', '1.4419683', '', '1.4419683', '10.2116702', '10.2116702', '8.559559', '10.2735633', '', '15.5855545', '4.099917', '10.2116702', '15.5855545', '-2.4833826', '4.099917', '10.2116702', '-3.426449', '4.099917', '-2.4833826', '-2.4833826', '-3.426449', '-6.8699697', '23.6585116', '23.9739374', '4.099917', '10.2116702', '-10.3333333', '-3.426449', '-17.0568696', '10.2116702', '12.6090157', '15.5855545', '1.4419683', '10.2116702', '-3.426449', '4.099917', '-17.0568696', '', '10.2116702', '-2.4833826', '-6.5247123', '8.559559', '-1.9646631', '4.099917', '4.099917', '-3.426449', '52.38003305', '', '4.099917', '', '-2.4833826', '', '', '', '', '-23.1223917', '', '22.3511148', '4.099917', '', '', '4.099917', '-3.426449', '', '-5.6816069', '1.4419683', '10.2116702', '10.2116702', '-1.3397668', '19.593801499999998', '15.2572432', '-1.9646631', '-10.3333333', '-1.9646631', '', '-17.0568696', '-17.0568696', '19.593801499999998', '-5.6816069', '-5.6816069', '10.2116702', '10.2735633', '-3.426449', '-10.3333333', '-10.3333333', '13.8000382', '13.8000382', '22.3511148', '10.2116702', '22.3511148', '', '', '', '', '4.099917', '4.099917', '', '4.099917', '4.099917', '10.2116702', '13.8000382', '13.8000382', '1.4419683', '13.8000382', '10.2116702', '14.8971921', '', '10.2116702', '-1.9646631', '8.559559', '10.2735633', '15.5855545', '4.099917', '', '19.0974031', '', '10.2116702', '10.2116702', '-10.3333333', '-2.4833826', '10.2116702', '10.2735633', '10.2116702', '4.099917', '4.099917', '4.099917', '4.099917', '19.593801499999998', '', '10.2116702', '4.099917', '1.4419683', '1.4419683', '-1.9646631', '10.2735633', '13.8000382', '1.4419683', '', '19.0974031', '19.0974031', '1.4419683', '', '10.2116702', '1.4419683', '15.5855545', '10.2116702', '10.2116702', '10.2116702', '10.2116702', '10.2116702', '10.2116702', '10.2116702', '10.2116702', '10.2116702', '10.2116702', '10.2116702', '10.2116702', '-2.4833826', '15.2572432', '1.4419683', '10.2116702', '15.2572432', '15.2572432', '15.2572432', '19.593801499999998', '10.2116702', '', '8.559559', '10.2116702', '13.8000382', '13.8000382', '13.8000382', '4.099917', '', '15.2572432', '13.8000382', '10.2735633', '-17.0568696', '-17.0568696', '13.8000382', '13.8000382', '15.2572432', '', '', '', '1.4419683', '1.4419683', '15.5855545', '13.8000382', '10.2735633', '10.2735633', '13.8000382', '13.8000382', '', '', '14.8971921', '14.8971921', '14.8971921', '10.2116702', '4.099917', '14.8971921', '12.6090157', '10.2735633', '13.8000382', '19.593801499999998', '10.2116702', '10.2116702', '10.2116702', '10.2116702', '19.593801499999998', '8.559559', '10.2116702', '19.593801499999998', '14.8971921', '-2.4833826', '12.6090157', '', '10.2735633', '', '12.6090157', '', '', '', '10.2116702', '10.2116702', '1.4419683', '10.2116702', '1.4419683', '1.4419683', '-2.4833826', '-2.4833826', '', '12.6090157', '14.8971921', '15.5855545', '15.5855545', '15.5855545', '15.5855545', '15.5855545', '15.5855545', '15.5855545', '15.5855545', '15.5855545', '15.5855545', '15.5855545', '15.5855545', '15.5855545', '1.4419683', '10.2116702', '8.559559', '1.4419683', '12.6090157', '10.2735633', '1.4419683', '15.5855545', '1.4419683', '1.4419683', '13.8000382', '', '4.099917', '15.5855545', '1.4419683', '13.8000382', '15.5855545', '', '10.2735633', '10.2116702', '', '15.5855545', '', '', '', '', '10.2116702', '8.559559', '13.8000382', '15.2572432', '10.2735633', '15.2572432', '10.2735633', '12.6090157', '', '8.559559', '10.2116702', '15.5855545', '10.2116702', '1.4419683', '19.593801499999998', '15.5855545', '10.2116702', '10.2116702', '10.2116702', '-6.5247123', '15.5855545', '4.099917', '10.2116702', '13.8000382', '13.8000382', '10.2116702', '', '13.8000382', '1.4419683', '10.2116702', '12.6090157', '4.099917', '23.6585116', '1.4419683', '', '', '-2.4833826', '4.099917', '-2.4833826', '-10.3333333', '4.099917', '1.4419683', '15.5855545', '15.5855545', '', '', '-10.3333333', '1.4419683', '13.8000382', '15.5855545', '1.4419683', '15.5855545', '10.2116702', '-2.4833826', '15.5855545', '15.5855545', '-6.8699697', '-6.8699697', '-6.8699697', '-6.8699697', '-17.0568696', '-17.0568696', '-1.3397668', '-17.0568696', '-6.8699697', '-17.0568696', '-17.0568696', '-1.3397668', '-17.0568696', '1.4419683', '-5.6816069', '10.2116702', '1.4419683', '10.2116702', '10.2116702', '4.099917', '-3.426449', '-2.4833826', '4.099917', '-10.3333333', '-5.6816069', '-14.5189121', '10.2116702', '23.6585116', '15.5855545', '10.2735633', '-6.5247123', '-3.426449', '12.6090157', '-2.4833826', '-14.5189121', '15.5855545', '4.099917', '-2.4833826', '10.2116702', '10.2735633', '16.3471243', '10.2116702', '-3.426449', '10.2116702', '4.099917', '10.2116702', '', '', '', '', '10.2116702', '22.3511148', '10.2116702', '10.2116702', '4.099917', '-10.3333333', '10.2116702', '4.099917', '1.4419683', '-10.3333333', '13.8000382', '10.2116702', '-2.4833826', '-2.4833826', '-2.4833826', '-2.4833826', '-2.4833826', '-2.4833826', '-2.4833826', '-2.4833826', '-2.4833826', '-2.4833826', '-2.4833826', '-2.4833826', '-2.4833826', '-2.4833826', '-2.4833826', '10.2116702', '19.593801499999998', '-2.4833826', '-6.8699697', '10.2116702', '10.2735633', '', '-6.8699697', '1.4419683', '', '10.2116702', '18.2247706', '19.593801499999998', '19.1399952', '18.1850507', '19.593801499999998', '19.0974031', '19.593801499999998', '19.593801499999998', '19.593801499999998', '19.593801499999998', '19.593801499999998', '19.0974031', '4.099917', '1.4419683', '10.2116702', '22.3511148', '-17.0568696', '-1.9646631']\n",
      "['-72.9088133', '-75.0458515', '-72.9088133', '-85.2936911', '38.6521203', '-79.3666965', '38.6521203', '38.6521203', '38.4313975', '', '38.4313975', '38.6521203', '38.6521203', '-155.42837009716908', '38.4313975', '120.9820179', '38.6521203', '38.4313975', '-155.42837009716908', '100.83273', '38.4313975', '-79.3666965', '107.9650855', '38.4313975', '-155.42837009716908', '-155.42837009716908', '38.4313975', '38.6521203', '38.6521203', '38.6521203', '30.0644358', '-90.345759', '-90.345759', '-90.345759', '-102.0077097', '-102.0077097', '-102.0077097', '-102.0077097', '-102.0077097', '-102.0077097', '-102.0077097', '-102.0077097', '-102.0077097', '38.4313975', '-72.9088133', '-72.9088133', '-75.0458515', '-86.0755145', '-72.9088133', '-72.3570972', '-155.42837009716908', '30.0644358', '38.6521203', '-72.9088133', '120.9820179', '38.6521203', '38.6521203', '38.6521203', '38.4313975', '-75.0458515', '-102.0077097', '-90.345759', '-155.42837009716908', '-85.2936911', '38.6521203', '-72.9088133', '38.6521203', '-72.9088133', '-72.9088133', '-75.0458515', '117.8902853', '38.6521203', '38.6521203', '144.2489081', '38.6521203', '38.6521203', '38.6521203', '38.6521203', '144.2489081', '38.6521203', '-88.9140683', '-72.9088133', '117.8902853', '117.8902853', '38.6521203', '-72.9088133', '107.9650855', '38.6521203', '-81.1308434', '-72.9088133', '-81.1308434', '-79.3666965', '-81.1308434', '38.6521203', '38.6521203', '-72.9088133', '-88.9140683', '38.6521203', '-81.1308434', '38.6521203', '38.6521203', '-84.0739102', '38.6521203', '38.6521203', '120.9820179', '-75.0458515', '-53.2', '-155.42837009716908', '38.6521203', '-72.9088133', '38.6521203', '38.6521203', '-84.0739102', '-84.0739102', '30.0644358', '-88.9140683', '-88.9140683', '-72.9088133', '38.6521203', '38.4313975', '-86.0755145', '-84.0739102', '38.6521203', '38.6521203', '-72.9088133', '-84.0739102', '38.6521203', '-81.1308434', '38.6521203', '-81.1308434', '-81.1308434', '-81.1308434', '-84.0739102', '-84.0739102', '-90.345759', '29.9324519', '-72.9088133', '29.9324519', '-79.3666965', '-81.1308434', '-155.42837009716908', '38.6521203', '-84.0739102', '35.7878438', '-84.0739102', '38.6521203', '-72.9088133', '38.4313975', '-0.13067022021816063', '-0.13067022021816063', '-84.0739102', '38.6521203', '-84.0739102', '-72.9088133', '-84.0739102', '-81.1308434', '27.5589884', '-102.0077097', '-72.9088133', '38.4313975', '38.4313975', '38.6521203', '38.6521203', '38.6521203', '-90.345759', '38.6521203', '38.6521203', '-84.0739102', '38.6521203', '38.6521203', '-72.9088133', '-72.9088133', '-72.9088133', '-86.0755145', '38.6521203', '38.6521203', '38.6521203', '-155.42837009716908', '-72.9088133', '-72.9088133', '-72.9088133', '-0.13067022021816063', '-72.9088133', '-79.3666965', '102.2656823', '38.6521203', '38.6521203', '-90.345759', '38.6521203', '-75.0458515', '-79.3666965', '-72.9088133', '-72.9088133', '-85.2936911', '-72.9088133', '-81.1308434', '-72.9088133', '38.6521203', '38.4313975', '-72.9088133', '30.0644358', '-90.345759', '-84.0739102', '38.4313975', '-86.0755145', '30.0644358', '38.6521203', '47.8915271', '-53.2', '-53.2', '-53.2', '-53.2', '-53.2', '-53.2', '-53.2', '-53.2', '-84.0739102', '-75.0458515', '38.6521203', '117.8902853', '-155.42837009716908', '38.4313975', '23.8222636', '38.4313975', '38.6521203', '144.2489081', '30.0644358', '', '-155.42837009716908', '47.8915271', '-155.42837009716908', '117.8902853', '-72.9088133', '38.6521203', '38.6521203', '38.6521203', '-84.0739102', '38.6521203', '-90.345759', '-75.0458515', '120.9820179', '38.6521203', '-72.9088133', '38.6521203', '38.6521203', '-155.42837009716908', '-75.0458515', '-72.9088133', '-102.0077097', '38.6521203', '-75.0458515', '-102.0077097', '-84.0739102', '30.0644358', '-90.345759', '38.4313975', '29.9324519', '-84.0739102', '-79.3666965', '-84.0739102', '-155.42837009716908', '-75.0458515', '-90.345759', '-81.1308434', '-75.0458515', '-155.42837009716908', '-79.3666965', '117.8902853', '117.8902853', '-155.42837009716908', '117.8902853', '-90.345759', '38.4313975', '38.4313975', '', '-86.0755145', '117.8902853', '', '-80.2304526', '117.8902853', '-86.0755145', '117.8902853', '-88.9140683', '38.6521203', '38.6521203', '-72.9088133', '38.6521203', '38.6521203', '38.6521203', '38.6521203', '38.6521203', '117.8902853', '38.4313975', '-86.0755145', '-86.0755145', '38.4313975', '23.8222636', '-79.3666965', '-72.9088133', '-72.9088133', '47.8915271', '-85.2936911', '38.6521203', '38.6521203', '38.6521203', '-88.9140683', '35.7878438', '38.6521203', '-90.345759', '-72.9088133', '-72.9088133', '-155.42837009716908', '-155.42837009716908', '-155.42837009716908', '-86.0755145', '-79.3666965', '-155.42837009716908', '-155.42837009716908', '-155.42837009716908', '-90.345759', '38.6521203', '-86.0755145', '38.6521203', '117.8902853', '-86.0755145', '38.6521203', '-72.9088133', '-81.1308434', '38.6521203', '-90.345759', '38.6521203', '38.6521203', '38.6521203', '117.8902853', '38.6521203', '-155.42837009716908', '-88.9140683', '', '-72.9088133', '38.6521203', '-84.0739102', '38.6521203', '38.6521203', '-72.9088133', '-84.0739102', '17.7578122', '38.6521203', '-88.9140683', '38.6521203', '38.4313975', '-88.9140683', '-90.345759', '-90.345759', '38.6521203', '38.6521203', '38.6521203', '38.6521203', '38.4313975', '-155.42837009716908', '-155.42837009716908', '38.6521203', '38.6521203', '-72.9088133', '-88.9140683', '-72.3570972', '-72.9088133', '-64.9912286', '38.6521203', '-90.345759', '144.2489081', '38.6521203', '32.2166578', '', '38.6521203', '-84.0739102', '38.6521203', '-155.42837009716908', '38.6521203', '117.8902853', '47.8915271', '38.4313975', '-72.9088133', '38.6521203', '38.6521203', '-81.1308434', '38.6521203', '38.6521203', '38.6521203', '38.6521203', '-84.0739102', '38.6521203', '38.6521203', '38.6521203', '', '', '38.6521203', '38.6521203', '', '', '', '', '38.6521203', '-155.42837009716908', '38.4313975', '38.6521203', '-155.42837009716908', '38.6521203', '38.6521203', '-72.9088133', '38.6521203', '-84.0739102', '-72.9088133', '-81.1308434', '38.6521203', '47.8915271', '-90.345759', '-90.345759', '-84.0739102', '38.4313975', '38.6521203', '-90.345759', '-90.345759', '-90.345759', '38.4313975', '-90.345759', '-90.345759', '-90.345759', '-90.345759', '', '-90.345759', '-90.345759', '-90.345759', '-90.345759', '-81.1308434', '38.6521203', '38.6521203', '38.4313975', '38.6521203', '38.6521203', '-81.1308434', '-155.42837009716908', '-84.0739102', '38.6521203', '38.6521203', '38.6521203', '-81.1308434', '-81.1308434', '-81.1308434', '-81.1308434', '-0.13067022021816063', '-72.9088133', '-81.1308434', '38.6521203', '-155.42837009716908', '38.6521203', '38.6521203', '38.6521203', '38.6521203', '-90.345759', '38.6521203', '38.4313975', '-155.42837009716908', '-155.42837009716908', '38.6521203', '38.4313975', '-64.9912286', '38.6521203', '-86.0755145', '38.6521203', '38.6521203', '-72.9088133', '38.6521203', '-84.0739102', '38.6521203', '38.4313975', '-84.0739102', '-155.42837009716908', '-81.1308434', '38.6521203', '-155.42837009716908', '38.6521203', '-155.42837009716908', '-155.42837009716908', '-72.9088133', '-72.9088133', '38.6521203', '38.6521203', '-84.0739102', '38.6521203', '38.6521203', '-72.9088133', '-72.9088133', '-72.9088133', '-90.345759', '-72.9088133', '35.7878438', '-72.9088133', '-75.0458515', '-90.345759', '-84.0739102', '38.6521203', '', '-88.9140683', '38.6521203', '38.6521203', '-72.9088133', '38.6521203', '-155.42837009716908', '38.6521203', '-102.0077097', '104.999927', '38.6521203', '38.6521203', '-90.345759', '38.4313975', '-86.0755145', '-90.345759', '-90.345759', '38.6521203', '38.6521203', '-90.345759', '-90.345759', '38.6521203', '38.4313975', '38.6521203', '38.6521203', '39.886173718161025', '38.4313975', '-72.9088133', '38.6521203', '38.4313975', '38.6521203', '-81.1308434', '38.6521203', '38.6521203', '-81.1308434', '38.6521203', '117.8902853', '38.6521203', '38.4313975', '47.8915271', '47.8915271', '47.8915271', '47.8915271', '47.8915271', '47.8915271', '47.8915271', '47.8915271', '47.8915271', '-75.0458515', '-72.9088133', '-86.0755145', '38.6521203', '38.6521203', '38.6521203', '38.6521203', '38.6521203', '-155.42837009716908', '-155.42837009716908', '38.6521203', '-81.1308434', '38.6521203', '38.6521203', '-155.42837009716908', '-84.0739102', '38.4313975', '38.6521203', '-72.9088133', '38.6521203', '38.4313975', '38.6521203', '38.6521203', '107.9650855', '-53.2', '38.6521203', '38.4313975', '-81.1308434', '38.4313975', '-88.9140683', '38.6521203', '23.8222636', '35.7878438', '-102.0077097', '-90.345759', '-102.0077097', '38.4313975', '38.4313975', '30.0644358', '38.6521203', '-72.9088133', '-72.9088133', '-88.9140683', '-81.1308434', '-53.2', '120.9820179', '-90.345759', '-90.345759', '-90.345759', '-90.345759', '-90.345759', '-90.345759', '-90.345759', '-90.345759', '-90.345759', '-90.345759', '-72.9088133', '-81.1308434', '-64.9912286', '-72.9088133', '-72.9088133', '38.6521203', '-72.9088133', '38.4313975', '-85.2936911', '-155.42837009716908', '-79.3666965', '-75.0458515', '38.4313975', '-88.9140683', '-53.2', '-85.2936911', '38.6521203', '', '38.6521203', '38.6521203', '29.9324519', '38.6521203', '38.6521203', '-72.9088133', '117.8902853', '38.6521203', '-72.9088133', '', '38.6521203', '-90.345759', '38.6521203', '-90.345759', '47.8915271', '38.4313975', '38.6521203', '38.6521203', '38.6521203', '-72.3570972', '-70.3028026', '-90.345759', '-90.345759', '', '-72.9088133', '-72.9088133', '-90.345759', '38.6521203', '', '38.6521203', '38.6521203', '-90.345759', '38.6521203', '-72.9088133', '35.7878438', '-81.1308434', '38.6521203', '38.6521203', '-84.0739102', '38.6521203', '-81.1308434', '38.6521203', '-84.0739102', '38.6521203', '', '38.6521203', '-72.9088133', '47.8915271', '-84.0739102', '38.4313975', '-81.1308434', '-72.9088133', '-53.2', '144.2489081', '38.6521203', '-72.9088133', '47.8915271', '-84.0739102', '-72.9088133', '-53.2', '30.0644358', '47.8915271', '-75.0458515', '47.8915271', '-90.345759', '38.6521203', '-72.9088133', '-53.2', '38.6521203', '38.6521203', '38.6521203', '38.6521203', '38.4313975', '38.6521203', '38.6521203', '-90.345759', '-90.345759', '38.6521203', '-84.0739102', '-81.1308434', '-72.9088133', '-72.9088133', '-72.9088133', '-72.9088133', '38.6521203', '-77.3947693', '', '-155.42837009716908', '-79.3666965', '-72.9088133', '38.4313975', '-79.3666965', '117.8902853', '-72.9088133', '38.6521203', '-88.9140683', '-85.2936911', '144.2489081', '38.6521203', '38.6521203', '38.6521203', '23.8222636', '30.0644358', '35.7878438', '30.0644358', '35.7878438', '30.0644358', '29.9324519', '30.0644358', '30.0644358', '29.9324519', '35.7878438', '38.6521203', '38.6521203', '120.9820179', '38.6521203', '38.4313975', '30.0644358', '38.6521203', '38.4313975', '38.6521203', '38.6521203', '38.6521203', '30.0644358', '38.4313975', '38.6521203', '38.6521203', '38.4313975', '-72.9088133', '38.6521203', '-72.9088133', '-75.0458515', '-72.9088133', '-72.9088133', '38.6521203', '-102.0077097', '-72.9088133', '-102.0077097', '-84.0739102', '38.6521203', '38.6521203', '30.0644358', '-72.9088133', '38.6521203', '38.6521203', '-72.9088133', '-81.1308434', '38.6521203', '-75.0458515', '-81.1308434', '-72.9088133', '38.6521203', '-72.9088133', '-72.9088133', '38.6521203', '-90.345759', '-90.345759', '-72.9088133', '-81.1308434', '38.6521203', '38.6521203', '-81.1308434', '38.6521203', '38.4313975', '38.6521203', '38.6521203', '38.6521203', '38.6521203', '144.2489081', '-155.42837009716908', '100.83273', '100.83273', '-72.9088133', '38.6521203', '38.6521203', '38.6521203', '38.4313975', '38.6521203', '38.6521203', '38.6521203', '-84.0739102', '38.6521203', '38.4313975', '-72.9088133', '38.4313975', '-72.9088133', '-155.42837009716908', '47.8915271', '-72.9088133', '-72.9088133', '-72.9088133', '30.0644358', '38.6521203', '-81.1308434', '-84.0739102', '38.4313975', '38.6521203', '38.6521203', '117.8902853', '30.0644358', '-90.345759', '-90.345759', '38.6521203', '117.8902853', '38.6521203', '38.6521203', '-155.42837009716908', '-81.1308434', '-155.42837009716908', '-81.1308434', '-155.42837009716908', '-155.42837009716908', '-86.0755145', '-86.0755145', '-155.42837009716908', '32.2166578', '-72.9088133', '38.6521203', '-72.9088133', '144.2489081', '-72.9088133', '144.2489081', '144.2489081', '47.8915271', '-79.3666965', '-72.9088133', '23.8222636', '-72.9088133', '38.6521203', '-81.1308434', '38.6521203', '-72.9088133', '38.6521203', '-84.0739102', '-72.9088133', '-72.9088133', '', '30.0644358', '38.6521203', '', '-75.0458515', '-72.9088133', '117.8902853', '-155.42837009716908', '-72.9088133', '-53.2', '-155.42837009716908', '100.83273', '-72.9088133', '-72.9088133', '38.6521203', '38.6521203', '23.8222636', '38.6521203', '-75.0458515', '38.6521203', '-84.0739102', '-90.345759', '-81.1308434', '-86.0755145', '-90.345759', '38.6521203', '-84.0739102', '-72.9088133', '120.9820179', '', '38.6521203', '38.4313975', '23.8222636', '38.6521203', '38.4313975', '38.6521203', '-85.2936911', '-72.9088133', '38.6521203', '38.6521203', '-90.345759', '-90.345759', '-102.0077097', '38.6521203', '-90.345759', '38.4313975', '117.8902853', '38.6521203', '-90.345759', '-72.9088133', '-75.0458515', '38.6521203', '100.83273', '-88.9140683', '-88.9140683', '117.8902853', '38.4313975', '38.6521203', '38.6521203', '-75.0458515', '-81.1308434', '-81.1308434', '-84.0739102', '-155.42837009716908', '-155.42837009716908', '38.6521203', '-79.3666965', '38.4313975', '-90.345759', '38.6521203', '38.6521203', '-84.0739102', '30.0644358', '-72.9088133', '-72.9088133', '-72.9088133', '-72.9088133', '-72.9088133', '-72.9088133', '-72.9088133', '-72.9088133', '-72.9088133', '-72.9088133', '-72.9088133', '-72.9088133', '-72.9088133', '-79.3666965', '-72.9088133', '-75.0458515', '', '-86.0755145', '38.6521203', '', '-155.42837009716908', '38.6521203', '38.6521203', '-155.42837009716908', '38.6521203', '38.4313975', '30.0644358', '38.6521203', '38.6521203', '-155.42837009716908', '38.6521203', '120.9820179', '100.83273', '38.4313975', '100.83273', '-90.345759', '38.6521203', '120.9820179', '-75.0458515', '38.6521203', '38.6521203', '38.6521203', '120.9820179', '-72.3570972', '-90.345759', '-72.3570972', '38.6521203', '-90.345759', '-90.345759', '-90.345759', '38.4313975', '-75.0458515', '-75.0458515', '-72.9088133', '-84.0739102', '38.6521203', '-84.0739102', '144.2489081', '38.6521203', '38.6521203', '-155.42837009716908', '-81.1308434', '38.6521203', '38.6521203', '38.6521203', '-75.0458515', '-155.42837009716908', '-90.345759', '100.83273', '-53.2', '29.9324519', '-102.0077097', '-86.0755145', '-86.0755145', '-86.0755145', '38.4313975', '38.6521203', '38.6521203', '38.6521203', '120.9820179', '38.6521203', '-81.1308434', '117.8902853', '-75.0458515', '38.6521203', '-72.9088133', '38.6521203', '', '-75.0458515', '', '-86.0755145', '38.6521203', '23.8222636', '38.6521203', '38.4313975', '-155.42837009716908', '38.6521203', '-155.42837009716908', '-155.42837009716908', '-70.3028026', '-90.345759', '-155.42837009716908', '-155.42837009716908', '-155.42837009716908', '-155.42837009716908', '-81.1308434', '38.6521203', '-81.1308434', '35.7878438', '-155.42837009716908', '-155.42837009716908', '-84.0739102', '-155.42837009716908', '38.6521203', '-72.9088133', '38.4313975', '38.6521203', '38.6521203', '-81.1308434', '-72.9088133', '38.6521203', '38.6521203', '38.6521203', '38.4313975', '38.6521203', '-155.42837009716908', '-155.42837009716908', '-72.9088133', '38.4313975', '38.6521203', '38.6521203', '38.6521203', '38.4313975', '38.4313975', '-81.1308434', '-81.1308434', '-72.9088133', '120.9820179', '-81.1308434', '-81.1308434', '38.4313975', '38.6521203', '38.6521203', '38.6521203', '38.6521203', '38.6521203', '-90.345759', '-90.345759', '-90.345759', '-90.345759', '-90.345759', '-90.345759', '-90.345759', '-90.345759', '38.6521203', '-81.1308434', '-84.0739102', '38.6521203', '38.6521203', '-86.0755145', '38.4313975', '38.6521203', '-84.0739102', '-90.345759', '-90.345759', '-155.42837009716908', '-72.9088133', '38.6521203', '-84.0739102', '-84.0739102', '38.6521203', '-72.9088133', '38.6521203', '-102.0077097', '-72.9088133', '-72.9088133', '38.4313975', '38.4313975', '38.4313975', '38.4313975', '38.4313975', '38.4313975', '38.4313975', '38.4313975', '38.4313975', '38.4313975', '38.4313975', '-86.0755145', '38.6521203', '38.6521203', '38.6521203', '38.6521203', '38.6521203', '38.4313975', '-53.2', '-155.42837009716908', '-155.42837009716908', '-155.42837009716908', '120.9820179', '100.83273', '38.6521203', '-72.9088133', '38.6521203', '-81.1308434', '-86.0755145', '-85.2936911', '-155.42837009716908', '-90.345759', '-84.0739102', '-155.42837009716908', '-155.42837009716908', '38.6521203', '-53.2', '', '38.6521203', '103.3249505', '-84.0739102', '-85.2936911', '-88.9140683', '-90.345759', '-88.9140683', '-90.345759', '-102.0077097', '-86.0755145', '-88.9140683', '-88.9140683', '-90.345759', '-90.345759', '-86.0755145', '-86.0755145', '-86.0755145', '-84.0739102', '38.6521203', '38.6521203', '-155.42837009716908', '-90.345759', '38.6521203', '38.6521203', '-84.0739102', '117.8902853', '38.6521203', '-84.0739102', '144.2489081', '38.6521203', '38.4313975', '-72.9088133', '38.4313975', '-72.9088133', '38.4313975', '38.6521203', '38.4313975', '38.6521203', '38.6521203', '-75.0458515', '38.6521203', '30.0644358', '-90.345759', '-75.0458515', '117.8902853', '-102.0077097', '', '38.6521203', '38.6521203', '38.6521203', '38.4313975', '38.6521203', '38.6521203', '38.6521203', '38.6521203', '38.6521203', '-155.42837009716908', '-155.42837009716908', '-90.345759', '38.6521203', '29.9324519', '-72.9088133', '38.6521203', '-85.2936911', '38.6521203', '38.6521203', '-155.42837009716908', '38.4313975', '35.7878438', '38.4313975', '-72.3570972', '117.8902853', '-72.9088133', '-84.0739102', '-90.345759', '38.6521203', '38.6521203', '-155.42837009716908', '-85.2936911', '-72.9088133', '-84.0739102', '-79.3666965', '30.8875009', '38.6521203', '38.6521203', '38.6521203', '38.6521203', '38.4313975', '-72.9088133', '38.6521203', '-102.0077097', '38.6521203', '38.6521203', '47.8915271', '38.6521203', '104.999927', '38.6521203', '38.6521203', '38.4313975', '38.4313975', '-72.9088133', '23.8222636', '-72.9088133', '', '-72.9088133', '-88.9140683', '-72.9088133', '38.6521203', '120.9820179', '38.6521203', '30.0644358', '38.6521203', '-88.9140683', '-86.0755145', '-84.0739102', '38.6521203', '38.4313975', '38.6521203', '38.6521203', '38.6521203', '-90.345759', '38.6521203', '-88.9140683', '-53.2', '38.4313975', '38.6521203', '38.6521203', '38.6521203', '-84.0739102', '38.6521203', '-72.9088133', '38.6521203', '-155.42837009716908', '38.6521203', '117.8902853', '38.6521203', '-72.9088133', '-75.0458515', '38.6521203', '-88.9140683', '-75.0458515', '-84.0739102', '-155.42837009716908', '38.6521203', '-72.9088133', '117.8902853', '117.8902853', '-90.345759', '120.9820179', '38.6521203', '-72.9088133', '-90.345759', '-81.1308434', '-72.9088133', '38.6521203', '38.4313975', '-155.42837009716908', '-155.42837009716908', '-155.42837009716908', '38.6521203', '117.8902853', '-90.345759', '38.6521203', '-155.42837009716908', '117.8902853', '38.4313975', '38.6521203', '-72.9088133', '-84.0739102', '38.6521203', '-155.42837009716908', '-155.42837009716908', '-64.9912286', '-72.9088133', '38.6521203', '-72.9088133', '-155.42837009716908', '', '-155.42837009716908', '-155.42837009716908', '38.6521203', '38.6521203', '38.6521203', '38.4313975', '-155.42837009716908', '-81.1308434', '117.8902853', '-72.9088133', '-79.3666965', '38.6521203', '38.6521203', '23.8222636', '-72.9088133', '-84.0739102', '30.0644358', '-72.9088133', '-72.9088133', '-72.9088133', '-72.9088133', '38.6521203', '-85.2936911', '38.6521203', '-72.9088133', '47.8915271', '-79.3666965', '-53.2', '30.0644358', '23.8222636', '38.6521203', '30.0644358', '38.6521203', '-155.42837009716908', '-72.9088133', '-86.0755145', '-102.0077097', '38.6521203', '38.6521203', '38.6521203', '38.6521203', '30.0644358', '38.6521203', '38.6521203', '23.8222636', '38.4313975', '-84.0739102', '-72.9088133', '38.4313975', '-72.9088133', '101.62410241439257', '30.0644358', '29.9324519', '-155.42837009716908', '29.9324519', '-72.9088133', '38.4313975', '23.8222636', '23.8222636', '-155.42837009716908', '-84.0739102', '38.6521203', '38.6521203', '-81.1308434', '-81.1308434', '38.6521203', '-90.345759', '', '-155.42837009716908', '38.6521203', '-155.42837009716908', '-155.42837009716908', '38.6521203', '-155.42837009716908', '-75.0458515', '35.7878438', '38.6521203', '38.6521203', '38.4313975', '38.6521203', '38.6521203', '-90.345759', '-84.0739102', '38.6521203', '38.4313975', '38.4313975', '38.6521203', '-81.1308434', '-72.9088133', '-75.0458515', '38.6521203', '38.4313975', '-84.0739102', '38.6521203', '38.6521203', '38.6521203', '-72.9088133', '38.4313975', '-90.345759', '-86.0755145', '38.6521203', '38.6521203', '-90.345759', '-72.9088133', '-72.9088133', '-90.345759', '117.8902853', '-155.42837009716908', '-81.1308434', '38.6521203', '38.6521203', '38.6521203', '-90.345759', '-88.9140683', '38.6521203', '38.6521203', '38.6521203', '46.4416422', '', '-84.0739102', '38.6521203', '38.6521203', '100.83273', '38.6521203', '-79.3666965', '-81.1308434', '38.6521203', '-72.9088133', '38.4313975', '-72.9088133', '-90.345759', '38.4313975', '-88.9140683', '-90.345759', '38.6521203', '117.8902853', '117.8902853', '-53.2', '-155.42837009716908', '-84.0739102', '38.6521203', '-72.9088133', '30.0644358', '-90.345759', '-81.1308434', '38.6521203', '38.4313975', '38.6521203', '38.6521203', '-75.0458515', '38.6521203', '38.6521203', '38.6521203', '38.6521203', '-81.1308434', '38.4313975', '38.6521203', '38.4313975', '38.6521203', '38.4313975', '-90.345759', '38.6521203', '-84.0739102', '38.6521203', '-90.345759', '38.6521203', '-88.9140683', '117.8902853', '-81.1308434', '38.4313975', '38.4313975', '38.6521203', '38.6521203', '-81.1308434', '47.8915271', '-81.1308434', '38.6521203', '38.6521203', '38.4313975', '38.6521203', '38.6521203', '38.4313975', '117.8902853', '38.4313975', '', '-90.345759', '38.6521203', '-84.0739102', '29.9324519', '38.6521203', '-81.1308434', '-88.9140683', '38.6521203', '-81.1308434', '-84.0739102', '-84.0739102', '38.6521203', '-84.0739102', '-72.9088133', '38.6521203', '38.6521203', '-72.9088133', '-84.0739102', '39.886173718161025', '38.4313975', '38.4313975', '-81.1308434', '38.4313975', '-77.3947693', '-90.345759', '-72.9088133', '-81.1308434', '-88.9140683', '-85.2936911', '38.6521203', '-90.345759', '-75.0458515', '38.6521203', '-79.3666965', '38.6521203', '38.4313975', '-90.345759', '38.4313975', '-90.345759', '38.6521203', '38.6521203', '-90.345759', '-90.345759', '-90.345759', '-72.9088133', '117.8902853', '38.6521203', '-81.1308434', '-72.9088133', '-72.9088133', '-81.1308434', '-81.1308434', '-81.1308434', '-72.9088133', '38.6521203', '38.6521203', '38.6521203', '38.6521203', '38.6521203', '153.12561585745573', '', '38.6521203', '38.6521203', '38.6521203', '-81.1308434', '30.0644358', '38.4313975', '38.4313975', '-84.0739102', '38.6521203', '', '38.4313975', '38.6521203', '38.6521203', '-88.9140683', '-88.9140683', '-88.9140683', '-88.9140683', '-88.9140683', '-88.9140683', '-88.9140683', '30.0644358', '38.6521203', '', '38.6521203', '38.6521203', '-90.345759', '38.4313975', '-90.345759', '38.6521203', '38.6521203', '38.4313975', '27.5589884', '38.4313975', '-155.42837009716908', '-72.9088133', '-79.3666965', '-0.5496714590830261', '38.6521203', '-102.0077097', '', '-0.13067022021816063', '38.6521203', '38.6521203', '38.6521203', '38.6521203', '38.4313975', '-72.9088133', '144.2489081', '38.4313975', '38.4313975', '-72.9088133', '38.4313975', '38.6521203', '38.6521203', '38.6521203', '38.6521203', '38.6521203', '-53.2', '-84.0739102', '38.4313975', '-75.0458515', '-90.345759', '-75.0458515', '29.9324519', '-90.345759', '38.6521203', '38.6521203', '38.6521203', '-72.9088133', '117.8902853', '-53.2', '-72.9088133', '-69.5404242', '-72.9088133', '38.6521203', '27.5589884', '38.6521203', '-72.9088133', '-72.9088133', '-72.9088133', '38.6521203', '-88.9140683', '38.4313975', '-155.42837009716908', '-90.345759', '-72.9088133', '-72.9088133', '-72.9088133', '-72.9088133', '29.9324519', '-155.42837009716908', '-155.42837009716908', '-155.42837009716908', '-155.42837009716908', '-155.42837009716908', '-155.42837009716908', '-155.42837009716908', '-155.42837009716908', '-155.42837009716908', '-155.42837009716908', '38.6521203', '-72.9088133', '-72.9088133', '30.0644358', '-72.9088133', '-72.9088133', '38.6521203', '47.8915271', '38.4313975', '102.2656823', '-72.9088133', '23.8222636', '-90.345759', '38.6521203', '30.0644358', '30.0644358', '38.6521203', '', '38.6521203', '30.0644358', '-72.9088133', '-79.3666965', '-72.9088133', '117.8902853', '117.8902853', '117.8902853', '117.8902853', '117.8902853', '117.8902853', '117.8902853', '38.6521203', '35.7878438', '-88.9140683', '38.6521203', '-81.1308434', '38.4313975', '-88.9140683', '-72.9088133', '-53.2', '30.0644358', '38.6521203', '-155.42837009716908', '38.6521203', '38.6521203', '-75.0458515', '-79.3666965', '-75.0458515', '-79.3666965', '-79.3666965', '-79.3666965', '-64.9912286', '-75.0458515', '-75.0458515', '-75.0458515', '-64.9912286', '38.6521203', '-155.42837009716908', '-155.42837009716908', '30.0644358', '-90.345759', '38.6521203', '-84.0739102', '38.4313975', '38.6521203', '-118.755997', '38.6521203', '38.4313975', '30.0644358', '38.6521203', '-84.0739102', '38.4313975', '38.6521203', '117.8902853', '-61.0006565', '-72.9088133', '-61.0006565', '38.6521203', '30.0644358', '30.0644358', '38.6521203', '38.6521203', '38.6521203', '38.6521203', '-72.9088133', '38.4313975', '38.6521203', '35.7878438', '38.6521203', '38.6521203', '-155.42837009716908', '38.6521203', '38.6521203', '38.6521203', '-72.9088133', '38.6521203', '100.83273', '38.4313975', '38.6521203', '38.6521203', '-86.0755145', '23.8222636', '-53.2', '-86.0755145', '38.6521203', '-81.1308434', '-72.9088133', '-72.9088133', '-90.345759', '38.6521203', '38.6521203', '38.4313975', '-53.2', '38.6521203', '-90.345759', '38.6521203', '38.4313975', '117.8902853', '38.4313975', '38.4313975', '38.6521203', '38.6521203', '-81.1308434', '38.6521203', '38.6521203', '-88.9140683', '38.6521203', '-81.1308434', '38.6521203', '-72.9088133', '38.6521203', '-81.1308434', '-81.1308434', '-81.1308434', '-81.1308434', '38.6521203', '38.6521203', '38.6521203', '', '-72.9088133', '-72.9088133', '-72.9088133', '-72.9088133', '38.4313975', '-88.9140683', '38.6521203', '-84.0739102', '-155.42837009716908', '38.4313975', '', '38.4313975', '38.4313975', '38.6521203', '-90.345759', '38.6521203', '117.8902853', '-81.1308434', '-84.0739102', '-90.345759', '-90.345759', '-90.345759', '-90.345759', '-85.2936911', '-90.345759', '-88.9140683', '-85.2936911', '-88.9140683', '-81.1308434', '38.6521203', '38.6521203', '38.6521203', '38.4313975', '-90.345759', '38.6521203', '-88.9140683', '47.8915271', '100.83273', '100.83273', '38.4313975', '-90.345759', '-81.1308434', '-81.1308434', '38.6521203', '32.2166578', '-84.0739102', '-72.9088133', '-72.9088133', '38.4313975', '38.4313975', '38.4313975', '-81.1308434', '38.4313975', '38.4313975', '38.6521203', '38.4313975', '38.4313975', '38.4313975', '38.4313975', '38.6521203', '38.4313975', '-72.9088133', '38.6521203', '38.4313975', '-90.345759', '38.6521203', '38.4313975', '38.6521203', '38.6521203', '38.4313975', '38.6521203', '38.6521203', '38.6521203', '38.6521203', '-90.345759', '38.6521203', '38.6521203', '38.4313975', '-88.9140683', '38.6521203', '38.4313975', '-84.0739102', '38.6521203', '38.6521203', '-72.9088133', '35.7878438', '-84.0739102', '-81.1308434', '38.4313975', '117.8902853', '38.6521203', '38.6521203', '-90.345759', '38.6521203', '38.6521203', '-53.2', '38.6521203', '', '', '38.6521203', '', '38.6521203', '', '-84.0739102', '38.6521203', '38.6521203', '-75.0458515', '', '-72.9088133', '-90.345759', '38.6521203', '-90.345759', '38.6521203', '38.6521203', '-72.9088133', '38.6521203', '-81.1308434', '-53.2', '38.6521203', '-90.345759', '38.6521203', '-72.9088133', '38.4313975', '-72.9088133', '-90.345759', '-72.9088133', '-72.9088133', '-84.0739102', '-88.9140683', '-53.2', '38.6521203', '-84.0739102', '38.6521203', '38.6521203', '38.6521203', '38.6521203', '47.8915271', '-84.0739102', '38.6521203', '38.6521203', '-90.345759', '-72.9088133', '-75.0458515', '-75.0458515', '38.4313975', '-84.0739102', '-88.9140683', '38.4313975', '29.9324519', '38.6521203', '117.8902853', '38.6521203', '27.5589884', '117.8902853', '38.6521203', '38.6521203', '38.6521203', '-75.0458515', '35.7878438', '38.6521203', '', '38.6521203', '38.6521203', '38.6521203', '', '-75.0458515', '', '-90.345759', '38.6521203', '', '38.6521203', '-90.345759', '38.4313975', '38.6521203', '117.8902853', '38.6521203', '29.9324519', '29.9324519', '29.9324519', '30.0644358', '30.0644358', '32.2166578', '29.9324519', '29.9324519', '29.9324519', '29.9324519', '29.9324519', '35.7878438', '23.8222636', '29.9324519', '-90.345759', '38.6521203', '-88.9140683', '29.9324519', '38.6521203', '38.4313975', '38.4313975', '-72.9088133', '29.9324519', '-72.9088133', '38.4313975', '-53.2', '-53.2', '-53.2', '-53.2', '-53.2', '-53.2', '-53.2', '-53.2', '-53.2', '-53.2', '30.0644358', '117.8902853', '29.9324519', '-75.0458515', '38.6521203', '', '30.0644358', '47.8915271', '-81.1308434', '-81.1308434', '38.6521203', '-84.0739102', '38.4313975', '-155.42837009716908', '38.6521203', '-155.42837009716908', '38.6521203', '38.6521203', '-79.3666965', '38.4313975', '38.6521203', '47.8915271', '117.8902853', '117.8902853', '38.4313975', '-72.9088133', '38.6521203', '-72.9088133', '38.6521203', '-72.9088133', '117.8902853', '-81.1308434', '38.6521203', '117.8902853', '29.9324519', '38.6521203', '38.6521203', '-84.0739102', '', '-84.0739102', '-75.0458515', '38.6521203', '38.6521203', '117.8902853', '38.4313975', '38.6521203', '38.6521203', '-85.2936911', '23.8222636', '38.6521203', '117.8902853', '30.0644358', '29.9324519', '117.8902853', '-155.42837009716908', '38.6521203', '-84.0739102', '38.6521203', '38.4313975', '-72.9088133', '38.6521203', '38.6521203', '100.83273', '38.6521203', '-75.0458515', '-88.9140683', '38.4313975', '38.6521203', '117.8902853', '38.6521203', '38.6521203', '38.6521203', '38.6521203', '-90.345759', '-72.9088133', '30.0644358', '38.6521203', '-86.0755145', '38.4313975', '30.0644358', '30.0644358', '38.6521203', '38.6521203', '38.6521203', '-155.42837009716908', '38.6521203', '38.6521203', '-72.9088133', '-90.345759', '-81.1308434', '117.8902853', '-81.1308434', '38.6521203', '-84.0739102', '38.6521203', '-53.2', '-155.42837009716908', '38.6521203', '38.6521203', '38.4313975', '', '100.83273', '117.8902853', '-72.9088133', '-81.1308434', '-81.1308434', '47.8915271', '38.4313975', '-155.42837009716908', '-90.345759', '-85.2936911', '38.4313975', '-86.0755145', '38.4313975', '-86.0755145', '38.4313975', '-72.9088133', '38.4313975', '38.6521203', '38.6521203', '23.8222636', '38.6521203', '38.4313975', '38.4313975', '-85.2936911', '-84.0739102', '38.6521203', '-81.1308434', '-88.9140683', '-81.1308434', '38.4313975', '-81.1308434', '-155.42837009716908', '38.4313975', '-72.9088133', '-81.1308434', '-72.9088133', '38.6521203', '117.8902853', '-155.42837009716908', '38.4313975', '38.4313975', '38.6521203', '38.6521203', '38.6521203', '38.4313975', '-90.345759', '38.4313975', '-88.9140683', '38.4313975', '38.6521203', '', '', '38.6521203', '38.6521203', '38.6521203', '38.6521203', '38.6521203', '38.6521203', '38.6521203', '38.6521203', '38.6521203', '38.6521203', '38.6521203', '38.4313975', '38.6521203', '28.223644660258355', '38.6521203', '', '', '38.6521203', '', '', '38.6521203', '38.6521203', '38.6521203', '', '38.4313975', '38.6521203', '-81.1308434', '-88.9140683', '38.4313975', '-90.345759', '117.8902853', '-81.1308434', '38.6521203', '120.9820179', '38.4313975', '38.6521203', '38.6521203', '38.6521203', '38.6521203', '38.6521203', '38.4313975', '-84.0739102', '-85.2936911', '-85.2936911', '-85.2936911', '-85.2936911', '-85.2936911', '-85.2936911', '-85.2936911', '-85.2936911', '-85.2936911', '-72.9088133', '38.6521203', '38.6521203', '38.6521203', '38.4313975', '-90.345759', '-88.9140683', '38.6521203', '-72.9088133', '38.6521203', '38.6521203', '-102.0077097', '-84.0739102', '-84.0739102', '-72.9088133', '38.6521203', '38.6521203', '-90.345759', '-53.2', '-102.0077097', '-88.9140683', '38.4313975', '-90.345759', '38.6521203', '38.4313975', '32.2166578', '38.6521203', '-86.0755145', '38.6521203', '-72.9088133', '38.4313975', '38.6521203', '38.4313975', '38.6521203', '38.6521203', '38.6521203', '38.6521203', '-81.1308434', '-81.1308434', '-90.345759', '38.6521203', '-90.345759', '-81.1308434', '38.6521203', '-53.2', '-72.9088133', '38.6521203', '-90.345759', '-84.0739102', '38.4313975', '38.6521203', '38.6521203', '38.4313975', '-72.9088133', '38.4313975', '-75.0458515', '38.6521203', '-53.2', '117.8902853', '', '38.6521203', '38.6521203', '', '38.6521203', '117.8902853', '38.6521203', '117.8902853', '38.4313975', '38.6521203', '23.8222636', '38.6521203', '38.6521203', '38.6521203', '-81.1308434', '', '38.6521203', '117.8902853', '38.4313975', '-84.0739102', '38.6521203', '120.9820179', '-72.9088133', '23.8222636', '38.6521203', '-72.9088133', '38.4313975', '-88.9140683', '30.0644358', '38.4313975', '', '-88.9140683', '30.0644358', '30.0644358', '-88.9140683', '-155.42837009716908', '-88.9140683', '30.0644358', '38.4313975', '30.0644358', '-88.9140683', '23.8222636', '-72.9088133', '-155.42837009716908', '-88.9140683', '-79.3666965', '', '', '-155.42837009716908', '117.8902853', '38.4313975', '38.4313975', '-72.9088133', '29.9324519', '-66.4858295', '38.6521203', '-72.9088133', '-85.2936911', '38.6521203', '38.4313975', '-88.9140683', '-155.42837009716908', '117.8902853', '', '-72.9088133', '-53.2', '-72.9088133', '-81.1308434', '-84.0739102', '', '-75.0458515', '38.6521203', '-84.0739102', '38.6521203', '38.4313975', '38.6521203', '-75.0458515', '38.6521203', '-84.0739102', '-53.2', '38.6521203', '29.9324519', '38.6521203', '', '30.0644358', '-72.9088133', '38.6521203', '30.0644358', '-90.345759', '38.6521203', '38.6521203', '38.4313975', '38.6521203', '38.4313975', '38.6521203', '117.8902853', '38.6521203', '38.4313975', '38.6521203', '-155.42837009716908', '38.6521203', '-81.1308434', '-84.0739102', '38.6521203', '117.8902853', '-81.1308434', '47.8915271', '47.8915271', '-72.9088133', '-72.9088133', '38.6521203', '38.6521203', '38.4313975', '38.4313975', '38.4313975', '38.6521203', '38.4313975', '38.6521203', '38.6521203', '144.2489081', '-81.1308434', '30.0644358', '-85.2936911', '-85.2936911', '38.6521203', '38.6521203', '100.83273', '117.8902853', '38.6521203', '-53.2', '-53.2', '-53.2', '-81.1308434', '38.6521203', '117.8902853', '100.83273', '100.83273', '100.83273', '100.83273', '38.6521203', '38.6521203', '38.6521203', '-81.1308434', '38.4313975', '38.6521203', '', '', '153.12561585745573', '-86.0755145', '-90.345759', '-155.42837009716908', '38.6521203', '-81.1308434', '-81.1308434', '38.6521203', '-81.1308434', '38.6521203', '-81.1308434', '38.6521203', '-155.42837009716908', '38.6521203', '-84.0739102', '-84.0739102', '-53.2', '38.6521203', '-84.0739102', '-72.9088133', '-84.0739102', '', '38.6521203', '-81.1308434', '', '38.6521203', '120.9820179', '38.6521203', '-84.0739102', '117.8902853', '38.4313975', '', '38.6521203', '117.8902853', '38.4313975', '117.8902853', '-85.2936911', '38.6521203', '38.6521203', '', '38.4313975', '38.6521203', '-84.0739102', '-72.9088133', '-88.9140683', '117.8902853', '-90.345759', '-81.1308434', '-155.42837009716908', '-155.42837009716908', '38.4313975', '-88.9140683', '38.4313975', '-81.1308434', '-84.0739102', '-90.345759', '-79.3666965', '-85.2936911', '-90.345759', '-72.9088133', '-90.345759', '-81.1308434', '-88.9140683', '38.4313975', '38.6521203', '38.6521203', '-81.1308434', '38.6521203', '38.4313975', '-72.9088133', '-84.0739102', '-90.345759', '38.6521203', '38.6521203', '-84.0739102', '-72.9088133', '38.6521203', '38.6521203', '-155.42837009716908', '38.6521203', '-81.1308434', '38.6521203', '-88.9140683', '38.4313975', '38.4313975', '38.6521203', '-84.0739102', '-84.0739102', '-84.0739102', '-84.0739102', '-84.0739102', '-84.0739102', '-84.0739102', '-84.0739102', '-84.0739102', '-84.0739102', '-84.0739102', '-84.0739102', '-84.0739102', '-81.1308434', '-81.1308434', '38.6521203', '-90.345759', '-72.9088133', '-53.2', '38.6521203', '38.6521203', '-84.0739102', '38.6521203', '95.9999652', '38.6521203', '-64.9912286', '38.4313975', '38.6521203', '38.6521203', '117.8902853', '38.4313975', '38.4313975', '38.4313975', '-81.1308434', '-72.9088133', '-88.9140683', '38.6521203', '38.6521203', '-90.345759', '38.6521203', '38.6521203', '-86.0755145', '38.4313975', '30.0644358', '38.6521203', '-84.0739102', '117.8902853', '-102.0077097', '35.7878438', '47.8915271', '-88.9140683', '-90.345759', '-72.9088133', '-84.0739102', '38.6521203', '-84.0739102', '-72.9088133', '38.6521203', '-84.0739102', '-88.9140683', '30.0644358', '-84.0739102', '-84.0739102', '-88.9140683', '-53.2', '100.83273', '-86.0755145', '-84.0739102', '38.4313975', '38.6521203', '38.4313975', '38.6521203', '38.4313975', '38.4313975', '38.6521203', '38.6521203', '38.4313975', '38.6521203', '38.4313975', '38.4313975', '153.12561585745573', '38.6521203', '38.6521203', '38.4313975', '-72.9088133', '38.4313975', '38.6521203', '-84.0739102', '30.0644358', '38.6521203', '38.6521203', '38.4313975', '38.6521203', '38.6521203', '117.8902853', '117.8902853', '117.8902853', '117.8902853', '117.8902853', '117.8902853', '117.8902853', '117.8902853', '117.8902853', '117.8902853', '117.8902853', '38.6521203', '38.6521203', '-53.2', '-86.0755145', '120.9820179', '38.6521203', '38.6521203', '-81.1308434', '38.6521203', '-81.1308434', '38.6521203', '-72.9088133', '38.6521203', '-90.345759', '-90.345759', '-72.9088133', '-72.9088133', '117.8902853', '-72.9088133', '-84.0739102', '35.7878438', '38.6521203', '38.6521203', '38.4313975', '38.4313975', '-72.9088133', '-72.9088133', '-72.9088133', '38.6521203', '-84.0739102', '32.2166578', '104.999927', '38.6521203', '30.0644358', '-81.1308434', '-72.9088133', '38.6521203', '39.886173718161025', '-72.9088133', '-79.3666965', '-155.42837009716908', '-72.9088133', '-72.9088133', '38.6521203', '-88.9140683', '-53.2', '-53.2', '-53.2', '', '-53.2', '-53.2', '-53.2', '-53.2', '-53.2', '29.7468414', '38.6521203', '', '-72.9088133', '144.2489081', '38.4313975', '23.8222636', '29.9324519', '-81.1308434', '38.6521203', '-79.3666965', '38.6521203', '23.8222636', '-79.3666965', '38.6521203', '-81.1308434', '-155.42837009716908', '38.4313975', '-90.345759', '117.8902853', '38.6521203', '144.2489081', '117.8902853', '30.0644358', '38.6521203', '-72.9088133', '38.6521203', '-64.9912286', '38.6521203', '38.6521203', '-84.0739102', '-72.9088133', '-53.2', '38.6521203', '38.6521203', '38.6521203', '38.6521203', '-90.345759', '38.6521203', '38.6521203', '38.6521203', '38.4313975', '-75.0458515', '', '', '117.8902853', '-72.9088133', '', '', '', '101.62410241439257', '', '', '144.2489081', '-72.9088133', '-79.3666965', '38.4313975', '30.0644358', '-72.9088133', '117.8902853', '38.4313975', '38.6521203', '-72.9088133', '38.6521203', '30.0644358', '-72.9088133', '38.6521203', '-72.9088133', '38.6521203', '38.4313975', '', '-155.42837009716908', '38.6521203', '23.8222636', '-72.9088133', '-72.9088133', '-84.0739102', '-85.2936911', '38.6521203', '-88.9140683', '', '38.6521203', '78.6677428', '-77.3947693', '38.6521203', '38.6521203', '-72.9088133', '38.6521203', '38.6521203', '', '30.0644358', '29.9324519', '-81.1308434', '-84.0739102', '-75.0458515', '38.4313975', '-90.345759', '38.4313975', '-72.9088133', '-72.9088133', '30.0644358', '35.7878438', '38.6521203', '-72.9088133', '-72.9088133', '-72.9088133', '38.4313975', '23.8222636', '38.6521203', '38.6521203', '-86.0755145', '38.4313975', '-84.0739102', '30.0644358', '38.6521203', '38.4313975', '-90.345759', '-81.1308434', '38.6521203', '-53.2', '38.6521203', '38.6521203', '-85.2936911', '38.6521203', '-81.1308434', '-90.345759', '38.6521203', '117.8902853', '-79.3666965', '38.6521203', '-72.9088133', '-90.345759', '38.6521203', '-81.1308434', '38.6521203', '-72.9088133', '-90.345759', '-90.345759', '38.6521203', '38.6521203', '38.4313975', '38.4313975', '-81.1308434', '38.4313975', '38.6521203', '38.6521203', '117.8902853', '38.4313975', '-81.1308434', '39.886173718161025', '-84.0739102', '-81.1308434', '-81.1308434', '38.6521203', '38.6521203', '-85.2936911', '-81.1308434', '38.6521203', '-81.1308434', '-155.42837009716908', '38.6521203', '38.6521203', '144.2489081', '-88.9140683', '38.4313975', '38.6521203', '-81.1308434', '-84.0739102', '-90.345759', '38.6521203', '38.6521203', '-81.1308434', '-84.0739102', '-81.1308434', '-88.9140683', '38.6521203', '38.4313975', '-72.9088133', '-81.1308434', '38.6521203', '38.6521203', '38.4313975', '38.6521203', '38.4313975', '-84.0739102', '-84.0739102', '-90.345759', '-72.9088133', '-72.9088133', '38.6521203', '-85.2936911', '-85.2936911', '-85.2936911', '-85.2936911', '-85.2936911', '103.378253', '-66.4858295', '38.4313975', '-81.1308434', '-90.345759', '38.6521203', '38.6521203', '38.6521203', '38.6521203', '38.6521203', '-90.345759', '-75.0458515', '-90.345759', '-86.0755145', '-90.345759', '-81.1308434', '38.6521203', '-155.42837009716908', '-155.42837009716908', '', '38.6521203', '-84.0739102', '38.6521203', '38.6521203', '-72.9088133', '38.4313975', '38.6521203', '38.6521203', '-81.1308434', '38.4313975', '38.6521203', '-88.9140683', '-90.345759', '-84.0739102', '38.6521203', '29.7468414', '-88.9140683', '-90.345759', '-81.1308434', '-90.345759', '-90.345759', '-90.345759', '-90.345759', '-86.0755145', '-84.0739102', '38.6521203', '-77.3947693', '30.0644358', '-79.3666965', '38.6521203', '29.9324519', '38.6521203', '38.4313975', '38.6521203', '-81.1308434', '38.6521203', '', '-84.0739102', '38.6521203', '38.4313975', '-88.9140683', '38.6521203', '38.4313975', '38.4313975', '38.4313975', '38.4313975', '38.4313975', '38.4313975', '38.4313975', '38.4313975', '38.4313975', '38.4313975', '38.4313975', '-155.42837009716908', '-81.1308434', '117.8902853', '-53.2', '-53.2', '-53.2', '38.6521203', '38.4313975', '38.6521203', '-90.345759', '-72.9088133', '38.6521203', '38.6521203', '38.6521203', '38.6521203', '38.6521203', '-81.1308434', '38.6521203', '38.6521203', '-102.0077097', '38.6521203', '', '', '', '38.6521203', '29.9324519', '38.6521203', '-90.345759', '38.6521203', '-81.1308434', '38.6521203', '38.6521203', '', '-53.2', '38.6521203', '38.6521203', '-90.345759', '38.6521203', '38.6521203', '32.567269167909345', '38.6521203', '38.6521203', '38.6521203', '', '-75.0458515', '38.6521203', '-72.9088133', '35.7878438', '38.4313975', '', '29.9324519', '38.6521203', '38.6521203', '47.8915271', '-90.345759', '-88.9140683', '-90.345759', '38.6521203', '38.4313975', '30.0644358', '-72.9088133', '-53.2', '-72.9088133', '29.9324519', '38.4313975', '-155.42837009716908', '38.6521203', '-102.0077097', '', '38.6521203', '38.4313975', '35.7878438', '-72.9088133', '29.9324519', '-72.9088133', '23.8222636', '144.2489081', '-72.9088133', '-84.0739102', '-72.9088133', '30.0644358', '-84.0739102', '38.6521203', '-85.2936911', '-81.1308434', '38.6521203', '38.6521203', '-81.1308434', '38.6521203', '-81.1308434', '117.8902853', '-90.345759', '-90.345759', '', '-84.0739102', '38.6521203', '38.6521203', '38.4313975', '38.6521203', '-90.345759', '38.6521203', '38.6521203', '-72.9088133', '38.6521203', '38.6521203', '-81.1308434', '-81.1308434', '-90.345759', '-72.9088133', '104.999927', '-72.9088133', '30.0644358', '-72.9088133', '-85.2936911', '-72.9088133', '38.4313975', '38.6521203', '38.6521203', '-81.1308434', '38.6521203', '38.6521203', '117.8902853', '117.8902853', '117.8902853', '117.8902853', '117.8902853', '117.8902853', '117.8902853', '117.8902853', '117.8902853', '117.8902853', '38.6521203', '38.4313975', '-75.0458515', '-72.9088133', '-72.9088133', '-64.9912286', '38.6521203', '-81.1308434', '38.6521203', '38.6521203', '-75.0458515', '-81.1308434', '38.4313975', '38.6521203', '38.4313975', '38.4313975', '38.6521203', '38.6521203', '38.6521203', '38.6521203', '-72.9088133', '29.9324519', '144.2489081', '29.9324519', '38.6521203', '38.6521203', '30.0644358', '-75.0458515', '-72.9088133', '-53.2', '-81.1308434', '-64.9912286', '30.0644358', '38.4313975', '-90.345759', '30.0644358', '38.6521203', '38.6521203', '30.0644358', '38.4313975', '38.4313975', '38.6521203', '', '38.6521203', '-88.9140683', '-72.9088133', '120.9820179', '117.8902853', '-84.0739102', '', '38.6521203', '', '38.6521203', '38.6521203', '', '-81.1308434', '', '38.4313975', '-90.345759', '38.4313975', '38.6521203', '38.6521203', '-84.0739102', '117.8902853', '-81.1308434', '100.83273', '100.83273', '100.83273', '38.6521203', '38.4313975', '-86.0755145', '-90.345759', '38.6521203', '38.6521203', '-155.42837009716908', '38.6521203', '38.4313975', '', '38.4313975', '-72.9088133', '38.6521203', '38.4313975', '100.83273', '-81.1308434', '-88.9140683', '38.6521203', '-81.1308434', '-81.1308434', '153.12561585745573', '-85.2936911', '38.4313975', '38.4313975', '38.6521203', '38.4313975', '-118.755997', '38.4313975', '-90.345759', '-90.345759', '-90.345759', '38.6521203', '38.6521203', '-81.1308434', '38.4313975', '38.6521203', '-84.0739102', '-81.1308434', '117.8902853', '117.8902853', '-84.0739102', '104.999927', '28.223644660258355', '38.4313975', '38.6521203', '117.8902853', '', '-72.9088133', '38.6521203', '38.4313975', '144.2489081', '-72.9088133', '38.4313975', '38.6521203', '38.6521203', '38.4313975', '38.6521203', '-84.0739102', '-81.1308434', '-155.42837009716908', '-85.2936911', '-81.1308434', '-90.345759', '-90.345759', '-81.1308434', '-72.9088133', '38.4313975', '-85.2936911', '-79.3666965', '38.4313975', '117.8902853', '100.83273', '-88.9140683', '30.0644358', '38.6521203', '-72.9088133', '38.6521203', '-90.345759', '38.6521203', '30.0644358', '30.0644358', '-85.2936911', '-102.0077097', '-75.0458515', '-72.9088133', '38.4313975', '38.6521203', '38.6521203', '38.4313975', '38.6521203', '38.4313975', '38.4313975', '38.6521203', '38.4313975', '38.6521203', '-84.0739102', '38.6521203', '-90.345759', '-86.0755145', '38.6521203', '', '-72.9088133', '117.8902853', '38.6521203', '38.4313975', '38.6521203', '38.6521203', '-84.0739102', '38.4313975', '-81.1308434', '38.6521203', '117.8902853', '-155.42837009716908', '-72.9088133', '38.6521203', '-88.9140683', '-81.1308434', '-81.1308434', '-85.2936911', '-81.1308434', '-84.0739102', '-81.1308434', '-84.0739102', '-81.1308434', '-81.1308434', '-84.0739102', '-88.9140683', '-84.0739102', '-88.9140683', '-84.0739102', '-90.345759', '38.4313975', '38.6521203', '-88.9140683', '38.6521203', '-88.9140683', '', '', '-155.42837009716908', '-102.0077097', '117.8902853', '38.6521203', '38.4313975', '38.6521203', '38.4313975', '-90.345759', '-155.42837009716908', '-155.42837009716908', '-155.42837009716908', '-155.42837009716908', '-155.42837009716908', '-155.42837009716908', '-155.42837009716908', '-155.42837009716908', '-155.42837009716908', '38.6521203', '-81.1308434', '38.4313975', '38.6521203', '38.4313975', '38.6521203', '38.6521203', '38.4313975', '38.6521203', '38.6521203', '38.6521203', '38.6521203', '38.6521203', '38.6521203', '29.9324519', '', '', '', '', '-72.9088133', '-81.1308434', '38.4313975', '-84.0739102', '-84.0739102', '-72.9088133', '117.8902853', '38.6521203', '28.223644660258355', '38.6521203', '38.4313975', '-90.345759', '38.6521203', '30.0644358', '-102.0077097', '29.9324519', '-102.0077097', '-72.9088133', '-90.345759', '38.6521203', '-84.0739102', '-53.2', '38.6521203', '', '-72.9088133', '-72.9088133', '144.2489081', '117.8902853', '144.2489081', '117.8902853', '144.2489081', '117.8902853', '117.8902853', '144.2489081', '38.6521203', '38.6521203', '-72.9088133', '-84.0739102', '-75.0458515', '-72.9088133', '38.4313975', '38.6521203', '38.6521203', '38.6521203', '-86.0755145', '-53.2', '-53.2', '30.0644358', '38.4313975', '38.6521203', '38.6521203', '38.6521203', '38.4313975', '-72.9088133', '38.6521203', '35.7878438', '23.8222636', '29.9324519', '-72.9088133', '35.7878438', '-86.0755145', '38.6521203', '38.6521203', '117.8902853', '30.0644358', '30.0644358', '30.0644358', '30.0644358', '30.0644358', '30.0644358', '30.0644358', '38.4313975', '38.6521203', '38.6521203', '38.6521203', '30.0644358', '38.6521203', '-53.2', '-72.9088133', '-72.9088133', '-72.9088133', '-72.9088133', '-72.9088133', '-72.9088133', '-72.9088133', '-72.9088133', '-72.9088133', '-72.9088133', '30.0644358', '', '30.0644358', '', '38.6521203', '-88.9140683', '38.4313975', '', '38.4313975', '', '38.6521203', '38.6521203', '117.8902853', '38.6521203', '117.8902853', '-53.2', '-53.2', '-53.2', '-53.2', '-53.2', '-53.2', '-53.2', '-53.2', '-53.2', '30.0644358', '38.6521203', '120.9820179', '-72.9088133', '', '-90.345759', '117.8902853', '-79.3666965', '-72.9088133', '-90.345759', '38.6521203', '38.6521203', '38.6521203', '38.4313975', '30.0644358', '117.8902853', '-72.9088133', '-79.3666965', '38.4313975', '117.8902853', '38.4313975', '-86.0755145', '', '38.4313975', '35.7878438', '38.6521203', '-88.9140683', '38.6521203', '-90.345759', '', '', '38.6521203', '38.6521203', '38.6521203', '38.6521203', '38.6521203', '38.6521203', '', '38.6521203', '38.6521203', '38.6521203', '-75.0458515', '117.8902853', '38.4313975', '38.6521203', '38.6521203', '38.4313975', '38.6521203', '38.6521203', '117.8902853', '-90.345759', '-69.5404242', '38.6521203', '-72.9088133', '38.6521203', '38.6521203', '-90.345759', '38.6521203', '117.8902853', '120.9820179', '38.4313975', '38.6521203', '-155.42837009716908', '38.6521203', '-81.1308434', '38.4313975', '', '117.8902853', '', '', '117.8902853', '38.6521203', '-72.9088133', '-81.1308434', '38.4313975', '38.6521203', '-81.1308434', '38.4313975', '117.8902853', '-88.9140683', '', '-102.0077097', '-81.1308434', '38.4313975', '144.2489081', '38.6521203', '38.6521203', '', '38.4313975', '38.6521203', '', '-90.345759', '38.4313975', '35.7878438', '38.4313975', '', '117.8902853', '', '', '100.83273', '38.4313975', '47.8915271', '38.6521203', '38.6521203', '38.6521203', '38.6521203', '38.6521203', '38.6521203', '38.6521203', '38.6521203', '38.6521203', '38.6521203', '-90.345759', '38.6521203', '-155.42837009716908', '-155.42837009716908', '-77.3947693', '-77.3947693', '38.4313975', '38.4313975', '-90.345759', '-81.1308434', '-81.1308434', '-155.42837009716908', '-86.0755145', '', '30.0644358', '117.8902853', '-84.0739102', '-81.1308434', '38.6521203', '38.6521203', '-90.345759', '117.8902853', '38.6521203', '-88.9140683', '-155.42837009716908', '-81.1308434', '-81.1308434', '-81.1308434', '-102.0077097', '-88.9140683', '-81.1308434', '38.6521203', '-90.345759', '38.4313975', '38.6521203', '117.8902853', '47.8915271', '-90.345759', '-72.3570972', '38.6521203', '38.4313975', '-88.9140683', '30.0644358', '38.6521203', '-90.345759', '38.6521203', '-72.9088133', '', '-75.0458515', '', '-77.3947693', '-81.1308434', '-81.1308434', '-84.0739102', '38.6521203', '-90.345759', '38.6521203', '-90.345759', '-90.345759', '-90.345759', '-90.345759', '-90.345759', '-90.345759', '-90.345759', '-90.345759', '-90.345759', '-90.345759', '-90.345759', '38.4313975', '38.6521203', '-81.1308434', '38.6521203', '-84.0739102', '-88.9140683', '38.6521203', '-72.9088133', '99.69103752459654', '-102.0077097', '-155.42837009716908', '-155.42837009716908', '38.6521203', '-90.345759', '-155.42837009716908', '38.6521203', '-84.0739102', '-72.9088133', '38.6521203', '38.6521203', '-86.0755145', '-86.0755145', '-86.0755145', '-86.0755145', '-86.0755145', '-86.0755145', '-86.0755145', '-86.0755145', '-86.0755145', '-84.0739102', '-155.42837009716908', '38.4313975', '38.4313975', '38.6521203', '', '38.6521203', '-84.0739102', '-84.0739102', '38.4313975', '-72.9088133', '38.4313975', '-84.0739102', '-81.1308434', '', '-53.2', '', '', '', '-90.345759', '38.6521203', '', '', '39.886173718161025', '-84.0739102', '117.8902853', '', '30.0644358', '', '117.8902853', '38.6521203', '38.6521203', '38.4313975', '-84.0739102', '-86.0755145', '38.6521203', '38.6521203', '38.6521203', '38.4313975', '38.6521203', '117.8902853', '-84.0739102', '38.6521203', '117.8902853', '117.8902853', '117.8902853', '', '117.8902853', '117.8902853', '117.8902853', '117.8902853', '117.8902853', '117.8902853', '117.8902853', '117.8902853', '38.6521203', '-53.2', '100.83273', '38.6521203', '38.4313975', '-72.9088133', '117.8902853', '38.4313975', '-155.42837009716908', '144.2489081', '38.6521203', '-84.0739102', '-79.3666965', '117.8902853', '-84.0739102', '144.2489081', '-102.0077097', '120.9820179', '-102.0077097', '-75.0458515', '-81.1308434', '-64.9912286', '-90.345759', '-88.9140683', '-84.0739102', '38.6521203', '38.6521203', '-90.345759', '38.6521203', '-72.9088133', '38.4313975', '38.6521203', '38.6521203', '-90.345759', '-72.9088133', '38.4313975', '', '38.6521203', '-88.9140683', '', '', '-86.0755145', '', '38.4313975', '120.9820179', '38.6521203', '38.6521203', '-81.1308434', '117.8902853', '-81.1308434', '35.7878438', '-64.9912286', '-79.3666965', '38.6521203', '33.9301963', '-84.0739102', '', '117.8902853', '-72.9088133', '-72.9088133', '117.8902853', '', '', '38.6521203', '117.8902853', '', '117.8902853', '38.4313975', '38.6521203', '', '30.0644358', '144.2489081', '117.8902853', '-75.0458515', '-102.0077097', '-64.9912286', '-64.9912286', '144.2489081', '-61.0006565', '-75.0458515', '38.6521203', '38.4313975', '30.0644358', '-88.9140683', '-64.9912286', '144.2489081', '-155.42837009716908', '100.83273', '-64.9912286', '-64.9912286', '-75.0458515', '-64.9912286', '-79.3666965', '-64.9912286', '-75.0458515', '-64.9912286', '-75.0458515', '-79.3666965', '-155.42837009716908', '-72.9088133', '-90.345759', '-84.0739102', '-72.9088133', '-72.9088133', '-88.9140683', '38.6521203', '29.9324519', '38.6521203', '-53.2', '-72.9088133', '', '117.8902853', '-81.1308434', '29.9324519', '38.4313975', '38.6521203', '-72.9088133', '38.6521203', '29.9324519', '-90.345759', '-85.2936911', '30.0644358', '38.6521203', '117.8902853', '-72.9088133', '-90.345759', '', '38.4313975', '-72.9088133', '-72.9088133', '38.6521203', '-90.345759', '38.6521203', '100.83273', '100.83273', '38.4313975', '38.4313975', '38.4313975', '38.4313975', '-0.13067022021816063', '38.4313975', '-53.2', '', '', '', '-90.345759', '-81.1308434', '-86.0755145', '38.6521203', '38.6521203', '-86.0755145', '38.4313975', '-84.0739102', '-90.345759', '38.6521203', '-90.345759', '-86.0755145', '-86.0755145', '-88.9140683', '-72.3570972', '-90.345759', '38.4313975', '38.6521203', '-79.3666965', '38.4313975', '38.4313975', '117.8902853', '38.6521203', '-102.0077097', '38.6521203', '38.4313975', '38.6521203', '100.83273', '100.83273', '', '-0.13067022021816063', '-0.13067022021816063', '-0.13067022021816063', '-0.13067022021816063', '-0.13067022021816063', '38.6521203', '38.6521203', '38.6521203', '38.6521203', '-90.345759', '-81.1308434', '38.6521203', '38.6521203', '38.6521203', '38.6521203', '38.6521203', '38.6521203', '-88.9140683', '38.4313975', '117.8902853', '', '-72.9088133', '38.6521203', '38.6521203', '30.0644358', '38.6521203', '-81.1308434', '38.4313975', '-81.1308434', '-81.1308434', '-90.345759', '-90.345759', '38.6521203', '38.6521203', '144.2489081', '-81.1308434', '117.8902853', '-72.9088133', '-72.9088133', '-90.345759', '-90.345759', '-90.345759', '-72.9088133', '', '38.6521203', '38.6521203', '38.4313975', '-90.345759', '38.6521203', '-102.0077097', '', '38.4313975', '38.6521203', '-81.1308434', '117.8902853', '-88.9140683', '-86.0755145', '-90.345759', '-86.0755145', '', '-72.9088133', '-72.9088133', '', '', '38.6521203', '38.4313975', '-88.9140683', '38.4313975', '38.6521203', '-84.0739102', '-90.345759', '38.4313975', '38.6521203', '-90.345759', '38.4313975', '38.4313975', '38.6521203', '-90.345759', '28.223644660258355', '38.6521203', '-70.3028026', '30.0644358', '', '-90.345759', '-90.345759', '-53.2', '-88.9140683', '38.6521203', '', '38.6521203', '38.6521203', '-88.9140683', '38.6521203', '-88.9140683', '-81.1308434', '-81.1308434', '38.6521203', '38.4313975', '38.6521203', '117.8902853', '38.6521203', '38.6521203', '-85.2936911', '32.2166578', '-81.1308434', '38.4313975', '-88.9140683', '-84.0739102', '-84.0739102', '-88.9140683', '-85.2936911', '-88.9140683', '-84.0739102', '-88.9140683', '-88.9140683', '-88.9140683', '38.6521203', '-84.0739102', '38.6521203', '-72.9088133', '38.4313975', '38.6521203', '38.6521203', '38.4313975', '38.6521203', '117.8902853', '-81.1308434', '38.4313975', '38.6521203', '-81.1308434', '38.6521203', '100.83273', '', '-155.42837009716908', '', '-81.1308434', '-81.1308434', '-81.1308434', '-81.1308434', '-81.1308434', '-81.1308434', '-81.1308434', '-81.1308434', '-81.1308434', '38.6521203', '-88.9140683', '100.83273', '', '38.4313975', '', '38.6521203', '38.6521203', '-90.345759', '38.4313975', '30.0644358', '38.6521203', '35.7878438', '38.6521203', '117.8902853', '-84.0739102', '39.886173718161025', '', '-155.42837009716908', '30.0644358', '38.6521203', '38.6521203', '', '38.6521203', '-84.0739102', '30.0644358', '117.8902853', '-155.42837009716908', '', '', '-72.9088133', '', '', '', '38.4313975', '120.9820179', '117.8902853', '-72.9088133', '-155.42837009716908', '-90.345759', '117.8902853', '38.6521203', '38.6521203', '-102.0077097', '-53.2', '120.9820179', '-155.42837009716908', '38.4313975', '38.4313975', '38.4313975', '-86.0755145', '-64.9912286', '', '29.9324519', '35.7878438', '35.7878438', '30.0644358', '30.0644358', '29.9324519', '29.9324519', '29.9324519', '30.0644358', '30.0644358', '38.4313975', '-81.1308434', '-53.2', '-72.9088133', '117.8902853', '-155.42837009716908', '-90.345759', '', '38.6521203', '38.4313975', '-53.2', '-155.42837009716908', '38.6521203', '117.8902853', '38.6521203', '38.4313975', '-88.9140683', '38.4313975', '29.9324519', '38.6521203', '-53.2', '-53.2', '-53.2', '-53.2', '-53.2', '-53.2', '-53.2', '-53.2', '-53.2', '-90.345759', '-72.9088133', '-72.9088133', '117.8902853', '29.9324519', '-64.9912286', '-90.345759', '', '117.8902853', '', '30.0644358', '117.8902853', '38.4313975', '38.4313975', '-88.9140683', '-72.9088133', '-72.9088133', '-72.9088133', '-72.9088133', '-72.9088133', '-72.9088133', '-72.9088133', '-72.9088133', '-72.9088133', '-72.9088133', '117.8902853', '38.6521203', '', '', '', '', '117.8902853', '-72.9088133', '', '-64.9912286', '30.0644358', '30.0644358', '', '38.4313975', '38.6521203', '38.4313975', '117.8902853', '38.6521203', '38.4313975', '-88.9140683', '', '-102.0077097', '-90.345759', '117.8902853', '', '', '-80.2304526', '-80.2304526', '', '', '117.8902853', '117.8902853', '-75.0458515', '38.4313975', '38.6521203', '117.8902853', '29.9324519', '-72.9088133', '117.8902853', '', '', '', '-72.9088133', '-90.345759', '', '-102.0077097', '117.8902853', '-53.2', '-72.9088133', '-90.345759', '-155.42837009716908', '-72.9088133', '-155.42837009716908', '', '-72.3570972', '-90.345759', '38.4313975', '-81.1308434', '38.6521203', '-72.9088133', '-70.3028026', '38.4313975', '-75.0458515', '', '117.8902853', '-155.42837009716908', '-86.0755145', '-90.345759', '-85.2936911', '-86.0755145', '38.6521203', '-81.1308434', '38.6521203', '38.6521203', '-88.9140683', '-85.2936911', '-90.345759', '-81.1308434', '-90.345759', '', '-81.1308434', '-53.2', '-72.9088133', '38.4313975', '38.4313975', '38.6521203', '38.6521203', '-90.345759', '', '', '', '-72.9088133', '', '', '', '', '-90.345759', '', '-81.1308434', '-88.9140683', '38.6521203', '-72.9088133', '-90.345759', '-81.1308434', '-81.1308434', '38.6521203', '38.6521203', '38.6521203', '38.6521203', '100.83273', '-84.0739102', '-84.0739102', '38.4313975', '38.6521203', '117.8902853', '117.8902853', '38.6521203', '-88.9140683', '38.6521203', '38.6521203', '-84.0739102', '-90.345759', '38.6521203', '38.6521203', '38.6521203', '-84.0739102', '38.4313975', '-86.0755145', '38.6521203', '-90.345759', '-86.0755145', '38.6521203', '38.4313975', '38.4313975', '38.4313975', '38.4313975', '38.4313975', '38.4313975', '38.4313975', '38.4313975', '38.4313975', '38.4313975', '38.4313975', '38.4313975', '38.4313975', '38.4313975', '-81.1308434', '-102.0077097', '39.886173718161025', '38.4313975', '-88.9140683', '-88.9140683', '-90.345759', '39.886173718161025', '-88.9140683', '-88.9140683', '-84.0739102', '117.8902853', '-84.0739102', '-88.9140683', '-72.9088133', '-84.0739102', '', '', '-90.345759', '117.8902853', '-84.0739102', '38.6521203', '-85.2936911', '-85.2936911', '-85.2936911', '-85.2936911', '-85.2936911', '-85.2936911', '-85.2936911', '38.4313975', '-84.0739102', '-84.0739102', '-84.0739102', '38.4313975', '38.4313975', '38.6521203', '-85.2936911', '-81.1308434', '30.0644358', '-90.345759', '38.4313975', '-90.345759', '-90.345759', '30.0644358', '-102.0077097', '-72.9088133', '38.4313975', '38.6521203', '101.62410241439257', '-90.345759', '100.83273', '-86.0755145', '38.6521203', '38.6521203', '-88.9140683', '38.6521203', '38.6521203', '38.6521203', '-102.0077097', '38.4313975', '-90.345759', '-90.345759', '-88.9140683', '38.4313975', '-90.345759', '-85.2936911', '-64.9912286', '117.8902853', '-53.2', '100.83273', '38.6521203', '29.9324519', '38.4313975', '', '38.4313975', '38.6521203', '38.6521203', '-81.1308434', '-84.0739102', '', '-90.345759', '-72.9088133', '38.6521203', '-90.345759', '117.8902853', '-72.9088133', '38.6521203', '29.9324519', '-72.9088133', '117.8902853', '117.8902853', '29.9324519', '-75.0458515', '-102.0077097', '120.9820179', '-72.9088133', '38.6521203', '-53.2', '29.9324519', '-64.9912286', '38.6521203', '-85.2936911', '-90.345759', '38.4313975', '38.6521203', '29.9324519', '-72.9088133', '-64.9912286', '', '38.6521203', '117.8902853', '35.7878438', '-81.1308434', '30.0644358', '-72.9088133', '-72.9088133', '29.9324519', '4.923084094010079', '', '-72.9088133', '', '117.8902853', '', '', '', '', '-69.5404242', '', '78.6677428', '-72.9088133', '', '', '-72.9088133', '29.9324519', '', '144.2489081', '38.4313975', '38.6521203', '38.6521203', '-79.3666965', '-155.42837009716908', '-86.0755145', '30.0644358', '-53.2', '30.0644358', '', '-64.9912286', '-64.9912286', '-155.42837009716908', '144.2489081', '144.2489081', '38.6521203', '-84.0739102', '29.9324519', '-53.2', '-53.2', '-88.9140683', '-88.9140683', '78.6677428', '38.6521203', '78.6677428', '', '', '', '', '-72.9088133', '-72.9088133', '', '-72.9088133', '-72.9088133', '38.6521203', '-88.9140683', '-88.9140683', '38.4313975', '-88.9140683', '38.6521203', '100.83273', '', '38.6521203', '30.0644358', '-81.1308434', '-84.0739102', '-90.345759', '-72.9088133', '', '-70.3028026', '', '38.6521203', '38.6521203', '-53.2', '117.8902853', '38.6521203', '-84.0739102', '38.6521203', '-72.9088133', '-72.9088133', '-72.9088133', '-72.9088133', '-155.42837009716908', '', '38.6521203', '-72.9088133', '38.4313975', '38.4313975', '30.0644358', '-84.0739102', '-88.9140683', '38.4313975', '', '-70.3028026', '-70.3028026', '38.4313975', '', '38.6521203', '38.4313975', '-90.345759', '38.6521203', '38.6521203', '38.6521203', '38.6521203', '38.6521203', '38.6521203', '38.6521203', '38.6521203', '38.6521203', '38.6521203', '38.6521203', '38.6521203', '117.8902853', '-86.0755145', '38.4313975', '38.6521203', '-86.0755145', '-86.0755145', '-86.0755145', '-155.42837009716908', '38.6521203', '', '-81.1308434', '38.6521203', '-88.9140683', '-88.9140683', '-88.9140683', '-72.9088133', '', '-86.0755145', '-88.9140683', '-84.0739102', '-64.9912286', '-64.9912286', '-88.9140683', '-88.9140683', '-86.0755145', '', '', '', '38.4313975', '38.4313975', '-90.345759', '-88.9140683', '-84.0739102', '-84.0739102', '-88.9140683', '-88.9140683', '', '', '100.83273', '100.83273', '100.83273', '38.6521203', '-72.9088133', '100.83273', '-85.2936911', '-84.0739102', '-88.9140683', '-155.42837009716908', '38.6521203', '38.6521203', '38.6521203', '38.6521203', '-155.42837009716908', '-81.1308434', '38.6521203', '-155.42837009716908', '100.83273', '117.8902853', '-85.2936911', '', '-84.0739102', '', '-85.2936911', '', '', '', '38.6521203', '38.6521203', '38.4313975', '38.6521203', '38.4313975', '38.4313975', '117.8902853', '117.8902853', '', '-85.2936911', '100.83273', '-90.345759', '-90.345759', '-90.345759', '-90.345759', '-90.345759', '-90.345759', '-90.345759', '-90.345759', '-90.345759', '-90.345759', '-90.345759', '-90.345759', '-90.345759', '38.4313975', '38.6521203', '-81.1308434', '38.4313975', '-85.2936911', '-84.0739102', '38.4313975', '-90.345759', '38.4313975', '38.4313975', '-88.9140683', '', '-72.9088133', '-90.345759', '38.4313975', '-88.9140683', '-90.345759', '', '-84.0739102', '38.6521203', '', '-90.345759', '', '', '', '', '38.6521203', '-81.1308434', '-88.9140683', '-86.0755145', '-84.0739102', '-86.0755145', '-84.0739102', '-85.2936911', '', '-81.1308434', '38.6521203', '-90.345759', '38.6521203', '38.4313975', '-155.42837009716908', '-90.345759', '38.6521203', '38.6521203', '38.6521203', '35.7878438', '-90.345759', '-72.9088133', '38.6521203', '-88.9140683', '-88.9140683', '38.6521203', '', '-88.9140683', '38.4313975', '38.6521203', '-85.2936911', '-72.9088133', '-102.0077097', '38.4313975', '', '', '117.8902853', '-72.9088133', '117.8902853', '-53.2', '-72.9088133', '38.4313975', '-90.345759', '-90.345759', '', '', '-53.2', '38.4313975', '-88.9140683', '-90.345759', '38.4313975', '-90.345759', '38.6521203', '117.8902853', '-90.345759', '-90.345759', '-75.0458515', '-75.0458515', '-75.0458515', '-75.0458515', '-64.9912286', '-64.9912286', '-79.3666965', '-64.9912286', '-75.0458515', '-64.9912286', '-64.9912286', '-79.3666965', '-64.9912286', '38.4313975', '144.2489081', '38.6521203', '38.4313975', '38.6521203', '38.6521203', '-72.9088133', '29.9324519', '117.8902853', '-72.9088133', '-53.2', '144.2489081', '27.5589884', '38.6521203', '-102.0077097', '-90.345759', '-84.0739102', '35.7878438', '29.9324519', '-85.2936911', '117.8902853', '27.5589884', '-90.345759', '-72.9088133', '117.8902853', '38.6521203', '-84.0739102', '47.8915271', '38.6521203', '29.9324519', '38.6521203', '-72.9088133', '38.6521203', '', '', '', '', '38.6521203', '78.6677428', '38.6521203', '38.6521203', '-72.9088133', '-53.2', '38.6521203', '-72.9088133', '38.4313975', '-53.2', '-88.9140683', '38.6521203', '117.8902853', '117.8902853', '117.8902853', '117.8902853', '117.8902853', '117.8902853', '117.8902853', '117.8902853', '117.8902853', '117.8902853', '117.8902853', '117.8902853', '117.8902853', '117.8902853', '117.8902853', '38.6521203', '-155.42837009716908', '117.8902853', '-75.0458515', '38.6521203', '-84.0739102', '', '-75.0458515', '38.4313975', '', '38.6521203', '-66.4858295', '-155.42837009716908', '-72.3570972', '-77.3947693', '-155.42837009716908', '-70.3028026', '-155.42837009716908', '-155.42837009716908', '-155.42837009716908', '-155.42837009716908', '-155.42837009716908', '-70.3028026', '-72.9088133', '38.4313975', '38.6521203', '78.6677428', '-64.9912286', '30.0644358']\n"
     ]
    }
   ],
   "source": [
    "#getting lat and lon for coffee_origin locations\n",
    "\n",
    "lat_origin = []\n",
    "lon_origin = []\n",
    "\n",
    "address_list_origin = data_df['coffee_origin'].to_numpy()\n",
    "\n",
    "for address in address_list_origin:\n",
    "    url = 'https://nominatim.openstreetmap.org/search/' + urllib.parse.quote(str(address)) +'?format=json'\n",
    "\n",
    "    try:\n",
    "        response = requests.get(url).json()\n",
    "        lat_origin.append(response[0][\"lat\"])\n",
    "        lon_origin.append(response[0][\"lon\"])\n",
    "    except IndexError:\n",
    "        lat_origin.append('')\n",
    "        lon_origin.append('')\n",
    "\n",
    "print(lat_origin)\n",
    "print(lon_origin)"
   ]
  },
  {
   "cell_type": "code",
   "execution_count": 110,
   "id": "095ac99e",
   "metadata": {},
   "outputs": [],
   "source": [
    "#adding column to dataframe\n",
    "data_df['origin_lat'] = lat_origin"
   ]
  },
  {
   "cell_type": "code",
   "execution_count": 111,
   "id": "97d57c65",
   "metadata": {},
   "outputs": [],
   "source": [
    "#adding column to dataframe\n",
    "data_df['origin_lon'] = lon_origin"
   ]
  },
  {
   "cell_type": "code",
   "execution_count": 112,
   "id": "ec8bb4d1",
   "metadata": {},
   "outputs": [],
   "source": [
    "#drop unneeded agtron column\n",
    "data_df.drop('coffee_origin', axis=1, inplace=True)"
   ]
  },
  {
   "cell_type": "code",
   "execution_count": 113,
   "id": "114ac1e1",
   "metadata": {
    "scrolled": true
   },
   "outputs": [
    {
     "data": {
      "text/html": [
       "<div>\n",
       "<style scoped>\n",
       "    .dataframe tbody tr th:only-of-type {\n",
       "        vertical-align: middle;\n",
       "    }\n",
       "\n",
       "    .dataframe tbody tr th {\n",
       "        vertical-align: top;\n",
       "    }\n",
       "\n",
       "    .dataframe thead th {\n",
       "        text-align: right;\n",
       "    }\n",
       "</style>\n",
       "<table border=\"1\" class=\"dataframe\">\n",
       "  <thead>\n",
       "    <tr style=\"text-align: right;\">\n",
       "      <th></th>\n",
       "      <th>coffee_name</th>\n",
       "      <th>roaster_name</th>\n",
       "      <th>roast_level</th>\n",
       "      <th>overall_score</th>\n",
       "      <th>h1</th>\n",
       "      <th>s1</th>\n",
       "      <th>h2</th>\n",
       "      <th>s2</th>\n",
       "      <th>h3</th>\n",
       "      <th>s3</th>\n",
       "      <th>...</th>\n",
       "      <th>p2</th>\n",
       "      <th>p3</th>\n",
       "      <th>bean_agtron</th>\n",
       "      <th>ground_agtron</th>\n",
       "      <th>year</th>\n",
       "      <th>month</th>\n",
       "      <th>roaster_location_lat</th>\n",
       "      <th>roaster_location_lon</th>\n",
       "      <th>origin_lat</th>\n",
       "      <th>origin_lon</th>\n",
       "    </tr>\n",
       "  </thead>\n",
       "  <tbody>\n",
       "    <tr>\n",
       "      <th>3464</th>\n",
       "      <td>Ganesha Espresso (reviewed for drip applications)</td>\n",
       "      <td>Tony's Coffees &amp; Teas</td>\n",
       "      <td>3</td>\n",
       "      <td>92</td>\n",
       "      <td>Aroma:</td>\n",
       "      <td>8</td>\n",
       "      <td>Acidity:</td>\n",
       "      <td>7</td>\n",
       "      <td>Body:</td>\n",
       "      <td>9</td>\n",
       "      <td>...</td>\n",
       "      <td>Notes: Ganesha Espresso is Tony’s flagship esp...</td>\n",
       "      <td>Who Should Drink It: Those who prefer depth an...</td>\n",
       "      <td>51</td>\n",
       "      <td>62</td>\n",
       "      <td>2014</td>\n",
       "      <td>2</td>\n",
       "      <td>48.7544012</td>\n",
       "      <td>-122.478836</td>\n",
       "      <td></td>\n",
       "      <td></td>\n",
       "    </tr>\n",
       "    <tr>\n",
       "      <th>2639</th>\n",
       "      <td>San Ysidro Costa Rica</td>\n",
       "      <td>Axil Coffee Roasters</td>\n",
       "      <td>1</td>\n",
       "      <td>93</td>\n",
       "      <td>Aroma:</td>\n",
       "      <td>9</td>\n",
       "      <td>Acidity:</td>\n",
       "      <td>8</td>\n",
       "      <td>Body:</td>\n",
       "      <td>9</td>\n",
       "      <td>...</td>\n",
       "      <td>Notes: Produced from the Caturra and Catuai va...</td>\n",
       "      <td>The Bottom Line: A flavor-saturated, floral-to...</td>\n",
       "      <td>68</td>\n",
       "      <td>80</td>\n",
       "      <td>2016</td>\n",
       "      <td>6</td>\n",
       "      <td>-37.8244246</td>\n",
       "      <td>145.0317207</td>\n",
       "      <td>10.2735633</td>\n",
       "      <td>-84.0739102</td>\n",
       "    </tr>\n",
       "    <tr>\n",
       "      <th>3118</th>\n",
       "      <td>Elevasio (Single-Serve Capsule)</td>\n",
       "      <td>Nespresso</td>\n",
       "      <td>6</td>\n",
       "      <td>88</td>\n",
       "      <td>Aroma:</td>\n",
       "      <td>8</td>\n",
       "      <td>Acidity:</td>\n",
       "      <td>7</td>\n",
       "      <td>Body:</td>\n",
       "      <td>8</td>\n",
       "      <td>...</td>\n",
       "      <td>Notes: This coffee was produced in Switzerland...</td>\n",
       "      <td>Who Should Drink It: Those who enjoy the stron...</td>\n",
       "      <td>0</td>\n",
       "      <td>58</td>\n",
       "      <td>2015</td>\n",
       "      <td>2</td>\n",
       "      <td>46.5218269</td>\n",
       "      <td>6.6327025</td>\n",
       "      <td>4.099917</td>\n",
       "      <td>-72.9088133</td>\n",
       "    </tr>\n",
       "    <tr>\n",
       "      <th>2282</th>\n",
       "      <td>Duomo Espresso Northern Italian Style</td>\n",
       "      <td>Black Oak Coffee Roasters</td>\n",
       "      <td>4</td>\n",
       "      <td>91</td>\n",
       "      <td>Aroma:</td>\n",
       "      <td>9</td>\n",
       "      <td>Acidity:</td>\n",
       "      <td>8</td>\n",
       "      <td>Body:</td>\n",
       "      <td>8</td>\n",
       "      <td>...</td>\n",
       "      <td>Notes: A blend designed to reflect the norther...</td>\n",
       "      <td>The Bottom Line: A quiet, accessible darker-ro...</td>\n",
       "      <td>45</td>\n",
       "      <td>55</td>\n",
       "      <td>2017</td>\n",
       "      <td>8</td>\n",
       "      <td>39.1501662</td>\n",
       "      <td>-123.2077861</td>\n",
       "      <td></td>\n",
       "      <td></td>\n",
       "    </tr>\n",
       "    <tr>\n",
       "      <th>488</th>\n",
       "      <td>Ethiopia Worka Sakaro Anaerobic Natural</td>\n",
       "      <td>Red Rock Roasters</td>\n",
       "      <td>3</td>\n",
       "      <td>94</td>\n",
       "      <td>Aroma:</td>\n",
       "      <td>9</td>\n",
       "      <td>Acidity/Structure:</td>\n",
       "      <td>9</td>\n",
       "      <td>Body:</td>\n",
       "      <td>9</td>\n",
       "      <td>...</td>\n",
       "      <td>Notes: Southern Ethiopia coffees like this one...</td>\n",
       "      <td>The Bottom Line: A chocolaty, elegantly bitter...</td>\n",
       "      <td>56</td>\n",
       "      <td>64</td>\n",
       "      <td>2021</td>\n",
       "      <td>11</td>\n",
       "      <td>35.212870949999996</td>\n",
       "      <td>-106.71324849574629</td>\n",
       "      <td>10.2116702</td>\n",
       "      <td>38.6521203</td>\n",
       "    </tr>\n",
       "  </tbody>\n",
       "</table>\n",
       "<p>5 rows × 25 columns</p>\n",
       "</div>"
      ],
      "text/plain": [
       "                                            coffee_name  \\\n",
       "3464  Ganesha Espresso (reviewed for drip applications)   \n",
       "2639                              San Ysidro Costa Rica   \n",
       "3118                    Elevasio (Single-Serve Capsule)   \n",
       "2282              Duomo Espresso Northern Italian Style   \n",
       "488             Ethiopia Worka Sakaro Anaerobic Natural   \n",
       "\n",
       "                   roaster_name  roast_level  overall_score      h1  s1  \\\n",
       "3464      Tony's Coffees & Teas            3             92  Aroma:   8   \n",
       "2639       Axil Coffee Roasters            1             93  Aroma:   9   \n",
       "3118                  Nespresso            6             88  Aroma:   8   \n",
       "2282  Black Oak Coffee Roasters            4             91  Aroma:   9   \n",
       "488           Red Rock Roasters            3             94  Aroma:   9   \n",
       "\n",
       "                      h2  s2     h3  s3  ...  \\\n",
       "3464            Acidity:   7  Body:   9  ...   \n",
       "2639            Acidity:   8  Body:   9  ...   \n",
       "3118            Acidity:   7  Body:   8  ...   \n",
       "2282            Acidity:   8  Body:   8  ...   \n",
       "488   Acidity/Structure:   9  Body:   9  ...   \n",
       "\n",
       "                                                     p2  \\\n",
       "3464  Notes: Ganesha Espresso is Tony’s flagship esp...   \n",
       "2639  Notes: Produced from the Caturra and Catuai va...   \n",
       "3118  Notes: This coffee was produced in Switzerland...   \n",
       "2282  Notes: A blend designed to reflect the norther...   \n",
       "488   Notes: Southern Ethiopia coffees like this one...   \n",
       "\n",
       "                                                     p3 bean_agtron  \\\n",
       "3464  Who Should Drink It: Those who prefer depth an...          51   \n",
       "2639  The Bottom Line: A flavor-saturated, floral-to...          68   \n",
       "3118  Who Should Drink It: Those who enjoy the stron...           0   \n",
       "2282  The Bottom Line: A quiet, accessible darker-ro...          45   \n",
       "488   The Bottom Line: A chocolaty, elegantly bitter...          56   \n",
       "\n",
       "      ground_agtron  year month roaster_location_lat  roaster_location_lon  \\\n",
       "3464             62  2014     2           48.7544012           -122.478836   \n",
       "2639             80  2016     6          -37.8244246           145.0317207   \n",
       "3118             58  2015     2           46.5218269             6.6327025   \n",
       "2282             55  2017     8           39.1501662          -123.2077861   \n",
       "488              64  2021    11   35.212870949999996   -106.71324849574629   \n",
       "\n",
       "      origin_lat   origin_lon  \n",
       "3464                           \n",
       "2639  10.2735633  -84.0739102  \n",
       "3118    4.099917  -72.9088133  \n",
       "2282                           \n",
       "488   10.2116702   38.6521203  \n",
       "\n",
       "[5 rows x 25 columns]"
      ]
     },
     "execution_count": 113,
     "metadata": {},
     "output_type": "execute_result"
    }
   ],
   "source": [
    "#verifying accuracy of column adds\n",
    "data_df.sample(5)"
   ]
  },
  {
   "cell_type": "code",
   "execution_count": 114,
   "id": "722df374",
   "metadata": {},
   "outputs": [
    {
     "name": "stdout",
     "output_type": "stream",
     "text": [
      "<class 'pandas.core.frame.DataFrame'>\n",
      "RangeIndex: 4779 entries, 0 to 4778\n",
      "Data columns (total 25 columns):\n",
      " #   Column                Non-Null Count  Dtype \n",
      "---  ------                --------------  ----- \n",
      " 0   coffee_name           4779 non-null   object\n",
      " 1   roaster_name          4779 non-null   object\n",
      " 2   roast_level           4705 non-null   Int8  \n",
      " 3   overall_score         4779 non-null   int64 \n",
      " 4   h1                    4779 non-null   object\n",
      " 5   s1                    4779 non-null   int64 \n",
      " 6   h2                    4779 non-null   object\n",
      " 7   s2                    4779 non-null   int64 \n",
      " 8   h3                    4779 non-null   object\n",
      " 9   s3                    4779 non-null   int64 \n",
      " 10  h4                    4779 non-null   object\n",
      " 11  s4                    4779 non-null   int64 \n",
      " 12  h5                    4779 non-null   object\n",
      " 13  s5                    4779 non-null   int64 \n",
      " 14  p1                    4779 non-null   object\n",
      " 15  p2                    4779 non-null   object\n",
      " 16  p3                    4773 non-null   object\n",
      " 17  bean_agtron           4742 non-null   Int8  \n",
      " 18  ground_agtron         4743 non-null   Int8  \n",
      " 19  year                  4779 non-null   int64 \n",
      " 20  month                 4779 non-null   int64 \n",
      " 21  roaster_location_lat  4779 non-null   object\n",
      " 22  roaster_location_lon  4779 non-null   object\n",
      " 23  origin_lat            4779 non-null   object\n",
      " 24  origin_lon            4779 non-null   object\n",
      "dtypes: Int8(3), int64(8), object(14)\n",
      "memory usage: 849.5+ KB\n"
     ]
    }
   ],
   "source": [
    "#checking data types\n",
    "data_df.info()"
   ]
  },
  {
   "cell_type": "code",
   "execution_count": 115,
   "id": "9c870044",
   "metadata": {},
   "outputs": [
    {
     "data": {
      "text/plain": [
       "10.2116702             1261\n",
       "1.4419683               479\n",
       "4.099917                431\n",
       "15.5855545              323\n",
       "                        266\n",
       "8.559559                240\n",
       "-2.4833826              229\n",
       "10.2735633              221\n",
       "19.593801499999998      197\n",
       "13.8000382              148\n",
       "-1.9646631              118\n",
       "-10.3333333             112\n",
       "15.2572432               83\n",
       "-6.8699697               82\n",
       "12.6090157               71\n",
       "-3.426449                63\n",
       "23.6585116               52\n",
       "-1.3397668               47\n",
       "14.8971921               45\n",
       "16.3471243               37\n",
       "-5.6816069               37\n",
       "-17.0568696              37\n",
       "-6.5247123               32\n",
       "-2.9814344               28\n",
       "23.9739374               27\n",
       "51.5086102               11\n",
       "19.1399952               10\n",
       "19.0974031                9\n",
       "21.417531150000002        8\n",
       "18.1850507                8\n",
       "1.5333554                 7\n",
       "22.3511148                6\n",
       "-14.5189121               6\n",
       "35.000074                 5\n",
       "-25.746194000000003       4\n",
       "-30.29284845              4\n",
       "18.2247706                3\n",
       "-21.0002179               3\n",
       "-23.1223917               3\n",
       "-0.14329415               3\n",
       "25.7655568                3\n",
       "15.9266657                3\n",
       "36.7014631                2\n",
       "-18.4554963               2\n",
       "4.5693754                 2\n",
       "0.33462785                1\n",
       "20.0171109                1\n",
       "1.6364047                 1\n",
       "-13.2687204               1\n",
       "-18.9249604               1\n",
       "17.1750495                1\n",
       "51.84320865               1\n",
       "-28.503833                1\n",
       "-3.9839496                1\n",
       "11.5024338                1\n",
       "52.38003305               1\n",
       "Name: origin_lat, dtype: int64"
      ]
     },
     "execution_count": 115,
     "metadata": {},
     "output_type": "execute_result"
    }
   ],
   "source": [
    "data_df['origin_lat'].value_counts()"
   ]
  },
  {
   "cell_type": "code",
   "execution_count": 116,
   "id": "40e6aa54",
   "metadata": {},
   "outputs": [],
   "source": [
    "#turning blank into nans\n",
    "data_df['roaster_location_lat'].replace('', np.nan, inplace=True)"
   ]
  },
  {
   "cell_type": "code",
   "execution_count": 117,
   "id": "6e81bcd2",
   "metadata": {},
   "outputs": [],
   "source": [
    "data_df['roaster_location_lat'] = data_df['roaster_location_lat'].astype(float)"
   ]
  },
  {
   "cell_type": "code",
   "execution_count": 118,
   "id": "8b41c89e",
   "metadata": {},
   "outputs": [],
   "source": [
    "#turning blank into nans\n",
    "data_df['roaster_location_lon'].replace('', np.nan, inplace=True)"
   ]
  },
  {
   "cell_type": "code",
   "execution_count": 119,
   "id": "dc9b9a58",
   "metadata": {},
   "outputs": [],
   "source": [
    "data_df['roaster_location_lon'] = data_df['roaster_location_lon'].astype(float)"
   ]
  },
  {
   "cell_type": "code",
   "execution_count": 120,
   "id": "bd6c6949",
   "metadata": {},
   "outputs": [],
   "source": [
    "#turning blank into nans\n",
    "data_df['origin_lat'].replace('', np.nan, inplace=True)"
   ]
  },
  {
   "cell_type": "code",
   "execution_count": 121,
   "id": "94b34f1d",
   "metadata": {},
   "outputs": [],
   "source": [
    "data_df['origin_lat'] = data_df['origin_lat'].astype(float)"
   ]
  },
  {
   "cell_type": "code",
   "execution_count": 122,
   "id": "52b92654",
   "metadata": {},
   "outputs": [],
   "source": [
    "#turning blank into nans\n",
    "data_df['origin_lon'].replace('', np.nan, inplace=True)"
   ]
  },
  {
   "cell_type": "code",
   "execution_count": 123,
   "id": "bd593ae5",
   "metadata": {},
   "outputs": [],
   "source": [
    "data_df['origin_lon'] = data_df['origin_lon'].astype(float)"
   ]
  },
  {
   "cell_type": "code",
   "execution_count": 124,
   "id": "73d7fa0d",
   "metadata": {},
   "outputs": [
    {
     "data": {
      "text/html": [
       "<div>\n",
       "<style scoped>\n",
       "    .dataframe tbody tr th:only-of-type {\n",
       "        vertical-align: middle;\n",
       "    }\n",
       "\n",
       "    .dataframe tbody tr th {\n",
       "        vertical-align: top;\n",
       "    }\n",
       "\n",
       "    .dataframe thead th {\n",
       "        text-align: right;\n",
       "    }\n",
       "</style>\n",
       "<table border=\"1\" class=\"dataframe\">\n",
       "  <thead>\n",
       "    <tr style=\"text-align: right;\">\n",
       "      <th></th>\n",
       "      <th>coffee_name</th>\n",
       "      <th>roaster_name</th>\n",
       "      <th>roast_level</th>\n",
       "      <th>overall_score</th>\n",
       "      <th>h1</th>\n",
       "      <th>s1</th>\n",
       "      <th>h2</th>\n",
       "      <th>s2</th>\n",
       "      <th>h3</th>\n",
       "      <th>s3</th>\n",
       "      <th>...</th>\n",
       "      <th>p2</th>\n",
       "      <th>p3</th>\n",
       "      <th>bean_agtron</th>\n",
       "      <th>ground_agtron</th>\n",
       "      <th>year</th>\n",
       "      <th>month</th>\n",
       "      <th>roaster_location_lat</th>\n",
       "      <th>roaster_location_lon</th>\n",
       "      <th>origin_lat</th>\n",
       "      <th>origin_lon</th>\n",
       "    </tr>\n",
       "  </thead>\n",
       "  <tbody>\n",
       "    <tr>\n",
       "      <th>0</th>\n",
       "      <td>Colombia Cerro Azul Enano</td>\n",
       "      <td>Equator Coffees</td>\n",
       "      <td>2</td>\n",
       "      <td>94</td>\n",
       "      <td>Aroma:</td>\n",
       "      <td>9</td>\n",
       "      <td>Acidity/Structure:</td>\n",
       "      <td>9</td>\n",
       "      <td>Body:</td>\n",
       "      <td>9</td>\n",
       "      <td>...</td>\n",
       "      <td>Notes: Produced at Finca Cerro Azul (also owne...</td>\n",
       "      <td>The Bottom Line:  This rare Enano (dwarf Geish...</td>\n",
       "      <td>60</td>\n",
       "      <td>77</td>\n",
       "      <td>2022</td>\n",
       "      <td>10</td>\n",
       "      <td>37.973535</td>\n",
       "      <td>-122.531087</td>\n",
       "      <td>4.099917</td>\n",
       "      <td>-72.908813</td>\n",
       "    </tr>\n",
       "    <tr>\n",
       "      <th>1</th>\n",
       "      <td>Peru Incahuasi</td>\n",
       "      <td>Press Coffee</td>\n",
       "      <td>2</td>\n",
       "      <td>94</td>\n",
       "      <td>Aroma:</td>\n",
       "      <td>9</td>\n",
       "      <td>Acidity/Structure:</td>\n",
       "      <td>9</td>\n",
       "      <td>Body:</td>\n",
       "      <td>9</td>\n",
       "      <td>...</td>\n",
       "      <td>Notes: Produced at Incahuasi Farm from trees o...</td>\n",
       "      <td>The Bottom Line: Laden with tropical fruit not...</td>\n",
       "      <td>58</td>\n",
       "      <td>78</td>\n",
       "      <td>2022</td>\n",
       "      <td>10</td>\n",
       "      <td>33.448437</td>\n",
       "      <td>-112.074141</td>\n",
       "      <td>-6.869970</td>\n",
       "      <td>-75.045851</td>\n",
       "    </tr>\n",
       "    <tr>\n",
       "      <th>2</th>\n",
       "      <td>Colombia Aponte’s Guardians</td>\n",
       "      <td>Press Coffee</td>\n",
       "      <td>2</td>\n",
       "      <td>93</td>\n",
       "      <td>Aroma:</td>\n",
       "      <td>9</td>\n",
       "      <td>Acidity/Structure:</td>\n",
       "      <td>9</td>\n",
       "      <td>Body:</td>\n",
       "      <td>8</td>\n",
       "      <td>...</td>\n",
       "      <td>Notes: Produced at Aponte Farm from an undiscl...</td>\n",
       "      <td>The Bottom Line: A balanced, inviting washed C...</td>\n",
       "      <td>59</td>\n",
       "      <td>77</td>\n",
       "      <td>2022</td>\n",
       "      <td>10</td>\n",
       "      <td>33.448437</td>\n",
       "      <td>-112.074141</td>\n",
       "      <td>4.099917</td>\n",
       "      <td>-72.908813</td>\n",
       "    </tr>\n",
       "    <tr>\n",
       "      <th>3</th>\n",
       "      <td>Nicaragua Flor de Dalia Natural</td>\n",
       "      <td>Equator Coffees</td>\n",
       "      <td>2</td>\n",
       "      <td>92</td>\n",
       "      <td>Aroma:</td>\n",
       "      <td>8</td>\n",
       "      <td>Acidity/Structure:</td>\n",
       "      <td>8</td>\n",
       "      <td>Body:</td>\n",
       "      <td>9</td>\n",
       "      <td>...</td>\n",
       "      <td>Notes: Produced by smallholding members of the...</td>\n",
       "      <td>The Bottom Line: A refreshing, very sweet natu...</td>\n",
       "      <td>62</td>\n",
       "      <td>78</td>\n",
       "      <td>2022</td>\n",
       "      <td>10</td>\n",
       "      <td>37.973535</td>\n",
       "      <td>-122.531087</td>\n",
       "      <td>12.609016</td>\n",
       "      <td>-85.293691</td>\n",
       "    </tr>\n",
       "    <tr>\n",
       "      <th>4</th>\n",
       "      <td>Ethiopia Bench Maji Geisha G1 Natural</td>\n",
       "      <td>Taster's Coffee</td>\n",
       "      <td>1</td>\n",
       "      <td>93</td>\n",
       "      <td>Aroma:</td>\n",
       "      <td>9</td>\n",
       "      <td>Acidity/Structure:</td>\n",
       "      <td>9</td>\n",
       "      <td>Body:</td>\n",
       "      <td>8</td>\n",
       "      <td>...</td>\n",
       "      <td>Notes: Produced from trees of the admired bota...</td>\n",
       "      <td>The Bottom Line: A quietly confident natural-p...</td>\n",
       "      <td>65</td>\n",
       "      <td>81</td>\n",
       "      <td>2022</td>\n",
       "      <td>10</td>\n",
       "      <td>25.072134</td>\n",
       "      <td>121.679919</td>\n",
       "      <td>10.211670</td>\n",
       "      <td>38.652120</td>\n",
       "    </tr>\n",
       "  </tbody>\n",
       "</table>\n",
       "<p>5 rows × 25 columns</p>\n",
       "</div>"
      ],
      "text/plain": [
       "                             coffee_name     roaster_name  roast_level  \\\n",
       "0              Colombia Cerro Azul Enano  Equator Coffees            2   \n",
       "1                         Peru Incahuasi     Press Coffee            2   \n",
       "2            Colombia Aponte’s Guardians     Press Coffee            2   \n",
       "3        Nicaragua Flor de Dalia Natural  Equator Coffees            2   \n",
       "4  Ethiopia Bench Maji Geisha G1 Natural  Taster's Coffee            1   \n",
       "\n",
       "   overall_score      h1  s1                  h2  s2     h3  s3  ...  \\\n",
       "0             94  Aroma:   9  Acidity/Structure:   9  Body:   9  ...   \n",
       "1             94  Aroma:   9  Acidity/Structure:   9  Body:   9  ...   \n",
       "2             93  Aroma:   9  Acidity/Structure:   9  Body:   8  ...   \n",
       "3             92  Aroma:   8  Acidity/Structure:   8  Body:   9  ...   \n",
       "4             93  Aroma:   9  Acidity/Structure:   9  Body:   8  ...   \n",
       "\n",
       "                                                  p2  \\\n",
       "0  Notes: Produced at Finca Cerro Azul (also owne...   \n",
       "1  Notes: Produced at Incahuasi Farm from trees o...   \n",
       "2  Notes: Produced at Aponte Farm from an undiscl...   \n",
       "3  Notes: Produced by smallholding members of the...   \n",
       "4  Notes: Produced from trees of the admired bota...   \n",
       "\n",
       "                                                  p3 bean_agtron  \\\n",
       "0  The Bottom Line:  This rare Enano (dwarf Geish...          60   \n",
       "1  The Bottom Line: Laden with tropical fruit not...          58   \n",
       "2  The Bottom Line: A balanced, inviting washed C...          59   \n",
       "3  The Bottom Line: A refreshing, very sweet natu...          62   \n",
       "4  The Bottom Line: A quietly confident natural-p...          65   \n",
       "\n",
       "   ground_agtron  year month roaster_location_lat  roaster_location_lon  \\\n",
       "0             77  2022    10            37.973535           -122.531087   \n",
       "1             78  2022    10            33.448437           -112.074141   \n",
       "2             77  2022    10            33.448437           -112.074141   \n",
       "3             78  2022    10            37.973535           -122.531087   \n",
       "4             81  2022    10            25.072134            121.679919   \n",
       "\n",
       "   origin_lat  origin_lon  \n",
       "0    4.099917  -72.908813  \n",
       "1   -6.869970  -75.045851  \n",
       "2    4.099917  -72.908813  \n",
       "3   12.609016  -85.293691  \n",
       "4   10.211670   38.652120  \n",
       "\n",
       "[5 rows x 25 columns]"
      ]
     },
     "execution_count": 124,
     "metadata": {},
     "output_type": "execute_result"
    }
   ],
   "source": [
    "data_df.head()"
   ]
  },
  {
   "cell_type": "code",
   "execution_count": 125,
   "id": "66c5c8ea",
   "metadata": {
    "scrolled": true
   },
   "outputs": [
    {
     "name": "stdout",
     "output_type": "stream",
     "text": [
      "<class 'pandas.core.frame.DataFrame'>\n",
      "RangeIndex: 4779 entries, 0 to 4778\n",
      "Data columns (total 25 columns):\n",
      " #   Column                Non-Null Count  Dtype  \n",
      "---  ------                --------------  -----  \n",
      " 0   coffee_name           4779 non-null   object \n",
      " 1   roaster_name          4779 non-null   object \n",
      " 2   roast_level           4705 non-null   Int8   \n",
      " 3   overall_score         4779 non-null   int64  \n",
      " 4   h1                    4779 non-null   object \n",
      " 5   s1                    4779 non-null   int64  \n",
      " 6   h2                    4779 non-null   object \n",
      " 7   s2                    4779 non-null   int64  \n",
      " 8   h3                    4779 non-null   object \n",
      " 9   s3                    4779 non-null   int64  \n",
      " 10  h4                    4779 non-null   object \n",
      " 11  s4                    4779 non-null   int64  \n",
      " 12  h5                    4779 non-null   object \n",
      " 13  s5                    4779 non-null   int64  \n",
      " 14  p1                    4779 non-null   object \n",
      " 15  p2                    4779 non-null   object \n",
      " 16  p3                    4773 non-null   object \n",
      " 17  bean_agtron           4742 non-null   Int8   \n",
      " 18  ground_agtron         4743 non-null   Int8   \n",
      " 19  year                  4779 non-null   int64  \n",
      " 20  month                 4779 non-null   int64  \n",
      " 21  roaster_location_lat  4738 non-null   float64\n",
      " 22  roaster_location_lon  4738 non-null   float64\n",
      " 23  origin_lat            4513 non-null   float64\n",
      " 24  origin_lon            4513 non-null   float64\n",
      "dtypes: Int8(3), float64(4), int64(8), object(10)\n",
      "memory usage: 849.5+ KB\n"
     ]
    }
   ],
   "source": [
    "#checking data type updates\n",
    "data_df.info()"
   ]
  },
  {
   "cell_type": "markdown",
   "id": "fc202442",
   "metadata": {},
   "source": [
    "### Exploring Header Values to Prep for Sorting them Out"
   ]
  },
  {
   "cell_type": "code",
   "execution_count": 126,
   "id": "e05d5e4f",
   "metadata": {},
   "outputs": [
    {
     "data": {
      "text/plain": [
       "array(['Aroma:', 'Acidity/Structure:', 'Acidity:'], dtype=object)"
      ]
     },
     "execution_count": 126,
     "metadata": {},
     "output_type": "execute_result"
    }
   ],
   "source": [
    "data_df['h1'].unique()"
   ]
  },
  {
   "cell_type": "code",
   "execution_count": 127,
   "id": "c4df1839",
   "metadata": {},
   "outputs": [
    {
     "data": {
      "text/plain": [
       "Aroma:                4743\n",
       "Acidity/Structure:      24\n",
       "Acidity:                12\n",
       "Name: h1, dtype: int64"
      ]
     },
     "execution_count": 127,
     "metadata": {},
     "output_type": "execute_result"
    }
   ],
   "source": [
    "data_df['h1'].value_counts()"
   ]
  },
  {
   "cell_type": "code",
   "execution_count": 128,
   "id": "916b3340",
   "metadata": {},
   "outputs": [],
   "source": [
    "#turning NA into nans\n",
    "data_df['h1'].replace(r'.*(Structure).*', 'Acidity:', inplace = True, regex=True)"
   ]
  },
  {
   "cell_type": "code",
   "execution_count": 129,
   "id": "083af4b5",
   "metadata": {},
   "outputs": [
    {
     "data": {
      "text/plain": [
       "Aroma:      4743\n",
       "Acidity:      36\n",
       "Name: h1, dtype: int64"
      ]
     },
     "execution_count": 129,
     "metadata": {},
     "output_type": "execute_result"
    }
   ],
   "source": [
    "data_df['h1'].value_counts()"
   ]
  },
  {
   "cell_type": "code",
   "execution_count": 130,
   "id": "36b5edd4",
   "metadata": {},
   "outputs": [
    {
     "data": {
      "text/plain": [
       "array(['Acidity/Structure:', 'Body:', 'Acidity:'], dtype=object)"
      ]
     },
     "execution_count": 130,
     "metadata": {},
     "output_type": "execute_result"
    }
   ],
   "source": [
    "data_df['h2'].unique()"
   ]
  },
  {
   "cell_type": "code",
   "execution_count": 131,
   "id": "eb7b476a",
   "metadata": {},
   "outputs": [],
   "source": [
    "#turning NA into nans\n",
    "data_df['h2'].replace(r'.*(Structure).*', 'Acidity:', inplace = True, regex=True)"
   ]
  },
  {
   "cell_type": "code",
   "execution_count": 132,
   "id": "bdfd9007",
   "metadata": {},
   "outputs": [
    {
     "data": {
      "text/plain": [
       "Acidity:    4013\n",
       "Body:        766\n",
       "Name: h2, dtype: int64"
      ]
     },
     "execution_count": 132,
     "metadata": {},
     "output_type": "execute_result"
    }
   ],
   "source": [
    "data_df['h2'].value_counts()"
   ]
  },
  {
   "cell_type": "code",
   "execution_count": 133,
   "id": "97b95329",
   "metadata": {},
   "outputs": [
    {
     "data": {
      "text/plain": [
       "array(['Body:', 'Flavor:'], dtype=object)"
      ]
     },
     "execution_count": 133,
     "metadata": {},
     "output_type": "execute_result"
    }
   ],
   "source": [
    "data_df['h3'].unique()"
   ]
  },
  {
   "cell_type": "code",
   "execution_count": 134,
   "id": "0179f435",
   "metadata": {},
   "outputs": [
    {
     "data": {
      "text/plain": [
       "Body:      4013\n",
       "Flavor:     766\n",
       "Name: h3, dtype: int64"
      ]
     },
     "execution_count": 134,
     "metadata": {},
     "output_type": "execute_result"
    }
   ],
   "source": [
    "data_df['h3'].value_counts()"
   ]
  },
  {
   "cell_type": "code",
   "execution_count": 135,
   "id": "c0c01d0a",
   "metadata": {},
   "outputs": [
    {
     "data": {
      "text/plain": [
       "array(['Flavor:', 'Aftertaste:'], dtype=object)"
      ]
     },
     "execution_count": 135,
     "metadata": {},
     "output_type": "execute_result"
    }
   ],
   "source": [
    "data_df['h4'].unique()"
   ]
  },
  {
   "cell_type": "code",
   "execution_count": 136,
   "id": "449bc46b",
   "metadata": {},
   "outputs": [
    {
     "data": {
      "text/plain": [
       "Flavor:        4013\n",
       "Aftertaste:     766\n",
       "Name: h4, dtype: int64"
      ]
     },
     "execution_count": 136,
     "metadata": {},
     "output_type": "execute_result"
    }
   ],
   "source": [
    "data_df['h4'].value_counts()"
   ]
  },
  {
   "cell_type": "code",
   "execution_count": 137,
   "id": "30d1ffe8",
   "metadata": {},
   "outputs": [
    {
     "data": {
      "text/plain": [
       "array(['Aftertaste:', 'With Milk:'], dtype=object)"
      ]
     },
     "execution_count": 137,
     "metadata": {},
     "output_type": "execute_result"
    }
   ],
   "source": [
    "data_df['h5'].unique()"
   ]
  },
  {
   "cell_type": "code",
   "execution_count": 138,
   "id": "3ba90bef",
   "metadata": {},
   "outputs": [
    {
     "data": {
      "text/plain": [
       "Aftertaste:    4013\n",
       "With Milk:      766\n",
       "Name: h5, dtype: int64"
      ]
     },
     "execution_count": 138,
     "metadata": {},
     "output_type": "execute_result"
    }
   ],
   "source": [
    "data_df['h5'].value_counts()"
   ]
  },
  {
   "cell_type": "markdown",
   "id": "e5e28f9a",
   "metadata": {},
   "source": [
    "**Summary of Header Findings**\n",
    " \n",
    "*Six Options with Counts per Header*\n",
    " \n",
    "- Aroma - 4743 h1\n",
    "- Acidity - 36 h1, 4013 h2\n",
    "- Body - 766 h2, 4013 h3\n",
    "- Flavor - 766 h3, 4013 h4\n",
    "- Aftertaste - 766 h4, 4013 h5\n",
    "- With Milk - 766 h5"
   ]
  },
  {
   "cell_type": "code",
   "execution_count": 139,
   "id": "7cbb7018",
   "metadata": {},
   "outputs": [
    {
     "data": {
      "text/plain": [
       "4743"
      ]
     },
     "execution_count": 139,
     "metadata": {},
     "output_type": "execute_result"
    }
   ],
   "source": [
    "aroma_count = 4743\n",
    "aroma_count"
   ]
  },
  {
   "cell_type": "code",
   "execution_count": 140,
   "id": "cc662f38",
   "metadata": {},
   "outputs": [
    {
     "data": {
      "text/plain": [
       "4049"
      ]
     },
     "execution_count": 140,
     "metadata": {},
     "output_type": "execute_result"
    }
   ],
   "source": [
    "acidity_count = 36+4013\n",
    "acidity_count"
   ]
  },
  {
   "cell_type": "code",
   "execution_count": 141,
   "id": "dcac06a4",
   "metadata": {},
   "outputs": [
    {
     "data": {
      "text/plain": [
       "4779"
      ]
     },
     "execution_count": 141,
     "metadata": {},
     "output_type": "execute_result"
    }
   ],
   "source": [
    "body_count = 766+4013\n",
    "body_count"
   ]
  },
  {
   "cell_type": "code",
   "execution_count": 142,
   "id": "4425abf6",
   "metadata": {},
   "outputs": [
    {
     "data": {
      "text/plain": [
       "4779"
      ]
     },
     "execution_count": 142,
     "metadata": {},
     "output_type": "execute_result"
    }
   ],
   "source": [
    "flavor_count = 766+4013\n",
    "flavor_count"
   ]
  },
  {
   "cell_type": "code",
   "execution_count": 143,
   "id": "90cda68a",
   "metadata": {},
   "outputs": [
    {
     "data": {
      "text/plain": [
       "4779"
      ]
     },
     "execution_count": 143,
     "metadata": {},
     "output_type": "execute_result"
    }
   ],
   "source": [
    "aftertaste_count = 766+4013\n",
    "aftertaste_count"
   ]
  },
  {
   "cell_type": "code",
   "execution_count": 144,
   "id": "e3ff0fd8",
   "metadata": {},
   "outputs": [
    {
     "data": {
      "text/plain": [
       "766"
      ]
     },
     "execution_count": 144,
     "metadata": {},
     "output_type": "execute_result"
    }
   ],
   "source": [
    "with_milk = 766\n",
    "with_milk"
   ]
  },
  {
   "cell_type": "code",
   "execution_count": 145,
   "id": "d82e7cd1",
   "metadata": {},
   "outputs": [
    {
     "data": {
      "text/html": [
       "<div>\n",
       "<style scoped>\n",
       "    .dataframe tbody tr th:only-of-type {\n",
       "        vertical-align: middle;\n",
       "    }\n",
       "\n",
       "    .dataframe tbody tr th {\n",
       "        vertical-align: top;\n",
       "    }\n",
       "\n",
       "    .dataframe thead th {\n",
       "        text-align: right;\n",
       "    }\n",
       "</style>\n",
       "<table border=\"1\" class=\"dataframe\">\n",
       "  <thead>\n",
       "    <tr style=\"text-align: right;\">\n",
       "      <th></th>\n",
       "      <th>coffee_name</th>\n",
       "      <th>roaster_name</th>\n",
       "      <th>roast_level</th>\n",
       "      <th>overall_score</th>\n",
       "      <th>h1</th>\n",
       "      <th>s1</th>\n",
       "      <th>h2</th>\n",
       "      <th>s2</th>\n",
       "      <th>h3</th>\n",
       "      <th>s3</th>\n",
       "      <th>...</th>\n",
       "      <th>p2</th>\n",
       "      <th>p3</th>\n",
       "      <th>bean_agtron</th>\n",
       "      <th>ground_agtron</th>\n",
       "      <th>year</th>\n",
       "      <th>month</th>\n",
       "      <th>roaster_location_lat</th>\n",
       "      <th>roaster_location_lon</th>\n",
       "      <th>origin_lat</th>\n",
       "      <th>origin_lon</th>\n",
       "    </tr>\n",
       "  </thead>\n",
       "  <tbody>\n",
       "    <tr>\n",
       "      <th>0</th>\n",
       "      <td>Colombia Cerro Azul Enano</td>\n",
       "      <td>Equator Coffees</td>\n",
       "      <td>2</td>\n",
       "      <td>94</td>\n",
       "      <td>Aroma:</td>\n",
       "      <td>9</td>\n",
       "      <td>Acidity:</td>\n",
       "      <td>9</td>\n",
       "      <td>Body:</td>\n",
       "      <td>9</td>\n",
       "      <td>...</td>\n",
       "      <td>Notes: Produced at Finca Cerro Azul (also owne...</td>\n",
       "      <td>The Bottom Line:  This rare Enano (dwarf Geish...</td>\n",
       "      <td>60</td>\n",
       "      <td>77</td>\n",
       "      <td>2022</td>\n",
       "      <td>10</td>\n",
       "      <td>37.973535</td>\n",
       "      <td>-122.531087</td>\n",
       "      <td>4.099917</td>\n",
       "      <td>-72.908813</td>\n",
       "    </tr>\n",
       "    <tr>\n",
       "      <th>1</th>\n",
       "      <td>Peru Incahuasi</td>\n",
       "      <td>Press Coffee</td>\n",
       "      <td>2</td>\n",
       "      <td>94</td>\n",
       "      <td>Aroma:</td>\n",
       "      <td>9</td>\n",
       "      <td>Acidity:</td>\n",
       "      <td>9</td>\n",
       "      <td>Body:</td>\n",
       "      <td>9</td>\n",
       "      <td>...</td>\n",
       "      <td>Notes: Produced at Incahuasi Farm from trees o...</td>\n",
       "      <td>The Bottom Line: Laden with tropical fruit not...</td>\n",
       "      <td>58</td>\n",
       "      <td>78</td>\n",
       "      <td>2022</td>\n",
       "      <td>10</td>\n",
       "      <td>33.448437</td>\n",
       "      <td>-112.074141</td>\n",
       "      <td>-6.869970</td>\n",
       "      <td>-75.045851</td>\n",
       "    </tr>\n",
       "    <tr>\n",
       "      <th>2</th>\n",
       "      <td>Colombia Aponte’s Guardians</td>\n",
       "      <td>Press Coffee</td>\n",
       "      <td>2</td>\n",
       "      <td>93</td>\n",
       "      <td>Aroma:</td>\n",
       "      <td>9</td>\n",
       "      <td>Acidity:</td>\n",
       "      <td>9</td>\n",
       "      <td>Body:</td>\n",
       "      <td>8</td>\n",
       "      <td>...</td>\n",
       "      <td>Notes: Produced at Aponte Farm from an undiscl...</td>\n",
       "      <td>The Bottom Line: A balanced, inviting washed C...</td>\n",
       "      <td>59</td>\n",
       "      <td>77</td>\n",
       "      <td>2022</td>\n",
       "      <td>10</td>\n",
       "      <td>33.448437</td>\n",
       "      <td>-112.074141</td>\n",
       "      <td>4.099917</td>\n",
       "      <td>-72.908813</td>\n",
       "    </tr>\n",
       "    <tr>\n",
       "      <th>3</th>\n",
       "      <td>Nicaragua Flor de Dalia Natural</td>\n",
       "      <td>Equator Coffees</td>\n",
       "      <td>2</td>\n",
       "      <td>92</td>\n",
       "      <td>Aroma:</td>\n",
       "      <td>8</td>\n",
       "      <td>Acidity:</td>\n",
       "      <td>8</td>\n",
       "      <td>Body:</td>\n",
       "      <td>9</td>\n",
       "      <td>...</td>\n",
       "      <td>Notes: Produced by smallholding members of the...</td>\n",
       "      <td>The Bottom Line: A refreshing, very sweet natu...</td>\n",
       "      <td>62</td>\n",
       "      <td>78</td>\n",
       "      <td>2022</td>\n",
       "      <td>10</td>\n",
       "      <td>37.973535</td>\n",
       "      <td>-122.531087</td>\n",
       "      <td>12.609016</td>\n",
       "      <td>-85.293691</td>\n",
       "    </tr>\n",
       "    <tr>\n",
       "      <th>4</th>\n",
       "      <td>Ethiopia Bench Maji Geisha G1 Natural</td>\n",
       "      <td>Taster's Coffee</td>\n",
       "      <td>1</td>\n",
       "      <td>93</td>\n",
       "      <td>Aroma:</td>\n",
       "      <td>9</td>\n",
       "      <td>Acidity:</td>\n",
       "      <td>9</td>\n",
       "      <td>Body:</td>\n",
       "      <td>8</td>\n",
       "      <td>...</td>\n",
       "      <td>Notes: Produced from trees of the admired bota...</td>\n",
       "      <td>The Bottom Line: A quietly confident natural-p...</td>\n",
       "      <td>65</td>\n",
       "      <td>81</td>\n",
       "      <td>2022</td>\n",
       "      <td>10</td>\n",
       "      <td>25.072134</td>\n",
       "      <td>121.679919</td>\n",
       "      <td>10.211670</td>\n",
       "      <td>38.652120</td>\n",
       "    </tr>\n",
       "  </tbody>\n",
       "</table>\n",
       "<p>5 rows × 25 columns</p>\n",
       "</div>"
      ],
      "text/plain": [
       "                             coffee_name     roaster_name  roast_level  \\\n",
       "0              Colombia Cerro Azul Enano  Equator Coffees            2   \n",
       "1                         Peru Incahuasi     Press Coffee            2   \n",
       "2            Colombia Aponte’s Guardians     Press Coffee            2   \n",
       "3        Nicaragua Flor de Dalia Natural  Equator Coffees            2   \n",
       "4  Ethiopia Bench Maji Geisha G1 Natural  Taster's Coffee            1   \n",
       "\n",
       "   overall_score      h1  s1        h2  s2     h3  s3  ...  \\\n",
       "0             94  Aroma:   9  Acidity:   9  Body:   9  ...   \n",
       "1             94  Aroma:   9  Acidity:   9  Body:   9  ...   \n",
       "2             93  Aroma:   9  Acidity:   9  Body:   8  ...   \n",
       "3             92  Aroma:   8  Acidity:   8  Body:   9  ...   \n",
       "4             93  Aroma:   9  Acidity:   9  Body:   8  ...   \n",
       "\n",
       "                                                  p2  \\\n",
       "0  Notes: Produced at Finca Cerro Azul (also owne...   \n",
       "1  Notes: Produced at Incahuasi Farm from trees o...   \n",
       "2  Notes: Produced at Aponte Farm from an undiscl...   \n",
       "3  Notes: Produced by smallholding members of the...   \n",
       "4  Notes: Produced from trees of the admired bota...   \n",
       "\n",
       "                                                  p3 bean_agtron  \\\n",
       "0  The Bottom Line:  This rare Enano (dwarf Geish...          60   \n",
       "1  The Bottom Line: Laden with tropical fruit not...          58   \n",
       "2  The Bottom Line: A balanced, inviting washed C...          59   \n",
       "3  The Bottom Line: A refreshing, very sweet natu...          62   \n",
       "4  The Bottom Line: A quietly confident natural-p...          65   \n",
       "\n",
       "   ground_agtron  year month roaster_location_lat  roaster_location_lon  \\\n",
       "0             77  2022    10            37.973535           -122.531087   \n",
       "1             78  2022    10            33.448437           -112.074141   \n",
       "2             77  2022    10            33.448437           -112.074141   \n",
       "3             78  2022    10            37.973535           -122.531087   \n",
       "4             81  2022    10            25.072134            121.679919   \n",
       "\n",
       "   origin_lat  origin_lon  \n",
       "0    4.099917  -72.908813  \n",
       "1   -6.869970  -75.045851  \n",
       "2    4.099917  -72.908813  \n",
       "3   12.609016  -85.293691  \n",
       "4   10.211670   38.652120  \n",
       "\n",
       "[5 rows x 25 columns]"
      ]
     },
     "execution_count": 145,
     "metadata": {},
     "output_type": "execute_result"
    }
   ],
   "source": [
    "data_df.head()"
   ]
  },
  {
   "cell_type": "code",
   "execution_count": 146,
   "id": "43430500",
   "metadata": {},
   "outputs": [],
   "source": [
    "#creating placeholder for aroma scores\n",
    "data_df['aroma_hold'] = data_df['h1'] + data_df['s1'].map(str)"
   ]
  },
  {
   "cell_type": "code",
   "execution_count": 147,
   "id": "61e9e448",
   "metadata": {},
   "outputs": [],
   "source": [
    "#creating placeholder for acidity scores\n",
    "data_df['acidity_hold'] = data_df['h1'] + data_df['s1'].map(str)"
   ]
  },
  {
   "cell_type": "code",
   "execution_count": 148,
   "id": "62b98470",
   "metadata": {},
   "outputs": [],
   "source": [
    "#removing acidity from aroma column\n",
    "data_df['aroma_hold'].replace(r'.*(cidit).*', np.nan, inplace = True, regex=True)"
   ]
  },
  {
   "cell_type": "code",
   "execution_count": 149,
   "id": "8ef38cd9",
   "metadata": {},
   "outputs": [
    {
     "data": {
      "text/plain": [
       "Aroma:9     3194\n",
       "Aroma:8     1301\n",
       "Aroma:7      119\n",
       "Aroma:10      95\n",
       "Aroma:6       15\n",
       "Aroma:5        9\n",
       "Aroma:4        5\n",
       "Aroma:2        3\n",
       "Aroma:3        2\n",
       "Name: aroma_hold, dtype: int64"
      ]
     },
     "execution_count": 149,
     "metadata": {},
     "output_type": "execute_result"
    }
   ],
   "source": [
    "#checking counts\n",
    "data_df['aroma_hold'].value_counts()"
   ]
  },
  {
   "cell_type": "code",
   "execution_count": 150,
   "id": "256e5c28",
   "metadata": {},
   "outputs": [],
   "source": [
    "#extracting aroma ratings\n",
    "data_df['aroma'] = data_df['aroma_hold'].str.extract(r'([0-9]+)')"
   ]
  },
  {
   "cell_type": "code",
   "execution_count": 151,
   "id": "011ac3ce",
   "metadata": {},
   "outputs": [
    {
     "data": {
      "text/plain": [
       "4743"
      ]
     },
     "execution_count": 151,
     "metadata": {},
     "output_type": "execute_result"
    }
   ],
   "source": [
    "#verifying the correct number of aroma ratings are remaining\n",
    "data_df['aroma'].value_counts().sum()"
   ]
  },
  {
   "cell_type": "code",
   "execution_count": 152,
   "id": "d02cdd83",
   "metadata": {},
   "outputs": [],
   "source": [
    "#drop unneeded agtron column\n",
    "data_df.drop('aroma_hold', axis=1, inplace=True)"
   ]
  },
  {
   "cell_type": "code",
   "execution_count": 153,
   "id": "d40f21b0",
   "metadata": {},
   "outputs": [
    {
     "data": {
      "text/plain": [
       "Aroma:9      3194\n",
       "Aroma:8      1301\n",
       "Aroma:7       119\n",
       "Aroma:10       95\n",
       "Acidity:8      21\n",
       "Aroma:6        15\n",
       "Acidity:9      13\n",
       "Aroma:5         9\n",
       "Aroma:4         5\n",
       "Aroma:2         3\n",
       "Aroma:3         2\n",
       "Acidity:7       2\n",
       "Name: acidity_hold, dtype: int64"
      ]
     },
     "execution_count": 153,
     "metadata": {},
     "output_type": "execute_result"
    }
   ],
   "source": [
    "#checking counts\n",
    "data_df['acidity_hold'].value_counts()"
   ]
  },
  {
   "cell_type": "code",
   "execution_count": 154,
   "id": "01e249d9",
   "metadata": {},
   "outputs": [],
   "source": [
    "#removing acidity from aroma column\n",
    "data_df['acidity_hold'].replace(r'.*(roma).*', np.nan, inplace = True, regex=True)"
   ]
  },
  {
   "cell_type": "code",
   "execution_count": 155,
   "id": "a13600b6",
   "metadata": {},
   "outputs": [],
   "source": [
    "#creating placeholder for aroma scores\n",
    "data_df['acidity2_hold'] = data_df['h2'] + data_df['s2'].map(str)"
   ]
  },
  {
   "cell_type": "code",
   "execution_count": 156,
   "id": "21b1aff7",
   "metadata": {},
   "outputs": [
    {
     "data": {
      "text/plain": [
       "Acidity:8     2028\n",
       "Acidity:9     1639\n",
       "Body:8         409\n",
       "Body:9         313\n",
       "Acidity:7      285\n",
       "Body:7          42\n",
       "Acidity:6       26\n",
       "Acidity:10      15\n",
       "Acidity:4        6\n",
       "Acidity:3        5\n",
       "Acidity:5        5\n",
       "Body:6           2\n",
       "Acidity:1        2\n",
       "Acidity:2        2\n",
       "Name: acidity2_hold, dtype: int64"
      ]
     },
     "execution_count": 156,
     "metadata": {},
     "output_type": "execute_result"
    }
   ],
   "source": [
    "#checking counts\n",
    "data_df['acidity2_hold'].value_counts()"
   ]
  },
  {
   "cell_type": "code",
   "execution_count": 157,
   "id": "bf88ec4c",
   "metadata": {},
   "outputs": [],
   "source": [
    "#removing acidity from aroma column\n",
    "data_df['acidity2_hold'].replace(r'.*(ody).*', np.nan, inplace = True, regex=True)"
   ]
  },
  {
   "cell_type": "code",
   "execution_count": 158,
   "id": "cbdb2de1",
   "metadata": {},
   "outputs": [],
   "source": [
    "#creating placeholder for aroma scores\n",
    "data_df['acidity_combo'] = data_df['acidity_hold'].map(str) + ' ' + data_df['acidity2_hold'].map(str)"
   ]
  },
  {
   "cell_type": "code",
   "execution_count": 159,
   "id": "eb9af272",
   "metadata": {},
   "outputs": [
    {
     "data": {
      "text/plain": [
       "nan Acidity:8     2028\n",
       "nan Acidity:9     1639\n",
       "nan nan            730\n",
       "nan Acidity:7      285\n",
       "nan Acidity:6       26\n",
       "Acidity:8 nan       21\n",
       "nan Acidity:10      15\n",
       "Acidity:9 nan       13\n",
       "nan Acidity:4        6\n",
       "nan Acidity:3        5\n",
       "nan Acidity:5        5\n",
       "nan Acidity:1        2\n",
       "nan Acidity:2        2\n",
       "Acidity:7 nan        2\n",
       "Name: acidity_combo, dtype: int64"
      ]
     },
     "execution_count": 159,
     "metadata": {},
     "output_type": "execute_result"
    }
   ],
   "source": [
    "data_df['acidity_combo'].value_counts()"
   ]
  },
  {
   "cell_type": "code",
   "execution_count": 160,
   "id": "6f85ea25",
   "metadata": {},
   "outputs": [],
   "source": [
    "#extracting aroma ratings\n",
    "data_df['acidity'] = data_df['acidity_combo'].str.extract(r'([0-9]+)')"
   ]
  },
  {
   "cell_type": "code",
   "execution_count": 161,
   "id": "d92760f2",
   "metadata": {},
   "outputs": [
    {
     "data": {
      "text/plain": [
       "8     2049\n",
       "9     1652\n",
       "7      287\n",
       "6       26\n",
       "10      15\n",
       "4        6\n",
       "3        5\n",
       "5        5\n",
       "1        2\n",
       "2        2\n",
       "Name: acidity, dtype: int64"
      ]
     },
     "execution_count": 161,
     "metadata": {},
     "output_type": "execute_result"
    }
   ],
   "source": [
    "#verifying updates\n",
    "data_df['acidity'].value_counts()"
   ]
  },
  {
   "cell_type": "code",
   "execution_count": 162,
   "id": "f59fba6f",
   "metadata": {},
   "outputs": [],
   "source": [
    "#drop unneeded columns\n",
    "data_df.drop(['acidity_combo', 'acidity2_hold', 'acidity_hold'], axis=1, inplace=True)"
   ]
  },
  {
   "cell_type": "code",
   "execution_count": 163,
   "id": "fbfb0414",
   "metadata": {},
   "outputs": [],
   "source": [
    "#creating placeholder for body scores\n",
    "data_df['body_hold'] = data_df['h2'] + data_df['s2'].map(str)"
   ]
  },
  {
   "cell_type": "code",
   "execution_count": 164,
   "id": "58617055",
   "metadata": {},
   "outputs": [],
   "source": [
    "#removing acidity from body column\n",
    "data_df['body_hold'].replace(r'.*(cidit).*', np.nan, inplace = True, regex=True)"
   ]
  },
  {
   "cell_type": "code",
   "execution_count": 165,
   "id": "1a79f95f",
   "metadata": {},
   "outputs": [],
   "source": [
    "#creating 2nd placeholder for body scores\n",
    "data_df['body2_hold'] = data_df['h3'] + data_df['s3'].map(str)"
   ]
  },
  {
   "cell_type": "code",
   "execution_count": 166,
   "id": "3cdfb797",
   "metadata": {},
   "outputs": [],
   "source": [
    "#combining body scores\n",
    "data_df['body_combo'] = data_df['body_hold'].map(str) + ' ' + data_df['body2_hold'].map(str)"
   ]
  },
  {
   "cell_type": "code",
   "execution_count": 167,
   "id": "46c42581",
   "metadata": {},
   "outputs": [],
   "source": [
    "#extracting body ratings\n",
    "data_df['body'] = data_df['body_combo'].str.extract(r'([0-9]+)')"
   ]
  },
  {
   "cell_type": "code",
   "execution_count": 168,
   "id": "3292f392",
   "metadata": {},
   "outputs": [],
   "source": [
    "#drop unneeded columns\n",
    "data_df.drop(['body_combo', 'body2_hold', 'body_hold'], axis=1, inplace=True)"
   ]
  },
  {
   "cell_type": "code",
   "execution_count": 169,
   "id": "50f27d2c",
   "metadata": {},
   "outputs": [],
   "source": [
    "#creating placeholder for flavor scores\n",
    "data_df['flavor_hold'] = data_df['h3'] + data_df['s3'].map(str)"
   ]
  },
  {
   "cell_type": "code",
   "execution_count": 170,
   "id": "ffa6a561",
   "metadata": {},
   "outputs": [],
   "source": [
    "#creating placeholder for 2nd flavor scores\n",
    "data_df['flavor2_hold'] = data_df['h4'] + data_df['s4'].map(str)"
   ]
  },
  {
   "cell_type": "code",
   "execution_count": 171,
   "id": "0cf4d35b",
   "metadata": {},
   "outputs": [],
   "source": [
    "#removing body from flavor column\n",
    "data_df['flavor_hold'].replace(r'.*(ody).*', np.nan, inplace = True, regex=True)"
   ]
  },
  {
   "cell_type": "code",
   "execution_count": 172,
   "id": "3a112585",
   "metadata": {},
   "outputs": [],
   "source": [
    "#removing body from flavor column\n",
    "data_df['flavor2_hold'].replace(r'.*(ftertas).*', np.nan, inplace = True, regex=True)"
   ]
  },
  {
   "cell_type": "code",
   "execution_count": 173,
   "id": "69374f9e",
   "metadata": {},
   "outputs": [],
   "source": [
    "#combining flavor scores\n",
    "data_df['flavor_combo'] = data_df['flavor_hold'].map(str) + ' ' + data_df['flavor2_hold'].map(str)"
   ]
  },
  {
   "cell_type": "code",
   "execution_count": 174,
   "id": "6b2ebaf0",
   "metadata": {},
   "outputs": [],
   "source": [
    "#extracting body ratings\n",
    "data_df['flavor'] = data_df['flavor_combo'].str.extract(r'([0-9]+)')"
   ]
  },
  {
   "cell_type": "code",
   "execution_count": 175,
   "id": "c75a9ef8",
   "metadata": {},
   "outputs": [
    {
     "data": {
      "text/plain": [
       "4779"
      ]
     },
     "execution_count": 175,
     "metadata": {},
     "output_type": "execute_result"
    }
   ],
   "source": [
    "data_df['flavor'].value_counts().sum()"
   ]
  },
  {
   "cell_type": "code",
   "execution_count": 176,
   "id": "a3645583",
   "metadata": {},
   "outputs": [],
   "source": [
    "#drop unneeded columns\n",
    "data_df.drop(['flavor_combo', 'flavor2_hold', 'flavor_hold'], axis=1, inplace=True)"
   ]
  },
  {
   "cell_type": "code",
   "execution_count": 177,
   "id": "c58cf60f",
   "metadata": {},
   "outputs": [],
   "source": [
    "#creating placeholder for aftertaste scores\n",
    "data_df['aftertaste_hold'] = data_df['h4'] + data_df['s4'].map(str)"
   ]
  },
  {
   "cell_type": "code",
   "execution_count": 178,
   "id": "4680ab73",
   "metadata": {},
   "outputs": [],
   "source": [
    "#creating placeholder for aftertaste scores\n",
    "data_df['aftertaste2_hold'] = data_df['h5'] + data_df['s5'].map(str)"
   ]
  },
  {
   "cell_type": "code",
   "execution_count": 179,
   "id": "0b60e669",
   "metadata": {},
   "outputs": [],
   "source": [
    "#removing flavor from aftertaste column\n",
    "data_df['aftertaste_hold'].replace(r'.*(lavo).*', np.nan, inplace = True, regex=True)"
   ]
  },
  {
   "cell_type": "code",
   "execution_count": 180,
   "id": "57d18dd3",
   "metadata": {},
   "outputs": [],
   "source": [
    "#removing with milk from aftertaste column\n",
    "data_df['aftertaste2_hold'].replace(r'.*(ilk).*', np.nan, inplace = True, regex=True)"
   ]
  },
  {
   "cell_type": "code",
   "execution_count": 181,
   "id": "670ef76a",
   "metadata": {},
   "outputs": [],
   "source": [
    "#combining flavor scores\n",
    "data_df['aftertaste_combo'] = data_df['aftertaste_hold'].map(str) + ' ' + data_df['aftertaste2_hold'].map(str)"
   ]
  },
  {
   "cell_type": "code",
   "execution_count": 182,
   "id": "e09b846b",
   "metadata": {},
   "outputs": [],
   "source": [
    "#extracting body ratings\n",
    "data_df['aftertaste'] = data_df['aftertaste_combo'].str.extract(r'([0-9]+)')"
   ]
  },
  {
   "cell_type": "code",
   "execution_count": 183,
   "id": "2d14b1a5",
   "metadata": {},
   "outputs": [],
   "source": [
    "#drop unneeded columns\n",
    "data_df.drop(['aftertaste_combo', 'aftertaste2_hold', 'aftertaste_hold'], axis=1, inplace=True)"
   ]
  },
  {
   "cell_type": "code",
   "execution_count": 184,
   "id": "39683993",
   "metadata": {},
   "outputs": [],
   "source": [
    "#creating placeholder for with milk scores\n",
    "data_df['with_milk_hold'] = data_df['h5'] + data_df['s5'].map(str)"
   ]
  },
  {
   "cell_type": "code",
   "execution_count": 185,
   "id": "f4ddb4b2",
   "metadata": {},
   "outputs": [],
   "source": [
    "#removing flavor from aftertaste column\n",
    "data_df['with_milk_hold'].replace(r'.*(ftertas).*', np.nan, inplace = True, regex=True)"
   ]
  },
  {
   "cell_type": "code",
   "execution_count": 186,
   "id": "7db403dc",
   "metadata": {},
   "outputs": [],
   "source": [
    "#extracting body ratings\n",
    "data_df['with_milk'] = data_df['with_milk_hold'].str.extract(r'([0-9]+)')"
   ]
  },
  {
   "cell_type": "code",
   "execution_count": 187,
   "id": "792b6404",
   "metadata": {},
   "outputs": [],
   "source": [
    "#drop unneeded columns\n",
    "data_df.drop('with_milk_hold', axis=1, inplace=True)"
   ]
  },
  {
   "cell_type": "code",
   "execution_count": 188,
   "id": "e832ab5e",
   "metadata": {},
   "outputs": [],
   "source": [
    "#drop unneeded columns\n",
    "data_df.drop(['h1', 's1', 'h2', 's2', 'h3', 's3', 'h4', 's4', 'h5', 's5'], axis=1, inplace=True)"
   ]
  },
  {
   "cell_type": "code",
   "execution_count": 189,
   "id": "b3640ad6",
   "metadata": {
    "scrolled": true
   },
   "outputs": [
    {
     "data": {
      "text/html": [
       "<div>\n",
       "<style scoped>\n",
       "    .dataframe tbody tr th:only-of-type {\n",
       "        vertical-align: middle;\n",
       "    }\n",
       "\n",
       "    .dataframe tbody tr th {\n",
       "        vertical-align: top;\n",
       "    }\n",
       "\n",
       "    .dataframe thead th {\n",
       "        text-align: right;\n",
       "    }\n",
       "</style>\n",
       "<table border=\"1\" class=\"dataframe\">\n",
       "  <thead>\n",
       "    <tr style=\"text-align: right;\">\n",
       "      <th></th>\n",
       "      <th>coffee_name</th>\n",
       "      <th>roaster_name</th>\n",
       "      <th>roast_level</th>\n",
       "      <th>overall_score</th>\n",
       "      <th>p1</th>\n",
       "      <th>p2</th>\n",
       "      <th>p3</th>\n",
       "      <th>bean_agtron</th>\n",
       "      <th>ground_agtron</th>\n",
       "      <th>year</th>\n",
       "      <th>...</th>\n",
       "      <th>roaster_location_lat</th>\n",
       "      <th>roaster_location_lon</th>\n",
       "      <th>origin_lat</th>\n",
       "      <th>origin_lon</th>\n",
       "      <th>aroma</th>\n",
       "      <th>acidity</th>\n",
       "      <th>body</th>\n",
       "      <th>flavor</th>\n",
       "      <th>aftertaste</th>\n",
       "      <th>with_milk</th>\n",
       "    </tr>\n",
       "  </thead>\n",
       "  <tbody>\n",
       "    <tr>\n",
       "      <th>0</th>\n",
       "      <td>Colombia Cerro Azul Enano</td>\n",
       "      <td>Equator Coffees</td>\n",
       "      <td>2</td>\n",
       "      <td>94</td>\n",
       "      <td>Blind Assessment: Elegantly fruit- and cocoa-t...</td>\n",
       "      <td>Notes: Produced at Finca Cerro Azul (also owne...</td>\n",
       "      <td>The Bottom Line:  This rare Enano (dwarf Geish...</td>\n",
       "      <td>60</td>\n",
       "      <td>77</td>\n",
       "      <td>2022</td>\n",
       "      <td>...</td>\n",
       "      <td>37.973535</td>\n",
       "      <td>-122.531087</td>\n",
       "      <td>4.099917</td>\n",
       "      <td>-72.908813</td>\n",
       "      <td>9</td>\n",
       "      <td>9</td>\n",
       "      <td>9</td>\n",
       "      <td>9</td>\n",
       "      <td>8</td>\n",
       "      <td>NaN</td>\n",
       "    </tr>\n",
       "    <tr>\n",
       "      <th>1</th>\n",
       "      <td>Peru Incahuasi</td>\n",
       "      <td>Press Coffee</td>\n",
       "      <td>2</td>\n",
       "      <td>94</td>\n",
       "      <td>Blind Assessment: Gently fruit-toned, integrat...</td>\n",
       "      <td>Notes: Produced at Incahuasi Farm from trees o...</td>\n",
       "      <td>The Bottom Line: Laden with tropical fruit not...</td>\n",
       "      <td>58</td>\n",
       "      <td>78</td>\n",
       "      <td>2022</td>\n",
       "      <td>...</td>\n",
       "      <td>33.448437</td>\n",
       "      <td>-112.074141</td>\n",
       "      <td>-6.869970</td>\n",
       "      <td>-75.045851</td>\n",
       "      <td>9</td>\n",
       "      <td>9</td>\n",
       "      <td>9</td>\n",
       "      <td>9</td>\n",
       "      <td>8</td>\n",
       "      <td>NaN</td>\n",
       "    </tr>\n",
       "    <tr>\n",
       "      <th>2</th>\n",
       "      <td>Colombia Aponte’s Guardians</td>\n",
       "      <td>Press Coffee</td>\n",
       "      <td>2</td>\n",
       "      <td>93</td>\n",
       "      <td>Blind Assessment: Richly sweet, spice-toned. L...</td>\n",
       "      <td>Notes: Produced at Aponte Farm from an undiscl...</td>\n",
       "      <td>The Bottom Line: A balanced, inviting washed C...</td>\n",
       "      <td>59</td>\n",
       "      <td>77</td>\n",
       "      <td>2022</td>\n",
       "      <td>...</td>\n",
       "      <td>33.448437</td>\n",
       "      <td>-112.074141</td>\n",
       "      <td>4.099917</td>\n",
       "      <td>-72.908813</td>\n",
       "      <td>9</td>\n",
       "      <td>9</td>\n",
       "      <td>8</td>\n",
       "      <td>9</td>\n",
       "      <td>8</td>\n",
       "      <td>NaN</td>\n",
       "    </tr>\n",
       "    <tr>\n",
       "      <th>3</th>\n",
       "      <td>Nicaragua Flor de Dalia Natural</td>\n",
       "      <td>Equator Coffees</td>\n",
       "      <td>2</td>\n",
       "      <td>92</td>\n",
       "      <td>Blind Assessment: Gently fruit-forward, sweetl...</td>\n",
       "      <td>Notes: Produced by smallholding members of the...</td>\n",
       "      <td>The Bottom Line: A refreshing, very sweet natu...</td>\n",
       "      <td>62</td>\n",
       "      <td>78</td>\n",
       "      <td>2022</td>\n",
       "      <td>...</td>\n",
       "      <td>37.973535</td>\n",
       "      <td>-122.531087</td>\n",
       "      <td>12.609016</td>\n",
       "      <td>-85.293691</td>\n",
       "      <td>8</td>\n",
       "      <td>8</td>\n",
       "      <td>9</td>\n",
       "      <td>9</td>\n",
       "      <td>8</td>\n",
       "      <td>NaN</td>\n",
       "    </tr>\n",
       "    <tr>\n",
       "      <th>4</th>\n",
       "      <td>Ethiopia Bench Maji Geisha G1 Natural</td>\n",
       "      <td>Taster's Coffee</td>\n",
       "      <td>1</td>\n",
       "      <td>93</td>\n",
       "      <td>Blind Assessment: Gently sweet-tart, floral-to...</td>\n",
       "      <td>Notes: Produced from trees of the admired bota...</td>\n",
       "      <td>The Bottom Line: A quietly confident natural-p...</td>\n",
       "      <td>65</td>\n",
       "      <td>81</td>\n",
       "      <td>2022</td>\n",
       "      <td>...</td>\n",
       "      <td>25.072134</td>\n",
       "      <td>121.679919</td>\n",
       "      <td>10.211670</td>\n",
       "      <td>38.652120</td>\n",
       "      <td>9</td>\n",
       "      <td>9</td>\n",
       "      <td>8</td>\n",
       "      <td>9</td>\n",
       "      <td>8</td>\n",
       "      <td>NaN</td>\n",
       "    </tr>\n",
       "  </tbody>\n",
       "</table>\n",
       "<p>5 rows × 21 columns</p>\n",
       "</div>"
      ],
      "text/plain": [
       "                             coffee_name     roaster_name  roast_level  \\\n",
       "0              Colombia Cerro Azul Enano  Equator Coffees            2   \n",
       "1                         Peru Incahuasi     Press Coffee            2   \n",
       "2            Colombia Aponte’s Guardians     Press Coffee            2   \n",
       "3        Nicaragua Flor de Dalia Natural  Equator Coffees            2   \n",
       "4  Ethiopia Bench Maji Geisha G1 Natural  Taster's Coffee            1   \n",
       "\n",
       "   overall_score                                                 p1  \\\n",
       "0             94  Blind Assessment: Elegantly fruit- and cocoa-t...   \n",
       "1             94  Blind Assessment: Gently fruit-toned, integrat...   \n",
       "2             93  Blind Assessment: Richly sweet, spice-toned. L...   \n",
       "3             92  Blind Assessment: Gently fruit-forward, sweetl...   \n",
       "4             93  Blind Assessment: Gently sweet-tart, floral-to...   \n",
       "\n",
       "                                                  p2  \\\n",
       "0  Notes: Produced at Finca Cerro Azul (also owne...   \n",
       "1  Notes: Produced at Incahuasi Farm from trees o...   \n",
       "2  Notes: Produced at Aponte Farm from an undiscl...   \n",
       "3  Notes: Produced by smallholding members of the...   \n",
       "4  Notes: Produced from trees of the admired bota...   \n",
       "\n",
       "                                                  p3  bean_agtron  \\\n",
       "0  The Bottom Line:  This rare Enano (dwarf Geish...           60   \n",
       "1  The Bottom Line: Laden with tropical fruit not...           58   \n",
       "2  The Bottom Line: A balanced, inviting washed C...           59   \n",
       "3  The Bottom Line: A refreshing, very sweet natu...           62   \n",
       "4  The Bottom Line: A quietly confident natural-p...           65   \n",
       "\n",
       "   ground_agtron  year  ...  roaster_location_lat  roaster_location_lon  \\\n",
       "0             77  2022  ...             37.973535           -122.531087   \n",
       "1             78  2022  ...             33.448437           -112.074141   \n",
       "2             77  2022  ...             33.448437           -112.074141   \n",
       "3             78  2022  ...             37.973535           -122.531087   \n",
       "4             81  2022  ...             25.072134            121.679919   \n",
       "\n",
       "   origin_lat  origin_lon  aroma acidity body flavor aftertaste with_milk  \n",
       "0    4.099917  -72.908813      9       9    9      9          8       NaN  \n",
       "1   -6.869970  -75.045851      9       9    9      9          8       NaN  \n",
       "2    4.099917  -72.908813      9       9    8      9          8       NaN  \n",
       "3   12.609016  -85.293691      8       8    9      9          8       NaN  \n",
       "4   10.211670   38.652120      9       9    8      9          8       NaN  \n",
       "\n",
       "[5 rows x 21 columns]"
      ]
     },
     "execution_count": 189,
     "metadata": {},
     "output_type": "execute_result"
    }
   ],
   "source": [
    "data_df.head()"
   ]
  },
  {
   "cell_type": "code",
   "execution_count": 190,
   "id": "8506ca79",
   "metadata": {},
   "outputs": [],
   "source": [
    "#updating cleaned score value data types to integer\n",
    "data_df['aroma'] = data_df['aroma'].astype('Int8')"
   ]
  },
  {
   "cell_type": "code",
   "execution_count": 191,
   "id": "d14c4980",
   "metadata": {},
   "outputs": [],
   "source": [
    "data_df['acidity'] = data_df['acidity'].astype('Int8')"
   ]
  },
  {
   "cell_type": "code",
   "execution_count": 192,
   "id": "244e1d5a",
   "metadata": {},
   "outputs": [],
   "source": [
    "data_df['body'] = data_df['body'].astype('Int8')"
   ]
  },
  {
   "cell_type": "code",
   "execution_count": 193,
   "id": "c9bd137d",
   "metadata": {},
   "outputs": [],
   "source": [
    "data_df['flavor'] = data_df['flavor'].astype('Int8')"
   ]
  },
  {
   "cell_type": "code",
   "execution_count": 194,
   "id": "c3f90771",
   "metadata": {},
   "outputs": [],
   "source": [
    "data_df['aftertaste'] = data_df['aftertaste'].astype('Int8')"
   ]
  },
  {
   "cell_type": "code",
   "execution_count": 195,
   "id": "b84f11ad",
   "metadata": {},
   "outputs": [],
   "source": [
    "data_df['with_milk'] = data_df['with_milk'].astype('Int8')"
   ]
  },
  {
   "cell_type": "code",
   "execution_count": 196,
   "id": "8b490151",
   "metadata": {},
   "outputs": [
    {
     "name": "stdout",
     "output_type": "stream",
     "text": [
      "<class 'pandas.core.frame.DataFrame'>\n",
      "RangeIndex: 4779 entries, 0 to 4778\n",
      "Data columns (total 21 columns):\n",
      " #   Column                Non-Null Count  Dtype  \n",
      "---  ------                --------------  -----  \n",
      " 0   coffee_name           4779 non-null   object \n",
      " 1   roaster_name          4779 non-null   object \n",
      " 2   roast_level           4705 non-null   Int8   \n",
      " 3   overall_score         4779 non-null   int64  \n",
      " 4   p1                    4779 non-null   object \n",
      " 5   p2                    4779 non-null   object \n",
      " 6   p3                    4773 non-null   object \n",
      " 7   bean_agtron           4742 non-null   Int8   \n",
      " 8   ground_agtron         4743 non-null   Int8   \n",
      " 9   year                  4779 non-null   int64  \n",
      " 10  month                 4779 non-null   int64  \n",
      " 11  roaster_location_lat  4738 non-null   float64\n",
      " 12  roaster_location_lon  4738 non-null   float64\n",
      " 13  origin_lat            4513 non-null   float64\n",
      " 14  origin_lon            4513 non-null   float64\n",
      " 15  aroma                 4743 non-null   Int8   \n",
      " 16  acidity               4049 non-null   Int8   \n",
      " 17  body                  4779 non-null   Int8   \n",
      " 18  flavor                4779 non-null   Int8   \n",
      " 19  aftertaste            4779 non-null   Int8   \n",
      " 20  with_milk             766 non-null    Int8   \n",
      "dtypes: Int8(9), float64(4), int64(3), object(5)\n",
      "memory usage: 532.2+ KB\n"
     ]
    }
   ],
   "source": [
    "data_df.info()"
   ]
  },
  {
   "cell_type": "code",
   "execution_count": 197,
   "id": "6fc173d8",
   "metadata": {},
   "outputs": [],
   "source": [
    "data_df.to_csv('1st_clean_data_df.csv', index=False)"
   ]
  },
  {
   "cell_type": "markdown",
   "id": "470780b5",
   "metadata": {},
   "source": [
    "## See \"Capstone Project Part 3\" Notebook for Next Steps"
   ]
  }
 ],
 "metadata": {
  "kernelspec": {
   "display_name": "capstone",
   "language": "python",
   "name": "capstone"
  },
  "language_info": {
   "codemirror_mode": {
    "name": "ipython",
    "version": 3
   },
   "file_extension": ".py",
   "mimetype": "text/x-python",
   "name": "python",
   "nbconvert_exporter": "python",
   "pygments_lexer": "ipython3",
   "version": "3.8.13"
  }
 },
 "nbformat": 4,
 "nbformat_minor": 5
}
