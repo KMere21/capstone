{
 "cells": [
  {
   "cell_type": "markdown",
   "id": "953ed9c0",
   "metadata": {},
   "source": [
    "# Capstone Project Part 7: Optimizing Models\n",
    "\n",
    "**Authur:** Kate Meredith \n",
    "\n",
    "**Date:** September-November 2022\n",
    "\n",
    "**Notebook #**: 7 of\n",
    "\n",
    "## Background\n",
    "\n",
    "**Source:** Data was collected from [CoffeeReview.com](https://www.coffeereview.com/). See prior notebooks for details on scraping, cleaning, compilation and text transformation. \n",
    "\n",
    "**Goal:** Optimize models on full data set (both text transformed and original numerical values)."
   ]
  },
  {
   "cell_type": "markdown",
   "id": "27a2d3d1",
   "metadata": {},
   "source": [
    "## References\n",
    "\n",
    "- Documentation on [Ridge Regression](https://scikit-learn.org/stable/modules/generated/sklearn.linear_model.Ridge.html)\n",
    "- Documentation on [Lasso Regression](https://scikit-learn.org/stable/modules/generated/sklearn.linear_model.Lasso.html)\n",
    "- Documentation on [ElasticNet Regression](https://scikit-learn.org/stable/modules/generated/sklearn.linear_model.ElasticNet.html)\n",
    "- [Differences](https://towardsdatascience.com/whats-the-difference-between-linear-regression-lasso-ridge-and-elasticnet-8f997c60cf29) between linear, ridge, lasso and elastic net regression"
   ]
  },
  {
   "cell_type": "markdown",
   "id": "341d4ee2",
   "metadata": {},
   "source": [
    "## Table of Contents\n",
    "\n",
    "* [1. Importing Libraries](#header1)\n",
    "* [2. Importing the Data and EDA](#header2)\n",
    "* [3. Scaling the Data](#header3)\n",
    "* [4. Principal Component Analysis](#header4)\n",
    "* [5. Optimizing the Models](#header5)\n",
    "    * [5.1 Linear Regression](#subheader51)\n",
    "    * [5.2 XGBoost Regressor](#subheader52)\n",
    "* [6. Comparing all Models](#header6)"
   ]
  },
  {
   "cell_type": "markdown",
   "id": "f235584d",
   "metadata": {},
   "source": [
    "## Importing Libraries  <a class=\"anchor\" id=\"header1\"></a>"
   ]
  },
  {
   "cell_type": "code",
   "execution_count": 132,
   "id": "7c3552bd",
   "metadata": {},
   "outputs": [],
   "source": [
    "import numpy as np\n",
    "import pandas as pd\n",
    "import matplotlib.pyplot as plt\n",
    "import seaborn as sns\n",
    "import tensorflow as tf\n",
    "import operator\n",
    "\n",
    "from scipy import stats\n",
    "from sklearn.preprocessing import StandardScaler\n",
    "from sklearn.preprocessing import MinMaxScaler\n",
    "from sklearn.decomposition import PCA\n",
    "from sklearn import linear_model\n",
    "from sklearn.linear_model import LinearRegression\n",
    "from sklearn.linear_model import Lasso\n",
    "from sklearn.linear_model import Ridge\n",
    "from sklearn.linear_model import ElasticNet\n",
    "from sklearn.ensemble import RandomForestRegressor\n",
    "from xgboost import XGBRegressor\n",
    "from tempfile import mkdtemp\n",
    "from tensorflow import keras\n",
    "from tensorflow.keras import layers\n",
    "from sklearn.neural_network import MLPRegressor\n",
    "from tensorflow.keras.callbacks import EarlyStopping\n",
    "from sklearn.metrics import r2_score\n",
    "from sklearn.pipeline import Pipeline\n",
    "from sklearn.model_selection import GridSearchCV"
   ]
  },
  {
   "cell_type": "markdown",
   "id": "95567a0a",
   "metadata": {},
   "source": [
    "## 2. Importing the Data and EDA <a class=\"anchor\" id=\"header2\"></a>"
   ]
  },
  {
   "cell_type": "markdown",
   "id": "113fe582",
   "metadata": {},
   "source": [
    "In the last notebook, the text was transformed using a few different methods. Given time limitations, this will move forward with the data transformation method that worked best: TFIDF Vectorization. The data has already been split into remain (training), validation, and test data. These datasets will be imported here to use.\n",
    "\n",
    "Importing the remain (training) data and exploring some initial info about it:"
   ]
  },
  {
   "cell_type": "code",
   "execution_count": 13,
   "id": "1884d855",
   "metadata": {},
   "outputs": [
    {
     "name": "stdout",
     "output_type": "stream",
     "text": [
      "<class 'pandas.core.frame.DataFrame'>\n",
      "RangeIndex: 4194 entries, 0 to 4193\n",
      "Columns: 632 entries, coffee_name to zesty\n",
      "dtypes: float64(621), int64(9), object(2)\n",
      "memory usage: 20.2+ MB\n"
     ]
    }
   ],
   "source": [
    "Xremain_df_tfidf = pd.read_csv('tfidf_Xremain_combo_df.csv')\n",
    "Xremain_df_tfidf.info()"
   ]
  },
  {
   "cell_type": "code",
   "execution_count": 14,
   "id": "7ed88598",
   "metadata": {},
   "outputs": [
    {
     "data": {
      "text/plain": [
       "(4194, 632)"
      ]
     },
     "execution_count": 14,
     "metadata": {},
     "output_type": "execute_result"
    }
   ],
   "source": [
    "Xremain_df_tfidf.shape"
   ]
  },
  {
   "cell_type": "markdown",
   "id": "514d7791",
   "metadata": {},
   "source": [
    "The remain data set has 4,194 rows and 640 columns."
   ]
  },
  {
   "cell_type": "code",
   "execution_count": 15,
   "id": "13558f4e",
   "metadata": {},
   "outputs": [
    {
     "data": {
      "text/html": [
       "<div>\n",
       "<style scoped>\n",
       "    .dataframe tbody tr th:only-of-type {\n",
       "        vertical-align: middle;\n",
       "    }\n",
       "\n",
       "    .dataframe tbody tr th {\n",
       "        vertical-align: top;\n",
       "    }\n",
       "\n",
       "    .dataframe thead th {\n",
       "        text-align: right;\n",
       "    }\n",
       "</style>\n",
       "<table border=\"1\" class=\"dataframe\">\n",
       "  <thead>\n",
       "    <tr style=\"text-align: right;\">\n",
       "      <th></th>\n",
       "      <th>coffee_name</th>\n",
       "      <th>roaster_name</th>\n",
       "      <th>month</th>\n",
       "      <th>year</th>\n",
       "      <th>bean_agtron</th>\n",
       "      <th>ground_agtron</th>\n",
       "      <th>aroma</th>\n",
       "      <th>acidity</th>\n",
       "      <th>body</th>\n",
       "      <th>flavor</th>\n",
       "      <th>...</th>\n",
       "      <th>white</th>\n",
       "      <th>wild</th>\n",
       "      <th>willem</th>\n",
       "      <th>wine</th>\n",
       "      <th>winy</th>\n",
       "      <th>wisteria</th>\n",
       "      <th>wood</th>\n",
       "      <th>woody</th>\n",
       "      <th>zest</th>\n",
       "      <th>zesty</th>\n",
       "    </tr>\n",
       "  </thead>\n",
       "  <tbody>\n",
       "    <tr>\n",
       "      <th>0</th>\n",
       "      <td>Celebration Caffe</td>\n",
       "      <td>Allegro Coffee</td>\n",
       "      <td>11</td>\n",
       "      <td>1999</td>\n",
       "      <td>54</td>\n",
       "      <td>71</td>\n",
       "      <td>8</td>\n",
       "      <td>8</td>\n",
       "      <td>7</td>\n",
       "      <td>8</td>\n",
       "      <td>...</td>\n",
       "      <td>0.0</td>\n",
       "      <td>0.314372</td>\n",
       "      <td>0.0</td>\n",
       "      <td>0.248770</td>\n",
       "      <td>0.000000</td>\n",
       "      <td>0.0</td>\n",
       "      <td>0.0</td>\n",
       "      <td>0.0</td>\n",
       "      <td>0.0</td>\n",
       "      <td>0.0</td>\n",
       "    </tr>\n",
       "    <tr>\n",
       "      <th>1</th>\n",
       "      <td>Kenya</td>\n",
       "      <td>Starbucks Coffee</td>\n",
       "      <td>6</td>\n",
       "      <td>1999</td>\n",
       "      <td>33</td>\n",
       "      <td>35</td>\n",
       "      <td>7</td>\n",
       "      <td>8</td>\n",
       "      <td>7</td>\n",
       "      <td>8</td>\n",
       "      <td>...</td>\n",
       "      <td>0.0</td>\n",
       "      <td>0.000000</td>\n",
       "      <td>0.0</td>\n",
       "      <td>0.403825</td>\n",
       "      <td>0.000000</td>\n",
       "      <td>0.0</td>\n",
       "      <td>0.0</td>\n",
       "      <td>0.0</td>\n",
       "      <td>0.0</td>\n",
       "      <td>0.0</td>\n",
       "    </tr>\n",
       "    <tr>\n",
       "      <th>2</th>\n",
       "      <td>Colombia Tolima Cup of Excellence Presidential...</td>\n",
       "      <td>Terroir Coffee</td>\n",
       "      <td>2</td>\n",
       "      <td>2007</td>\n",
       "      <td>56</td>\n",
       "      <td>68</td>\n",
       "      <td>8</td>\n",
       "      <td>7</td>\n",
       "      <td>8</td>\n",
       "      <td>7</td>\n",
       "      <td>...</td>\n",
       "      <td>0.0</td>\n",
       "      <td>0.000000</td>\n",
       "      <td>0.0</td>\n",
       "      <td>0.000000</td>\n",
       "      <td>0.000000</td>\n",
       "      <td>0.0</td>\n",
       "      <td>0.0</td>\n",
       "      <td>0.0</td>\n",
       "      <td>0.0</td>\n",
       "      <td>0.0</td>\n",
       "    </tr>\n",
       "    <tr>\n",
       "      <th>3</th>\n",
       "      <td>Gesha Village 1931, Lot 86</td>\n",
       "      <td>Mudhouse Coffee Roasters</td>\n",
       "      <td>9</td>\n",
       "      <td>2017</td>\n",
       "      <td>54</td>\n",
       "      <td>78</td>\n",
       "      <td>10</td>\n",
       "      <td>9</td>\n",
       "      <td>9</td>\n",
       "      <td>9</td>\n",
       "      <td>...</td>\n",
       "      <td>0.0</td>\n",
       "      <td>0.000000</td>\n",
       "      <td>0.0</td>\n",
       "      <td>0.000000</td>\n",
       "      <td>0.000000</td>\n",
       "      <td>0.0</td>\n",
       "      <td>0.0</td>\n",
       "      <td>0.0</td>\n",
       "      <td>0.0</td>\n",
       "      <td>0.0</td>\n",
       "    </tr>\n",
       "    <tr>\n",
       "      <th>4</th>\n",
       "      <td>Kenya AA</td>\n",
       "      <td>Willoughby's Coffee &amp; Tea</td>\n",
       "      <td>3</td>\n",
       "      <td>1997</td>\n",
       "      <td>46</td>\n",
       "      <td>49</td>\n",
       "      <td>8</td>\n",
       "      <td>8</td>\n",
       "      <td>8</td>\n",
       "      <td>8</td>\n",
       "      <td>...</td>\n",
       "      <td>0.0</td>\n",
       "      <td>0.000000</td>\n",
       "      <td>0.0</td>\n",
       "      <td>0.000000</td>\n",
       "      <td>0.451704</td>\n",
       "      <td>0.0</td>\n",
       "      <td>0.0</td>\n",
       "      <td>0.0</td>\n",
       "      <td>0.0</td>\n",
       "      <td>0.0</td>\n",
       "    </tr>\n",
       "  </tbody>\n",
       "</table>\n",
       "<p>5 rows × 632 columns</p>\n",
       "</div>"
      ],
      "text/plain": [
       "                                         coffee_name  \\\n",
       "0                                  Celebration Caffe   \n",
       "1                                              Kenya   \n",
       "2  Colombia Tolima Cup of Excellence Presidential...   \n",
       "3                         Gesha Village 1931, Lot 86   \n",
       "4                                           Kenya AA   \n",
       "\n",
       "                roaster_name  month  year  bean_agtron  ground_agtron  aroma  \\\n",
       "0             Allegro Coffee     11  1999           54             71      8   \n",
       "1           Starbucks Coffee      6  1999           33             35      7   \n",
       "2             Terroir Coffee      2  2007           56             68      8   \n",
       "3   Mudhouse Coffee Roasters      9  2017           54             78     10   \n",
       "4  Willoughby's Coffee & Tea      3  1997           46             49      8   \n",
       "\n",
       "   acidity  body  flavor  ...  white      wild  willem      wine      winy  \\\n",
       "0        8     7       8  ...    0.0  0.314372     0.0  0.248770  0.000000   \n",
       "1        8     7       8  ...    0.0  0.000000     0.0  0.403825  0.000000   \n",
       "2        7     8       7  ...    0.0  0.000000     0.0  0.000000  0.000000   \n",
       "3        9     9       9  ...    0.0  0.000000     0.0  0.000000  0.000000   \n",
       "4        8     8       8  ...    0.0  0.000000     0.0  0.000000  0.451704   \n",
       "\n",
       "   wisteria  wood  woody  zest  zesty  \n",
       "0       0.0   0.0    0.0   0.0    0.0  \n",
       "1       0.0   0.0    0.0   0.0    0.0  \n",
       "2       0.0   0.0    0.0   0.0    0.0  \n",
       "3       0.0   0.0    0.0   0.0    0.0  \n",
       "4       0.0   0.0    0.0   0.0    0.0  \n",
       "\n",
       "[5 rows x 632 columns]"
      ]
     },
     "execution_count": 15,
     "metadata": {},
     "output_type": "execute_result"
    }
   ],
   "source": [
    "Xremain_df_tfidf.head()"
   ]
  },
  {
   "cell_type": "markdown",
   "id": "c8a8d9ea",
   "metadata": {},
   "source": [
    "Most of the columns come from the vectorized text."
   ]
  },
  {
   "cell_type": "code",
   "execution_count": 16,
   "id": "8749f1af",
   "metadata": {},
   "outputs": [
    {
     "name": "stdout",
     "output_type": "stream",
     "text": [
      "<class 'pandas.core.frame.DataFrame'>\n",
      "RangeIndex: 1049 entries, 0 to 1048\n",
      "Columns: 632 entries, coffee_name to zesty\n",
      "dtypes: float64(618), int64(12), object(2)\n",
      "memory usage: 5.1+ MB\n"
     ]
    }
   ],
   "source": [
    "#importing the validation data and checking out the info\n",
    "Xval_df_tfidf = pd.read_csv('tfidf_Xval_combo_df.csv')\n",
    "Xval_df_tfidf.info()"
   ]
  },
  {
   "cell_type": "code",
   "execution_count": 17,
   "id": "313c5ee4",
   "metadata": {},
   "outputs": [
    {
     "data": {
      "text/plain": [
       "(1049, 632)"
      ]
     },
     "execution_count": 17,
     "metadata": {},
     "output_type": "execute_result"
    }
   ],
   "source": [
    "Xval_df_tfidf.shape"
   ]
  },
  {
   "cell_type": "markdown",
   "id": "5d2cdda2",
   "metadata": {},
   "source": [
    "The validation data set has 1,049 rows and 640 columns."
   ]
  },
  {
   "cell_type": "code",
   "execution_count": 18,
   "id": "069355df",
   "metadata": {},
   "outputs": [
    {
     "data": {
      "text/html": [
       "<div>\n",
       "<style scoped>\n",
       "    .dataframe tbody tr th:only-of-type {\n",
       "        vertical-align: middle;\n",
       "    }\n",
       "\n",
       "    .dataframe tbody tr th {\n",
       "        vertical-align: top;\n",
       "    }\n",
       "\n",
       "    .dataframe thead th {\n",
       "        text-align: right;\n",
       "    }\n",
       "</style>\n",
       "<table border=\"1\" class=\"dataframe\">\n",
       "  <thead>\n",
       "    <tr style=\"text-align: right;\">\n",
       "      <th></th>\n",
       "      <th>coffee_name</th>\n",
       "      <th>roaster_name</th>\n",
       "      <th>month</th>\n",
       "      <th>year</th>\n",
       "      <th>bean_agtron</th>\n",
       "      <th>ground_agtron</th>\n",
       "      <th>aroma</th>\n",
       "      <th>acidity</th>\n",
       "      <th>body</th>\n",
       "      <th>flavor</th>\n",
       "      <th>...</th>\n",
       "      <th>white</th>\n",
       "      <th>wild</th>\n",
       "      <th>willem</th>\n",
       "      <th>wine</th>\n",
       "      <th>winy</th>\n",
       "      <th>wisteria</th>\n",
       "      <th>wood</th>\n",
       "      <th>woody</th>\n",
       "      <th>zest</th>\n",
       "      <th>zesty</th>\n",
       "    </tr>\n",
       "  </thead>\n",
       "  <tbody>\n",
       "    <tr>\n",
       "      <th>0</th>\n",
       "      <td>Hojas de Otono</td>\n",
       "      <td>Caribou Coffee</td>\n",
       "      <td>8</td>\n",
       "      <td>2011</td>\n",
       "      <td>43</td>\n",
       "      <td>49</td>\n",
       "      <td>8</td>\n",
       "      <td>7</td>\n",
       "      <td>8</td>\n",
       "      <td>9</td>\n",
       "      <td>...</td>\n",
       "      <td>0.0</td>\n",
       "      <td>0.0</td>\n",
       "      <td>0.0</td>\n",
       "      <td>0.0</td>\n",
       "      <td>0.0</td>\n",
       "      <td>0.0</td>\n",
       "      <td>0.186518</td>\n",
       "      <td>0.0</td>\n",
       "      <td>0.000000</td>\n",
       "      <td>0.0</td>\n",
       "    </tr>\n",
       "    <tr>\n",
       "      <th>1</th>\n",
       "      <td>Colombia Supremo Pitalito Estate</td>\n",
       "      <td>The Roasterie</td>\n",
       "      <td>12</td>\n",
       "      <td>2004</td>\n",
       "      <td>61</td>\n",
       "      <td>68</td>\n",
       "      <td>8</td>\n",
       "      <td>8</td>\n",
       "      <td>8</td>\n",
       "      <td>8</td>\n",
       "      <td>...</td>\n",
       "      <td>0.0</td>\n",
       "      <td>0.0</td>\n",
       "      <td>0.0</td>\n",
       "      <td>0.0</td>\n",
       "      <td>0.0</td>\n",
       "      <td>0.0</td>\n",
       "      <td>0.000000</td>\n",
       "      <td>0.0</td>\n",
       "      <td>0.000000</td>\n",
       "      <td>0.0</td>\n",
       "    </tr>\n",
       "    <tr>\n",
       "      <th>2</th>\n",
       "      <td>Papua New Guinea Sero Bebes</td>\n",
       "      <td>Temple Coffee and Tea</td>\n",
       "      <td>3</td>\n",
       "      <td>2016</td>\n",
       "      <td>57</td>\n",
       "      <td>80</td>\n",
       "      <td>9</td>\n",
       "      <td>8</td>\n",
       "      <td>8</td>\n",
       "      <td>9</td>\n",
       "      <td>...</td>\n",
       "      <td>0.0</td>\n",
       "      <td>0.0</td>\n",
       "      <td>0.0</td>\n",
       "      <td>0.0</td>\n",
       "      <td>0.0</td>\n",
       "      <td>0.0</td>\n",
       "      <td>0.000000</td>\n",
       "      <td>0.0</td>\n",
       "      <td>0.147089</td>\n",
       "      <td>0.0</td>\n",
       "    </tr>\n",
       "    <tr>\n",
       "      <th>3</th>\n",
       "      <td>El Gaucho Espresso</td>\n",
       "      <td>Manzanita Roasting Company</td>\n",
       "      <td>3</td>\n",
       "      <td>2016</td>\n",
       "      <td>60</td>\n",
       "      <td>72</td>\n",
       "      <td>9</td>\n",
       "      <td>8</td>\n",
       "      <td>8</td>\n",
       "      <td>8</td>\n",
       "      <td>...</td>\n",
       "      <td>0.0</td>\n",
       "      <td>0.0</td>\n",
       "      <td>0.0</td>\n",
       "      <td>0.0</td>\n",
       "      <td>0.0</td>\n",
       "      <td>0.0</td>\n",
       "      <td>0.000000</td>\n",
       "      <td>0.0</td>\n",
       "      <td>0.000000</td>\n",
       "      <td>0.0</td>\n",
       "    </tr>\n",
       "    <tr>\n",
       "      <th>4</th>\n",
       "      <td>Jamaican Blue Mtn Dark Roast</td>\n",
       "      <td>Endless World Coffee</td>\n",
       "      <td>6</td>\n",
       "      <td>1999</td>\n",
       "      <td>35</td>\n",
       "      <td>42</td>\n",
       "      <td>7</td>\n",
       "      <td>6</td>\n",
       "      <td>6</td>\n",
       "      <td>7</td>\n",
       "      <td>...</td>\n",
       "      <td>0.0</td>\n",
       "      <td>0.0</td>\n",
       "      <td>0.0</td>\n",
       "      <td>0.0</td>\n",
       "      <td>0.0</td>\n",
       "      <td>0.0</td>\n",
       "      <td>0.000000</td>\n",
       "      <td>0.0</td>\n",
       "      <td>0.000000</td>\n",
       "      <td>0.0</td>\n",
       "    </tr>\n",
       "  </tbody>\n",
       "</table>\n",
       "<p>5 rows × 632 columns</p>\n",
       "</div>"
      ],
      "text/plain": [
       "                        coffee_name                roaster_name  month  year  \\\n",
       "0                    Hojas de Otono              Caribou Coffee      8  2011   \n",
       "1  Colombia Supremo Pitalito Estate               The Roasterie     12  2004   \n",
       "2       Papua New Guinea Sero Bebes       Temple Coffee and Tea      3  2016   \n",
       "3                El Gaucho Espresso  Manzanita Roasting Company      3  2016   \n",
       "4      Jamaican Blue Mtn Dark Roast        Endless World Coffee      6  1999   \n",
       "\n",
       "   bean_agtron  ground_agtron  aroma  acidity  body  flavor  ...  white  wild  \\\n",
       "0           43             49      8        7     8       9  ...    0.0   0.0   \n",
       "1           61             68      8        8     8       8  ...    0.0   0.0   \n",
       "2           57             80      9        8     8       9  ...    0.0   0.0   \n",
       "3           60             72      9        8     8       8  ...    0.0   0.0   \n",
       "4           35             42      7        6     6       7  ...    0.0   0.0   \n",
       "\n",
       "   willem  wine  winy  wisteria      wood  woody      zest  zesty  \n",
       "0     0.0   0.0   0.0       0.0  0.186518    0.0  0.000000    0.0  \n",
       "1     0.0   0.0   0.0       0.0  0.000000    0.0  0.000000    0.0  \n",
       "2     0.0   0.0   0.0       0.0  0.000000    0.0  0.147089    0.0  \n",
       "3     0.0   0.0   0.0       0.0  0.000000    0.0  0.000000    0.0  \n",
       "4     0.0   0.0   0.0       0.0  0.000000    0.0  0.000000    0.0  \n",
       "\n",
       "[5 rows x 632 columns]"
      ]
     },
     "execution_count": 18,
     "metadata": {},
     "output_type": "execute_result"
    }
   ],
   "source": [
    "Xval_df_tfidf.head()"
   ]
  },
  {
   "cell_type": "code",
   "execution_count": 19,
   "id": "1ad82135",
   "metadata": {},
   "outputs": [
    {
     "name": "stdout",
     "output_type": "stream",
     "text": [
      "<class 'pandas.core.frame.DataFrame'>\n",
      "RangeIndex: 1311 entries, 0 to 1310\n",
      "Columns: 632 entries, coffee_name to zesty\n",
      "dtypes: float64(620), int64(10), object(2)\n",
      "memory usage: 6.3+ MB\n"
     ]
    }
   ],
   "source": [
    "#importing the test data and checking out the info\n",
    "Xtest_df_tfidf = pd.read_csv('tfidf_Xtest_combo_df.csv')\n",
    "Xtest_df_tfidf.info()"
   ]
  },
  {
   "cell_type": "code",
   "execution_count": 20,
   "id": "be65476a",
   "metadata": {},
   "outputs": [
    {
     "data": {
      "text/plain": [
       "(1311, 632)"
      ]
     },
     "execution_count": 20,
     "metadata": {},
     "output_type": "execute_result"
    }
   ],
   "source": [
    "Xtest_df_tfidf.shape"
   ]
  },
  {
   "cell_type": "markdown",
   "id": "52b02b9a",
   "metadata": {},
   "source": [
    "The test dataframe has 1311 rows and 640 columns."
   ]
  },
  {
   "cell_type": "code",
   "execution_count": 21,
   "id": "619f35ec",
   "metadata": {},
   "outputs": [
    {
     "data": {
      "text/html": [
       "<div>\n",
       "<style scoped>\n",
       "    .dataframe tbody tr th:only-of-type {\n",
       "        vertical-align: middle;\n",
       "    }\n",
       "\n",
       "    .dataframe tbody tr th {\n",
       "        vertical-align: top;\n",
       "    }\n",
       "\n",
       "    .dataframe thead th {\n",
       "        text-align: right;\n",
       "    }\n",
       "</style>\n",
       "<table border=\"1\" class=\"dataframe\">\n",
       "  <thead>\n",
       "    <tr style=\"text-align: right;\">\n",
       "      <th></th>\n",
       "      <th>coffee_name</th>\n",
       "      <th>roaster_name</th>\n",
       "      <th>month</th>\n",
       "      <th>year</th>\n",
       "      <th>bean_agtron</th>\n",
       "      <th>ground_agtron</th>\n",
       "      <th>aroma</th>\n",
       "      <th>acidity</th>\n",
       "      <th>body</th>\n",
       "      <th>flavor</th>\n",
       "      <th>...</th>\n",
       "      <th>white</th>\n",
       "      <th>wild</th>\n",
       "      <th>willem</th>\n",
       "      <th>wine</th>\n",
       "      <th>winy</th>\n",
       "      <th>wisteria</th>\n",
       "      <th>wood</th>\n",
       "      <th>woody</th>\n",
       "      <th>zest</th>\n",
       "      <th>zesty</th>\n",
       "    </tr>\n",
       "  </thead>\n",
       "  <tbody>\n",
       "    <tr>\n",
       "      <th>0</th>\n",
       "      <td>East Timor Maubesse Fair-Trade Organic</td>\n",
       "      <td>PT's Coffee Roasting Co.</td>\n",
       "      <td>4</td>\n",
       "      <td>2007</td>\n",
       "      <td>51</td>\n",
       "      <td>68</td>\n",
       "      <td>8</td>\n",
       "      <td>7</td>\n",
       "      <td>8</td>\n",
       "      <td>7</td>\n",
       "      <td>...</td>\n",
       "      <td>0.0</td>\n",
       "      <td>0.0</td>\n",
       "      <td>0.0</td>\n",
       "      <td>0.0</td>\n",
       "      <td>0.0</td>\n",
       "      <td>0.0</td>\n",
       "      <td>0.000000</td>\n",
       "      <td>0.0</td>\n",
       "      <td>0.000000</td>\n",
       "      <td>0.0</td>\n",
       "    </tr>\n",
       "    <tr>\n",
       "      <th>1</th>\n",
       "      <td>Ambrosia Espresso</td>\n",
       "      <td>Caffe Fresco</td>\n",
       "      <td>9</td>\n",
       "      <td>2005</td>\n",
       "      <td>37</td>\n",
       "      <td>47</td>\n",
       "      <td>8</td>\n",
       "      <td>7</td>\n",
       "      <td>7</td>\n",
       "      <td>7</td>\n",
       "      <td>...</td>\n",
       "      <td>0.0</td>\n",
       "      <td>0.0</td>\n",
       "      <td>0.0</td>\n",
       "      <td>0.0</td>\n",
       "      <td>0.0</td>\n",
       "      <td>0.0</td>\n",
       "      <td>0.000000</td>\n",
       "      <td>0.0</td>\n",
       "      <td>0.000000</td>\n",
       "      <td>0.0</td>\n",
       "    </tr>\n",
       "    <tr>\n",
       "      <th>2</th>\n",
       "      <td>SFCC House Blend Espresso Capsule</td>\n",
       "      <td>Gourmesso</td>\n",
       "      <td>7</td>\n",
       "      <td>2016</td>\n",
       "      <td>58</td>\n",
       "      <td>58</td>\n",
       "      <td>7</td>\n",
       "      <td>8</td>\n",
       "      <td>8</td>\n",
       "      <td>8</td>\n",
       "      <td>...</td>\n",
       "      <td>0.0</td>\n",
       "      <td>0.0</td>\n",
       "      <td>0.0</td>\n",
       "      <td>0.0</td>\n",
       "      <td>0.0</td>\n",
       "      <td>0.0</td>\n",
       "      <td>0.000000</td>\n",
       "      <td>0.0</td>\n",
       "      <td>0.116112</td>\n",
       "      <td>0.0</td>\n",
       "    </tr>\n",
       "    <tr>\n",
       "      <th>3</th>\n",
       "      <td>Sumatra Dark</td>\n",
       "      <td>Van Houtte Cafe</td>\n",
       "      <td>1</td>\n",
       "      <td>2006</td>\n",
       "      <td>46</td>\n",
       "      <td>57</td>\n",
       "      <td>8</td>\n",
       "      <td>8</td>\n",
       "      <td>7</td>\n",
       "      <td>8</td>\n",
       "      <td>...</td>\n",
       "      <td>0.0</td>\n",
       "      <td>0.0</td>\n",
       "      <td>0.0</td>\n",
       "      <td>0.0</td>\n",
       "      <td>0.0</td>\n",
       "      <td>0.0</td>\n",
       "      <td>0.000000</td>\n",
       "      <td>0.0</td>\n",
       "      <td>0.000000</td>\n",
       "      <td>0.0</td>\n",
       "    </tr>\n",
       "    <tr>\n",
       "      <th>4</th>\n",
       "      <td>French Roast</td>\n",
       "      <td>Tully's Coffee</td>\n",
       "      <td>1</td>\n",
       "      <td>2012</td>\n",
       "      <td>25</td>\n",
       "      <td>28</td>\n",
       "      <td>6</td>\n",
       "      <td>7</td>\n",
       "      <td>8</td>\n",
       "      <td>7</td>\n",
       "      <td>...</td>\n",
       "      <td>0.0</td>\n",
       "      <td>0.0</td>\n",
       "      <td>0.0</td>\n",
       "      <td>0.0</td>\n",
       "      <td>0.0</td>\n",
       "      <td>0.0</td>\n",
       "      <td>0.223662</td>\n",
       "      <td>0.0</td>\n",
       "      <td>0.000000</td>\n",
       "      <td>0.0</td>\n",
       "    </tr>\n",
       "  </tbody>\n",
       "</table>\n",
       "<p>5 rows × 632 columns</p>\n",
       "</div>"
      ],
      "text/plain": [
       "                              coffee_name              roaster_name  month  \\\n",
       "0  East Timor Maubesse Fair-Trade Organic  PT's Coffee Roasting Co.      4   \n",
       "1                       Ambrosia Espresso              Caffe Fresco      9   \n",
       "2       SFCC House Blend Espresso Capsule                 Gourmesso      7   \n",
       "3                            Sumatra Dark           Van Houtte Cafe      1   \n",
       "4                            French Roast            Tully's Coffee      1   \n",
       "\n",
       "   year  bean_agtron  ground_agtron  aroma  acidity  body  flavor  ...  white  \\\n",
       "0  2007           51             68      8        7     8       7  ...    0.0   \n",
       "1  2005           37             47      8        7     7       7  ...    0.0   \n",
       "2  2016           58             58      7        8     8       8  ...    0.0   \n",
       "3  2006           46             57      8        8     7       8  ...    0.0   \n",
       "4  2012           25             28      6        7     8       7  ...    0.0   \n",
       "\n",
       "   wild  willem  wine  winy  wisteria      wood  woody      zest  zesty  \n",
       "0   0.0     0.0   0.0   0.0       0.0  0.000000    0.0  0.000000    0.0  \n",
       "1   0.0     0.0   0.0   0.0       0.0  0.000000    0.0  0.000000    0.0  \n",
       "2   0.0     0.0   0.0   0.0       0.0  0.000000    0.0  0.116112    0.0  \n",
       "3   0.0     0.0   0.0   0.0       0.0  0.000000    0.0  0.000000    0.0  \n",
       "4   0.0     0.0   0.0   0.0       0.0  0.223662    0.0  0.000000    0.0  \n",
       "\n",
       "[5 rows x 632 columns]"
      ]
     },
     "execution_count": 21,
     "metadata": {},
     "output_type": "execute_result"
    }
   ],
   "source": [
    "Xtest_df_tfidf.head()"
   ]
  },
  {
   "cell_type": "markdown",
   "id": "3e8bc3c5",
   "metadata": {},
   "source": [
    "Importing the y values:"
   ]
  },
  {
   "cell_type": "code",
   "execution_count": 22,
   "id": "3c9c15b0",
   "metadata": {},
   "outputs": [
    {
     "data": {
      "text/html": [
       "<div>\n",
       "<style scoped>\n",
       "    .dataframe tbody tr th:only-of-type {\n",
       "        vertical-align: middle;\n",
       "    }\n",
       "\n",
       "    .dataframe tbody tr th {\n",
       "        vertical-align: top;\n",
       "    }\n",
       "\n",
       "    .dataframe thead th {\n",
       "        text-align: right;\n",
       "    }\n",
       "</style>\n",
       "<table border=\"1\" class=\"dataframe\">\n",
       "  <thead>\n",
       "    <tr style=\"text-align: right;\">\n",
       "      <th></th>\n",
       "      <th>overall_score</th>\n",
       "    </tr>\n",
       "  </thead>\n",
       "  <tbody>\n",
       "    <tr>\n",
       "      <th>0</th>\n",
       "      <td>89</td>\n",
       "    </tr>\n",
       "    <tr>\n",
       "      <th>1</th>\n",
       "      <td>88</td>\n",
       "    </tr>\n",
       "    <tr>\n",
       "      <th>2</th>\n",
       "      <td>93</td>\n",
       "    </tr>\n",
       "    <tr>\n",
       "      <th>3</th>\n",
       "      <td>95</td>\n",
       "    </tr>\n",
       "    <tr>\n",
       "      <th>4</th>\n",
       "      <td>93</td>\n",
       "    </tr>\n",
       "  </tbody>\n",
       "</table>\n",
       "</div>"
      ],
      "text/plain": [
       "   overall_score\n",
       "0             89\n",
       "1             88\n",
       "2             93\n",
       "3             95\n",
       "4             93"
      ]
     },
     "execution_count": 22,
     "metadata": {},
     "output_type": "execute_result"
    }
   ],
   "source": [
    "y_remain_df = pd.read_csv('y_remain_df.csv')\n",
    "y_remain_df.head()"
   ]
  },
  {
   "cell_type": "code",
   "execution_count": 23,
   "id": "4f8ea157",
   "metadata": {},
   "outputs": [
    {
     "data": {
      "text/plain": [
       "0       89\n",
       "1       88\n",
       "2       93\n",
       "3       95\n",
       "4       93\n",
       "        ..\n",
       "4189    92\n",
       "4190    94\n",
       "4191    92\n",
       "4192    92\n",
       "4193    94\n",
       "Name: overall_score, Length: 4194, dtype: int64"
      ]
     },
     "execution_count": 23,
     "metadata": {},
     "output_type": "execute_result"
    }
   ],
   "source": [
    "#formatting y to work for modeling later\n",
    "#note lengths match corresponding X dataframe\n",
    "y_remain = y_remain_df['overall_score']\n",
    "y_remain"
   ]
  },
  {
   "cell_type": "code",
   "execution_count": 24,
   "id": "4629e9f5",
   "metadata": {},
   "outputs": [
    {
     "data": {
      "text/html": [
       "<div>\n",
       "<style scoped>\n",
       "    .dataframe tbody tr th:only-of-type {\n",
       "        vertical-align: middle;\n",
       "    }\n",
       "\n",
       "    .dataframe tbody tr th {\n",
       "        vertical-align: top;\n",
       "    }\n",
       "\n",
       "    .dataframe thead th {\n",
       "        text-align: right;\n",
       "    }\n",
       "</style>\n",
       "<table border=\"1\" class=\"dataframe\">\n",
       "  <thead>\n",
       "    <tr style=\"text-align: right;\">\n",
       "      <th></th>\n",
       "      <th>overall_score</th>\n",
       "    </tr>\n",
       "  </thead>\n",
       "  <tbody>\n",
       "    <tr>\n",
       "      <th>0</th>\n",
       "      <td>92</td>\n",
       "    </tr>\n",
       "    <tr>\n",
       "      <th>1</th>\n",
       "      <td>90</td>\n",
       "    </tr>\n",
       "    <tr>\n",
       "      <th>2</th>\n",
       "      <td>92</td>\n",
       "    </tr>\n",
       "    <tr>\n",
       "      <th>3</th>\n",
       "      <td>91</td>\n",
       "    </tr>\n",
       "    <tr>\n",
       "      <th>4</th>\n",
       "      <td>84</td>\n",
       "    </tr>\n",
       "  </tbody>\n",
       "</table>\n",
       "</div>"
      ],
      "text/plain": [
       "   overall_score\n",
       "0             92\n",
       "1             90\n",
       "2             92\n",
       "3             91\n",
       "4             84"
      ]
     },
     "execution_count": 24,
     "metadata": {},
     "output_type": "execute_result"
    }
   ],
   "source": [
    "y_val_df = pd.read_csv('y_val_df.csv')\n",
    "y_val_df.head()"
   ]
  },
  {
   "cell_type": "code",
   "execution_count": 25,
   "id": "22f42d35",
   "metadata": {},
   "outputs": [
    {
     "data": {
      "text/plain": [
       "0       92\n",
       "1       90\n",
       "2       92\n",
       "3       91\n",
       "4       84\n",
       "        ..\n",
       "1044    92\n",
       "1045    89\n",
       "1046    92\n",
       "1047    92\n",
       "1048    87\n",
       "Name: overall_score, Length: 1049, dtype: int64"
      ]
     },
     "execution_count": 25,
     "metadata": {},
     "output_type": "execute_result"
    }
   ],
   "source": [
    "#formatting y to work for modeling later\n",
    "#note lengths match corresponding X dataframe\n",
    "y_val = y_val_df['overall_score']\n",
    "y_val"
   ]
  },
  {
   "cell_type": "code",
   "execution_count": 26,
   "id": "7a4f5833",
   "metadata": {},
   "outputs": [
    {
     "data": {
      "text/html": [
       "<div>\n",
       "<style scoped>\n",
       "    .dataframe tbody tr th:only-of-type {\n",
       "        vertical-align: middle;\n",
       "    }\n",
       "\n",
       "    .dataframe tbody tr th {\n",
       "        vertical-align: top;\n",
       "    }\n",
       "\n",
       "    .dataframe thead th {\n",
       "        text-align: right;\n",
       "    }\n",
       "</style>\n",
       "<table border=\"1\" class=\"dataframe\">\n",
       "  <thead>\n",
       "    <tr style=\"text-align: right;\">\n",
       "      <th></th>\n",
       "      <th>overall_score</th>\n",
       "    </tr>\n",
       "  </thead>\n",
       "  <tbody>\n",
       "    <tr>\n",
       "      <th>0</th>\n",
       "      <td>92</td>\n",
       "    </tr>\n",
       "    <tr>\n",
       "      <th>1</th>\n",
       "      <td>87</td>\n",
       "    </tr>\n",
       "    <tr>\n",
       "      <th>2</th>\n",
       "      <td>87</td>\n",
       "    </tr>\n",
       "    <tr>\n",
       "      <th>3</th>\n",
       "      <td>90</td>\n",
       "    </tr>\n",
       "    <tr>\n",
       "      <th>4</th>\n",
       "      <td>85</td>\n",
       "    </tr>\n",
       "  </tbody>\n",
       "</table>\n",
       "</div>"
      ],
      "text/plain": [
       "   overall_score\n",
       "0             92\n",
       "1             87\n",
       "2             87\n",
       "3             90\n",
       "4             85"
      ]
     },
     "execution_count": 26,
     "metadata": {},
     "output_type": "execute_result"
    }
   ],
   "source": [
    "y_test_df = pd.read_csv('y_test_df.csv')\n",
    "y_test_df.head()"
   ]
  },
  {
   "cell_type": "code",
   "execution_count": 27,
   "id": "7130df20",
   "metadata": {},
   "outputs": [
    {
     "data": {
      "text/plain": [
       "0       92\n",
       "1       87\n",
       "2       87\n",
       "3       90\n",
       "4       85\n",
       "        ..\n",
       "1306    95\n",
       "1307    90\n",
       "1308    91\n",
       "1309    94\n",
       "1310    93\n",
       "Name: overall_score, Length: 1311, dtype: int64"
      ]
     },
     "execution_count": 27,
     "metadata": {},
     "output_type": "execute_result"
    }
   ],
   "source": [
    "#formatting y to work for modeling later\n",
    "#note lengths match corresponding X dataframe\n",
    "y_test = y_test_df['overall_score']\n",
    "y_test"
   ]
  },
  {
   "cell_type": "code",
   "execution_count": 28,
   "id": "4966e262",
   "metadata": {},
   "outputs": [
    {
     "data": {
      "text/plain": [
       "0"
      ]
     },
     "execution_count": 28,
     "metadata": {},
     "output_type": "execute_result"
    }
   ],
   "source": [
    "#verifying no null values introduced during vectorizing process\n",
    "Xremain_df_tfidf.isnull().sum().sum()"
   ]
  },
  {
   "cell_type": "code",
   "execution_count": 29,
   "id": "6e39c777",
   "metadata": {},
   "outputs": [
    {
     "data": {
      "text/plain": [
       "0"
      ]
     },
     "execution_count": 29,
     "metadata": {},
     "output_type": "execute_result"
    }
   ],
   "source": [
    "Xval_df_tfidf.isnull().sum().sum()"
   ]
  },
  {
   "cell_type": "code",
   "execution_count": 30,
   "id": "8d1093d3",
   "metadata": {},
   "outputs": [
    {
     "data": {
      "text/plain": [
       "0"
      ]
     },
     "execution_count": 30,
     "metadata": {},
     "output_type": "execute_result"
    }
   ],
   "source": [
    "Xtest_df_tfidf.isnull().sum().sum()"
   ]
  },
  {
   "cell_type": "code",
   "execution_count": 31,
   "id": "2c57fc51",
   "metadata": {},
   "outputs": [
    {
     "data": {
      "text/plain": [
       "0"
      ]
     },
     "execution_count": 31,
     "metadata": {},
     "output_type": "execute_result"
    }
   ],
   "source": [
    "y_remain.isnull().sum().sum()"
   ]
  },
  {
   "cell_type": "code",
   "execution_count": 32,
   "id": "d362a7e4",
   "metadata": {},
   "outputs": [
    {
     "data": {
      "text/plain": [
       "0"
      ]
     },
     "execution_count": 32,
     "metadata": {},
     "output_type": "execute_result"
    }
   ],
   "source": [
    "y_val.isnull().sum().sum()"
   ]
  },
  {
   "cell_type": "code",
   "execution_count": 33,
   "id": "59014536",
   "metadata": {},
   "outputs": [
    {
     "data": {
      "text/plain": [
       "0"
      ]
     },
     "execution_count": 33,
     "metadata": {},
     "output_type": "execute_result"
    }
   ],
   "source": [
    "y_test.isnull().sum().sum()"
   ]
  },
  {
   "cell_type": "markdown",
   "id": "7f722192",
   "metadata": {},
   "source": [
    "Dropping the remaining text columns `coffee_name` and `roaster_name`:"
   ]
  },
  {
   "cell_type": "code",
   "execution_count": 34,
   "id": "3080792a",
   "metadata": {},
   "outputs": [],
   "source": [
    "Xremain_df_tfidf.drop(['coffee_name', 'roaster_name'], axis=1, inplace=True)"
   ]
  },
  {
   "cell_type": "code",
   "execution_count": 35,
   "id": "b89be237",
   "metadata": {},
   "outputs": [
    {
     "data": {
      "text/html": [
       "<div>\n",
       "<style scoped>\n",
       "    .dataframe tbody tr th:only-of-type {\n",
       "        vertical-align: middle;\n",
       "    }\n",
       "\n",
       "    .dataframe tbody tr th {\n",
       "        vertical-align: top;\n",
       "    }\n",
       "\n",
       "    .dataframe thead th {\n",
       "        text-align: right;\n",
       "    }\n",
       "</style>\n",
       "<table border=\"1\" class=\"dataframe\">\n",
       "  <thead>\n",
       "    <tr style=\"text-align: right;\">\n",
       "      <th></th>\n",
       "      <th>month</th>\n",
       "      <th>year</th>\n",
       "      <th>bean_agtron</th>\n",
       "      <th>ground_agtron</th>\n",
       "      <th>aroma</th>\n",
       "      <th>acidity</th>\n",
       "      <th>body</th>\n",
       "      <th>flavor</th>\n",
       "      <th>aftertaste</th>\n",
       "      <th>roaster_lat</th>\n",
       "      <th>...</th>\n",
       "      <th>white</th>\n",
       "      <th>wild</th>\n",
       "      <th>willem</th>\n",
       "      <th>wine</th>\n",
       "      <th>winy</th>\n",
       "      <th>wisteria</th>\n",
       "      <th>wood</th>\n",
       "      <th>woody</th>\n",
       "      <th>zest</th>\n",
       "      <th>zesty</th>\n",
       "    </tr>\n",
       "  </thead>\n",
       "  <tbody>\n",
       "    <tr>\n",
       "      <th>0</th>\n",
       "      <td>11</td>\n",
       "      <td>1999</td>\n",
       "      <td>54</td>\n",
       "      <td>71</td>\n",
       "      <td>8</td>\n",
       "      <td>8</td>\n",
       "      <td>7</td>\n",
       "      <td>8</td>\n",
       "      <td>8</td>\n",
       "      <td>40.015416</td>\n",
       "      <td>...</td>\n",
       "      <td>0.0</td>\n",
       "      <td>0.314372</td>\n",
       "      <td>0.0</td>\n",
       "      <td>0.248770</td>\n",
       "      <td>0.000000</td>\n",
       "      <td>0.0</td>\n",
       "      <td>0.0</td>\n",
       "      <td>0.0</td>\n",
       "      <td>0.0</td>\n",
       "      <td>0.0</td>\n",
       "    </tr>\n",
       "    <tr>\n",
       "      <th>1</th>\n",
       "      <td>6</td>\n",
       "      <td>1999</td>\n",
       "      <td>33</td>\n",
       "      <td>35</td>\n",
       "      <td>7</td>\n",
       "      <td>8</td>\n",
       "      <td>7</td>\n",
       "      <td>8</td>\n",
       "      <td>8</td>\n",
       "      <td>47.603832</td>\n",
       "      <td>...</td>\n",
       "      <td>0.0</td>\n",
       "      <td>0.000000</td>\n",
       "      <td>0.0</td>\n",
       "      <td>0.403825</td>\n",
       "      <td>0.000000</td>\n",
       "      <td>0.0</td>\n",
       "      <td>0.0</td>\n",
       "      <td>0.0</td>\n",
       "      <td>0.0</td>\n",
       "      <td>0.0</td>\n",
       "    </tr>\n",
       "    <tr>\n",
       "      <th>2</th>\n",
       "      <td>2</td>\n",
       "      <td>2007</td>\n",
       "      <td>56</td>\n",
       "      <td>68</td>\n",
       "      <td>8</td>\n",
       "      <td>7</td>\n",
       "      <td>8</td>\n",
       "      <td>7</td>\n",
       "      <td>7</td>\n",
       "      <td>42.485093</td>\n",
       "      <td>...</td>\n",
       "      <td>0.0</td>\n",
       "      <td>0.000000</td>\n",
       "      <td>0.0</td>\n",
       "      <td>0.000000</td>\n",
       "      <td>0.000000</td>\n",
       "      <td>0.0</td>\n",
       "      <td>0.0</td>\n",
       "      <td>0.0</td>\n",
       "      <td>0.0</td>\n",
       "      <td>0.0</td>\n",
       "    </tr>\n",
       "    <tr>\n",
       "      <th>3</th>\n",
       "      <td>9</td>\n",
       "      <td>2017</td>\n",
       "      <td>54</td>\n",
       "      <td>78</td>\n",
       "      <td>10</td>\n",
       "      <td>9</td>\n",
       "      <td>9</td>\n",
       "      <td>9</td>\n",
       "      <td>8</td>\n",
       "      <td>38.029306</td>\n",
       "      <td>...</td>\n",
       "      <td>0.0</td>\n",
       "      <td>0.000000</td>\n",
       "      <td>0.0</td>\n",
       "      <td>0.000000</td>\n",
       "      <td>0.000000</td>\n",
       "      <td>0.0</td>\n",
       "      <td>0.0</td>\n",
       "      <td>0.0</td>\n",
       "      <td>0.0</td>\n",
       "      <td>0.0</td>\n",
       "    </tr>\n",
       "    <tr>\n",
       "      <th>4</th>\n",
       "      <td>3</td>\n",
       "      <td>1997</td>\n",
       "      <td>46</td>\n",
       "      <td>49</td>\n",
       "      <td>8</td>\n",
       "      <td>8</td>\n",
       "      <td>8</td>\n",
       "      <td>8</td>\n",
       "      <td>8</td>\n",
       "      <td>41.279541</td>\n",
       "      <td>...</td>\n",
       "      <td>0.0</td>\n",
       "      <td>0.000000</td>\n",
       "      <td>0.0</td>\n",
       "      <td>0.000000</td>\n",
       "      <td>0.451704</td>\n",
       "      <td>0.0</td>\n",
       "      <td>0.0</td>\n",
       "      <td>0.0</td>\n",
       "      <td>0.0</td>\n",
       "      <td>0.0</td>\n",
       "    </tr>\n",
       "  </tbody>\n",
       "</table>\n",
       "<p>5 rows × 630 columns</p>\n",
       "</div>"
      ],
      "text/plain": [
       "   month  year  bean_agtron  ground_agtron  aroma  acidity  body  flavor  \\\n",
       "0     11  1999           54             71      8        8     7       8   \n",
       "1      6  1999           33             35      7        8     7       8   \n",
       "2      2  2007           56             68      8        7     8       7   \n",
       "3      9  2017           54             78     10        9     9       9   \n",
       "4      3  1997           46             49      8        8     8       8   \n",
       "\n",
       "   aftertaste  roaster_lat  ...  white      wild  willem      wine      winy  \\\n",
       "0           8    40.015416  ...    0.0  0.314372     0.0  0.248770  0.000000   \n",
       "1           8    47.603832  ...    0.0  0.000000     0.0  0.403825  0.000000   \n",
       "2           7    42.485093  ...    0.0  0.000000     0.0  0.000000  0.000000   \n",
       "3           8    38.029306  ...    0.0  0.000000     0.0  0.000000  0.000000   \n",
       "4           8    41.279541  ...    0.0  0.000000     0.0  0.000000  0.451704   \n",
       "\n",
       "   wisteria  wood  woody  zest  zesty  \n",
       "0       0.0   0.0    0.0   0.0    0.0  \n",
       "1       0.0   0.0    0.0   0.0    0.0  \n",
       "2       0.0   0.0    0.0   0.0    0.0  \n",
       "3       0.0   0.0    0.0   0.0    0.0  \n",
       "4       0.0   0.0    0.0   0.0    0.0  \n",
       "\n",
       "[5 rows x 630 columns]"
      ]
     },
     "execution_count": 35,
     "metadata": {},
     "output_type": "execute_result"
    }
   ],
   "source": [
    "Xremain_df_tfidf.head()"
   ]
  },
  {
   "cell_type": "code",
   "execution_count": 36,
   "id": "3d51e9d4",
   "metadata": {},
   "outputs": [],
   "source": [
    "Xval_df_tfidf.drop(['coffee_name', 'roaster_name'], axis=1, inplace=True)"
   ]
  },
  {
   "cell_type": "code",
   "execution_count": 37,
   "id": "b86eeff1",
   "metadata": {},
   "outputs": [
    {
     "data": {
      "text/html": [
       "<div>\n",
       "<style scoped>\n",
       "    .dataframe tbody tr th:only-of-type {\n",
       "        vertical-align: middle;\n",
       "    }\n",
       "\n",
       "    .dataframe tbody tr th {\n",
       "        vertical-align: top;\n",
       "    }\n",
       "\n",
       "    .dataframe thead th {\n",
       "        text-align: right;\n",
       "    }\n",
       "</style>\n",
       "<table border=\"1\" class=\"dataframe\">\n",
       "  <thead>\n",
       "    <tr style=\"text-align: right;\">\n",
       "      <th></th>\n",
       "      <th>month</th>\n",
       "      <th>year</th>\n",
       "      <th>bean_agtron</th>\n",
       "      <th>ground_agtron</th>\n",
       "      <th>aroma</th>\n",
       "      <th>acidity</th>\n",
       "      <th>body</th>\n",
       "      <th>flavor</th>\n",
       "      <th>aftertaste</th>\n",
       "      <th>roaster_lat</th>\n",
       "      <th>...</th>\n",
       "      <th>white</th>\n",
       "      <th>wild</th>\n",
       "      <th>willem</th>\n",
       "      <th>wine</th>\n",
       "      <th>winy</th>\n",
       "      <th>wisteria</th>\n",
       "      <th>wood</th>\n",
       "      <th>woody</th>\n",
       "      <th>zest</th>\n",
       "      <th>zesty</th>\n",
       "    </tr>\n",
       "  </thead>\n",
       "  <tbody>\n",
       "    <tr>\n",
       "      <th>0</th>\n",
       "      <td>8</td>\n",
       "      <td>2011</td>\n",
       "      <td>43</td>\n",
       "      <td>49</td>\n",
       "      <td>8</td>\n",
       "      <td>7</td>\n",
       "      <td>8</td>\n",
       "      <td>9</td>\n",
       "      <td>10</td>\n",
       "      <td>44.977300</td>\n",
       "      <td>...</td>\n",
       "      <td>0.0</td>\n",
       "      <td>0.0</td>\n",
       "      <td>0.0</td>\n",
       "      <td>0.0</td>\n",
       "      <td>0.0</td>\n",
       "      <td>0.0</td>\n",
       "      <td>0.186518</td>\n",
       "      <td>0.0</td>\n",
       "      <td>0.000000</td>\n",
       "      <td>0.0</td>\n",
       "    </tr>\n",
       "    <tr>\n",
       "      <th>1</th>\n",
       "      <td>12</td>\n",
       "      <td>2004</td>\n",
       "      <td>61</td>\n",
       "      <td>68</td>\n",
       "      <td>8</td>\n",
       "      <td>8</td>\n",
       "      <td>8</td>\n",
       "      <td>8</td>\n",
       "      <td>8</td>\n",
       "      <td>39.100105</td>\n",
       "      <td>...</td>\n",
       "      <td>0.0</td>\n",
       "      <td>0.0</td>\n",
       "      <td>0.0</td>\n",
       "      <td>0.0</td>\n",
       "      <td>0.0</td>\n",
       "      <td>0.0</td>\n",
       "      <td>0.000000</td>\n",
       "      <td>0.0</td>\n",
       "      <td>0.000000</td>\n",
       "      <td>0.0</td>\n",
       "    </tr>\n",
       "    <tr>\n",
       "      <th>2</th>\n",
       "      <td>3</td>\n",
       "      <td>2016</td>\n",
       "      <td>57</td>\n",
       "      <td>80</td>\n",
       "      <td>9</td>\n",
       "      <td>8</td>\n",
       "      <td>8</td>\n",
       "      <td>9</td>\n",
       "      <td>8</td>\n",
       "      <td>38.581061</td>\n",
       "      <td>...</td>\n",
       "      <td>0.0</td>\n",
       "      <td>0.0</td>\n",
       "      <td>0.0</td>\n",
       "      <td>0.0</td>\n",
       "      <td>0.0</td>\n",
       "      <td>0.0</td>\n",
       "      <td>0.000000</td>\n",
       "      <td>0.0</td>\n",
       "      <td>0.147089</td>\n",
       "      <td>0.0</td>\n",
       "    </tr>\n",
       "    <tr>\n",
       "      <th>3</th>\n",
       "      <td>3</td>\n",
       "      <td>2016</td>\n",
       "      <td>60</td>\n",
       "      <td>72</td>\n",
       "      <td>9</td>\n",
       "      <td>8</td>\n",
       "      <td>8</td>\n",
       "      <td>8</td>\n",
       "      <td>8</td>\n",
       "      <td>32.717420</td>\n",
       "      <td>...</td>\n",
       "      <td>0.0</td>\n",
       "      <td>0.0</td>\n",
       "      <td>0.0</td>\n",
       "      <td>0.0</td>\n",
       "      <td>0.0</td>\n",
       "      <td>0.0</td>\n",
       "      <td>0.000000</td>\n",
       "      <td>0.0</td>\n",
       "      <td>0.000000</td>\n",
       "      <td>0.0</td>\n",
       "    </tr>\n",
       "    <tr>\n",
       "      <th>4</th>\n",
       "      <td>6</td>\n",
       "      <td>1999</td>\n",
       "      <td>35</td>\n",
       "      <td>42</td>\n",
       "      <td>7</td>\n",
       "      <td>6</td>\n",
       "      <td>6</td>\n",
       "      <td>7</td>\n",
       "      <td>7</td>\n",
       "      <td>34.053691</td>\n",
       "      <td>...</td>\n",
       "      <td>0.0</td>\n",
       "      <td>0.0</td>\n",
       "      <td>0.0</td>\n",
       "      <td>0.0</td>\n",
       "      <td>0.0</td>\n",
       "      <td>0.0</td>\n",
       "      <td>0.000000</td>\n",
       "      <td>0.0</td>\n",
       "      <td>0.000000</td>\n",
       "      <td>0.0</td>\n",
       "    </tr>\n",
       "  </tbody>\n",
       "</table>\n",
       "<p>5 rows × 630 columns</p>\n",
       "</div>"
      ],
      "text/plain": [
       "   month  year  bean_agtron  ground_agtron  aroma  acidity  body  flavor  \\\n",
       "0      8  2011           43             49      8        7     8       9   \n",
       "1     12  2004           61             68      8        8     8       8   \n",
       "2      3  2016           57             80      9        8     8       9   \n",
       "3      3  2016           60             72      9        8     8       8   \n",
       "4      6  1999           35             42      7        6     6       7   \n",
       "\n",
       "   aftertaste  roaster_lat  ...  white  wild  willem  wine  winy  wisteria  \\\n",
       "0          10    44.977300  ...    0.0   0.0     0.0   0.0   0.0       0.0   \n",
       "1           8    39.100105  ...    0.0   0.0     0.0   0.0   0.0       0.0   \n",
       "2           8    38.581061  ...    0.0   0.0     0.0   0.0   0.0       0.0   \n",
       "3           8    32.717420  ...    0.0   0.0     0.0   0.0   0.0       0.0   \n",
       "4           7    34.053691  ...    0.0   0.0     0.0   0.0   0.0       0.0   \n",
       "\n",
       "       wood  woody      zest  zesty  \n",
       "0  0.186518    0.0  0.000000    0.0  \n",
       "1  0.000000    0.0  0.000000    0.0  \n",
       "2  0.000000    0.0  0.147089    0.0  \n",
       "3  0.000000    0.0  0.000000    0.0  \n",
       "4  0.000000    0.0  0.000000    0.0  \n",
       "\n",
       "[5 rows x 630 columns]"
      ]
     },
     "execution_count": 37,
     "metadata": {},
     "output_type": "execute_result"
    }
   ],
   "source": [
    "Xval_df_tfidf.head()"
   ]
  },
  {
   "cell_type": "code",
   "execution_count": 38,
   "id": "52ac45cf",
   "metadata": {},
   "outputs": [],
   "source": [
    "Xtest_df_tfidf.drop(['coffee_name', 'roaster_name'], axis=1, inplace=True)"
   ]
  },
  {
   "cell_type": "code",
   "execution_count": 39,
   "id": "23af1cca",
   "metadata": {},
   "outputs": [
    {
     "data": {
      "text/html": [
       "<div>\n",
       "<style scoped>\n",
       "    .dataframe tbody tr th:only-of-type {\n",
       "        vertical-align: middle;\n",
       "    }\n",
       "\n",
       "    .dataframe tbody tr th {\n",
       "        vertical-align: top;\n",
       "    }\n",
       "\n",
       "    .dataframe thead th {\n",
       "        text-align: right;\n",
       "    }\n",
       "</style>\n",
       "<table border=\"1\" class=\"dataframe\">\n",
       "  <thead>\n",
       "    <tr style=\"text-align: right;\">\n",
       "      <th></th>\n",
       "      <th>month</th>\n",
       "      <th>year</th>\n",
       "      <th>bean_agtron</th>\n",
       "      <th>ground_agtron</th>\n",
       "      <th>aroma</th>\n",
       "      <th>acidity</th>\n",
       "      <th>body</th>\n",
       "      <th>flavor</th>\n",
       "      <th>aftertaste</th>\n",
       "      <th>roaster_lat</th>\n",
       "      <th>...</th>\n",
       "      <th>white</th>\n",
       "      <th>wild</th>\n",
       "      <th>willem</th>\n",
       "      <th>wine</th>\n",
       "      <th>winy</th>\n",
       "      <th>wisteria</th>\n",
       "      <th>wood</th>\n",
       "      <th>woody</th>\n",
       "      <th>zest</th>\n",
       "      <th>zesty</th>\n",
       "    </tr>\n",
       "  </thead>\n",
       "  <tbody>\n",
       "    <tr>\n",
       "      <th>0</th>\n",
       "      <td>4</td>\n",
       "      <td>2007</td>\n",
       "      <td>51</td>\n",
       "      <td>68</td>\n",
       "      <td>8</td>\n",
       "      <td>7</td>\n",
       "      <td>8</td>\n",
       "      <td>7</td>\n",
       "      <td>7</td>\n",
       "      <td>39.049011</td>\n",
       "      <td>...</td>\n",
       "      <td>0.0</td>\n",
       "      <td>0.0</td>\n",
       "      <td>0.0</td>\n",
       "      <td>0.0</td>\n",
       "      <td>0.0</td>\n",
       "      <td>0.0</td>\n",
       "      <td>0.000000</td>\n",
       "      <td>0.0</td>\n",
       "      <td>0.000000</td>\n",
       "      <td>0.0</td>\n",
       "    </tr>\n",
       "    <tr>\n",
       "      <th>1</th>\n",
       "      <td>9</td>\n",
       "      <td>2005</td>\n",
       "      <td>37</td>\n",
       "      <td>47</td>\n",
       "      <td>8</td>\n",
       "      <td>7</td>\n",
       "      <td>7</td>\n",
       "      <td>7</td>\n",
       "      <td>7</td>\n",
       "      <td>41.325913</td>\n",
       "      <td>...</td>\n",
       "      <td>0.0</td>\n",
       "      <td>0.0</td>\n",
       "      <td>0.0</td>\n",
       "      <td>0.0</td>\n",
       "      <td>0.0</td>\n",
       "      <td>0.0</td>\n",
       "      <td>0.000000</td>\n",
       "      <td>0.0</td>\n",
       "      <td>0.000000</td>\n",
       "      <td>0.0</td>\n",
       "    </tr>\n",
       "    <tr>\n",
       "      <th>2</th>\n",
       "      <td>7</td>\n",
       "      <td>2016</td>\n",
       "      <td>58</td>\n",
       "      <td>58</td>\n",
       "      <td>7</td>\n",
       "      <td>8</td>\n",
       "      <td>8</td>\n",
       "      <td>8</td>\n",
       "      <td>7</td>\n",
       "      <td>52.517037</td>\n",
       "      <td>...</td>\n",
       "      <td>0.0</td>\n",
       "      <td>0.0</td>\n",
       "      <td>0.0</td>\n",
       "      <td>0.0</td>\n",
       "      <td>0.0</td>\n",
       "      <td>0.0</td>\n",
       "      <td>0.000000</td>\n",
       "      <td>0.0</td>\n",
       "      <td>0.116112</td>\n",
       "      <td>0.0</td>\n",
       "    </tr>\n",
       "    <tr>\n",
       "      <th>3</th>\n",
       "      <td>1</td>\n",
       "      <td>2006</td>\n",
       "      <td>46</td>\n",
       "      <td>57</td>\n",
       "      <td>8</td>\n",
       "      <td>8</td>\n",
       "      <td>7</td>\n",
       "      <td>8</td>\n",
       "      <td>8</td>\n",
       "      <td>45.503182</td>\n",
       "      <td>...</td>\n",
       "      <td>0.0</td>\n",
       "      <td>0.0</td>\n",
       "      <td>0.0</td>\n",
       "      <td>0.0</td>\n",
       "      <td>0.0</td>\n",
       "      <td>0.0</td>\n",
       "      <td>0.000000</td>\n",
       "      <td>0.0</td>\n",
       "      <td>0.000000</td>\n",
       "      <td>0.0</td>\n",
       "    </tr>\n",
       "    <tr>\n",
       "      <th>4</th>\n",
       "      <td>1</td>\n",
       "      <td>2012</td>\n",
       "      <td>25</td>\n",
       "      <td>28</td>\n",
       "      <td>6</td>\n",
       "      <td>7</td>\n",
       "      <td>8</td>\n",
       "      <td>7</td>\n",
       "      <td>7</td>\n",
       "      <td>47.603832</td>\n",
       "      <td>...</td>\n",
       "      <td>0.0</td>\n",
       "      <td>0.0</td>\n",
       "      <td>0.0</td>\n",
       "      <td>0.0</td>\n",
       "      <td>0.0</td>\n",
       "      <td>0.0</td>\n",
       "      <td>0.223662</td>\n",
       "      <td>0.0</td>\n",
       "      <td>0.000000</td>\n",
       "      <td>0.0</td>\n",
       "    </tr>\n",
       "  </tbody>\n",
       "</table>\n",
       "<p>5 rows × 630 columns</p>\n",
       "</div>"
      ],
      "text/plain": [
       "   month  year  bean_agtron  ground_agtron  aroma  acidity  body  flavor  \\\n",
       "0      4  2007           51             68      8        7     8       7   \n",
       "1      9  2005           37             47      8        7     7       7   \n",
       "2      7  2016           58             58      7        8     8       8   \n",
       "3      1  2006           46             57      8        8     7       8   \n",
       "4      1  2012           25             28      6        7     8       7   \n",
       "\n",
       "   aftertaste  roaster_lat  ...  white  wild  willem  wine  winy  wisteria  \\\n",
       "0           7    39.049011  ...    0.0   0.0     0.0   0.0   0.0       0.0   \n",
       "1           7    41.325913  ...    0.0   0.0     0.0   0.0   0.0       0.0   \n",
       "2           7    52.517037  ...    0.0   0.0     0.0   0.0   0.0       0.0   \n",
       "3           8    45.503182  ...    0.0   0.0     0.0   0.0   0.0       0.0   \n",
       "4           7    47.603832  ...    0.0   0.0     0.0   0.0   0.0       0.0   \n",
       "\n",
       "       wood  woody      zest  zesty  \n",
       "0  0.000000    0.0  0.000000    0.0  \n",
       "1  0.000000    0.0  0.000000    0.0  \n",
       "2  0.000000    0.0  0.116112    0.0  \n",
       "3  0.000000    0.0  0.000000    0.0  \n",
       "4  0.223662    0.0  0.000000    0.0  \n",
       "\n",
       "[5 rows x 630 columns]"
      ]
     },
     "execution_count": 39,
     "metadata": {},
     "output_type": "execute_result"
    }
   ],
   "source": [
    "Xtest_df_tfidf.head()"
   ]
  },
  {
   "cell_type": "markdown",
   "id": "ee36a60a",
   "metadata": {},
   "source": [
    "## 3. Scaling the Data <a class=\"anchor\" id=\"header3\"></a>\n",
    "\n",
    "While scaling isn't required for all the model types (like linear regression), we'll go ahead and scale now to simplify the process."
   ]
  },
  {
   "cell_type": "code",
   "execution_count": 40,
   "id": "347b51a9",
   "metadata": {},
   "outputs": [],
   "source": [
    "#fitting min max scaler on remain data\n",
    "mm_scaler = MinMaxScaler()\n",
    "mm_scaler.fit(Xremain_df_tfidf)\n",
    "\n",
    "#transforming the all the X data\n",
    "X_mm_scaled_remain = mm_scaler.transform(Xremain_df_tfidf)\n",
    "X_mm_scaled_val = mm_scaler.transform(Xval_df_tfidf)\n",
    "X_mm_scaled_test = mm_scaler.transform(Xtest_df_tfidf)"
   ]
  },
  {
   "cell_type": "code",
   "execution_count": 41,
   "id": "fed3cae9",
   "metadata": {},
   "outputs": [
    {
     "data": {
      "text/plain": [
       "array([[0.90909091, 0.08      , 0.56756757, ..., 0.        , 0.        ,\n",
       "        0.        ],\n",
       "       [0.45454545, 0.08      , 0.28378378, ..., 0.        , 0.        ,\n",
       "        0.        ],\n",
       "       [0.09090909, 0.4       , 0.59459459, ..., 0.        , 0.        ,\n",
       "        0.        ],\n",
       "       ...,\n",
       "       [0.09090909, 0.76      , 0.31081081, ..., 0.        , 0.        ,\n",
       "        0.        ],\n",
       "       [0.72727273, 0.92      , 0.54054054, ..., 0.        , 0.41449663,\n",
       "        0.        ],\n",
       "       [0.81818182, 0.92      , 0.58108108, ..., 0.        , 0.4008192 ,\n",
       "        0.        ]])"
      ]
     },
     "execution_count": 41,
     "metadata": {},
     "output_type": "execute_result"
    }
   ],
   "source": [
    "X_mm_scaled_remain"
   ]
  },
  {
   "cell_type": "code",
   "execution_count": 42,
   "id": "1557bca2",
   "metadata": {},
   "outputs": [
    {
     "data": {
      "text/plain": [
       "array([[0.63636364, 0.56      , 0.41891892, ..., 0.        , 0.        ,\n",
       "        0.        ],\n",
       "       [1.        , 0.28      , 0.66216216, ..., 0.        , 0.        ,\n",
       "        0.        ],\n",
       "       [0.18181818, 0.76      , 0.60810811, ..., 0.        , 0.35079339,\n",
       "        0.        ],\n",
       "       ...,\n",
       "       [0.81818182, 0.68      , 0.71621622, ..., 0.        , 0.        ,\n",
       "        0.        ],\n",
       "       [0.36363636, 0.76      , 0.62162162, ..., 0.        , 0.        ,\n",
       "        0.        ],\n",
       "       [0.27272727, 0.36      , 0.62162162, ..., 0.        , 0.        ,\n",
       "        0.        ]])"
      ]
     },
     "execution_count": 42,
     "metadata": {},
     "output_type": "execute_result"
    }
   ],
   "source": [
    "X_mm_scaled_val"
   ]
  },
  {
   "cell_type": "code",
   "execution_count": 43,
   "id": "362fb5f7",
   "metadata": {},
   "outputs": [
    {
     "data": {
      "text/plain": [
       "array([[0.27272727, 0.4       , 0.52702703, ..., 0.        , 0.        ,\n",
       "        0.        ],\n",
       "       [0.72727273, 0.32      , 0.33783784, ..., 0.        , 0.        ,\n",
       "        0.        ],\n",
       "       [0.54545455, 0.76      , 0.62162162, ..., 0.        , 0.27691744,\n",
       "        0.        ],\n",
       "       ...,\n",
       "       [0.81818182, 0.72      , 0.66216216, ..., 0.        , 0.        ,\n",
       "        0.        ],\n",
       "       [1.        , 0.76      , 0.41891892, ..., 0.        , 0.34329853,\n",
       "        0.43415295],\n",
       "       [0.72727273, 0.96      , 0.59459459, ..., 0.        , 0.37247568,\n",
       "        0.        ]])"
      ]
     },
     "execution_count": 43,
     "metadata": {},
     "output_type": "execute_result"
    }
   ],
   "source": [
    "X_mm_scaled_test"
   ]
  },
  {
   "cell_type": "markdown",
   "id": "3ce4ce64",
   "metadata": {},
   "source": [
    "## 4. Principal Component Analysis <a class=\"anchor\" id=\"header4\"></a>\n",
    "\n",
    "Given the number of dimensions in this dataset, simplifying our dimensions will may be beneficial. To do so, Pricipal Component Analysis (PCA) will be applied. However, we do lose interpretability with PCA. Therefore,  the models will be compared using PCA and the non-simplified data. If performance is similar, the non-simplified data can be used in order to retain interpretability."
   ]
  },
  {
   "cell_type": "code",
   "execution_count": 44,
   "id": "456f96c2",
   "metadata": {},
   "outputs": [],
   "source": [
    "#instatiate and fit the PCA model\n",
    "my_PCA = PCA(n_components = 0.9) #retaining 90% of the variance\n",
    "my_PCA.fit(X_mm_scaled_val)\n",
    "\n",
    "# transform data \n",
    "X_remain_PCA = my_PCA.transform(X_mm_scaled_remain)\n",
    "X_val_PCA = my_PCA.transform(X_mm_scaled_val)\n",
    "X_test_PCA = my_PCA.transform(X_mm_scaled_test)"
   ]
  },
  {
   "cell_type": "code",
   "execution_count": 45,
   "id": "41d187e8",
   "metadata": {},
   "outputs": [
    {
     "name": "stdout",
     "output_type": "stream",
     "text": [
      "Variance captured by PC1:  0.252\n",
      "Variance captured by PC2:  0.167\n",
      "Proportion of variance captured by PC1:  0.049\n",
      "Proportion of variance captured by PC2:  0.033\n"
     ]
    }
   ],
   "source": [
    "print(f\"Variance captured by PC1: {my_PCA.explained_variance_[0]: 0.3f}\")\n",
    "print(f\"Variance captured by PC2: {my_PCA.explained_variance_[1]: 0.3f}\")\n",
    "\n",
    "print(f\"Proportion of variance captured by PC1: {my_PCA.explained_variance_ratio_[0]: 0.3f}\")\n",
    "print(f\"Proportion of variance captured by PC2: {my_PCA.explained_variance_ratio_[1]: 0.3f}\")"
   ]
  },
  {
   "cell_type": "code",
   "execution_count": 46,
   "id": "c4f7be61",
   "metadata": {},
   "outputs": [
    {
     "name": "stdout",
     "output_type": "stream",
     "text": [
      "Original: (4194, 630)\n",
      "PCA Transformed: (4194, 280)\n"
     ]
    }
   ],
   "source": [
    "print(f'Original: {Xremain_df_tfidf.shape}')\n",
    "print(f'PCA Transformed: {X_remain_PCA.shape}')"
   ]
  },
  {
   "cell_type": "markdown",
   "id": "1eaee630",
   "metadata": {},
   "source": [
    "PCA is able to capture 90% of the variance while decreasing the number of features significantly to 281 (down from 638)."
   ]
  },
  {
   "cell_type": "markdown",
   "id": "71290779",
   "metadata": {},
   "source": [
    "## 5. Fitting the Models <a class=\"anchor\" id=\"header5\"></a>\n",
    "\n",
    "Below will fit each of the models, trying both the 'full' dataset and the PCA dataset. In all of these, the data is scaled. At the end, R2 results will be compared across all models.\n",
    "\n",
    "### 5.1 Linear Regression <a class=\"anchor\" id=\"subheader51\"></a>\n",
    "\n",
    "**\"Vanilla\" Linear Regression** \n",
    "\n",
    "This first uses a basic, \"vanilla\" linear regression model. This is what we used in previous notebooks to check in on how our data transformations were performing.\n",
    "\n",
    "For reference:\n",
    "- The best validation data R2 from running Linear Regression on the text data alone was about 0.761.\n",
    "- The best validation data R2 from running Linear Regression on the numeric data alone (meaning no vectorized text) was about 0.898.\n",
    "\n",
    "**Linear Regression: Min Max, Full Dataset**\n",
    " \n",
    "Below runs the model on the full, scaled dataset."
   ]
  },
  {
   "cell_type": "code",
   "execution_count": 53,
   "id": "2b29d2d2",
   "metadata": {},
   "outputs": [
    {
     "name": "stdout",
     "output_type": "stream",
     "text": [
      "The R2 score for lr_model_full training data is: 0.9408817380239718\n",
      "The R2 score for lr_model_full validation data is: 0.9025842705674784\n"
     ]
    }
   ],
   "source": [
    "# 1. Instantiate the model\n",
    "lr_model_full = LinearRegression()\n",
    "\n",
    "# 2. Fit the model\n",
    "lr_model_full.fit(X_mm_scaled_remain, y_remain)\n",
    "\n",
    "# 3. Scoring the models\n",
    "print(f'The R2 score for lr_model_full training data is: {lr_model_full.score(X_mm_scaled_remain, y_remain)}')\n",
    "\n",
    "lr_model_full_val_r2 = lr_model_full.score(X_mm_scaled_val, y_val)\n",
    "print(f'The R2 score for lr_model_full validation data is: {lr_model_full_val_r2}')"
   ]
  },
  {
   "cell_type": "markdown",
   "id": "999cb78d",
   "metadata": {},
   "source": [
    "**Linear Regression: Min Max, PCA Dataset**\n",
    " \n",
    "Below runs the model on the simplified, scaled dataset."
   ]
  },
  {
   "cell_type": "code",
   "execution_count": 57,
   "id": "29d36a77",
   "metadata": {},
   "outputs": [
    {
     "name": "stdout",
     "output_type": "stream",
     "text": [
      "The R2 score for lr_model_pca training data is: 0.9201855216374213\n",
      "The R2 score for lr_model_pca validation data is: 0.8959728426048407\n"
     ]
    }
   ],
   "source": [
    "# 1. Instantiate the model\n",
    "lr_model_pca = LinearRegression()\n",
    "\n",
    "# 2. Fit the model\n",
    "lr_model_pca.fit(X_remain_PCA, y_remain)\n",
    "\n",
    "# 3. Scoring the models\n",
    "print(f'The R2 score for lr_model_pca training data is: {lr_model_pca.score(X_remain_PCA, y_remain)}')\n",
    "\n",
    "lr_model_pca_val_r2 = lr_model_pca.score(X_val_PCA, y_val)\n",
    "print(f'The R2 score for lr_model_pca validation data is: {lr_model_pca_val_r2}')"
   ]
  },
  {
   "cell_type": "markdown",
   "id": "e9080503",
   "metadata": {},
   "source": [
    "Interestingly, the full dataset does slightly better than the PCA version. This may be because using PCA did trade some information for fewer dimensions (e.g. fewer columns). "
   ]
  },
  {
   "cell_type": "markdown",
   "id": "9e5f795c",
   "metadata": {},
   "source": [
    "**Ridge Regression: Min Max, Full Dataset**\n",
    "\n",
    "The pipeline below will look for the optimal Ridge Regression model using the full dataset:"
   ]
  },
  {
   "cell_type": "code",
   "execution_count": 58,
   "id": "4a7f47da",
   "metadata": {},
   "outputs": [],
   "source": [
    "#creating our pipeline\n",
    "#the values listed here for vectorization are placeholders\n",
    "linreg = Pipeline(\n",
    "    [\n",
    "        (\"model\", Ridge()),\n",
    "    ]\n",
    ")"
   ]
  },
  {
   "cell_type": "code",
   "execution_count": 59,
   "id": "5a9f01fa",
   "metadata": {},
   "outputs": [],
   "source": [
    "#ran the grid search using a series of changes on these paramaters\n",
    "#started with more extreme options for each paramater and then narrowed down to these\n",
    "\n",
    "parameters = {\n",
    "    \"model__alpha\": [6.2], \n",
    "    \"model__solver\": ['sag'],\n",
    "}"
   ]
  },
  {
   "cell_type": "code",
   "execution_count": 60,
   "id": "09a19adb",
   "metadata": {},
   "outputs": [
    {
     "name": "stdout",
     "output_type": "stream",
     "text": [
      "Best parameters:  {'model__alpha': 6.2, 'model__solver': 'sag'}\n",
      "Best score: 0.9120997478973498\n"
     ]
    }
   ],
   "source": [
    "#running the serach to find the best combination of these parameters\n",
    "grid_search = GridSearchCV(linreg, parameters)\n",
    "\n",
    "grid_search.fit(X_mm_scaled_remain, y_remain)\n",
    "\n",
    "print(\"Best parameters: \", grid_search.best_params_)\n",
    "#checking the R2\n",
    "print(\"Best score:\", grid_search.best_score_)"
   ]
  },
  {
   "cell_type": "markdown",
   "id": "48932369",
   "metadata": {},
   "source": [
    "Below will see how these parameters do with our remain (training) and validation data:"
   ]
  },
  {
   "cell_type": "code",
   "execution_count": 92,
   "id": "d86cae2e",
   "metadata": {},
   "outputs": [
    {
     "name": "stdout",
     "output_type": "stream",
     "text": [
      "The R2 score for lr_model_ridge_full training data is: 0.9359693918542785\n",
      "The R2 score for lr_model_ridge_full validation data is: 0.9098745867302618\n"
     ]
    }
   ],
   "source": [
    "#instatiate and fit best model\n",
    "lr_model_ridge_full = Ridge(alpha=6.2, solver='sag')\n",
    "lr_model_ridge_full.fit(X_mm_scaled_remain, y_remain)\n",
    "\n",
    "# 3. Scoring the models\n",
    "print(f'The R2 score for lr_model_ridge_full training data is: {lr_model_ridge_full.score(X_mm_scaled_remain, y_remain)}')\n",
    "\n",
    "lr_model_ridge_full_val_r2 = lr_model_ridge_full.score(X_mm_scaled_val, y_val)\n",
    "print(f'The R2 score for lr_model_ridge_full validation data is: {lr_model_ridge_full_val_r2}')"
   ]
  },
  {
   "cell_type": "markdown",
   "id": "986bbcf5",
   "metadata": {},
   "source": [
    "**Ridge Regression: Min Max, PCA Dataset**\n",
    "\n",
    "The pipeline below will look for the optimal Ridge Regression model using the full dataset:"
   ]
  },
  {
   "cell_type": "code",
   "execution_count": 110,
   "id": "ea3eb46a",
   "metadata": {},
   "outputs": [],
   "source": [
    "#creating our pipeline\n",
    "#the values listed here for vectorization are placeholders\n",
    "linreg = Pipeline(\n",
    "    [\n",
    "        (\"model\", Ridge()),\n",
    "    ]\n",
    ")"
   ]
  },
  {
   "cell_type": "code",
   "execution_count": 111,
   "id": "b6df3f17",
   "metadata": {},
   "outputs": [],
   "source": [
    "#ran the grid search using a series of changes on these paramaters\n",
    "#started with more extreme options for each paramater and then narrowed down to these\n",
    "\n",
    "parameters = {\n",
    "    \"model__alpha\": [3.5], \n",
    "    \"model__solver\": ['sag'],\n",
    "}"
   ]
  },
  {
   "cell_type": "code",
   "execution_count": 112,
   "id": "7e55d460",
   "metadata": {},
   "outputs": [
    {
     "name": "stdout",
     "output_type": "stream",
     "text": [
      "Best parameters:  {'model__alpha': 3.5, 'model__solver': 'sag'}\n",
      "Best score: 0.9068516513539085\n"
     ]
    }
   ],
   "source": [
    "#running the serach to find the best combination of these parameters\n",
    "grid_search = GridSearchCV(linreg, parameters)\n",
    "\n",
    "grid_search.fit(X_remain_PCA, y_remain)\n",
    "\n",
    "print(\"Best parameters: \", grid_search.best_params_)\n",
    "#checking the R2\n",
    "print(\"Best score:\", grid_search.best_score_)"
   ]
  },
  {
   "cell_type": "markdown",
   "id": "10ef004a",
   "metadata": {},
   "source": [
    "Ridge regression on the PCA data does slightly less well than the full dataset. The best parameters for it are shown above. Below will see how these do with the remain and validation data."
   ]
  },
  {
   "cell_type": "code",
   "execution_count": 113,
   "id": "33612d9a",
   "metadata": {},
   "outputs": [
    {
     "name": "stdout",
     "output_type": "stream",
     "text": [
      "The R2 score for lr_model_ridge_pca training data is: 0.9194928820732233\n",
      "The R2 score for lr_model_ridge_pca validation data is: 0.9011979701874846\n"
     ]
    }
   ],
   "source": [
    "#instatiate and fit best model\n",
    "lr_model_ridge_pca = Ridge(alpha=3.5, solver='sag')\n",
    "lr_model_ridge_pca.fit(X_remain_PCA, y_remain)\n",
    "\n",
    "# 3. Scoring the models\n",
    "print(f'The R2 score for lr_model_ridge_pca training data is: {lr_model_ridge_pca.score(X_remain_PCA, y_remain)}')\n",
    "\n",
    "lr_model_ridge_pca_val_r2 = lr_model_ridge_pca.score(X_val_PCA, y_val)\n",
    "print(f'The R2 score for lr_model_ridge_pca validation data is: {lr_model_ridge_pca_val_r2}')"
   ]
  },
  {
   "cell_type": "markdown",
   "id": "8376d1c2",
   "metadata": {},
   "source": [
    "**Lasso Regression: Min Max, Full Dataset**\n",
    "\n",
    "The pipeline below will look for the optimal Lasso Regression model using the full datset:"
   ]
  },
  {
   "cell_type": "code",
   "execution_count": 96,
   "id": "16b58c5a",
   "metadata": {},
   "outputs": [],
   "source": [
    "#creating our pipeline\n",
    "#the values listed here for vectorization are placeholders\n",
    "linreg = Pipeline(\n",
    "    [\n",
    "        (\"model\", Lasso()),\n",
    "    ]\n",
    ")"
   ]
  },
  {
   "cell_type": "code",
   "execution_count": 97,
   "id": "65f76f3f",
   "metadata": {},
   "outputs": [],
   "source": [
    "#ran the grid search using a series of changes on these paramaters\n",
    "#started with more extreme options for each paramater and then narrowed down to these\n",
    "\n",
    "parameters = {\n",
    "    \"model__alpha\": [0.002], \n",
    "    \"model__positive\": [False],\n",
    "    \"model__warm_start\": [True]\n",
    "}"
   ]
  },
  {
   "cell_type": "code",
   "execution_count": 98,
   "id": "abb37dd4",
   "metadata": {},
   "outputs": [
    {
     "name": "stdout",
     "output_type": "stream",
     "text": [
      "Best parameters:  {'model__alpha': 0.002, 'model__positive': False, 'model__warm_start': True}\n",
      "Best score: 0.9131574911589692\n"
     ]
    }
   ],
   "source": [
    "#running the serach to find the best combination of these parameters\n",
    "grid_search = GridSearchCV(linreg, parameters)\n",
    "\n",
    "grid_search.fit(X_mm_scaled_remain, y_remain)\n",
    "\n",
    "print(\"Best parameters: \", grid_search.best_params_)\n",
    "\n",
    "#checking the R2\n",
    "print(\"Best score:\", grid_search.best_score_)"
   ]
  },
  {
   "cell_type": "markdown",
   "id": "1aa1ae01",
   "metadata": {},
   "source": [
    "The optimal Lasso Regression model uses parameters are shown above. Below will see how the model does with training and validation data using these optimized paramters:"
   ]
  },
  {
   "cell_type": "code",
   "execution_count": 99,
   "id": "6552a51c",
   "metadata": {},
   "outputs": [
    {
     "name": "stdout",
     "output_type": "stream",
     "text": [
      "The R2 score for lr_model_lasso_full training data is: 0.9270599542538364\n",
      "The R2 score for lr_model_lasso_full validation data is: 0.907597542099871\n"
     ]
    }
   ],
   "source": [
    "#instatiate and fit best model\n",
    "lr_model_lasso_full = Lasso(alpha=0.002, positive=False, warm_start=True)\n",
    "lr_model_lasso_full.fit(X_mm_scaled_remain, y_remain)\n",
    "\n",
    "# 3. Scoring the models\n",
    "print(f'The R2 score for lr_model_lasso_full training data is: {lr_model_lasso_full.score(X_mm_scaled_remain, y_remain)}')\n",
    "\n",
    "lr_model_lasso_full_val_r2 = lr_model_lasso_full.score(X_mm_scaled_val, y_val)\n",
    "print(f'The R2 score for lr_model_lasso_full validation data is: {lr_model_lasso_full_val_r2}')"
   ]
  },
  {
   "cell_type": "markdown",
   "id": "1f116630",
   "metadata": {},
   "source": [
    "**Lasso Regression: Min Max, PCA Dataset**\n",
    "\n",
    "The pipeline below will look for the optimal Lasso Regression model using the PCA datset:"
   ]
  },
  {
   "cell_type": "code",
   "execution_count": 100,
   "id": "5accdaa3",
   "metadata": {},
   "outputs": [],
   "source": [
    "#creating our pipeline\n",
    "#the values listed here for vectorization are placeholders\n",
    "linreg = Pipeline(\n",
    "    [\n",
    "        (\"model\", Lasso()),\n",
    "    ]\n",
    ")"
   ]
  },
  {
   "cell_type": "code",
   "execution_count": 105,
   "id": "f6fc2531",
   "metadata": {},
   "outputs": [],
   "source": [
    "#ran the grid search using a series of changes on these paramaters\n",
    "#started with more extreme options for each paramater and then narrowed down to these\n",
    "\n",
    "parameters = {\n",
    "    \"model__alpha\": [0.002], \n",
    "    \"model__positive\": [False],\n",
    "    \"model__warm_start\": [True]\n",
    "}"
   ]
  },
  {
   "cell_type": "code",
   "execution_count": 106,
   "id": "062f0032",
   "metadata": {},
   "outputs": [
    {
     "name": "stdout",
     "output_type": "stream",
     "text": [
      "Best parameters:  {'model__alpha': 0.002, 'model__positive': False, 'model__warm_start': True}\n",
      "Best score: 0.9045196074779615\n"
     ]
    }
   ],
   "source": [
    "#running the serach to find the best combination of these parameters\n",
    "grid_search = GridSearchCV(linreg, parameters)\n",
    "\n",
    "grid_search.fit(X_remain_PCA, y_remain)\n",
    "\n",
    "print(\"Best parameters: \", grid_search.best_params_)\n",
    "\n",
    "#checking the R2\n",
    "print(\"Best score:\", grid_search.best_score_)"
   ]
  },
  {
   "cell_type": "code",
   "execution_count": 108,
   "id": "d03c0c1e",
   "metadata": {},
   "outputs": [
    {
     "name": "stdout",
     "output_type": "stream",
     "text": [
      "The R2 score for lr_model_lasso_pca training data is: 0.9142017685228763\n",
      "The R2 score for lr_model_lasso_pca validation data is: 0.9033447450950415\n"
     ]
    }
   ],
   "source": [
    "#instatiate and fit best model\n",
    "lr_model_lasso_pca = Lasso(alpha=0.002, positive=False, warm_start=True)\n",
    "lr_model_lasso_pca.fit(X_remain_PCA, y_remain)\n",
    "\n",
    "# 3. Scoring the models\n",
    "print(f'The R2 score for lr_model_lasso_pca training data is: {lr_model_lasso_pca.score(X_remain_PCA, y_remain)}')\n",
    "\n",
    "lr_model_lasso_pca_val_r2 = lr_model_lasso_pca.score(X_val_PCA, y_val)\n",
    "print(f'The R2 score for lr_model_lasso_pca validation data is: {lr_model_lasso_pca_val_r2}')"
   ]
  },
  {
   "cell_type": "markdown",
   "id": "bdde2e83",
   "metadata": {},
   "source": [
    "**ElasticeNet Regression: Min Max, Full Dataset**\n",
    "\n",
    "The pipeline below will look for the optimal ElasticNet Regression model on the full dataset:"
   ]
  },
  {
   "cell_type": "code",
   "execution_count": 114,
   "id": "30728ffd",
   "metadata": {},
   "outputs": [],
   "source": [
    "#creating our pipeline\n",
    "#the values listed here for vectorization are placeholders\n",
    "linreg = Pipeline(\n",
    "    [\n",
    "        (\"model\", ElasticNet()),\n",
    "    ]\n",
    ")"
   ]
  },
  {
   "cell_type": "code",
   "execution_count": 115,
   "id": "c0a46861",
   "metadata": {},
   "outputs": [],
   "source": [
    "#ran the grid search using a series of changes on these paramaters\n",
    "#started with more extreme options for each paramater and then narrowed down to these\n",
    "\n",
    "parameters = {\n",
    "    \"model__alpha\": [0.002], \n",
    "    \"model__l1_ratio\": [0.4],\n",
    "    \"model__warm_start\": [True],\n",
    "    \"model__positive\": [False]\n",
    "}"
   ]
  },
  {
   "cell_type": "code",
   "execution_count": 116,
   "id": "a7ffda66",
   "metadata": {},
   "outputs": [
    {
     "name": "stdout",
     "output_type": "stream",
     "text": [
      "Best parameters:  {'model__alpha': 0.002, 'model__l1_ratio': 0.4, 'model__positive': False, 'model__warm_start': True}\n",
      "Best score: 0.9136891720109446\n"
     ]
    }
   ],
   "source": [
    "#running the serach to find the best combination of these parameters\n",
    "grid_search = GridSearchCV(linreg, parameters)\n",
    "\n",
    "grid_search.fit(X_mm_scaled_remain, y_remain)\n",
    "\n",
    "print(\"Best parameters: \", grid_search.best_params_)\n",
    "\n",
    "#checking the R2\n",
    "print(\"Best score:\", grid_search.best_score_)"
   ]
  },
  {
   "cell_type": "markdown",
   "id": "edc500db",
   "metadata": {},
   "source": [
    "Below will see how the optimized model does with the training and validation data:"
   ]
  },
  {
   "cell_type": "code",
   "execution_count": 128,
   "id": "3f10a5d5",
   "metadata": {},
   "outputs": [
    {
     "name": "stdout",
     "output_type": "stream",
     "text": [
      "The R2 score for lr_model_elastic_full training data is: 0.9319226114642285\n",
      "The R2 score for lr_model_elastic_full validation data is: 0.9101990891299294\n"
     ]
    }
   ],
   "source": [
    "#instatiate and fit best model\n",
    "lr_model_elastic_full = ElasticNet(alpha=0.002, l1_ratio=0.4, positive=False, warm_start=True)\n",
    "lr_model_elastic_full.fit(X_mm_scaled_remain, y_remain)\n",
    "\n",
    "# 3. Scoring the models\n",
    "print(f'The R2 score for lr_model_elastic_full training data is: {lr_model_elastic_full.score(X_mm_scaled_remain, y_remain)}')\n",
    "\n",
    "lr_model_elastic_full_val_r2 = lr_model_elastic_full.score(X_mm_scaled_val, y_val)\n",
    "print(f'The R2 score for lr_model_elastic_full validation data is: {lr_model_elastic_full_val_r2}')"
   ]
  },
  {
   "cell_type": "markdown",
   "id": "a413ec67",
   "metadata": {},
   "source": [
    "**ElasticeNet Regression: Min Max, PCA Dataset**\n",
    "\n",
    "The pipeline below will look for the optimal ElasticNet Regression model on the full dataset:"
   ]
  },
  {
   "cell_type": "code",
   "execution_count": null,
   "id": "7e4a9bd0",
   "metadata": {},
   "outputs": [],
   "source": [
    "#creating our pipeline\n",
    "#the values listed here for vectorization are placeholders\n",
    "linreg = Pipeline(\n",
    "    [\n",
    "        (\"model\", ElasticNet()),\n",
    "    ]\n",
    ")"
   ]
  },
  {
   "cell_type": "code",
   "execution_count": 126,
   "id": "4fe7c1da",
   "metadata": {},
   "outputs": [],
   "source": [
    "#ran the grid search using a series of changes on these paramaters\n",
    "#started with more extreme options for each paramater and then narrowed down to these\n",
    "\n",
    "parameters = {\n",
    "    \"model__alpha\": [0.001], \n",
    "    \"model__l1_ratio\": [0.2],\n",
    "    \"model__warm_start\": [True],\n",
    "    \"model__positive\": [False]\n",
    "}"
   ]
  },
  {
   "cell_type": "code",
   "execution_count": 127,
   "id": "a0c4d59d",
   "metadata": {},
   "outputs": [
    {
     "name": "stdout",
     "output_type": "stream",
     "text": [
      "Best parameters:  {'model__alpha': 0.001, 'model__l1_ratio': 0.2, 'model__positive': False, 'model__warm_start': True}\n",
      "Best score: 0.9069016414322609\n"
     ]
    }
   ],
   "source": [
    "#running the serach to find the best combination of these parameters\n",
    "grid_search = GridSearchCV(linreg, parameters)\n",
    "\n",
    "grid_search.fit(X_remain_PCA, y_remain)\n",
    "\n",
    "print(\"Best parameters: \", grid_search.best_params_)\n",
    "\n",
    "#checking the R2\n",
    "print(\"Best score:\", grid_search.best_score_)"
   ]
  },
  {
   "cell_type": "code",
   "execution_count": 129,
   "id": "2109c22a",
   "metadata": {},
   "outputs": [
    {
     "name": "stdout",
     "output_type": "stream",
     "text": [
      "The R2 score for lr_model_elastic_pca training data is: 0.9165220287609357\n",
      "The R2 score for lr_model_elastic_pca validation data is: 0.9041516740152954\n"
     ]
    }
   ],
   "source": [
    "#instatiate and fit best model\n",
    "lr_model_elastic_pca = ElasticNet(alpha=0.002, l1_ratio=0.4, positive=False, warm_start=True)\n",
    "lr_model_elastic_pca.fit(X_remain_PCA, y_remain)\n",
    "\n",
    "# 3. Scoring the models\n",
    "print(f'The R2 score for lr_model_elastic_pca training data is: {lr_model_elastic_pca.score(X_remain_PCA, y_remain)}')\n",
    "\n",
    "lr_model_elastic_pca_val_r2 = lr_model_elastic_pca.score(X_val_PCA, y_val)\n",
    "print(f'The R2 score for lr_model_elastic_pca validation data is: {lr_model_elastic_pca_val_r2}')"
   ]
  },
  {
   "cell_type": "markdown",
   "id": "5f5f07b6",
   "metadata": {},
   "source": [
    "Below will compare R2 values calculated on the validation data to see how these different regression models perform:"
   ]
  },
  {
   "cell_type": "code",
   "execution_count": 151,
   "id": "d942b973",
   "metadata": {},
   "outputs": [],
   "source": [
    "#Comparing the models\n",
    "R2_dictionary = {'Linear Full R2': lr_model_full_val_r2, 'Linear PCA R2' :lr_model_pca_val_r2, 'Ridge Full R2': lr_model_ridge_full_val_r2, 'Ridge PCA R2': lr_model_ridge_pca_val_r2, 'Lasso Full R2': lr_model_lasso_full_val_r2, 'Lasso PCA R2': lr_model_lasso_pca_val_r2, 'Elastic Full R2': lr_model_elastic_full_val_r2, 'Elastic PCA R2': lr_model_elastic_pca_val_r2} "
   ]
  },
  {
   "cell_type": "code",
   "execution_count": 152,
   "id": "8e7bcf86",
   "metadata": {},
   "outputs": [],
   "source": [
    "#sorting scores\n",
    "R2_values_sorted = dict(sorted(R2_dictionary.items(), key = operator.itemgetter(1), reverse=True))"
   ]
  },
  {
   "cell_type": "code",
   "execution_count": 153,
   "id": "0cf316b6",
   "metadata": {},
   "outputs": [
    {
     "data": {
      "text/plain": [
       "{'Elastic Full R2': 0.9101990891299294,\n",
       " 'Ridge Full R2': 0.9098745867302618,\n",
       " 'Lasso Full R2': 0.907597542099871,\n",
       " 'Elastic PCA R2': 0.9041516740152954,\n",
       " 'Lasso PCA R2': 0.9033447450950415,\n",
       " 'Linear Full R2': 0.9025842705674784,\n",
       " 'Ridge PCA R2': 0.9011979701874846,\n",
       " 'Linear PCA R2': 0.8959728426048407}"
      ]
     },
     "execution_count": 153,
     "metadata": {},
     "output_type": "execute_result"
    }
   ],
   "source": [
    "R2_values_sorted"
   ]
  },
  {
   "cell_type": "markdown",
   "id": "ef9c6567",
   "metadata": {},
   "source": [
    "**Comparing model performance**\n",
    "\n",
    "Looking at the different regression models, ElasticNet using the full dataset performed best with the validation data. In general, using the full dataset provided better results than PCA, which is good because interpretability can be preserved then. \n",
    "\n",
    "All things considered, the models perform pretty similarly. \n",
    "\n",
    "Below will look at another model type before drawing digging further on the models and drawing conclusions about which performs best."
   ]
  },
  {
   "cell_type": "markdown",
   "id": "bc4fdea0",
   "metadata": {},
   "source": [
    "### 5.2 XG Boost Regressor <a class=\"anchor\" id=\"subheader52\"></a>\n",
    "\n",
    "For reference, the best validation R2 from running the baseline XGBoost Regressor model on numeric data alone (no vectorized text) was about 91.8. XG Boost was not run on the text only data.\n",
    "\n",
    "**XG Boost Regressor: Min Max, Full Dataset**"
   ]
  },
  {
   "cell_type": "code",
   "execution_count": 137,
   "id": "4388ad1d",
   "metadata": {},
   "outputs": [
    {
     "name": "stdout",
     "output_type": "stream",
     "text": [
      "The R2 score for XGBR_model training data is: 0.9926375397608137\n",
      "The R2 score for XGBR_model validation data is: 0.9022804820873469\n"
     ]
    }
   ],
   "source": [
    "# 1. Instantiate the model\n",
    "XGBR_model = XGBRegressor()\n",
    "\n",
    "# 2. Fit the model\n",
    "XGBR_model.fit(X_mm_scaled_remain, y_remain)\n",
    "\n",
    "# 3. Scoring the models\n",
    "print(f'The R2 score for XGBR_model training data is: {XGBR_model.score(X_mm_scaled_remain, y_remain)}')\n",
    "\n",
    "XGBR_model_val_r2 = XGBR_model.score(X_mm_scaled_val, y_val)\n",
    "print(f'The R2 score for XGBR_model validation data is: {XGBR_model_val_r2}')"
   ]
  },
  {
   "cell_type": "markdown",
   "id": "d7d048a2",
   "metadata": {},
   "source": [
    "Optimizing the XG Boost Model using the full dataset:"
   ]
  },
  {
   "cell_type": "code",
   "execution_count": 145,
   "id": "5ca21d0b",
   "metadata": {},
   "outputs": [],
   "source": [
    "#creating our pipeline\n",
    "#the values listed here for vectorization are placeholders\n",
    "linreg = Pipeline(\n",
    "    [\n",
    "        (\"model\", XGBRegressor()),\n",
    "    ]\n",
    ")"
   ]
  },
  {
   "cell_type": "code",
   "execution_count": 146,
   "id": "9a6a9676",
   "metadata": {},
   "outputs": [],
   "source": [
    "#ran the grid search using a series of changes on these paramaters\n",
    "#started with more extreme options for each paramater and then narrowed down to these\n",
    "\n",
    "parameters = {\n",
    "    \"model__booster\": ['dart'], \n",
    "    \"model__eta\": [0.1],\n",
    "    \"model__gamma\": [1],\n",
    "    \"model__max_depth\": [11]\n",
    "}"
   ]
  },
  {
   "cell_type": "code",
   "execution_count": 147,
   "id": "22165e07",
   "metadata": {},
   "outputs": [
    {
     "name": "stdout",
     "output_type": "stream",
     "text": [
      "Best parameters:  {'model__booster': 'dart', 'model__eta': 0.1, 'model__gamma': 1, 'model__max_depth': 11}\n",
      "Best score: 0.9196504587392071\n"
     ]
    }
   ],
   "source": [
    "#running the serach to find the best combination of these parameters\n",
    "grid_search = GridSearchCV(linreg, parameters)\n",
    "\n",
    "grid_search.fit(X_mm_scaled_remain, y_remain)\n",
    "\n",
    "print(\"Best parameters: \", grid_search.best_params_)\n",
    "\n",
    "#checking the R2\n",
    "print(\"Best score:\", grid_search.best_score_)"
   ]
  },
  {
   "cell_type": "code",
   "execution_count": 163,
   "id": "ae500970",
   "metadata": {},
   "outputs": [
    {
     "name": "stdout",
     "output_type": "stream",
     "text": [
      "The R2 score for XGBR_model_full training data is: 0.9921717669177883\n",
      "The R2 score for XGBR_model_full validation data is: 0.9157344141540313\n"
     ]
    }
   ],
   "source": [
    "#instatiate and fit best model\n",
    "XGBR_model_full = XGBRegressor(booster='dart', eta=0.1, gamma=1, max_depth=11)\n",
    "XGBR_model_full.fit(X_mm_scaled_remain, y_remain)\n",
    "\n",
    "# 3. Scoring the models\n",
    "print(f'The R2 score for XGBR_model_full training data is: {XGBR_model_full.score(X_mm_scaled_remain, y_remain)}')\n",
    "\n",
    "XGBR_model_full_val_r2 = XGBR_model_full.score(X_mm_scaled_val, y_val)\n",
    "print(f'The R2 score for XGBR_model_full validation data is: {XGBR_model_full_val_r2}')"
   ]
  },
  {
   "cell_type": "markdown",
   "id": "9cf79c9c",
   "metadata": {},
   "source": [
    "The optimized XG Boost Model does slightly better than Linear Regression, though it is quite overfit.\n",
    "\n",
    "Fitting the XGBoost Regressor model on the PCA data:"
   ]
  },
  {
   "cell_type": "code",
   "execution_count": 148,
   "id": "10fba06b",
   "metadata": {},
   "outputs": [],
   "source": [
    "#creating our pipeline\n",
    "#the values listed here for vectorization are placeholders\n",
    "linreg = Pipeline(\n",
    "    [\n",
    "        (\"model\", XGBRegressor()),\n",
    "    ]\n",
    ")"
   ]
  },
  {
   "cell_type": "code",
   "execution_count": 158,
   "id": "8bf1296a",
   "metadata": {},
   "outputs": [],
   "source": [
    "#ran the grid search using a series of changes on these paramaters\n",
    "#started with more extreme options for each paramater and then narrowed down to these\n",
    "\n",
    "parameters = {\n",
    "    \"model__booster\": ['dart'], \n",
    "    \"model__eta\": [0.1],\n",
    "    \"model__gamma\": [1],\n",
    "    \"model__max_depth\": [5]\n",
    "}"
   ]
  },
  {
   "cell_type": "code",
   "execution_count": 159,
   "id": "f775fc92",
   "metadata": {},
   "outputs": [
    {
     "name": "stdout",
     "output_type": "stream",
     "text": [
      "Best parameters:  {'model__booster': 'dart', 'model__eta': 0.1, 'model__gamma': 1, 'model__max_depth': 5}\n",
      "Best score: 0.8519782429252418\n"
     ]
    }
   ],
   "source": [
    "#running the serach to find the best combination of these parameters\n",
    "grid_search = GridSearchCV(linreg, parameters)\n",
    "\n",
    "grid_search.fit(X_remain_PCA, y_remain)\n",
    "\n",
    "print(\"Best parameters: \", grid_search.best_params_)\n",
    "\n",
    "#checking the R2\n",
    "print(\"Best score:\", grid_search.best_score_)"
   ]
  },
  {
   "cell_type": "code",
   "execution_count": 161,
   "id": "295fddb0",
   "metadata": {},
   "outputs": [
    {
     "name": "stdout",
     "output_type": "stream",
     "text": [
      "The R2 score for XGBR_model_pca training data is: 0.9702665775242029\n",
      "The R2 score for XGBR_model_pca validation data is: 0.8466916761279962\n"
     ]
    }
   ],
   "source": [
    "#instatiate and fit best model\n",
    "XGBR_model_pca = XGBRegressor(booster='dart', eta=0.1, gamma=1, max_depth=5)\n",
    "XGBR_model_pca.fit(X_remain_PCA, y_remain)\n",
    "\n",
    "# 3. Scoring the models\n",
    "print(f'The R2 score for XGBR_model_pca training data is: {XGBR_model_pca.score(X_remain_PCA, y_remain)}')\n",
    "\n",
    "XGBR_model_pca_val_r2 = XGBR_model_pca.score(X_val_PCA, y_val)\n",
    "print(f'The R2 score for XGBR_model_pca validation data is: {XGBR_model_pca_val_r2}')"
   ]
  },
  {
   "cell_type": "markdown",
   "id": "0c3c173f",
   "metadata": {},
   "source": [
    "## 6. Comparing All Models <a class=\"anchor\" id=\"header6\"></a>\n",
    "\n"
   ]
  },
  {
   "cell_type": "code",
   "execution_count": 164,
   "id": "30df1de6",
   "metadata": {},
   "outputs": [],
   "source": [
    "#Comparing the models\n",
    "R2_dictionary = {'Linear Full R2': lr_model_full_val_r2, 'Linear PCA R2' :lr_model_pca_val_r2, 'Ridge Full R2': lr_model_ridge_full_val_r2, 'Ridge PCA R2': lr_model_ridge_pca_val_r2, 'Lasso Full R2': lr_model_lasso_full_val_r2, 'Lasso PCA R2': lr_model_lasso_pca_val_r2, 'Elastic Full R2': lr_model_elastic_full_val_r2, 'Elastic PCA R2': lr_model_elastic_pca_val_r2, 'XGBR Full R2': XGBR_model_full_val_r2, 'XGBR PCA R2': XGBR_model_pca_val_r2} "
   ]
  },
  {
   "cell_type": "markdown",
   "id": "00e6ce51",
   "metadata": {},
   "source": [
    "Below compares all the models run, listing the one with the highest R2 first:"
   ]
  },
  {
   "cell_type": "code",
   "execution_count": 165,
   "id": "99ece2be",
   "metadata": {},
   "outputs": [
    {
     "data": {
      "text/plain": [
       "{'XGBR Full R2': 0.9157344141540313,\n",
       " 'Elastic Full R2': 0.9101990891299294,\n",
       " 'Ridge Full R2': 0.9098745867302618,\n",
       " 'Lasso Full R2': 0.907597542099871,\n",
       " 'Elastic PCA R2': 0.9041516740152954,\n",
       " 'Lasso PCA R2': 0.9033447450950415,\n",
       " 'Linear Full R2': 0.9025842705674784,\n",
       " 'Ridge PCA R2': 0.9011979701874846,\n",
       " 'Linear PCA R2': 0.8959728426048407,\n",
       " 'XGBR PCA R2': 0.8466916761279962}"
      ]
     },
     "execution_count": 165,
     "metadata": {},
     "output_type": "execute_result"
    }
   ],
   "source": [
    "#sorting scores\n",
    "R2_values_sorted = dict(sorted(R2_dictionary.items(), key = operator.itemgetter(1), reverse=True))\n",
    "R2_values_sorted"
   ]
  },
  {
   "cell_type": "markdown",
   "id": "35166b7e",
   "metadata": {},
   "source": [
    "XGBR on the full dataset performs best, followed by Elasticnet on the full dataset. Overall, the PCA versions perform worse. XGBoost Regressor in particular takes a peformance hit when using the PCA data.\n",
    "\n",
    "However, \n",
    "\n",
    "because the XGBoost and ElasticNet models are so close in performance, the notebook will proceed with digging into the the ElasticNet model further."
   ]
  },
  {
   "cell_type": "markdown",
   "id": "dc0b06f4",
   "metadata": {},
   "source": [
    "## 7. Further Model Interpretation <a class=\"anchor\" id=\"header7\"></a>"
   ]
  },
  {
   "cell_type": "code",
   "execution_count": null,
   "id": "2877a02e",
   "metadata": {},
   "outputs": [],
   "source": []
  }
 ],
 "metadata": {
  "kernelspec": {
   "display_name": "capstone",
   "language": "python",
   "name": "capstone"
  },
  "language_info": {
   "codemirror_mode": {
    "name": "ipython",
    "version": 3
   },
   "file_extension": ".py",
   "mimetype": "text/x-python",
   "name": "python",
   "nbconvert_exporter": "python",
   "pygments_lexer": "ipython3",
   "version": "3.8.13"
  }
 },
 "nbformat": 4,
 "nbformat_minor": 5
}
