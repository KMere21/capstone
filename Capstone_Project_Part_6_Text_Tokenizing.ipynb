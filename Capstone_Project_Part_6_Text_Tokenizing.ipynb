{
 "cells": [
  {
   "cell_type": "markdown",
   "id": "14dfc07f",
   "metadata": {},
   "source": [
    "# Capstone Project Part 6: Text Tokenizing\n",
    "\n",
    "**Authur:** Kate Meredith \n",
    "\n",
    "**Date:** September-November 2022\n",
    "\n",
    "**Notebook #**: 6 of\n",
    "\n",
    "## Background\n",
    "\n",
    "**Source:** Data was collected from [CoffeeReview.com](https://www.coffeereview.com/). See prior notebooks for details on scraping, cleaning and compilation. This notebook focuses on tokenizing the review text."
   ]
  },
  {
   "cell_type": "code",
   "execution_count": 547,
   "id": "00e06e26",
   "metadata": {},
   "outputs": [],
   "source": [
    "#Importing libraries.\n",
    "import numpy as np\n",
    "import pandas as pd\n",
    "import matplotlib.pyplot as plt\n",
    "import seaborn as sns\n",
    "\n",
    "from scipy import stats\n",
    "from sklearn.linear_model import LinearRegression\n",
    "from sklearn.model_selection import train_test_split\n",
    "from sklearn.preprocessing import StandardScaler\n",
    "from sklearn.preprocessing import MinMaxScaler\n",
    "from sklearn.metrics import r2_score\n",
    "from sklearn.feature_extraction.text import CountVectorizer\n",
    "from sklearn.feature_extraction.text import TfidfVectorizer\n",
    "from sklearn.pipeline import Pipeline\n",
    "from sklearn.model_selection import GridSearchCV\n",
    "from tempfile import mkdtemp"
   ]
  },
  {
   "cell_type": "markdown",
   "id": "34d7b49e",
   "metadata": {},
   "source": [
    "### References\n",
    "\n",
    "- Used this [article](https://stackoverflow.com/questions/37080612/pandas-dataframe-filter-regex) for searching for specific text in columns"
   ]
  },
  {
   "cell_type": "markdown",
   "id": "3f18f612",
   "metadata": {},
   "source": [
    "### Importing and previewing data"
   ]
  },
  {
   "cell_type": "code",
   "execution_count": 548,
   "id": "bfe5e9e9",
   "metadata": {},
   "outputs": [],
   "source": [
    "coffee = pd.read_csv('coffee.csv')"
   ]
  },
  {
   "cell_type": "code",
   "execution_count": 549,
   "id": "aab4920e",
   "metadata": {},
   "outputs": [
    {
     "name": "stdout",
     "output_type": "stream",
     "text": [
      "<class 'pandas.core.frame.DataFrame'>\n",
      "RangeIndex: 6557 entries, 0 to 6556\n",
      "Data columns (total 19 columns):\n",
      " #   Column         Non-Null Count  Dtype  \n",
      "---  ------         --------------  -----  \n",
      " 0   coffee_name    6557 non-null   object \n",
      " 1   roaster_name   6557 non-null   object \n",
      " 2   month          6557 non-null   int64  \n",
      " 3   year           6557 non-null   int64  \n",
      " 4   bean_agtron    6557 non-null   int64  \n",
      " 5   ground_agtron  6557 non-null   int64  \n",
      " 6   aroma          6557 non-null   int64  \n",
      " 7   acidity        6557 non-null   int64  \n",
      " 8   body           6557 non-null   int64  \n",
      " 9   flavor         6557 non-null   int64  \n",
      " 10  aftertaste     6557 non-null   int64  \n",
      " 11  roaster_lat    6557 non-null   float64\n",
      " 12  roaster_lon    6557 non-null   float64\n",
      " 13  origin_lat     6557 non-null   float64\n",
      " 14  origin_lon     6557 non-null   float64\n",
      " 15  p1             6557 non-null   object \n",
      " 16  p2             6557 non-null   object \n",
      " 17  p3             6557 non-null   object \n",
      " 18  overall_score  6557 non-null   int64  \n",
      "dtypes: float64(4), int64(10), object(5)\n",
      "memory usage: 973.4+ KB\n"
     ]
    }
   ],
   "source": [
    "coffee.info()"
   ]
  },
  {
   "cell_type": "code",
   "execution_count": 550,
   "id": "04d3fac7",
   "metadata": {},
   "outputs": [
    {
     "data": {
      "text/plain": [
       "(6557, 19)"
      ]
     },
     "execution_count": 550,
     "metadata": {},
     "output_type": "execute_result"
    }
   ],
   "source": [
    "coffee.shape"
   ]
  },
  {
   "cell_type": "code",
   "execution_count": 551,
   "id": "16e498b3",
   "metadata": {},
   "outputs": [
    {
     "data": {
      "text/html": [
       "<div>\n",
       "<style scoped>\n",
       "    .dataframe tbody tr th:only-of-type {\n",
       "        vertical-align: middle;\n",
       "    }\n",
       "\n",
       "    .dataframe tbody tr th {\n",
       "        vertical-align: top;\n",
       "    }\n",
       "\n",
       "    .dataframe thead th {\n",
       "        text-align: right;\n",
       "    }\n",
       "</style>\n",
       "<table border=\"1\" class=\"dataframe\">\n",
       "  <thead>\n",
       "    <tr style=\"text-align: right;\">\n",
       "      <th></th>\n",
       "      <th>coffee_name</th>\n",
       "      <th>roaster_name</th>\n",
       "      <th>month</th>\n",
       "      <th>year</th>\n",
       "      <th>bean_agtron</th>\n",
       "      <th>ground_agtron</th>\n",
       "      <th>aroma</th>\n",
       "      <th>acidity</th>\n",
       "      <th>body</th>\n",
       "      <th>flavor</th>\n",
       "      <th>aftertaste</th>\n",
       "      <th>roaster_lat</th>\n",
       "      <th>roaster_lon</th>\n",
       "      <th>origin_lat</th>\n",
       "      <th>origin_lon</th>\n",
       "      <th>p1</th>\n",
       "      <th>p2</th>\n",
       "      <th>p3</th>\n",
       "      <th>overall_score</th>\n",
       "    </tr>\n",
       "  </thead>\n",
       "  <tbody>\n",
       "    <tr>\n",
       "      <th>0</th>\n",
       "      <td>Colombia Cerro Azul Enano</td>\n",
       "      <td>Equator Coffees</td>\n",
       "      <td>10</td>\n",
       "      <td>2022</td>\n",
       "      <td>60</td>\n",
       "      <td>77</td>\n",
       "      <td>9</td>\n",
       "      <td>9</td>\n",
       "      <td>9</td>\n",
       "      <td>9</td>\n",
       "      <td>8</td>\n",
       "      <td>37.973535</td>\n",
       "      <td>-122.531087</td>\n",
       "      <td>4.099917</td>\n",
       "      <td>-72.908813</td>\n",
       "      <td>Blind Assessment: Elegantly fruit- and cocoa-t...</td>\n",
       "      <td>Notes: Produced at Finca Cerro Azul (also owne...</td>\n",
       "      <td>The Bottom Line:  This rare Enano (dwarf Geish...</td>\n",
       "      <td>94</td>\n",
       "    </tr>\n",
       "    <tr>\n",
       "      <th>1</th>\n",
       "      <td>Peru Incahuasi</td>\n",
       "      <td>Press Coffee</td>\n",
       "      <td>10</td>\n",
       "      <td>2022</td>\n",
       "      <td>58</td>\n",
       "      <td>78</td>\n",
       "      <td>9</td>\n",
       "      <td>9</td>\n",
       "      <td>9</td>\n",
       "      <td>9</td>\n",
       "      <td>8</td>\n",
       "      <td>33.448437</td>\n",
       "      <td>-112.074141</td>\n",
       "      <td>-6.869970</td>\n",
       "      <td>-75.045851</td>\n",
       "      <td>Blind Assessment: Gently fruit-toned, integrat...</td>\n",
       "      <td>Notes: Produced at Incahuasi Farm from trees o...</td>\n",
       "      <td>The Bottom Line: Laden with tropical fruit not...</td>\n",
       "      <td>94</td>\n",
       "    </tr>\n",
       "    <tr>\n",
       "      <th>2</th>\n",
       "      <td>Colombia Aponte’s Guardians</td>\n",
       "      <td>Press Coffee</td>\n",
       "      <td>10</td>\n",
       "      <td>2022</td>\n",
       "      <td>59</td>\n",
       "      <td>77</td>\n",
       "      <td>9</td>\n",
       "      <td>9</td>\n",
       "      <td>8</td>\n",
       "      <td>9</td>\n",
       "      <td>8</td>\n",
       "      <td>33.448437</td>\n",
       "      <td>-112.074141</td>\n",
       "      <td>4.099917</td>\n",
       "      <td>-72.908813</td>\n",
       "      <td>Blind Assessment: Richly sweet, spice-toned. L...</td>\n",
       "      <td>Notes: Produced at Aponte Farm from an undiscl...</td>\n",
       "      <td>The Bottom Line: A balanced, inviting washed C...</td>\n",
       "      <td>93</td>\n",
       "    </tr>\n",
       "    <tr>\n",
       "      <th>3</th>\n",
       "      <td>Nicaragua Flor de Dalia Natural</td>\n",
       "      <td>Equator Coffees</td>\n",
       "      <td>10</td>\n",
       "      <td>2022</td>\n",
       "      <td>62</td>\n",
       "      <td>78</td>\n",
       "      <td>8</td>\n",
       "      <td>8</td>\n",
       "      <td>9</td>\n",
       "      <td>9</td>\n",
       "      <td>8</td>\n",
       "      <td>37.973535</td>\n",
       "      <td>-122.531087</td>\n",
       "      <td>12.609016</td>\n",
       "      <td>-85.293691</td>\n",
       "      <td>Blind Assessment: Gently fruit-forward, sweetl...</td>\n",
       "      <td>Notes: Produced by smallholding members of the...</td>\n",
       "      <td>The Bottom Line: A refreshing, very sweet natu...</td>\n",
       "      <td>92</td>\n",
       "    </tr>\n",
       "    <tr>\n",
       "      <th>4</th>\n",
       "      <td>Ethiopia Bench Maji Geisha G1 Natural</td>\n",
       "      <td>Taster's Coffee</td>\n",
       "      <td>10</td>\n",
       "      <td>2022</td>\n",
       "      <td>65</td>\n",
       "      <td>81</td>\n",
       "      <td>9</td>\n",
       "      <td>9</td>\n",
       "      <td>8</td>\n",
       "      <td>9</td>\n",
       "      <td>8</td>\n",
       "      <td>25.072134</td>\n",
       "      <td>121.679919</td>\n",
       "      <td>10.211670</td>\n",
       "      <td>38.652120</td>\n",
       "      <td>Blind Assessment: Gently sweet-tart, floral-to...</td>\n",
       "      <td>Notes: Produced from trees of the admired bota...</td>\n",
       "      <td>The Bottom Line: A quietly confident natural-p...</td>\n",
       "      <td>93</td>\n",
       "    </tr>\n",
       "  </tbody>\n",
       "</table>\n",
       "</div>"
      ],
      "text/plain": [
       "                             coffee_name     roaster_name  month  year  \\\n",
       "0              Colombia Cerro Azul Enano  Equator Coffees     10  2022   \n",
       "1                         Peru Incahuasi     Press Coffee     10  2022   \n",
       "2            Colombia Aponte’s Guardians     Press Coffee     10  2022   \n",
       "3        Nicaragua Flor de Dalia Natural  Equator Coffees     10  2022   \n",
       "4  Ethiopia Bench Maji Geisha G1 Natural  Taster's Coffee     10  2022   \n",
       "\n",
       "   bean_agtron  ground_agtron  aroma  acidity  body  flavor  aftertaste  \\\n",
       "0           60             77      9        9     9       9           8   \n",
       "1           58             78      9        9     9       9           8   \n",
       "2           59             77      9        9     8       9           8   \n",
       "3           62             78      8        8     9       9           8   \n",
       "4           65             81      9        9     8       9           8   \n",
       "\n",
       "   roaster_lat  roaster_lon  origin_lat  origin_lon  \\\n",
       "0    37.973535  -122.531087    4.099917  -72.908813   \n",
       "1    33.448437  -112.074141   -6.869970  -75.045851   \n",
       "2    33.448437  -112.074141    4.099917  -72.908813   \n",
       "3    37.973535  -122.531087   12.609016  -85.293691   \n",
       "4    25.072134   121.679919   10.211670   38.652120   \n",
       "\n",
       "                                                  p1  \\\n",
       "0  Blind Assessment: Elegantly fruit- and cocoa-t...   \n",
       "1  Blind Assessment: Gently fruit-toned, integrat...   \n",
       "2  Blind Assessment: Richly sweet, spice-toned. L...   \n",
       "3  Blind Assessment: Gently fruit-forward, sweetl...   \n",
       "4  Blind Assessment: Gently sweet-tart, floral-to...   \n",
       "\n",
       "                                                  p2  \\\n",
       "0  Notes: Produced at Finca Cerro Azul (also owne...   \n",
       "1  Notes: Produced at Incahuasi Farm from trees o...   \n",
       "2  Notes: Produced at Aponte Farm from an undiscl...   \n",
       "3  Notes: Produced by smallholding members of the...   \n",
       "4  Notes: Produced from trees of the admired bota...   \n",
       "\n",
       "                                                  p3  overall_score  \n",
       "0  The Bottom Line:  This rare Enano (dwarf Geish...             94  \n",
       "1  The Bottom Line: Laden with tropical fruit not...             94  \n",
       "2  The Bottom Line: A balanced, inviting washed C...             93  \n",
       "3  The Bottom Line: A refreshing, very sweet natu...             92  \n",
       "4  The Bottom Line: A quietly confident natural-p...             93  "
      ]
     },
     "execution_count": 551,
     "metadata": {},
     "output_type": "execute_result"
    }
   ],
   "source": [
    "coffee.head()"
   ]
  },
  {
   "cell_type": "code",
   "execution_count": 552,
   "id": "9f3e5eab",
   "metadata": {},
   "outputs": [
    {
     "data": {
      "text/html": [
       "<div>\n",
       "<style scoped>\n",
       "    .dataframe tbody tr th:only-of-type {\n",
       "        vertical-align: middle;\n",
       "    }\n",
       "\n",
       "    .dataframe tbody tr th {\n",
       "        vertical-align: top;\n",
       "    }\n",
       "\n",
       "    .dataframe thead th {\n",
       "        text-align: right;\n",
       "    }\n",
       "</style>\n",
       "<table border=\"1\" class=\"dataframe\">\n",
       "  <thead>\n",
       "    <tr style=\"text-align: right;\">\n",
       "      <th></th>\n",
       "      <th>month</th>\n",
       "      <th>year</th>\n",
       "      <th>bean_agtron</th>\n",
       "      <th>ground_agtron</th>\n",
       "      <th>aroma</th>\n",
       "      <th>acidity</th>\n",
       "      <th>body</th>\n",
       "      <th>flavor</th>\n",
       "      <th>aftertaste</th>\n",
       "      <th>roaster_lat</th>\n",
       "      <th>roaster_lon</th>\n",
       "      <th>origin_lat</th>\n",
       "      <th>origin_lon</th>\n",
       "      <th>overall_score</th>\n",
       "    </tr>\n",
       "  </thead>\n",
       "  <tbody>\n",
       "    <tr>\n",
       "      <th>count</th>\n",
       "      <td>6557.000000</td>\n",
       "      <td>6557.000000</td>\n",
       "      <td>6557.000000</td>\n",
       "      <td>6557.000000</td>\n",
       "      <td>6557.000000</td>\n",
       "      <td>6557.000000</td>\n",
       "      <td>6557.000000</td>\n",
       "      <td>6557.000000</td>\n",
       "      <td>6557.000000</td>\n",
       "      <td>6557.000000</td>\n",
       "      <td>6557.000000</td>\n",
       "      <td>6557.000000</td>\n",
       "      <td>6557.000000</td>\n",
       "      <td>6557.000000</td>\n",
       "    </tr>\n",
       "    <tr>\n",
       "      <th>mean</th>\n",
       "      <td>6.642062</td>\n",
       "      <td>2013.102181</td>\n",
       "      <td>52.229983</td>\n",
       "      <td>67.668598</td>\n",
       "      <td>8.360988</td>\n",
       "      <td>7.904224</td>\n",
       "      <td>8.086472</td>\n",
       "      <td>8.361598</td>\n",
       "      <td>7.795638</td>\n",
       "      <td>37.027419</td>\n",
       "      <td>-64.412448</td>\n",
       "      <td>10.198811</td>\n",
       "      <td>-12.161417</td>\n",
       "      <td>90.873723</td>\n",
       "    </tr>\n",
       "    <tr>\n",
       "      <th>std</th>\n",
       "      <td>3.437202</td>\n",
       "      <td>6.719059</td>\n",
       "      <td>8.411739</td>\n",
       "      <td>12.936090</td>\n",
       "      <td>0.927393</td>\n",
       "      <td>1.023060</td>\n",
       "      <td>0.871203</td>\n",
       "      <td>1.065692</td>\n",
       "      <td>0.874365</td>\n",
       "      <td>9.504209</td>\n",
       "      <td>81.708964</td>\n",
       "      <td>12.709097</td>\n",
       "      <td>68.848718</td>\n",
       "      <td>4.089739</td>\n",
       "    </tr>\n",
       "    <tr>\n",
       "      <th>min</th>\n",
       "      <td>1.000000</td>\n",
       "      <td>1997.000000</td>\n",
       "      <td>11.000000</td>\n",
       "      <td>12.000000</td>\n",
       "      <td>2.000000</td>\n",
       "      <td>1.000000</td>\n",
       "      <td>4.000000</td>\n",
       "      <td>1.000000</td>\n",
       "      <td>2.000000</td>\n",
       "      <td>-37.824425</td>\n",
       "      <td>-159.582761</td>\n",
       "      <td>-30.292848</td>\n",
       "      <td>-155.428370</td>\n",
       "      <td>60.000000</td>\n",
       "    </tr>\n",
       "    <tr>\n",
       "      <th>25%</th>\n",
       "      <td>4.000000</td>\n",
       "      <td>2008.000000</td>\n",
       "      <td>48.000000</td>\n",
       "      <td>60.000000</td>\n",
       "      <td>8.000000</td>\n",
       "      <td>8.000000</td>\n",
       "      <td>8.000000</td>\n",
       "      <td>8.000000</td>\n",
       "      <td>7.000000</td>\n",
       "      <td>32.840162</td>\n",
       "      <td>-117.423510</td>\n",
       "      <td>1.441968</td>\n",
       "      <td>-79.366697</td>\n",
       "      <td>90.000000</td>\n",
       "    </tr>\n",
       "    <tr>\n",
       "      <th>50%</th>\n",
       "      <td>7.000000</td>\n",
       "      <td>2014.000000</td>\n",
       "      <td>54.000000</td>\n",
       "      <td>71.000000</td>\n",
       "      <td>9.000000</td>\n",
       "      <td>8.000000</td>\n",
       "      <td>8.000000</td>\n",
       "      <td>9.000000</td>\n",
       "      <td>8.000000</td>\n",
       "      <td>39.049011</td>\n",
       "      <td>-89.383761</td>\n",
       "      <td>10.211670</td>\n",
       "      <td>7.540121</td>\n",
       "      <td>92.000000</td>\n",
       "    </tr>\n",
       "    <tr>\n",
       "      <th>75%</th>\n",
       "      <td>10.000000</td>\n",
       "      <td>2019.000000</td>\n",
       "      <td>58.000000</td>\n",
       "      <td>77.000000</td>\n",
       "      <td>9.000000</td>\n",
       "      <td>9.000000</td>\n",
       "      <td>9.000000</td>\n",
       "      <td>9.000000</td>\n",
       "      <td>8.000000</td>\n",
       "      <td>43.074761</td>\n",
       "      <td>-72.815099</td>\n",
       "      <td>13.800038</td>\n",
       "      <td>38.652120</td>\n",
       "      <td>93.000000</td>\n",
       "    </tr>\n",
       "    <tr>\n",
       "      <th>max</th>\n",
       "      <td>12.000000</td>\n",
       "      <td>2022.000000</td>\n",
       "      <td>91.000000</td>\n",
       "      <td>99.000000</td>\n",
       "      <td>10.000000</td>\n",
       "      <td>10.000000</td>\n",
       "      <td>10.000000</td>\n",
       "      <td>10.000000</td>\n",
       "      <td>10.000000</td>\n",
       "      <td>64.837845</td>\n",
       "      <td>152.952215</td>\n",
       "      <td>52.380033</td>\n",
       "      <td>153.125616</td>\n",
       "      <td>98.000000</td>\n",
       "    </tr>\n",
       "  </tbody>\n",
       "</table>\n",
       "</div>"
      ],
      "text/plain": [
       "             month         year  bean_agtron  ground_agtron        aroma  \\\n",
       "count  6557.000000  6557.000000  6557.000000    6557.000000  6557.000000   \n",
       "mean      6.642062  2013.102181    52.229983      67.668598     8.360988   \n",
       "std       3.437202     6.719059     8.411739      12.936090     0.927393   \n",
       "min       1.000000  1997.000000    11.000000      12.000000     2.000000   \n",
       "25%       4.000000  2008.000000    48.000000      60.000000     8.000000   \n",
       "50%       7.000000  2014.000000    54.000000      71.000000     9.000000   \n",
       "75%      10.000000  2019.000000    58.000000      77.000000     9.000000   \n",
       "max      12.000000  2022.000000    91.000000      99.000000    10.000000   \n",
       "\n",
       "           acidity         body       flavor   aftertaste  roaster_lat  \\\n",
       "count  6557.000000  6557.000000  6557.000000  6557.000000  6557.000000   \n",
       "mean      7.904224     8.086472     8.361598     7.795638    37.027419   \n",
       "std       1.023060     0.871203     1.065692     0.874365     9.504209   \n",
       "min       1.000000     4.000000     1.000000     2.000000   -37.824425   \n",
       "25%       8.000000     8.000000     8.000000     7.000000    32.840162   \n",
       "50%       8.000000     8.000000     9.000000     8.000000    39.049011   \n",
       "75%       9.000000     9.000000     9.000000     8.000000    43.074761   \n",
       "max      10.000000    10.000000    10.000000    10.000000    64.837845   \n",
       "\n",
       "       roaster_lon   origin_lat   origin_lon  overall_score  \n",
       "count  6557.000000  6557.000000  6557.000000    6557.000000  \n",
       "mean    -64.412448    10.198811   -12.161417      90.873723  \n",
       "std      81.708964    12.709097    68.848718       4.089739  \n",
       "min    -159.582761   -30.292848  -155.428370      60.000000  \n",
       "25%    -117.423510     1.441968   -79.366697      90.000000  \n",
       "50%     -89.383761    10.211670     7.540121      92.000000  \n",
       "75%     -72.815099    13.800038    38.652120      93.000000  \n",
       "max     152.952215    52.380033   153.125616      98.000000  "
      ]
     },
     "execution_count": 552,
     "metadata": {},
     "output_type": "execute_result"
    }
   ],
   "source": [
    "coffee.describe()"
   ]
  },
  {
   "cell_type": "markdown",
   "id": "c576aa70",
   "metadata": {},
   "source": [
    "### Preprocessing\n",
    "\n",
    "Before we create our X and y, there are some repeated text words that appear in `p1`, `p2`, and `p3`. In most reviews, these paragrapsh correspond to:\n",
    "\n",
    "- p1: Blind Assessment\n",
    "- p2: Notes\n",
    "- p3: The Bottom Line OR Who Should Drink it\n",
    "\n",
    "We'll first check to see if these paragraphs do contain the information we expect.\n",
    "\n",
    "Checking the composition of paragraphs:"
   ]
  },
  {
   "cell_type": "code",
   "execution_count": 553,
   "id": "f0bfae89",
   "metadata": {},
   "outputs": [
    {
     "name": "stderr",
     "output_type": "stream",
     "text": [
      "/var/folders/jm/x73vvhpx2cd14qw0zx2ccfsc0000gn/T/ipykernel_8414/1218255241.py:2: UserWarning: This pattern is interpreted as a regular expression, and has match groups. To actually get the groups, use str.extract.\n",
      "  len(coffee.loc[coffee['p1'].str.contains(r'(Blind Assessment).*')])\n"
     ]
    },
    {
     "data": {
      "text/plain": [
       "6557"
      ]
     },
     "execution_count": 553,
     "metadata": {},
     "output_type": "execute_result"
    }
   ],
   "source": [
    "#see how many of p1 paragraphs reference which type of information\n",
    "len(coffee.loc[coffee['p1'].str.contains(r'(Blind Assessment).*')])"
   ]
  },
  {
   "cell_type": "code",
   "execution_count": 554,
   "id": "b9c79d30",
   "metadata": {},
   "outputs": [
    {
     "name": "stderr",
     "output_type": "stream",
     "text": [
      "/var/folders/jm/x73vvhpx2cd14qw0zx2ccfsc0000gn/T/ipykernel_8414/3921903414.py:2: UserWarning: This pattern is interpreted as a regular expression, and has match groups. To actually get the groups, use str.extract.\n",
      "  len(coffee.loc[coffee['p2'].str.contains(r'(Notes).*')])\n"
     ]
    },
    {
     "data": {
      "text/plain": [
       "6557"
      ]
     },
     "execution_count": 554,
     "metadata": {},
     "output_type": "execute_result"
    }
   ],
   "source": [
    "#see how many of p2 paragraphs reference which type of information\n",
    "len(coffee.loc[coffee['p2'].str.contains(r'(Notes).*')])"
   ]
  },
  {
   "cell_type": "code",
   "execution_count": 555,
   "id": "bca2552d",
   "metadata": {
    "scrolled": true
   },
   "outputs": [
    {
     "name": "stderr",
     "output_type": "stream",
     "text": [
      "/var/folders/jm/x73vvhpx2cd14qw0zx2ccfsc0000gn/T/ipykernel_8414/984657743.py:2: UserWarning: This pattern is interpreted as a regular expression, and has match groups. To actually get the groups, use str.extract.\n",
      "  len(coffee.loc[coffee['p3'].str.contains(r'(The Bottom).*')])\n"
     ]
    },
    {
     "data": {
      "text/plain": [
       "2728"
      ]
     },
     "execution_count": 555,
     "metadata": {},
     "output_type": "execute_result"
    }
   ],
   "source": [
    "#see how many of p3 paragraphs reference which type of information\n",
    "len(coffee.loc[coffee['p3'].str.contains(r'(The Bottom).*')])"
   ]
  },
  {
   "cell_type": "code",
   "execution_count": 556,
   "id": "44d69bb6",
   "metadata": {},
   "outputs": [
    {
     "name": "stderr",
     "output_type": "stream",
     "text": [
      "/var/folders/jm/x73vvhpx2cd14qw0zx2ccfsc0000gn/T/ipykernel_8414/2101417195.py:2: UserWarning: This pattern is interpreted as a regular expression, and has match groups. To actually get the groups, use str.extract.\n",
      "  len(coffee.loc[coffee['p3'].str.contains(r'(Who Should).*')])\n"
     ]
    },
    {
     "data": {
      "text/plain": [
       "3777"
      ]
     },
     "execution_count": 556,
     "metadata": {},
     "output_type": "execute_result"
    }
   ],
   "source": [
    "#see how many of p3 paragraphs reference which type of information\n",
    "len(coffee.loc[coffee['p3'].str.contains(r'(Who Should).*')])"
   ]
  },
  {
   "cell_type": "markdown",
   "id": "285e38be",
   "metadata": {},
   "source": [
    "As expected, paragraphs 1 and 2 contain consistent data, paragraph 3 is split. We'll need to remove \"Blind Assessment\", \"The Bottom Line\", \"Who Should Drink it\" and \"Notes\" from our bag of words as they appear in every review.\n",
    "\n",
    "Getting rid of repeat words:"
   ]
  },
  {
   "cell_type": "code",
   "execution_count": 557,
   "id": "951fc9ea",
   "metadata": {},
   "outputs": [],
   "source": [
    "#splitting out paragraph review score labels\n",
    "coffee[['ba','p1']] = coffee['p1'].str.split(\":\", n=1, expand=True)"
   ]
  },
  {
   "cell_type": "code",
   "execution_count": 558,
   "id": "bec7a1ba",
   "metadata": {},
   "outputs": [],
   "source": [
    "#splitting out paragraph review score labels\n",
    "coffee[['N','p2']] = coffee['p2'].str.split(\":\", n=1, expand=True)"
   ]
  },
  {
   "cell_type": "code",
   "execution_count": 559,
   "id": "4fef6438",
   "metadata": {},
   "outputs": [],
   "source": [
    "#splitting out paragraph review score labels\n",
    "coffee[['tbl','p3']] = coffee['p3'].str.split(\":\", n=1, expand=True)"
   ]
  },
  {
   "cell_type": "code",
   "execution_count": 560,
   "id": "7ad1692b",
   "metadata": {},
   "outputs": [],
   "source": [
    "#drop unneeded holding columns\n",
    "coffee.drop(['ba', 'N', 'tbl'], axis=1, inplace=True)"
   ]
  },
  {
   "cell_type": "code",
   "execution_count": 561,
   "id": "85cd671d",
   "metadata": {},
   "outputs": [
    {
     "data": {
      "text/plain": [
       "coffee_name      0\n",
       "roaster_name     0\n",
       "month            0\n",
       "year             0\n",
       "bean_agtron      0\n",
       "ground_agtron    0\n",
       "aroma            0\n",
       "acidity          0\n",
       "body             0\n",
       "flavor           0\n",
       "aftertaste       0\n",
       "roaster_lat      0\n",
       "roaster_lon      0\n",
       "origin_lat       0\n",
       "origin_lon       0\n",
       "p1               0\n",
       "p2               0\n",
       "p3               3\n",
       "overall_score    0\n",
       "dtype: int64"
      ]
     },
     "execution_count": 561,
     "metadata": {},
     "output_type": "execute_result"
    }
   ],
   "source": [
    "#checking for nan\n",
    "coffee.isna().sum()"
   ]
  },
  {
   "cell_type": "code",
   "execution_count": 562,
   "id": "5078c26a",
   "metadata": {},
   "outputs": [],
   "source": [
    "#drop rows missing value in overall_score column \n",
    "coffee.dropna(subset = ['p3'], inplace=True)"
   ]
  },
  {
   "cell_type": "code",
   "execution_count": 563,
   "id": "374f410f",
   "metadata": {},
   "outputs": [
    {
     "data": {
      "text/plain": [
       "6554"
      ]
     },
     "execution_count": 563,
     "metadata": {},
     "output_type": "execute_result"
    }
   ],
   "source": [
    "len(coffee)"
   ]
  },
  {
   "cell_type": "markdown",
   "id": "a3de90c6",
   "metadata": {},
   "source": [
    "### Creating X and y\n",
    "\n",
    "target = `overall_score`"
   ]
  },
  {
   "cell_type": "code",
   "execution_count": 564,
   "id": "aa35350d",
   "metadata": {},
   "outputs": [],
   "source": [
    "X = coffee.drop('overall_score', axis = 1)"
   ]
  },
  {
   "cell_type": "code",
   "execution_count": 565,
   "id": "27fe68d0",
   "metadata": {},
   "outputs": [
    {
     "data": {
      "text/plain": [
       "(6554, 18)"
      ]
     },
     "execution_count": 565,
     "metadata": {},
     "output_type": "execute_result"
    }
   ],
   "source": [
    "X.shape"
   ]
  },
  {
   "cell_type": "code",
   "execution_count": 566,
   "id": "392bff78",
   "metadata": {},
   "outputs": [],
   "source": [
    "y = coffee['overall_score']"
   ]
  },
  {
   "cell_type": "code",
   "execution_count": 567,
   "id": "7175b401",
   "metadata": {},
   "outputs": [
    {
     "data": {
      "text/plain": [
       "(6554,)"
      ]
     },
     "execution_count": 567,
     "metadata": {},
     "output_type": "execute_result"
    }
   ],
   "source": [
    "y.shape"
   ]
  },
  {
   "cell_type": "code",
   "execution_count": 568,
   "id": "bc4441a4",
   "metadata": {},
   "outputs": [
    {
     "data": {
      "text/plain": [
       "count    6554.000000\n",
       "mean       90.872902\n",
       "std         4.090446\n",
       "min        60.000000\n",
       "25%        90.000000\n",
       "50%        92.000000\n",
       "75%        93.000000\n",
       "max        98.000000\n",
       "Name: overall_score, dtype: float64"
      ]
     },
     "execution_count": 568,
     "metadata": {},
     "output_type": "execute_result"
    }
   ],
   "source": [
    "y.describe()"
   ]
  },
  {
   "cell_type": "code",
   "execution_count": 569,
   "id": "ab0a9db1",
   "metadata": {},
   "outputs": [
    {
     "data": {
      "image/png": "[encoded data removed]",
      "text/plain": [
       "<Figure size 640x480 with 1 Axes>"
      ]
     },
     "metadata": {},
     "output_type": "display_data"
    }
   ],
   "source": [
    "#plot y distribution\n",
    "plt.figure()\n",
    "plt.hist(coffee['overall_score'])\n",
    "plt.title('historgram of overall_score')\n",
    "plt.show()"
   ]
  },
  {
   "cell_type": "code",
   "execution_count": 570,
   "id": "c7ffeabe",
   "metadata": {},
   "outputs": [],
   "source": [
    "#create train/test split, using 20% given dataset size\n",
    "\n",
    "X_train, X_test, y_train, y_test = train_test_split(X, y, test_size=0.2)"
   ]
  },
  {
   "cell_type": "code",
   "execution_count": 571,
   "id": "7b59692f",
   "metadata": {},
   "outputs": [],
   "source": [
    "#create train/validate split, using 20% given dataset size\n",
    "\n",
    "X_remain, X_val, y_remain, y_val = train_test_split(X_train, y_train, test_size=0.2)"
   ]
  },
  {
   "cell_type": "code",
   "execution_count": 572,
   "id": "6540d5b9",
   "metadata": {},
   "outputs": [
    {
     "data": {
      "text/plain": [
       "(5243, 18)"
      ]
     },
     "execution_count": 572,
     "metadata": {},
     "output_type": "execute_result"
    }
   ],
   "source": [
    "X_train.shape"
   ]
  },
  {
   "cell_type": "code",
   "execution_count": 573,
   "id": "3a04fa8b",
   "metadata": {},
   "outputs": [
    {
     "data": {
      "text/plain": [
       "(4194, 18)"
      ]
     },
     "execution_count": 573,
     "metadata": {},
     "output_type": "execute_result"
    }
   ],
   "source": [
    "X_remain.shape"
   ]
  },
  {
   "cell_type": "code",
   "execution_count": 574,
   "id": "60550f4c",
   "metadata": {},
   "outputs": [
    {
     "data": {
      "text/plain": [
       "(1049, 18)"
      ]
     },
     "execution_count": 574,
     "metadata": {},
     "output_type": "execute_result"
    }
   ],
   "source": [
    "X_val.shape"
   ]
  },
  {
   "cell_type": "code",
   "execution_count": 575,
   "id": "ef9ab185",
   "metadata": {},
   "outputs": [
    {
     "data": {
      "text/plain": [
       "(1311, 18)"
      ]
     },
     "execution_count": 575,
     "metadata": {},
     "output_type": "execute_result"
    }
   ],
   "source": [
    "X_test.shape"
   ]
  },
  {
   "cell_type": "code",
   "execution_count": 576,
   "id": "5f67dc03",
   "metadata": {},
   "outputs": [
    {
     "data": {
      "text/plain": [
       "(5243,)"
      ]
     },
     "execution_count": 576,
     "metadata": {},
     "output_type": "execute_result"
    }
   ],
   "source": [
    "y_train.shape"
   ]
  },
  {
   "cell_type": "code",
   "execution_count": 577,
   "id": "69d9c746",
   "metadata": {},
   "outputs": [
    {
     "data": {
      "text/plain": [
       "(4194,)"
      ]
     },
     "execution_count": 577,
     "metadata": {},
     "output_type": "execute_result"
    }
   ],
   "source": [
    "y_remain.shape"
   ]
  },
  {
   "cell_type": "code",
   "execution_count": 578,
   "id": "3544a8d1",
   "metadata": {},
   "outputs": [
    {
     "data": {
      "text/plain": [
       "(1049,)"
      ]
     },
     "execution_count": 578,
     "metadata": {},
     "output_type": "execute_result"
    }
   ],
   "source": [
    "y_val.shape"
   ]
  },
  {
   "cell_type": "code",
   "execution_count": 579,
   "id": "6cff7f34",
   "metadata": {},
   "outputs": [
    {
     "data": {
      "text/plain": [
       "(1311,)"
      ]
     },
     "execution_count": 579,
     "metadata": {},
     "output_type": "execute_result"
    }
   ],
   "source": [
    "y_test.shape"
   ]
  },
  {
   "cell_type": "markdown",
   "id": "a285a65d",
   "metadata": {},
   "source": [
    "Do my train, val, test splits have similar distributions?"
   ]
  },
  {
   "cell_type": "code",
   "execution_count": 580,
   "id": "9449abde",
   "metadata": {},
   "outputs": [
    {
     "data": {
      "image/png": "[encoded data removed]",
      "text/plain": [
       "<Figure size 640x480 with 1 Axes>"
      ]
     },
     "metadata": {},
     "output_type": "display_data"
    }
   ],
   "source": [
    "#plot y val distribution\n",
    "plt.figure()\n",
    "plt.hist(y_remain)\n",
    "plt.title('historgram of overall_score')\n",
    "plt.show()"
   ]
  },
  {
   "cell_type": "code",
   "execution_count": 581,
   "id": "6e2ccafc",
   "metadata": {},
   "outputs": [
    {
     "data": {
      "image/png": "[encoded data removed]",
      "text/plain": [
       "<Figure size 640x480 with 1 Axes>"
      ]
     },
     "metadata": {},
     "output_type": "display_data"
    }
   ],
   "source": [
    "#plot y val distribution\n",
    "plt.figure()\n",
    "plt.hist(y_val)\n",
    "plt.title('historgram of overall_score')\n",
    "plt.show()"
   ]
  },
  {
   "cell_type": "markdown",
   "id": "a76f625d",
   "metadata": {},
   "source": [
    "The test group looks a bit different but each group does have the range of values with somewhat similar distributions."
   ]
  },
  {
   "cell_type": "code",
   "execution_count": 582,
   "id": "38dadb6a",
   "metadata": {},
   "outputs": [
    {
     "data": {
      "image/png": "[encoded data removed]",
      "text/plain": [
       "<Figure size 640x480 with 1 Axes>"
      ]
     },
     "metadata": {},
     "output_type": "display_data"
    }
   ],
   "source": [
    "#plot y val distribution\n",
    "plt.figure()\n",
    "plt.hist(y_test)\n",
    "plt.title('historgram of overall_score')\n",
    "plt.show()"
   ]
  },
  {
   "cell_type": "markdown",
   "id": "59c44d8e",
   "metadata": {},
   "source": [
    "### Bag of Words with CountVectorizer()"
   ]
  },
  {
   "cell_type": "markdown",
   "id": "1e63dc5f",
   "metadata": {},
   "source": [
    "`p1` Creating bag of words and graphing most popular:"
   ]
  },
  {
   "cell_type": "code",
   "execution_count": 612,
   "id": "81ac7e7f",
   "metadata": {},
   "outputs": [
    {
     "name": "stderr",
     "output_type": "stream",
     "text": [
      "/Users/katemondal/opt/anaconda3/envs/capstone/lib/python3.8/site-packages/sklearn/utils/deprecation.py:87: FutureWarning: Function get_feature_names is deprecated; get_feature_names is deprecated in 1.0 and will be removed in 1.2. Please use get_feature_names_out instead.\n",
      "  warnings.warn(msg, category=FutureWarning)\n"
     ]
    },
    {
     "data": {
      "image/png": "[encoded data removed]",
      "text/plain": [
       "<Figure size 1500x500 with 1 Axes>"
      ]
     },
     "metadata": {},
     "output_type": "display_data"
    }
   ],
   "source": [
    "# 1. Instantiate \n",
    "bagofwords_p1 = CountVectorizer(stop_words='english', min_df=5, max_features=500, max_df=2000)\n",
    "\n",
    "# 2. Fit \n",
    "bagofwords_p1.fit(X_remain[\"p1\"])\n",
    "\n",
    "# 3. Transform\n",
    "p1_remain_transform = bagofwords_p1.transform(X_remain[\"p1\"])\n",
    "p1_val_transform = bagofwords_p1.transform(X_val[\"p1\"])\n",
    "p1_test_transform = bagofwords_p1.transform(X_test[\"p1\"])\n",
    "\n",
    "#the following looks at the 20 most popular words from paragraph 1\n",
    "\n",
    "word_counts = pd.DataFrame(\n",
    "    {\"counts\": p1_remain_transform.toarray().sum(axis=0)},\n",
    "    index=bagofwords_p1.get_feature_names()\n",
    ").sort_values(\"counts\", ascending=False)\n",
    "\n",
    "word_counts.head(20).plot(kind=\"bar\", figsize=(15, 5), legend=False)\n",
    "plt.title(\"Top 20 most frequently occurring words\")\n",
    "plt.ylabel(\"Count\")\n",
    "plt.xticks(rotation=45)\n",
    "plt.show()"
   ]
  },
  {
   "cell_type": "markdown",
   "id": "bf9570fd",
   "metadata": {},
   "source": [
    "Looking at the most popular words:"
   ]
  },
  {
   "cell_type": "code",
   "execution_count": 613,
   "id": "c897d2ad",
   "metadata": {},
   "outputs": [
    {
     "name": "stderr",
     "output_type": "stream",
     "text": [
      "/Users/katemondal/opt/anaconda3/envs/capstone/lib/python3.8/site-packages/sklearn/utils/deprecation.py:87: FutureWarning: Function get_feature_names is deprecated; get_feature_names is deprecated in 1.0 and will be removed in 1.2. Please use get_feature_names_out instead.\n",
      "  warnings.warn(msg, category=FutureWarning)\n"
     ]
    },
    {
     "data": {
      "text/plain": [
       "['88',\n",
       " '89',\n",
       " '90',\n",
       " '91',\n",
       " '92',\n",
       " 'acid',\n",
       " 'acidy',\n",
       " 'admired',\n",
       " 'aftertaste',\n",
       " 'agave',\n",
       " 'almond',\n",
       " 'amber',\n",
       " 'anise',\n",
       " 'apple',\n",
       " 'apricot',\n",
       " 'aromatic',\n",
       " 'aromatically',\n",
       " 'aromatics',\n",
       " 'astringency',\n",
       " 'astringent',\n",
       " 'attractive',\n",
       " 'authority',\n",
       " 'b70',\n",
       " 'backgrounded',\n",
       " 'baker',\n",
       " 'baking',\n",
       " 'balance',\n",
       " 'balanced',\n",
       " 'banana',\n",
       " 'barrel',\n",
       " 'bergamot',\n",
       " 'berries',\n",
       " 'berry',\n",
       " 'best',\n",
       " 'big',\n",
       " 'bit',\n",
       " 'bitter',\n",
       " 'bitterish',\n",
       " 'bitterness',\n",
       " 'bittersweet',\n",
       " 'black',\n",
       " 'blackberry',\n",
       " 'blend',\n",
       " 'blood',\n",
       " 'blooming',\n",
       " 'blossom',\n",
       " 'blueberry',\n",
       " 'bodied',\n",
       " 'body',\n",
       " 'brandy',\n",
       " 'brazil',\n",
       " 'brewed',\n",
       " 'brewing',\n",
       " 'bright',\n",
       " 'brightly',\n",
       " 'brightness',\n",
       " 'brisk',\n",
       " 'brittle',\n",
       " 'brown',\n",
       " 'buoyant',\n",
       " 'burned',\n",
       " 'butter',\n",
       " 'butterscotch',\n",
       " 'buttery',\n",
       " 'cacao',\n",
       " 'candied',\n",
       " 'candy',\n",
       " 'cappuccino',\n",
       " 'capsule',\n",
       " 'caramel',\n",
       " 'caramelly',\n",
       " 'carbon',\n",
       " 'cardamom',\n",
       " 'carob',\n",
       " 'carried',\n",
       " 'carries',\n",
       " 'carry',\n",
       " 'carrying',\n",
       " 'cashew',\n",
       " 'cedar',\n",
       " 'cedary',\n",
       " 'center',\n",
       " 'centered',\n",
       " 'centers',\n",
       " 'character',\n",
       " 'charred',\n",
       " 'cherry',\n",
       " 'cherryish',\n",
       " 'chocolaty',\n",
       " 'cinnamon',\n",
       " 'citrus',\n",
       " 'citrusy',\n",
       " 'classic',\n",
       " 'clean',\n",
       " 'cleanly',\n",
       " 'clear',\n",
       " 'clove',\n",
       " 'cocoa',\n",
       " 'cocoaish',\n",
       " 'coconut',\n",
       " 'coffee',\n",
       " 'coffees',\n",
       " 'complete',\n",
       " 'complex',\n",
       " 'complexity',\n",
       " 'complexly',\n",
       " 'complicated',\n",
       " 'complicating',\n",
       " 'complication',\n",
       " 'complications',\n",
       " 'concord',\n",
       " 'consolidates',\n",
       " 'continued',\n",
       " 'continuing',\n",
       " 'cools',\n",
       " 'creamy',\n",
       " 'crisp',\n",
       " 'crisply',\n",
       " 'cupper',\n",
       " 'cupping',\n",
       " 'currant',\n",
       " 'cut',\n",
       " 'dark',\n",
       " 'date',\n",
       " 'deep',\n",
       " 'deepens',\n",
       " 'deeply',\n",
       " 'delicate',\n",
       " 'delicately',\n",
       " 'depth',\n",
       " 'device',\n",
       " 'dimension',\n",
       " 'displays',\n",
       " 'distinct',\n",
       " 'distinctive',\n",
       " 'distinctly',\n",
       " 'dominate',\n",
       " 'dominated',\n",
       " 'dominates',\n",
       " 'dominating',\n",
       " 'dried',\n",
       " 'drink',\n",
       " 'driven',\n",
       " 'dry',\n",
       " 'drying',\n",
       " 'earth',\n",
       " 'earthy',\n",
       " 'edge',\n",
       " 'elegant',\n",
       " 'elegantly',\n",
       " 'emerges',\n",
       " 'engaging',\n",
       " 'enveloped',\n",
       " 'espresso',\n",
       " 'evaluated',\n",
       " 'excellent',\n",
       " 'exotic',\n",
       " 'expressed',\n",
       " 'fade',\n",
       " 'fades',\n",
       " 'faint',\n",
       " 'fallen',\n",
       " 'far',\n",
       " 'felt',\n",
       " 'ferment',\n",
       " 'fermented',\n",
       " 'fermenty',\n",
       " 'fig',\n",
       " 'fine',\n",
       " 'fir',\n",
       " 'flat',\n",
       " 'flavor',\n",
       " 'flavors',\n",
       " 'floral',\n",
       " 'florals',\n",
       " 'flower',\n",
       " 'flowers',\n",
       " 'forward',\n",
       " 'fragrant',\n",
       " 'framed',\n",
       " 'frankincense',\n",
       " 'freesia',\n",
       " 'fresh',\n",
       " 'fruit',\n",
       " 'fruity',\n",
       " 'fudge',\n",
       " 'gardenia',\n",
       " 'gentle',\n",
       " 'gently',\n",
       " 'ginger',\n",
       " 'good',\n",
       " 'grace',\n",
       " 'grape',\n",
       " 'grapefruit',\n",
       " 'grass',\n",
       " 'great',\n",
       " 'green',\n",
       " 'guava',\n",
       " 'hard',\n",
       " 'hazelnut',\n",
       " 'heavy',\n",
       " 'herb',\n",
       " 'herbaceous',\n",
       " 'herby',\n",
       " 'hibiscus',\n",
       " 'high',\n",
       " 'hint',\n",
       " 'hints',\n",
       " 'honey',\n",
       " 'honeysuckle',\n",
       " 'hop',\n",
       " 'hot',\n",
       " 'impression',\n",
       " 'impressive',\n",
       " 'impressively',\n",
       " 'integrated',\n",
       " 'intense',\n",
       " 'intensely',\n",
       " 'intricate',\n",
       " 'intricately',\n",
       " 'jam',\n",
       " 'jasmine',\n",
       " 'juicy',\n",
       " 'just',\n",
       " 'ken',\n",
       " 'kenya',\n",
       " 'keurig',\n",
       " 'key',\n",
       " 'laden',\n",
       " 'lavender',\n",
       " 'layered',\n",
       " 'lead',\n",
       " 'leads',\n",
       " 'lean',\n",
       " 'leaning',\n",
       " 'leanish',\n",
       " 'leather',\n",
       " 'leaves',\n",
       " 'lemon',\n",
       " 'lemony',\n",
       " 'light',\n",
       " 'lightly',\n",
       " 'like',\n",
       " 'lilac',\n",
       " 'lily',\n",
       " 'lime',\n",
       " 'limited',\n",
       " 'linger',\n",
       " 'lingering',\n",
       " 'lingers',\n",
       " 'little',\n",
       " 'lively',\n",
       " 'long',\n",
       " 'low',\n",
       " 'lush',\n",
       " 'lushly',\n",
       " 'lychee',\n",
       " 'lyric',\n",
       " 'magnolia',\n",
       " 'maintains',\n",
       " 'mango',\n",
       " 'maple',\n",
       " 'marjoram',\n",
       " 'medium',\n",
       " 'melon',\n",
       " 'meyer',\n",
       " 'mild',\n",
       " 'mildly',\n",
       " 'milk',\n",
       " 'mint',\n",
       " 'minty',\n",
       " 'moist',\n",
       " 'molasses',\n",
       " 'mulberry',\n",
       " 'multi',\n",
       " 'mushroom',\n",
       " 'musk',\n",
       " 'musky',\n",
       " 'musty',\n",
       " 'muted',\n",
       " 'myrrh',\n",
       " 'narcissus',\n",
       " 'nectarine',\n",
       " 'nib',\n",
       " 'nicely',\n",
       " 'night',\n",
       " 'nose',\n",
       " 'note',\n",
       " 'notes',\n",
       " 'nougat',\n",
       " 'nuance',\n",
       " 'nuanced',\n",
       " 'nut',\n",
       " 'nutella',\n",
       " 'nutty',\n",
       " 'oak',\n",
       " 'opulent',\n",
       " 'orange',\n",
       " 'orangy',\n",
       " 'original',\n",
       " 'ounce',\n",
       " 'ounces',\n",
       " 'papaya',\n",
       " 'particular',\n",
       " 'particularly',\n",
       " 'parts',\n",
       " 'passion',\n",
       " 'peach',\n",
       " 'pear',\n",
       " 'pecan',\n",
       " 'peppercorn',\n",
       " 'persimmon',\n",
       " 'persist',\n",
       " 'persistence',\n",
       " 'persists',\n",
       " 'pert',\n",
       " 'pine',\n",
       " 'pineapple',\n",
       " 'pink',\n",
       " 'pipe',\n",
       " 'pistachio',\n",
       " 'platinum',\n",
       " 'pleasant',\n",
       " 'pleasantly',\n",
       " 'pleasing',\n",
       " 'pleasingly',\n",
       " 'plum',\n",
       " 'plumeria',\n",
       " 'plump',\n",
       " 'plush',\n",
       " 'pod',\n",
       " 'pomegranate',\n",
       " 'powder',\n",
       " 'powerful',\n",
       " 'presence',\n",
       " 'produce',\n",
       " 'produced',\n",
       " 'profile',\n",
       " 'pronounced',\n",
       " 'prune',\n",
       " 'pruny',\n",
       " 'pungency',\n",
       " 'pungent',\n",
       " 'pungently',\n",
       " 'pure',\n",
       " 'quickly',\n",
       " 'quiet',\n",
       " 'quietly',\n",
       " 'quite',\n",
       " 'raisin',\n",
       " 'raisiny',\n",
       " 'range',\n",
       " 'raspberry',\n",
       " 'rating',\n",
       " 'read',\n",
       " 'reader',\n",
       " 'reads',\n",
       " 'ready',\n",
       " 'red',\n",
       " 'redolent',\n",
       " 'refreshing',\n",
       " 'remains',\n",
       " 'resonance',\n",
       " 'resonant',\n",
       " 'resonantly',\n",
       " 'rhododendron',\n",
       " 'rich',\n",
       " 'richly',\n",
       " 'richness',\n",
       " 'ripe',\n",
       " 'roast',\n",
       " 'roasted',\n",
       " 'roastiness',\n",
       " 'roasty',\n",
       " 'rose',\n",
       " 'rough',\n",
       " 'round',\n",
       " 'rounded',\n",
       " 'rounding',\n",
       " 'roundly',\n",
       " 'rounds',\n",
       " 'rum',\n",
       " 'sage',\n",
       " 'salted',\n",
       " 'salty',\n",
       " 'sample',\n",
       " 'sandalwood',\n",
       " 'satiny',\n",
       " 'satisfying',\n",
       " 'saturated',\n",
       " 'saturates',\n",
       " 'savory',\n",
       " 'scaled',\n",
       " 'scorched',\n",
       " 'semi',\n",
       " 'sensation',\n",
       " 'serve',\n",
       " 'serving',\n",
       " 'shallow',\n",
       " 'sharp',\n",
       " 'shimmer',\n",
       " 'short',\n",
       " 'shot',\n",
       " 'silky',\n",
       " 'simple',\n",
       " 'simplifies',\n",
       " 'single',\n",
       " 'size',\n",
       " 'slight',\n",
       " 'slightly',\n",
       " 'small',\n",
       " 'smoke',\n",
       " 'smoky',\n",
       " 'smooth',\n",
       " 'smoothly',\n",
       " 'soft',\n",
       " 'soften',\n",
       " 'softened',\n",
       " 'softens',\n",
       " 'softly',\n",
       " 'solid',\n",
       " 'sort',\n",
       " 'spearmint',\n",
       " 'spice',\n",
       " 'spices',\n",
       " 'spicy',\n",
       " 'star',\n",
       " 'stone',\n",
       " 'straight',\n",
       " 'straightforward',\n",
       " 'strawberry',\n",
       " 'structure',\n",
       " 'subdued',\n",
       " 'substantial',\n",
       " 'subtle',\n",
       " 'subtly',\n",
       " 'sugar',\n",
       " 'suggest',\n",
       " 'suggesting',\n",
       " 'suggestion',\n",
       " 'suggestions',\n",
       " 'suggests',\n",
       " 'sumatra',\n",
       " 'superb',\n",
       " 'supported',\n",
       " 'surfaces',\n",
       " 'surprisingly',\n",
       " 'sweetens',\n",
       " 'sweetly',\n",
       " 'sweetness',\n",
       " 'syrup',\n",
       " 'syrupy',\n",
       " 'tamarind',\n",
       " 'tangerine',\n",
       " 'tangy',\n",
       " 'tart',\n",
       " 'tartly',\n",
       " 'taste',\n",
       " 'taster',\n",
       " 'tea',\n",
       " 'ted',\n",
       " 'tested',\n",
       " 'think',\n",
       " 'thyme',\n",
       " 'tickle',\n",
       " 'toast',\n",
       " 'toasted',\n",
       " 'tobacco',\n",
       " 'toffee',\n",
       " 'tomato',\n",
       " 'tones',\n",
       " 'touch',\n",
       " 'tropical',\n",
       " 'turn',\n",
       " 'turned',\n",
       " 'turning',\n",
       " 'turns',\n",
       " 'understated',\n",
       " 'undertones',\n",
       " 'using',\n",
       " 'vanilla',\n",
       " 'velvety',\n",
       " 'verbena',\n",
       " 'vibrant',\n",
       " 'vibrantly',\n",
       " 'violet',\n",
       " 'viscous',\n",
       " 'walnut',\n",
       " 'way',\n",
       " 'whisky',\n",
       " 'white',\n",
       " 'wild',\n",
       " 'willem',\n",
       " 'wine',\n",
       " 'winy',\n",
       " 'wisteria',\n",
       " 'wood',\n",
       " 'woody',\n",
       " 'zest',\n",
       " 'zesty']"
      ]
     },
     "execution_count": 613,
     "metadata": {},
     "output_type": "execute_result"
    }
   ],
   "source": [
    "bagofwords_p1.get_feature_names()"
   ]
  },
  {
   "cell_type": "code",
   "execution_count": 614,
   "id": "ac2812e9",
   "metadata": {},
   "outputs": [
    {
     "data": {
      "text/plain": [
       "500"
      ]
     },
     "execution_count": 614,
     "metadata": {},
     "output_type": "execute_result"
    }
   ],
   "source": [
    "#checking how many words there are\n",
    "len(bagofwords_p1.get_feature_names())"
   ]
  },
  {
   "cell_type": "code",
   "execution_count": 615,
   "id": "c6ebffff",
   "metadata": {},
   "outputs": [
    {
     "data": {
      "text/html": [
       "<style>#sk-container-id-35 {color: black;background-color: white;}#sk-container-id-35 pre{padding: 0;}#sk-container-id-35 div.sk-toggleable {background-color: white;}#sk-container-id-35 label.sk-toggleable__label {cursor: pointer;display: block;width: 100%;margin-bottom: 0;padding: 0.3em;box-sizing: border-box;text-align: center;}#sk-container-id-35 label.sk-toggleable__label-arrow:before {content: \"▸\";float: left;margin-right: 0.25em;color: #696969;}#sk-container-id-35 label.sk-toggleable__label-arrow:hover:before {color: black;}#sk-container-id-35 div.sk-estimator:hover label.sk-toggleable__label-arrow:before {color: black;}#sk-container-id-35 div.sk-toggleable__content {max-height: 0;max-width: 0;overflow: hidden;text-align: left;background-color: #f0f8ff;}#sk-container-id-35 div.sk-toggleable__content pre {margin: 0.2em;color: black;border-radius: 0.25em;background-color: #f0f8ff;}#sk-container-id-35 input.sk-toggleable__control:checked~div.sk-toggleable__content {max-height: 200px;max-width: 100%;overflow: auto;}#sk-container-id-35 input.sk-toggleable__control:checked~label.sk-toggleable__label-arrow:before {content: \"▾\";}#sk-container-id-35 div.sk-estimator input.sk-toggleable__control:checked~label.sk-toggleable__label {background-color: #d4ebff;}#sk-container-id-35 div.sk-label input.sk-toggleable__control:checked~label.sk-toggleable__label {background-color: #d4ebff;}#sk-container-id-35 input.sk-hidden--visually {border: 0;clip: rect(1px 1px 1px 1px);clip: rect(1px, 1px, 1px, 1px);height: 1px;margin: -1px;overflow: hidden;padding: 0;position: absolute;width: 1px;}#sk-container-id-35 div.sk-estimator {font-family: monospace;background-color: #f0f8ff;border: 1px dotted black;border-radius: 0.25em;box-sizing: border-box;margin-bottom: 0.5em;}#sk-container-id-35 div.sk-estimator:hover {background-color: #d4ebff;}#sk-container-id-35 div.sk-parallel-item::after {content: \"\";width: 100%;border-bottom: 1px solid gray;flex-grow: 1;}#sk-container-id-35 div.sk-label:hover label.sk-toggleable__label {background-color: #d4ebff;}#sk-container-id-35 div.sk-serial::before {content: \"\";position: absolute;border-left: 1px solid gray;box-sizing: border-box;top: 0;bottom: 0;left: 50%;z-index: 0;}#sk-container-id-35 div.sk-serial {display: flex;flex-direction: column;align-items: center;background-color: white;padding-right: 0.2em;padding-left: 0.2em;position: relative;}#sk-container-id-35 div.sk-item {position: relative;z-index: 1;}#sk-container-id-35 div.sk-parallel {display: flex;align-items: stretch;justify-content: center;background-color: white;position: relative;}#sk-container-id-35 div.sk-item::before, #sk-container-id-35 div.sk-parallel-item::before {content: \"\";position: absolute;border-left: 1px solid gray;box-sizing: border-box;top: 0;bottom: 0;left: 50%;z-index: -1;}#sk-container-id-35 div.sk-parallel-item {display: flex;flex-direction: column;z-index: 1;position: relative;background-color: white;}#sk-container-id-35 div.sk-parallel-item:first-child::after {align-self: flex-end;width: 50%;}#sk-container-id-35 div.sk-parallel-item:last-child::after {align-self: flex-start;width: 50%;}#sk-container-id-35 div.sk-parallel-item:only-child::after {width: 0;}#sk-container-id-35 div.sk-dashed-wrapped {border: 1px dashed gray;margin: 0 0.4em 0.5em 0.4em;box-sizing: border-box;padding-bottom: 0.4em;background-color: white;}#sk-container-id-35 div.sk-label label {font-family: monospace;font-weight: bold;display: inline-block;line-height: 1.2em;}#sk-container-id-35 div.sk-label-container {text-align: center;}#sk-container-id-35 div.sk-container {/* jupyter's `normalize.less` sets `[hidden] { display: none; }` but bootstrap.min.css set `[hidden] { display: none !important; }` so we also need the `!important` here to be able to override the default hidden behavior on the sphinx rendered scikit-learn.org. See: https://github.com/scikit-learn/scikit-learn/issues/21755 */display: inline-block !important;position: relative;}#sk-container-id-35 div.sk-text-repr-fallback {display: none;}</style><div id=\"sk-container-id-35\" class=\"sk-top-container\"><div class=\"sk-text-repr-fallback\"><pre>LinearRegression()</pre><b>In a Jupyter environment, please rerun this cell to show the HTML representation or trust the notebook. <br />On GitHub, the HTML representation is unable to render, please try loading this page with nbviewer.org.</b></div><div class=\"sk-container\" hidden><div class=\"sk-item\"><div class=\"sk-estimator sk-toggleable\"><input class=\"sk-toggleable__control sk-hidden--visually\" id=\"sk-estimator-id-35\" type=\"checkbox\" checked><label for=\"sk-estimator-id-35\" class=\"sk-toggleable__label sk-toggleable__label-arrow\">LinearRegression</label><div class=\"sk-toggleable__content\"><pre>LinearRegression()</pre></div></div></div></div></div>"
      ],
      "text/plain": [
       "LinearRegression()"
      ]
     },
     "execution_count": 615,
     "metadata": {},
     "output_type": "execute_result"
    }
   ],
   "source": [
    "# 1. Instantiate the model\n",
    "p1_model = LinearRegression()\n",
    "\n",
    "# 2. Fit the model\n",
    "p1_model.fit(p1_remain_transform, y_remain)"
   ]
  },
  {
   "cell_type": "code",
   "execution_count": 616,
   "id": "466b855b",
   "metadata": {},
   "outputs": [
    {
     "name": "stdout",
     "output_type": "stream",
     "text": [
      "The R2 score for p1 CountVectorizer training data is: 0.7964119772965212\n",
      "The R2 score for p1 CountVectorizer validation data is: 0.7197429002301496\n"
     ]
    }
   ],
   "source": [
    "# 3. Scoring the training model\n",
    "print(f'The R2 score for p1 CountVectorizer training data is: {p1_model.score(p1_remain_transform, y_remain)}')\n",
    "\n",
    "# 3. Scoring the validation model\n",
    "print(f'The R2 score for p1 CountVectorizer validation data is: {p1_model.score(p1_val_transform, y_val)}')"
   ]
  },
  {
   "cell_type": "markdown",
   "id": "6b3406fc",
   "metadata": {},
   "source": [
    "`p2` Creating first bag of words with CountVectorizer and graphing:"
   ]
  },
  {
   "cell_type": "code",
   "execution_count": null,
   "id": "979e2636",
   "metadata": {},
   "outputs": [],
   "source": [
    "# 1. Instantiate \n",
    "bagofwords_p2 = CountVectorizer(stop_words='english', min_df=5, max_features=1000, max_df=4000)\n",
    "\n",
    "# 2. Fit \n",
    "bagofwords_p2.fit(X_remain[\"p2\"])\n",
    "\n",
    "# 3. Transform\n",
    "p2_remain_transform = bagofwords_p2.transform(X_remain[\"p2\"])\n",
    "p2_val_transform = bagofwords_p2.transform(X_val[\"p2\"])\n",
    "p2_test_transform = bagofwords_p2.transform(X_test[\"p2\"])\n",
    "\n",
    "#the following looks at the 20 most popular words from paragraph 2\n",
    "\n",
    "word_counts = pd.DataFrame(\n",
    "    {\"counts\": p2_remain_transform.toarray().sum(axis=0)},\n",
    "    index=bagofwords_p2.get_feature_names()\n",
    ").sort_values(\"counts\", ascending=False)\n",
    "\n",
    "word_counts.head(20).plot(kind=\"bar\", figsize=(15, 5), legend=False)\n",
    "plt.title(\"Top 20 most frequently occurring words\")\n",
    "plt.ylabel(\"Count\")\n",
    "plt.xticks(rotation=45)\n",
    "plt.show()"
   ]
  },
  {
   "cell_type": "code",
   "execution_count": null,
   "id": "1b74fba1",
   "metadata": {},
   "outputs": [],
   "source": [
    "bagofwords_p2.get_feature_names()"
   ]
  },
  {
   "cell_type": "code",
   "execution_count": null,
   "id": "f05cf121",
   "metadata": {},
   "outputs": [],
   "source": [
    "len(bagofwords_p2.get_feature_names())"
   ]
  },
  {
   "cell_type": "code",
   "execution_count": null,
   "id": "de04cd87",
   "metadata": {},
   "outputs": [],
   "source": [
    "# 1. Instantiate the model\n",
    "p2_model = LinearRegression()\n",
    "\n",
    "# 2. Fit the model\n",
    "p2_model.fit(p2_remain_transform, y_remain)"
   ]
  },
  {
   "cell_type": "code",
   "execution_count": null,
   "id": "84871eb9",
   "metadata": {},
   "outputs": [],
   "source": [
    "# 3. Scoring the training model\n",
    "print(f'The R2 score for p2 CountVectorizor training data is: {p2_model.score(p2_remain_transform, y_remain)}')\n",
    "\n",
    "# 3. Scoring the validation model\n",
    "print(f'The R2 score for p2 CountVectorizor validation data is: {p2_model.score(p2_val_transform, y_val)}')"
   ]
  },
  {
   "cell_type": "markdown",
   "id": "cce8c083",
   "metadata": {},
   "source": [
    "`p3` Creating first bag of words with CountVectorizer and graphing:"
   ]
  },
  {
   "cell_type": "code",
   "execution_count": null,
   "id": "39e4222c",
   "metadata": {},
   "outputs": [],
   "source": [
    "# 1. Instantiate \n",
    "bagofwords_p3 = CountVectorizer(stop_words='english', min_df=5, max_df=1000, max_features=500)\n",
    "\n",
    "# 2. Fit \n",
    "bagofwords_p3.fit(X_remain[\"p3\"])\n",
    "\n",
    "# 3. Transform\n",
    "p3_remain_transform = bagofwords_p3.transform(X_remain[\"p3\"])\n",
    "p3_val_transform = bagofwords_p3.transform(X_val[\"p3\"])\n",
    "p3_test_transform = bagofwords_p3.transform(X_test[\"p3\"])\n",
    "\n",
    "#the following looks at the 20 most popular words from paragraph 3\n",
    "\n",
    "word_counts = pd.DataFrame(\n",
    "    {\"counts\": p3_remain_transform.toarray().sum(axis=0)},\n",
    "    index=bagofwords_p3.get_feature_names()\n",
    ").sort_values(\"counts\", ascending=False)\n",
    "\n",
    "word_counts.head(20).plot(kind=\"bar\", figsize=(15, 5), legend=False)\n",
    "plt.title(\"Top 20 most frequently occurring words\")\n",
    "plt.ylabel(\"Count\")\n",
    "plt.xticks(rotation=45)\n",
    "plt.show()"
   ]
  },
  {
   "cell_type": "code",
   "execution_count": null,
   "id": "1d541b2a",
   "metadata": {},
   "outputs": [],
   "source": [
    "bagofwords_p3.get_feature_names()"
   ]
  },
  {
   "cell_type": "code",
   "execution_count": null,
   "id": "87c5cb3f",
   "metadata": {},
   "outputs": [],
   "source": [
    "len(bagofwords_p3.get_feature_names())"
   ]
  },
  {
   "cell_type": "code",
   "execution_count": null,
   "id": "277b1c3d",
   "metadata": {},
   "outputs": [],
   "source": [
    "# 1. Instantiate the model\n",
    "p3_model = LinearRegression()\n",
    "\n",
    "# 2. Fit the model\n",
    "p3_model.fit(p3_remain_transform, y_remain)"
   ]
  },
  {
   "cell_type": "code",
   "execution_count": null,
   "id": "551bf1a2",
   "metadata": {},
   "outputs": [],
   "source": [
    "# 3. Scoring the training model\n",
    "print(f'The R2 score for p3 CountVectorizor training data is: {p3_model.score(p3_remain_transform, y_remain)}')\n",
    "\n",
    "# 3. Scoring the validation model\n",
    "print(f'The R2 score for p3 CountVectorizor validation data is: {p3_model.score(p3_val_transform, y_val)}')"
   ]
  },
  {
   "cell_type": "markdown",
   "id": "538cbd1c",
   "metadata": {},
   "source": [
    "### Bag of Words with TFIDF"
   ]
  },
  {
   "cell_type": "markdown",
   "id": "412b3e93",
   "metadata": {},
   "source": [
    "`p1` Tokenizing first paragraph with TFIDF and graphing:"
   ]
  },
  {
   "cell_type": "code",
   "execution_count": null,
   "id": "7d48254d",
   "metadata": {},
   "outputs": [],
   "source": [
    "# 1. Instantiate \n",
    "tfidf_p1 = TfidfVectorizer(stop_words='english', min_df=5, max_df=1000, max_features=500)\n",
    "\n",
    "# 2. Fit \n",
    "tfidf_p1.fit(X_remain[\"p1\"])\n",
    "\n",
    "# 3. Transform\n",
    "tp1_remain_transform = tfidf_p1.transform(X_remain[\"p1\"])\n",
    "tp1_val_transform = tfidf_p1.transform(X_val[\"p1\"])\n",
    "tp1_test_transform = tfidf_p1.transform(X_test[\"p1\"])\n",
    "\n",
    "#the following looks at the 20 most popular words from paragraph 3\n",
    "\n",
    "word_counts = pd.DataFrame(\n",
    "    {\"counts\": tp1_remain_transform.toarray().sum(axis=0)},\n",
    "    index=tfidf_p1.get_feature_names()\n",
    ").sort_values(\"counts\", ascending=False)\n",
    "\n",
    "word_counts.head(20).plot(kind=\"bar\", figsize=(15, 5), legend=False)\n",
    "plt.title(\"Top 20 most frequently occurring words\")\n",
    "plt.ylabel(\"Count\")\n",
    "plt.xticks(rotation=45)\n",
    "plt.show()"
   ]
  },
  {
   "cell_type": "code",
   "execution_count": null,
   "id": "d196da1b",
   "metadata": {},
   "outputs": [],
   "source": [
    "tfidf_p1.get_feature_names()"
   ]
  },
  {
   "cell_type": "code",
   "execution_count": null,
   "id": "f5fc9d1c",
   "metadata": {},
   "outputs": [],
   "source": [
    "len(tfidf_p1.get_feature_names())"
   ]
  },
  {
   "cell_type": "code",
   "execution_count": null,
   "id": "4ee6620a",
   "metadata": {},
   "outputs": [],
   "source": [
    "# 1. Instantiate the model\n",
    "tp1_model = LinearRegression()\n",
    "\n",
    "# 2. Fit the model\n",
    "tp1_model.fit(tp1_remain_transform, y_remain)"
   ]
  },
  {
   "cell_type": "code",
   "execution_count": null,
   "id": "c85bbf72",
   "metadata": {},
   "outputs": [],
   "source": [
    "# 3. Scoring the training model\n",
    "print(f'The R2 score for p1 with TFIDF training data is: {tp1_model.score(tp1_remain_transform, y_remain)}')\n",
    "\n",
    "# 3. Scoring the validation model\n",
    "print(f'The R2 score for p1 with TFIDF validation data is: {tp1_model.score(tp1_val_transform, y_val)}')"
   ]
  },
  {
   "cell_type": "markdown",
   "id": "efd9eee4",
   "metadata": {},
   "source": [
    "Tokenizing second paragraph with TFIDF:"
   ]
  },
  {
   "cell_type": "code",
   "execution_count": null,
   "id": "23b8cc1d",
   "metadata": {},
   "outputs": [],
   "source": [
    "# 1. Instantiate \n",
    "tfidf_p2 = TfidfVectorizer(stop_words='english', min_df=5, max_df=1000, max_features=500)\n",
    "\n",
    "# 2. Fit \n",
    "tfidf_p2.fit(X_remain[\"p2\"])\n",
    "\n",
    "# 3. Transform\n",
    "tp2_remain_transform = tfidf_p2.transform(X_remain[\"p2\"])\n",
    "tp2_val_transform = tfidf_p2.transform(X_val[\"p2\"])\n",
    "tp2_test_transform = tfidf_p2.transform(X_test[\"p2\"])\n",
    "\n",
    "#the following looks at the 20 most popular words from paragraph 3\n",
    "\n",
    "word_counts = pd.DataFrame(\n",
    "    {\"counts\": tp2_remain_transform.toarray().sum(axis=0)},\n",
    "    index=tfidf_p2.get_feature_names()\n",
    ").sort_values(\"counts\", ascending=False)\n",
    "\n",
    "word_counts.head(20).plot(kind=\"bar\", figsize=(15, 5), legend=False)\n",
    "plt.title(\"Top 20 most frequently occurring words\")\n",
    "plt.ylabel(\"Count\")\n",
    "plt.xticks(rotation=45)\n",
    "plt.show()"
   ]
  },
  {
   "cell_type": "code",
   "execution_count": null,
   "id": "854c1f3b",
   "metadata": {},
   "outputs": [],
   "source": [
    "tfidf_p2.get_feature_names()"
   ]
  },
  {
   "cell_type": "code",
   "execution_count": null,
   "id": "54fa606e",
   "metadata": {},
   "outputs": [],
   "source": [
    "len(tfidf_p2.get_feature_names())"
   ]
  },
  {
   "cell_type": "code",
   "execution_count": null,
   "id": "b038425f",
   "metadata": {},
   "outputs": [],
   "source": [
    "# 1. Instantiate the model\n",
    "tp2_model = LinearRegression()\n",
    "\n",
    "# 2. Fit the model\n",
    "tp2_model.fit(tp2_remain_transform, y_remain)"
   ]
  },
  {
   "cell_type": "code",
   "execution_count": null,
   "id": "f71f495c",
   "metadata": {},
   "outputs": [],
   "source": [
    "# 3. Scoring the training model\n",
    "print(f'The R2 score for p2 TFIDF training data is: {tp2_model.score(tp2_remain_transform, y_remain)}')\n",
    "\n",
    "# 3. Scoring the validation model\n",
    "print(f'The R2 score for p2 TFIDF validation data is: {tp2_model.score(tp2_val_transform, y_val)}')"
   ]
  },
  {
   "cell_type": "markdown",
   "id": "7c4235f8",
   "metadata": {},
   "source": [
    "Tokenizing 3rd paragraph with TFIDF:"
   ]
  },
  {
   "cell_type": "code",
   "execution_count": null,
   "id": "cf75efb3",
   "metadata": {},
   "outputs": [],
   "source": [
    "# 1. Instantiate \n",
    "tfidf_p3 = TfidfVectorizer(stop_words='english', min_df=5, max_df=1000, max_features=500)\n",
    "\n",
    "# 2. Fit \n",
    "tfidf_p3.fit(X_remain[\"p3\"])\n",
    "\n",
    "# 3. Transform\n",
    "tp3_remain_transform = tfidf_p3.transform(X_remain[\"p3\"])\n",
    "tp3_val_transform = tfidf_p3.transform(X_val[\"p3\"])\n",
    "tp3_test_transform = tfidf_p3.transform(X_test[\"p3\"])\n",
    "\n",
    "#the following looks at the 20 most popular words from paragraph 3\n",
    "\n",
    "word_counts = pd.DataFrame(\n",
    "    {\"counts\": tp3_remain_transform.toarray().sum(axis=0)},\n",
    "    index=tfidf_p3.get_feature_names()\n",
    ").sort_values(\"counts\", ascending=False)\n",
    "\n",
    "word_counts.head(20).plot(kind=\"bar\", figsize=(15, 5), legend=False)\n",
    "plt.title(\"Top 20 most frequently occurring words\")\n",
    "plt.ylabel(\"Count\")\n",
    "plt.xticks(rotation=45)\n",
    "plt.show()"
   ]
  },
  {
   "cell_type": "code",
   "execution_count": null,
   "id": "b5b7b26f",
   "metadata": {},
   "outputs": [],
   "source": [
    "tfidf_p3.get_feature_names()"
   ]
  },
  {
   "cell_type": "code",
   "execution_count": null,
   "id": "21c2b253",
   "metadata": {},
   "outputs": [],
   "source": [
    "len(tfidf_p3.get_feature_names())"
   ]
  },
  {
   "cell_type": "code",
   "execution_count": null,
   "id": "344134ea",
   "metadata": {},
   "outputs": [],
   "source": [
    "# 1. Instantiate the model\n",
    "tp3_model = LinearRegression()\n",
    "\n",
    "# 2. Fit the model\n",
    "tp3_model.fit(tp3_remain_transform, y_remain)"
   ]
  },
  {
   "cell_type": "code",
   "execution_count": null,
   "id": "2d154046",
   "metadata": {},
   "outputs": [],
   "source": [
    "# 3. Scoring the training model\n",
    "print(f'The R2 score for p3 TFIDF training data is: {tp3_model.score(tp3_remain_transform, y_remain)}')\n",
    "\n",
    "# 3. Scoring the validation model\n",
    "print(f'The R2 score for p3 TFIDF validation data is: {tp3_model.score(tp3_val_transform, y_val)}')"
   ]
  },
  {
   "cell_type": "markdown",
   "id": "0ce33d63",
   "metadata": {},
   "source": [
    "Comparing scores:"
   ]
  },
  {
   "cell_type": "markdown",
   "id": "20170aab",
   "metadata": {},
   "source": [
    "### Exploring different ranges for  vectorizing values\n",
    "\n",
    "IMPORTANT: For now, just exploring these one piece at time to get sense of how well these vectorizers can perform. Later, need to fine-tune considering how changes interact with each other.\n",
    "\n",
    "Exploring impact of changing min_df:"
   ]
  },
  {
   "cell_type": "code",
   "execution_count": 622,
   "id": "ef4befc3",
   "metadata": {
    "scrolled": true
   },
   "outputs": [
    {
     "name": "stdout",
     "output_type": "stream",
     "text": [
      "min_df: 1\n",
      "The R2 score for p1 CountVectorizer training data is: 0.7971293101525744\n",
      "The R2 score for p1 CountVectorizer validation data is: 0.7198875272862395\n",
      "min_df: 3\n",
      "The R2 score for p1 CountVectorizer training data is: 0.7968008296848125\n",
      "The R2 score for p1 CountVectorizer validation data is: 0.7188545408195172\n",
      "min_df: 5\n",
      "The R2 score for p1 CountVectorizer training data is: 0.7964119772965212\n",
      "The R2 score for p1 CountVectorizer validation data is: 0.7197429002301496\n",
      "min_df: 7\n",
      "The R2 score for p1 CountVectorizer training data is: 0.7971311350334999\n",
      "The R2 score for p1 CountVectorizer validation data is: 0.7188114739184971\n",
      "min_df: 9\n",
      "The R2 score for p1 CountVectorizer training data is: 0.7969340609841649\n",
      "The R2 score for p1 CountVectorizer validation data is: 0.7192618354927407\n",
      "min_df: 11\n",
      "The R2 score for p1 CountVectorizer training data is: 0.796882188399935\n",
      "The R2 score for p1 CountVectorizer validation data is: 0.719423570984257\n",
      "min_df: 13\n",
      "The R2 score for p1 CountVectorizer training data is: 0.7973731423042392\n",
      "The R2 score for p1 CountVectorizer validation data is: 0.7182320489674181\n",
      "min_df: 15\n",
      "The R2 score for p1 CountVectorizer training data is: 0.7967919031493623\n",
      "The R2 score for p1 CountVectorizer validation data is: 0.716940214200287\n",
      "min_df: 17\n",
      "The R2 score for p1 CountVectorizer training data is: 0.7970202640523267\n",
      "The R2 score for p1 CountVectorizer validation data is: 0.716702669751828\n",
      "min_df: 19\n",
      "The R2 score for p1 CountVectorizer training data is: 0.7973024513081204\n",
      "The R2 score for p1 CountVectorizer validation data is: 0.7168893158138672\n",
      "min_df: 21\n",
      "The R2 score for p1 CountVectorizer training data is: 0.7971386004667713\n",
      "The R2 score for p1 CountVectorizer validation data is: 0.7166668646363077\n",
      "min_df: 23\n",
      "The R2 score for p1 CountVectorizer training data is: 0.7972320383811908\n",
      "The R2 score for p1 CountVectorizer validation data is: 0.7181945105842891\n",
      "min_df: 25\n",
      "The R2 score for p1 CountVectorizer training data is: 0.7936091789205627\n",
      "The R2 score for p1 CountVectorizer validation data is: 0.7157722760972808\n",
      "min_df: 27\n",
      "The R2 score for p1 CountVectorizer training data is: 0.7886056960738308\n",
      "The R2 score for p1 CountVectorizer validation data is: 0.7246384652643958\n",
      "min_df: 29\n",
      "The R2 score for p1 CountVectorizer training data is: 0.7827481925487828\n",
      "The R2 score for p1 CountVectorizer validation data is: 0.7175506505480942\n"
     ]
    }
   ],
   "source": [
    "for i in range(1,30,2):\n",
    "\n",
    "    bagofwords_p1 = CountVectorizer(stop_words='english', min_df=i, max_features=500, max_df=2000)\n",
    "\n",
    "    bagofwords_p1.fit(X_remain[\"p1\"])\n",
    "\n",
    "    p1_remain_transform = bagofwords_p1.transform(X_remain[\"p1\"])\n",
    "    p1_val_transform = bagofwords_p1.transform(X_val[\"p1\"])\n",
    "    p1_test_transform = bagofwords_p1.transform(X_test[\"p1\"])\n",
    "\n",
    "    p1_model = LinearRegression()\n",
    "\n",
    "    p1_model.fit(p1_remain_transform, y_remain)\n",
    "\n",
    "    print(f'min_df: {i}')\n",
    "    print(f'The R2 score for p1 CountVectorizer training data is: {p1_model.score(p1_remain_transform, y_remain)}')\n",
    "    print(f'The R2 score for p1 CountVectorizer validation data is: {p1_model.score(p1_val_transform, y_val)}')"
   ]
  },
  {
   "cell_type": "markdown",
   "id": "883c18c9",
   "metadata": {},
   "source": [
    "Min_df below 25 seems best.\n",
    "\n",
    "Experimenting with best max_feature range:"
   ]
  },
  {
   "cell_type": "code",
   "execution_count": 631,
   "id": "c2276d5b",
   "metadata": {},
   "outputs": [
    {
     "name": "stdout",
     "output_type": "stream",
     "text": [
      "max_features: 100\n",
      "The R2 score for p1 CountVectorizer training data is: 0.5856413450135611\n",
      "The R2 score for p1 CountVectorizer validation data is: 0.5526252013505311\n",
      "max_features: 150\n",
      "The R2 score for p1 CountVectorizer training data is: 0.6171798282273036\n",
      "The R2 score for p1 CountVectorizer validation data is: 0.5855458279587475\n",
      "max_features: 200\n",
      "The R2 score for p1 CountVectorizer training data is: 0.6514908643415833\n",
      "The R2 score for p1 CountVectorizer validation data is: 0.6200462226736527\n",
      "max_features: 250\n",
      "The R2 score for p1 CountVectorizer training data is: 0.6692036944671249\n",
      "The R2 score for p1 CountVectorizer validation data is: 0.6406954715553743\n",
      "max_features: 300\n",
      "The R2 score for p1 CountVectorizer training data is: 0.6903116761785397\n",
      "The R2 score for p1 CountVectorizer validation data is: 0.6502268264373402\n",
      "max_features: 350\n",
      "The R2 score for p1 CountVectorizer training data is: 0.7341964141733877\n",
      "The R2 score for p1 CountVectorizer validation data is: 0.7044779907741969\n",
      "max_features: 400\n",
      "The R2 score for p1 CountVectorizer training data is: 0.7614376362193263\n",
      "The R2 score for p1 CountVectorizer validation data is: 0.7168388568862303\n",
      "max_features: 450\n",
      "The R2 score for p1 CountVectorizer training data is: 0.7837533675863646\n",
      "The R2 score for p1 CountVectorizer validation data is: 0.7242358744961425\n",
      "max_features: 500\n",
      "The R2 score for p1 CountVectorizer training data is: 0.7971293101525744\n",
      "The R2 score for p1 CountVectorizer validation data is: 0.7198875272862395\n",
      "max_features: 550\n",
      "The R2 score for p1 CountVectorizer training data is: 0.8066403645618548\n",
      "The R2 score for p1 CountVectorizer validation data is: 0.7228159230797606\n",
      "max_features: 600\n",
      "The R2 score for p1 CountVectorizer training data is: 0.8142980615056385\n",
      "The R2 score for p1 CountVectorizer validation data is: 0.7165517281014462\n",
      "max_features: 650\n",
      "The R2 score for p1 CountVectorizer training data is: 0.822184510629516\n",
      "The R2 score for p1 CountVectorizer validation data is: 0.712319978367542\n",
      "max_features: 700\n",
      "The R2 score for p1 CountVectorizer training data is: 0.8313488567057485\n",
      "The R2 score for p1 CountVectorizer validation data is: 0.6761084565398772\n",
      "max_features: 750\n",
      "The R2 score for p1 CountVectorizer training data is: 0.8373443012522508\n",
      "The R2 score for p1 CountVectorizer validation data is: 0.6725119687572658\n",
      "max_features: 800\n",
      "The R2 score for p1 CountVectorizer training data is: 0.8415451961733422\n",
      "The R2 score for p1 CountVectorizer validation data is: 0.6732213276597135\n",
      "max_features: 850\n",
      "The R2 score for p1 CountVectorizer training data is: 0.8460398407532312\n",
      "The R2 score for p1 CountVectorizer validation data is: 0.662713448226033\n",
      "max_features: 900\n",
      "The R2 score for p1 CountVectorizer training data is: 0.8528782881087342\n",
      "The R2 score for p1 CountVectorizer validation data is: 0.6609710407291534\n",
      "max_features: 950\n",
      "The R2 score for p1 CountVectorizer training data is: 0.8585981169311505\n",
      "The R2 score for p1 CountVectorizer validation data is: 0.6634629106301477\n"
     ]
    }
   ],
   "source": [
    "for i in range(100,1000,50):\n",
    "\n",
    "    bagofwords_p1 = CountVectorizer(stop_words='english', min_df=1, max_features=i, max_df=2000)\n",
    "\n",
    "    bagofwords_p1.fit(X_remain[\"p1\"])\n",
    "\n",
    "    p1_remain_transform = bagofwords_p1.transform(X_remain[\"p1\"])\n",
    "    p1_val_transform = bagofwords_p1.transform(X_val[\"p1\"])\n",
    "    p1_test_transform = bagofwords_p1.transform(X_test[\"p1\"])\n",
    "\n",
    "    p1_model = LinearRegression()\n",
    "\n",
    "    p1_model.fit(p1_remain_transform, y_remain)\n",
    "\n",
    "    print(f'max_features: {i}')\n",
    "    print(f'The R2 score for p1 CountVectorizer training data is: {p1_model.score(p1_remain_transform, y_remain)}')\n",
    "    print(f'The R2 score for p1 CountVectorizer validation data is: {p1_model.score(p1_val_transform, y_val)}')"
   ]
  },
  {
   "cell_type": "markdown",
   "id": "9f15e5e3",
   "metadata": {},
   "source": [
    "Lower number of max_features seems to matter a lot for validation data. Peak number around 550."
   ]
  },
  {
   "cell_type": "code",
   "execution_count": 633,
   "id": "cdcecc92",
   "metadata": {},
   "outputs": [
    {
     "name": "stdout",
     "output_type": "stream",
     "text": [
      "max_df: 100\n",
      "The R2 score for p1 CountVectorizer training data is: 0.7289935687968977\n",
      "The R2 score for p1 CountVectorizer validation data is: 0.5279570458747466\n",
      "max_df: 1100\n",
      "The R2 score for p1 CountVectorizer training data is: 0.7976030784326417\n",
      "The R2 score for p1 CountVectorizer validation data is: 0.7103999410467023\n",
      "max_df: 2100\n",
      "The R2 score for p1 CountVectorizer training data is: 0.8066403645618548\n",
      "The R2 score for p1 CountVectorizer validation data is: 0.7228159230797606\n",
      "max_df: 3100\n",
      "The R2 score for p1 CountVectorizer training data is: 0.8109076309998833\n",
      "The R2 score for p1 CountVectorizer validation data is: 0.7322565210667109\n",
      "max_df: 4100\n",
      "The R2 score for p1 CountVectorizer training data is: 0.8158418605910207\n",
      "The R2 score for p1 CountVectorizer validation data is: 0.7409300107606831\n",
      "max_df: 5100\n",
      "The R2 score for p1 CountVectorizer training data is: 0.8158418605910207\n",
      "The R2 score for p1 CountVectorizer validation data is: 0.7409300107606831\n",
      "max_df: 6100\n",
      "The R2 score for p1 CountVectorizer training data is: 0.8158418605910207\n",
      "The R2 score for p1 CountVectorizer validation data is: 0.7409300107606831\n",
      "max_df: 7100\n",
      "The R2 score for p1 CountVectorizer training data is: 0.8158418605910207\n",
      "The R2 score for p1 CountVectorizer validation data is: 0.7409300107606831\n",
      "max_df: 8100\n",
      "The R2 score for p1 CountVectorizer training data is: 0.8158418605910207\n",
      "The R2 score for p1 CountVectorizer validation data is: 0.7409300107606831\n",
      "max_df: 9100\n",
      "The R2 score for p1 CountVectorizer training data is: 0.8158418605910207\n",
      "The R2 score for p1 CountVectorizer validation data is: 0.7409300107606831\n",
      "max_df: 10100\n",
      "The R2 score for p1 CountVectorizer training data is: 0.8158418605910207\n",
      "The R2 score for p1 CountVectorizer validation data is: 0.7409300107606831\n",
      "max_df: 11100\n",
      "The R2 score for p1 CountVectorizer training data is: 0.8158418605910207\n",
      "The R2 score for p1 CountVectorizer validation data is: 0.7409300107606831\n",
      "max_df: 12100\n",
      "The R2 score for p1 CountVectorizer training data is: 0.8158418605910207\n",
      "The R2 score for p1 CountVectorizer validation data is: 0.7409300107606831\n",
      "max_df: 13100\n",
      "The R2 score for p1 CountVectorizer training data is: 0.8158418605910207\n",
      "The R2 score for p1 CountVectorizer validation data is: 0.7409300107606831\n",
      "max_df: 14100\n",
      "The R2 score for p1 CountVectorizer training data is: 0.8158418605910207\n",
      "The R2 score for p1 CountVectorizer validation data is: 0.7409300107606831\n",
      "max_df: 15100\n",
      "The R2 score for p1 CountVectorizer training data is: 0.8158418605910207\n",
      "The R2 score for p1 CountVectorizer validation data is: 0.7409300107606831\n",
      "max_df: 16100\n",
      "The R2 score for p1 CountVectorizer training data is: 0.8158418605910207\n",
      "The R2 score for p1 CountVectorizer validation data is: 0.7409300107606831\n",
      "max_df: 17100\n",
      "The R2 score for p1 CountVectorizer training data is: 0.8158418605910207\n",
      "The R2 score for p1 CountVectorizer validation data is: 0.7409300107606831\n",
      "max_df: 18100\n",
      "The R2 score for p1 CountVectorizer training data is: 0.8158418605910207\n",
      "The R2 score for p1 CountVectorizer validation data is: 0.7409300107606831\n",
      "max_df: 19100\n",
      "The R2 score for p1 CountVectorizer training data is: 0.8158418605910207\n",
      "The R2 score for p1 CountVectorizer validation data is: 0.7409300107606831\n"
     ]
    }
   ],
   "source": [
    "for i in range(100,20000,1000):\n",
    "\n",
    "    bagofwords_p1 = CountVectorizer(stop_words='english', min_df=1, max_features=550, max_df=i)\n",
    "\n",
    "    bagofwords_p1.fit(X_remain[\"p1\"])\n",
    "\n",
    "    p1_remain_transform = bagofwords_p1.transform(X_remain[\"p1\"])\n",
    "    p1_val_transform = bagofwords_p1.transform(X_val[\"p1\"])\n",
    "    p1_test_transform = bagofwords_p1.transform(X_test[\"p1\"])\n",
    "\n",
    "    p1_model = LinearRegression()\n",
    "\n",
    "    p1_model.fit(p1_remain_transform, y_remain)\n",
    "\n",
    "    print(f'max_df: {i}')\n",
    "    print(f'The R2 score for p1 CountVectorizer training data is: {p1_model.score(p1_remain_transform, y_remain)}')\n",
    "    print(f'The R2 score for p1 CountVectorizer validation data is: {p1_model.score(p1_val_transform, y_val)}')"
   ]
  },
  {
   "cell_type": "markdown",
   "id": "81b1ed21",
   "metadata": {},
   "source": [
    "Stops improving around 4100. \n",
    "\n",
    "Testing with these parameters:"
   ]
  },
  {
   "cell_type": "code",
   "execution_count": 635,
   "id": "7bb3690d",
   "metadata": {},
   "outputs": [
    {
     "name": "stdout",
     "output_type": "stream",
     "text": [
      "The R2 score for p1 CountVectorizer training data is: 0.8158418605910207\n",
      "The R2 score for p1 CountVectorizer validation data is: 0.7409300107606831\n"
     ]
    }
   ],
   "source": [
    "bagofwords_p1 = CountVectorizer(stop_words='english', min_df=1, max_features=550, max_df=4500)\n",
    "\n",
    "bagofwords_p1.fit(X_remain[\"p1\"])\n",
    "\n",
    "p1_remain_transform = bagofwords_p1.transform(X_remain[\"p1\"])\n",
    "p1_val_transform = bagofwords_p1.transform(X_val[\"p1\"])\n",
    "p1_test_transform = bagofwords_p1.transform(X_test[\"p1\"])\n",
    "\n",
    "p1_model = LinearRegression()\n",
    "\n",
    "p1_model.fit(p1_remain_transform, y_remain)\n",
    "\n",
    "print(f'The R2 score for p1 CountVectorizer training data is: {p1_model.score(p1_remain_transform, y_remain)}')\n",
    "print(f'The R2 score for p1 CountVectorizer validation data is: {p1_model.score(p1_val_transform, y_val)}')"
   ]
  },
  {
   "cell_type": "markdown",
   "id": "6c3e0211",
   "metadata": {},
   "source": [
    "Doing similar thing with TFIDF:"
   ]
  },
  {
   "cell_type": "code",
   "execution_count": 640,
   "id": "3db4beca",
   "metadata": {},
   "outputs": [
    {
     "name": "stdout",
     "output_type": "stream",
     "text": [
      "min_df value: 1\n",
      "The R2 score for p3 TFIDF training data is: 0.81592625225169\n",
      "The R2 score for p3 TFIDF validation data is: 0.7381128517073058\n",
      "min_df value: 3\n",
      "The R2 score for p3 TFIDF training data is: 0.8154911834921937\n",
      "The R2 score for p3 TFIDF validation data is: 0.7357066420810723\n",
      "min_df value: 5\n",
      "The R2 score for p3 TFIDF training data is: 0.8151958947450861\n",
      "The R2 score for p3 TFIDF validation data is: 0.7372001258517663\n",
      "min_df value: 7\n",
      "The R2 score for p3 TFIDF training data is: 0.8154377265842551\n",
      "The R2 score for p3 TFIDF validation data is: 0.7360781773530345\n",
      "min_df value: 9\n",
      "The R2 score for p3 TFIDF training data is: 0.8154674556488584\n",
      "The R2 score for p3 TFIDF validation data is: 0.7376929364771404\n",
      "min_df value: 11\n",
      "The R2 score for p3 TFIDF training data is: 0.815511214837542\n",
      "The R2 score for p3 TFIDF validation data is: 0.7372749979752773\n",
      "min_df value: 13\n",
      "The R2 score for p3 TFIDF training data is: 0.8155395099602923\n",
      "The R2 score for p3 TFIDF validation data is: 0.7356988662819217\n",
      "min_df value: 15\n",
      "The R2 score for p3 TFIDF training data is: 0.8157654332805527\n",
      "The R2 score for p3 TFIDF validation data is: 0.7377628777129122\n",
      "min_df value: 17\n",
      "The R2 score for p3 TFIDF training data is: 0.815736683097856\n",
      "The R2 score for p3 TFIDF validation data is: 0.7367533043906097\n",
      "min_df value: 19\n",
      "The R2 score for p3 TFIDF training data is: 0.8156286610275046\n",
      "The R2 score for p3 TFIDF validation data is: 0.7374709257226578\n",
      "min_df value: 21\n",
      "The R2 score for p3 TFIDF training data is: 0.8159891972245055\n",
      "The R2 score for p3 TFIDF validation data is: 0.7376994651228537\n",
      "min_df value: 23\n",
      "The R2 score for p3 TFIDF training data is: 0.8152820558638589\n",
      "The R2 score for p3 TFIDF validation data is: 0.7354765468450776\n",
      "min_df value: 25\n",
      "The R2 score for p3 TFIDF training data is: 0.8106863217271004\n",
      "The R2 score for p3 TFIDF validation data is: 0.7324233715242902\n",
      "min_df value: 27\n",
      "The R2 score for p3 TFIDF training data is: 0.8059664785837803\n",
      "The R2 score for p3 TFIDF validation data is: 0.7389527004028499\n",
      "min_df value: 29\n",
      "The R2 score for p3 TFIDF training data is: 0.8010203478525137\n",
      "The R2 score for p3 TFIDF validation data is: 0.7370050241042572\n"
     ]
    }
   ],
   "source": [
    "for i in range(1,30,2):\n",
    "    \n",
    "    tfidf_p1 = TfidfVectorizer(stop_words='english', min_df=i, max_df=1000, max_features=500)\n",
    "\n",
    "    tfidf_p1.fit(X_remain[\"p1\"])\n",
    "\n",
    "    tp1_remain_transform = tfidf_p1.transform(X_remain[\"p1\"])\n",
    "    tp1_val_transform = tfidf_p1.transform(X_val[\"p1\"])\n",
    "    tp1_test_transform = tfidf_p1.transform(X_test[\"p1\"])\n",
    "\n",
    "    tp1_model = LinearRegression()\n",
    "\n",
    "    tp1_model.fit(tp1_remain_transform, y_remain)\n",
    "\n",
    "    print(f'min_df value: {i}')\n",
    "    print(f'The R2 score for p3 TFIDF training data is: {tp1_model.score(tp1_remain_transform, y_remain)}')\n",
    "    print(f'The R2 score for p3 TFIDF validation data is: {tp1_model.score(tp1_val_transform, y_val)}')"
   ]
  },
  {
   "cell_type": "markdown",
   "id": "2c86c4e3",
   "metadata": {},
   "source": [
    "This one also seems to do better with lower min_df value.\n",
    "\n",
    "Experimenting with max_features:"
   ]
  },
  {
   "cell_type": "code",
   "execution_count": 642,
   "id": "c3c0624b",
   "metadata": {},
   "outputs": [
    {
     "name": "stdout",
     "output_type": "stream",
     "text": [
      "max_features value: 1\n",
      "The R2 score for p3 TFIDF training data is: 0.025146583223369712\n",
      "The R2 score for p3 TFIDF validation data is: 0.014159491772634758\n",
      "max_features value: 101\n",
      "The R2 score for p3 TFIDF training data is: 0.6255532485254598\n",
      "The R2 score for p3 TFIDF validation data is: 0.5947609919363476\n",
      "max_features value: 201\n",
      "The R2 score for p3 TFIDF training data is: 0.6882654682145494\n",
      "The R2 score for p3 TFIDF validation data is: 0.6549450235502456\n",
      "max_features value: 301\n",
      "The R2 score for p3 TFIDF training data is: 0.7318341071054175\n",
      "The R2 score for p3 TFIDF validation data is: 0.6886396025167947\n",
      "max_features value: 401\n",
      "The R2 score for p3 TFIDF training data is: 0.7856603416209352\n",
      "The R2 score for p3 TFIDF validation data is: 0.7291414109443438\n",
      "max_features value: 501\n",
      "The R2 score for p3 TFIDF training data is: 0.816067529189566\n",
      "The R2 score for p3 TFIDF validation data is: 0.7375991423920538\n",
      "max_features value: 601\n",
      "The R2 score for p3 TFIDF training data is: 0.8324275365060032\n",
      "The R2 score for p3 TFIDF validation data is: 0.7336284340806007\n",
      "max_features value: 701\n",
      "The R2 score for p3 TFIDF training data is: 0.8474878318509631\n",
      "The R2 score for p3 TFIDF validation data is: 0.7077116973087478\n",
      "max_features value: 801\n",
      "The R2 score for p3 TFIDF training data is: 0.8567768199755242\n",
      "The R2 score for p3 TFIDF validation data is: 0.7003469245345637\n",
      "max_features value: 901\n",
      "The R2 score for p3 TFIDF training data is: 0.8650421731438732\n",
      "The R2 score for p3 TFIDF validation data is: 0.7044329302115556\n"
     ]
    }
   ],
   "source": [
    "for i in range(1,1000,100):\n",
    "    \n",
    "    tfidf_p1 = TfidfVectorizer(stop_words='english', min_df=1, max_features=i, max_df=1000)\n",
    "\n",
    "    tfidf_p1.fit(X_remain[\"p1\"])\n",
    "\n",
    "    tp1_remain_transform = tfidf_p1.transform(X_remain[\"p1\"])\n",
    "    tp1_val_transform = tfidf_p1.transform(X_val[\"p1\"])\n",
    "    tp1_test_transform = tfidf_p1.transform(X_test[\"p1\"])\n",
    "\n",
    "    tp1_model = LinearRegression()\n",
    "\n",
    "    tp1_model.fit(tp1_remain_transform, y_remain)\n",
    "\n",
    "    print(f'max_features value: {i}')\n",
    "    print(f'The R2 score for p3 TFIDF training data is: {tp1_model.score(tp1_remain_transform, y_remain)}')\n",
    "    print(f'The R2 score for p3 TFIDF validation data is: {tp1_model.score(tp1_val_transform, y_val)}')"
   ]
  },
  {
   "cell_type": "markdown",
   "id": "d5134edc",
   "metadata": {},
   "source": [
    "This one also seems to peak around 500.\n",
    "\n",
    "Exploring max_df:"
   ]
  },
  {
   "cell_type": "code",
   "execution_count": 643,
   "id": "b738d2a8",
   "metadata": {},
   "outputs": [
    {
     "name": "stdout",
     "output_type": "stream",
     "text": [
      "max_df value: 1000\n",
      "The R2 score for p3 TFIDF training data is: 0.8248144084175266\n",
      "The R2 score for p3 TFIDF validation data is: 0.7370180742269337\n",
      "max_df value: 1500\n",
      "The R2 score for p3 TFIDF training data is: 0.8322591664386849\n",
      "The R2 score for p3 TFIDF validation data is: 0.749357811282411\n",
      "max_df value: 2000\n",
      "The R2 score for p3 TFIDF training data is: 0.8313197625120955\n",
      "The R2 score for p3 TFIDF validation data is: 0.7518167676229126\n",
      "max_df value: 2500\n",
      "The R2 score for p3 TFIDF training data is: 0.8345954199916161\n",
      "The R2 score for p3 TFIDF validation data is: 0.7526934447614977\n",
      "max_df value: 3000\n",
      "The R2 score for p3 TFIDF training data is: 0.835018896921154\n",
      "The R2 score for p3 TFIDF validation data is: 0.7564003124161833\n",
      "max_df value: 3500\n",
      "The R2 score for p3 TFIDF training data is: 0.8353937842654713\n",
      "The R2 score for p3 TFIDF validation data is: 0.7582774282953104\n",
      "max_df value: 4000\n",
      "The R2 score for p3 TFIDF training data is: 0.8367144278133779\n",
      "The R2 score for p3 TFIDF validation data is: 0.7618058245152186\n",
      "max_df value: 4500\n",
      "The R2 score for p3 TFIDF training data is: 0.8367144278133779\n",
      "The R2 score for p3 TFIDF validation data is: 0.7618058245152186\n",
      "max_df value: 5000\n",
      "The R2 score for p3 TFIDF training data is: 0.8367144278133779\n",
      "The R2 score for p3 TFIDF validation data is: 0.7618058245152186\n",
      "max_df value: 5500\n",
      "The R2 score for p3 TFIDF training data is: 0.8367144278133779\n",
      "The R2 score for p3 TFIDF validation data is: 0.7618058245152186\n",
      "max_df value: 6000\n",
      "The R2 score for p3 TFIDF training data is: 0.8367144278133779\n",
      "The R2 score for p3 TFIDF validation data is: 0.7618058245152186\n",
      "max_df value: 6500\n",
      "The R2 score for p3 TFIDF training data is: 0.8367144278133779\n",
      "The R2 score for p3 TFIDF validation data is: 0.7618058245152186\n",
      "max_df value: 7000\n",
      "The R2 score for p3 TFIDF training data is: 0.8367144278133779\n",
      "The R2 score for p3 TFIDF validation data is: 0.7618058245152186\n",
      "max_df value: 7500\n",
      "The R2 score for p3 TFIDF training data is: 0.8367144278133779\n",
      "The R2 score for p3 TFIDF validation data is: 0.7618058245152186\n",
      "max_df value: 8000\n",
      "The R2 score for p3 TFIDF training data is: 0.8367144278133779\n",
      "The R2 score for p3 TFIDF validation data is: 0.7618058245152186\n",
      "max_df value: 8500\n",
      "The R2 score for p3 TFIDF training data is: 0.8367144278133779\n",
      "The R2 score for p3 TFIDF validation data is: 0.7618058245152186\n",
      "max_df value: 9000\n",
      "The R2 score for p3 TFIDF training data is: 0.8367144278133779\n",
      "The R2 score for p3 TFIDF validation data is: 0.7618058245152186\n",
      "max_df value: 9500\n",
      "The R2 score for p3 TFIDF training data is: 0.8367144278133779\n",
      "The R2 score for p3 TFIDF validation data is: 0.7618058245152186\n"
     ]
    }
   ],
   "source": [
    "for i in range(1000,10000,500):\n",
    "    \n",
    "    tfidf_p1 = TfidfVectorizer(stop_words='english', min_df=1, max_features=550, max_df=i)\n",
    "\n",
    "    tfidf_p1.fit(X_remain[\"p1\"])\n",
    "\n",
    "    tp1_remain_transform = tfidf_p1.transform(X_remain[\"p1\"])\n",
    "    tp1_val_transform = tfidf_p1.transform(X_val[\"p1\"])\n",
    "    tp1_test_transform = tfidf_p1.transform(X_test[\"p1\"])\n",
    "\n",
    "    tp1_model = LinearRegression()\n",
    "\n",
    "    tp1_model.fit(tp1_remain_transform, y_remain)\n",
    "\n",
    "    print(f'max_df value: {i}')\n",
    "    print(f'The R2 score for p3 TFIDF training data is: {tp1_model.score(tp1_remain_transform, y_remain)}')\n",
    "    print(f'The R2 score for p3 TFIDF validation data is: {tp1_model.score(tp1_val_transform, y_val)}')"
   ]
  },
  {
   "cell_type": "markdown",
   "id": "f1887d37",
   "metadata": {},
   "source": [
    "This one seems to peak around 4000.\n",
    "\n",
    "Comparing best versions:"
   ]
  },
  {
   "cell_type": "code",
   "execution_count": 644,
   "id": "155e1a3b",
   "metadata": {},
   "outputs": [
    {
     "name": "stdout",
     "output_type": "stream",
     "text": [
      "The R2 score for p1 CountVectorizer training data is: 0.8158418605910207\n",
      "The R2 score for p1 CountVectorizer validation data is: 0.7409300107606831\n"
     ]
    }
   ],
   "source": [
    "bagofwords_p1 = CountVectorizer(stop_words='english', min_df=1, max_features=550, max_df=4500)\n",
    "\n",
    "bagofwords_p1.fit(X_remain[\"p1\"])\n",
    "\n",
    "p1_remain_transform = bagofwords_p1.transform(X_remain[\"p1\"])\n",
    "p1_val_transform = bagofwords_p1.transform(X_val[\"p1\"])\n",
    "p1_test_transform = bagofwords_p1.transform(X_test[\"p1\"])\n",
    "\n",
    "p1_model = LinearRegression()\n",
    "\n",
    "p1_model.fit(p1_remain_transform, y_remain)\n",
    "\n",
    "print(f'The R2 score for p1 CountVectorizer training data is: {p1_model.score(p1_remain_transform, y_remain)}')\n",
    "print(f'The R2 score for p1 CountVectorizer validation data is: {p1_model.score(p1_val_transform, y_val)}')"
   ]
  },
  {
   "cell_type": "code",
   "execution_count": 647,
   "id": "5ca4d578",
   "metadata": {},
   "outputs": [
    {
     "name": "stdout",
     "output_type": "stream",
     "text": [
      "The R2 score for p3 TFIDF training data is: 0.8367144278133779\n",
      "The R2 score for p3 TFIDF validation data is: 0.7618058245152186\n"
     ]
    }
   ],
   "source": [
    "tfidf_p1 = TfidfVectorizer(stop_words='english', min_df=1, max_features=550, max_df=4500)\n",
    "\n",
    "tfidf_p1.fit(X_remain[\"p1\"])\n",
    "\n",
    "tp1_remain_transform = tfidf_p1.transform(X_remain[\"p1\"])\n",
    "tp1_val_transform = tfidf_p1.transform(X_val[\"p1\"])\n",
    "tp1_test_transform = tfidf_p1.transform(X_test[\"p1\"])\n",
    "\n",
    "tp1_model = LinearRegression()\n",
    "\n",
    "tp1_model.fit(tp1_remain_transform, y_remain)\n",
    "\n",
    "print(f'The R2 score for p3 TFIDF training data is: {tp1_model.score(tp1_remain_transform, y_remain)}')\n",
    "print(f'The R2 score for p3 TFIDF validation data is: {tp1_model.score(tp1_val_transform, y_val)}')"
   ]
  },
  {
   "cell_type": "markdown",
   "id": "0a66153c",
   "metadata": {},
   "source": [
    "Between the two, the tfidf does slightly better on these initial test runs."
   ]
  },
  {
   "cell_type": "code",
   "execution_count": null,
   "id": "13a30ed9",
   "metadata": {},
   "outputs": [],
   "source": []
  }
 ],
 "metadata": {
  "kernelspec": {
   "display_name": "capstone",
   "language": "python",
   "name": "capstone"
  },
  "language_info": {
   "codemirror_mode": {
    "name": "ipython",
    "version": 3
   },
   "file_extension": ".py",
   "mimetype": "text/x-python",
   "name": "python",
   "nbconvert_exporter": "python",
   "pygments_lexer": "ipython3",
   "version": "3.8.13"
  }
 },
 "nbformat": 4,
 "nbformat_minor": 5
}
